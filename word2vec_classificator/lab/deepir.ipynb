{
 "cells": [
  {
   "cell_type": "markdown",
   "metadata": {},
   "source": [
    "## Deep Inverse Regression with Yelp reviews\n",
    "\n",
    "In this note we'll use [gensim](http://radimrehurek.com/gensim/) to turn the Word2Vec machinery into a document classifier, as in [Document Classification by Inversion of Distributed Language Representations](http://arxiv.org/pdf/1504.07295v3) from ACL 2015."
   ]
  },
  {
   "cell_type": "markdown",
   "metadata": {},
   "source": [
    "### Data and prep"
   ]
  },
  {
   "cell_type": "markdown",
   "metadata": {},
   "source": [
    "First, download to the same directory as this note the data from the [Yelp recruiting contest](https://www.kaggle.com/c/yelp-recruiting) on [kaggle](https://www.kaggle.com/):\n",
    "* https://www.kaggle.com/c/yelp-recruiting/download/yelp_training_set.zip\n",
    "* https://www.kaggle.com/c/yelp-recruiting/download/yelp_test_set.zip\n",
    "\n",
    "You'll need to sign-up for kaggle.\n",
    "\n"
   ]
  },
  {
   "cell_type": "markdown",
   "metadata": {},
   "source": [
    "You can then unpack the data and grab the information we need.  "
   ]
  },
  {
   "cell_type": "code",
   "execution_count": 8,
   "metadata": {
    "collapsed": true
   },
   "outputs": [],
   "source": [
    "# ### uncomment below if you want...\n",
    "# ## ... copious amounts of logging info\n",
    "import logging\n",
    "logging.basicConfig(format='%(asctime)s : %(levelname)s : %(message)s', level=logging.INFO)\n",
    "rootLogger = logging.getLogger()\n",
    "rootLogger.setLevel(logging.INFO)\n",
    "# ## ... or auto-reload of gensim during development\n",
    "# %load_ext autoreload\n",
    "# %autoreload 2"
   ]
  },
  {
   "cell_type": "markdown",
   "metadata": {},
   "source": [
    "First, we define a super simple parser"
   ]
  },
  {
   "cell_type": "code",
   "execution_count": 1,
   "metadata": {
    "collapsed": false
   },
   "outputs": [],
   "source": [
    "import re\n",
    "contractions = re.compile(r\"'|-|\\\"\")\n",
    "# all non alphanumeric\n",
    "symbols = re.compile(r'(\\W+)', re.U)\n",
    "# single character removal\n",
    "singles = re.compile(r'(\\s\\S\\s)', re.I|re.U)\n",
    "# separators (any whitespace)\n",
    "seps = re.compile(r'\\s+')\n",
    "\n",
    "# cleaner (order matters)\n",
    "def clean(text): \n",
    "    text = text.lower()\n",
    "    text = contractions.sub('', text)\n",
    "    text = symbols.sub(r' \\1 ', text)\n",
    "    text = singles.sub(' ', text)\n",
    "    text = seps.sub(' ', text)\n",
    "    return text\n",
    "\n",
    "# sentence splitter\n",
    "alteos = re.compile(r'([!\\?])')\n",
    "def sentences(l):\n",
    "    l = alteos.sub(r' \\1 .', l).rstrip(\"(\\.)*\\n\")\n",
    "    return l.split(\".\")"
   ]
  },
  {
   "cell_type": "markdown",
   "metadata": {},
   "source": [
    "And put everything together in a review generator that provides tokenized sentences and the number of stars for every review."
   ]
  },
  {
   "cell_type": "code",
   "execution_count": 2,
   "metadata": {
    "collapsed": true
   },
   "outputs": [],
   "source": [
    "from zipfile import ZipFile\n",
    "import json\n",
    "\n",
    "def YelpReviews(label):\n",
    "    with ZipFile(\"yelp_%s_set.zip\"%label, 'r') as zf:\n",
    "        with zf.open(\"yelp_%s_set/yelp_%s_set_review.json\"%(label,label)) as f:\n",
    "            for line in f:\n",
    "                rev = json.loads(line)\n",
    "                yield {'y':rev['stars'],\\\n",
    "                       'x':[clean(s).split() for s in sentences(rev['text'])]}"
   ]
  },
  {
   "cell_type": "markdown",
   "metadata": {},
   "source": [
    "For example:"
   ]
  },
  {
   "cell_type": "code",
   "execution_count": 3,
   "metadata": {
    "collapsed": false,
    "scrolled": false
   },
   "outputs": [
    {
     "data": {
      "text/plain": [
       "{'x': [[u'nice', u'place', u'big', u'patio'],\n",
       "  [u'now', u'offering', u'live', u'sketch', u'comedy'],\n",
       "  [u'wednesday',\n",
       "   u'november',\n",
       "   u'17th',\n",
       "   u'see',\n",
       "   u'local',\n",
       "   u'troupe',\n",
       "   u'th',\n",
       "   u'sic',\n",
       "   u'sense',\n",
       "   u'in',\n",
       "   u'their',\n",
       "   u'2nd',\n",
       "   u'annual',\n",
       "   u'holiday',\n",
       "   u'show'],\n",
       "  [u'lighter', u'snappier', u'take', u'on', u'the', u'holiday', u'times'],\n",
       "  [u'not', u'for', u'the', u'easily', u'offended'],\n",
       "  [u'sketches',\n",
       "   u'include',\n",
       "   u'the',\n",
       "   u'scariest',\n",
       "   u'holloween',\n",
       "   u'costume',\n",
       "   u'the',\n",
       "   u'first',\n",
       "   u'thanksgiving',\n",
       "   u'and',\n",
       "   u'who',\n",
       "   u'shot',\n",
       "   u'santa',\n",
       "   u'claus'],\n",
       "  [u'as',\n",
       "   u'well',\n",
       "   u'as',\n",
       "   u'the',\n",
       "   u'infectious',\n",
       "   u'song',\n",
       "   u'mama',\n",
       "   u'christmas']],\n",
       " 'y': 5}"
      ]
     },
     "execution_count": 3,
     "metadata": {},
     "output_type": "execute_result"
    }
   ],
   "source": [
    "YelpReviews(\"test\").next()"
   ]
  },
  {
   "cell_type": "markdown",
   "metadata": {},
   "source": [
    "Now, since the files are small we'll just read everything into in-memory lists.  It takes a minute ..."
   ]
  },
  {
   "cell_type": "code",
   "execution_count": 4,
   "metadata": {
    "collapsed": false
   },
   "outputs": [
    {
     "name": "stdout",
     "output_type": "stream",
     "text": [
      "229907 training reviews\n"
     ]
    }
   ],
   "source": [
    "revtrain = list(YelpReviews(\"training\"))\n",
    "print len(revtrain), \"training reviews\"\n",
    "\n",
    "## and shuffle just in case they are ordered\n",
    "import numpy as np\n",
    "np.random.shuffle(revtrain)"
   ]
  },
  {
   "cell_type": "markdown",
   "metadata": {},
   "source": [
    "Finally, write a function to generate sentences -- ordered lists of words -- from reviews that have certain star ratings"
   ]
  },
  {
   "cell_type": "code",
   "execution_count": 5,
   "metadata": {
    "collapsed": false
   },
   "outputs": [],
   "source": [
    "def StarSentences(reviews, stars=[1,2,3,4,5]):\n",
    "    for r in reviews:\n",
    "        if r['y'] in stars:\n",
    "            for s in r['x']:\n",
    "                yield s"
   ]
  },
  {
   "cell_type": "markdown",
   "metadata": {},
   "source": [
    "### Word2Vec modeling"
   ]
  },
  {
   "cell_type": "markdown",
   "metadata": {},
   "source": [
    "We fit out-of-the-box Word2Vec"
   ]
  },
  {
   "cell_type": "code",
   "execution_count": 10,
   "metadata": {
    "collapsed": false
   },
   "outputs": [
    {
     "name": "stdout",
     "output_type": "stream",
     "text": [
      "Word2Vec(vocab=0, size=100, alpha=0.025)\n"
     ]
    }
   ],
   "source": [
    "from gensim.models import Word2Vec\n",
    "import multiprocessing\n",
    "\n",
    "## create a w2v learner \n",
    "basemodel = Word2Vec(\n",
    "    workers=multiprocessing.cpu_count(), # use your cores\n",
    "    iter=3, # iter = sweeps of SGD through the data; more is better\n",
    "    hs=1, negative=0 # we only have scoring for the hierarchical softmax setup\n",
    "    )\n",
    "print basemodel"
   ]
  },
  {
   "cell_type": "markdown",
   "metadata": {},
   "source": [
    "Build vocab from all sentences (you could also pre-train the base model from a neutral or un-labeled vocabulary)"
   ]
  },
  {
   "cell_type": "code",
   "execution_count": 11,
   "metadata": {
    "collapsed": false
   },
   "outputs": [
    {
     "name": "stderr",
     "output_type": "stream",
     "text": [
      "2017-02-05 22:07:26,010 : INFO : collecting all words and their counts\n",
      "2017-02-05 22:07:26,011 : INFO : PROGRESS: at sentence #0, processed 0 words, keeping 0 word types\n",
      "2017-02-05 22:07:26,044 : INFO : PROGRESS: at sentence #10000, processed 107230 words, keeping 9212 word types\n",
      "2017-02-05 22:07:26,078 : INFO : PROGRESS: at sentence #20000, processed 212439 words, keeping 13398 word types\n",
      "2017-02-05 22:07:26,112 : INFO : PROGRESS: at sentence #30000, processed 316929 words, keeping 16558 word types\n",
      "2017-02-05 22:07:26,145 : INFO : PROGRESS: at sentence #40000, processed 424862 words, keeping 19173 word types\n",
      "2017-02-05 22:07:26,179 : INFO : PROGRESS: at sentence #50000, processed 532325 words, keeping 21442 word types\n",
      "2017-02-05 22:07:26,214 : INFO : PROGRESS: at sentence #60000, processed 639265 words, keeping 23410 word types\n",
      "2017-02-05 22:07:26,250 : INFO : PROGRESS: at sentence #70000, processed 745729 words, keeping 25239 word types\n",
      "2017-02-05 22:07:26,289 : INFO : PROGRESS: at sentence #80000, processed 856824 words, keeping 26912 word types\n",
      "2017-02-05 22:07:26,327 : INFO : PROGRESS: at sentence #90000, processed 965948 words, keeping 28485 word types\n",
      "2017-02-05 22:07:26,364 : INFO : PROGRESS: at sentence #100000, processed 1076681 words, keeping 30065 word types\n",
      "2017-02-05 22:07:26,404 : INFO : PROGRESS: at sentence #110000, processed 1180734 words, keeping 31447 word types\n",
      "2017-02-05 22:07:26,439 : INFO : PROGRESS: at sentence #120000, processed 1286063 words, keeping 32802 word types\n",
      "2017-02-05 22:07:26,478 : INFO : PROGRESS: at sentence #130000, processed 1393992 words, keeping 34125 word types\n",
      "2017-02-05 22:07:26,510 : INFO : PROGRESS: at sentence #140000, processed 1500934 words, keeping 35298 word types\n",
      "2017-02-05 22:07:26,545 : INFO : PROGRESS: at sentence #150000, processed 1609599 words, keeping 36592 word types\n",
      "2017-02-05 22:07:26,578 : INFO : PROGRESS: at sentence #160000, processed 1717397 words, keeping 37793 word types\n",
      "2017-02-05 22:07:26,609 : INFO : PROGRESS: at sentence #170000, processed 1823076 words, keeping 38945 word types\n",
      "2017-02-05 22:07:26,640 : INFO : PROGRESS: at sentence #180000, processed 1930131 words, keeping 40026 word types\n",
      "2017-02-05 22:07:26,674 : INFO : PROGRESS: at sentence #190000, processed 2036688 words, keeping 41044 word types\n",
      "2017-02-05 22:07:26,707 : INFO : PROGRESS: at sentence #200000, processed 2140119 words, keeping 42083 word types\n",
      "2017-02-05 22:07:26,740 : INFO : PROGRESS: at sentence #210000, processed 2247846 words, keeping 43144 word types\n",
      "2017-02-05 22:07:26,774 : INFO : PROGRESS: at sentence #220000, processed 2352379 words, keeping 44077 word types\n",
      "2017-02-05 22:07:26,809 : INFO : PROGRESS: at sentence #230000, processed 2458484 words, keeping 45108 word types\n",
      "2017-02-05 22:07:26,843 : INFO : PROGRESS: at sentence #240000, processed 2566964 words, keeping 46064 word types\n",
      "2017-02-05 22:07:26,877 : INFO : PROGRESS: at sentence #250000, processed 2674439 words, keeping 47015 word types\n",
      "2017-02-05 22:07:26,912 : INFO : PROGRESS: at sentence #260000, processed 2779749 words, keeping 47878 word types\n",
      "2017-02-05 22:07:26,947 : INFO : PROGRESS: at sentence #270000, processed 2888927 words, keeping 48815 word types\n",
      "2017-02-05 22:07:26,981 : INFO : PROGRESS: at sentence #280000, processed 2996008 words, keeping 49668 word types\n",
      "2017-02-05 22:07:27,016 : INFO : PROGRESS: at sentence #290000, processed 3100621 words, keeping 50550 word types\n",
      "2017-02-05 22:07:27,049 : INFO : PROGRESS: at sentence #300000, processed 3209382 words, keeping 51412 word types\n",
      "2017-02-05 22:07:27,082 : INFO : PROGRESS: at sentence #310000, processed 3313020 words, keeping 52234 word types\n",
      "2017-02-05 22:07:27,116 : INFO : PROGRESS: at sentence #320000, processed 3422528 words, keeping 53073 word types\n",
      "2017-02-05 22:07:27,151 : INFO : PROGRESS: at sentence #330000, processed 3528507 words, keeping 53876 word types\n",
      "2017-02-05 22:07:27,188 : INFO : PROGRESS: at sentence #340000, processed 3635517 words, keeping 54707 word types\n",
      "2017-02-05 22:07:27,224 : INFO : PROGRESS: at sentence #350000, processed 3745041 words, keeping 55522 word types\n",
      "2017-02-05 22:07:27,260 : INFO : PROGRESS: at sentence #360000, processed 3852798 words, keeping 56258 word types\n",
      "2017-02-05 22:07:27,300 : INFO : PROGRESS: at sentence #370000, processed 3962655 words, keeping 57066 word types\n",
      "2017-02-05 22:07:27,336 : INFO : PROGRESS: at sentence #380000, processed 4067379 words, keeping 57812 word types\n",
      "2017-02-05 22:07:27,372 : INFO : PROGRESS: at sentence #390000, processed 4177014 words, keeping 58570 word types\n",
      "2017-02-05 22:07:27,406 : INFO : PROGRESS: at sentence #400000, processed 4286777 words, keeping 59264 word types\n",
      "2017-02-05 22:07:27,441 : INFO : PROGRESS: at sentence #410000, processed 4392620 words, keeping 59997 word types\n",
      "2017-02-05 22:07:27,476 : INFO : PROGRESS: at sentence #420000, processed 4500076 words, keeping 60681 word types\n",
      "2017-02-05 22:07:27,510 : INFO : PROGRESS: at sentence #430000, processed 4602267 words, keeping 61442 word types\n",
      "2017-02-05 22:07:27,546 : INFO : PROGRESS: at sentence #440000, processed 4709253 words, keeping 62153 word types\n",
      "2017-02-05 22:07:27,584 : INFO : PROGRESS: at sentence #450000, processed 4818926 words, keeping 62984 word types\n",
      "2017-02-05 22:07:27,626 : INFO : PROGRESS: at sentence #460000, processed 4929844 words, keeping 63650 word types\n",
      "2017-02-05 22:07:27,668 : INFO : PROGRESS: at sentence #470000, processed 5035009 words, keeping 64356 word types\n",
      "2017-02-05 22:07:27,716 : INFO : PROGRESS: at sentence #480000, processed 5141771 words, keeping 65050 word types\n",
      "2017-02-05 22:07:27,754 : INFO : PROGRESS: at sentence #490000, processed 5245731 words, keeping 65724 word types\n",
      "2017-02-05 22:07:27,797 : INFO : PROGRESS: at sentence #500000, processed 5353633 words, keeping 66360 word types\n",
      "2017-02-05 22:07:27,835 : INFO : PROGRESS: at sentence #510000, processed 5455887 words, keeping 66992 word types\n",
      "2017-02-05 22:07:27,876 : INFO : PROGRESS: at sentence #520000, processed 5560425 words, keeping 67638 word types\n",
      "2017-02-05 22:07:27,917 : INFO : PROGRESS: at sentence #530000, processed 5667409 words, keeping 68266 word types\n",
      "2017-02-05 22:07:27,953 : INFO : PROGRESS: at sentence #540000, processed 5769913 words, keeping 68946 word types\n",
      "2017-02-05 22:07:27,982 : INFO : PROGRESS: at sentence #550000, processed 5877417 words, keeping 69559 word types\n",
      "2017-02-05 22:07:28,016 : INFO : PROGRESS: at sentence #560000, processed 5986326 words, keeping 70197 word types\n",
      "2017-02-05 22:07:28,051 : INFO : PROGRESS: at sentence #570000, processed 6091991 words, keeping 70853 word types\n",
      "2017-02-05 22:07:28,086 : INFO : PROGRESS: at sentence #580000, processed 6199938 words, keeping 71517 word types\n",
      "2017-02-05 22:07:28,122 : INFO : PROGRESS: at sentence #590000, processed 6306009 words, keeping 72188 word types\n",
      "2017-02-05 22:07:28,157 : INFO : PROGRESS: at sentence #600000, processed 6415760 words, keeping 72843 word types\n",
      "2017-02-05 22:07:28,195 : INFO : PROGRESS: at sentence #610000, processed 6522541 words, keeping 73462 word types\n",
      "2017-02-05 22:07:28,230 : INFO : PROGRESS: at sentence #620000, processed 6628053 words, keeping 73970 word types\n",
      "2017-02-05 22:07:28,265 : INFO : PROGRESS: at sentence #630000, processed 6732304 words, keeping 74575 word types\n",
      "2017-02-05 22:07:28,301 : INFO : PROGRESS: at sentence #640000, processed 6840358 words, keeping 75235 word types\n",
      "2017-02-05 22:07:28,337 : INFO : PROGRESS: at sentence #650000, processed 6945391 words, keeping 75845 word types\n",
      "2017-02-05 22:07:28,378 : INFO : PROGRESS: at sentence #660000, processed 7048165 words, keeping 76450 word types\n",
      "2017-02-05 22:07:28,420 : INFO : PROGRESS: at sentence #670000, processed 7155116 words, keeping 77032 word types\n",
      "2017-02-05 22:07:28,462 : INFO : PROGRESS: at sentence #680000, processed 7262376 words, keeping 77660 word types\n",
      "2017-02-05 22:07:28,504 : INFO : PROGRESS: at sentence #690000, processed 7367107 words, keeping 78213 word types\n",
      "2017-02-05 22:07:28,546 : INFO : PROGRESS: at sentence #700000, processed 7476282 words, keeping 78732 word types\n",
      "2017-02-05 22:07:28,584 : INFO : PROGRESS: at sentence #710000, processed 7580042 words, keeping 79287 word types\n",
      "2017-02-05 22:07:28,622 : INFO : PROGRESS: at sentence #720000, processed 7683204 words, keeping 79848 word types\n",
      "2017-02-05 22:07:28,656 : INFO : PROGRESS: at sentence #730000, processed 7792907 words, keeping 80411 word types\n",
      "2017-02-05 22:07:28,690 : INFO : PROGRESS: at sentence #740000, processed 7901759 words, keeping 80951 word types\n",
      "2017-02-05 22:07:28,722 : INFO : PROGRESS: at sentence #750000, processed 8007454 words, keeping 81512 word types\n",
      "2017-02-05 22:07:28,757 : INFO : PROGRESS: at sentence #760000, processed 8114598 words, keeping 82022 word types\n",
      "2017-02-05 22:07:28,793 : INFO : PROGRESS: at sentence #770000, processed 8220374 words, keeping 82583 word types\n",
      "2017-02-05 22:07:28,829 : INFO : PROGRESS: at sentence #780000, processed 8326873 words, keeping 83125 word types\n",
      "2017-02-05 22:07:28,862 : INFO : PROGRESS: at sentence #790000, processed 8434275 words, keeping 83690 word types\n",
      "2017-02-05 22:07:28,897 : INFO : PROGRESS: at sentence #800000, processed 8540232 words, keeping 84257 word types\n",
      "2017-02-05 22:07:28,933 : INFO : PROGRESS: at sentence #810000, processed 8647977 words, keeping 84828 word types\n",
      "2017-02-05 22:07:28,976 : INFO : PROGRESS: at sentence #820000, processed 8757421 words, keeping 85289 word types\n",
      "2017-02-05 22:07:29,020 : INFO : PROGRESS: at sentence #830000, processed 8861562 words, keeping 85841 word types\n",
      "2017-02-05 22:07:29,063 : INFO : PROGRESS: at sentence #840000, processed 8971027 words, keeping 86350 word types\n",
      "2017-02-05 22:07:29,101 : INFO : PROGRESS: at sentence #850000, processed 9077972 words, keeping 86873 word types\n",
      "2017-02-05 22:07:29,147 : INFO : PROGRESS: at sentence #860000, processed 9186459 words, keeping 87417 word types\n",
      "2017-02-05 22:07:29,198 : INFO : PROGRESS: at sentence #870000, processed 9293396 words, keeping 87932 word types\n",
      "2017-02-05 22:07:29,241 : INFO : PROGRESS: at sentence #880000, processed 9402577 words, keeping 88439 word types\n",
      "2017-02-05 22:07:29,284 : INFO : PROGRESS: at sentence #890000, processed 9511948 words, keeping 88981 word types\n",
      "2017-02-05 22:07:29,321 : INFO : PROGRESS: at sentence #900000, processed 9617820 words, keeping 89484 word types\n",
      "2017-02-05 22:07:29,360 : INFO : PROGRESS: at sentence #910000, processed 9724190 words, keeping 89940 word types\n",
      "2017-02-05 22:07:29,396 : INFO : PROGRESS: at sentence #920000, processed 9829089 words, keeping 90443 word types\n",
      "2017-02-05 22:07:29,434 : INFO : PROGRESS: at sentence #930000, processed 9936408 words, keeping 90960 word types\n",
      "2017-02-05 22:07:29,471 : INFO : PROGRESS: at sentence #940000, processed 10040226 words, keeping 91434 word types\n",
      "2017-02-05 22:07:29,508 : INFO : PROGRESS: at sentence #950000, processed 10148350 words, keeping 91867 word types\n",
      "2017-02-05 22:07:29,542 : INFO : PROGRESS: at sentence #960000, processed 10257720 words, keeping 92353 word types\n",
      "2017-02-05 22:07:29,582 : INFO : PROGRESS: at sentence #970000, processed 10365430 words, keeping 92872 word types\n",
      "2017-02-05 22:07:29,617 : INFO : PROGRESS: at sentence #980000, processed 10476047 words, keeping 93343 word types\n",
      "2017-02-05 22:07:29,658 : INFO : PROGRESS: at sentence #990000, processed 10584020 words, keeping 93806 word types\n",
      "2017-02-05 22:07:29,706 : INFO : PROGRESS: at sentence #1000000, processed 10690100 words, keeping 94280 word types\n",
      "2017-02-05 22:07:29,752 : INFO : PROGRESS: at sentence #1010000, processed 10798375 words, keeping 94751 word types\n",
      "2017-02-05 22:07:29,798 : INFO : PROGRESS: at sentence #1020000, processed 10905364 words, keeping 95283 word types\n",
      "2017-02-05 22:07:29,849 : INFO : PROGRESS: at sentence #1030000, processed 11010094 words, keeping 95771 word types\n",
      "2017-02-05 22:07:29,904 : INFO : PROGRESS: at sentence #1040000, processed 11117560 words, keeping 96278 word types\n",
      "2017-02-05 22:07:29,958 : INFO : PROGRESS: at sentence #1050000, processed 11221443 words, keeping 96723 word types\n",
      "2017-02-05 22:07:30,020 : INFO : PROGRESS: at sentence #1060000, processed 11328102 words, keeping 97272 word types\n",
      "2017-02-05 22:07:30,071 : INFO : PROGRESS: at sentence #1070000, processed 11434756 words, keeping 97744 word types\n",
      "2017-02-05 22:07:30,114 : INFO : PROGRESS: at sentence #1080000, processed 11539817 words, keeping 98211 word types\n",
      "2017-02-05 22:07:30,168 : INFO : PROGRESS: at sentence #1090000, processed 11643499 words, keeping 98666 word types\n",
      "2017-02-05 22:07:30,220 : INFO : PROGRESS: at sentence #1100000, processed 11754283 words, keeping 99153 word types\n",
      "2017-02-05 22:07:30,272 : INFO : PROGRESS: at sentence #1110000, processed 11862545 words, keeping 99571 word types\n",
      "2017-02-05 22:07:30,329 : INFO : PROGRESS: at sentence #1120000, processed 11970575 words, keeping 100041 word types\n",
      "2017-02-05 22:07:30,380 : INFO : PROGRESS: at sentence #1130000, processed 12078110 words, keeping 100476 word types\n",
      "2017-02-05 22:07:30,423 : INFO : PROGRESS: at sentence #1140000, processed 12185134 words, keeping 100932 word types\n",
      "2017-02-05 22:07:30,467 : INFO : PROGRESS: at sentence #1150000, processed 12292336 words, keeping 101453 word types\n",
      "2017-02-05 22:07:30,501 : INFO : PROGRESS: at sentence #1160000, processed 12395207 words, keeping 101860 word types\n",
      "2017-02-05 22:07:30,536 : INFO : PROGRESS: at sentence #1170000, processed 12502002 words, keeping 102361 word types\n",
      "2017-02-05 22:07:30,568 : INFO : PROGRESS: at sentence #1180000, processed 12607230 words, keeping 102816 word types\n",
      "2017-02-05 22:07:30,604 : INFO : PROGRESS: at sentence #1190000, processed 12712515 words, keeping 103257 word types\n",
      "2017-02-05 22:07:30,640 : INFO : PROGRESS: at sentence #1200000, processed 12814539 words, keeping 103655 word types\n",
      "2017-02-05 22:07:30,682 : INFO : PROGRESS: at sentence #1210000, processed 12922773 words, keeping 104081 word types\n",
      "2017-02-05 22:07:30,716 : INFO : PROGRESS: at sentence #1220000, processed 13026578 words, keeping 104517 word types\n",
      "2017-02-05 22:07:30,749 : INFO : PROGRESS: at sentence #1230000, processed 13131529 words, keeping 104921 word types\n",
      "2017-02-05 22:07:30,786 : INFO : PROGRESS: at sentence #1240000, processed 13241971 words, keeping 105351 word types\n",
      "2017-02-05 22:07:30,819 : INFO : PROGRESS: at sentence #1250000, processed 13347094 words, keeping 105807 word types\n",
      "2017-02-05 22:07:30,855 : INFO : PROGRESS: at sentence #1260000, processed 13453043 words, keeping 106230 word types\n",
      "2017-02-05 22:07:30,896 : INFO : PROGRESS: at sentence #1270000, processed 13563706 words, keeping 106710 word types\n",
      "2017-02-05 22:07:30,929 : INFO : PROGRESS: at sentence #1280000, processed 13670372 words, keeping 107125 word types\n",
      "2017-02-05 22:07:30,967 : INFO : PROGRESS: at sentence #1290000, processed 13778244 words, keeping 107567 word types\n",
      "2017-02-05 22:07:30,999 : INFO : PROGRESS: at sentence #1300000, processed 13883680 words, keeping 108020 word types\n",
      "2017-02-05 22:07:31,031 : INFO : PROGRESS: at sentence #1310000, processed 13991081 words, keeping 108506 word types\n",
      "2017-02-05 22:07:31,062 : INFO : PROGRESS: at sentence #1320000, processed 14095086 words, keeping 108935 word types\n",
      "2017-02-05 22:07:31,094 : INFO : PROGRESS: at sentence #1330000, processed 14202994 words, keeping 109428 word types\n",
      "2017-02-05 22:07:31,125 : INFO : PROGRESS: at sentence #1340000, processed 14309549 words, keeping 109929 word types\n",
      "2017-02-05 22:07:31,157 : INFO : PROGRESS: at sentence #1350000, processed 14419002 words, keeping 110376 word types\n",
      "2017-02-05 22:07:31,188 : INFO : PROGRESS: at sentence #1360000, processed 14525939 words, keeping 110779 word types\n",
      "2017-02-05 22:07:31,218 : INFO : PROGRESS: at sentence #1370000, processed 14629483 words, keeping 111221 word types\n",
      "2017-02-05 22:07:31,250 : INFO : PROGRESS: at sentence #1380000, processed 14737732 words, keeping 111653 word types\n",
      "2017-02-05 22:07:31,282 : INFO : PROGRESS: at sentence #1390000, processed 14845623 words, keeping 112046 word types\n",
      "2017-02-05 22:07:31,312 : INFO : PROGRESS: at sentence #1400000, processed 14952570 words, keeping 112501 word types\n",
      "2017-02-05 22:07:31,344 : INFO : PROGRESS: at sentence #1410000, processed 15056996 words, keeping 112920 word types\n",
      "2017-02-05 22:07:31,376 : INFO : PROGRESS: at sentence #1420000, processed 15165632 words, keeping 113378 word types\n",
      "2017-02-05 22:07:31,408 : INFO : PROGRESS: at sentence #1430000, processed 15278580 words, keeping 113849 word types\n",
      "2017-02-05 22:07:31,438 : INFO : PROGRESS: at sentence #1440000, processed 15382535 words, keeping 114259 word types\n",
      "2017-02-05 22:07:31,470 : INFO : PROGRESS: at sentence #1450000, processed 15486595 words, keeping 114666 word types\n",
      "2017-02-05 22:07:31,507 : INFO : PROGRESS: at sentence #1460000, processed 15595080 words, keeping 115128 word types\n",
      "2017-02-05 22:07:31,548 : INFO : PROGRESS: at sentence #1470000, processed 15701496 words, keeping 115558 word types\n",
      "2017-02-05 22:07:31,597 : INFO : PROGRESS: at sentence #1480000, processed 15810527 words, keeping 115944 word types\n",
      "2017-02-05 22:07:31,642 : INFO : PROGRESS: at sentence #1490000, processed 15916068 words, keeping 116328 word types\n",
      "2017-02-05 22:07:31,684 : INFO : PROGRESS: at sentence #1500000, processed 16022494 words, keeping 116742 word types\n",
      "2017-02-05 22:07:31,730 : INFO : PROGRESS: at sentence #1510000, processed 16127504 words, keeping 117192 word types\n",
      "2017-02-05 22:07:31,769 : INFO : PROGRESS: at sentence #1520000, processed 16229119 words, keeping 117608 word types\n",
      "2017-02-05 22:07:31,800 : INFO : PROGRESS: at sentence #1530000, processed 16331058 words, keeping 117992 word types\n",
      "2017-02-05 22:07:31,834 : INFO : PROGRESS: at sentence #1540000, processed 16441505 words, keeping 118402 word types\n",
      "2017-02-05 22:07:31,865 : INFO : PROGRESS: at sentence #1550000, processed 16552000 words, keeping 118765 word types\n",
      "2017-02-05 22:07:31,897 : INFO : PROGRESS: at sentence #1560000, processed 16658165 words, keeping 119180 word types\n",
      "2017-02-05 22:07:31,929 : INFO : PROGRESS: at sentence #1570000, processed 16762306 words, keeping 119582 word types\n",
      "2017-02-05 22:07:31,962 : INFO : PROGRESS: at sentence #1580000, processed 16870048 words, keeping 119990 word types\n",
      "2017-02-05 22:07:31,994 : INFO : PROGRESS: at sentence #1590000, processed 16976728 words, keeping 120379 word types\n",
      "2017-02-05 22:07:32,027 : INFO : PROGRESS: at sentence #1600000, processed 17083123 words, keeping 120796 word types\n",
      "2017-02-05 22:07:32,059 : INFO : PROGRESS: at sentence #1610000, processed 17189927 words, keeping 121149 word types\n",
      "2017-02-05 22:07:32,091 : INFO : PROGRESS: at sentence #1620000, processed 17294382 words, keeping 121525 word types\n",
      "2017-02-05 22:07:32,123 : INFO : PROGRESS: at sentence #1630000, processed 17399034 words, keeping 121956 word types\n",
      "2017-02-05 22:07:32,155 : INFO : PROGRESS: at sentence #1640000, processed 17506121 words, keeping 122359 word types\n",
      "2017-02-05 22:07:32,189 : INFO : PROGRESS: at sentence #1650000, processed 17613174 words, keeping 122743 word types\n",
      "2017-02-05 22:07:32,232 : INFO : PROGRESS: at sentence #1660000, processed 17721072 words, keeping 123123 word types\n",
      "2017-02-05 22:07:32,274 : INFO : PROGRESS: at sentence #1670000, processed 17827149 words, keeping 123516 word types\n",
      "2017-02-05 22:07:32,321 : INFO : PROGRESS: at sentence #1680000, processed 17934455 words, keeping 123903 word types\n",
      "2017-02-05 22:07:32,367 : INFO : PROGRESS: at sentence #1690000, processed 18036115 words, keeping 124310 word types\n",
      "2017-02-05 22:07:32,413 : INFO : PROGRESS: at sentence #1700000, processed 18140839 words, keeping 124667 word types\n",
      "2017-02-05 22:07:32,452 : INFO : PROGRESS: at sentence #1710000, processed 18246326 words, keeping 125000 word types\n",
      "2017-02-05 22:07:32,497 : INFO : PROGRESS: at sentence #1720000, processed 18354620 words, keeping 125306 word types\n",
      "2017-02-05 22:07:32,546 : INFO : PROGRESS: at sentence #1730000, processed 18462661 words, keeping 125650 word types\n",
      "2017-02-05 22:07:32,590 : INFO : PROGRESS: at sentence #1740000, processed 18568463 words, keeping 126018 word types\n",
      "2017-02-05 22:07:32,634 : INFO : PROGRESS: at sentence #1750000, processed 18673430 words, keeping 126399 word types\n",
      "2017-02-05 22:07:32,678 : INFO : PROGRESS: at sentence #1760000, processed 18783456 words, keeping 126811 word types\n",
      "2017-02-05 22:07:32,725 : INFO : PROGRESS: at sentence #1770000, processed 18889881 words, keeping 127158 word types\n",
      "2017-02-05 22:07:32,770 : INFO : PROGRESS: at sentence #1780000, processed 18998034 words, keeping 127515 word types\n",
      "2017-02-05 22:07:32,811 : INFO : PROGRESS: at sentence #1790000, processed 19109249 words, keeping 127904 word types\n",
      "2017-02-05 22:07:32,852 : INFO : PROGRESS: at sentence #1800000, processed 19214822 words, keeping 128251 word types\n",
      "2017-02-05 22:07:32,887 : INFO : PROGRESS: at sentence #1810000, processed 19323198 words, keeping 128591 word types\n",
      "2017-02-05 22:07:32,924 : INFO : PROGRESS: at sentence #1820000, processed 19431575 words, keeping 128963 word types\n",
      "2017-02-05 22:07:32,962 : INFO : PROGRESS: at sentence #1830000, processed 19537783 words, keeping 129345 word types\n",
      "2017-02-05 22:07:32,999 : INFO : PROGRESS: at sentence #1840000, processed 19646330 words, keeping 129692 word types\n",
      "2017-02-05 22:07:33,045 : INFO : PROGRESS: at sentence #1850000, processed 19753478 words, keeping 130064 word types\n",
      "2017-02-05 22:07:33,087 : INFO : PROGRESS: at sentence #1860000, processed 19858442 words, keeping 130421 word types\n",
      "2017-02-05 22:07:33,130 : INFO : PROGRESS: at sentence #1870000, processed 19965936 words, keeping 130790 word types\n",
      "2017-02-05 22:07:33,169 : INFO : PROGRESS: at sentence #1880000, processed 20072601 words, keeping 131139 word types\n",
      "2017-02-05 22:07:33,213 : INFO : PROGRESS: at sentence #1890000, processed 20180513 words, keeping 131526 word types\n",
      "2017-02-05 22:07:33,257 : INFO : PROGRESS: at sentence #1900000, processed 20288855 words, keeping 131902 word types\n",
      "2017-02-05 22:07:33,293 : INFO : PROGRESS: at sentence #1910000, processed 20393226 words, keeping 132285 word types\n",
      "2017-02-05 22:07:33,328 : INFO : PROGRESS: at sentence #1920000, processed 20500731 words, keeping 132666 word types\n",
      "2017-02-05 22:07:33,362 : INFO : PROGRESS: at sentence #1930000, processed 20604766 words, keeping 133028 word types\n",
      "2017-02-05 22:07:33,394 : INFO : PROGRESS: at sentence #1940000, processed 20710344 words, keeping 133362 word types\n",
      "2017-02-05 22:07:33,431 : INFO : PROGRESS: at sentence #1950000, processed 20817059 words, keeping 133706 word types\n",
      "2017-02-05 22:07:33,467 : INFO : PROGRESS: at sentence #1960000, processed 20921185 words, keeping 134051 word types\n",
      "2017-02-05 22:07:33,505 : INFO : PROGRESS: at sentence #1970000, processed 21027521 words, keeping 134446 word types\n",
      "2017-02-05 22:07:33,547 : INFO : PROGRESS: at sentence #1980000, processed 21132138 words, keeping 134802 word types\n",
      "2017-02-05 22:07:33,583 : INFO : PROGRESS: at sentence #1990000, processed 21236054 words, keeping 135197 word types\n",
      "2017-02-05 22:07:33,619 : INFO : PROGRESS: at sentence #2000000, processed 21345265 words, keeping 135575 word types\n",
      "2017-02-05 22:07:33,654 : INFO : PROGRESS: at sentence #2010000, processed 21451957 words, keeping 135902 word types\n",
      "2017-02-05 22:07:33,690 : INFO : PROGRESS: at sentence #2020000, processed 21560158 words, keeping 136243 word types\n",
      "2017-02-05 22:07:33,723 : INFO : PROGRESS: at sentence #2030000, processed 21670351 words, keeping 136606 word types\n",
      "2017-02-05 22:07:33,763 : INFO : PROGRESS: at sentence #2040000, processed 21777959 words, keeping 136952 word types\n",
      "2017-02-05 22:07:33,802 : INFO : PROGRESS: at sentence #2050000, processed 21885814 words, keeping 137367 word types\n",
      "2017-02-05 22:07:33,846 : INFO : PROGRESS: at sentence #2060000, processed 21993465 words, keeping 137735 word types\n",
      "2017-02-05 22:07:33,887 : INFO : PROGRESS: at sentence #2070000, processed 22102237 words, keeping 138063 word types\n",
      "2017-02-05 22:07:33,930 : INFO : PROGRESS: at sentence #2080000, processed 22208725 words, keeping 138385 word types\n",
      "2017-02-05 22:07:33,969 : INFO : PROGRESS: at sentence #2090000, processed 22316242 words, keeping 138717 word types\n",
      "2017-02-05 22:07:34,011 : INFO : PROGRESS: at sentence #2100000, processed 22425621 words, keeping 139072 word types\n",
      "2017-02-05 22:07:34,052 : INFO : PROGRESS: at sentence #2110000, processed 22533823 words, keeping 139477 word types\n",
      "2017-02-05 22:07:34,095 : INFO : PROGRESS: at sentence #2120000, processed 22641610 words, keeping 139818 word types\n",
      "2017-02-05 22:07:34,134 : INFO : PROGRESS: at sentence #2130000, processed 22743680 words, keeping 140177 word types\n",
      "2017-02-05 22:07:34,176 : INFO : PROGRESS: at sentence #2140000, processed 22853051 words, keeping 140513 word types\n",
      "2017-02-05 22:07:34,215 : INFO : PROGRESS: at sentence #2150000, processed 22958856 words, keeping 140871 word types\n",
      "2017-02-05 22:07:34,259 : INFO : PROGRESS: at sentence #2160000, processed 23063524 words, keeping 141239 word types\n",
      "2017-02-05 22:07:34,316 : INFO : PROGRESS: at sentence #2170000, processed 23174212 words, keeping 141586 word types\n",
      "2017-02-05 22:07:34,363 : INFO : PROGRESS: at sentence #2180000, processed 23276636 words, keeping 141925 word types\n",
      "2017-02-05 22:07:34,415 : INFO : PROGRESS: at sentence #2190000, processed 23382352 words, keeping 142250 word types\n",
      "2017-02-05 22:07:34,478 : INFO : PROGRESS: at sentence #2200000, processed 23490186 words, keeping 142603 word types\n",
      "2017-02-05 22:07:34,519 : INFO : PROGRESS: at sentence #2210000, processed 23594762 words, keeping 142962 word types\n",
      "2017-02-05 22:07:34,574 : INFO : PROGRESS: at sentence #2220000, processed 23700787 words, keeping 143272 word types\n",
      "2017-02-05 22:07:34,629 : INFO : PROGRESS: at sentence #2230000, processed 23803767 words, keeping 143600 word types\n",
      "2017-02-05 22:07:34,674 : INFO : PROGRESS: at sentence #2240000, processed 23907373 words, keeping 143962 word types\n",
      "2017-02-05 22:07:34,717 : INFO : PROGRESS: at sentence #2250000, processed 24013968 words, keeping 144314 word types\n",
      "2017-02-05 22:07:34,762 : INFO : PROGRESS: at sentence #2260000, processed 24118341 words, keeping 144644 word types\n",
      "2017-02-05 22:07:34,804 : INFO : PROGRESS: at sentence #2270000, processed 24225326 words, keeping 144979 word types\n",
      "2017-02-05 22:07:34,847 : INFO : PROGRESS: at sentence #2280000, processed 24331909 words, keeping 145335 word types\n",
      "2017-02-05 22:07:34,892 : INFO : PROGRESS: at sentence #2290000, processed 24439151 words, keeping 145707 word types\n",
      "2017-02-05 22:07:34,934 : INFO : PROGRESS: at sentence #2300000, processed 24545462 words, keeping 146045 word types\n",
      "2017-02-05 22:07:34,977 : INFO : PROGRESS: at sentence #2310000, processed 24651430 words, keeping 146400 word types\n",
      "2017-02-05 22:07:35,019 : INFO : PROGRESS: at sentence #2320000, processed 24760406 words, keeping 146777 word types\n",
      "2017-02-05 22:07:35,071 : INFO : PROGRESS: at sentence #2330000, processed 24860143 words, keeping 147172 word types\n",
      "2017-02-05 22:07:35,126 : INFO : PROGRESS: at sentence #2340000, processed 24965042 words, keeping 147503 word types\n",
      "2017-02-05 22:07:35,167 : INFO : PROGRESS: at sentence #2350000, processed 25071372 words, keeping 147836 word types\n",
      "2017-02-05 22:07:35,209 : INFO : PROGRESS: at sentence #2360000, processed 25178558 words, keeping 148181 word types\n",
      "2017-02-05 22:07:35,246 : INFO : PROGRESS: at sentence #2370000, processed 25286759 words, keeping 148530 word types\n",
      "2017-02-05 22:07:35,285 : INFO : PROGRESS: at sentence #2380000, processed 25393835 words, keeping 148871 word types\n",
      "2017-02-05 22:07:35,326 : INFO : PROGRESS: at sentence #2390000, processed 25501829 words, keeping 149182 word types\n",
      "2017-02-05 22:07:35,359 : INFO : PROGRESS: at sentence #2400000, processed 25608536 words, keeping 149490 word types\n",
      "2017-02-05 22:07:35,399 : INFO : PROGRESS: at sentence #2410000, processed 25714881 words, keeping 149826 word types\n",
      "2017-02-05 22:07:35,433 : INFO : PROGRESS: at sentence #2420000, processed 25818067 words, keeping 150149 word types\n",
      "2017-02-05 22:07:35,466 : INFO : PROGRESS: at sentence #2430000, processed 25924262 words, keeping 150459 word types\n",
      "2017-02-05 22:07:35,501 : INFO : PROGRESS: at sentence #2440000, processed 26028293 words, keeping 150768 word types\n",
      "2017-02-05 22:07:35,537 : INFO : PROGRESS: at sentence #2450000, processed 26136755 words, keeping 151067 word types\n",
      "2017-02-05 22:07:35,570 : INFO : PROGRESS: at sentence #2460000, processed 26240983 words, keeping 151368 word types\n",
      "2017-02-05 22:07:35,606 : INFO : PROGRESS: at sentence #2470000, processed 26348011 words, keeping 151710 word types\n",
      "2017-02-05 22:07:35,643 : INFO : PROGRESS: at sentence #2480000, processed 26458522 words, keeping 152055 word types\n",
      "2017-02-05 22:07:35,678 : INFO : PROGRESS: at sentence #2490000, processed 26563808 words, keeping 152391 word types\n",
      "2017-02-05 22:07:35,715 : INFO : PROGRESS: at sentence #2500000, processed 26671323 words, keeping 152720 word types\n",
      "2017-02-05 22:07:35,755 : INFO : PROGRESS: at sentence #2510000, processed 26777915 words, keeping 153075 word types\n",
      "2017-02-05 22:07:35,795 : INFO : PROGRESS: at sentence #2520000, processed 26887802 words, keeping 153425 word types\n",
      "2017-02-05 22:07:35,838 : INFO : PROGRESS: at sentence #2530000, processed 26993161 words, keeping 153758 word types\n",
      "2017-02-05 22:07:35,881 : INFO : PROGRESS: at sentence #2540000, processed 27102341 words, keeping 154102 word types\n",
      "2017-02-05 22:07:35,945 : INFO : PROGRESS: at sentence #2550000, processed 27207886 words, keeping 154434 word types\n",
      "2017-02-05 22:07:35,996 : INFO : PROGRESS: at sentence #2560000, processed 27312871 words, keeping 154772 word types\n",
      "2017-02-05 22:07:36,037 : INFO : PROGRESS: at sentence #2570000, processed 27420396 words, keeping 155125 word types\n",
      "2017-02-05 22:07:36,082 : INFO : PROGRESS: at sentence #2580000, processed 27527929 words, keeping 155492 word types\n",
      "2017-02-05 22:07:36,126 : INFO : PROGRESS: at sentence #2590000, processed 27636046 words, keeping 155863 word types\n",
      "2017-02-05 22:07:36,169 : INFO : PROGRESS: at sentence #2600000, processed 27742821 words, keeping 156176 word types\n",
      "2017-02-05 22:07:36,210 : INFO : PROGRESS: at sentence #2610000, processed 27849694 words, keeping 156501 word types\n",
      "2017-02-05 22:07:36,248 : INFO : PROGRESS: at sentence #2620000, processed 27959615 words, keeping 156834 word types\n",
      "2017-02-05 22:07:36,288 : INFO : PROGRESS: at sentence #2630000, processed 28064815 words, keeping 157222 word types\n",
      "2017-02-05 22:07:36,328 : INFO : PROGRESS: at sentence #2640000, processed 28173137 words, keeping 157572 word types\n",
      "2017-02-05 22:07:36,371 : INFO : PROGRESS: at sentence #2650000, processed 28282464 words, keeping 157885 word types\n",
      "2017-02-05 22:07:36,411 : INFO : PROGRESS: at sentence #2660000, processed 28388486 words, keeping 158192 word types\n",
      "2017-02-05 22:07:36,423 : INFO : collected 158249 word types from a corpus of 28411943 raw words and 2662235 sentences\n",
      "2017-02-05 22:07:36,632 : INFO : min_count=5 retains 42447 unique words (drops 115802)\n",
      "2017-02-05 22:07:36,633 : INFO : min_count leaves 28245083 word corpus (99% of original 28411943)\n",
      "2017-02-05 22:07:36,740 : INFO : deleting the raw counts dictionary of 158249 items\n",
      "2017-02-05 22:07:36,750 : INFO : sample=0.001 downsamples 54 most-common words\n",
      "2017-02-05 22:07:36,751 : INFO : downsampling leaves estimated 21770626 word corpus (77.1% of prior 28245083)\n",
      "2017-02-05 22:07:36,751 : INFO : estimated required memory for 42447 words and 100 dimensions: 63670500 bytes\n",
      "2017-02-05 22:07:36,831 : INFO : constructing a huffman tree from 42447 words\n",
      "2017-02-05 22:07:38,181 : INFO : built huffman tree with maximum node depth 22\n",
      "2017-02-05 22:07:38,192 : INFO : resetting layer weights\n"
     ]
    }
   ],
   "source": [
    "basemodel.build_vocab(StarSentences(revtrain))"
   ]
  },
  {
   "cell_type": "markdown",
   "metadata": {},
   "source": [
    "Now, we will _deep_ copy each base model and do star-specific training. This is where the big computations happen..."
   ]
  },
  {
   "cell_type": "code",
   "execution_count": null,
   "metadata": {
    "collapsed": false
   },
   "outputs": [
    {
     "name": "stderr",
     "output_type": "stream",
     "text": [
      "2017-02-05 22:09:25,878 : INFO : training model with 8 workers on 42447 vocabulary and 100 features, using sg=0 hs=1 sample=0.001 negative=0\n"
     ]
    },
    {
     "name": "stdout",
     "output_type": "stream",
     "text": [
      "1 stars ( 246207 )\n"
     ]
    },
    {
     "name": "stderr",
     "output_type": "stream",
     "text": [
      "2017-02-05 22:09:26,887 : INFO : PROGRESS: at 14.94% examples, 901145 words/s, in_qsize 16, out_qsize 0\n",
      "2017-02-05 22:09:27,902 : INFO : PROGRESS: at 30.87% examples, 923905 words/s, in_qsize 15, out_qsize 0\n",
      "2017-02-05 22:09:28,903 : INFO : PROGRESS: at 46.94% examples, 941009 words/s, in_qsize 15, out_qsize 0\n",
      "2017-02-05 22:09:29,910 : INFO : PROGRESS: at 62.36% examples, 936723 words/s, in_qsize 14, out_qsize 2\n",
      "2017-02-05 22:09:30,917 : INFO : PROGRESS: at 78.28% examples, 941828 words/s, in_qsize 15, out_qsize 0\n",
      "2017-02-05 22:09:31,922 : INFO : PROGRESS: at 93.81% examples, 940544 words/s, in_qsize 15, out_qsize 2\n",
      "2017-02-05 22:09:32,231 : INFO : worker thread finished; awaiting finish of 7 more threads\n",
      "2017-02-05 22:09:32,232 : INFO : worker thread finished; awaiting finish of 6 more threads\n",
      "2017-02-05 22:09:32,254 : INFO : worker thread finished; awaiting finish of 5 more threads\n",
      "2017-02-05 22:09:32,262 : INFO : worker thread finished; awaiting finish of 4 more threads\n",
      "2017-02-05 22:09:32,263 : INFO : worker thread finished; awaiting finish of 3 more threads\n",
      "2017-02-05 22:09:32,267 : INFO : worker thread finished; awaiting finish of 2 more threads\n",
      "2017-02-05 22:09:32,268 : INFO : worker thread finished; awaiting finish of 1 more threads\n",
      "2017-02-05 22:09:32,269 : INFO : worker thread finished; awaiting finish of 0 more threads\n",
      "2017-02-05 22:09:32,269 : INFO : training on 7869078 raw words (6056006 effective words) took 6.4s, 947817 effective words/s\n",
      "2017-02-05 22:09:32,364 : INFO : training model with 8 workers on 42447 vocabulary and 100 features, using sg=0 hs=1 sample=0.001 negative=0\n"
     ]
    },
    {
     "name": "stdout",
     "output_type": "stream",
     "text": [
      "2 stars ( 295371 )\n"
     ]
    },
    {
     "name": "stderr",
     "output_type": "stream",
     "text": [
      "2017-02-05 22:09:33,381 : INFO : PROGRESS: at 12.15% examples, 882041 words/s, in_qsize 16, out_qsize 1\n",
      "2017-02-05 22:09:34,394 : INFO : PROGRESS: at 23.59% examples, 852523 words/s, in_qsize 14, out_qsize 1\n",
      "2017-02-05 22:09:35,415 : INFO : PROGRESS: at 36.44% examples, 877880 words/s, in_qsize 14, out_qsize 2\n",
      "2017-02-05 22:09:36,423 : INFO : PROGRESS: at 49.19% examples, 887906 words/s, in_qsize 15, out_qsize 0\n",
      "2017-02-05 22:09:37,421 : INFO : PROGRESS: at 61.99% examples, 897221 words/s, in_qsize 15, out_qsize 2\n",
      "2017-02-05 22:09:38,435 : INFO : PROGRESS: at 75.20% examples, 906171 words/s, in_qsize 13, out_qsize 2\n",
      "2017-02-05 22:09:39,441 : INFO : PROGRESS: at 88.07% examples, 909193 words/s, in_qsize 15, out_qsize 0\n",
      "2017-02-05 22:09:40,315 : INFO : worker thread finished; awaiting finish of 7 more threads\n",
      "2017-02-05 22:09:40,316 : INFO : worker thread finished; awaiting finish of 6 more threads\n",
      "2017-02-05 22:09:40,318 : INFO : worker thread finished; awaiting finish of 5 more threads\n",
      "2017-02-05 22:09:40,319 : INFO : worker thread finished; awaiting finish of 4 more threads\n",
      "2017-02-05 22:09:40,333 : INFO : worker thread finished; awaiting finish of 3 more threads\n",
      "2017-02-05 22:09:40,333 : INFO : worker thread finished; awaiting finish of 2 more threads\n",
      "2017-02-05 22:09:40,337 : INFO : worker thread finished; awaiting finish of 1 more threads\n",
      "2017-02-05 22:09:40,338 : INFO : worker thread finished; awaiting finish of 0 more threads\n",
      "2017-02-05 22:09:40,339 : INFO : training on 9536514 raw words (7299597 effective words) took 8.0s, 916546 effective words/s\n",
      "2017-02-05 22:09:40,439 : INFO : training model with 8 workers on 42447 vocabulary and 100 features, using sg=0 hs=1 sample=0.001 negative=0\n"
     ]
    },
    {
     "name": "stdout",
     "output_type": "stream",
     "text": [
      "3 stars ( 437718 )\n"
     ]
    },
    {
     "name": "stderr",
     "output_type": "stream",
     "text": [
      "2017-02-05 22:09:41,453 : INFO : PROGRESS: at 8.11% examples, 883334 words/s, in_qsize 15, out_qsize 2\n",
      "2017-02-05 22:09:42,476 : INFO : PROGRESS: at 17.00% examples, 923463 words/s, in_qsize 14, out_qsize 2\n",
      "2017-02-05 22:09:43,482 : INFO : PROGRESS: at 25.22% examples, 914370 words/s, in_qsize 13, out_qsize 2\n",
      "2017-02-05 22:09:44,482 : INFO : PROGRESS: at 33.21% examples, 905272 words/s, in_qsize 15, out_qsize 3\n",
      "2017-02-05 22:09:45,491 : INFO : PROGRESS: at 41.88% examples, 912087 words/s, in_qsize 14, out_qsize 1\n",
      "2017-02-05 22:09:46,495 : INFO : PROGRESS: at 50.56% examples, 920057 words/s, in_qsize 16, out_qsize 0\n",
      "2017-02-05 22:09:47,505 : INFO : PROGRESS: at 59.26% examples, 923374 words/s, in_qsize 15, out_qsize 0\n",
      "2017-02-05 22:09:48,511 : INFO : PROGRESS: at 67.90% examples, 925586 words/s, in_qsize 15, out_qsize 0\n"
     ]
    }
   ],
   "source": [
    "from copy import deepcopy\n",
    "starmodels = [deepcopy(basemodel) for i in range(5)]\n",
    "for i in range(5):\n",
    "    slist = list(StarSentences(revtrain, [i+1]))\n",
    "    print i+1, \"stars (\", len(slist), \")\"\n",
    "    starmodels[i].train(  slist, total_examples=len(slist) )"
   ]
  },
  {
   "cell_type": "markdown",
   "metadata": {},
   "source": [
    "### Inversion of the distributed representations\n",
    "\n",
    "At this point, we have 5 different word2vec language representations.  Each 'model' has been trained conditional (i.e., limited to) text from a specific star rating.  We will apply Bayes rule to go from _p(text|stars)_ to _p(stars|text)_."
   ]
  },
  {
   "cell_type": "markdown",
   "metadata": {},
   "source": [
    "For any new sentence we can obtain its _likelihood_ (lhd; actually, the composite likelihood approximation; see the paper) using the [score](https://radimrehurek.com/gensim/models/word2vec.html#gensim.models.word2vec.Word2Vec.score) function in the `word2vec` class.  We get the likelihood for each sentence in the first test review, then convert to a probability over star ratings. Every sentence in the review is evaluated separately and the final star rating of the review is an average vote of all the sentences. This is all in the following handy wrapper."
   ]
  },
  {
   "cell_type": "code",
   "execution_count": 10,
   "metadata": {
    "collapsed": false
   },
   "outputs": [],
   "source": [
    "\"\"\"\n",
    "docprob takes two lists\n",
    "* docs: a list of documents, each of which is a list of sentences\n",
    "* models: the candidate word2vec models (each potential class)\n",
    "\n",
    "it returns the array of class probabilities.  Everything is done in-memory.\n",
    "\"\"\"\n",
    "\n",
    "import pandas as pd # for quick summing within doc\n",
    "\n",
    "def docprob(docs, mods):\n",
    "    # score() takes a list [s] of sentences here; could also be a sentence generator\n",
    "    sentlist = [s for d in docs for s in d]\n",
    "    # the log likelihood of each sentence in this review under each w2v representation\n",
    "    llhd = np.array( [ m.score(sentlist, len(sentlist)) for m in mods ] )\n",
    "    # now exponentiate to get likelihoods, \n",
    "    lhd = np.exp(llhd - llhd.max(axis=0)) # subtract row max to avoid numeric overload\n",
    "    # normalize across models (stars) to get sentence-star probabilities\n",
    "    prob = pd.DataFrame( (lhd/lhd.sum(axis=0)).transpose() )\n",
    "    # and finally average the sentence probabilities to get the review probability\n",
    "    prob[\"doc\"] = [i for i,d in enumerate(docs) for s in d]\n",
    "    prob = prob.groupby(\"doc\").mean()\n",
    "    return prob"
   ]
  },
  {
   "cell_type": "markdown",
   "metadata": {},
   "source": [
    "#### Test set example\n",
    "\n",
    "As an example, we apply the inversion on the full test set.  "
   ]
  },
  {
   "cell_type": "code",
   "execution_count": 11,
   "metadata": {
    "collapsed": true
   },
   "outputs": [],
   "source": [
    "# read in the test set\n",
    "revtest = list(YelpReviews(\"test\"))"
   ]
  },
  {
   "cell_type": "code",
   "execution_count": 12,
   "metadata": {
    "collapsed": false
   },
   "outputs": [],
   "source": [
    "# get the probs (note we give docprob a list of lists of words, plus the models)\n",
    "probs = docprob( [r['x'] for r in revtest], starmodels )"
   ]
  },
  {
   "cell_type": "code",
   "execution_count": 13,
   "metadata": {
    "collapsed": false,
    "scrolled": true
   },
   "outputs": [
    {
     "data": {
      "text/plain": [
       "<matplotlib.axes._subplots.AxesSubplot at 0x7fd972141150>"
      ]
     },
     "execution_count": 13,
     "metadata": {},
     "output_type": "execute_result"
    },
    {
     "data": {
      "image/png": "[encoded data removed]",
      "text/plain": [
       "<matplotlib.figure.Figure at 0x7fd972141f50>"
      ]
     },
     "metadata": {},
     "output_type": "display_data"
    }
   ],
   "source": [
    "%matplotlib inline\n",
    "\n",
    "probpos = pd.DataFrame({\"out-of-sample prob positive\":probs[[3,4]].sum(axis=1), \n",
    "                        \"true stars\":[r['y'] for r in revtest]})\n",
    "probpos.boxplot(\"out-of-sample prob positive\",by=\"true stars\", figsize=(12,5))"
   ]
  }
 ],
 "metadata": {
  "kernelspec": {
   "display_name": "Python 2",
   "language": "python",
   "name": "python2"
  },
  "language_info": {
   "codemirror_mode": {
    "name": "ipython",
    "version": 2.0
   },
   "file_extension": ".py",
   "mimetype": "text/x-python",
   "name": "python",
   "nbconvert_exporter": "python",
   "pygments_lexer": "ipython2",
   "version": "2.7.8"
  }
 },
 "nbformat": 4,
 "nbformat_minor": 0
}