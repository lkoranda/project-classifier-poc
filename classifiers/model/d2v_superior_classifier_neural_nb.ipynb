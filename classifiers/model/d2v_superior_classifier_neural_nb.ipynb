{
 "cells": [
  {
   "cell_type": "code",
   "execution_count": 1,
   "metadata": {
    "collapsed": false,
    "scrolled": false
   },
   "outputs": [],
   "source": [
    "# functional demonstration of use of the two-layered neural network classifier \n",
    "# for classification on doc2vec docs vectors\n",
    "\n",
    "# inspired by\n",
    "# https://deeplearning4j.org/word2vec.html\n",
    "# https://deeplearning4j.org/welldressed-recommendation-engine\n",
    "# https://www.tensorflow.org/get_started/tflearn\n",
    "# http://scikit-learn.org/stable/modules/cross_validation.html\n",
    "\n",
    "# author Michal Stefanik  mistefan  at  redhat dot com\n",
    "\n",
    "import numpy as np\n",
    "import pandas as pd\n",
    "import random\n",
    "\n",
    "import tensorflow as tf\n",
    "from tensorflow.contrib.learn.python.learn.estimators.estimator import SKCompat\n",
    "\n",
    "from sklearn.metrics import accuracy_score\n",
    "from sklearn.model_selection import StratifiedKFold\n",
    "\n",
    "from doc2vec_wrapper import D2VWrapper\n",
    "\n",
    "import logging\n",
    "logging.basicConfig(format='%(asctime)s : %(levelname)s : %(message)s', level=logging.INFO)"
   ]
  },
  {
   "cell_type": "code",
   "execution_count": 2,
   "metadata": {
    "collapsed": true
   },
   "outputs": [],
   "source": [
    "# optimization steps are reduced on TEST_MODE\n",
    "TEST_MODE = False"
   ]
  },
  {
   "cell_type": "code",
   "execution_count": 3,
   "metadata": {
    "collapsed": false,
    "scrolled": true
   },
   "outputs": [
    {
     "name": "stderr",
     "output_type": "stream",
     "text": [
      "2017-03-12 12:07:53,082 : INFO : collecting all words and their counts\n",
      "2017-03-12 12:07:53,083 : INFO : PROGRESS: at example #0, processed 0 words (0/s), 0 word types, 0 tags\n",
      "2017-03-12 12:07:53,252 : INFO : PROGRESS: at example #10000, processed 1128886 words (6717319/s), 41680 word types, 10000 tags\n",
      "2017-03-12 12:07:53,295 : INFO : PROGRESS: at example #20000, processed 1270990 words (3311594/s), 45697 word types, 20000 tags\n",
      "2017-03-12 12:07:53,477 : INFO : PROGRESS: at example #30000, processed 2444612 words (6488107/s), 86971 word types, 30000 tags\n",
      "2017-03-12 12:07:53,551 : INFO : collected 101367 word types and 33847 unique tags from a corpus of 33847 examples and 2895071 words\n",
      "2017-03-12 12:07:53,765 : INFO : min_count=5 retains 18141 unique words (drops 83226)\n",
      "2017-03-12 12:07:53,765 : INFO : min_count leaves 2766261 word corpus (95% of original 2895071)\n",
      "2017-03-12 12:07:53,804 : INFO : deleting the raw counts dictionary of 101367 items\n",
      "2017-03-12 12:07:53,808 : INFO : sample=0 downsamples 0 most-common words\n",
      "2017-03-12 12:07:53,808 : INFO : downsampling leaves estimated 2766261 word corpus (100.0% of prior 2766261)\n",
      "2017-03-12 12:07:53,809 : INFO : estimated required memory for 18141 words and 500 dimensions: 149328500 bytes\n",
      "2017-03-12 12:07:53,860 : INFO : resetting layer weights\n",
      "2017-03-12 12:07:54,655 : INFO : Training D2V model Doc2Vec(dbow,d500,n12,mc5,t8)\n",
      "2017-03-12 12:07:54,655 : INFO : Epoch 0 convergence descent alpha: 0.1\n",
      "2017-03-12 12:07:59,984 : INFO : training model with 8 workers on 18141 vocabulary and 500 features, using sg=1 hs=0 sample=0 negative=12\n",
      "2017-03-12 12:07:59,984 : INFO : expecting 33847 sentences, matching count from corpus used for vocabulary survey\n",
      "2017-03-12 12:08:00,995 : INFO : PROGRESS: at 3.04% examples, 402282 words/s, in_qsize 15, out_qsize 0\n",
      "2017-03-12 12:08:02,009 : INFO : PROGRESS: at 6.48% examples, 429424 words/s, in_qsize 16, out_qsize 0\n",
      "2017-03-12 12:08:03,036 : INFO : PROGRESS: at 10.15% examples, 436070 words/s, in_qsize 15, out_qsize 0\n",
      "2017-03-12 12:08:04,052 : INFO : PROGRESS: at 13.59% examples, 440429 words/s, in_qsize 16, out_qsize 0\n",
      "2017-03-12 12:08:05,074 : INFO : PROGRESS: at 17.21% examples, 445254 words/s, in_qsize 15, out_qsize 0\n",
      "2017-03-12 12:08:06,075 : INFO : PROGRESS: at 20.69% examples, 448888 words/s, in_qsize 16, out_qsize 0\n",
      "2017-03-12 12:08:07,097 : INFO : PROGRESS: at 23.99% examples, 449297 words/s, in_qsize 16, out_qsize 0\n",
      "2017-03-12 12:08:08,104 : INFO : PROGRESS: at 27.44% examples, 447942 words/s, in_qsize 16, out_qsize 0\n",
      "2017-03-12 12:08:09,118 : INFO : PROGRESS: at 31.05% examples, 447751 words/s, in_qsize 16, out_qsize 0\n",
      "2017-03-12 12:08:10,130 : INFO : PROGRESS: at 34.79% examples, 454355 words/s, in_qsize 16, out_qsize 0\n",
      "2017-03-12 12:08:11,171 : INFO : PROGRESS: at 38.52% examples, 457546 words/s, in_qsize 16, out_qsize 0\n",
      "2017-03-12 12:08:12,177 : INFO : PROGRESS: at 42.69% examples, 463600 words/s, in_qsize 15, out_qsize 0\n",
      "2017-03-12 12:08:13,213 : INFO : PROGRESS: at 45.55% examples, 456736 words/s, in_qsize 16, out_qsize 0\n",
      "2017-03-12 12:08:14,215 : INFO : PROGRESS: at 49.72% examples, 461792 words/s, in_qsize 16, out_qsize 0\n",
      "2017-03-12 12:08:15,229 : INFO : PROGRESS: at 53.63% examples, 464455 words/s, in_qsize 16, out_qsize 0\n",
      "2017-03-12 12:08:16,238 : INFO : PROGRESS: at 57.48% examples, 468570 words/s, in_qsize 15, out_qsize 0\n",
      "2017-03-12 12:08:17,242 : INFO : PROGRESS: at 61.48% examples, 471266 words/s, in_qsize 16, out_qsize 0\n",
      "2017-03-12 12:08:18,244 : INFO : PROGRESS: at 65.27% examples, 474425 words/s, in_qsize 16, out_qsize 0\n",
      "2017-03-12 12:08:19,275 : INFO : PROGRESS: at 69.38% examples, 475995 words/s, in_qsize 16, out_qsize 0\n",
      "2017-03-12 12:08:20,283 : INFO : PROGRESS: at 73.45% examples, 478361 words/s, in_qsize 16, out_qsize 0\n",
      "2017-03-12 12:08:21,293 : INFO : PROGRESS: at 77.38% examples, 480928 words/s, in_qsize 15, out_qsize 1\n",
      "2017-03-12 12:08:22,292 : INFO : PROGRESS: at 81.52% examples, 483323 words/s, in_qsize 16, out_qsize 0\n",
      "2017-03-12 12:08:23,360 : INFO : PROGRESS: at 85.50% examples, 485005 words/s, in_qsize 15, out_qsize 0\n",
      "2017-03-12 12:08:24,384 : INFO : PROGRESS: at 89.85% examples, 487240 words/s, in_qsize 16, out_qsize 0\n",
      "2017-03-12 12:08:25,404 : INFO : PROGRESS: at 93.95% examples, 489138 words/s, in_qsize 16, out_qsize 0\n",
      "2017-03-12 12:08:26,411 : INFO : PROGRESS: at 97.86% examples, 491326 words/s, in_qsize 16, out_qsize 0\n",
      "2017-03-12 12:08:26,757 : INFO : worker thread finished; awaiting finish of 7 more threads\n",
      "2017-03-12 12:08:26,796 : INFO : worker thread finished; awaiting finish of 6 more threads\n",
      "2017-03-12 12:08:26,815 : INFO : worker thread finished; awaiting finish of 5 more threads\n",
      "2017-03-12 12:08:26,823 : INFO : worker thread finished; awaiting finish of 4 more threads\n",
      "2017-03-12 12:08:26,847 : INFO : worker thread finished; awaiting finish of 3 more threads\n",
      "2017-03-12 12:08:26,855 : INFO : worker thread finished; awaiting finish of 2 more threads\n",
      "2017-03-12 12:08:26,869 : INFO : worker thread finished; awaiting finish of 1 more threads\n",
      "2017-03-12 12:08:26,872 : INFO : worker thread finished; awaiting finish of 0 more threads\n",
      "2017-03-12 12:08:26,873 : INFO : training on 14475355 raw words (13244575 effective words) took 26.9s, 492637 effective words/s\n",
      "2017-03-12 12:08:26,874 : INFO : Training D2V model Doc2Vec(dbow,d500,n12,mc5,t8)\n",
      "2017-03-12 12:08:26,874 : INFO : Epoch 1 convergence descent alpha: 0.1\n",
      "2017-03-12 12:08:32,695 : INFO : training model with 8 workers on 18141 vocabulary and 500 features, using sg=1 hs=0 sample=0 negative=12\n",
      "2017-03-12 12:08:32,696 : INFO : expecting 33847 sentences, matching count from corpus used for vocabulary survey\n",
      "2017-03-12 12:08:33,699 : INFO : PROGRESS: at 4.12% examples, 495513 words/s, in_qsize 16, out_qsize 0\n",
      "2017-03-12 12:08:34,715 : INFO : PROGRESS: at 7.96% examples, 524324 words/s, in_qsize 16, out_qsize 0\n",
      "2017-03-12 12:08:35,731 : INFO : PROGRESS: at 11.95% examples, 526359 words/s, in_qsize 16, out_qsize 0\n",
      "2017-03-12 12:08:36,735 : INFO : PROGRESS: at 16.16% examples, 531222 words/s, in_qsize 16, out_qsize 0\n",
      "2017-03-12 12:08:37,739 : INFO : PROGRESS: at 20.21% examples, 532889 words/s, in_qsize 16, out_qsize 0\n",
      "2017-03-12 12:08:38,748 : INFO : PROGRESS: at 24.64% examples, 531712 words/s, in_qsize 16, out_qsize 0\n",
      "2017-03-12 12:08:39,807 : INFO : PROGRESS: at 28.62% examples, 533164 words/s, in_qsize 16, out_qsize 0\n",
      "2017-03-12 12:08:40,808 : INFO : PROGRESS: at 32.48% examples, 533865 words/s, in_qsize 16, out_qsize 0\n",
      "2017-03-12 12:08:41,814 : INFO : PROGRESS: at 36.65% examples, 534013 words/s, in_qsize 16, out_qsize 0\n",
      "2017-03-12 12:08:42,834 : INFO : PROGRESS: at 40.83% examples, 533876 words/s, in_qsize 15, out_qsize 0\n",
      "2017-03-12 12:08:43,842 : INFO : PROGRESS: at 45.36% examples, 534330 words/s, in_qsize 15, out_qsize 0\n",
      "2017-03-12 12:08:44,876 : INFO : PROGRESS: at 49.22% examples, 534798 words/s, in_qsize 16, out_qsize 0\n",
      "2017-03-12 12:08:45,908 : INFO : PROGRESS: at 52.96% examples, 532880 words/s, in_qsize 16, out_qsize 0\n",
      "2017-03-12 12:08:46,933 : INFO : PROGRESS: at 56.69% examples, 528916 words/s, in_qsize 15, out_qsize 1\n",
      "2017-03-12 12:08:47,961 : INFO : PROGRESS: at 60.17% examples, 522926 words/s, in_qsize 16, out_qsize 0\n",
      "2017-03-12 12:08:48,977 : INFO : PROGRESS: at 64.63% examples, 523096 words/s, in_qsize 16, out_qsize 0\n",
      "2017-03-12 12:08:49,985 : INFO : PROGRESS: at 68.25% examples, 522989 words/s, in_qsize 16, out_qsize 0\n",
      "2017-03-12 12:08:51,008 : INFO : PROGRESS: at 71.80% examples, 520747 words/s, in_qsize 15, out_qsize 0\n",
      "2017-03-12 12:08:52,007 : INFO : PROGRESS: at 75.89% examples, 521120 words/s, in_qsize 16, out_qsize 0\n",
      "2017-03-12 12:08:53,008 : INFO : PROGRESS: at 80.01% examples, 521759 words/s, in_qsize 15, out_qsize 0\n",
      "2017-03-12 12:08:54,030 : INFO : PROGRESS: at 84.53% examples, 522473 words/s, in_qsize 16, out_qsize 0\n",
      "2017-03-12 12:08:55,035 : INFO : PROGRESS: at 88.07% examples, 522496 words/s, in_qsize 16, out_qsize 0\n",
      "2017-03-12 12:08:56,039 : INFO : PROGRESS: at 92.04% examples, 523186 words/s, in_qsize 16, out_qsize 0\n",
      "2017-03-12 12:08:57,068 : INFO : PROGRESS: at 96.27% examples, 523185 words/s, in_qsize 16, out_qsize 0\n",
      "2017-03-12 12:08:57,858 : INFO : worker thread finished; awaiting finish of 7 more threads\n",
      "2017-03-12 12:08:57,903 : INFO : worker thread finished; awaiting finish of 6 more threads\n",
      "2017-03-12 12:08:57,926 : INFO : worker thread finished; awaiting finish of 5 more threads\n",
      "2017-03-12 12:08:57,939 : INFO : worker thread finished; awaiting finish of 4 more threads\n",
      "2017-03-12 12:08:57,943 : INFO : worker thread finished; awaiting finish of 3 more threads\n",
      "2017-03-12 12:08:57,949 : INFO : worker thread finished; awaiting finish of 2 more threads\n",
      "2017-03-12 12:08:57,968 : INFO : worker thread finished; awaiting finish of 1 more threads\n",
      "2017-03-12 12:08:57,977 : INFO : worker thread finished; awaiting finish of 0 more threads\n",
      "2017-03-12 12:08:57,978 : INFO : training on 14475355 raw words (13244575 effective words) took 25.3s, 523918 effective words/s\n",
      "2017-03-12 12:08:57,979 : INFO : Training D2V model Doc2Vec(dbow,d500,n12,mc5,t8)\n",
      "2017-03-12 12:08:57,979 : INFO : Epoch 2 convergence descent alpha: 0.1\n",
      "2017-03-12 12:09:03,726 : INFO : training model with 8 workers on 18141 vocabulary and 500 features, using sg=1 hs=0 sample=0 negative=12\n",
      "2017-03-12 12:09:03,727 : INFO : expecting 33847 sentences, matching count from corpus used for vocabulary survey\n",
      "2017-03-12 12:09:04,746 : INFO : PROGRESS: at 3.79% examples, 486871 words/s, in_qsize 15, out_qsize 0\n",
      "2017-03-12 12:09:05,756 : INFO : PROGRESS: at 7.96% examples, 510359 words/s, in_qsize 15, out_qsize 0\n",
      "2017-03-12 12:09:06,784 : INFO : PROGRESS: at 12.00% examples, 511462 words/s, in_qsize 16, out_qsize 0\n",
      "2017-03-12 12:09:07,790 : INFO : PROGRESS: at 16.02% examples, 515885 words/s, in_qsize 15, out_qsize 0\n",
      "2017-03-12 12:09:08,796 : INFO : PROGRESS: at 19.84% examples, 519533 words/s, in_qsize 15, out_qsize 0\n",
      "2017-03-12 12:09:09,802 : INFO : PROGRESS: at 24.05% examples, 522043 words/s, in_qsize 16, out_qsize 0\n",
      "2017-03-12 12:09:10,811 : INFO : PROGRESS: at 28.06% examples, 521515 words/s, in_qsize 15, out_qsize 0\n",
      "2017-03-12 12:09:11,812 : INFO : PROGRESS: at 31.97% examples, 519863 words/s, in_qsize 15, out_qsize 0\n",
      "2017-03-12 12:09:12,820 : INFO : PROGRESS: at 35.79% examples, 519171 words/s, in_qsize 16, out_qsize 0\n",
      "2017-03-12 12:09:13,868 : INFO : PROGRESS: at 39.57% examples, 517231 words/s, in_qsize 15, out_qsize 0\n",
      "2017-03-12 12:09:14,875 : INFO : PROGRESS: at 43.65% examples, 518055 words/s, in_qsize 16, out_qsize 0\n",
      "2017-03-12 12:09:15,886 : INFO : PROGRESS: at 47.60% examples, 517010 words/s, in_qsize 15, out_qsize 0\n",
      "2017-03-12 12:09:16,903 : INFO : PROGRESS: at 51.93% examples, 519218 words/s, in_qsize 16, out_qsize 0\n",
      "2017-03-12 12:09:17,915 : INFO : PROGRESS: at 55.72% examples, 518832 words/s, in_qsize 16, out_qsize 0\n",
      "2017-03-12 12:09:18,918 : INFO : PROGRESS: at 59.58% examples, 519747 words/s, in_qsize 16, out_qsize 0\n",
      "2017-03-12 12:09:19,994 : INFO : PROGRESS: at 63.79% examples, 519011 words/s, in_qsize 15, out_qsize 0\n",
      "2017-03-12 12:09:21,011 : INFO : PROGRESS: at 68.17% examples, 521155 words/s, in_qsize 16, out_qsize 0\n",
      "2017-03-12 12:09:22,014 : INFO : PROGRESS: at 72.30% examples, 521567 words/s, in_qsize 15, out_qsize 0\n",
      "2017-03-12 12:09:23,055 : INFO : PROGRESS: at 76.21% examples, 521611 words/s, in_qsize 16, out_qsize 0\n",
      "2017-03-12 12:09:24,074 : INFO : PROGRESS: at 80.21% examples, 522297 words/s, in_qsize 15, out_qsize 0\n",
      "2017-03-12 12:09:25,090 : INFO : PROGRESS: at 84.34% examples, 522661 words/s, in_qsize 15, out_qsize 0\n",
      "2017-03-12 12:09:26,093 : INFO : PROGRESS: at 88.59% examples, 524024 words/s, in_qsize 15, out_qsize 0\n",
      "2017-03-12 12:09:27,096 : INFO : PROGRESS: at 92.71% examples, 523712 words/s, in_qsize 15, out_qsize 1\n",
      "2017-03-12 12:09:28,106 : INFO : PROGRESS: at 96.59% examples, 524230 words/s, in_qsize 15, out_qsize 0\n",
      "2017-03-12 12:09:28,856 : INFO : worker thread finished; awaiting finish of 7 more threads\n",
      "2017-03-12 12:09:28,900 : INFO : worker thread finished; awaiting finish of 6 more threads\n",
      "2017-03-12 12:09:28,914 : INFO : worker thread finished; awaiting finish of 5 more threads\n",
      "2017-03-12 12:09:28,916 : INFO : worker thread finished; awaiting finish of 4 more threads\n",
      "2017-03-12 12:09:28,939 : INFO : worker thread finished; awaiting finish of 3 more threads\n",
      "2017-03-12 12:09:28,946 : INFO : worker thread finished; awaiting finish of 2 more threads\n",
      "2017-03-12 12:09:28,959 : INFO : worker thread finished; awaiting finish of 1 more threads\n",
      "2017-03-12 12:09:28,962 : INFO : worker thread finished; awaiting finish of 0 more threads\n",
      "2017-03-12 12:09:28,962 : INFO : training on 14475355 raw words (13244575 effective words) took 25.2s, 524876 effective words/s\n",
      "2017-03-12 12:09:28,963 : INFO : Training D2V model Doc2Vec(dbow,d500,n12,mc5,t8)\n",
      "2017-03-12 12:09:28,964 : INFO : Epoch 3 convergence descent alpha: 0.1\n",
      "2017-03-12 12:09:34,552 : INFO : training model with 8 workers on 18141 vocabulary and 500 features, using sg=1 hs=0 sample=0 negative=12\n",
      "2017-03-12 12:09:34,553 : INFO : expecting 33847 sentences, matching count from corpus used for vocabulary survey\n",
      "2017-03-12 12:09:35,574 : INFO : PROGRESS: at 3.95% examples, 523355 words/s, in_qsize 15, out_qsize 0\n",
      "2017-03-12 12:09:36,579 : INFO : PROGRESS: at 8.02% examples, 531418 words/s, in_qsize 15, out_qsize 0\n",
      "2017-03-12 12:09:37,594 : INFO : PROGRESS: at 12.21% examples, 541914 words/s, in_qsize 15, out_qsize 0\n",
      "2017-03-12 12:09:38,598 : INFO : PROGRESS: at 16.32% examples, 540825 words/s, in_qsize 16, out_qsize 0\n",
      "2017-03-12 12:09:39,641 : INFO : PROGRESS: at 20.58% examples, 536346 words/s, in_qsize 16, out_qsize 0\n",
      "2017-03-12 12:09:40,656 : INFO : PROGRESS: at 24.53% examples, 534771 words/s, in_qsize 16, out_qsize 0\n",
      "2017-03-12 12:09:41,678 : INFO : PROGRESS: at 28.59% examples, 532672 words/s, in_qsize 15, out_qsize 0\n",
      "2017-03-12 12:09:42,683 : INFO : PROGRESS: at 32.60% examples, 533907 words/s, in_qsize 16, out_qsize 0\n",
      "2017-03-12 12:09:43,686 : INFO : PROGRESS: at 36.57% examples, 532744 words/s, in_qsize 16, out_qsize 0\n",
      "2017-03-12 12:09:44,698 : INFO : PROGRESS: at 40.70% examples, 531740 words/s, in_qsize 15, out_qsize 0\n",
      "2017-03-12 12:09:45,702 : INFO : PROGRESS: at 44.71% examples, 532074 words/s, in_qsize 15, out_qsize 0\n",
      "2017-03-12 12:09:46,719 : INFO : PROGRESS: at 48.63% examples, 529946 words/s, in_qsize 16, out_qsize 0\n",
      "2017-03-12 12:09:47,724 : INFO : PROGRESS: at 52.60% examples, 530683 words/s, in_qsize 16, out_qsize 0\n",
      "2017-03-12 12:09:48,732 : INFO : PROGRESS: at 56.57% examples, 529961 words/s, in_qsize 15, out_qsize 0\n",
      "2017-03-12 12:09:49,749 : INFO : PROGRESS: at 60.70% examples, 529368 words/s, in_qsize 16, out_qsize 0\n",
      "2017-03-12 12:09:50,752 : INFO : PROGRESS: at 64.78% examples, 530294 words/s, in_qsize 16, out_qsize 0\n",
      "2017-03-12 12:09:51,765 : INFO : PROGRESS: at 68.74% examples, 529211 words/s, in_qsize 16, out_qsize 0\n",
      "2017-03-12 12:09:52,785 : INFO : PROGRESS: at 72.73% examples, 529706 words/s, in_qsize 16, out_qsize 0\n",
      "2017-03-12 12:09:53,786 : INFO : PROGRESS: at 76.75% examples, 529435 words/s, in_qsize 16, out_qsize 0\n",
      "2017-03-12 12:09:54,786 : INFO : PROGRESS: at 80.94% examples, 529849 words/s, in_qsize 16, out_qsize 0\n",
      "2017-03-12 12:09:55,823 : INFO : PROGRESS: at 84.92% examples, 529186 words/s, in_qsize 16, out_qsize 0\n",
      "2017-03-12 12:09:56,823 : INFO : PROGRESS: at 89.15% examples, 530118 words/s, in_qsize 16, out_qsize 0\n",
      "2017-03-12 12:09:57,856 : INFO : PROGRESS: at 92.93% examples, 529275 words/s, in_qsize 16, out_qsize 0\n",
      "2017-03-12 12:09:58,860 : INFO : PROGRESS: at 97.10% examples, 529449 words/s, in_qsize 16, out_qsize 0\n",
      "2017-03-12 12:09:59,479 : INFO : worker thread finished; awaiting finish of 7 more threads\n",
      "2017-03-12 12:09:59,493 : INFO : worker thread finished; awaiting finish of 6 more threads\n",
      "2017-03-12 12:09:59,514 : INFO : worker thread finished; awaiting finish of 5 more threads\n",
      "2017-03-12 12:09:59,522 : INFO : worker thread finished; awaiting finish of 4 more threads\n",
      "2017-03-12 12:09:59,527 : INFO : worker thread finished; awaiting finish of 3 more threads\n",
      "2017-03-12 12:09:59,535 : INFO : worker thread finished; awaiting finish of 2 more threads\n",
      "2017-03-12 12:09:59,537 : INFO : worker thread finished; awaiting finish of 1 more threads\n",
      "2017-03-12 12:09:59,545 : INFO : worker thread finished; awaiting finish of 0 more threads\n",
      "2017-03-12 12:09:59,546 : INFO : training on 14475355 raw words (13244575 effective words) took 25.0s, 529976 effective words/s\n",
      "2017-03-12 12:09:59,547 : INFO : Training D2V model Doc2Vec(dbow,d500,n12,mc5,t8)\n",
      "2017-03-12 12:09:59,547 : INFO : Epoch 4 convergence descent alpha: 0.1\n",
      "2017-03-12 12:10:05,059 : INFO : training model with 8 workers on 18141 vocabulary and 500 features, using sg=1 hs=0 sample=0 negative=12\n",
      "2017-03-12 12:10:05,059 : INFO : expecting 33847 sentences, matching count from corpus used for vocabulary survey\n",
      "2017-03-12 12:10:06,089 : INFO : PROGRESS: at 4.04% examples, 514888 words/s, in_qsize 15, out_qsize 0\n",
      "2017-03-12 12:10:07,113 : INFO : PROGRESS: at 8.16% examples, 521285 words/s, in_qsize 15, out_qsize 0\n",
      "2017-03-12 12:10:08,113 : INFO : PROGRESS: at 12.14% examples, 528702 words/s, in_qsize 16, out_qsize 0\n",
      "2017-03-12 12:10:09,121 : INFO : PROGRESS: at 16.19% examples, 526277 words/s, in_qsize 16, out_qsize 0\n",
      "2017-03-12 12:10:10,140 : INFO : PROGRESS: at 19.82% examples, 515790 words/s, in_qsize 16, out_qsize 0\n",
      "2017-03-12 12:10:11,150 : INFO : PROGRESS: at 23.87% examples, 518900 words/s, in_qsize 15, out_qsize 0\n",
      "2017-03-12 12:10:12,155 : INFO : PROGRESS: at 27.97% examples, 521006 words/s, in_qsize 16, out_qsize 0\n",
      "2017-03-12 12:10:13,176 : INFO : PROGRESS: at 31.85% examples, 519782 words/s, in_qsize 15, out_qsize 0\n",
      "2017-03-12 12:10:14,191 : INFO : PROGRESS: at 35.83% examples, 519964 words/s, in_qsize 15, out_qsize 0\n",
      "2017-03-12 12:10:15,197 : INFO : PROGRESS: at 39.93% examples, 520715 words/s, in_qsize 16, out_qsize 0\n",
      "2017-03-12 12:10:16,230 : INFO : PROGRESS: at 43.87% examples, 520097 words/s, in_qsize 15, out_qsize 0\n",
      "2017-03-12 12:10:17,231 : INFO : PROGRESS: at 47.95% examples, 521239 words/s, in_qsize 16, out_qsize 0\n",
      "2017-03-12 12:10:18,249 : INFO : PROGRESS: at 51.89% examples, 520723 words/s, in_qsize 15, out_qsize 0\n",
      "2017-03-12 12:10:19,278 : INFO : PROGRESS: at 55.73% examples, 519580 words/s, in_qsize 15, out_qsize 0\n",
      "2017-03-12 12:10:20,291 : INFO : PROGRESS: at 59.90% examples, 519860 words/s, in_qsize 15, out_qsize 0\n",
      "2017-03-12 12:10:21,308 : INFO : PROGRESS: at 63.87% examples, 520591 words/s, in_qsize 15, out_qsize 0\n",
      "2017-03-12 12:10:22,318 : INFO : PROGRESS: at 68.04% examples, 521653 words/s, in_qsize 15, out_qsize 0\n",
      "2017-03-12 12:10:23,352 : INFO : PROGRESS: at 71.97% examples, 521300 words/s, in_qsize 16, out_qsize 0\n",
      "2017-03-12 12:10:24,363 : INFO : PROGRESS: at 76.19% examples, 522331 words/s, in_qsize 15, out_qsize 0\n",
      "2017-03-12 12:10:25,368 : INFO : PROGRESS: at 80.11% examples, 522582 words/s, in_qsize 15, out_qsize 0\n",
      "2017-03-12 12:10:26,403 : INFO : PROGRESS: at 84.28% examples, 522577 words/s, in_qsize 15, out_qsize 0\n",
      "2017-03-12 12:10:27,416 : INFO : PROGRESS: at 88.50% examples, 523476 words/s, in_qsize 15, out_qsize 0\n",
      "2017-03-12 12:10:28,421 : INFO : PROGRESS: at 92.35% examples, 523854 words/s, in_qsize 16, out_qsize 0\n",
      "2017-03-12 12:10:29,448 : INFO : PROGRESS: at 96.50% examples, 523984 words/s, in_qsize 15, out_qsize 0\n",
      "2017-03-12 12:10:30,217 : INFO : worker thread finished; awaiting finish of 7 more threads\n",
      "2017-03-12 12:10:30,222 : INFO : worker thread finished; awaiting finish of 6 more threads\n",
      "2017-03-12 12:10:30,226 : INFO : worker thread finished; awaiting finish of 5 more threads\n",
      "2017-03-12 12:10:30,254 : INFO : worker thread finished; awaiting finish of 4 more threads\n",
      "2017-03-12 12:10:30,267 : INFO : worker thread finished; awaiting finish of 3 more threads\n",
      "2017-03-12 12:10:30,273 : INFO : worker thread finished; awaiting finish of 2 more threads\n",
      "2017-03-12 12:10:30,305 : INFO : worker thread finished; awaiting finish of 1 more threads\n",
      "2017-03-12 12:10:30,312 : INFO : worker thread finished; awaiting finish of 0 more threads\n",
      "2017-03-12 12:10:30,313 : INFO : training on 14475355 raw words (13244575 effective words) took 25.3s, 524517 effective words/s\n",
      "2017-03-12 12:10:30,313 : INFO : Training D2V model Doc2Vec(dbow,d500,n12,mc5,t8)\n",
      "2017-03-12 12:10:30,314 : INFO : Epoch 5 convergence descent alpha: 0.1\n",
      "2017-03-12 12:10:36,225 : INFO : training model with 8 workers on 18141 vocabulary and 500 features, using sg=1 hs=0 sample=0 negative=12\n",
      "2017-03-12 12:10:36,226 : INFO : expecting 33847 sentences, matching count from corpus used for vocabulary survey\n",
      "2017-03-12 12:10:37,229 : INFO : PROGRESS: at 3.79% examples, 522608 words/s, in_qsize 16, out_qsize 0\n",
      "2017-03-12 12:10:38,259 : INFO : PROGRESS: at 8.08% examples, 534012 words/s, in_qsize 16, out_qsize 0\n",
      "2017-03-12 12:10:39,275 : INFO : PROGRESS: at 12.56% examples, 535759 words/s, in_qsize 16, out_qsize 0\n",
      "2017-03-12 12:10:40,289 : INFO : PROGRESS: at 16.61% examples, 537858 words/s, in_qsize 15, out_qsize 0\n",
      "2017-03-12 12:10:41,307 : INFO : PROGRESS: at 20.43% examples, 535351 words/s, in_qsize 16, out_qsize 0\n",
      "2017-03-12 12:10:42,323 : INFO : PROGRESS: at 24.53% examples, 533674 words/s, in_qsize 15, out_qsize 0\n",
      "2017-03-12 12:10:43,329 : INFO : PROGRESS: at 28.69% examples, 533737 words/s, in_qsize 16, out_qsize 0\n",
      "2017-03-12 12:10:44,331 : INFO : PROGRESS: at 32.70% examples, 530760 words/s, in_qsize 15, out_qsize 0\n",
      "2017-03-12 12:10:45,346 : INFO : PROGRESS: at 36.68% examples, 531114 words/s, in_qsize 15, out_qsize 0\n",
      "2017-03-12 12:10:46,359 : INFO : PROGRESS: at 40.35% examples, 528915 words/s, in_qsize 15, out_qsize 0\n",
      "2017-03-12 12:10:47,377 : INFO : PROGRESS: at 44.43% examples, 528650 words/s, in_qsize 15, out_qsize 0\n",
      "2017-03-12 12:10:48,381 : INFO : PROGRESS: at 48.58% examples, 529046 words/s, in_qsize 16, out_qsize 0\n",
      "2017-03-12 12:10:49,401 : INFO : PROGRESS: at 52.62% examples, 526814 words/s, in_qsize 15, out_qsize 0\n",
      "2017-03-12 12:10:50,418 : INFO : PROGRESS: at 56.66% examples, 527774 words/s, in_qsize 15, out_qsize 0\n",
      "2017-03-12 12:10:51,439 : INFO : PROGRESS: at 60.40% examples, 527036 words/s, in_qsize 15, out_qsize 0\n",
      "2017-03-12 12:10:52,453 : INFO : PROGRESS: at 64.53% examples, 527029 words/s, in_qsize 16, out_qsize 0\n",
      "2017-03-12 12:10:53,461 : INFO : PROGRESS: at 68.70% examples, 527906 words/s, in_qsize 15, out_qsize 0\n",
      "2017-03-12 12:10:54,466 : INFO : PROGRESS: at 72.85% examples, 527743 words/s, in_qsize 15, out_qsize 0\n",
      "2017-03-12 12:10:55,492 : INFO : PROGRESS: at 76.84% examples, 527216 words/s, in_qsize 16, out_qsize 0\n",
      "2017-03-12 12:10:56,507 : INFO : PROGRESS: at 80.64% examples, 527339 words/s, in_qsize 15, out_qsize 0\n",
      "2017-03-12 12:10:57,532 : INFO : PROGRESS: at 84.83% examples, 527430 words/s, in_qsize 16, out_qsize 0\n",
      "2017-03-12 12:10:58,551 : INFO : PROGRESS: at 88.92% examples, 527050 words/s, in_qsize 16, out_qsize 0\n",
      "2017-03-12 12:10:59,551 : INFO : PROGRESS: at 93.00% examples, 527094 words/s, in_qsize 16, out_qsize 0\n",
      "2017-03-12 12:11:00,566 : INFO : PROGRESS: at 96.86% examples, 526535 words/s, in_qsize 15, out_qsize 0\n",
      "2017-03-12 12:11:01,250 : INFO : worker thread finished; awaiting finish of 7 more threads\n",
      "2017-03-12 12:11:01,258 : INFO : worker thread finished; awaiting finish of 6 more threads\n",
      "2017-03-12 12:11:01,272 : INFO : worker thread finished; awaiting finish of 5 more threads\n",
      "2017-03-12 12:11:01,276 : INFO : worker thread finished; awaiting finish of 4 more threads\n",
      "2017-03-12 12:11:01,279 : INFO : worker thread finished; awaiting finish of 3 more threads\n",
      "2017-03-12 12:11:01,312 : INFO : worker thread finished; awaiting finish of 2 more threads\n",
      "2017-03-12 12:11:01,318 : INFO : worker thread finished; awaiting finish of 1 more threads\n",
      "2017-03-12 12:11:01,328 : INFO : worker thread finished; awaiting finish of 0 more threads\n",
      "2017-03-12 12:11:01,328 : INFO : training on 14475355 raw words (13244575 effective words) took 25.1s, 527675 effective words/s\n",
      "2017-03-12 12:11:01,329 : INFO : Training D2V model Doc2Vec(dbow,d500,n12,mc5,t8)\n",
      "2017-03-12 12:11:01,330 : INFO : Epoch 6 convergence descent alpha: 0.1\n",
      "2017-03-12 12:11:07,033 : INFO : training model with 8 workers on 18141 vocabulary and 500 features, using sg=1 hs=0 sample=0 negative=12\n",
      "2017-03-12 12:11:07,034 : INFO : expecting 33847 sentences, matching count from corpus used for vocabulary survey\n",
      "2017-03-12 12:11:08,042 : INFO : PROGRESS: at 3.90% examples, 522344 words/s, in_qsize 15, out_qsize 0\n",
      "2017-03-12 12:11:09,054 : INFO : PROGRESS: at 8.07% examples, 540281 words/s, in_qsize 16, out_qsize 0\n",
      "2017-03-12 12:11:10,057 : INFO : PROGRESS: at 11.93% examples, 531662 words/s, in_qsize 16, out_qsize 0\n",
      "2017-03-12 12:11:11,116 : INFO : PROGRESS: at 16.04% examples, 520820 words/s, in_qsize 16, out_qsize 0\n",
      "2017-03-12 12:11:12,116 : INFO : PROGRESS: at 20.02% examples, 522197 words/s, in_qsize 15, out_qsize 0\n",
      "2017-03-12 12:11:13,128 : INFO : PROGRESS: at 23.85% examples, 519380 words/s, in_qsize 15, out_qsize 0\n",
      "2017-03-12 12:11:14,146 : INFO : PROGRESS: at 27.72% examples, 519371 words/s, in_qsize 15, out_qsize 0\n",
      "2017-03-12 12:11:15,154 : INFO : PROGRESS: at 31.84% examples, 521128 words/s, in_qsize 16, out_qsize 0\n",
      "2017-03-12 12:11:16,158 : INFO : PROGRESS: at 35.86% examples, 521396 words/s, in_qsize 16, out_qsize 0\n",
      "2017-03-12 12:11:17,160 : INFO : PROGRESS: at 39.71% examples, 520000 words/s, in_qsize 16, out_qsize 0\n",
      "2017-03-12 12:11:18,188 : INFO : PROGRESS: at 43.61% examples, 518384 words/s, in_qsize 16, out_qsize 1\n",
      "2017-03-12 12:11:19,197 : INFO : PROGRESS: at 47.20% examples, 516736 words/s, in_qsize 16, out_qsize 0\n",
      "2017-03-12 12:11:20,232 : INFO : PROGRESS: at 51.48% examples, 517527 words/s, in_qsize 15, out_qsize 0\n",
      "2017-03-12 12:11:21,249 : INFO : PROGRESS: at 55.56% examples, 517791 words/s, in_qsize 16, out_qsize 0\n",
      "2017-03-12 12:11:22,262 : INFO : PROGRESS: at 59.55% examples, 518496 words/s, in_qsize 15, out_qsize 0\n",
      "2017-03-12 12:11:23,271 : INFO : PROGRESS: at 63.61% examples, 519245 words/s, in_qsize 15, out_qsize 0\n",
      "2017-03-12 12:11:24,292 : INFO : PROGRESS: at 67.55% examples, 519902 words/s, in_qsize 15, out_qsize 0\n",
      "2017-03-12 12:11:25,296 : INFO : PROGRESS: at 71.69% examples, 520285 words/s, in_qsize 15, out_qsize 0\n",
      "2017-03-12 12:11:26,306 : INFO : PROGRESS: at 75.77% examples, 520738 words/s, in_qsize 15, out_qsize 0\n",
      "2017-03-12 12:11:27,318 : INFO : PROGRESS: at 79.71% examples, 520769 words/s, in_qsize 16, out_qsize 0\n",
      "2017-03-12 12:11:28,324 : INFO : PROGRESS: at 83.77% examples, 521788 words/s, in_qsize 15, out_qsize 0\n",
      "2017-03-12 12:11:29,336 : INFO : PROGRESS: at 87.61% examples, 521531 words/s, in_qsize 16, out_qsize 0\n",
      "2017-03-12 12:11:30,351 : INFO : PROGRESS: at 91.78% examples, 521911 words/s, in_qsize 16, out_qsize 0\n",
      "2017-03-12 12:11:31,356 : INFO : PROGRESS: at 95.89% examples, 521885 words/s, in_qsize 15, out_qsize 0\n",
      "2017-03-12 12:11:32,310 : INFO : worker thread finished; awaiting finish of 7 more threads\n",
      "2017-03-12 12:11:32,331 : INFO : worker thread finished; awaiting finish of 6 more threads\n",
      "2017-03-12 12:11:32,339 : INFO : worker thread finished; awaiting finish of 5 more threads\n",
      "2017-03-12 12:11:32,350 : INFO : worker thread finished; awaiting finish of 4 more threads\n",
      "2017-03-12 12:11:32,374 : INFO : PROGRESS: at 99.75% examples, 521594 words/s, in_qsize 3, out_qsize 1\n",
      "2017-03-12 12:11:32,375 : INFO : worker thread finished; awaiting finish of 3 more threads\n",
      "2017-03-12 12:11:32,375 : INFO : worker thread finished; awaiting finish of 2 more threads\n",
      "2017-03-12 12:11:32,377 : INFO : worker thread finished; awaiting finish of 1 more threads\n",
      "2017-03-12 12:11:32,383 : INFO : worker thread finished; awaiting finish of 0 more threads\n",
      "2017-03-12 12:11:32,384 : INFO : training on 14475355 raw words (13244575 effective words) took 25.3s, 522496 effective words/s\n",
      "2017-03-12 12:11:32,385 : INFO : Training D2V model Doc2Vec(dbow,d500,n12,mc5,t8)\n",
      "2017-03-12 12:11:32,385 : INFO : Epoch 7 convergence descent alpha: 0.1\n",
      "2017-03-12 12:11:38,053 : INFO : training model with 8 workers on 18141 vocabulary and 500 features, using sg=1 hs=0 sample=0 negative=12\n",
      "2017-03-12 12:11:38,053 : INFO : expecting 33847 sentences, matching count from corpus used for vocabulary survey\n",
      "2017-03-12 12:11:39,066 : INFO : PROGRESS: at 3.82% examples, 525681 words/s, in_qsize 15, out_qsize 0\n",
      "2017-03-12 12:11:40,080 : INFO : PROGRESS: at 7.89% examples, 529851 words/s, in_qsize 16, out_qsize 0\n",
      "2017-03-12 12:11:41,105 : INFO : PROGRESS: at 11.97% examples, 534877 words/s, in_qsize 15, out_qsize 0\n",
      "2017-03-12 12:11:42,116 : INFO : PROGRESS: at 15.98% examples, 531675 words/s, in_qsize 15, out_qsize 0\n",
      "2017-03-12 12:11:43,140 : INFO : PROGRESS: at 20.30% examples, 528612 words/s, in_qsize 15, out_qsize 0\n",
      "2017-03-12 12:11:44,177 : INFO : PROGRESS: at 24.29% examples, 528724 words/s, in_qsize 16, out_qsize 0\n",
      "2017-03-12 12:11:45,184 : INFO : PROGRESS: at 28.20% examples, 528647 words/s, in_qsize 16, out_qsize 0\n",
      "2017-03-12 12:11:46,192 : INFO : PROGRESS: at 32.01% examples, 527167 words/s, in_qsize 16, out_qsize 0\n",
      "2017-03-12 12:11:47,208 : INFO : PROGRESS: at 35.98% examples, 525292 words/s, in_qsize 16, out_qsize 0\n",
      "2017-03-12 12:11:48,227 : INFO : PROGRESS: at 40.30% examples, 524651 words/s, in_qsize 15, out_qsize 0\n",
      "2017-03-12 12:11:49,229 : INFO : PROGRESS: at 44.00% examples, 524241 words/s, in_qsize 16, out_qsize 0\n",
      "2017-03-12 12:11:50,235 : INFO : PROGRESS: at 47.91% examples, 523803 words/s, in_qsize 16, out_qsize 0\n",
      "2017-03-12 12:11:51,239 : INFO : PROGRESS: at 51.54% examples, 521213 words/s, in_qsize 16, out_qsize 0\n",
      "2017-03-12 12:11:52,264 : INFO : PROGRESS: at 55.37% examples, 519490 words/s, in_qsize 16, out_qsize 0\n",
      "2017-03-12 12:11:53,274 : INFO : PROGRESS: at 59.59% examples, 519235 words/s, in_qsize 16, out_qsize 0\n",
      "2017-03-12 12:11:54,275 : INFO : PROGRESS: at 63.56% examples, 520537 words/s, in_qsize 16, out_qsize 0\n",
      "2017-03-12 12:11:55,280 : INFO : PROGRESS: at 67.39% examples, 520379 words/s, in_qsize 16, out_qsize 0\n",
      "2017-03-12 12:11:56,319 : INFO : PROGRESS: at 71.54% examples, 520733 words/s, in_qsize 16, out_qsize 0\n",
      "2017-03-12 12:11:57,329 : INFO : PROGRESS: at 75.37% examples, 520389 words/s, in_qsize 16, out_qsize 0\n",
      "2017-03-12 12:11:58,337 : INFO : PROGRESS: at 79.50% examples, 519770 words/s, in_qsize 15, out_qsize 0\n",
      "2017-03-12 12:11:59,361 : INFO : PROGRESS: at 83.39% examples, 519714 words/s, in_qsize 16, out_qsize 0\n",
      "2017-03-12 12:12:00,362 : INFO : PROGRESS: at 87.31% examples, 520132 words/s, in_qsize 16, out_qsize 0\n",
      "2017-03-12 12:12:01,366 : INFO : PROGRESS: at 91.36% examples, 520386 words/s, in_qsize 16, out_qsize 0\n",
      "2017-03-12 12:12:02,373 : INFO : PROGRESS: at 95.21% examples, 520610 words/s, in_qsize 16, out_qsize 0\n",
      "2017-03-12 12:12:03,379 : INFO : PROGRESS: at 99.42% examples, 520514 words/s, in_qsize 8, out_qsize 0\n",
      "2017-03-12 12:12:03,380 : INFO : worker thread finished; awaiting finish of 7 more threads\n",
      "2017-03-12 12:12:03,391 : INFO : worker thread finished; awaiting finish of 6 more threads\n",
      "2017-03-12 12:12:03,435 : INFO : worker thread finished; awaiting finish of 5 more threads\n",
      "2017-03-12 12:12:03,442 : INFO : worker thread finished; awaiting finish of 4 more threads\n",
      "2017-03-12 12:12:03,445 : INFO : worker thread finished; awaiting finish of 3 more threads\n",
      "2017-03-12 12:12:03,449 : INFO : worker thread finished; awaiting finish of 2 more threads\n",
      "2017-03-12 12:12:03,452 : INFO : worker thread finished; awaiting finish of 1 more threads\n",
      "2017-03-12 12:12:03,456 : INFO : worker thread finished; awaiting finish of 0 more threads\n",
      "2017-03-12 12:12:03,456 : INFO : training on 14475355 raw words (13244575 effective words) took 25.4s, 521413 effective words/s\n",
      "2017-03-12 12:12:03,457 : INFO : Training D2V model Doc2Vec(dbow,d500,n12,mc5,t8)\n",
      "2017-03-12 12:12:03,458 : INFO : Epoch 8 convergence descent alpha: 0.1\n",
      "2017-03-12 12:12:09,012 : INFO : training model with 8 workers on 18141 vocabulary and 500 features, using sg=1 hs=0 sample=0 negative=12\n",
      "2017-03-12 12:12:09,013 : INFO : expecting 33847 sentences, matching count from corpus used for vocabulary survey\n",
      "2017-03-12 12:12:10,037 : INFO : PROGRESS: at 3.28% examples, 446618 words/s, in_qsize 15, out_qsize 0\n",
      "2017-03-12 12:12:11,052 : INFO : PROGRESS: at 7.16% examples, 470110 words/s, in_qsize 15, out_qsize 0\n",
      "2017-03-12 12:12:12,054 : INFO : PROGRESS: at 11.25% examples, 493348 words/s, in_qsize 15, out_qsize 0\n",
      "2017-03-12 12:12:13,070 : INFO : PROGRESS: at 15.05% examples, 498940 words/s, in_qsize 16, out_qsize 0\n",
      "2017-03-12 12:12:14,075 : INFO : PROGRESS: at 19.37% examples, 505916 words/s, in_qsize 16, out_qsize 0\n",
      "2017-03-12 12:12:15,080 : INFO : PROGRESS: at 23.07% examples, 507477 words/s, in_qsize 16, out_qsize 0\n",
      "2017-03-12 12:12:16,090 : INFO : PROGRESS: at 27.09% examples, 508366 words/s, in_qsize 16, out_qsize 0\n",
      "2017-03-12 12:12:17,107 : INFO : PROGRESS: at 30.92% examples, 507598 words/s, in_qsize 16, out_qsize 0\n",
      "2017-03-12 12:12:18,115 : INFO : PROGRESS: at 33.92% examples, 497565 words/s, in_qsize 16, out_qsize 0\n",
      "2017-03-12 12:12:19,120 : INFO : PROGRESS: at 37.78% examples, 496612 words/s, in_qsize 15, out_qsize 0\n",
      "2017-03-12 12:12:20,127 : INFO : PROGRESS: at 41.75% examples, 497511 words/s, in_qsize 16, out_qsize 0\n",
      "2017-03-12 12:12:21,127 : INFO : PROGRESS: at 45.18% examples, 493982 words/s, in_qsize 15, out_qsize 0\n",
      "2017-03-12 12:12:22,140 : INFO : PROGRESS: at 48.65% examples, 491233 words/s, in_qsize 15, out_qsize 0\n",
      "2017-03-12 12:12:23,163 : INFO : PROGRESS: at 52.06% examples, 490116 words/s, in_qsize 15, out_qsize 0\n",
      "2017-03-12 12:12:24,169 : INFO : PROGRESS: at 55.92% examples, 490659 words/s, in_qsize 15, out_qsize 0\n",
      "2017-03-12 12:12:25,186 : INFO : PROGRESS: at 60.12% examples, 491954 words/s, in_qsize 16, out_qsize 0\n",
      "2017-03-12 12:12:26,198 : INFO : PROGRESS: at 63.85% examples, 492843 words/s, in_qsize 15, out_qsize 0\n",
      "2017-03-12 12:12:27,200 : INFO : PROGRESS: at 67.71% examples, 493272 words/s, in_qsize 15, out_qsize 0\n",
      "2017-03-12 12:12:28,200 : INFO : PROGRESS: at 71.58% examples, 495231 words/s, in_qsize 15, out_qsize 0\n",
      "2017-03-12 12:12:29,208 : INFO : PROGRESS: at 75.40% examples, 496083 words/s, in_qsize 15, out_qsize 0\n",
      "2017-03-12 12:12:30,211 : INFO : PROGRESS: at 79.48% examples, 496129 words/s, in_qsize 16, out_qsize 0\n",
      "2017-03-12 12:12:31,214 : INFO : PROGRESS: at 83.14% examples, 497058 words/s, in_qsize 16, out_qsize 0\n",
      "2017-03-12 12:12:32,251 : INFO : PROGRESS: at 87.07% examples, 496791 words/s, in_qsize 15, out_qsize 0\n",
      "2017-03-12 12:12:33,263 : INFO : PROGRESS: at 91.04% examples, 497681 words/s, in_qsize 16, out_qsize 0\n",
      "2017-03-12 12:12:34,268 : INFO : PROGRESS: at 94.83% examples, 498663 words/s, in_qsize 15, out_qsize 0\n",
      "2017-03-12 12:12:35,288 : INFO : PROGRESS: at 99.03% examples, 499183 words/s, in_qsize 15, out_qsize 0\n",
      "2017-03-12 12:12:35,442 : INFO : worker thread finished; awaiting finish of 7 more threads\n",
      "2017-03-12 12:12:35,447 : INFO : worker thread finished; awaiting finish of 6 more threads\n",
      "2017-03-12 12:12:35,460 : INFO : worker thread finished; awaiting finish of 5 more threads\n",
      "2017-03-12 12:12:35,476 : INFO : worker thread finished; awaiting finish of 4 more threads\n",
      "2017-03-12 12:12:35,480 : INFO : worker thread finished; awaiting finish of 3 more threads\n",
      "2017-03-12 12:12:35,486 : INFO : worker thread finished; awaiting finish of 2 more threads\n",
      "2017-03-12 12:12:35,510 : INFO : worker thread finished; awaiting finish of 1 more threads\n",
      "2017-03-12 12:12:35,511 : INFO : worker thread finished; awaiting finish of 0 more threads\n",
      "2017-03-12 12:12:35,512 : INFO : training on 14475355 raw words (13244575 effective words) took 26.5s, 499862 effective words/s\n",
      "2017-03-12 12:12:35,512 : INFO : Training D2V model Doc2Vec(dbow,d500,n12,mc5,t8)\n",
      "2017-03-12 12:12:35,513 : INFO : Epoch 9 convergence descent alpha: 0.1\n",
      "2017-03-12 12:12:41,015 : INFO : training model with 8 workers on 18141 vocabulary and 500 features, using sg=1 hs=0 sample=0 negative=12\n",
      "2017-03-12 12:12:41,015 : INFO : expecting 33847 sentences, matching count from corpus used for vocabulary survey\n",
      "2017-03-12 12:12:42,037 : INFO : PROGRESS: at 3.93% examples, 505648 words/s, in_qsize 16, out_qsize 0\n",
      "2017-03-12 12:12:43,037 : INFO : PROGRESS: at 7.82% examples, 520968 words/s, in_qsize 15, out_qsize 0\n",
      "2017-03-12 12:12:44,041 : INFO : PROGRESS: at 11.72% examples, 527974 words/s, in_qsize 15, out_qsize 0\n",
      "2017-03-12 12:12:45,044 : INFO : PROGRESS: at 15.61% examples, 522793 words/s, in_qsize 15, out_qsize 0\n",
      "2017-03-12 12:12:46,064 : INFO : PROGRESS: at 19.99% examples, 524382 words/s, in_qsize 15, out_qsize 0\n",
      "2017-03-12 12:12:47,102 : INFO : PROGRESS: at 23.72% examples, 517160 words/s, in_qsize 15, out_qsize 0\n",
      "2017-03-12 12:12:48,126 : INFO : PROGRESS: at 26.86% examples, 502022 words/s, in_qsize 15, out_qsize 0\n",
      "2017-03-12 12:12:49,136 : INFO : PROGRESS: at 29.79% examples, 492305 words/s, in_qsize 15, out_qsize 0\n",
      "2017-03-12 12:12:50,139 : INFO : PROGRESS: at 33.23% examples, 485660 words/s, in_qsize 15, out_qsize 0\n",
      "2017-03-12 12:12:51,177 : INFO : PROGRESS: at 36.25% examples, 478455 words/s, in_qsize 16, out_qsize 0\n",
      "2017-03-12 12:12:52,208 : INFO : PROGRESS: at 39.99% examples, 473205 words/s, in_qsize 16, out_qsize 0\n",
      "2017-03-12 12:12:53,213 : INFO : PROGRESS: at 43.17% examples, 469441 words/s, in_qsize 16, out_qsize 0\n",
      "2017-03-12 12:12:54,261 : INFO : PROGRESS: at 46.47% examples, 465896 words/s, in_qsize 16, out_qsize 0\n",
      "2017-03-12 12:12:55,334 : INFO : PROGRESS: at 49.71% examples, 463580 words/s, in_qsize 16, out_qsize 0\n",
      "2017-03-12 12:12:56,336 : INFO : PROGRESS: at 53.27% examples, 462563 words/s, in_qsize 16, out_qsize 0\n",
      "2017-03-12 12:12:57,367 : INFO : PROGRESS: at 56.25% examples, 459329 words/s, in_qsize 16, out_qsize 0\n",
      "2017-03-12 12:12:58,392 : INFO : PROGRESS: at 59.92% examples, 457226 words/s, in_qsize 16, out_qsize 0\n",
      "2017-03-12 12:12:59,424 : INFO : PROGRESS: at 63.28% examples, 455692 words/s, in_qsize 16, out_qsize 0\n",
      "2017-03-12 12:13:00,426 : INFO : PROGRESS: at 66.57% examples, 454876 words/s, in_qsize 16, out_qsize 0\n",
      "2017-03-12 12:13:01,440 : INFO : PROGRESS: at 69.53% examples, 453329 words/s, in_qsize 15, out_qsize 0\n",
      "2017-03-12 12:13:02,450 : INFO : PROGRESS: at 72.78% examples, 451654 words/s, in_qsize 16, out_qsize 0\n",
      "2017-03-12 12:13:03,456 : INFO : PROGRESS: at 75.98% examples, 450698 words/s, in_qsize 16, out_qsize 0\n",
      "2017-03-12 12:13:04,459 : INFO : PROGRESS: at 79.17% examples, 448105 words/s, in_qsize 15, out_qsize 0\n",
      "2017-03-12 12:13:05,510 : INFO : PROGRESS: at 82.77% examples, 447598 words/s, in_qsize 16, out_qsize 0\n",
      "2017-03-12 12:13:06,555 : INFO : PROGRESS: at 85.83% examples, 445791 words/s, in_qsize 16, out_qsize 0\n",
      "2017-03-12 12:13:07,589 : INFO : PROGRESS: at 89.15% examples, 445799 words/s, in_qsize 16, out_qsize 0\n",
      "2017-03-12 12:13:08,594 : INFO : PROGRESS: at 92.24% examples, 444708 words/s, in_qsize 15, out_qsize 0\n",
      "2017-03-12 12:13:09,611 : INFO : PROGRESS: at 95.45% examples, 443274 words/s, in_qsize 16, out_qsize 0\n",
      "2017-03-12 12:13:10,637 : INFO : PROGRESS: at 99.40% examples, 444857 words/s, in_qsize 8, out_qsize 0\n",
      "2017-03-12 12:13:10,652 : INFO : worker thread finished; awaiting finish of 7 more threads\n",
      "2017-03-12 12:13:10,659 : INFO : worker thread finished; awaiting finish of 6 more threads\n",
      "2017-03-12 12:13:10,667 : INFO : worker thread finished; awaiting finish of 5 more threads\n",
      "2017-03-12 12:13:10,678 : INFO : worker thread finished; awaiting finish of 4 more threads\n",
      "2017-03-12 12:13:10,682 : INFO : worker thread finished; awaiting finish of 3 more threads\n",
      "2017-03-12 12:13:10,694 : INFO : worker thread finished; awaiting finish of 2 more threads\n",
      "2017-03-12 12:13:10,714 : INFO : worker thread finished; awaiting finish of 1 more threads\n",
      "2017-03-12 12:13:10,721 : INFO : worker thread finished; awaiting finish of 0 more threads\n",
      "2017-03-12 12:13:10,722 : INFO : training on 14475355 raw words (13244575 effective words) took 29.7s, 445898 effective words/s\n"
     ]
    }
   ],
   "source": [
    "# initialize d2v_wrapper providing as well metadata about the models state\n",
    "d2v_wrapper = D2VWrapper(content_basepath=\"../../data/content/playground\",\n",
    "                         basepath_suffix=\"_content.csv\",\n",
    "                         content_categories=[\"eap\", \"fuse\", \"devstudio\"],\n",
    "                         vector_length=500)\n",
    "\n",
    "# initialize the vocab of documents and minimize the distances of embeddings in training\n",
    "d2v_wrapper.init_model_vocab()\n",
    "d2v_wrapper.train_model(shuffle=True, epochs=1 if TEST_MODE else 10)\n",
    "\n",
    "# transform the doc data set into a vector set\n",
    "doc_vectors_labeled = d2v_wrapper.infer_content_vectors()\n",
    "doc_vectors = doc_vectors_labeled.iloc[:, :-1]\n",
    "doc_labels = doc_vectors_labeled.iloc[:, -1]"
   ]
  },
  {
   "cell_type": "code",
   "execution_count": 4,
   "metadata": {
    "collapsed": true,
    "scrolled": false
   },
   "outputs": [],
   "source": [
    "# extended evaluation metric on selected category\n",
    "def accuracy_for_category(y_expected, y_actual, label):\n",
    "    label_expected = y_expected[y_expected == label]\n",
    "    intersect = y_expected[np.where(y_expected == y_actual)]\n",
    "    label_intersect = intersect[intersect == label]\n",
    "\n",
    "    return float(len(label_intersect)) / len(label_expected)"
   ]
  },
  {
   "cell_type": "code",
   "execution_count": 5,
   "metadata": {
    "collapsed": true,
    "scrolled": false
   },
   "outputs": [],
   "source": [
    "# encoding/decoding target categories\n",
    "mapping = []\n",
    "\n",
    "\n",
    "def encode_categories(target_series):\n",
    "    global mapping\n",
    "    if not len(mapping):\n",
    "        for cat in target_series.unique():\n",
    "            mapping.append(cat)\n",
    "\n",
    "    return target_series.apply(lambda cat_str: mapping.index(cat_str))\n",
    "\n",
    "\n",
    "def decode_categories(target_series):\n",
    "    global mapping\n",
    "    return target_series.apply(lambda cat_idx: mapping[cat_idx])\n",
    "\n",
    "\n",
    "def dataset_from_dataframe(data_df, target_series):\n",
    "    dataset = tf.contrib.learn.datasets.base.Dataset(data=data_df.values, target=encode_categories(target_series))\n",
    "    return dataset"
   ]
  },
  {
   "cell_type": "code",
   "execution_count": 6,
   "metadata": {
    "collapsed": false,
    "scrolled": true
   },
   "outputs": [
    {
     "name": "stdout",
     "output_type": "stream",
     "text": [
      "WARNING:tensorflow:Using temporary folder as model directory: /tmp/tmpGq6CZN\n"
     ]
    },
    {
     "name": "stderr",
     "output_type": "stream",
     "text": [
      "2017-03-12 12:15:45,493 : WARNING : Using temporary folder as model directory: /tmp/tmpGq6CZN\n"
     ]
    },
    {
     "name": "stdout",
     "output_type": "stream",
     "text": [
      "INFO:tensorflow:Using default config.\n"
     ]
    },
    {
     "name": "stderr",
     "output_type": "stream",
     "text": [
      "2017-03-12 12:15:45,494 : INFO : Using default config.\n"
     ]
    },
    {
     "name": "stdout",
     "output_type": "stream",
     "text": [
      "INFO:tensorflow:Using config: {'_save_checkpoints_secs': 600, '_num_ps_replicas': 0, '_keep_checkpoint_max': 5, '_tf_random_seed': None, '_task_type': None, '_environment': 'local', '_is_chief': True, '_cluster_spec': <tensorflow.python.training.server_lib.ClusterSpec object at 0x7f0d8c502850>, '_tf_config': gpu_options {\n",
      "  per_process_gpu_memory_fraction: 1\n",
      "}\n",
      ", '_task_id': 0, '_save_summary_steps': 100, '_save_checkpoints_steps': None, '_evaluation_master': '', '_keep_checkpoint_every_n_hours': 10000, '_master': ''}\n"
     ]
    },
    {
     "name": "stderr",
     "output_type": "stream",
     "text": [
      "2017-03-12 12:15:45,495 : INFO : Using config: {'_save_checkpoints_secs': 600, '_num_ps_replicas': 0, '_keep_checkpoint_max': 5, '_tf_random_seed': None, '_task_type': None, '_environment': 'local', '_is_chief': True, '_cluster_spec': <tensorflow.python.training.server_lib.ClusterSpec object at 0x7f0d8c502850>, '_tf_config': gpu_options {\n",
      "  per_process_gpu_memory_fraction: 1\n",
      "}\n",
      ", '_task_id': 0, '_save_summary_steps': 100, '_save_checkpoints_steps': None, '_evaluation_master': '', '_keep_checkpoint_every_n_hours': 10000, '_master': ''}\n"
     ]
    },
    {
     "name": "stdout",
     "output_type": "stream",
     "text": [
      "WARNING:tensorflow:float64 is not supported by many models, consider casting to float32.\n"
     ]
    },
    {
     "name": "stderr",
     "output_type": "stream",
     "text": [
      "2017-03-12 12:15:45,496 : WARNING : float64 is not supported by many models, consider casting to float32.\n"
     ]
    },
    {
     "name": "stdout",
     "output_type": "stream",
     "text": [
      "WARNING:tensorflow:From /usr/lib/python2.7/site-packages/tensorflow/contrib/learn/python/learn/estimators/head.py:1362: scalar_summary (from tensorflow.python.ops.logging_ops) is deprecated and will be removed after 2016-11-30.\n",
      "Instructions for updating:\n",
      "Please switch to tf.summary.scalar. Note that tf.summary.scalar uses the node name instead of the tag. This means that TensorFlow will automatically de-duplicate summary names based on the scope they are created in. Also, passing a tensor or list of tags to a scalar summary op is no longer supported.\n"
     ]
    },
    {
     "name": "stderr",
     "output_type": "stream",
     "text": [
      "2017-03-12 12:15:45,564 : WARNING : From /usr/lib/python2.7/site-packages/tensorflow/contrib/learn/python/learn/estimators/head.py:1362: scalar_summary (from tensorflow.python.ops.logging_ops) is deprecated and will be removed after 2016-11-30.\n",
      "Instructions for updating:\n",
      "Please switch to tf.summary.scalar. Note that tf.summary.scalar uses the node name instead of the tag. This means that TensorFlow will automatically de-duplicate summary names based on the scope they are created in. Also, passing a tensor or list of tags to a scalar summary op is no longer supported.\n"
     ]
    },
    {
     "name": "stdout",
     "output_type": "stream",
     "text": [
      "INFO:tensorflow:Create CheckpointSaverHook.\n"
     ]
    },
    {
     "name": "stderr",
     "output_type": "stream",
     "text": [
      "2017-03-12 12:15:45,954 : INFO : Create CheckpointSaverHook.\n"
     ]
    },
    {
     "name": "stdout",
     "output_type": "stream",
     "text": [
      "INFO:tensorflow:Saving checkpoints for 1 into /tmp/tmpGq6CZN/model.ckpt.\n"
     ]
    },
    {
     "name": "stderr",
     "output_type": "stream",
     "text": [
      "2017-03-12 12:15:47,557 : INFO : Saving checkpoints for 1 into /tmp/tmpGq6CZN/model.ckpt.\n"
     ]
    },
    {
     "name": "stdout",
     "output_type": "stream",
     "text": [
      "INFO:tensorflow:loss = 1.14349, step = 1\n"
     ]
    },
    {
     "name": "stderr",
     "output_type": "stream",
     "text": [
      "2017-03-12 12:15:47,977 : INFO : loss = 1.14349, step = 1\n"
     ]
    },
    {
     "name": "stdout",
     "output_type": "stream",
     "text": [
      "INFO:tensorflow:global_step/sec: 185.207\n"
     ]
    },
    {
     "name": "stderr",
     "output_type": "stream",
     "text": [
      "2017-03-12 12:15:48,515 : INFO : global_step/sec: 185.207\n"
     ]
    },
    {
     "name": "stdout",
     "output_type": "stream",
     "text": [
      "INFO:tensorflow:loss = 0.202024, step = 101\n"
     ]
    },
    {
     "name": "stderr",
     "output_type": "stream",
     "text": [
      "2017-03-12 12:15:48,518 : INFO : loss = 0.202024, step = 101\n"
     ]
    },
    {
     "name": "stdout",
     "output_type": "stream",
     "text": [
      "INFO:tensorflow:global_step/sec: 187.582\n"
     ]
    },
    {
     "name": "stderr",
     "output_type": "stream",
     "text": [
      "2017-03-12 12:15:49,048 : INFO : global_step/sec: 187.582\n"
     ]
    },
    {
     "name": "stdout",
     "output_type": "stream",
     "text": [
      "INFO:tensorflow:loss = 0.215741, step = 201\n"
     ]
    },
    {
     "name": "stderr",
     "output_type": "stream",
     "text": [
      "2017-03-12 12:15:49,051 : INFO : loss = 0.215741, step = 201\n"
     ]
    },
    {
     "name": "stdout",
     "output_type": "stream",
     "text": [
      "INFO:tensorflow:global_step/sec: 187.621\n"
     ]
    },
    {
     "name": "stderr",
     "output_type": "stream",
     "text": [
      "2017-03-12 12:15:49,581 : INFO : global_step/sec: 187.621\n"
     ]
    },
    {
     "name": "stdout",
     "output_type": "stream",
     "text": [
      "INFO:tensorflow:loss = 0.157334, step = 301\n"
     ]
    },
    {
     "name": "stderr",
     "output_type": "stream",
     "text": [
      "2017-03-12 12:15:49,584 : INFO : loss = 0.157334, step = 301\n"
     ]
    },
    {
     "name": "stdout",
     "output_type": "stream",
     "text": [
      "INFO:tensorflow:global_step/sec: 187.884\n"
     ]
    },
    {
     "name": "stderr",
     "output_type": "stream",
     "text": [
      "2017-03-12 12:15:50,114 : INFO : global_step/sec: 187.884\n"
     ]
    },
    {
     "name": "stdout",
     "output_type": "stream",
     "text": [
      "INFO:tensorflow:loss = 0.27233, step = 401\n"
     ]
    },
    {
     "name": "stderr",
     "output_type": "stream",
     "text": [
      "2017-03-12 12:15:50,116 : INFO : loss = 0.27233, step = 401\n"
     ]
    },
    {
     "name": "stdout",
     "output_type": "stream",
     "text": [
      "INFO:tensorflow:global_step/sec: 188.397\n"
     ]
    },
    {
     "name": "stderr",
     "output_type": "stream",
     "text": [
      "2017-03-12 12:15:50,645 : INFO : global_step/sec: 188.397\n"
     ]
    },
    {
     "name": "stdout",
     "output_type": "stream",
     "text": [
      "INFO:tensorflow:loss = 0.155025, step = 501\n"
     ]
    },
    {
     "name": "stderr",
     "output_type": "stream",
     "text": [
      "2017-03-12 12:15:50,647 : INFO : loss = 0.155025, step = 501\n"
     ]
    },
    {
     "name": "stdout",
     "output_type": "stream",
     "text": [
      "INFO:tensorflow:global_step/sec: 188.11\n"
     ]
    },
    {
     "name": "stderr",
     "output_type": "stream",
     "text": [
      "2017-03-12 12:15:51,176 : INFO : global_step/sec: 188.11\n"
     ]
    },
    {
     "name": "stdout",
     "output_type": "stream",
     "text": [
      "INFO:tensorflow:loss = 0.19376, step = 601\n"
     ]
    },
    {
     "name": "stderr",
     "output_type": "stream",
     "text": [
      "2017-03-12 12:15:51,179 : INFO : loss = 0.19376, step = 601\n"
     ]
    },
    {
     "name": "stdout",
     "output_type": "stream",
     "text": [
      "INFO:tensorflow:global_step/sec: 186.845\n"
     ]
    },
    {
     "name": "stderr",
     "output_type": "stream",
     "text": [
      "2017-03-12 12:15:51,711 : INFO : global_step/sec: 186.845\n"
     ]
    },
    {
     "name": "stdout",
     "output_type": "stream",
     "text": [
      "INFO:tensorflow:loss = 0.19894, step = 701\n"
     ]
    },
    {
     "name": "stderr",
     "output_type": "stream",
     "text": [
      "2017-03-12 12:15:51,714 : INFO : loss = 0.19894, step = 701\n"
     ]
    },
    {
     "name": "stdout",
     "output_type": "stream",
     "text": [
      "INFO:tensorflow:global_step/sec: 163.851\n"
     ]
    },
    {
     "name": "stderr",
     "output_type": "stream",
     "text": [
      "2017-03-12 12:15:52,322 : INFO : global_step/sec: 163.851\n"
     ]
    },
    {
     "name": "stdout",
     "output_type": "stream",
     "text": [
      "INFO:tensorflow:loss = 0.190931, step = 801\n"
     ]
    },
    {
     "name": "stderr",
     "output_type": "stream",
     "text": [
      "2017-03-12 12:15:52,324 : INFO : loss = 0.190931, step = 801\n"
     ]
    },
    {
     "name": "stdout",
     "output_type": "stream",
     "text": [
      "INFO:tensorflow:global_step/sec: 162.393\n"
     ]
    },
    {
     "name": "stderr",
     "output_type": "stream",
     "text": [
      "2017-03-12 12:15:52,937 : INFO : global_step/sec: 162.393\n"
     ]
    },
    {
     "name": "stdout",
     "output_type": "stream",
     "text": [
      "INFO:tensorflow:loss = 0.145212, step = 901\n"
     ]
    },
    {
     "name": "stderr",
     "output_type": "stream",
     "text": [
      "2017-03-12 12:15:52,940 : INFO : loss = 0.145212, step = 901\n"
     ]
    },
    {
     "name": "stdout",
     "output_type": "stream",
     "text": [
      "INFO:tensorflow:global_step/sec: 167.565\n"
     ]
    },
    {
     "name": "stderr",
     "output_type": "stream",
     "text": [
      "2017-03-12 12:15:53,534 : INFO : global_step/sec: 167.565\n"
     ]
    },
    {
     "name": "stdout",
     "output_type": "stream",
     "text": [
      "INFO:tensorflow:loss = 0.0956784, step = 1001\n"
     ]
    },
    {
     "name": "stderr",
     "output_type": "stream",
     "text": [
      "2017-03-12 12:15:53,536 : INFO : loss = 0.0956784, step = 1001\n"
     ]
    },
    {
     "name": "stdout",
     "output_type": "stream",
     "text": [
      "INFO:tensorflow:global_step/sec: 168.011\n"
     ]
    },
    {
     "name": "stderr",
     "output_type": "stream",
     "text": [
      "2017-03-12 12:15:54,129 : INFO : global_step/sec: 168.011\n"
     ]
    },
    {
     "name": "stdout",
     "output_type": "stream",
     "text": [
      "INFO:tensorflow:loss = 0.130283, step = 1101\n"
     ]
    },
    {
     "name": "stderr",
     "output_type": "stream",
     "text": [
      "2017-03-12 12:15:54,132 : INFO : loss = 0.130283, step = 1101\n"
     ]
    },
    {
     "name": "stdout",
     "output_type": "stream",
     "text": [
      "INFO:tensorflow:global_step/sec: 167.675\n"
     ]
    },
    {
     "name": "stderr",
     "output_type": "stream",
     "text": [
      "2017-03-12 12:15:54,726 : INFO : global_step/sec: 167.675\n"
     ]
    },
    {
     "name": "stdout",
     "output_type": "stream",
     "text": [
      "INFO:tensorflow:loss = 0.199959, step = 1201\n"
     ]
    },
    {
     "name": "stderr",
     "output_type": "stream",
     "text": [
      "2017-03-12 12:15:54,728 : INFO : loss = 0.199959, step = 1201\n"
     ]
    },
    {
     "name": "stdout",
     "output_type": "stream",
     "text": [
      "INFO:tensorflow:global_step/sec: 168.168\n"
     ]
    },
    {
     "name": "stderr",
     "output_type": "stream",
     "text": [
      "2017-03-12 12:15:55,320 : INFO : global_step/sec: 168.168\n"
     ]
    },
    {
     "name": "stdout",
     "output_type": "stream",
     "text": [
      "INFO:tensorflow:loss = 0.0589232, step = 1301\n"
     ]
    },
    {
     "name": "stderr",
     "output_type": "stream",
     "text": [
      "2017-03-12 12:15:55,323 : INFO : loss = 0.0589232, step = 1301\n"
     ]
    },
    {
     "name": "stdout",
     "output_type": "stream",
     "text": [
      "INFO:tensorflow:global_step/sec: 168.157\n"
     ]
    },
    {
     "name": "stderr",
     "output_type": "stream",
     "text": [
      "2017-03-12 12:15:55,915 : INFO : global_step/sec: 168.157\n"
     ]
    },
    {
     "name": "stdout",
     "output_type": "stream",
     "text": [
      "INFO:tensorflow:loss = 0.0924728, step = 1401\n"
     ]
    },
    {
     "name": "stderr",
     "output_type": "stream",
     "text": [
      "2017-03-12 12:15:55,918 : INFO : loss = 0.0924728, step = 1401\n"
     ]
    },
    {
     "name": "stdout",
     "output_type": "stream",
     "text": [
      "INFO:tensorflow:global_step/sec: 168.446\n"
     ]
    },
    {
     "name": "stderr",
     "output_type": "stream",
     "text": [
      "2017-03-12 12:15:56,509 : INFO : global_step/sec: 168.446\n"
     ]
    },
    {
     "name": "stdout",
     "output_type": "stream",
     "text": [
      "INFO:tensorflow:loss = 0.12647, step = 1501\n"
     ]
    },
    {
     "name": "stderr",
     "output_type": "stream",
     "text": [
      "2017-03-12 12:15:56,511 : INFO : loss = 0.12647, step = 1501\n"
     ]
    },
    {
     "name": "stdout",
     "output_type": "stream",
     "text": [
      "INFO:tensorflow:global_step/sec: 166.968\n"
     ]
    },
    {
     "name": "stderr",
     "output_type": "stream",
     "text": [
      "2017-03-12 12:15:57,108 : INFO : global_step/sec: 166.968\n"
     ]
    },
    {
     "name": "stdout",
     "output_type": "stream",
     "text": [
      "INFO:tensorflow:loss = 0.196676, step = 1601\n"
     ]
    },
    {
     "name": "stderr",
     "output_type": "stream",
     "text": [
      "2017-03-12 12:15:57,110 : INFO : loss = 0.196676, step = 1601\n"
     ]
    },
    {
     "name": "stdout",
     "output_type": "stream",
     "text": [
      "INFO:tensorflow:global_step/sec: 166.032\n"
     ]
    },
    {
     "name": "stderr",
     "output_type": "stream",
     "text": [
      "2017-03-12 12:15:57,710 : INFO : global_step/sec: 166.032\n"
     ]
    },
    {
     "name": "stdout",
     "output_type": "stream",
     "text": [
      "INFO:tensorflow:loss = 0.0872727, step = 1701\n"
     ]
    },
    {
     "name": "stderr",
     "output_type": "stream",
     "text": [
      "2017-03-12 12:15:57,712 : INFO : loss = 0.0872727, step = 1701\n"
     ]
    },
    {
     "name": "stdout",
     "output_type": "stream",
     "text": [
      "INFO:tensorflow:global_step/sec: 161.901\n"
     ]
    },
    {
     "name": "stderr",
     "output_type": "stream",
     "text": [
      "2017-03-12 12:15:58,328 : INFO : global_step/sec: 161.901\n"
     ]
    },
    {
     "name": "stdout",
     "output_type": "stream",
     "text": [
      "INFO:tensorflow:loss = 0.15868, step = 1801\n"
     ]
    },
    {
     "name": "stderr",
     "output_type": "stream",
     "text": [
      "2017-03-12 12:15:58,331 : INFO : loss = 0.15868, step = 1801\n"
     ]
    },
    {
     "name": "stdout",
     "output_type": "stream",
     "text": [
      "INFO:tensorflow:global_step/sec: 165.387\n"
     ]
    },
    {
     "name": "stderr",
     "output_type": "stream",
     "text": [
      "2017-03-12 12:15:58,932 : INFO : global_step/sec: 165.387\n"
     ]
    },
    {
     "name": "stdout",
     "output_type": "stream",
     "text": [
      "INFO:tensorflow:loss = 0.333855, step = 1901\n"
     ]
    },
    {
     "name": "stderr",
     "output_type": "stream",
     "text": [
      "2017-03-12 12:15:58,935 : INFO : loss = 0.333855, step = 1901\n"
     ]
    },
    {
     "name": "stdout",
     "output_type": "stream",
     "text": [
      "INFO:tensorflow:Saving checkpoints for 2000 into /tmp/tmpGq6CZN/model.ckpt.\n"
     ]
    },
    {
     "name": "stderr",
     "output_type": "stream",
     "text": [
      "2017-03-12 12:15:59,564 : INFO : Saving checkpoints for 2000 into /tmp/tmpGq6CZN/model.ckpt.\n"
     ]
    },
    {
     "name": "stdout",
     "output_type": "stream",
     "text": [
      "INFO:tensorflow:Loss for final step: 0.0844826.\n"
     ]
    },
    {
     "name": "stderr",
     "output_type": "stream",
     "text": [
      "2017-03-12 12:15:59,853 : INFO : Loss for final step: 0.0844826.\n"
     ]
    },
    {
     "name": "stdout",
     "output_type": "stream",
     "text": [
      "WARNING:tensorflow:float64 is not supported by many models, consider casting to float32.\n"
     ]
    },
    {
     "name": "stderr",
     "output_type": "stream",
     "text": [
      "2017-03-12 12:15:59,953 : WARNING : float64 is not supported by many models, consider casting to float32.\n",
      "2017-03-12 12:16:00,377 : WARNING : Run accuracy: 0.932801654113\n",
      "2017-03-12 12:16:00,379 : WARNING : Cat accuracies:\n",
      "[0.9551343570057581, 0.8938212357528494, 0.9027777777777778]\n"
     ]
    },
    {
     "name": "stdout",
     "output_type": "stream",
     "text": [
      "WARNING:tensorflow:Using temporary folder as model directory: /tmp/tmpjDiuwq\n"
     ]
    },
    {
     "name": "stderr",
     "output_type": "stream",
     "text": [
      "2017-03-12 12:16:00,489 : WARNING : Using temporary folder as model directory: /tmp/tmpjDiuwq\n"
     ]
    },
    {
     "name": "stdout",
     "output_type": "stream",
     "text": [
      "INFO:tensorflow:Using default config.\n"
     ]
    },
    {
     "name": "stderr",
     "output_type": "stream",
     "text": [
      "2017-03-12 12:16:00,490 : INFO : Using default config.\n"
     ]
    },
    {
     "name": "stdout",
     "output_type": "stream",
     "text": [
      "INFO:tensorflow:Using config: {'_save_checkpoints_secs': 600, '_num_ps_replicas': 0, '_keep_checkpoint_max': 5, '_tf_random_seed': None, '_task_type': None, '_environment': 'local', '_is_chief': True, '_cluster_spec': <tensorflow.python.training.server_lib.ClusterSpec object at 0x7f0d79798b10>, '_tf_config': gpu_options {\n",
      "  per_process_gpu_memory_fraction: 1\n",
      "}\n",
      ", '_task_id': 0, '_save_summary_steps': 100, '_save_checkpoints_steps': None, '_evaluation_master': '', '_keep_checkpoint_every_n_hours': 10000, '_master': ''}\n"
     ]
    },
    {
     "name": "stderr",
     "output_type": "stream",
     "text": [
      "2017-03-12 12:16:00,491 : INFO : Using config: {'_save_checkpoints_secs': 600, '_num_ps_replicas': 0, '_keep_checkpoint_max': 5, '_tf_random_seed': None, '_task_type': None, '_environment': 'local', '_is_chief': True, '_cluster_spec': <tensorflow.python.training.server_lib.ClusterSpec object at 0x7f0d79798b10>, '_tf_config': gpu_options {\n",
      "  per_process_gpu_memory_fraction: 1\n",
      "}\n",
      ", '_task_id': 0, '_save_summary_steps': 100, '_save_checkpoints_steps': None, '_evaluation_master': '', '_keep_checkpoint_every_n_hours': 10000, '_master': ''}\n"
     ]
    },
    {
     "name": "stdout",
     "output_type": "stream",
     "text": [
      "WARNING:tensorflow:float64 is not supported by many models, consider casting to float32.\n"
     ]
    },
    {
     "name": "stderr",
     "output_type": "stream",
     "text": [
      "2017-03-12 12:16:00,492 : WARNING : float64 is not supported by many models, consider casting to float32.\n"
     ]
    },
    {
     "name": "stdout",
     "output_type": "stream",
     "text": [
      "WARNING:tensorflow:From /usr/lib/python2.7/site-packages/tensorflow/contrib/learn/python/learn/estimators/head.py:1362: scalar_summary (from tensorflow.python.ops.logging_ops) is deprecated and will be removed after 2016-11-30.\n",
      "Instructions for updating:\n",
      "Please switch to tf.summary.scalar. Note that tf.summary.scalar uses the node name instead of the tag. This means that TensorFlow will automatically de-duplicate summary names based on the scope they are created in. Also, passing a tensor or list of tags to a scalar summary op is no longer supported.\n"
     ]
    },
    {
     "name": "stderr",
     "output_type": "stream",
     "text": [
      "2017-03-12 12:16:00,557 : WARNING : From /usr/lib/python2.7/site-packages/tensorflow/contrib/learn/python/learn/estimators/head.py:1362: scalar_summary (from tensorflow.python.ops.logging_ops) is deprecated and will be removed after 2016-11-30.\n",
      "Instructions for updating:\n",
      "Please switch to tf.summary.scalar. Note that tf.summary.scalar uses the node name instead of the tag. This means that TensorFlow will automatically de-duplicate summary names based on the scope they are created in. Also, passing a tensor or list of tags to a scalar summary op is no longer supported.\n"
     ]
    },
    {
     "name": "stdout",
     "output_type": "stream",
     "text": [
      "INFO:tensorflow:Create CheckpointSaverHook.\n"
     ]
    },
    {
     "name": "stderr",
     "output_type": "stream",
     "text": [
      "2017-03-12 12:16:00,820 : INFO : Create CheckpointSaverHook.\n"
     ]
    },
    {
     "name": "stdout",
     "output_type": "stream",
     "text": [
      "INFO:tensorflow:Saving checkpoints for 1 into /tmp/tmpjDiuwq/model.ckpt.\n"
     ]
    },
    {
     "name": "stderr",
     "output_type": "stream",
     "text": [
      "2017-03-12 12:16:02,498 : INFO : Saving checkpoints for 1 into /tmp/tmpjDiuwq/model.ckpt.\n"
     ]
    },
    {
     "name": "stdout",
     "output_type": "stream",
     "text": [
      "INFO:tensorflow:loss = 1.19609, step = 1\n"
     ]
    },
    {
     "name": "stderr",
     "output_type": "stream",
     "text": [
      "2017-03-12 12:16:02,933 : INFO : loss = 1.19609, step = 1\n"
     ]
    },
    {
     "name": "stdout",
     "output_type": "stream",
     "text": [
      "INFO:tensorflow:global_step/sec: 186.234\n"
     ]
    },
    {
     "name": "stderr",
     "output_type": "stream",
     "text": [
      "2017-03-12 12:16:03,468 : INFO : global_step/sec: 186.234\n"
     ]
    },
    {
     "name": "stdout",
     "output_type": "stream",
     "text": [
      "INFO:tensorflow:loss = 0.241204, step = 101\n"
     ]
    },
    {
     "name": "stderr",
     "output_type": "stream",
     "text": [
      "2017-03-12 12:16:03,471 : INFO : loss = 0.241204, step = 101\n"
     ]
    },
    {
     "name": "stdout",
     "output_type": "stream",
     "text": [
      "INFO:tensorflow:global_step/sec: 184.219\n"
     ]
    },
    {
     "name": "stderr",
     "output_type": "stream",
     "text": [
      "2017-03-12 12:16:04,011 : INFO : global_step/sec: 184.219\n"
     ]
    },
    {
     "name": "stdout",
     "output_type": "stream",
     "text": [
      "INFO:tensorflow:loss = 0.19195, step = 201\n"
     ]
    },
    {
     "name": "stderr",
     "output_type": "stream",
     "text": [
      "2017-03-12 12:16:04,013 : INFO : loss = 0.19195, step = 201\n"
     ]
    },
    {
     "name": "stdout",
     "output_type": "stream",
     "text": [
      "INFO:tensorflow:global_step/sec: 179.864\n"
     ]
    },
    {
     "name": "stderr",
     "output_type": "stream",
     "text": [
      "2017-03-12 12:16:04,567 : INFO : global_step/sec: 179.864\n"
     ]
    },
    {
     "name": "stdout",
     "output_type": "stream",
     "text": [
      "INFO:tensorflow:loss = 0.215372, step = 301\n"
     ]
    },
    {
     "name": "stderr",
     "output_type": "stream",
     "text": [
      "2017-03-12 12:16:04,569 : INFO : loss = 0.215372, step = 301\n"
     ]
    },
    {
     "name": "stdout",
     "output_type": "stream",
     "text": [
      "INFO:tensorflow:global_step/sec: 178.51\n"
     ]
    },
    {
     "name": "stderr",
     "output_type": "stream",
     "text": [
      "2017-03-12 12:16:05,127 : INFO : global_step/sec: 178.51\n"
     ]
    },
    {
     "name": "stdout",
     "output_type": "stream",
     "text": [
      "INFO:tensorflow:loss = 0.199204, step = 401\n"
     ]
    },
    {
     "name": "stderr",
     "output_type": "stream",
     "text": [
      "2017-03-12 12:16:05,130 : INFO : loss = 0.199204, step = 401\n"
     ]
    },
    {
     "name": "stdout",
     "output_type": "stream",
     "text": [
      "INFO:tensorflow:global_step/sec: 179.472\n"
     ]
    },
    {
     "name": "stderr",
     "output_type": "stream",
     "text": [
      "2017-03-12 12:16:05,685 : INFO : global_step/sec: 179.472\n"
     ]
    },
    {
     "name": "stdout",
     "output_type": "stream",
     "text": [
      "INFO:tensorflow:loss = 0.165623, step = 501\n"
     ]
    },
    {
     "name": "stderr",
     "output_type": "stream",
     "text": [
      "2017-03-12 12:16:05,688 : INFO : loss = 0.165623, step = 501\n"
     ]
    },
    {
     "name": "stdout",
     "output_type": "stream",
     "text": [
      "INFO:tensorflow:global_step/sec: 167.585\n"
     ]
    },
    {
     "name": "stderr",
     "output_type": "stream",
     "text": [
      "2017-03-12 12:16:06,281 : INFO : global_step/sec: 167.585\n"
     ]
    },
    {
     "name": "stdout",
     "output_type": "stream",
     "text": [
      "INFO:tensorflow:loss = 0.166921, step = 601\n"
     ]
    },
    {
     "name": "stderr",
     "output_type": "stream",
     "text": [
      "2017-03-12 12:16:06,284 : INFO : loss = 0.166921, step = 601\n"
     ]
    },
    {
     "name": "stdout",
     "output_type": "stream",
     "text": [
      "INFO:tensorflow:global_step/sec: 181.442\n"
     ]
    },
    {
     "name": "stderr",
     "output_type": "stream",
     "text": [
      "2017-03-12 12:16:06,832 : INFO : global_step/sec: 181.442\n"
     ]
    },
    {
     "name": "stdout",
     "output_type": "stream",
     "text": [
      "INFO:tensorflow:loss = 0.202256, step = 701\n"
     ]
    },
    {
     "name": "stderr",
     "output_type": "stream",
     "text": [
      "2017-03-12 12:16:06,835 : INFO : loss = 0.202256, step = 701\n"
     ]
    },
    {
     "name": "stdout",
     "output_type": "stream",
     "text": [
      "INFO:tensorflow:global_step/sec: 159.108\n"
     ]
    },
    {
     "name": "stderr",
     "output_type": "stream",
     "text": [
      "2017-03-12 12:16:07,461 : INFO : global_step/sec: 159.108\n"
     ]
    },
    {
     "name": "stdout",
     "output_type": "stream",
     "text": [
      "INFO:tensorflow:loss = 0.145688, step = 801\n"
     ]
    },
    {
     "name": "stderr",
     "output_type": "stream",
     "text": [
      "2017-03-12 12:16:07,463 : INFO : loss = 0.145688, step = 801\n"
     ]
    },
    {
     "name": "stdout",
     "output_type": "stream",
     "text": [
      "INFO:tensorflow:global_step/sec: 158.276\n"
     ]
    },
    {
     "name": "stderr",
     "output_type": "stream",
     "text": [
      "2017-03-12 12:16:08,093 : INFO : global_step/sec: 158.276\n"
     ]
    },
    {
     "name": "stdout",
     "output_type": "stream",
     "text": [
      "INFO:tensorflow:loss = 0.166341, step = 901\n"
     ]
    },
    {
     "name": "stderr",
     "output_type": "stream",
     "text": [
      "2017-03-12 12:16:08,095 : INFO : loss = 0.166341, step = 901\n"
     ]
    },
    {
     "name": "stdout",
     "output_type": "stream",
     "text": [
      "INFO:tensorflow:global_step/sec: 162.786\n"
     ]
    },
    {
     "name": "stderr",
     "output_type": "stream",
     "text": [
      "2017-03-12 12:16:08,707 : INFO : global_step/sec: 162.786\n"
     ]
    },
    {
     "name": "stdout",
     "output_type": "stream",
     "text": [
      "INFO:tensorflow:loss = 0.101137, step = 1001\n"
     ]
    },
    {
     "name": "stderr",
     "output_type": "stream",
     "text": [
      "2017-03-12 12:16:08,709 : INFO : loss = 0.101137, step = 1001\n"
     ]
    },
    {
     "name": "stdout",
     "output_type": "stream",
     "text": [
      "INFO:tensorflow:global_step/sec: 165.681\n"
     ]
    },
    {
     "name": "stderr",
     "output_type": "stream",
     "text": [
      "2017-03-12 12:16:09,311 : INFO : global_step/sec: 165.681\n"
     ]
    },
    {
     "name": "stdout",
     "output_type": "stream",
     "text": [
      "INFO:tensorflow:loss = 0.162898, step = 1101\n"
     ]
    },
    {
     "name": "stderr",
     "output_type": "stream",
     "text": [
      "2017-03-12 12:16:09,313 : INFO : loss = 0.162898, step = 1101\n"
     ]
    },
    {
     "name": "stdout",
     "output_type": "stream",
     "text": [
      "INFO:tensorflow:global_step/sec: 153.192\n"
     ]
    },
    {
     "name": "stderr",
     "output_type": "stream",
     "text": [
      "2017-03-12 12:16:09,963 : INFO : global_step/sec: 153.192\n"
     ]
    },
    {
     "name": "stdout",
     "output_type": "stream",
     "text": [
      "INFO:tensorflow:loss = 0.228756, step = 1201\n"
     ]
    },
    {
     "name": "stderr",
     "output_type": "stream",
     "text": [
      "2017-03-12 12:16:09,966 : INFO : loss = 0.228756, step = 1201\n"
     ]
    },
    {
     "name": "stdout",
     "output_type": "stream",
     "text": [
      "INFO:tensorflow:global_step/sec: 155.278\n"
     ]
    },
    {
     "name": "stderr",
     "output_type": "stream",
     "text": [
      "2017-03-12 12:16:10,607 : INFO : global_step/sec: 155.278\n"
     ]
    },
    {
     "name": "stdout",
     "output_type": "stream",
     "text": [
      "INFO:tensorflow:loss = 0.103326, step = 1301\n"
     ]
    },
    {
     "name": "stderr",
     "output_type": "stream",
     "text": [
      "2017-03-12 12:16:10,610 : INFO : loss = 0.103326, step = 1301\n"
     ]
    },
    {
     "name": "stdout",
     "output_type": "stream",
     "text": [
      "INFO:tensorflow:global_step/sec: 143.509\n"
     ]
    },
    {
     "name": "stderr",
     "output_type": "stream",
     "text": [
      "2017-03-12 12:16:11,304 : INFO : global_step/sec: 143.509\n"
     ]
    },
    {
     "name": "stdout",
     "output_type": "stream",
     "text": [
      "INFO:tensorflow:loss = 0.0867322, step = 1401\n"
     ]
    },
    {
     "name": "stderr",
     "output_type": "stream",
     "text": [
      "2017-03-12 12:16:11,307 : INFO : loss = 0.0867322, step = 1401\n"
     ]
    },
    {
     "name": "stdout",
     "output_type": "stream",
     "text": [
      "INFO:tensorflow:global_step/sec: 133.443\n"
     ]
    },
    {
     "name": "stderr",
     "output_type": "stream",
     "text": [
      "2017-03-12 12:16:12,054 : INFO : global_step/sec: 133.443\n"
     ]
    },
    {
     "name": "stdout",
     "output_type": "stream",
     "text": [
      "INFO:tensorflow:loss = 0.137767, step = 1501\n"
     ]
    },
    {
     "name": "stderr",
     "output_type": "stream",
     "text": [
      "2017-03-12 12:16:12,057 : INFO : loss = 0.137767, step = 1501\n"
     ]
    },
    {
     "name": "stdout",
     "output_type": "stream",
     "text": [
      "INFO:tensorflow:global_step/sec: 147.504\n"
     ]
    },
    {
     "name": "stderr",
     "output_type": "stream",
     "text": [
      "2017-03-12 12:16:12,732 : INFO : global_step/sec: 147.504\n"
     ]
    },
    {
     "name": "stdout",
     "output_type": "stream",
     "text": [
      "INFO:tensorflow:loss = 0.0844106, step = 1601\n"
     ]
    },
    {
     "name": "stderr",
     "output_type": "stream",
     "text": [
      "2017-03-12 12:16:12,734 : INFO : loss = 0.0844106, step = 1601\n"
     ]
    },
    {
     "name": "stdout",
     "output_type": "stream",
     "text": [
      "INFO:tensorflow:global_step/sec: 159.317\n"
     ]
    },
    {
     "name": "stderr",
     "output_type": "stream",
     "text": [
      "2017-03-12 12:16:13,359 : INFO : global_step/sec: 159.317\n"
     ]
    },
    {
     "name": "stdout",
     "output_type": "stream",
     "text": [
      "INFO:tensorflow:loss = 0.115584, step = 1701\n"
     ]
    },
    {
     "name": "stderr",
     "output_type": "stream",
     "text": [
      "2017-03-12 12:16:13,361 : INFO : loss = 0.115584, step = 1701\n"
     ]
    },
    {
     "name": "stdout",
     "output_type": "stream",
     "text": [
      "INFO:tensorflow:global_step/sec: 162.854\n"
     ]
    },
    {
     "name": "stderr",
     "output_type": "stream",
     "text": [
      "2017-03-12 12:16:13,973 : INFO : global_step/sec: 162.854\n"
     ]
    },
    {
     "name": "stdout",
     "output_type": "stream",
     "text": [
      "INFO:tensorflow:loss = 0.189944, step = 1801\n"
     ]
    },
    {
     "name": "stderr",
     "output_type": "stream",
     "text": [
      "2017-03-12 12:16:13,975 : INFO : loss = 0.189944, step = 1801\n"
     ]
    },
    {
     "name": "stdout",
     "output_type": "stream",
     "text": [
      "INFO:tensorflow:global_step/sec: 164.819\n"
     ]
    },
    {
     "name": "stderr",
     "output_type": "stream",
     "text": [
      "2017-03-12 12:16:14,580 : INFO : global_step/sec: 164.819\n"
     ]
    },
    {
     "name": "stdout",
     "output_type": "stream",
     "text": [
      "INFO:tensorflow:loss = 0.171145, step = 1901\n"
     ]
    },
    {
     "name": "stderr",
     "output_type": "stream",
     "text": [
      "2017-03-12 12:16:14,582 : INFO : loss = 0.171145, step = 1901\n"
     ]
    },
    {
     "name": "stdout",
     "output_type": "stream",
     "text": [
      "INFO:tensorflow:Saving checkpoints for 2000 into /tmp/tmpjDiuwq/model.ckpt.\n"
     ]
    },
    {
     "name": "stderr",
     "output_type": "stream",
     "text": [
      "2017-03-12 12:16:15,177 : INFO : Saving checkpoints for 2000 into /tmp/tmpjDiuwq/model.ckpt.\n"
     ]
    },
    {
     "name": "stdout",
     "output_type": "stream",
     "text": [
      "INFO:tensorflow:Loss for final step: 0.190502.\n"
     ]
    },
    {
     "name": "stderr",
     "output_type": "stream",
     "text": [
      "2017-03-12 12:16:15,618 : INFO : Loss for final step: 0.190502.\n"
     ]
    },
    {
     "name": "stdout",
     "output_type": "stream",
     "text": [
      "WARNING:tensorflow:float64 is not supported by many models, consider casting to float32.\n"
     ]
    },
    {
     "name": "stderr",
     "output_type": "stream",
     "text": [
      "2017-03-12 12:16:15,697 : WARNING : float64 is not supported by many models, consider casting to float32.\n",
      "2017-03-12 12:16:15,947 : WARNING : Run accuracy: 0.932929531689\n",
      "2017-03-12 12:16:15,949 : WARNING : Cat accuracies:\n",
      "[0.9608925143953935, 0.9129651860744298, 0.8438502673796792]\n"
     ]
    },
    {
     "name": "stdout",
     "output_type": "stream",
     "text": [
      "WARNING:tensorflow:Using temporary folder as model directory: /tmp/tmpdESYBm\n"
     ]
    },
    {
     "name": "stderr",
     "output_type": "stream",
     "text": [
      "2017-03-12 12:16:16,056 : WARNING : Using temporary folder as model directory: /tmp/tmpdESYBm\n"
     ]
    },
    {
     "name": "stdout",
     "output_type": "stream",
     "text": [
      "INFO:tensorflow:Using default config.\n"
     ]
    },
    {
     "name": "stderr",
     "output_type": "stream",
     "text": [
      "2017-03-12 12:16:16,057 : INFO : Using default config.\n"
     ]
    },
    {
     "name": "stdout",
     "output_type": "stream",
     "text": [
      "INFO:tensorflow:Using config: {'_save_checkpoints_secs': 600, '_num_ps_replicas': 0, '_keep_checkpoint_max': 5, '_tf_random_seed': None, '_task_type': None, '_environment': 'local', '_is_chief': True, '_cluster_spec': <tensorflow.python.training.server_lib.ClusterSpec object at 0x7f0d79bcac50>, '_tf_config': gpu_options {\n",
      "  per_process_gpu_memory_fraction: 1\n",
      "}\n",
      ", '_task_id': 0, '_save_summary_steps': 100, '_save_checkpoints_steps': None, '_evaluation_master': '', '_keep_checkpoint_every_n_hours': 10000, '_master': ''}\n"
     ]
    },
    {
     "name": "stderr",
     "output_type": "stream",
     "text": [
      "2017-03-12 12:16:16,058 : INFO : Using config: {'_save_checkpoints_secs': 600, '_num_ps_replicas': 0, '_keep_checkpoint_max': 5, '_tf_random_seed': None, '_task_type': None, '_environment': 'local', '_is_chief': True, '_cluster_spec': <tensorflow.python.training.server_lib.ClusterSpec object at 0x7f0d79bcac50>, '_tf_config': gpu_options {\n",
      "  per_process_gpu_memory_fraction: 1\n",
      "}\n",
      ", '_task_id': 0, '_save_summary_steps': 100, '_save_checkpoints_steps': None, '_evaluation_master': '', '_keep_checkpoint_every_n_hours': 10000, '_master': ''}\n"
     ]
    },
    {
     "name": "stdout",
     "output_type": "stream",
     "text": [
      "WARNING:tensorflow:float64 is not supported by many models, consider casting to float32.\n"
     ]
    },
    {
     "name": "stderr",
     "output_type": "stream",
     "text": [
      "2017-03-12 12:16:16,059 : WARNING : float64 is not supported by many models, consider casting to float32.\n"
     ]
    },
    {
     "name": "stdout",
     "output_type": "stream",
     "text": [
      "WARNING:tensorflow:From /usr/lib/python2.7/site-packages/tensorflow/contrib/learn/python/learn/estimators/head.py:1362: scalar_summary (from tensorflow.python.ops.logging_ops) is deprecated and will be removed after 2016-11-30.\n",
      "Instructions for updating:\n",
      "Please switch to tf.summary.scalar. Note that tf.summary.scalar uses the node name instead of the tag. This means that TensorFlow will automatically de-duplicate summary names based on the scope they are created in. Also, passing a tensor or list of tags to a scalar summary op is no longer supported.\n"
     ]
    },
    {
     "name": "stderr",
     "output_type": "stream",
     "text": [
      "2017-03-12 12:16:16,122 : WARNING : From /usr/lib/python2.7/site-packages/tensorflow/contrib/learn/python/learn/estimators/head.py:1362: scalar_summary (from tensorflow.python.ops.logging_ops) is deprecated and will be removed after 2016-11-30.\n",
      "Instructions for updating:\n",
      "Please switch to tf.summary.scalar. Note that tf.summary.scalar uses the node name instead of the tag. This means that TensorFlow will automatically de-duplicate summary names based on the scope they are created in. Also, passing a tensor or list of tags to a scalar summary op is no longer supported.\n"
     ]
    },
    {
     "name": "stdout",
     "output_type": "stream",
     "text": [
      "INFO:tensorflow:Create CheckpointSaverHook.\n"
     ]
    },
    {
     "name": "stderr",
     "output_type": "stream",
     "text": [
      "2017-03-12 12:16:16,384 : INFO : Create CheckpointSaverHook.\n"
     ]
    },
    {
     "name": "stdout",
     "output_type": "stream",
     "text": [
      "INFO:tensorflow:Saving checkpoints for 1 into /tmp/tmpdESYBm/model.ckpt.\n"
     ]
    },
    {
     "name": "stderr",
     "output_type": "stream",
     "text": [
      "2017-03-12 12:16:18,154 : INFO : Saving checkpoints for 1 into /tmp/tmpdESYBm/model.ckpt.\n"
     ]
    },
    {
     "name": "stdout",
     "output_type": "stream",
     "text": [
      "INFO:tensorflow:loss = 1.15594, step = 1\n"
     ]
    },
    {
     "name": "stderr",
     "output_type": "stream",
     "text": [
      "2017-03-12 12:16:18,470 : INFO : loss = 1.15594, step = 1\n"
     ]
    },
    {
     "name": "stdout",
     "output_type": "stream",
     "text": [
      "INFO:tensorflow:global_step/sec: 179.73\n"
     ]
    },
    {
     "name": "stderr",
     "output_type": "stream",
     "text": [
      "2017-03-12 12:16:19,025 : INFO : global_step/sec: 179.73\n"
     ]
    },
    {
     "name": "stdout",
     "output_type": "stream",
     "text": [
      "INFO:tensorflow:loss = 0.208192, step = 101\n"
     ]
    },
    {
     "name": "stderr",
     "output_type": "stream",
     "text": [
      "2017-03-12 12:16:19,027 : INFO : loss = 0.208192, step = 101\n"
     ]
    },
    {
     "name": "stdout",
     "output_type": "stream",
     "text": [
      "INFO:tensorflow:global_step/sec: 181.736\n"
     ]
    },
    {
     "name": "stderr",
     "output_type": "stream",
     "text": [
      "2017-03-12 12:16:19,575 : INFO : global_step/sec: 181.736\n"
     ]
    },
    {
     "name": "stdout",
     "output_type": "stream",
     "text": [
      "INFO:tensorflow:loss = 0.242875, step = 201\n"
     ]
    },
    {
     "name": "stderr",
     "output_type": "stream",
     "text": [
      "2017-03-12 12:16:19,578 : INFO : loss = 0.242875, step = 201\n"
     ]
    },
    {
     "name": "stdout",
     "output_type": "stream",
     "text": [
      "INFO:tensorflow:global_step/sec: 177.617\n"
     ]
    },
    {
     "name": "stderr",
     "output_type": "stream",
     "text": [
      "2017-03-12 12:16:20,138 : INFO : global_step/sec: 177.617\n"
     ]
    },
    {
     "name": "stdout",
     "output_type": "stream",
     "text": [
      "INFO:tensorflow:loss = 0.288532, step = 301\n"
     ]
    },
    {
     "name": "stderr",
     "output_type": "stream",
     "text": [
      "2017-03-12 12:16:20,141 : INFO : loss = 0.288532, step = 301\n"
     ]
    },
    {
     "name": "stdout",
     "output_type": "stream",
     "text": [
      "INFO:tensorflow:global_step/sec: 184.823\n"
     ]
    },
    {
     "name": "stderr",
     "output_type": "stream",
     "text": [
      "2017-03-12 12:16:20,679 : INFO : global_step/sec: 184.823\n"
     ]
    },
    {
     "name": "stdout",
     "output_type": "stream",
     "text": [
      "INFO:tensorflow:loss = 0.150461, step = 401\n"
     ]
    },
    {
     "name": "stderr",
     "output_type": "stream",
     "text": [
      "2017-03-12 12:16:20,682 : INFO : loss = 0.150461, step = 401\n"
     ]
    },
    {
     "name": "stdout",
     "output_type": "stream",
     "text": [
      "INFO:tensorflow:global_step/sec: 184.324\n"
     ]
    },
    {
     "name": "stderr",
     "output_type": "stream",
     "text": [
      "2017-03-12 12:16:21,222 : INFO : global_step/sec: 184.324\n"
     ]
    },
    {
     "name": "stdout",
     "output_type": "stream",
     "text": [
      "INFO:tensorflow:loss = 0.174478, step = 501\n"
     ]
    },
    {
     "name": "stderr",
     "output_type": "stream",
     "text": [
      "2017-03-12 12:16:21,224 : INFO : loss = 0.174478, step = 501\n"
     ]
    },
    {
     "name": "stdout",
     "output_type": "stream",
     "text": [
      "INFO:tensorflow:global_step/sec: 177.075\n"
     ]
    },
    {
     "name": "stderr",
     "output_type": "stream",
     "text": [
      "2017-03-12 12:16:21,787 : INFO : global_step/sec: 177.075\n"
     ]
    },
    {
     "name": "stdout",
     "output_type": "stream",
     "text": [
      "INFO:tensorflow:loss = 0.156869, step = 601\n"
     ]
    },
    {
     "name": "stderr",
     "output_type": "stream",
     "text": [
      "2017-03-12 12:16:21,789 : INFO : loss = 0.156869, step = 601\n"
     ]
    },
    {
     "name": "stdout",
     "output_type": "stream",
     "text": [
      "INFO:tensorflow:global_step/sec: 182.597\n"
     ]
    },
    {
     "name": "stderr",
     "output_type": "stream",
     "text": [
      "2017-03-12 12:16:22,334 : INFO : global_step/sec: 182.597\n"
     ]
    },
    {
     "name": "stdout",
     "output_type": "stream",
     "text": [
      "INFO:tensorflow:loss = 0.196561, step = 701\n"
     ]
    },
    {
     "name": "stderr",
     "output_type": "stream",
     "text": [
      "2017-03-12 12:16:22,337 : INFO : loss = 0.196561, step = 701\n"
     ]
    },
    {
     "name": "stdout",
     "output_type": "stream",
     "text": [
      "INFO:tensorflow:global_step/sec: 158.615\n"
     ]
    },
    {
     "name": "stderr",
     "output_type": "stream",
     "text": [
      "2017-03-12 12:16:22,965 : INFO : global_step/sec: 158.615\n"
     ]
    },
    {
     "name": "stdout",
     "output_type": "stream",
     "text": [
      "INFO:tensorflow:loss = 0.137469, step = 801\n"
     ]
    },
    {
     "name": "stderr",
     "output_type": "stream",
     "text": [
      "2017-03-12 12:16:22,967 : INFO : loss = 0.137469, step = 801\n"
     ]
    },
    {
     "name": "stdout",
     "output_type": "stream",
     "text": [
      "INFO:tensorflow:global_step/sec: 160.354\n"
     ]
    },
    {
     "name": "stderr",
     "output_type": "stream",
     "text": [
      "2017-03-12 12:16:23,588 : INFO : global_step/sec: 160.354\n"
     ]
    },
    {
     "name": "stdout",
     "output_type": "stream",
     "text": [
      "INFO:tensorflow:loss = 0.221934, step = 901\n"
     ]
    },
    {
     "name": "stderr",
     "output_type": "stream",
     "text": [
      "2017-03-12 12:16:23,591 : INFO : loss = 0.221934, step = 901\n"
     ]
    },
    {
     "name": "stdout",
     "output_type": "stream",
     "text": [
      "INFO:tensorflow:global_step/sec: 166.917\n"
     ]
    },
    {
     "name": "stderr",
     "output_type": "stream",
     "text": [
      "2017-03-12 12:16:24,188 : INFO : global_step/sec: 166.917\n"
     ]
    },
    {
     "name": "stdout",
     "output_type": "stream",
     "text": [
      "INFO:tensorflow:loss = 0.11923, step = 1001\n"
     ]
    },
    {
     "name": "stderr",
     "output_type": "stream",
     "text": [
      "2017-03-12 12:16:24,190 : INFO : loss = 0.11923, step = 1001\n"
     ]
    },
    {
     "name": "stdout",
     "output_type": "stream",
     "text": [
      "INFO:tensorflow:global_step/sec: 167.792\n"
     ]
    },
    {
     "name": "stderr",
     "output_type": "stream",
     "text": [
      "2017-03-12 12:16:24,784 : INFO : global_step/sec: 167.792\n"
     ]
    },
    {
     "name": "stdout",
     "output_type": "stream",
     "text": [
      "INFO:tensorflow:loss = 0.0748093, step = 1101\n"
     ]
    },
    {
     "name": "stderr",
     "output_type": "stream",
     "text": [
      "2017-03-12 12:16:24,786 : INFO : loss = 0.0748093, step = 1101\n"
     ]
    },
    {
     "name": "stdout",
     "output_type": "stream",
     "text": [
      "INFO:tensorflow:global_step/sec: 166.893\n"
     ]
    },
    {
     "name": "stderr",
     "output_type": "stream",
     "text": [
      "2017-03-12 12:16:25,383 : INFO : global_step/sec: 166.893\n"
     ]
    },
    {
     "name": "stdout",
     "output_type": "stream",
     "text": [
      "INFO:tensorflow:loss = 0.122999, step = 1201\n"
     ]
    },
    {
     "name": "stderr",
     "output_type": "stream",
     "text": [
      "2017-03-12 12:16:25,385 : INFO : loss = 0.122999, step = 1201\n"
     ]
    },
    {
     "name": "stdout",
     "output_type": "stream",
     "text": [
      "INFO:tensorflow:global_step/sec: 168.301\n"
     ]
    },
    {
     "name": "stderr",
     "output_type": "stream",
     "text": [
      "2017-03-12 12:16:25,977 : INFO : global_step/sec: 168.301\n"
     ]
    },
    {
     "name": "stdout",
     "output_type": "stream",
     "text": [
      "INFO:tensorflow:loss = 0.166701, step = 1301\n"
     ]
    },
    {
     "name": "stderr",
     "output_type": "stream",
     "text": [
      "2017-03-12 12:16:25,979 : INFO : loss = 0.166701, step = 1301\n"
     ]
    },
    {
     "name": "stdout",
     "output_type": "stream",
     "text": [
      "INFO:tensorflow:global_step/sec: 167.925\n"
     ]
    },
    {
     "name": "stderr",
     "output_type": "stream",
     "text": [
      "2017-03-12 12:16:26,572 : INFO : global_step/sec: 167.925\n"
     ]
    },
    {
     "name": "stdout",
     "output_type": "stream",
     "text": [
      "INFO:tensorflow:loss = 0.12415, step = 1401\n"
     ]
    },
    {
     "name": "stderr",
     "output_type": "stream",
     "text": [
      "2017-03-12 12:16:26,575 : INFO : loss = 0.12415, step = 1401\n"
     ]
    },
    {
     "name": "stdout",
     "output_type": "stream",
     "text": [
      "INFO:tensorflow:global_step/sec: 169.878\n"
     ]
    },
    {
     "name": "stderr",
     "output_type": "stream",
     "text": [
      "2017-03-12 12:16:27,161 : INFO : global_step/sec: 169.878\n"
     ]
    },
    {
     "name": "stdout",
     "output_type": "stream",
     "text": [
      "INFO:tensorflow:loss = 0.085851, step = 1501\n"
     ]
    },
    {
     "name": "stderr",
     "output_type": "stream",
     "text": [
      "2017-03-12 12:16:27,164 : INFO : loss = 0.085851, step = 1501\n"
     ]
    },
    {
     "name": "stdout",
     "output_type": "stream",
     "text": [
      "INFO:tensorflow:global_step/sec: 168.241\n"
     ]
    },
    {
     "name": "stderr",
     "output_type": "stream",
     "text": [
      "2017-03-12 12:16:27,755 : INFO : global_step/sec: 168.241\n"
     ]
    },
    {
     "name": "stdout",
     "output_type": "stream",
     "text": [
      "INFO:tensorflow:loss = 0.0851313, step = 1601\n"
     ]
    },
    {
     "name": "stderr",
     "output_type": "stream",
     "text": [
      "2017-03-12 12:16:27,758 : INFO : loss = 0.0851313, step = 1601\n"
     ]
    },
    {
     "name": "stdout",
     "output_type": "stream",
     "text": [
      "INFO:tensorflow:global_step/sec: 168.445\n"
     ]
    },
    {
     "name": "stderr",
     "output_type": "stream",
     "text": [
      "2017-03-12 12:16:28,349 : INFO : global_step/sec: 168.445\n"
     ]
    },
    {
     "name": "stdout",
     "output_type": "stream",
     "text": [
      "INFO:tensorflow:loss = 0.199138, step = 1701\n"
     ]
    },
    {
     "name": "stderr",
     "output_type": "stream",
     "text": [
      "2017-03-12 12:16:28,351 : INFO : loss = 0.199138, step = 1701\n"
     ]
    },
    {
     "name": "stdout",
     "output_type": "stream",
     "text": [
      "INFO:tensorflow:global_step/sec: 167.529\n"
     ]
    },
    {
     "name": "stderr",
     "output_type": "stream",
     "text": [
      "2017-03-12 12:16:28,946 : INFO : global_step/sec: 167.529\n"
     ]
    },
    {
     "name": "stdout",
     "output_type": "stream",
     "text": [
      "INFO:tensorflow:loss = 0.146669, step = 1801\n"
     ]
    },
    {
     "name": "stderr",
     "output_type": "stream",
     "text": [
      "2017-03-12 12:16:28,948 : INFO : loss = 0.146669, step = 1801\n"
     ]
    },
    {
     "name": "stdout",
     "output_type": "stream",
     "text": [
      "INFO:tensorflow:global_step/sec: 165.889\n"
     ]
    },
    {
     "name": "stderr",
     "output_type": "stream",
     "text": [
      "2017-03-12 12:16:29,549 : INFO : global_step/sec: 165.889\n"
     ]
    },
    {
     "name": "stdout",
     "output_type": "stream",
     "text": [
      "INFO:tensorflow:loss = 0.255534, step = 1901\n"
     ]
    },
    {
     "name": "stderr",
     "output_type": "stream",
     "text": [
      "2017-03-12 12:16:29,551 : INFO : loss = 0.255534, step = 1901\n"
     ]
    },
    {
     "name": "stdout",
     "output_type": "stream",
     "text": [
      "INFO:tensorflow:Saving checkpoints for 2000 into /tmp/tmpdESYBm/model.ckpt.\n"
     ]
    },
    {
     "name": "stderr",
     "output_type": "stream",
     "text": [
      "2017-03-12 12:16:30,148 : INFO : Saving checkpoints for 2000 into /tmp/tmpdESYBm/model.ckpt.\n"
     ]
    },
    {
     "name": "stdout",
     "output_type": "stream",
     "text": [
      "INFO:tensorflow:Loss for final step: 0.141955.\n"
     ]
    },
    {
     "name": "stderr",
     "output_type": "stream",
     "text": [
      "2017-03-12 12:16:30,568 : INFO : Loss for final step: 0.141955.\n"
     ]
    },
    {
     "name": "stdout",
     "output_type": "stream",
     "text": [
      "WARNING:tensorflow:float64 is not supported by many models, consider casting to float32.\n"
     ]
    },
    {
     "name": "stderr",
     "output_type": "stream",
     "text": [
      "2017-03-12 12:16:30,643 : WARNING : float64 is not supported by many models, consider casting to float32.\n",
      "2017-03-12 12:16:30,890 : WARNING : Run accuracy: 0.934702319397\n",
      "2017-03-12 12:16:30,892 : WARNING : Cat accuracies:\n",
      "[0.9534548944337812, 0.9177671068427371, 0.881283422459893]\n"
     ]
    },
    {
     "name": "stdout",
     "output_type": "stream",
     "text": [
      "WARNING:tensorflow:Using temporary folder as model directory: /tmp/tmp0j039V\n"
     ]
    },
    {
     "name": "stderr",
     "output_type": "stream",
     "text": [
      "2017-03-12 12:16:31,001 : WARNING : Using temporary folder as model directory: /tmp/tmp0j039V\n"
     ]
    },
    {
     "name": "stdout",
     "output_type": "stream",
     "text": [
      "INFO:tensorflow:Using default config.\n"
     ]
    },
    {
     "name": "stderr",
     "output_type": "stream",
     "text": [
      "2017-03-12 12:16:31,002 : INFO : Using default config.\n"
     ]
    },
    {
     "name": "stdout",
     "output_type": "stream",
     "text": [
      "INFO:tensorflow:Using config: {'_save_checkpoints_secs': 600, '_num_ps_replicas': 0, '_keep_checkpoint_max': 5, '_tf_random_seed': None, '_task_type': None, '_environment': 'local', '_is_chief': True, '_cluster_spec': <tensorflow.python.training.server_lib.ClusterSpec object at 0x7f0d7919b710>, '_tf_config': gpu_options {\n",
      "  per_process_gpu_memory_fraction: 1\n",
      "}\n",
      ", '_task_id': 0, '_save_summary_steps': 100, '_save_checkpoints_steps': None, '_evaluation_master': '', '_keep_checkpoint_every_n_hours': 10000, '_master': ''}\n"
     ]
    },
    {
     "name": "stderr",
     "output_type": "stream",
     "text": [
      "2017-03-12 12:16:31,003 : INFO : Using config: {'_save_checkpoints_secs': 600, '_num_ps_replicas': 0, '_keep_checkpoint_max': 5, '_tf_random_seed': None, '_task_type': None, '_environment': 'local', '_is_chief': True, '_cluster_spec': <tensorflow.python.training.server_lib.ClusterSpec object at 0x7f0d7919b710>, '_tf_config': gpu_options {\n",
      "  per_process_gpu_memory_fraction: 1\n",
      "}\n",
      ", '_task_id': 0, '_save_summary_steps': 100, '_save_checkpoints_steps': None, '_evaluation_master': '', '_keep_checkpoint_every_n_hours': 10000, '_master': ''}\n"
     ]
    },
    {
     "name": "stdout",
     "output_type": "stream",
     "text": [
      "WARNING:tensorflow:float64 is not supported by many models, consider casting to float32.\n"
     ]
    },
    {
     "name": "stderr",
     "output_type": "stream",
     "text": [
      "2017-03-12 12:16:31,005 : WARNING : float64 is not supported by many models, consider casting to float32.\n"
     ]
    },
    {
     "name": "stdout",
     "output_type": "stream",
     "text": [
      "WARNING:tensorflow:From /usr/lib/python2.7/site-packages/tensorflow/contrib/learn/python/learn/estimators/head.py:1362: scalar_summary (from tensorflow.python.ops.logging_ops) is deprecated and will be removed after 2016-11-30.\n",
      "Instructions for updating:\n",
      "Please switch to tf.summary.scalar. Note that tf.summary.scalar uses the node name instead of the tag. This means that TensorFlow will automatically de-duplicate summary names based on the scope they are created in. Also, passing a tensor or list of tags to a scalar summary op is no longer supported.\n"
     ]
    },
    {
     "name": "stderr",
     "output_type": "stream",
     "text": [
      "2017-03-12 12:16:31,070 : WARNING : From /usr/lib/python2.7/site-packages/tensorflow/contrib/learn/python/learn/estimators/head.py:1362: scalar_summary (from tensorflow.python.ops.logging_ops) is deprecated and will be removed after 2016-11-30.\n",
      "Instructions for updating:\n",
      "Please switch to tf.summary.scalar. Note that tf.summary.scalar uses the node name instead of the tag. This means that TensorFlow will automatically de-duplicate summary names based on the scope they are created in. Also, passing a tensor or list of tags to a scalar summary op is no longer supported.\n"
     ]
    },
    {
     "name": "stdout",
     "output_type": "stream",
     "text": [
      "INFO:tensorflow:Create CheckpointSaverHook.\n"
     ]
    },
    {
     "name": "stderr",
     "output_type": "stream",
     "text": [
      "2017-03-12 12:16:31,328 : INFO : Create CheckpointSaverHook.\n"
     ]
    },
    {
     "name": "stdout",
     "output_type": "stream",
     "text": [
      "INFO:tensorflow:Saving checkpoints for 1 into /tmp/tmp0j039V/model.ckpt.\n"
     ]
    },
    {
     "name": "stderr",
     "output_type": "stream",
     "text": [
      "2017-03-12 12:16:33,069 : INFO : Saving checkpoints for 1 into /tmp/tmp0j039V/model.ckpt.\n"
     ]
    },
    {
     "name": "stdout",
     "output_type": "stream",
     "text": [
      "INFO:tensorflow:loss = 1.15158, step = 1\n"
     ]
    },
    {
     "name": "stderr",
     "output_type": "stream",
     "text": [
      "2017-03-12 12:16:33,349 : INFO : loss = 1.15158, step = 1\n"
     ]
    },
    {
     "name": "stdout",
     "output_type": "stream",
     "text": [
      "INFO:tensorflow:global_step/sec: 182.414\n"
     ]
    },
    {
     "name": "stderr",
     "output_type": "stream",
     "text": [
      "2017-03-12 12:16:33,895 : INFO : global_step/sec: 182.414\n"
     ]
    },
    {
     "name": "stdout",
     "output_type": "stream",
     "text": [
      "INFO:tensorflow:loss = 0.21176, step = 101\n"
     ]
    },
    {
     "name": "stderr",
     "output_type": "stream",
     "text": [
      "2017-03-12 12:16:33,898 : INFO : loss = 0.21176, step = 101\n"
     ]
    },
    {
     "name": "stdout",
     "output_type": "stream",
     "text": [
      "INFO:tensorflow:global_step/sec: 185.267\n"
     ]
    },
    {
     "name": "stderr",
     "output_type": "stream",
     "text": [
      "2017-03-12 12:16:34,435 : INFO : global_step/sec: 185.267\n"
     ]
    },
    {
     "name": "stdout",
     "output_type": "stream",
     "text": [
      "INFO:tensorflow:loss = 0.230923, step = 201\n"
     ]
    },
    {
     "name": "stderr",
     "output_type": "stream",
     "text": [
      "2017-03-12 12:16:34,438 : INFO : loss = 0.230923, step = 201\n"
     ]
    },
    {
     "name": "stdout",
     "output_type": "stream",
     "text": [
      "INFO:tensorflow:global_step/sec: 186.695\n"
     ]
    },
    {
     "name": "stderr",
     "output_type": "stream",
     "text": [
      "2017-03-12 12:16:34,971 : INFO : global_step/sec: 186.695\n"
     ]
    },
    {
     "name": "stdout",
     "output_type": "stream",
     "text": [
      "INFO:tensorflow:loss = 0.261165, step = 301\n"
     ]
    },
    {
     "name": "stderr",
     "output_type": "stream",
     "text": [
      "2017-03-12 12:16:34,973 : INFO : loss = 0.261165, step = 301\n"
     ]
    },
    {
     "name": "stdout",
     "output_type": "stream",
     "text": [
      "INFO:tensorflow:global_step/sec: 186.205\n"
     ]
    },
    {
     "name": "stderr",
     "output_type": "stream",
     "text": [
      "2017-03-12 12:16:35,508 : INFO : global_step/sec: 186.205\n"
     ]
    },
    {
     "name": "stdout",
     "output_type": "stream",
     "text": [
      "INFO:tensorflow:loss = 0.183508, step = 401\n"
     ]
    },
    {
     "name": "stderr",
     "output_type": "stream",
     "text": [
      "2017-03-12 12:16:35,510 : INFO : loss = 0.183508, step = 401\n"
     ]
    },
    {
     "name": "stdout",
     "output_type": "stream",
     "text": [
      "INFO:tensorflow:global_step/sec: 185.498\n"
     ]
    },
    {
     "name": "stderr",
     "output_type": "stream",
     "text": [
      "2017-03-12 12:16:36,047 : INFO : global_step/sec: 185.498\n"
     ]
    },
    {
     "name": "stdout",
     "output_type": "stream",
     "text": [
      "INFO:tensorflow:loss = 0.31689, step = 501\n"
     ]
    },
    {
     "name": "stderr",
     "output_type": "stream",
     "text": [
      "2017-03-12 12:16:36,049 : INFO : loss = 0.31689, step = 501\n"
     ]
    },
    {
     "name": "stdout",
     "output_type": "stream",
     "text": [
      "INFO:tensorflow:global_step/sec: 179.583\n"
     ]
    },
    {
     "name": "stderr",
     "output_type": "stream",
     "text": [
      "2017-03-12 12:16:36,604 : INFO : global_step/sec: 179.583\n"
     ]
    },
    {
     "name": "stdout",
     "output_type": "stream",
     "text": [
      "INFO:tensorflow:loss = 0.173438, step = 601\n"
     ]
    },
    {
     "name": "stderr",
     "output_type": "stream",
     "text": [
      "2017-03-12 12:16:36,606 : INFO : loss = 0.173438, step = 601\n"
     ]
    },
    {
     "name": "stdout",
     "output_type": "stream",
     "text": [
      "INFO:tensorflow:global_step/sec: 183.044\n"
     ]
    },
    {
     "name": "stderr",
     "output_type": "stream",
     "text": [
      "2017-03-12 12:16:37,150 : INFO : global_step/sec: 183.044\n"
     ]
    },
    {
     "name": "stdout",
     "output_type": "stream",
     "text": [
      "INFO:tensorflow:loss = 0.184838, step = 701\n"
     ]
    },
    {
     "name": "stderr",
     "output_type": "stream",
     "text": [
      "2017-03-12 12:16:37,152 : INFO : loss = 0.184838, step = 701\n"
     ]
    },
    {
     "name": "stdout",
     "output_type": "stream",
     "text": [
      "INFO:tensorflow:global_step/sec: 162.737\n"
     ]
    },
    {
     "name": "stderr",
     "output_type": "stream",
     "text": [
      "2017-03-12 12:16:37,765 : INFO : global_step/sec: 162.737\n"
     ]
    },
    {
     "name": "stdout",
     "output_type": "stream",
     "text": [
      "INFO:tensorflow:loss = 0.134976, step = 801\n"
     ]
    },
    {
     "name": "stderr",
     "output_type": "stream",
     "text": [
      "2017-03-12 12:16:37,767 : INFO : loss = 0.134976, step = 801\n"
     ]
    },
    {
     "name": "stdout",
     "output_type": "stream",
     "text": [
      "INFO:tensorflow:global_step/sec: 161.897\n"
     ]
    },
    {
     "name": "stderr",
     "output_type": "stream",
     "text": [
      "2017-03-12 12:16:38,382 : INFO : global_step/sec: 161.897\n"
     ]
    },
    {
     "name": "stdout",
     "output_type": "stream",
     "text": [
      "INFO:tensorflow:loss = 0.0871875, step = 901\n"
     ]
    },
    {
     "name": "stderr",
     "output_type": "stream",
     "text": [
      "2017-03-12 12:16:38,385 : INFO : loss = 0.0871875, step = 901\n"
     ]
    },
    {
     "name": "stdout",
     "output_type": "stream",
     "text": [
      "INFO:tensorflow:global_step/sec: 168.46\n"
     ]
    },
    {
     "name": "stderr",
     "output_type": "stream",
     "text": [
      "2017-03-12 12:16:38,976 : INFO : global_step/sec: 168.46\n"
     ]
    },
    {
     "name": "stdout",
     "output_type": "stream",
     "text": [
      "INFO:tensorflow:loss = 0.140287, step = 1001\n"
     ]
    },
    {
     "name": "stderr",
     "output_type": "stream",
     "text": [
      "2017-03-12 12:16:38,978 : INFO : loss = 0.140287, step = 1001\n"
     ]
    },
    {
     "name": "stdout",
     "output_type": "stream",
     "text": [
      "INFO:tensorflow:global_step/sec: 169.244\n"
     ]
    },
    {
     "name": "stderr",
     "output_type": "stream",
     "text": [
      "2017-03-12 12:16:39,567 : INFO : global_step/sec: 169.244\n"
     ]
    },
    {
     "name": "stdout",
     "output_type": "stream",
     "text": [
      "INFO:tensorflow:loss = 0.129758, step = 1101\n"
     ]
    },
    {
     "name": "stderr",
     "output_type": "stream",
     "text": [
      "2017-03-12 12:16:39,569 : INFO : loss = 0.129758, step = 1101\n"
     ]
    },
    {
     "name": "stdout",
     "output_type": "stream",
     "text": [
      "INFO:tensorflow:global_step/sec: 167.626\n"
     ]
    },
    {
     "name": "stderr",
     "output_type": "stream",
     "text": [
      "2017-03-12 12:16:40,163 : INFO : global_step/sec: 167.626\n"
     ]
    },
    {
     "name": "stdout",
     "output_type": "stream",
     "text": [
      "INFO:tensorflow:loss = 0.236783, step = 1201\n"
     ]
    },
    {
     "name": "stderr",
     "output_type": "stream",
     "text": [
      "2017-03-12 12:16:40,166 : INFO : loss = 0.236783, step = 1201\n"
     ]
    },
    {
     "name": "stdout",
     "output_type": "stream",
     "text": [
      "INFO:tensorflow:global_step/sec: 166.734\n"
     ]
    },
    {
     "name": "stderr",
     "output_type": "stream",
     "text": [
      "2017-03-12 12:16:40,763 : INFO : global_step/sec: 166.734\n"
     ]
    },
    {
     "name": "stdout",
     "output_type": "stream",
     "text": [
      "INFO:tensorflow:loss = 0.18809, step = 1301\n"
     ]
    },
    {
     "name": "stderr",
     "output_type": "stream",
     "text": [
      "2017-03-12 12:16:40,766 : INFO : loss = 0.18809, step = 1301\n"
     ]
    },
    {
     "name": "stdout",
     "output_type": "stream",
     "text": [
      "INFO:tensorflow:global_step/sec: 167.144\n"
     ]
    },
    {
     "name": "stderr",
     "output_type": "stream",
     "text": [
      "2017-03-12 12:16:41,361 : INFO : global_step/sec: 167.144\n"
     ]
    },
    {
     "name": "stdout",
     "output_type": "stream",
     "text": [
      "INFO:tensorflow:loss = 0.211504, step = 1401\n"
     ]
    },
    {
     "name": "stderr",
     "output_type": "stream",
     "text": [
      "2017-03-12 12:16:41,364 : INFO : loss = 0.211504, step = 1401\n"
     ]
    },
    {
     "name": "stdout",
     "output_type": "stream",
     "text": [
      "INFO:tensorflow:global_step/sec: 169.099\n"
     ]
    },
    {
     "name": "stderr",
     "output_type": "stream",
     "text": [
      "2017-03-12 12:16:41,953 : INFO : global_step/sec: 169.099\n"
     ]
    },
    {
     "name": "stdout",
     "output_type": "stream",
     "text": [
      "INFO:tensorflow:loss = 0.0785111, step = 1501\n"
     ]
    },
    {
     "name": "stderr",
     "output_type": "stream",
     "text": [
      "2017-03-12 12:16:41,955 : INFO : loss = 0.0785111, step = 1501\n"
     ]
    },
    {
     "name": "stdout",
     "output_type": "stream",
     "text": [
      "INFO:tensorflow:global_step/sec: 167.823\n"
     ]
    },
    {
     "name": "stderr",
     "output_type": "stream",
     "text": [
      "2017-03-12 12:16:42,549 : INFO : global_step/sec: 167.823\n"
     ]
    },
    {
     "name": "stdout",
     "output_type": "stream",
     "text": [
      "INFO:tensorflow:loss = 0.224757, step = 1601\n"
     ]
    },
    {
     "name": "stderr",
     "output_type": "stream",
     "text": [
      "2017-03-12 12:16:42,551 : INFO : loss = 0.224757, step = 1601\n"
     ]
    },
    {
     "name": "stdout",
     "output_type": "stream",
     "text": [
      "INFO:tensorflow:global_step/sec: 166.553\n"
     ]
    },
    {
     "name": "stderr",
     "output_type": "stream",
     "text": [
      "2017-03-12 12:16:43,149 : INFO : global_step/sec: 166.553\n"
     ]
    },
    {
     "name": "stdout",
     "output_type": "stream",
     "text": [
      "INFO:tensorflow:loss = 0.129225, step = 1701\n"
     ]
    },
    {
     "name": "stderr",
     "output_type": "stream",
     "text": [
      "2017-03-12 12:16:43,151 : INFO : loss = 0.129225, step = 1701\n"
     ]
    },
    {
     "name": "stdout",
     "output_type": "stream",
     "text": [
      "INFO:tensorflow:global_step/sec: 162.106\n"
     ]
    },
    {
     "name": "stderr",
     "output_type": "stream",
     "text": [
      "2017-03-12 12:16:43,766 : INFO : global_step/sec: 162.106\n"
     ]
    },
    {
     "name": "stdout",
     "output_type": "stream",
     "text": [
      "INFO:tensorflow:loss = 0.298398, step = 1801\n"
     ]
    },
    {
     "name": "stderr",
     "output_type": "stream",
     "text": [
      "2017-03-12 12:16:43,769 : INFO : loss = 0.298398, step = 1801\n"
     ]
    },
    {
     "name": "stdout",
     "output_type": "stream",
     "text": [
      "INFO:tensorflow:global_step/sec: 165.046\n"
     ]
    },
    {
     "name": "stderr",
     "output_type": "stream",
     "text": [
      "2017-03-12 12:16:44,372 : INFO : global_step/sec: 165.046\n"
     ]
    },
    {
     "name": "stdout",
     "output_type": "stream",
     "text": [
      "INFO:tensorflow:loss = 0.143575, step = 1901\n"
     ]
    },
    {
     "name": "stderr",
     "output_type": "stream",
     "text": [
      "2017-03-12 12:16:44,374 : INFO : loss = 0.143575, step = 1901\n"
     ]
    },
    {
     "name": "stdout",
     "output_type": "stream",
     "text": [
      "INFO:tensorflow:Saving checkpoints for 2000 into /tmp/tmp0j039V/model.ckpt.\n"
     ]
    },
    {
     "name": "stderr",
     "output_type": "stream",
     "text": [
      "2017-03-12 12:16:45,015 : INFO : Saving checkpoints for 2000 into /tmp/tmp0j039V/model.ckpt.\n"
     ]
    },
    {
     "name": "stdout",
     "output_type": "stream",
     "text": [
      "INFO:tensorflow:Loss for final step: 0.0732939.\n"
     ]
    },
    {
     "name": "stderr",
     "output_type": "stream",
     "text": [
      "2017-03-12 12:16:45,448 : INFO : Loss for final step: 0.0732939.\n"
     ]
    },
    {
     "name": "stdout",
     "output_type": "stream",
     "text": [
      "WARNING:tensorflow:float64 is not supported by many models, consider casting to float32.\n"
     ]
    },
    {
     "name": "stderr",
     "output_type": "stream",
     "text": [
      "2017-03-12 12:16:45,524 : WARNING : float64 is not supported by many models, consider casting to float32.\n",
      "2017-03-12 12:16:45,800 : WARNING : Run accuracy: 0.933963657852\n",
      "2017-03-12 12:16:45,801 : WARNING : Cat accuracies:\n",
      "[0.9784069097888676, 0.8943577430972389, 0.8064171122994652]\n"
     ]
    },
    {
     "name": "stdout",
     "output_type": "stream",
     "text": [
      "WARNING:tensorflow:Using temporary folder as model directory: /tmp/tmpUO4Emt\n"
     ]
    },
    {
     "name": "stderr",
     "output_type": "stream",
     "text": [
      "2017-03-12 12:16:45,922 : WARNING : Using temporary folder as model directory: /tmp/tmpUO4Emt\n"
     ]
    },
    {
     "name": "stdout",
     "output_type": "stream",
     "text": [
      "INFO:tensorflow:Using default config.\n"
     ]
    },
    {
     "name": "stderr",
     "output_type": "stream",
     "text": [
      "2017-03-12 12:16:45,924 : INFO : Using default config.\n"
     ]
    },
    {
     "name": "stdout",
     "output_type": "stream",
     "text": [
      "INFO:tensorflow:Using config: {'_save_checkpoints_secs': 600, '_num_ps_replicas': 0, '_keep_checkpoint_max': 5, '_tf_random_seed': None, '_task_type': None, '_environment': 'local', '_is_chief': True, '_cluster_spec': <tensorflow.python.training.server_lib.ClusterSpec object at 0x7f0d795fdd50>, '_tf_config': gpu_options {\n",
      "  per_process_gpu_memory_fraction: 1\n",
      "}\n",
      ", '_task_id': 0, '_save_summary_steps': 100, '_save_checkpoints_steps': None, '_evaluation_master': '', '_keep_checkpoint_every_n_hours': 10000, '_master': ''}\n"
     ]
    },
    {
     "name": "stderr",
     "output_type": "stream",
     "text": [
      "2017-03-12 12:16:45,925 : INFO : Using config: {'_save_checkpoints_secs': 600, '_num_ps_replicas': 0, '_keep_checkpoint_max': 5, '_tf_random_seed': None, '_task_type': None, '_environment': 'local', '_is_chief': True, '_cluster_spec': <tensorflow.python.training.server_lib.ClusterSpec object at 0x7f0d795fdd50>, '_tf_config': gpu_options {\n",
      "  per_process_gpu_memory_fraction: 1\n",
      "}\n",
      ", '_task_id': 0, '_save_summary_steps': 100, '_save_checkpoints_steps': None, '_evaluation_master': '', '_keep_checkpoint_every_n_hours': 10000, '_master': ''}\n"
     ]
    },
    {
     "name": "stdout",
     "output_type": "stream",
     "text": [
      "WARNING:tensorflow:float64 is not supported by many models, consider casting to float32.\n"
     ]
    },
    {
     "name": "stderr",
     "output_type": "stream",
     "text": [
      "2017-03-12 12:16:45,926 : WARNING : float64 is not supported by many models, consider casting to float32.\n"
     ]
    },
    {
     "name": "stdout",
     "output_type": "stream",
     "text": [
      "WARNING:tensorflow:From /usr/lib/python2.7/site-packages/tensorflow/contrib/learn/python/learn/estimators/head.py:1362: scalar_summary (from tensorflow.python.ops.logging_ops) is deprecated and will be removed after 2016-11-30.\n",
      "Instructions for updating:\n",
      "Please switch to tf.summary.scalar. Note that tf.summary.scalar uses the node name instead of the tag. This means that TensorFlow will automatically de-duplicate summary names based on the scope they are created in. Also, passing a tensor or list of tags to a scalar summary op is no longer supported.\n"
     ]
    },
    {
     "name": "stderr",
     "output_type": "stream",
     "text": [
      "2017-03-12 12:16:45,994 : WARNING : From /usr/lib/python2.7/site-packages/tensorflow/contrib/learn/python/learn/estimators/head.py:1362: scalar_summary (from tensorflow.python.ops.logging_ops) is deprecated and will be removed after 2016-11-30.\n",
      "Instructions for updating:\n",
      "Please switch to tf.summary.scalar. Note that tf.summary.scalar uses the node name instead of the tag. This means that TensorFlow will automatically de-duplicate summary names based on the scope they are created in. Also, passing a tensor or list of tags to a scalar summary op is no longer supported.\n"
     ]
    },
    {
     "name": "stdout",
     "output_type": "stream",
     "text": [
      "INFO:tensorflow:Create CheckpointSaverHook.\n"
     ]
    },
    {
     "name": "stderr",
     "output_type": "stream",
     "text": [
      "2017-03-12 12:16:46,253 : INFO : Create CheckpointSaverHook.\n"
     ]
    },
    {
     "name": "stdout",
     "output_type": "stream",
     "text": [
      "INFO:tensorflow:Saving checkpoints for 1 into /tmp/tmpUO4Emt/model.ckpt.\n"
     ]
    },
    {
     "name": "stderr",
     "output_type": "stream",
     "text": [
      "2017-03-12 12:16:48,023 : INFO : Saving checkpoints for 1 into /tmp/tmpUO4Emt/model.ckpt.\n"
     ]
    },
    {
     "name": "stdout",
     "output_type": "stream",
     "text": [
      "INFO:tensorflow:loss = 1.04513, step = 1\n"
     ]
    },
    {
     "name": "stderr",
     "output_type": "stream",
     "text": [
      "2017-03-12 12:16:48,312 : INFO : loss = 1.04513, step = 1\n"
     ]
    },
    {
     "name": "stdout",
     "output_type": "stream",
     "text": [
      "INFO:tensorflow:global_step/sec: 182.508\n"
     ]
    },
    {
     "name": "stderr",
     "output_type": "stream",
     "text": [
      "2017-03-12 12:16:48,858 : INFO : global_step/sec: 182.508\n"
     ]
    },
    {
     "name": "stdout",
     "output_type": "stream",
     "text": [
      "INFO:tensorflow:loss = 0.173753, step = 101\n"
     ]
    },
    {
     "name": "stderr",
     "output_type": "stream",
     "text": [
      "2017-03-12 12:16:48,861 : INFO : loss = 0.173753, step = 101\n"
     ]
    },
    {
     "name": "stdout",
     "output_type": "stream",
     "text": [
      "INFO:tensorflow:global_step/sec: 187.217\n"
     ]
    },
    {
     "name": "stderr",
     "output_type": "stream",
     "text": [
      "2017-03-12 12:16:49,392 : INFO : global_step/sec: 187.217\n"
     ]
    },
    {
     "name": "stdout",
     "output_type": "stream",
     "text": [
      "INFO:tensorflow:loss = 0.0942623, step = 201\n"
     ]
    },
    {
     "name": "stderr",
     "output_type": "stream",
     "text": [
      "2017-03-12 12:16:49,394 : INFO : loss = 0.0942623, step = 201\n"
     ]
    },
    {
     "name": "stdout",
     "output_type": "stream",
     "text": [
      "INFO:tensorflow:global_step/sec: 186.774\n"
     ]
    },
    {
     "name": "stderr",
     "output_type": "stream",
     "text": [
      "2017-03-12 12:16:49,928 : INFO : global_step/sec: 186.774\n"
     ]
    },
    {
     "name": "stdout",
     "output_type": "stream",
     "text": [
      "INFO:tensorflow:loss = 0.161365, step = 301\n"
     ]
    },
    {
     "name": "stderr",
     "output_type": "stream",
     "text": [
      "2017-03-12 12:16:49,930 : INFO : loss = 0.161365, step = 301\n"
     ]
    },
    {
     "name": "stdout",
     "output_type": "stream",
     "text": [
      "INFO:tensorflow:global_step/sec: 180.69\n"
     ]
    },
    {
     "name": "stderr",
     "output_type": "stream",
     "text": [
      "2017-03-12 12:16:50,481 : INFO : global_step/sec: 180.69\n"
     ]
    },
    {
     "name": "stdout",
     "output_type": "stream",
     "text": [
      "INFO:tensorflow:loss = 0.214643, step = 401\n"
     ]
    },
    {
     "name": "stderr",
     "output_type": "stream",
     "text": [
      "2017-03-12 12:16:50,484 : INFO : loss = 0.214643, step = 401\n"
     ]
    },
    {
     "name": "stdout",
     "output_type": "stream",
     "text": [
      "INFO:tensorflow:global_step/sec: 182.671\n"
     ]
    },
    {
     "name": "stderr",
     "output_type": "stream",
     "text": [
      "2017-03-12 12:16:51,028 : INFO : global_step/sec: 182.671\n"
     ]
    },
    {
     "name": "stdout",
     "output_type": "stream",
     "text": [
      "INFO:tensorflow:loss = 0.131339, step = 501\n"
     ]
    },
    {
     "name": "stderr",
     "output_type": "stream",
     "text": [
      "2017-03-12 12:16:51,032 : INFO : loss = 0.131339, step = 501\n"
     ]
    },
    {
     "name": "stdout",
     "output_type": "stream",
     "text": [
      "INFO:tensorflow:global_step/sec: 167.368\n"
     ]
    },
    {
     "name": "stderr",
     "output_type": "stream",
     "text": [
      "2017-03-12 12:16:51,626 : INFO : global_step/sec: 167.368\n"
     ]
    },
    {
     "name": "stdout",
     "output_type": "stream",
     "text": [
      "INFO:tensorflow:loss = 0.335522, step = 601\n"
     ]
    },
    {
     "name": "stderr",
     "output_type": "stream",
     "text": [
      "2017-03-12 12:16:51,629 : INFO : loss = 0.335522, step = 601\n"
     ]
    },
    {
     "name": "stdout",
     "output_type": "stream",
     "text": [
      "INFO:tensorflow:global_step/sec: 174.663\n"
     ]
    },
    {
     "name": "stderr",
     "output_type": "stream",
     "text": [
      "2017-03-12 12:16:52,198 : INFO : global_step/sec: 174.663\n"
     ]
    },
    {
     "name": "stdout",
     "output_type": "stream",
     "text": [
      "INFO:tensorflow:loss = 0.211699, step = 701\n"
     ]
    },
    {
     "name": "stderr",
     "output_type": "stream",
     "text": [
      "2017-03-12 12:16:52,201 : INFO : loss = 0.211699, step = 701\n"
     ]
    },
    {
     "name": "stdout",
     "output_type": "stream",
     "text": [
      "INFO:tensorflow:global_step/sec: 135.382\n"
     ]
    },
    {
     "name": "stderr",
     "output_type": "stream",
     "text": [
      "2017-03-12 12:16:52,937 : INFO : global_step/sec: 135.382\n"
     ]
    },
    {
     "name": "stdout",
     "output_type": "stream",
     "text": [
      "INFO:tensorflow:loss = 0.168143, step = 801\n"
     ]
    },
    {
     "name": "stderr",
     "output_type": "stream",
     "text": [
      "2017-03-12 12:16:52,940 : INFO : loss = 0.168143, step = 801\n"
     ]
    },
    {
     "name": "stdout",
     "output_type": "stream",
     "text": [
      "INFO:tensorflow:global_step/sec: 163.879\n"
     ]
    },
    {
     "name": "stderr",
     "output_type": "stream",
     "text": [
      "2017-03-12 12:16:53,547 : INFO : global_step/sec: 163.879\n"
     ]
    },
    {
     "name": "stdout",
     "output_type": "stream",
     "text": [
      "INFO:tensorflow:loss = 0.0933665, step = 901\n"
     ]
    },
    {
     "name": "stderr",
     "output_type": "stream",
     "text": [
      "2017-03-12 12:16:53,550 : INFO : loss = 0.0933665, step = 901\n"
     ]
    },
    {
     "name": "stdout",
     "output_type": "stream",
     "text": [
      "INFO:tensorflow:global_step/sec: 170.269\n"
     ]
    },
    {
     "name": "stderr",
     "output_type": "stream",
     "text": [
      "2017-03-12 12:16:54,135 : INFO : global_step/sec: 170.269\n"
     ]
    },
    {
     "name": "stdout",
     "output_type": "stream",
     "text": [
      "INFO:tensorflow:loss = 0.231321, step = 1001\n"
     ]
    },
    {
     "name": "stderr",
     "output_type": "stream",
     "text": [
      "2017-03-12 12:16:54,137 : INFO : loss = 0.231321, step = 1001\n"
     ]
    },
    {
     "name": "stdout",
     "output_type": "stream",
     "text": [
      "INFO:tensorflow:global_step/sec: 169.097\n"
     ]
    },
    {
     "name": "stderr",
     "output_type": "stream",
     "text": [
      "2017-03-12 12:16:54,726 : INFO : global_step/sec: 169.097\n"
     ]
    },
    {
     "name": "stdout",
     "output_type": "stream",
     "text": [
      "INFO:tensorflow:loss = 0.165327, step = 1101\n"
     ]
    },
    {
     "name": "stderr",
     "output_type": "stream",
     "text": [
      "2017-03-12 12:16:54,729 : INFO : loss = 0.165327, step = 1101\n"
     ]
    },
    {
     "name": "stdout",
     "output_type": "stream",
     "text": [
      "INFO:tensorflow:global_step/sec: 170.974\n"
     ]
    },
    {
     "name": "stderr",
     "output_type": "stream",
     "text": [
      "2017-03-12 12:16:55,311 : INFO : global_step/sec: 170.974\n"
     ]
    },
    {
     "name": "stdout",
     "output_type": "stream",
     "text": [
      "INFO:tensorflow:loss = 0.1348, step = 1201\n"
     ]
    },
    {
     "name": "stderr",
     "output_type": "stream",
     "text": [
      "2017-03-12 12:16:55,313 : INFO : loss = 0.1348, step = 1201\n"
     ]
    },
    {
     "name": "stdout",
     "output_type": "stream",
     "text": [
      "INFO:tensorflow:global_step/sec: 167.333\n"
     ]
    },
    {
     "name": "stderr",
     "output_type": "stream",
     "text": [
      "2017-03-12 12:16:55,909 : INFO : global_step/sec: 167.333\n"
     ]
    },
    {
     "name": "stdout",
     "output_type": "stream",
     "text": [
      "INFO:tensorflow:loss = 0.238799, step = 1301\n"
     ]
    },
    {
     "name": "stderr",
     "output_type": "stream",
     "text": [
      "2017-03-12 12:16:55,911 : INFO : loss = 0.238799, step = 1301\n"
     ]
    },
    {
     "name": "stdout",
     "output_type": "stream",
     "text": [
      "INFO:tensorflow:global_step/sec: 154.97\n"
     ]
    },
    {
     "name": "stderr",
     "output_type": "stream",
     "text": [
      "2017-03-12 12:16:56,554 : INFO : global_step/sec: 154.97\n"
     ]
    },
    {
     "name": "stdout",
     "output_type": "stream",
     "text": [
      "INFO:tensorflow:loss = 0.0825534, step = 1401\n"
     ]
    },
    {
     "name": "stderr",
     "output_type": "stream",
     "text": [
      "2017-03-12 12:16:56,556 : INFO : loss = 0.0825534, step = 1401\n"
     ]
    },
    {
     "name": "stdout",
     "output_type": "stream",
     "text": [
      "INFO:tensorflow:global_step/sec: 156.106\n"
     ]
    },
    {
     "name": "stderr",
     "output_type": "stream",
     "text": [
      "2017-03-12 12:16:57,194 : INFO : global_step/sec: 156.106\n"
     ]
    },
    {
     "name": "stdout",
     "output_type": "stream",
     "text": [
      "INFO:tensorflow:loss = 0.10298, step = 1501\n"
     ]
    },
    {
     "name": "stderr",
     "output_type": "stream",
     "text": [
      "2017-03-12 12:16:57,197 : INFO : loss = 0.10298, step = 1501\n"
     ]
    },
    {
     "name": "stdout",
     "output_type": "stream",
     "text": [
      "INFO:tensorflow:global_step/sec: 163.276\n"
     ]
    },
    {
     "name": "stderr",
     "output_type": "stream",
     "text": [
      "2017-03-12 12:16:57,807 : INFO : global_step/sec: 163.276\n"
     ]
    },
    {
     "name": "stdout",
     "output_type": "stream",
     "text": [
      "INFO:tensorflow:loss = 0.073601, step = 1601\n"
     ]
    },
    {
     "name": "stderr",
     "output_type": "stream",
     "text": [
      "2017-03-12 12:16:57,809 : INFO : loss = 0.073601, step = 1601\n"
     ]
    },
    {
     "name": "stdout",
     "output_type": "stream",
     "text": [
      "INFO:tensorflow:global_step/sec: 166.15\n"
     ]
    },
    {
     "name": "stderr",
     "output_type": "stream",
     "text": [
      "2017-03-12 12:16:58,409 : INFO : global_step/sec: 166.15\n"
     ]
    },
    {
     "name": "stdout",
     "output_type": "stream",
     "text": [
      "INFO:tensorflow:loss = 0.053264, step = 1701\n"
     ]
    },
    {
     "name": "stderr",
     "output_type": "stream",
     "text": [
      "2017-03-12 12:16:58,411 : INFO : loss = 0.053264, step = 1701\n"
     ]
    },
    {
     "name": "stdout",
     "output_type": "stream",
     "text": [
      "INFO:tensorflow:global_step/sec: 167.33\n"
     ]
    },
    {
     "name": "stderr",
     "output_type": "stream",
     "text": [
      "2017-03-12 12:16:59,006 : INFO : global_step/sec: 167.33\n"
     ]
    },
    {
     "name": "stdout",
     "output_type": "stream",
     "text": [
      "INFO:tensorflow:loss = 0.1561, step = 1801\n"
     ]
    },
    {
     "name": "stderr",
     "output_type": "stream",
     "text": [
      "2017-03-12 12:16:59,009 : INFO : loss = 0.1561, step = 1801\n"
     ]
    },
    {
     "name": "stdout",
     "output_type": "stream",
     "text": [
      "INFO:tensorflow:global_step/sec: 165.925\n"
     ]
    },
    {
     "name": "stderr",
     "output_type": "stream",
     "text": [
      "2017-03-12 12:16:59,609 : INFO : global_step/sec: 165.925\n"
     ]
    },
    {
     "name": "stdout",
     "output_type": "stream",
     "text": [
      "INFO:tensorflow:loss = 0.11174, step = 1901\n"
     ]
    },
    {
     "name": "stderr",
     "output_type": "stream",
     "text": [
      "2017-03-12 12:16:59,611 : INFO : loss = 0.11174, step = 1901\n"
     ]
    },
    {
     "name": "stdout",
     "output_type": "stream",
     "text": [
      "INFO:tensorflow:Saving checkpoints for 2000 into /tmp/tmpUO4Emt/model.ckpt.\n"
     ]
    },
    {
     "name": "stderr",
     "output_type": "stream",
     "text": [
      "2017-03-12 12:17:00,200 : INFO : Saving checkpoints for 2000 into /tmp/tmpUO4Emt/model.ckpt.\n"
     ]
    },
    {
     "name": "stdout",
     "output_type": "stream",
     "text": [
      "INFO:tensorflow:Loss for final step: 0.231347.\n"
     ]
    },
    {
     "name": "stderr",
     "output_type": "stream",
     "text": [
      "2017-03-12 12:17:00,623 : INFO : Loss for final step: 0.231347.\n"
     ]
    },
    {
     "name": "stdout",
     "output_type": "stream",
     "text": [
      "WARNING:tensorflow:float64 is not supported by many models, consider casting to float32.\n"
     ]
    },
    {
     "name": "stderr",
     "output_type": "stream",
     "text": [
      "2017-03-12 12:17:00,698 : WARNING : float64 is not supported by many models, consider casting to float32.\n",
      "2017-03-12 12:17:00,945 : WARNING : Run accuracy: 0.933520460925\n",
      "2017-03-12 12:17:00,947 : WARNING : Cat accuracies:\n",
      "[0.9661708253358925, 0.9195678271308524, 0.8128342245989305]\n"
     ]
    }
   ],
   "source": [
    "# classifier training and eval:\n",
    "strat_kfold = StratifiedKFold(n_splits=1 if TEST_MODE else 5, shuffle=True)\n",
    "accuracies = []\n",
    "cat_accuracies = pd.DataFrame(columns=d2v_wrapper.content_categories)\n",
    "\n",
    "for train_doc_indices, test_doc_indices in strat_kfold.split(doc_vectors, doc_labels):\n",
    "    \n",
    "    random.shuffle(train_doc_indices)\n",
    "    random.shuffle(test_doc_indices)\n",
    "    \n",
    "    train_vectors = doc_vectors.iloc[train_doc_indices]\n",
    "\n",
    "    y_true = doc_labels.iloc[train_doc_indices]\n",
    "\n",
    "    tf_dataset = dataset_from_dataframe(train_vectors, y_true)\n",
    "    \n",
    "    # init model:\n",
    "    # model aims to consist of two layers\n",
    "    # 1. dense, fully-connected layer with relu act. function\n",
    "    # 2. softmax output layer for classification and further relevance scoring\n",
    "    feature_columns = [tf.contrib.layers.real_valued_column(\"\", dimension=doc_vectors.shape[1])]\n",
    "\n",
    "    two_layer_nn_classifier = SKCompat(tf.contrib.learn.DNNClassifier(feature_columns=feature_columns,\n",
    "                                                                  hidden_units=[doc_vectors.shape[1] / 2],\n",
    "                                                                  activation_fn=tf.nn.relu,\n",
    "                                                                  dropout=0.05,\n",
    "                                                                  n_classes=len(d2v_wrapper.content_categories),\n",
    "                                                                  optimizer=\"Adam\"))\n",
    "\n",
    "    two_layer_nn_classifier.fit(x=tf_dataset.data,\n",
    "                                y=tf_dataset.target,\n",
    "                                steps=500 if TEST_MODE else 2000)\n",
    "\n",
    "    # testing\n",
    "    # can be used to infer the relative relevance (or score) of the document for categories    \n",
    "    logits = two_layer_nn_classifier.predict(doc_vectors.iloc[test_doc_indices])\n",
    "    \n",
    "    y_actual = decode_categories(pd.Series(logits[\"classes\"])).values\n",
    "    y_expected = doc_labels.iloc[test_doc_indices].values\n",
    "\n",
    "    # evaluation\n",
    "    split_accuracy = accuracy_score(y_expected, y_actual)\n",
    "    logging.warn(\"Run accuracy: %s\" % split_accuracy)\n",
    "    accuracies.append(split_accuracy)\n",
    "    split_cat_accuracies = map(lambda cat: accuracy_for_category(y_expected, y_actual, cat),\n",
    "                               d2v_wrapper.content_categories)\n",
    "    logging.warn(\"Cat accuracies:\\n%s\" % split_cat_accuracies)\n",
    "    cat_accuracies = cat_accuracies.append(\n",
    "        pd.DataFrame(data=[split_cat_accuracies], columns=d2v_wrapper.content_categories))"
   ]
  },
  {
   "cell_type": "code",
   "execution_count": 7,
   "metadata": {
    "collapsed": false,
    "scrolled": true
   },
   "outputs": [
    {
     "name": "stderr",
     "output_type": "stream",
     "text": [
      "2017-03-12 12:17:00,955 : INFO : done\n",
      "2017-03-12 12:17:00,956 : INFO : accuracies: [0.93280165411312954, 0.93292953168858028, 0.93470231939725212, 0.93396365785197222, 0.93352046092480423]\n",
      "2017-03-12 12:17:00,956 : INFO : mean accuracy: 0.933583524795\n",
      "2017-03-12 12:17:00,958 : INFO : categories accuracies: \n",
      "[[ 0.95513436  0.89382124  0.90277778]\n",
      " [ 0.96089251  0.91296519  0.84385027]\n",
      " [ 0.95345489  0.91776711  0.88128342]\n",
      " [ 0.97840691  0.89435774  0.80641711]\n",
      " [ 0.96617083  0.91956783  0.81283422]]\n",
      "2017-03-12 12:17:00,959 : INFO : categories accuracies mean: \n",
      "eap          0.962812\n",
      "fuse         0.907696\n",
      "devstudio    0.849433\n",
      "dtype: float64\n",
      "2017-03-12 12:17:00,960 : INFO : done\n"
     ]
    }
   ],
   "source": [
    "logging.info(\"done\")\n",
    "logging.info(\"accuracies: %s\" % accuracies)\n",
    "logging.info(\"mean accuracy: %s\" % np.mean(accuracies))\n",
    "logging.info(\"categories accuracies: \\n%s\" % cat_accuracies.values)\n",
    "logging.info(\"categories accuracies mean: \\n%s\" % cat_accuracies.mean())\n",
    "logging.info(\"done\")"
   ]
  },
  {
   "cell_type": "code",
   "execution_count": null,
   "metadata": {
    "collapsed": true,
    "scrolled": false
   },
   "outputs": [],
   "source": [
    ""
   ]
  }
 ],
 "metadata": {
  "kernelspec": {
   "display_name": "Python 2",
   "language": "python",
   "name": "python2"
  },
  "language_info": {
   "codemirror_mode": {
    "name": "ipython",
    "version": 2.0
   },
   "file_extension": ".py",
   "mimetype": "text/x-python",
   "name": "python",
   "nbconvert_exporter": "python",
   "pygments_lexer": "ipython2",
   "version": "2.7.8"
  }
 },
 "nbformat": 4,
 "nbformat_minor": 0
}