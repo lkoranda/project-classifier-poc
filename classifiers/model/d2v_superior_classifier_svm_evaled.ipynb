{
 "cells": [
  {
   "cell_type": "code",
   "execution_count": 1,
   "metadata": {
    "collapsed": false,
    "scrolled": false
   },
   "outputs": [],
   "source": [
    "# a demonstration of use of the two-layered neural network classifier \n",
    "# for content classification on doc2vec docs vectors\n",
    "# where softmax probabilities of the classified content against the given categories can be used as relevance rating\n",
    "# towards the classified categories\n",
    "\n",
    "# references:\n",
    "# [1] https://deeplearning4j.org/word2vec.html\n",
    "# [2] https://deeplearning4j.org/welldressed-recommendation-engine\n",
    "# [3] https://www.tensorflow.org/get_started/tflearn\n",
    "# [4] http://scikit-learn.org/stable/modules/cross_validation.html\n",
    "\n",
    "# author Michal Stefanik  mistefan  at  redhat dot com\n",
    "\n",
    "import numpy as np\n",
    "import pandas as pd\n",
    "import random\n",
    "\n",
    "import tensorflow as tf\n",
    "from tensorflow.contrib.learn.python.learn.estimators.estimator import SKCompat\n",
    "\n",
    "from sklearn.metrics import accuracy_score\n",
    "from sklearn.model_selection import StratifiedKFold\n",
    "\n",
    "# D2VWrapper is our implementation providing vectorization of the documents based on doc2vec\n",
    "from doc2vec_wrapper import D2VWrapper\n",
    "\n",
    "import logging\n",
    "logging.basicConfig(format='%(asctime)s : %(levelname)s : %(message)s', level=logging.INFO)"
   ]
  },
  {
   "cell_type": "code",
   "execution_count": 2,
   "metadata": {
    "collapsed": true,
    "scrolled": false
   },
   "outputs": [],
   "source": [
    "# optimization steps are reduced on TEST_MODE\n",
    "TEST_MODE = False\n",
    "\n",
    "# target categories\n",
    "product_list = [\"amq\", \"eap\", \"webserver\", \"datagrid\", \"fuse\", \"brms\", \"bpmsuite\", \"devstudio\", \"cdk\",\n",
    "                \"developertoolset\", \"rhel\", \"softwarecollections\", \"mobileplatform\", \"openshift\"]"
   ]
  },
  {
   "cell_type": "code",
   "execution_count": 3,
   "metadata": {
    "collapsed": false,
    "scrolled": false
   },
   "outputs": [],
   "source": [
    "# extended evaluation metric on selected category\n",
    "def accuracy_for_category(y_expected, y_actual, label):\n",
    "    label_expected = y_expected[y_expected == label]\n",
    "    intersect = y_expected[np.where(y_expected == y_actual)]\n",
    "    label_intersect = intersect[intersect == label]\n",
    "    if len(label_expected) == 0:\n",
    "        logging.warn(\"Accuracy of %s category evaluated on 0 samples\" % label)\n",
    "        return 1 if len(label_intersect) == 0 else 0\n",
    "    else:\n",
    "        return float(len(label_intersect)) / len(label_expected)"
   ]
  },
  {
   "cell_type": "code",
   "execution_count": 4,
   "metadata": {
    "collapsed": false,
    "scrolled": true
   },
   "outputs": [
    {
     "name": "stderr",
     "output_type": "stream",
     "text": [
      "2017-04-10 13:47:39,902 : INFO : Loading serialized wrapper model from: trained_models/wrapper/100train\n",
      "2017-04-10 13:47:39,903 : INFO : Loading docs objects\n",
      "2017-04-10 13:47:47,090 : INFO : Loading trained Doc2Vec model\n",
      "2017-04-10 13:47:47,091 : INFO : loading Doc2Vec object from trained_models/wrapper/100traindoc2vec.mod\n",
      "2017-04-10 13:47:47,389 : INFO : loading docvecs recursively from trained_models/wrapper/100traindoc2vec.mod.docvecs.* with mmap=None\n",
      "2017-04-10 13:47:47,389 : INFO : loading doctag_syn0 from trained_models/wrapper/100traindoc2vec.mod.docvecs.doctag_syn0.npy with mmap=None\n",
      "2017-04-10 13:47:47,761 : INFO : loading syn1neg from trained_models/wrapper/100traindoc2vec.mod.syn1neg.npy with mmap=None\n",
      "2017-04-10 13:47:47,973 : INFO : loading syn0 from trained_models/wrapper/100traindoc2vec.mod.syn0.npy with mmap=None\n",
      "2017-04-10 13:47:48,233 : INFO : setting ignored attribute syn0norm to None\n",
      "2017-04-10 13:47:48,234 : INFO : setting ignored attribute cum_table to None\n"
     ]
    }
   ],
   "source": [
    "# initialize d2v_wrapper providing as well metadata about the models state\n",
    "d2v_wrapper = D2VWrapper(content_categories=product_list,\n",
    "                         vector_length=500)\n",
    "\n",
    "# EITHER initialize the vocab of documents and minimize the distances of embeddings in training phase\n",
    "# d2v_wrapper.init_model_vocab(content_basepath=\"../../data/content/playground/auto/nostem\",\n",
    "#                              basepath_suffix=\"_content.csv\", drop_short_docs=10)\n",
    "# d2v_wrapper.train_model(shuffle=True, epochs=1 if TEST_MODE else 15)\n",
    "# \n",
    "# d2v_wrapper.persist_trained_wrapper(\"trained_models/wrapper/\")\n",
    "\n",
    "# OR load initialized and trained wrapper if available\n",
    "d2v_wrapper.load_persisted_wrapper(\"trained_models/wrapper/100train\")"
   ]
  },
  {
   "cell_type": "code",
   "execution_count": 5,
   "metadata": {
    "collapsed": false
   },
   "outputs": [
    {
     "name": "stderr",
     "output_type": "stream",
     "text": [
      "2017-04-10 13:47:58,941 : INFO : Docs vector inference started\n",
      "2017-04-10 13:47:58,942 : INFO : Inferring vectors of 43395 documents\n"
     ]
    }
   ],
   "source": [
    "# transform the doc data set into a vector set of the given vector_length\n",
    "doc_vectors_labeled = d2v_wrapper.infer_content_vectors()\n",
    "doc_vectors = doc_vectors_labeled.iloc[:, :-1]\n",
    "doc_labels = doc_vectors_labeled.iloc[:, -1]"
   ]
  },
  {
   "cell_type": "code",
   "execution_count": 6,
   "metadata": {
    "collapsed": false
   },
   "outputs": [
    {
     "name": "stderr",
     "output_type": "stream",
     "text": [
      "2017-04-10 13:56:50,373 : INFO : Serializing wrapper model to: trained_models/wrapper/100epoch_train_nostem\n",
      "2017-04-10 13:56:50,374 : INFO : Persisting docs objects\n",
      "2017-04-10 13:56:58,187 : INFO : Persisting inferred vectors\n",
      "2017-04-10 13:57:20,620 : INFO : Persisting trained Doc2Vec model\n",
      "2017-04-10 13:57:20,621 : INFO : saving Doc2Vec object under trained_models/wrapper/100epoch_train_nostemdoc2vec.mod, separately None\n",
      "2017-04-10 13:57:20,622 : INFO : storing numpy array 'doctag_syn0' to trained_models/wrapper/100epoch_train_nostemdoc2vec.mod.docvecs.doctag_syn0.npy\n",
      "2017-04-10 13:57:21,986 : INFO : storing numpy array 'syn1neg' to trained_models/wrapper/100epoch_train_nostemdoc2vec.mod.syn1neg.npy\n",
      "2017-04-10 13:57:22,654 : INFO : not storing attribute syn0norm\n",
      "2017-04-10 13:57:22,655 : INFO : storing numpy array 'syn0' to trained_models/wrapper/100epoch_train_nostemdoc2vec.mod.syn0.npy\n",
      "2017-04-10 13:57:23,486 : INFO : not storing attribute cum_table\n"
     ]
    }
   ],
   "source": [
    "d2v_wrapper.persist_trained_wrapper(\"trained_models/wrapper/100epoch_train_nostem\")"
   ]
  },
  {
   "cell_type": "code",
   "execution_count": 8,
   "metadata": {
    "collapsed": false
   },
   "outputs": [
    {
     "data": {
      "text/plain": [
       "count     43395\n",
       "unique       14\n",
       "top         eap\n",
       "freq      18355\n",
       "Name: y, dtype: object"
      ]
     },
     "execution_count": 8,
     "metadata": {},
     "output_type": "execute_result"
    }
   ],
   "source": [
    "doc_labels.describe()"
   ]
  },
  {
   "cell_type": "code",
   "execution_count": 8,
   "metadata": {
    "collapsed": false,
    "scrolled": true
   },
   "outputs": [
    {
     "name": "stderr",
     "output_type": "stream",
     "text": [
      "2017-04-11 09:05:03,265 : INFO : Shuffling indices\n",
      "2017-04-11 09:05:03,284 : INFO : Fitting classifier\n",
      "2017-04-11 09:30:17,339 : INFO : Predicting\n",
      "2017-04-11 09:31:25,528 : INFO : Probs collection\n",
      "2017-04-11 09:32:31,914 : INFO : Split results:\n",
      "2017-04-11 09:32:31,920 : INFO : Run accuracy: 0.836020267158\n",
      "2017-04-11 09:32:31,926 : INFO : Cat accuracies:\n",
      "[0.224, 0.9261781530918006, 0.281767955801105, 0.3157894736842105, 0.8481824661439772, 0.4658119658119658, 0.48205128205128206, 0.7830045523520486, 0.0, 0.0, 0.9238385376999239, 0.0, 0.2857142857142857, 0.7868649318463445]\n",
      "2017-04-11 09:32:31,928 : INFO : Shuffling indices\n",
      "2017-04-11 09:32:31,953 : INFO : Fitting classifier\n",
      "2017-04-11 09:54:08,803 : INFO : Predicting\n",
      "2017-04-11 09:55:07,156 : INFO : Probs collection\n",
      "2017-04-11 09:56:05,495 : INFO : Split results:\n",
      "2017-04-11 09:56:05,501 : INFO : Run accuracy: 0.840456168644\n",
      "2017-04-11 09:56:05,506 : INFO : Cat accuracies:\n",
      "[0.256, 0.9313538545355489, 0.20441988950276244, 0.2982456140350877, 0.857448325017819, 0.48068669527896996, 0.5487179487179488, 0.7720364741641338, 0.0, 0.0, 0.9291698400609292, 0.0, 0.25, 0.7881040892193308]\n",
      "2017-04-11 09:56:05,508 : INFO : Shuffling indices\n",
      "2017-04-11 09:56:05,532 : INFO : Fitting classifier\n",
      "2017-04-11 10:18:48,290 : INFO : Predicting\n",
      "2017-04-11 10:20:03,421 : INFO : Probs collection\n",
      "2017-04-11 10:21:09,555 : INFO : Split results:\n",
      "2017-04-11 10:21:09,560 : INFO : Run accuracy: 0.840170546209\n",
      "2017-04-11 10:21:09,566 : INFO : Cat accuracies:\n",
      "[0.312, 0.9318986652138382, 0.23756906077348067, 0.42105263157894735, 0.8282252316464719, 0.47639484978540775, 0.6358974358974359, 0.7781155015197568, 0.07142857142857142, 0.0, 0.9199695121951219, 0.0, 0.4, 0.792803970223325]\n",
      "2017-04-11 10:21:09,569 : INFO : Shuffling indices\n",
      "2017-04-11 10:21:09,593 : INFO : Fitting classifier\n",
      "2017-04-11 10:47:01,924 : INFO : Predicting\n",
      "2017-04-11 10:48:15,446 : INFO : Probs collection\n",
      "2017-04-11 10:49:22,130 : INFO : Split results:\n",
      "2017-04-11 10:49:22,136 : INFO : Run accuracy: 0.841650339979\n",
      "2017-04-11 10:49:22,142 : INFO : Cat accuracies:\n",
      "[0.272, 0.9316262598746935, 0.27071823204419887, 0.45614035087719296, 0.8581610833927299, 0.4721030042918455, 0.5309278350515464, 0.7644376899696048, 0.0, 0.0, 0.9291158536585366, 0.0, 0.2, 0.78287841191067]\n",
      "2017-04-11 10:49:22,144 : INFO : Shuffling indices\n",
      "2017-04-11 10:49:22,176 : INFO : Fitting classifier\n",
      "2017-04-11 11:15:24,667 : INFO : Predicting\n",
      "2017-04-11 11:16:30,452 : INFO : Probs collection\n",
      "2017-04-11 11:17:38,386 : INFO : Split results:\n",
      "2017-04-11 11:17:38,392 : INFO : Run accuracy: 0.836195965418\n",
      "2017-04-11 11:17:38,397 : INFO : Cat accuracies:\n",
      "[0.24, 0.9291746118223917, 0.26666666666666666, 0.40350877192982454, 0.8510334996436208, 0.45064377682403434, 0.5154639175257731, 0.7598784194528876, 0.07692307692307693, 0.0, 0.9237804878048781, 0.0, 0.3, 0.7741935483870968]\n"
     ]
    }
   ],
   "source": [
    "# classifier training and eval:\n",
    "from sklearn.svm import SVC\n",
    "\n",
    "# results collection\n",
    "accuracies = []\n",
    "cat_accuracies = pd.DataFrame(columns=d2v_wrapper.content_categories)\n",
    "correct_logits = pd.DataFrame(columns=[\"actual_prob\", \"expected_prob\", \"actual_class\", \"expected_class\"])\n",
    "wrong_docs_ids = pd.Series()\n",
    "\n",
    "# evaluation on CV split persisting the categories respective size on each split\n",
    "strat_kfold = StratifiedKFold(n_splits=5 if TEST_MODE else 5, shuffle=True)\n",
    "\n",
    "for train_doc_indices, test_doc_indices in strat_kfold.split(doc_vectors, doc_labels):\n",
    "    logging.info(\"Shuffling indices\")\n",
    "    random.shuffle(train_doc_indices)\n",
    "    random.shuffle(test_doc_indices)\n",
    "\n",
    "    # training\n",
    "    # kernels to try: linear, poly, rbf, sigmoid\n",
    "    svm_classifier = SVC(kernel=\"rbf\", decision_function_shape=\"ovo\", C=8, gamma=0.0025, probability=True)\n",
    "    \n",
    "    logging.info(\"Fitting classifier\")\n",
    "    svm_classifier.fit(doc_vectors.iloc[train_doc_indices], doc_labels.iloc[train_doc_indices])\n",
    "\n",
    "    # testing\n",
    "    logging.info(\"Predicting\")\n",
    "    y_expected = doc_labels.iloc[test_doc_indices].values\n",
    "    y_actual = svm_classifier.predict(doc_vectors.iloc[test_doc_indices])\n",
    "\n",
    "    # evaluation:\n",
    "    # logits\n",
    "    logging.info(\"Probs collection\")\n",
    "    class_probs = svm_classifier.predict_proba(doc_vectors.iloc[test_doc_indices])\n",
    "    class_ordered = list(svm_classifier.classes_)\n",
    "\n",
    "    class_actual_index = pd.Series(y_actual).apply(lambda cat_label: class_ordered.index(cat_label))\n",
    "    actual_prob = class_probs[np.arange(len(class_actual_index)), (class_actual_index)]\n",
    "\n",
    "    class_expected_index = pd.Series(y_expected).apply(lambda cat_label: class_ordered.index(cat_label))\n",
    "    expected_prob = class_probs[np.arange(len(class_actual_index)), (class_expected_index)]\n",
    "\n",
    "    new_logits = pd.DataFrame()\n",
    "    new_logits[\"doc_id\"] = test_doc_indices\n",
    "    new_logits[\"actual_prob\"] = actual_prob\n",
    "    new_logits[\"expected_prob\"] = expected_prob\n",
    "    new_logits[\"actual_class\"] = y_actual\n",
    "    new_logits[\"expected_class\"] = y_expected\n",
    "    correct_logits = correct_logits.append(new_logits)\n",
    "\n",
    "    # accuracy\n",
    "    logging.info(\"Split results:\")\n",
    "    split_accuracy = accuracy_score(y_expected, y_actual)\n",
    "    logging.info(\"Run accuracy: %s\" % split_accuracy)\n",
    "    accuracies.append(split_accuracy)\n",
    "    split_cat_accuracies = map(lambda cat: accuracy_for_category(y_expected, y_actual, cat),\n",
    "                               d2v_wrapper.content_categories)\n",
    "    logging.info(\"Cat accuracies:\\n%s\" % split_cat_accuracies)\n",
    "    cat_accuracies = cat_accuracies.append(\n",
    "        pd.DataFrame(data=[split_cat_accuracies], columns=d2v_wrapper.content_categories))"
   ]
  },
  {
   "cell_type": "code",
   "execution_count": 9,
   "metadata": {
    "collapsed": false
   },
   "outputs": [
    {
     "name": "stderr",
     "output_type": "stream",
     "text": [
      "2017-04-11 13:14:09,533 : INFO : split accuracies: [0.83602026715799171, 0.84045616864416539, 0.84017054620880383, 0.84165033997925554, 0.83619596541786745]\n",
      "2017-04-11 13:14:09,604 : INFO : mean accuracy: 0.838898657482\n",
      "2017-04-11 13:14:09,781 : INFO : categories accuracies: \n",
      "     amq       eap  webserver  datagrid      fuse      brms  bpmsuite  \\\n",
      "0  0.224  0.926178   0.281768  0.315789  0.848182  0.465812  0.482051   \n",
      "0  0.256  0.931354   0.204420  0.298246  0.857448  0.480687  0.548718   \n",
      "0  0.312  0.931899   0.237569  0.421053  0.828225  0.476395  0.635897   \n",
      "0  0.272  0.931626   0.270718  0.456140  0.858161  0.472103  0.530928   \n",
      "0  0.240  0.929175   0.266667  0.403509  0.851033  0.450644  0.515464   \n",
      "\n",
      "   devstudio       cdk  developertoolset      rhel  softwarecollections  \\\n",
      "0   0.783005  0.000000               0.0  0.923839                  0.0   \n",
      "0   0.772036  0.000000               0.0  0.929170                  0.0   \n",
      "0   0.778116  0.071429               0.0  0.919970                  0.0   \n",
      "0   0.764438  0.000000               0.0  0.929116                  0.0   \n",
      "0   0.759878  0.076923               0.0  0.923780                  0.0   \n",
      "\n",
      "   mobileplatform  openshift  \n",
      "0        0.285714   0.786865  \n",
      "0        0.250000   0.788104  \n",
      "0        0.400000   0.792804  \n",
      "0        0.200000   0.782878  \n",
      "0        0.300000   0.774194  \n",
      "2017-04-11 13:14:09,824 : INFO : categories accuracies mean: \n",
      "amq                    0.260800\n",
      "eap                    0.930046\n",
      "webserver              0.252228\n",
      "datagrid               0.378947\n",
      "fuse                   0.848610\n",
      "brms                   0.469128\n",
      "bpmsuite               0.542612\n",
      "devstudio              0.771495\n",
      "cdk                    0.029670\n",
      "developertoolset       0.000000\n",
      "rhel                   0.925175\n",
      "softwarecollections    0.000000\n",
      "mobileplatform         0.287143\n",
      "openshift              0.784969\n",
      "dtype: float64\n",
      "2017-04-11 13:14:09,826 : INFO : done\n"
     ]
    }
   ],
   "source": [
    "logging.info(\"split accuracies: %s\" % accuracies)\n",
    "logging.info(\"mean accuracy: %s\" % np.mean(accuracies))\n",
    "logging.info(\"categories accuracies: \\n%s\" % cat_accuracies)\n",
    "logging.info(\"categories accuracies mean: \\n%s\" % cat_accuracies.mean())\n",
    "logging.info(\"done\")"
   ]
  },
  {
   "cell_type": "code",
   "execution_count": 10,
   "metadata": {
    "collapsed": false,
    "scrolled": false
   },
   "outputs": [
    {
     "data": {
      "text/html": [
       "<div>\n",
       "<table border=\"1\" class=\"dataframe\">\n",
       "  <thead>\n",
       "    <tr style=\"text-align: right;\">\n",
       "      <th></th>\n",
       "      <th>label</th>\n",
       "      <th>accuracy</th>\n",
       "      <th>size</th>\n",
       "    </tr>\n",
       "  </thead>\n",
       "  <tbody>\n",
       "    <tr>\n",
       "      <th>11</th>\n",
       "      <td>softwarecollections</td>\n",
       "      <td>0.000000</td>\n",
       "      <td>5</td>\n",
       "    </tr>\n",
       "    <tr>\n",
       "      <th>9</th>\n",
       "      <td>developertoolset</td>\n",
       "      <td>0.000000</td>\n",
       "      <td>12</td>\n",
       "    </tr>\n",
       "    <tr>\n",
       "      <th>8</th>\n",
       "      <td>cdk</td>\n",
       "      <td>0.029670</td>\n",
       "      <td>69</td>\n",
       "    </tr>\n",
       "    <tr>\n",
       "      <th>12</th>\n",
       "      <td>mobileplatform</td>\n",
       "      <td>0.287143</td>\n",
       "      <td>101</td>\n",
       "    </tr>\n",
       "    <tr>\n",
       "      <th>3</th>\n",
       "      <td>datagrid</td>\n",
       "      <td>0.378947</td>\n",
       "      <td>285</td>\n",
       "    </tr>\n",
       "    <tr>\n",
       "      <th>0</th>\n",
       "      <td>amq</td>\n",
       "      <td>0.260800</td>\n",
       "      <td>625</td>\n",
       "    </tr>\n",
       "    <tr>\n",
       "      <th>2</th>\n",
       "      <td>webserver</td>\n",
       "      <td>0.252228</td>\n",
       "      <td>904</td>\n",
       "    </tr>\n",
       "    <tr>\n",
       "      <th>6</th>\n",
       "      <td>bpmsuite</td>\n",
       "      <td>0.542612</td>\n",
       "      <td>973</td>\n",
       "    </tr>\n",
       "    <tr>\n",
       "      <th>5</th>\n",
       "      <td>brms</td>\n",
       "      <td>0.469128</td>\n",
       "      <td>1166</td>\n",
       "    </tr>\n",
       "    <tr>\n",
       "      <th>7</th>\n",
       "      <td>devstudio</td>\n",
       "      <td>0.771495</td>\n",
       "      <td>3291</td>\n",
       "    </tr>\n",
       "    <tr>\n",
       "      <th>13</th>\n",
       "      <td>openshift</td>\n",
       "      <td>0.784969</td>\n",
       "      <td>4032</td>\n",
       "    </tr>\n",
       "    <tr>\n",
       "      <th>10</th>\n",
       "      <td>rhel</td>\n",
       "      <td>0.925175</td>\n",
       "      <td>6562</td>\n",
       "    </tr>\n",
       "    <tr>\n",
       "      <th>4</th>\n",
       "      <td>fuse</td>\n",
       "      <td>0.848610</td>\n",
       "      <td>7015</td>\n",
       "    </tr>\n",
       "    <tr>\n",
       "      <th>1</th>\n",
       "      <td>eap</td>\n",
       "      <td>0.930046</td>\n",
       "      <td>18355</td>\n",
       "    </tr>\n",
       "  </tbody>\n",
       "</table>\n",
       "</div>"
      ],
      "text/plain": [
       "                  label  accuracy   size\n",
       "11  softwarecollections  0.000000      5\n",
       "9      developertoolset  0.000000     12\n",
       "8                   cdk  0.029670     69\n",
       "12       mobileplatform  0.287143    101\n",
       "3              datagrid  0.378947    285\n",
       "0                   amq  0.260800    625\n",
       "2             webserver  0.252228    904\n",
       "6              bpmsuite  0.542612    973\n",
       "5                  brms  0.469128   1166\n",
       "7             devstudio  0.771495   3291\n",
       "13            openshift  0.784969   4032\n",
       "10                 rhel  0.925175   6562\n",
       "4                  fuse  0.848610   7015\n",
       "1                   eap  0.930046  18355"
      ]
     },
     "execution_count": 10,
     "metadata": {},
     "output_type": "execute_result"
    }
   ],
   "source": [
    "# accuracies of categories together with their size\n",
    "\n",
    "labels_size = pd.DataFrame()\n",
    "labels_size[\"label\"] = doc_labels.unique()\n",
    "labels_size[\"accuracy\"] = cat_accuracies.mean().values\n",
    "labels_size[\"size\"] = [len(doc_labels[doc_labels == cat]) for cat in labels_size[\"label\"]]\n",
    "labels_size = labels_size.sort_values(by=[\"size\"])\n",
    "\n",
    "labels_size"
   ]
  },
  {
   "cell_type": "code",
   "execution_count": 11,
   "metadata": {
    "collapsed": false,
    "scrolled": false
   },
   "outputs": [
    {
     "data": {
      "text/html": [
       "<div>\n",
       "<table border=\"1\" class=\"dataframe\">\n",
       "  <thead>\n",
       "    <tr style=\"text-align: right;\">\n",
       "      <th></th>\n",
       "      <th>actual_prob</th>\n",
       "      <th>expected_prob</th>\n",
       "      <th>actual_class</th>\n",
       "      <th>expected_class</th>\n",
       "    </tr>\n",
       "  </thead>\n",
       "  <tbody>\n",
       "    <tr>\n",
       "      <th>0</th>\n",
       "      <td>0.816850</td>\n",
       "      <td>0.009927</td>\n",
       "      <td>eap</td>\n",
       "      <td>brms</td>\n",
       "    </tr>\n",
       "    <tr>\n",
       "      <th>1</th>\n",
       "      <td>0.978756</td>\n",
       "      <td>0.978756</td>\n",
       "      <td>eap</td>\n",
       "      <td>eap</td>\n",
       "    </tr>\n",
       "    <tr>\n",
       "      <th>2</th>\n",
       "      <td>0.894475</td>\n",
       "      <td>0.894475</td>\n",
       "      <td>openshift</td>\n",
       "      <td>openshift</td>\n",
       "    </tr>\n",
       "    <tr>\n",
       "      <th>3</th>\n",
       "      <td>0.880951</td>\n",
       "      <td>0.018636</td>\n",
       "      <td>fuse</td>\n",
       "      <td>eap</td>\n",
       "    </tr>\n",
       "    <tr>\n",
       "      <th>4</th>\n",
       "      <td>0.827671</td>\n",
       "      <td>0.827671</td>\n",
       "      <td>rhel</td>\n",
       "      <td>rhel</td>\n",
       "    </tr>\n",
       "    <tr>\n",
       "      <th>5</th>\n",
       "      <td>0.724488</td>\n",
       "      <td>0.724488</td>\n",
       "      <td>devstudio</td>\n",
       "      <td>devstudio</td>\n",
       "    </tr>\n",
       "    <tr>\n",
       "      <th>6</th>\n",
       "      <td>0.909547</td>\n",
       "      <td>0.909547</td>\n",
       "      <td>eap</td>\n",
       "      <td>eap</td>\n",
       "    </tr>\n",
       "    <tr>\n",
       "      <th>7</th>\n",
       "      <td>0.317338</td>\n",
       "      <td>0.177272</td>\n",
       "      <td>eap</td>\n",
       "      <td>rhel</td>\n",
       "    </tr>\n",
       "    <tr>\n",
       "      <th>8</th>\n",
       "      <td>0.976692</td>\n",
       "      <td>0.976692</td>\n",
       "      <td>eap</td>\n",
       "      <td>eap</td>\n",
       "    </tr>\n",
       "    <tr>\n",
       "      <th>9</th>\n",
       "      <td>0.996760</td>\n",
       "      <td>0.996760</td>\n",
       "      <td>eap</td>\n",
       "      <td>eap</td>\n",
       "    </tr>\n",
       "    <tr>\n",
       "      <th>10</th>\n",
       "      <td>0.936943</td>\n",
       "      <td>0.936943</td>\n",
       "      <td>bpmsuite</td>\n",
       "      <td>bpmsuite</td>\n",
       "    </tr>\n",
       "    <tr>\n",
       "      <th>11</th>\n",
       "      <td>0.798094</td>\n",
       "      <td>0.798094</td>\n",
       "      <td>fuse</td>\n",
       "      <td>fuse</td>\n",
       "    </tr>\n",
       "    <tr>\n",
       "      <th>12</th>\n",
       "      <td>0.940432</td>\n",
       "      <td>0.940432</td>\n",
       "      <td>eap</td>\n",
       "      <td>eap</td>\n",
       "    </tr>\n",
       "    <tr>\n",
       "      <th>13</th>\n",
       "      <td>0.939450</td>\n",
       "      <td>0.939450</td>\n",
       "      <td>eap</td>\n",
       "      <td>eap</td>\n",
       "    </tr>\n",
       "    <tr>\n",
       "      <th>14</th>\n",
       "      <td>0.931653</td>\n",
       "      <td>0.931653</td>\n",
       "      <td>rhel</td>\n",
       "      <td>rhel</td>\n",
       "    </tr>\n",
       "    <tr>\n",
       "      <th>15</th>\n",
       "      <td>0.729834</td>\n",
       "      <td>0.729834</td>\n",
       "      <td>eap</td>\n",
       "      <td>eap</td>\n",
       "    </tr>\n",
       "    <tr>\n",
       "      <th>16</th>\n",
       "      <td>0.851261</td>\n",
       "      <td>0.851261</td>\n",
       "      <td>rhel</td>\n",
       "      <td>rhel</td>\n",
       "    </tr>\n",
       "    <tr>\n",
       "      <th>17</th>\n",
       "      <td>0.952209</td>\n",
       "      <td>0.952209</td>\n",
       "      <td>eap</td>\n",
       "      <td>eap</td>\n",
       "    </tr>\n",
       "    <tr>\n",
       "      <th>18</th>\n",
       "      <td>0.857463</td>\n",
       "      <td>0.857463</td>\n",
       "      <td>eap</td>\n",
       "      <td>eap</td>\n",
       "    </tr>\n",
       "    <tr>\n",
       "      <th>19</th>\n",
       "      <td>0.786049</td>\n",
       "      <td>0.169893</td>\n",
       "      <td>fuse</td>\n",
       "      <td>eap</td>\n",
       "    </tr>\n",
       "    <tr>\n",
       "      <th>20</th>\n",
       "      <td>0.976096</td>\n",
       "      <td>0.976096</td>\n",
       "      <td>eap</td>\n",
       "      <td>eap</td>\n",
       "    </tr>\n",
       "    <tr>\n",
       "      <th>21</th>\n",
       "      <td>0.946684</td>\n",
       "      <td>0.946684</td>\n",
       "      <td>eap</td>\n",
       "      <td>eap</td>\n",
       "    </tr>\n",
       "    <tr>\n",
       "      <th>22</th>\n",
       "      <td>0.995070</td>\n",
       "      <td>0.995070</td>\n",
       "      <td>eap</td>\n",
       "      <td>eap</td>\n",
       "    </tr>\n",
       "    <tr>\n",
       "      <th>23</th>\n",
       "      <td>0.959002</td>\n",
       "      <td>0.959002</td>\n",
       "      <td>eap</td>\n",
       "      <td>eap</td>\n",
       "    </tr>\n",
       "    <tr>\n",
       "      <th>24</th>\n",
       "      <td>0.713585</td>\n",
       "      <td>0.090098</td>\n",
       "      <td>eap</td>\n",
       "      <td>datagrid</td>\n",
       "    </tr>\n",
       "  </tbody>\n",
       "</table>\n",
       "</div>"
      ],
      "text/plain": [
       "    actual_prob  expected_prob actual_class expected_class\n",
       "0      0.816850       0.009927          eap           brms\n",
       "1      0.978756       0.978756          eap            eap\n",
       "2      0.894475       0.894475    openshift      openshift\n",
       "3      0.880951       0.018636         fuse            eap\n",
       "4      0.827671       0.827671         rhel           rhel\n",
       "5      0.724488       0.724488    devstudio      devstudio\n",
       "6      0.909547       0.909547          eap            eap\n",
       "7      0.317338       0.177272          eap           rhel\n",
       "8      0.976692       0.976692          eap            eap\n",
       "9      0.996760       0.996760          eap            eap\n",
       "10     0.936943       0.936943     bpmsuite       bpmsuite\n",
       "11     0.798094       0.798094         fuse           fuse\n",
       "12     0.940432       0.940432          eap            eap\n",
       "13     0.939450       0.939450          eap            eap\n",
       "14     0.931653       0.931653         rhel           rhel\n",
       "15     0.729834       0.729834          eap            eap\n",
       "16     0.851261       0.851261         rhel           rhel\n",
       "17     0.952209       0.952209          eap            eap\n",
       "18     0.857463       0.857463          eap            eap\n",
       "19     0.786049       0.169893         fuse            eap\n",
       "20     0.976096       0.976096          eap            eap\n",
       "21     0.946684       0.946684          eap            eap\n",
       "22     0.995070       0.995070          eap            eap\n",
       "23     0.959002       0.959002          eap            eap\n",
       "24     0.713585       0.090098          eap       datagrid"
      ]
     },
     "execution_count": 11,
     "metadata": {},
     "output_type": "execute_result"
    }
   ],
   "source": [
    "# computed actual_prob probabilities might be used as ranking system of the relevance of documents towards categories\n",
    "correct_logits.head(25)"
   ]
  },
  {
   "cell_type": "code",
   "execution_count": 12,
   "metadata": {
    "collapsed": false,
    "scrolled": false
   },
   "outputs": [
    {
     "data": {
      "text/plain": [
       "array(['brms', 'eap', 'openshift', 'rhel', 'devstudio', 'fuse'], dtype=object)"
      ]
     },
     "execution_count": 12,
     "metadata": {},
     "output_type": "execute_result"
    }
   ],
   "source": [
    "biggest_cats = labels_size[\"label\"][-6:]\n",
    "biggest_cats_df = correct_logits[correct_logits[\"expected_class\"].isin(biggest_cats)]\n",
    "biggest_cats_df[\"expected_class\"].unique()"
   ]
  },
  {
   "cell_type": "code",
   "execution_count": 13,
   "metadata": {
    "collapsed": false,
    "scrolled": false
   },
   "outputs": [
    {
     "data": {
      "text/plain": [
       "<matplotlib.axes.AxesSubplot at 0x7f5ff3fea110>"
      ]
     },
     "execution_count": 13,
     "metadata": {},
     "output_type": "execute_result"
    },
    {
     "data": {
      "image/png": "[encoded data removed]",
      "text/plain": [
       "<matplotlib.figure.Figure at 0x7f5ff1b10b10>"
      ]
     },
     "metadata": {},
     "output_type": "display_data"
    }
   ],
   "source": [
    "# boxplot visualization of the scores of documents against its own category (biggest 6 classes)\n",
    "# the higher the better\n",
    "# we see that it goes much better for bigger categories\n",
    "\n",
    "# boxplot: 50% of data in box, 90% in dashed intervals\n",
    "%matplotlib inline\n",
    "import matplotlib.pyplot as plt\n",
    "\n",
    "join_label_size = labels_size\n",
    "join_label_size[\"expected_class\"] = join_label_size[\"label\"]\n",
    "\n",
    "biggest_cats_df.boxplot(\"expected_prob\", by=\"expected_class\", figsize=(10,5))"
   ]
  },
  {
   "cell_type": "code",
   "execution_count": 15,
   "metadata": {
    "collapsed": false
   },
   "outputs": [
    {
     "ename": "KeyError",
     "evalue": "'doc_id'",
     "output_type": "error",
     "traceback": [
      "\u001b[0;31m---------------------------------------------------------------------------\u001b[0m",
      "\u001b[0;31mKeyError\u001b[0m                                  Traceback (most recent call last)",
      "\u001b[0;32m<ipython-input-15-6fd0d6f1d751>\u001b[0m in \u001b[0;36m<module>\u001b[0;34m()\u001b[0m\n\u001b[1;32m      1\u001b[0m \u001b[0;31m# incorrect classification characteristics\u001b[0m\u001b[0;34m\u001b[0m\u001b[0;34m\u001b[0m\u001b[0m\n\u001b[0;32m----> 2\u001b[0;31m \u001b[0mwrong_docs_ids\u001b[0m \u001b[0;34m=\u001b[0m \u001b[0mcorrect_logits\u001b[0m\u001b[0;34m[\u001b[0m\u001b[0mcorrect_logits\u001b[0m\u001b[0;34m[\u001b[0m\u001b[0;34m\"expected_class\"\u001b[0m\u001b[0;34m]\u001b[0m \u001b[0;34m!=\u001b[0m \u001b[0mcorrect_logits\u001b[0m\u001b[0;34m[\u001b[0m\u001b[0;34m\"actual_class\"\u001b[0m\u001b[0;34m]\u001b[0m\u001b[0;34m]\u001b[0m\u001b[0;34m[\u001b[0m\u001b[0;34m\"doc_id\"\u001b[0m\u001b[0;34m]\u001b[0m\u001b[0;34m\u001b[0m\u001b[0m\n\u001b[0m\u001b[1;32m      3\u001b[0m \u001b[0;34m\u001b[0m\u001b[0m\n\u001b[1;32m      4\u001b[0m \u001b[0mwrong_docs_wordlist\u001b[0m \u001b[0;34m=\u001b[0m \u001b[0mwrong_docs_ids\u001b[0m\u001b[0;34m.\u001b[0m\u001b[0mapply\u001b[0m\u001b[0;34m(\u001b[0m\u001b[0;32mlambda\u001b[0m \u001b[0mdoc_id\u001b[0m\u001b[0;34m:\u001b[0m \u001b[0md2v_wrapper\u001b[0m\u001b[0;34m.\u001b[0m\u001b[0mget_doc_content\u001b[0m\u001b[0;34m(\u001b[0m\u001b[0mint\u001b[0m\u001b[0;34m(\u001b[0m\u001b[0mdoc_id\u001b[0m\u001b[0;34m)\u001b[0m\u001b[0;34m,\u001b[0m \u001b[0mword_split\u001b[0m\u001b[0;34m=\u001b[0m\u001b[0mTrue\u001b[0m\u001b[0;34m)\u001b[0m\u001b[0;34m)\u001b[0m\u001b[0;34m\u001b[0m\u001b[0m\n\u001b[1;32m      5\u001b[0m \u001b[0mwrong_docs_len\u001b[0m \u001b[0;34m=\u001b[0m \u001b[0mwrong_docs_wordlist\u001b[0m\u001b[0;34m.\u001b[0m\u001b[0mapply\u001b[0m\u001b[0;34m(\u001b[0m\u001b[0;32mlambda\u001b[0m \u001b[0mdoc\u001b[0m\u001b[0;34m:\u001b[0m \u001b[0mlen\u001b[0m\u001b[0;34m(\u001b[0m\u001b[0mdoc\u001b[0m\u001b[0;34m)\u001b[0m\u001b[0;34m)\u001b[0m\u001b[0;34m\u001b[0m\u001b[0m\n",
      "\u001b[0;32m/usr/lib64/python2.7/site-packages/pandas/core/frame.pyc\u001b[0m in \u001b[0;36m__getitem__\u001b[0;34m(self, key)\u001b[0m\n\u001b[1;32m   2055\u001b[0m             \u001b[0;32mreturn\u001b[0m \u001b[0mself\u001b[0m\u001b[0;34m.\u001b[0m\u001b[0m_getitem_multilevel\u001b[0m\u001b[0;34m(\u001b[0m\u001b[0mkey\u001b[0m\u001b[0;34m)\u001b[0m\u001b[0;34m\u001b[0m\u001b[0m\n\u001b[1;32m   2056\u001b[0m         \u001b[0;32melse\u001b[0m\u001b[0;34m:\u001b[0m\u001b[0;34m\u001b[0m\u001b[0m\n\u001b[0;32m-> 2057\u001b[0;31m             \u001b[0;32mreturn\u001b[0m \u001b[0mself\u001b[0m\u001b[0;34m.\u001b[0m\u001b[0m_getitem_column\u001b[0m\u001b[0;34m(\u001b[0m\u001b[0mkey\u001b[0m\u001b[0;34m)\u001b[0m\u001b[0;34m\u001b[0m\u001b[0m\n\u001b[0m\u001b[1;32m   2058\u001b[0m \u001b[0;34m\u001b[0m\u001b[0m\n\u001b[1;32m   2059\u001b[0m     \u001b[0;32mdef\u001b[0m \u001b[0m_getitem_column\u001b[0m\u001b[0;34m(\u001b[0m\u001b[0mself\u001b[0m\u001b[0;34m,\u001b[0m \u001b[0mkey\u001b[0m\u001b[0;34m)\u001b[0m\u001b[0;34m:\u001b[0m\u001b[0;34m\u001b[0m\u001b[0m\n",
      "\u001b[0;32m/usr/lib64/python2.7/site-packages/pandas/core/frame.pyc\u001b[0m in \u001b[0;36m_getitem_column\u001b[0;34m(self, key)\u001b[0m\n\u001b[1;32m   2062\u001b[0m         \u001b[0;31m# get column\u001b[0m\u001b[0;34m\u001b[0m\u001b[0;34m\u001b[0m\u001b[0m\n\u001b[1;32m   2063\u001b[0m         \u001b[0;32mif\u001b[0m \u001b[0mself\u001b[0m\u001b[0;34m.\u001b[0m\u001b[0mcolumns\u001b[0m\u001b[0;34m.\u001b[0m\u001b[0mis_unique\u001b[0m\u001b[0;34m:\u001b[0m\u001b[0;34m\u001b[0m\u001b[0m\n\u001b[0;32m-> 2064\u001b[0;31m             \u001b[0;32mreturn\u001b[0m \u001b[0mself\u001b[0m\u001b[0;34m.\u001b[0m\u001b[0m_get_item_cache\u001b[0m\u001b[0;34m(\u001b[0m\u001b[0mkey\u001b[0m\u001b[0;34m)\u001b[0m\u001b[0;34m\u001b[0m\u001b[0m\n\u001b[0m\u001b[1;32m   2065\u001b[0m \u001b[0;34m\u001b[0m\u001b[0m\n\u001b[1;32m   2066\u001b[0m         \u001b[0;31m# duplicate columns & possible reduce dimensionality\u001b[0m\u001b[0;34m\u001b[0m\u001b[0;34m\u001b[0m\u001b[0m\n",
      "\u001b[0;32m/usr/lib64/python2.7/site-packages/pandas/core/generic.pyc\u001b[0m in \u001b[0;36m_get_item_cache\u001b[0;34m(self, item)\u001b[0m\n\u001b[1;32m   1384\u001b[0m         \u001b[0mres\u001b[0m \u001b[0;34m=\u001b[0m \u001b[0mcache\u001b[0m\u001b[0;34m.\u001b[0m\u001b[0mget\u001b[0m\u001b[0;34m(\u001b[0m\u001b[0mitem\u001b[0m\u001b[0;34m)\u001b[0m\u001b[0;34m\u001b[0m\u001b[0m\n\u001b[1;32m   1385\u001b[0m         \u001b[0;32mif\u001b[0m \u001b[0mres\u001b[0m \u001b[0;32mis\u001b[0m \u001b[0mNone\u001b[0m\u001b[0;34m:\u001b[0m\u001b[0;34m\u001b[0m\u001b[0m\n\u001b[0;32m-> 1386\u001b[0;31m             \u001b[0mvalues\u001b[0m \u001b[0;34m=\u001b[0m \u001b[0mself\u001b[0m\u001b[0;34m.\u001b[0m\u001b[0m_data\u001b[0m\u001b[0;34m.\u001b[0m\u001b[0mget\u001b[0m\u001b[0;34m(\u001b[0m\u001b[0mitem\u001b[0m\u001b[0;34m)\u001b[0m\u001b[0;34m\u001b[0m\u001b[0m\n\u001b[0m\u001b[1;32m   1387\u001b[0m             \u001b[0mres\u001b[0m \u001b[0;34m=\u001b[0m \u001b[0mself\u001b[0m\u001b[0;34m.\u001b[0m\u001b[0m_box_item_values\u001b[0m\u001b[0;34m(\u001b[0m\u001b[0mitem\u001b[0m\u001b[0;34m,\u001b[0m \u001b[0mvalues\u001b[0m\u001b[0;34m)\u001b[0m\u001b[0;34m\u001b[0m\u001b[0m\n\u001b[1;32m   1388\u001b[0m             \u001b[0mcache\u001b[0m\u001b[0;34m[\u001b[0m\u001b[0mitem\u001b[0m\u001b[0;34m]\u001b[0m \u001b[0;34m=\u001b[0m \u001b[0mres\u001b[0m\u001b[0;34m\u001b[0m\u001b[0m\n",
      "\u001b[0;32m/usr/lib64/python2.7/site-packages/pandas/core/internals.pyc\u001b[0m in \u001b[0;36mget\u001b[0;34m(self, item, fastpath)\u001b[0m\n\u001b[1;32m   3518\u001b[0m \u001b[0;34m\u001b[0m\u001b[0m\n\u001b[1;32m   3519\u001b[0m             \u001b[0;32mif\u001b[0m \u001b[0;32mnot\u001b[0m \u001b[0misnull\u001b[0m\u001b[0;34m(\u001b[0m\u001b[0mitem\u001b[0m\u001b[0;34m)\u001b[0m\u001b[0;34m:\u001b[0m\u001b[0;34m\u001b[0m\u001b[0m\n\u001b[0;32m-> 3520\u001b[0;31m                 \u001b[0mloc\u001b[0m \u001b[0;34m=\u001b[0m \u001b[0mself\u001b[0m\u001b[0;34m.\u001b[0m\u001b[0mitems\u001b[0m\u001b[0;34m.\u001b[0m\u001b[0mget_loc\u001b[0m\u001b[0;34m(\u001b[0m\u001b[0mitem\u001b[0m\u001b[0;34m)\u001b[0m\u001b[0;34m\u001b[0m\u001b[0m\n\u001b[0m\u001b[1;32m   3521\u001b[0m             \u001b[0;32melse\u001b[0m\u001b[0;34m:\u001b[0m\u001b[0;34m\u001b[0m\u001b[0m\n\u001b[1;32m   3522\u001b[0m                 \u001b[0mindexer\u001b[0m \u001b[0;34m=\u001b[0m \u001b[0mnp\u001b[0m\u001b[0;34m.\u001b[0m\u001b[0marange\u001b[0m\u001b[0;34m(\u001b[0m\u001b[0mlen\u001b[0m\u001b[0;34m(\u001b[0m\u001b[0mself\u001b[0m\u001b[0;34m.\u001b[0m\u001b[0mitems\u001b[0m\u001b[0;34m)\u001b[0m\u001b[0;34m)\u001b[0m\u001b[0;34m[\u001b[0m\u001b[0misnull\u001b[0m\u001b[0;34m(\u001b[0m\u001b[0mself\u001b[0m\u001b[0;34m.\u001b[0m\u001b[0mitems\u001b[0m\u001b[0;34m)\u001b[0m\u001b[0;34m]\u001b[0m\u001b[0;34m\u001b[0m\u001b[0m\n",
      "\u001b[0;32m/usr/lib64/python2.7/site-packages/pandas/indexes/base.pyc\u001b[0m in \u001b[0;36mget_loc\u001b[0;34m(self, key, method, tolerance)\u001b[0m\n\u001b[1;32m   2104\u001b[0m                 \u001b[0;32mreturn\u001b[0m \u001b[0mself\u001b[0m\u001b[0;34m.\u001b[0m\u001b[0m_engine\u001b[0m\u001b[0;34m.\u001b[0m\u001b[0mget_loc\u001b[0m\u001b[0;34m(\u001b[0m\u001b[0mkey\u001b[0m\u001b[0;34m)\u001b[0m\u001b[0;34m\u001b[0m\u001b[0m\n\u001b[1;32m   2105\u001b[0m             \u001b[0;32mexcept\u001b[0m \u001b[0mKeyError\u001b[0m\u001b[0;34m:\u001b[0m\u001b[0;34m\u001b[0m\u001b[0m\n\u001b[0;32m-> 2106\u001b[0;31m                 \u001b[0;32mreturn\u001b[0m \u001b[0mself\u001b[0m\u001b[0;34m.\u001b[0m\u001b[0m_engine\u001b[0m\u001b[0;34m.\u001b[0m\u001b[0mget_loc\u001b[0m\u001b[0;34m(\u001b[0m\u001b[0mself\u001b[0m\u001b[0;34m.\u001b[0m\u001b[0m_maybe_cast_indexer\u001b[0m\u001b[0;34m(\u001b[0m\u001b[0mkey\u001b[0m\u001b[0;34m)\u001b[0m\u001b[0;34m)\u001b[0m\u001b[0;34m\u001b[0m\u001b[0m\n\u001b[0m\u001b[1;32m   2107\u001b[0m \u001b[0;34m\u001b[0m\u001b[0m\n\u001b[1;32m   2108\u001b[0m         \u001b[0mindexer\u001b[0m \u001b[0;34m=\u001b[0m \u001b[0mself\u001b[0m\u001b[0;34m.\u001b[0m\u001b[0mget_indexer\u001b[0m\u001b[0;34m(\u001b[0m\u001b[0;34m[\u001b[0m\u001b[0mkey\u001b[0m\u001b[0;34m]\u001b[0m\u001b[0;34m,\u001b[0m \u001b[0mmethod\u001b[0m\u001b[0;34m=\u001b[0m\u001b[0mmethod\u001b[0m\u001b[0;34m,\u001b[0m \u001b[0mtolerance\u001b[0m\u001b[0;34m=\u001b[0m\u001b[0mtolerance\u001b[0m\u001b[0;34m)\u001b[0m\u001b[0;34m\u001b[0m\u001b[0m\n",
      "\u001b[0;32mpandas/index.pyx\u001b[0m in \u001b[0;36mpandas.index.IndexEngine.get_loc (pandas/index.c:4160)\u001b[0;34m()\u001b[0m\n",
      "\u001b[0;32mpandas/index.pyx\u001b[0m in \u001b[0;36mpandas.index.IndexEngine.get_loc (pandas/index.c:4024)\u001b[0;34m()\u001b[0m\n",
      "\u001b[0;32mpandas/src/hashtable_class_helper.pxi\u001b[0m in \u001b[0;36mpandas.hashtable.PyObjectHashTable.get_item (pandas/hashtable.c:13161)\u001b[0;34m()\u001b[0m\n",
      "\u001b[0;32mpandas/src/hashtable_class_helper.pxi\u001b[0m in \u001b[0;36mpandas.hashtable.PyObjectHashTable.get_item (pandas/hashtable.c:13115)\u001b[0;34m()\u001b[0m\n",
      "\u001b[0;31mKeyError\u001b[0m: 'doc_id'"
     ]
    }
   ],
   "source": [
    "# TODO: classification needs to be done again\n",
    "# incorrect classification characteristics\n",
    "wrong_docs_ids = correct_logits[correct_logits[\"expected_class\"] != correct_logits[\"actual_class\"]][\"doc_id\"]\n",
    "\n",
    "wrong_docs_wordlist = wrong_docs_ids.apply(lambda doc_id: d2v_wrapper.get_doc_content(int(doc_id), word_split=True))\n",
    "wrong_docs_len = wrong_docs_wordlist.apply(lambda doc: len(doc))\n",
    "wrong_docs_len.describe()"
   ]
  },
  {
   "cell_type": "code",
   "execution_count": 20,
   "metadata": {
    "collapsed": false
   },
   "outputs": [
    {
     "data": {
      "text/plain": [
       "count    36657.000000\n",
       "mean       135.858390\n",
       "std        487.444108\n",
       "min         10.000000\n",
       "25%         26.000000\n",
       "50%         41.000000\n",
       "75%        105.000000\n",
       "max      56006.000000\n",
       "dtype: float64"
      ]
     },
     "execution_count": 20,
     "metadata": {},
     "output_type": "execute_result"
    }
   ],
   "source": [
    "# correct classification characteristics\n",
    "all_indices = pd.Series(np.arange(len(doc_vectors)))\n",
    "correct_docs =  all_indices[~all_indices.isin(wrong_docs_ids)]\n",
    "correct_docs_wordlist = correct_docs.apply(lambda doc_id: d2v_wrapper.all_content_tagged_docs.iloc[doc_id].words)\n",
    "correct_docs_len = correct_docs_wordlist.apply(lambda doc: len(doc))\n",
    "\n",
    "correct_docs_len.describe()"
   ]
  },
  {
   "cell_type": "code",
   "execution_count": null,
   "metadata": {
    "collapsed": true
   },
   "outputs": [],
   "source": []
  }
 ],
 "metadata": {
  "kernelspec": {
   "display_name": "Python 2",
   "language": "python",
   "name": "python2"
  },
  "language_info": {
   "codemirror_mode": {
    "name": "ipython",
    "version": 2
   },
   "file_extension": ".py",
   "mimetype": "text/x-python",
   "name": "python",
   "nbconvert_exporter": "python",
   "pygments_lexer": "ipython2",
   "version": "2.7.8"
  }
 },
 "nbformat": 4,
 "nbformat_minor": 0
}
