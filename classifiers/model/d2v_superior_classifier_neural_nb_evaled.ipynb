{
 "cells": [
  {
   "cell_type": "code",
   "execution_count": 6,
   "metadata": {
    "collapsed": false,
    "scrolled": false
   },
   "outputs": [],
   "source": [
    "# a demonstration of use of the two-layered neural network classifier \n",
    "# for content classification on doc2vec docs vectors\n",
    "# where softmax probabilities of the classified content against the given categories can be used as relevance rating\n",
    "# towards the classified categories\n",
    "\n",
    "# references:\n",
    "# [1] https://deeplearning4j.org/word2vec.html\n",
    "# [2] https://deeplearning4j.org/welldressed-recommendation-engine\n",
    "# [3] https://www.tensorflow.org/get_started/tflearn\n",
    "# [4] http://scikit-learn.org/stable/modules/cross_validation.html\n",
    "\n",
    "# author Michal Stefanik  mistefan  at  redhat dot com\n",
    "\n",
    "import numpy as np\n",
    "import pandas as pd\n",
    "import random\n",
    "\n",
    "import tensorflow as tf\n",
    "from tensorflow.contrib.learn.python.learn.estimators.estimator import SKCompat\n",
    "\n",
    "from sklearn.metrics import accuracy_score\n",
    "from sklearn.model_selection import StratifiedKFold\n",
    "\n",
    "# D2VWrapper is our implementation providing vectorization of the documents based on doc2vec\n",
    "from doc2vec_wrapper import D2VWrapper\n",
    "\n",
    "import logging\n",
    "logging.basicConfig(format='%(asctime)s : %(levelname)s : %(message)s', level=logging.INFO)"
   ]
  },
  {
   "cell_type": "code",
   "execution_count": 10,
   "metadata": {
    "collapsed": true,
    "scrolled": false
   },
   "outputs": [],
   "source": [
    "# optimization steps are reduced on TEST_MODE\n",
    "TEST_MODE = False\n",
    "\n",
    "# target categories\n",
    "product_list = [\"amq\", \"eap\", \"webserver\", \"datagrid\", \"fuse\", \"brms\", \"bpmsuite\", \"devstudio\", \"cdk\",\n",
    "                \"developertoolset\", \"rhel\", \"softwarecollections\", \"mobileplatform\", \"openshift\"]"
   ]
  },
  {
   "cell_type": "code",
   "execution_count": 11,
   "metadata": {
    "collapsed": false,
    "scrolled": true
   },
   "outputs": [
    {
     "name": "stderr",
     "output_type": "stream",
     "text": [
      "2017-04-10 13:04:54,668 : INFO : Loaded 51731 docs from 14 categories\n",
      "2017-04-10 13:04:54,669 : INFO : Filtering docs shorter than 10 tokens from vocab sample\n",
      "2017-04-10 13:04:54,692 : INFO : 43395 docs included in vocab init\n",
      "2017-04-10 13:04:56,998 : INFO : collecting all words and their counts\n",
      "2017-04-10 13:04:56,999 : INFO : PROGRESS: at example #0, processed 0 words (0/s), 0 word types, 0 tags\n",
      "2017-04-10 13:04:57,204 : INFO : PROGRESS: at example #10000, processed 1377052 words (6751383/s), 63935 word types, 10000 tags\n",
      "2017-04-10 13:04:57,414 : INFO : PROGRESS: at example #20000, processed 2878184 words (7154069/s), 116817 word types, 20000 tags\n",
      "2017-04-10 13:04:57,612 : INFO : PROGRESS: at example #30000, processed 4287376 words (7130750/s), 160971 word types, 30000 tags\n",
      "2017-04-10 13:04:57,765 : INFO : PROGRESS: at example #40000, processed 5273408 words (6502026/s), 191767 word types, 40000 tags\n",
      "2017-04-10 13:04:57,833 : INFO : collected 207708 word types and 43395 unique tags from a corpus of 43395 examples and 5646156 words\n",
      "2017-04-10 13:04:58,278 : INFO : min_count=5 retains 33845 unique words (drops 173863)\n",
      "2017-04-10 13:04:58,279 : INFO : min_count leaves 5386454 word corpus (95% of original 5646156)\n",
      "2017-04-10 13:04:58,345 : INFO : deleting the raw counts dictionary of 207708 items\n",
      "2017-04-10 13:04:58,352 : INFO : sample=0 downsamples 0 most-common words\n",
      "2017-04-10 13:04:58,353 : INFO : downsampling leaves estimated 5386454 word corpus (100.0% of prior 5386454)\n",
      "2017-04-10 13:04:58,354 : INFO : estimated required memory for 33845 words and 500 dimensions: 239092500 bytes\n",
      "2017-04-10 13:04:58,456 : INFO : resetting layer weights\n",
      "2017-04-10 13:04:59,538 : INFO : Training D2V model Doc2Vec(dbow,d500,n12,mc5,t8)\n",
      "2017-04-10 13:04:59,539 : INFO : Epoch 0 convergence descent alpha: 0.1\n",
      "2017-04-10 13:04:59,540 : INFO : training model with 8 workers on 33845 vocabulary and 500 features, using sg=1 hs=0 sample=0 negative=12\n",
      "2017-04-10 13:04:59,540 : INFO : expecting 43395 sentences, matching count from corpus used for vocabulary survey\n",
      "2017-04-10 13:05:00,551 : INFO : PROGRESS: at 1.12% examples, 328045 words/s, in_qsize 16, out_qsize 0\n",
      "2017-04-10 13:05:01,556 : INFO : PROGRESS: at 2.26% examples, 356983 words/s, in_qsize 15, out_qsize 0\n",
      "2017-04-10 13:05:02,602 : INFO : PROGRESS: at 3.56% examples, 361008 words/s, in_qsize 16, out_qsize 0\n",
      "2017-04-10 13:05:03,612 : INFO : PROGRESS: at 5.29% examples, 370534 words/s, in_qsize 16, out_qsize 0\n",
      "2017-04-10 13:05:04,622 : INFO : PROGRESS: at 6.61% examples, 379201 words/s, in_qsize 16, out_qsize 0\n",
      "2017-04-10 13:05:05,644 : INFO : PROGRESS: at 7.82% examples, 382215 words/s, in_qsize 15, out_qsize 0\n",
      "2017-04-10 13:05:06,694 : INFO : PROGRESS: at 9.33% examples, 385853 words/s, in_qsize 16, out_qsize 0\n",
      "2017-04-10 13:05:07,697 : INFO : PROGRESS: at 10.63% examples, 390560 words/s, in_qsize 16, out_qsize 0\n",
      "2017-04-10 13:05:08,718 : INFO : PROGRESS: at 11.99% examples, 394342 words/s, in_qsize 16, out_qsize 0\n",
      "2017-04-10 13:05:09,746 : INFO : PROGRESS: at 13.63% examples, 394710 words/s, in_qsize 16, out_qsize 0\n",
      "2017-04-10 13:05:10,767 : INFO : PROGRESS: at 15.34% examples, 394486 words/s, in_qsize 15, out_qsize 0\n",
      "2017-04-10 13:05:11,787 : INFO : PROGRESS: at 18.09% examples, 396444 words/s, in_qsize 15, out_qsize 0\n",
      "2017-04-10 13:05:12,811 : INFO : PROGRESS: at 19.84% examples, 396446 words/s, in_qsize 15, out_qsize 0\n",
      "2017-04-10 13:05:13,816 : INFO : PROGRESS: at 21.33% examples, 396953 words/s, in_qsize 16, out_qsize 0\n",
      "2017-04-10 13:05:14,826 : INFO : PROGRESS: at 22.33% examples, 395489 words/s, in_qsize 16, out_qsize 0\n",
      "2017-04-10 13:05:15,828 : INFO : PROGRESS: at 24.11% examples, 399053 words/s, in_qsize 15, out_qsize 0\n",
      "2017-04-10 13:05:16,845 : INFO : PROGRESS: at 25.72% examples, 401835 words/s, in_qsize 16, out_qsize 0\n",
      "2017-04-10 13:05:17,867 : INFO : PROGRESS: at 27.11% examples, 401817 words/s, in_qsize 16, out_qsize 0\n",
      "2017-04-10 13:05:18,872 : INFO : PROGRESS: at 28.18% examples, 401569 words/s, in_qsize 16, out_qsize 0\n",
      "2017-04-10 13:05:19,873 : INFO : PROGRESS: at 29.57% examples, 399993 words/s, in_qsize 16, out_qsize 0\n",
      "2017-04-10 13:05:20,915 : INFO : PROGRESS: at 30.85% examples, 399872 words/s, in_qsize 15, out_qsize 0\n",
      "2017-04-10 13:05:21,917 : INFO : PROGRESS: at 32.15% examples, 401242 words/s, in_qsize 15, out_qsize 0\n",
      "2017-04-10 13:05:22,939 : INFO : PROGRESS: at 33.80% examples, 399729 words/s, in_qsize 16, out_qsize 0\n",
      "2017-04-10 13:05:23,960 : INFO : PROGRESS: at 35.38% examples, 398695 words/s, in_qsize 16, out_qsize 0\n",
      "2017-04-10 13:05:24,983 : INFO : PROGRESS: at 38.21% examples, 399794 words/s, in_qsize 16, out_qsize 0\n",
      "2017-04-10 13:05:25,992 : INFO : PROGRESS: at 40.01% examples, 401608 words/s, in_qsize 16, out_qsize 0\n",
      "2017-04-10 13:05:26,995 : INFO : PROGRESS: at 41.60% examples, 402416 words/s, in_qsize 16, out_qsize 0\n",
      "2017-04-10 13:05:28,020 : INFO : PROGRESS: at 42.71% examples, 404265 words/s, in_qsize 16, out_qsize 0\n",
      "2017-04-10 13:05:29,037 : INFO : PROGRESS: at 44.98% examples, 405999 words/s, in_qsize 15, out_qsize 0\n",
      "2017-04-10 13:05:30,043 : INFO : PROGRESS: at 46.15% examples, 408025 words/s, in_qsize 16, out_qsize 0\n",
      "2017-04-10 13:05:31,052 : INFO : PROGRESS: at 47.73% examples, 409408 words/s, in_qsize 15, out_qsize 0\n",
      "2017-04-10 13:05:32,060 : INFO : PROGRESS: at 49.33% examples, 410737 words/s, in_qsize 16, out_qsize 0\n",
      "2017-04-10 13:05:33,073 : INFO : PROGRESS: at 50.82% examples, 412601 words/s, in_qsize 16, out_qsize 0\n",
      "2017-04-10 13:05:34,083 : INFO : PROGRESS: at 52.19% examples, 414084 words/s, in_qsize 16, out_qsize 0\n",
      "2017-04-10 13:05:35,091 : INFO : PROGRESS: at 54.37% examples, 415244 words/s, in_qsize 16, out_qsize 0\n",
      "2017-04-10 13:05:36,127 : INFO : PROGRESS: at 56.79% examples, 416156 words/s, in_qsize 16, out_qsize 0\n",
      "2017-04-10 13:05:37,141 : INFO : PROGRESS: at 59.11% examples, 417108 words/s, in_qsize 16, out_qsize 0\n",
      "2017-04-10 13:05:38,149 : INFO : PROGRESS: at 60.89% examples, 418092 words/s, in_qsize 16, out_qsize 0\n",
      "2017-04-10 13:05:39,151 : INFO : PROGRESS: at 62.23% examples, 418969 words/s, in_qsize 15, out_qsize 0\n",
      "2017-04-10 13:05:40,151 : INFO : PROGRESS: at 63.78% examples, 419528 words/s, in_qsize 16, out_qsize 0\n",
      "2017-04-10 13:05:41,162 : INFO : PROGRESS: at 65.54% examples, 420307 words/s, in_qsize 15, out_qsize 0\n",
      "2017-04-10 13:05:42,183 : INFO : PROGRESS: at 67.16% examples, 421380 words/s, in_qsize 16, out_qsize 0\n",
      "2017-04-10 13:05:43,185 : INFO : PROGRESS: at 68.42% examples, 422327 words/s, in_qsize 16, out_qsize 1\n",
      "2017-04-10 13:05:44,188 : INFO : PROGRESS: at 70.12% examples, 423636 words/s, in_qsize 16, out_qsize 0\n",
      "2017-04-10 13:05:45,193 : INFO : PROGRESS: at 71.74% examples, 425197 words/s, in_qsize 16, out_qsize 0\n",
      "2017-04-10 13:05:46,198 : INFO : PROGRESS: at 73.40% examples, 425981 words/s, in_qsize 16, out_qsize 0\n",
      "2017-04-10 13:05:47,199 : INFO : PROGRESS: at 75.41% examples, 426781 words/s, in_qsize 16, out_qsize 0\n",
      "2017-04-10 13:05:48,227 : INFO : PROGRESS: at 78.33% examples, 427518 words/s, in_qsize 15, out_qsize 0\n",
      "2017-04-10 13:05:49,259 : INFO : PROGRESS: at 80.17% examples, 427748 words/s, in_qsize 16, out_qsize 0\n",
      "2017-04-10 13:05:50,279 : INFO : PROGRESS: at 81.81% examples, 428211 words/s, in_qsize 16, out_qsize 0\n",
      "2017-04-10 13:05:51,287 : INFO : PROGRESS: at 82.79% examples, 428349 words/s, in_qsize 15, out_qsize 0\n",
      "2017-04-10 13:05:52,296 : INFO : PROGRESS: at 85.13% examples, 429060 words/s, in_qsize 16, out_qsize 0\n",
      "2017-04-10 13:05:53,298 : INFO : PROGRESS: at 86.32% examples, 429153 words/s, in_qsize 16, out_qsize 0\n",
      "2017-04-10 13:05:54,316 : INFO : PROGRESS: at 87.60% examples, 428110 words/s, in_qsize 15, out_qsize 0\n",
      "2017-04-10 13:05:55,323 : INFO : PROGRESS: at 88.72% examples, 427225 words/s, in_qsize 15, out_qsize 0\n",
      "2017-04-10 13:05:56,367 : INFO : PROGRESS: at 90.23% examples, 426571 words/s, in_qsize 16, out_qsize 0\n",
      "2017-04-10 13:05:57,371 : INFO : PROGRESS: at 91.33% examples, 425002 words/s, in_qsize 15, out_qsize 0\n",
      "2017-04-10 13:05:58,448 : INFO : PROGRESS: at 92.15% examples, 422232 words/s, in_qsize 15, out_qsize 0\n",
      "2017-04-10 13:05:59,476 : INFO : PROGRESS: at 93.37% examples, 419836 words/s, in_qsize 15, out_qsize 0\n",
      "2017-04-10 13:06:00,514 : INFO : PROGRESS: at 94.49% examples, 416900 words/s, in_qsize 15, out_qsize 0\n",
      "2017-04-10 13:06:01,547 : INFO : PROGRESS: at 95.48% examples, 413756 words/s, in_qsize 16, out_qsize 0\n",
      "2017-04-10 13:06:02,551 : INFO : PROGRESS: at 97.12% examples, 411029 words/s, in_qsize 15, out_qsize 0\n",
      "2017-04-10 13:06:03,563 : INFO : PROGRESS: at 98.68% examples, 409160 words/s, in_qsize 16, out_qsize 0\n",
      "2017-04-10 13:06:04,285 : INFO : worker thread finished; awaiting finish of 7 more threads\n",
      "2017-04-10 13:06:04,288 : INFO : worker thread finished; awaiting finish of 6 more threads\n",
      "2017-04-10 13:06:04,368 : INFO : worker thread finished; awaiting finish of 5 more threads\n",
      "2017-04-10 13:06:04,370 : INFO : worker thread finished; awaiting finish of 4 more threads\n",
      "2017-04-10 13:06:04,387 : INFO : worker thread finished; awaiting finish of 3 more threads\n",
      "2017-04-10 13:06:04,394 : INFO : worker thread finished; awaiting finish of 2 more threads\n",
      "2017-04-10 13:06:04,410 : INFO : worker thread finished; awaiting finish of 1 more threads\n",
      "2017-04-10 13:06:04,411 : INFO : worker thread finished; awaiting finish of 0 more threads\n",
      "2017-04-10 13:06:04,412 : INFO : training on 28230780 raw words (26488860 effective words) took 64.9s, 408350 effective words/s\n",
      "2017-04-10 13:06:04,413 : INFO : Training D2V model Doc2Vec(dbow,d500,n12,mc5,t8)\n",
      "2017-04-10 13:06:04,413 : INFO : Epoch 1 convergence descent alpha: 0.1\n",
      "2017-04-10 13:06:15,225 : INFO : training model with 8 workers on 33845 vocabulary and 500 features, using sg=1 hs=0 sample=0 negative=12\n",
      "2017-04-10 13:06:15,226 : INFO : expecting 43395 sentences, matching count from corpus used for vocabulary survey\n",
      "2017-04-10 13:06:16,256 : INFO : PROGRESS: at 0.87% examples, 229234 words/s, in_qsize 15, out_qsize 0\n",
      "2017-04-10 13:06:17,277 : INFO : PROGRESS: at 2.00% examples, 245516 words/s, in_qsize 15, out_qsize 0\n",
      "2017-04-10 13:06:18,341 : INFO : PROGRESS: at 3.07% examples, 250893 words/s, in_qsize 16, out_qsize 0\n",
      "2017-04-10 13:06:19,368 : INFO : PROGRESS: at 4.59% examples, 286413 words/s, in_qsize 16, out_qsize 0\n",
      "2017-04-10 13:06:20,372 : INFO : PROGRESS: at 6.13% examples, 308479 words/s, in_qsize 15, out_qsize 0\n",
      "2017-04-10 13:06:21,392 : INFO : PROGRESS: at 7.43% examples, 315154 words/s, in_qsize 16, out_qsize 0\n",
      "2017-04-10 13:06:22,401 : INFO : PROGRESS: at 8.59% examples, 316463 words/s, in_qsize 16, out_qsize 0\n",
      "2017-04-10 13:06:23,440 : INFO : PROGRESS: at 9.92% examples, 321120 words/s, in_qsize 15, out_qsize 0\n",
      "2017-04-10 13:06:24,474 : INFO : PROGRESS: at 11.38% examples, 325959 words/s, in_qsize 16, out_qsize 0\n",
      "2017-04-10 13:06:25,503 : INFO : PROGRESS: at 12.65% examples, 327622 words/s, in_qsize 16, out_qsize 0\n",
      "2017-04-10 13:06:26,515 : INFO : PROGRESS: at 13.96% examples, 328245 words/s, in_qsize 15, out_qsize 0\n",
      "2017-04-10 13:06:27,518 : INFO : PROGRESS: at 15.40% examples, 329583 words/s, in_qsize 16, out_qsize 0\n",
      "2017-04-10 13:06:28,552 : INFO : PROGRESS: at 16.71% examples, 330324 words/s, in_qsize 16, out_qsize 0\n",
      "2017-04-10 13:06:29,558 : INFO : PROGRESS: at 17.93% examples, 331772 words/s, in_qsize 16, out_qsize 0\n",
      "2017-04-10 13:06:30,560 : INFO : PROGRESS: at 19.14% examples, 330194 words/s, in_qsize 16, out_qsize 0\n",
      "2017-04-10 13:06:31,560 : INFO : PROGRESS: at 20.48% examples, 332717 words/s, in_qsize 16, out_qsize 0\n",
      "2017-04-10 13:06:32,574 : INFO : PROGRESS: at 22.00% examples, 334495 words/s, in_qsize 16, out_qsize 0\n",
      "2017-04-10 13:06:33,594 : INFO : PROGRESS: at 23.43% examples, 336359 words/s, in_qsize 15, out_qsize 0\n",
      "2017-04-10 13:06:34,598 : INFO : PROGRESS: at 25.15% examples, 342169 words/s, in_qsize 16, out_qsize 0\n",
      "2017-04-10 13:06:35,599 : INFO : PROGRESS: at 26.85% examples, 347121 words/s, in_qsize 16, out_qsize 0\n",
      "2017-04-10 13:06:36,650 : INFO : PROGRESS: at 28.29% examples, 349966 words/s, in_qsize 16, out_qsize 0\n",
      "2017-04-10 13:06:37,676 : INFO : PROGRESS: at 30.05% examples, 355162 words/s, in_qsize 16, out_qsize 0\n",
      "2017-04-10 13:06:38,678 : INFO : PROGRESS: at 31.88% examples, 360136 words/s, in_qsize 15, out_qsize 0\n",
      "2017-04-10 13:06:39,685 : INFO : PROGRESS: at 33.64% examples, 364786 words/s, in_qsize 16, out_qsize 0\n",
      "2017-04-10 13:06:40,689 : INFO : PROGRESS: at 35.53% examples, 368735 words/s, in_qsize 16, out_qsize 0\n",
      "2017-04-10 13:06:41,696 : INFO : PROGRESS: at 37.30% examples, 372584 words/s, in_qsize 16, out_qsize 0\n",
      "2017-04-10 13:06:42,707 : INFO : PROGRESS: at 39.00% examples, 375520 words/s, in_qsize 15, out_qsize 0\n",
      "2017-04-10 13:06:43,763 : INFO : PROGRESS: at 40.51% examples, 376441 words/s, in_qsize 15, out_qsize 0\n",
      "2017-04-10 13:06:44,842 : INFO : PROGRESS: at 42.03% examples, 375162 words/s, in_qsize 15, out_qsize 0\n",
      "2017-04-10 13:06:45,852 : INFO : PROGRESS: at 43.43% examples, 374739 words/s, in_qsize 16, out_qsize 0\n",
      "2017-04-10 13:06:46,882 : INFO : PROGRESS: at 44.74% examples, 373381 words/s, in_qsize 16, out_qsize 0\n",
      "2017-04-10 13:06:47,892 : INFO : PROGRESS: at 46.18% examples, 373280 words/s, in_qsize 16, out_qsize 0\n",
      "2017-04-10 13:06:48,898 : INFO : PROGRESS: at 47.47% examples, 372695 words/s, in_qsize 16, out_qsize 0\n",
      "2017-04-10 13:06:49,958 : INFO : PROGRESS: at 48.83% examples, 372065 words/s, in_qsize 16, out_qsize 0\n",
      "2017-04-10 13:06:51,004 : INFO : PROGRESS: at 50.31% examples, 372765 words/s, in_qsize 16, out_qsize 0\n",
      "2017-04-10 13:06:52,037 : INFO : PROGRESS: at 51.65% examples, 371562 words/s, in_qsize 16, out_qsize 0\n",
      "2017-04-10 13:06:53,054 : INFO : PROGRESS: at 53.07% examples, 371593 words/s, in_qsize 15, out_qsize 0\n",
      "2017-04-10 13:06:54,073 : INFO : PROGRESS: at 54.50% examples, 371363 words/s, in_qsize 16, out_qsize 0\n",
      "2017-04-10 13:06:55,095 : INFO : PROGRESS: at 55.86% examples, 370973 words/s, in_qsize 16, out_qsize 0\n",
      "2017-04-10 13:06:56,175 : INFO : PROGRESS: at 57.02% examples, 368430 words/s, in_qsize 15, out_qsize 0\n",
      "2017-04-10 13:06:57,217 : INFO : PROGRESS: at 58.10% examples, 366478 words/s, in_qsize 16, out_qsize 0\n",
      "2017-04-10 13:06:58,217 : INFO : PROGRESS: at 59.20% examples, 364684 words/s, in_qsize 15, out_qsize 0\n",
      "2017-04-10 13:06:59,236 : INFO : PROGRESS: at 60.10% examples, 362121 words/s, in_qsize 16, out_qsize 0\n",
      "2017-04-10 13:07:00,277 : INFO : PROGRESS: at 61.12% examples, 359556 words/s, in_qsize 16, out_qsize 0\n",
      "2017-04-10 13:07:01,427 : INFO : PROGRESS: at 62.32% examples, 356785 words/s, in_qsize 15, out_qsize 0\n",
      "2017-04-10 13:07:02,435 : INFO : PROGRESS: at 63.33% examples, 354497 words/s, in_qsize 15, out_qsize 0\n",
      "2017-04-10 13:07:03,447 : INFO : PROGRESS: at 64.55% examples, 354028 words/s, in_qsize 15, out_qsize 0\n",
      "2017-04-10 13:07:04,483 : INFO : PROGRESS: at 65.93% examples, 353980 words/s, in_qsize 16, out_qsize 0\n",
      "2017-04-10 13:07:05,554 : INFO : PROGRESS: at 67.34% examples, 353859 words/s, in_qsize 16, out_qsize 0\n",
      "2017-04-10 13:07:06,616 : INFO : PROGRESS: at 68.63% examples, 353685 words/s, in_qsize 15, out_qsize 0\n",
      "2017-04-10 13:07:07,629 : INFO : PROGRESS: at 69.95% examples, 353811 words/s, in_qsize 16, out_qsize 0\n",
      "2017-04-10 13:07:08,633 : INFO : PROGRESS: at 71.26% examples, 353531 words/s, in_qsize 16, out_qsize 0\n",
      "2017-04-10 13:07:09,753 : INFO : PROGRESS: at 72.43% examples, 352140 words/s, in_qsize 15, out_qsize 0\n",
      "2017-04-10 13:07:10,794 : INFO : PROGRESS: at 73.44% examples, 350253 words/s, in_qsize 16, out_qsize 0\n",
      "2017-04-10 13:07:11,822 : INFO : PROGRESS: at 74.46% examples, 348343 words/s, in_qsize 16, out_qsize 0\n",
      "2017-04-10 13:07:12,860 : INFO : PROGRESS: at 75.68% examples, 347391 words/s, in_qsize 16, out_qsize 0\n",
      "2017-04-10 13:07:13,878 : INFO : PROGRESS: at 76.82% examples, 346625 words/s, in_qsize 16, out_qsize 0\n",
      "2017-04-10 13:07:14,896 : INFO : PROGRESS: at 78.15% examples, 346944 words/s, in_qsize 15, out_qsize 0\n",
      "2017-04-10 13:07:15,901 : INFO : PROGRESS: at 79.38% examples, 346483 words/s, in_qsize 16, out_qsize 0\n",
      "2017-04-10 13:07:16,908 : INFO : PROGRESS: at 80.68% examples, 346677 words/s, in_qsize 16, out_qsize 0\n",
      "2017-04-10 13:07:17,915 : INFO : PROGRESS: at 82.21% examples, 346999 words/s, in_qsize 16, out_qsize 0\n",
      "2017-04-10 13:07:18,916 : INFO : PROGRESS: at 83.60% examples, 347155 words/s, in_qsize 15, out_qsize 0\n",
      "2017-04-10 13:07:19,929 : INFO : PROGRESS: at 85.06% examples, 347637 words/s, in_qsize 16, out_qsize 0\n",
      "2017-04-10 13:07:20,934 : INFO : PROGRESS: at 86.50% examples, 347966 words/s, in_qsize 15, out_qsize 0\n",
      "2017-04-10 13:07:21,961 : INFO : PROGRESS: at 87.73% examples, 348033 words/s, in_qsize 15, out_qsize 0\n",
      "2017-04-10 13:07:22,986 : INFO : PROGRESS: at 89.21% examples, 348622 words/s, in_qsize 16, out_qsize 0\n",
      "2017-04-10 13:07:24,021 : INFO : PROGRESS: at 90.68% examples, 349071 words/s, in_qsize 15, out_qsize 0\n",
      "2017-04-10 13:07:25,044 : INFO : PROGRESS: at 92.06% examples, 349423 words/s, in_qsize 15, out_qsize 0\n",
      "2017-04-10 13:07:26,074 : INFO : PROGRESS: at 93.57% examples, 349993 words/s, in_qsize 16, out_qsize 0\n",
      "2017-04-10 13:07:27,096 : INFO : PROGRESS: at 95.06% examples, 350146 words/s, in_qsize 16, out_qsize 0\n",
      "2017-04-10 13:07:28,122 : INFO : PROGRESS: at 96.88% examples, 351805 words/s, in_qsize 16, out_qsize 0\n",
      "2017-04-10 13:07:29,143 : INFO : PROGRESS: at 98.65% examples, 353507 words/s, in_qsize 15, out_qsize 0\n",
      "2017-04-10 13:07:29,783 : INFO : worker thread finished; awaiting finish of 7 more threads\n",
      "2017-04-10 13:07:29,812 : INFO : worker thread finished; awaiting finish of 6 more threads\n",
      "2017-04-10 13:07:29,821 : INFO : worker thread finished; awaiting finish of 5 more threads\n",
      "2017-04-10 13:07:29,830 : INFO : worker thread finished; awaiting finish of 4 more threads\n",
      "2017-04-10 13:07:29,839 : INFO : worker thread finished; awaiting finish of 3 more threads\n",
      "2017-04-10 13:07:29,844 : INFO : worker thread finished; awaiting finish of 2 more threads\n",
      "2017-04-10 13:07:29,845 : INFO : worker thread finished; awaiting finish of 1 more threads\n",
      "2017-04-10 13:07:29,874 : INFO : worker thread finished; awaiting finish of 0 more threads\n",
      "2017-04-10 13:07:29,875 : INFO : training on 28230780 raw words (26488860 effective words) took 74.6s, 354927 effective words/s\n",
      "2017-04-10 13:07:29,876 : INFO : Training D2V model Doc2Vec(dbow,d500,n12,mc5,t8)\n",
      "2017-04-10 13:07:29,876 : INFO : Epoch 2 convergence descent alpha: 0.1\n",
      "2017-04-10 13:07:39,992 : INFO : training model with 8 workers on 33845 vocabulary and 500 features, using sg=1 hs=0 sample=0 negative=12\n",
      "2017-04-10 13:07:39,993 : INFO : expecting 43395 sentences, matching count from corpus used for vocabulary survey\n",
      "2017-04-10 13:07:41,000 : INFO : PROGRESS: at 1.96% examples, 488862 words/s, in_qsize 16, out_qsize 0\n",
      "2017-04-10 13:07:42,001 : INFO : PROGRESS: at 3.76% examples, 495946 words/s, in_qsize 15, out_qsize 0\n",
      "2017-04-10 13:07:43,006 : INFO : PROGRESS: at 5.65% examples, 497700 words/s, in_qsize 16, out_qsize 0\n",
      "2017-04-10 13:07:44,006 : INFO : PROGRESS: at 7.36% examples, 496473 words/s, in_qsize 16, out_qsize 0\n",
      "2017-04-10 13:07:45,021 : INFO : PROGRESS: at 9.23% examples, 497430 words/s, in_qsize 15, out_qsize 0\n",
      "2017-04-10 13:07:46,032 : INFO : PROGRESS: at 11.10% examples, 498727 words/s, in_qsize 15, out_qsize 0\n",
      "2017-04-10 13:07:47,039 : INFO : PROGRESS: at 13.12% examples, 498432 words/s, in_qsize 16, out_qsize 0\n",
      "2017-04-10 13:07:48,069 : INFO : PROGRESS: at 14.97% examples, 496059 words/s, in_qsize 16, out_qsize 0\n",
      "2017-04-10 13:07:49,082 : INFO : PROGRESS: at 16.91% examples, 496160 words/s, in_qsize 15, out_qsize 0\n",
      "2017-04-10 13:07:50,085 : INFO : PROGRESS: at 18.86% examples, 495521 words/s, in_qsize 16, out_qsize 0\n",
      "2017-04-10 13:07:51,100 : INFO : PROGRESS: at 20.40% examples, 486696 words/s, in_qsize 16, out_qsize 0\n",
      "2017-04-10 13:07:52,105 : INFO : PROGRESS: at 22.32% examples, 486522 words/s, in_qsize 15, out_qsize 0\n",
      "2017-04-10 13:07:53,114 : INFO : PROGRESS: at 23.83% examples, 481858 words/s, in_qsize 16, out_qsize 0\n",
      "2017-04-10 13:07:54,118 : INFO : PROGRESS: at 25.72% examples, 482567 words/s, in_qsize 16, out_qsize 0\n",
      "2017-04-10 13:07:55,118 : INFO : PROGRESS: at 27.39% examples, 482597 words/s, in_qsize 15, out_qsize 0\n",
      "2017-04-10 13:07:56,130 : INFO : PROGRESS: at 29.21% examples, 482702 words/s, in_qsize 16, out_qsize 0\n",
      "2017-04-10 13:07:57,140 : INFO : PROGRESS: at 30.79% examples, 479934 words/s, in_qsize 15, out_qsize 0\n",
      "2017-04-10 13:07:58,224 : INFO : PROGRESS: at 32.54% examples, 476514 words/s, in_qsize 16, out_qsize 0\n",
      "2017-04-10 13:07:59,243 : INFO : PROGRESS: at 34.43% examples, 475198 words/s, in_qsize 15, out_qsize 0\n",
      "2017-04-10 13:08:00,279 : INFO : PROGRESS: at 36.07% examples, 471984 words/s, in_qsize 15, out_qsize 0\n",
      "2017-04-10 13:08:01,300 : INFO : PROGRESS: at 37.66% examples, 468839 words/s, in_qsize 16, out_qsize 0\n",
      "2017-04-10 13:08:02,301 : INFO : PROGRESS: at 39.47% examples, 468533 words/s, in_qsize 16, out_qsize 0\n",
      "2017-04-10 13:08:03,319 : INFO : PROGRESS: at 41.35% examples, 468768 words/s, in_qsize 16, out_qsize 0\n",
      "2017-04-10 13:08:04,329 : INFO : PROGRESS: at 43.18% examples, 469514 words/s, in_qsize 16, out_qsize 0\n",
      "2017-04-10 13:08:05,352 : INFO : PROGRESS: at 44.97% examples, 469633 words/s, in_qsize 15, out_qsize 0\n",
      "2017-04-10 13:08:06,371 : INFO : PROGRESS: at 46.60% examples, 468964 words/s, in_qsize 15, out_qsize 0\n",
      "2017-04-10 13:08:07,379 : INFO : PROGRESS: at 48.13% examples, 466863 words/s, in_qsize 15, out_qsize 1\n",
      "2017-04-10 13:08:08,372 : INFO : PROGRESS: at 49.63% examples, 465023 words/s, in_qsize 16, out_qsize 0\n",
      "2017-04-10 13:08:09,403 : INFO : PROGRESS: at 51.44% examples, 465503 words/s, in_qsize 16, out_qsize 0\n",
      "2017-04-10 13:08:10,413 : INFO : PROGRESS: at 53.40% examples, 466135 words/s, in_qsize 15, out_qsize 0\n",
      "2017-04-10 13:08:11,417 : INFO : PROGRESS: at 55.08% examples, 465570 words/s, in_qsize 16, out_qsize 0\n",
      "2017-04-10 13:08:12,423 : INFO : PROGRESS: at 56.42% examples, 461719 words/s, in_qsize 16, out_qsize 0\n",
      "2017-04-10 13:08:13,467 : INFO : PROGRESS: at 58.00% examples, 459153 words/s, in_qsize 16, out_qsize 0\n",
      "2017-04-10 13:08:14,479 : INFO : PROGRESS: at 59.42% examples, 456189 words/s, in_qsize 16, out_qsize 0\n",
      "2017-04-10 13:08:15,525 : INFO : PROGRESS: at 60.96% examples, 454556 words/s, in_qsize 15, out_qsize 0\n",
      "2017-04-10 13:08:16,511 : INFO : PROGRESS: at 62.60% examples, 453518 words/s, in_qsize 15, out_qsize 0\n",
      "2017-04-10 13:08:17,563 : INFO : PROGRESS: at 64.07% examples, 452060 words/s, in_qsize 16, out_qsize 0\n",
      "2017-04-10 13:08:18,591 : INFO : PROGRESS: at 65.65% examples, 450636 words/s, in_qsize 15, out_qsize 0\n",
      "2017-04-10 13:08:19,590 : INFO : PROGRESS: at 67.07% examples, 449584 words/s, in_qsize 15, out_qsize 0\n",
      "2017-04-10 13:08:20,594 : INFO : PROGRESS: at 68.39% examples, 446897 words/s, in_qsize 15, out_qsize 0\n",
      "2017-04-10 13:08:21,623 : INFO : PROGRESS: at 69.79% examples, 445411 words/s, in_qsize 16, out_qsize 0\n",
      "2017-04-10 13:08:22,674 : INFO : PROGRESS: at 71.35% examples, 444443 words/s, in_qsize 15, out_qsize 0\n",
      "2017-04-10 13:08:23,682 : INFO : PROGRESS: at 73.36% examples, 445639 words/s, in_qsize 15, out_qsize 0\n",
      "2017-04-10 13:08:24,695 : INFO : PROGRESS: at 75.11% examples, 446004 words/s, in_qsize 16, out_qsize 0\n",
      "2017-04-10 13:08:25,737 : INFO : PROGRESS: at 77.13% examples, 447175 words/s, in_qsize 15, out_qsize 0\n",
      "2017-04-10 13:08:26,746 : INFO : PROGRESS: at 79.04% examples, 447832 words/s, in_qsize 15, out_qsize 0\n",
      "2017-04-10 13:08:27,762 : INFO : PROGRESS: at 80.96% examples, 448825 words/s, in_qsize 15, out_qsize 0\n",
      "2017-04-10 13:08:28,798 : INFO : PROGRESS: at 82.92% examples, 449549 words/s, in_qsize 15, out_qsize 0\n",
      "2017-04-10 13:08:29,846 : INFO : PROGRESS: at 84.67% examples, 449982 words/s, in_qsize 16, out_qsize 0\n",
      "2017-04-10 13:08:30,851 : INFO : PROGRESS: at 86.46% examples, 450678 words/s, in_qsize 16, out_qsize 0\n",
      "2017-04-10 13:08:31,856 : INFO : PROGRESS: at 88.23% examples, 451107 words/s, in_qsize 16, out_qsize 0\n",
      "2017-04-10 13:08:32,862 : INFO : PROGRESS: at 89.49% examples, 449339 words/s, in_qsize 15, out_qsize 0\n",
      "2017-04-10 13:08:33,871 : INFO : PROGRESS: at 90.55% examples, 446346 words/s, in_qsize 15, out_qsize 0\n",
      "2017-04-10 13:08:34,902 : INFO : PROGRESS: at 91.61% examples, 443100 words/s, in_qsize 16, out_qsize 0\n",
      "2017-04-10 13:08:35,945 : INFO : PROGRESS: at 92.84% examples, 440493 words/s, in_qsize 15, out_qsize 0\n",
      "2017-04-10 13:08:36,953 : INFO : PROGRESS: at 94.03% examples, 437910 words/s, in_qsize 15, out_qsize 0\n",
      "2017-04-10 13:08:37,995 : INFO : PROGRESS: at 95.36% examples, 436353 words/s, in_qsize 16, out_qsize 0\n",
      "2017-04-10 13:08:39,067 : INFO : PROGRESS: at 96.53% examples, 433455 words/s, in_qsize 15, out_qsize 0\n",
      "2017-04-10 13:08:40,070 : INFO : PROGRESS: at 97.42% examples, 429727 words/s, in_qsize 16, out_qsize 0\n",
      "2017-04-10 13:08:41,086 : INFO : PROGRESS: at 98.16% examples, 425731 words/s, in_qsize 16, out_qsize 0\n",
      "2017-04-10 13:08:42,115 : INFO : PROGRESS: at 98.97% examples, 422042 words/s, in_qsize 16, out_qsize 0\n",
      "2017-04-10 13:08:43,097 : INFO : worker thread finished; awaiting finish of 7 more threads\n",
      "2017-04-10 13:08:43,160 : INFO : PROGRESS: at 99.74% examples, 418468 words/s, in_qsize 6, out_qsize 1\n",
      "2017-04-10 13:08:43,168 : INFO : worker thread finished; awaiting finish of 6 more threads\n",
      "2017-04-10 13:08:43,177 : INFO : worker thread finished; awaiting finish of 5 more threads\n",
      "2017-04-10 13:08:43,211 : INFO : worker thread finished; awaiting finish of 4 more threads\n",
      "2017-04-10 13:08:43,217 : INFO : worker thread finished; awaiting finish of 3 more threads\n",
      "2017-04-10 13:08:43,256 : INFO : worker thread finished; awaiting finish of 2 more threads\n",
      "2017-04-10 13:08:43,258 : INFO : worker thread finished; awaiting finish of 1 more threads\n",
      "2017-04-10 13:08:43,271 : INFO : worker thread finished; awaiting finish of 0 more threads\n",
      "2017-04-10 13:08:43,272 : INFO : training on 28230780 raw words (26488860 effective words) took 63.3s, 418614 effective words/s\n",
      "2017-04-10 13:08:43,273 : INFO : Training D2V model Doc2Vec(dbow,d500,n12,mc5,t8)\n",
      "2017-04-10 13:08:43,274 : INFO : Epoch 3 convergence descent alpha: 0.1\n",
      "2017-04-10 13:08:56,028 : INFO : training model with 8 workers on 33845 vocabulary and 500 features, using sg=1 hs=0 sample=0 negative=12\n",
      "2017-04-10 13:08:56,029 : INFO : expecting 43395 sentences, matching count from corpus used for vocabulary survey\n",
      "2017-04-10 13:08:57,047 : INFO : PROGRESS: at 1.35% examples, 341059 words/s, in_qsize 16, out_qsize 0\n",
      "2017-04-10 13:08:58,051 : INFO : PROGRESS: at 2.78% examples, 367224 words/s, in_qsize 15, out_qsize 0\n",
      "2017-04-10 13:08:59,065 : INFO : PROGRESS: at 4.16% examples, 367011 words/s, in_qsize 15, out_qsize 0\n",
      "2017-04-10 13:09:00,090 : INFO : PROGRESS: at 5.75% examples, 375975 words/s, in_qsize 16, out_qsize 0\n",
      "2017-04-10 13:09:01,093 : INFO : PROGRESS: at 7.32% examples, 385492 words/s, in_qsize 15, out_qsize 0\n",
      "2017-04-10 13:09:02,106 : INFO : PROGRESS: at 8.91% examples, 393012 words/s, in_qsize 16, out_qsize 0\n",
      "2017-04-10 13:09:03,110 : INFO : PROGRESS: at 10.35% examples, 390466 words/s, in_qsize 15, out_qsize 0\n",
      "2017-04-10 13:09:04,130 : INFO : PROGRESS: at 11.83% examples, 390396 words/s, in_qsize 16, out_qsize 0\n",
      "2017-04-10 13:09:05,140 : INFO : PROGRESS: at 13.39% examples, 392318 words/s, in_qsize 15, out_qsize 0\n",
      "2017-04-10 13:09:06,181 : INFO : PROGRESS: at 15.44% examples, 402261 words/s, in_qsize 16, out_qsize 0\n",
      "2017-04-10 13:09:07,227 : INFO : PROGRESS: at 17.28% examples, 409100 words/s, in_qsize 15, out_qsize 0\n",
      "2017-04-10 13:09:08,234 : INFO : PROGRESS: at 19.20% examples, 416685 words/s, in_qsize 16, out_qsize 0\n",
      "2017-04-10 13:09:09,238 : INFO : PROGRESS: at 21.08% examples, 422313 words/s, in_qsize 16, out_qsize 0\n",
      "2017-04-10 13:09:10,248 : INFO : PROGRESS: at 22.81% examples, 425427 words/s, in_qsize 16, out_qsize 0\n",
      "2017-04-10 13:09:11,257 : INFO : PROGRESS: at 24.61% examples, 428783 words/s, in_qsize 15, out_qsize 0\n",
      "2017-04-10 13:09:12,258 : INFO : PROGRESS: at 26.22% examples, 429096 words/s, in_qsize 15, out_qsize 0\n",
      "2017-04-10 13:09:13,258 : INFO : PROGRESS: at 27.86% examples, 429068 words/s, in_qsize 15, out_qsize 0\n",
      "2017-04-10 13:09:14,286 : INFO : PROGRESS: at 29.45% examples, 429040 words/s, in_qsize 15, out_qsize 0\n",
      "2017-04-10 13:09:15,298 : INFO : PROGRESS: at 31.06% examples, 428584 words/s, in_qsize 15, out_qsize 0\n",
      "2017-04-10 13:09:16,312 : INFO : PROGRESS: at 32.59% examples, 427158 words/s, in_qsize 16, out_qsize 0\n",
      "2017-04-10 13:09:17,321 : INFO : PROGRESS: at 34.30% examples, 428343 words/s, in_qsize 15, out_qsize 0\n",
      "2017-04-10 13:09:18,357 : INFO : PROGRESS: at 36.24% examples, 429966 words/s, in_qsize 15, out_qsize 0\n",
      "2017-04-10 13:09:19,375 : INFO : PROGRESS: at 38.09% examples, 432184 words/s, in_qsize 15, out_qsize 0\n",
      "2017-04-10 13:09:20,399 : INFO : PROGRESS: at 39.84% examples, 433042 words/s, in_qsize 16, out_qsize 0\n",
      "2017-04-10 13:09:21,405 : INFO : PROGRESS: at 41.40% examples, 431995 words/s, in_qsize 16, out_qsize 0\n",
      "2017-04-10 13:09:22,428 : INFO : PROGRESS: at 42.65% examples, 428060 words/s, in_qsize 15, out_qsize 0\n",
      "2017-04-10 13:09:23,511 : INFO : PROGRESS: at 43.71% examples, 421372 words/s, in_qsize 16, out_qsize 0\n",
      "2017-04-10 13:09:24,528 : INFO : PROGRESS: at 44.58% examples, 415024 words/s, in_qsize 16, out_qsize 0\n",
      "2017-04-10 13:09:25,564 : INFO : PROGRESS: at 45.58% examples, 409192 words/s, in_qsize 15, out_qsize 0\n",
      "2017-04-10 13:09:26,585 : INFO : PROGRESS: at 46.53% examples, 404310 words/s, in_qsize 15, out_qsize 0\n",
      "2017-04-10 13:09:27,642 : INFO : PROGRESS: at 47.88% examples, 402151 words/s, in_qsize 16, out_qsize 0\n",
      "2017-04-10 13:09:28,670 : INFO : PROGRESS: at 49.27% examples, 400598 words/s, in_qsize 16, out_qsize 1\n",
      "2017-04-10 13:09:29,746 : INFO : PROGRESS: at 50.73% examples, 399521 words/s, in_qsize 15, out_qsize 0\n",
      "2017-04-10 13:09:30,766 : INFO : PROGRESS: at 52.12% examples, 398155 words/s, in_qsize 16, out_qsize 0\n",
      "2017-04-10 13:09:31,775 : INFO : PROGRESS: at 53.49% examples, 397174 words/s, in_qsize 16, out_qsize 0\n",
      "2017-04-10 13:09:32,807 : INFO : PROGRESS: at 54.88% examples, 395552 words/s, in_qsize 16, out_qsize 0\n",
      "2017-04-10 13:09:33,834 : INFO : PROGRESS: at 56.12% examples, 393318 words/s, in_qsize 15, out_qsize 0\n",
      "2017-04-10 13:09:34,849 : INFO : PROGRESS: at 57.19% examples, 390274 words/s, in_qsize 16, out_qsize 0\n",
      "2017-04-10 13:09:35,849 : INFO : PROGRESS: at 58.24% examples, 387372 words/s, in_qsize 15, out_qsize 0\n",
      "2017-04-10 13:09:36,945 : INFO : PROGRESS: at 59.18% examples, 383243 words/s, in_qsize 16, out_qsize 0\n",
      "2017-04-10 13:09:37,953 : INFO : PROGRESS: at 60.31% examples, 380805 words/s, in_qsize 16, out_qsize 0\n",
      "2017-04-10 13:09:38,984 : INFO : PROGRESS: at 61.40% examples, 378533 words/s, in_qsize 16, out_qsize 0\n",
      "2017-04-10 13:09:40,033 : INFO : PROGRESS: at 62.73% examples, 377601 words/s, in_qsize 15, out_qsize 0\n",
      "2017-04-10 13:09:41,045 : INFO : PROGRESS: at 64.09% examples, 377204 words/s, in_qsize 16, out_qsize 0\n",
      "2017-04-10 13:09:42,048 : INFO : PROGRESS: at 65.42% examples, 376744 words/s, in_qsize 16, out_qsize 0\n",
      "2017-04-10 13:09:43,093 : INFO : PROGRESS: at 66.67% examples, 375809 words/s, in_qsize 16, out_qsize 0\n",
      "2017-04-10 13:09:44,101 : INFO : PROGRESS: at 67.92% examples, 375066 words/s, in_qsize 16, out_qsize 0\n",
      "2017-04-10 13:09:45,110 : INFO : PROGRESS: at 69.36% examples, 374892 words/s, in_qsize 15, out_qsize 0\n",
      "2017-04-10 13:09:46,133 : INFO : PROGRESS: at 70.68% examples, 374422 words/s, in_qsize 16, out_qsize 0\n",
      "2017-04-10 13:09:47,140 : INFO : PROGRESS: at 72.08% examples, 374065 words/s, in_qsize 16, out_qsize 0\n",
      "2017-04-10 13:09:48,153 : INFO : PROGRESS: at 73.52% examples, 374173 words/s, in_qsize 16, out_qsize 0\n",
      "2017-04-10 13:09:49,172 : INFO : PROGRESS: at 74.92% examples, 373788 words/s, in_qsize 16, out_qsize 0\n",
      "2017-04-10 13:09:50,184 : INFO : PROGRESS: at 76.48% examples, 374083 words/s, in_qsize 16, out_qsize 0\n",
      "2017-04-10 13:09:51,195 : INFO : PROGRESS: at 77.81% examples, 373607 words/s, in_qsize 15, out_qsize 0\n",
      "2017-04-10 13:09:52,227 : INFO : PROGRESS: at 79.16% examples, 373127 words/s, in_qsize 16, out_qsize 0\n",
      "2017-04-10 13:09:53,228 : INFO : PROGRESS: at 80.69% examples, 373427 words/s, in_qsize 16, out_qsize 0\n",
      "2017-04-10 13:09:54,237 : INFO : PROGRESS: at 82.02% examples, 373006 words/s, in_qsize 15, out_qsize 0\n",
      "2017-04-10 13:09:55,312 : INFO : PROGRESS: at 83.30% examples, 372169 words/s, in_qsize 16, out_qsize 0\n",
      "2017-04-10 13:09:56,389 : INFO : PROGRESS: at 84.40% examples, 370720 words/s, in_qsize 16, out_qsize 0\n",
      "2017-04-10 13:09:57,413 : INFO : PROGRESS: at 85.91% examples, 370846 words/s, in_qsize 15, out_qsize 0\n",
      "2017-04-10 13:09:58,484 : INFO : PROGRESS: at 87.35% examples, 370725 words/s, in_qsize 15, out_qsize 0\n",
      "2017-04-10 13:09:59,514 : INFO : PROGRESS: at 88.80% examples, 371119 words/s, in_qsize 16, out_qsize 0\n",
      "2017-04-10 13:10:00,533 : INFO : PROGRESS: at 90.20% examples, 370793 words/s, in_qsize 15, out_qsize 0\n",
      "2017-04-10 13:10:01,586 : INFO : PROGRESS: at 91.39% examples, 369790 words/s, in_qsize 16, out_qsize 0\n",
      "2017-04-10 13:10:02,610 : INFO : PROGRESS: at 92.91% examples, 370073 words/s, in_qsize 15, out_qsize 0\n",
      "2017-04-10 13:10:03,630 : INFO : PROGRESS: at 94.52% examples, 370704 words/s, in_qsize 16, out_qsize 0\n",
      "2017-04-10 13:10:04,676 : INFO : PROGRESS: at 96.07% examples, 370586 words/s, in_qsize 16, out_qsize 0\n",
      "2017-04-10 13:10:05,680 : INFO : PROGRESS: at 97.52% examples, 370951 words/s, in_qsize 15, out_qsize 0\n",
      "2017-04-10 13:10:06,732 : INFO : PROGRESS: at 99.13% examples, 371232 words/s, in_qsize 16, out_qsize 0\n",
      "2017-04-10 13:10:07,230 : INFO : worker thread finished; awaiting finish of 7 more threads\n",
      "2017-04-10 13:10:07,271 : INFO : worker thread finished; awaiting finish of 6 more threads\n",
      "2017-04-10 13:10:07,295 : INFO : worker thread finished; awaiting finish of 5 more threads\n",
      "2017-04-10 13:10:07,298 : INFO : worker thread finished; awaiting finish of 4 more threads\n",
      "2017-04-10 13:10:07,313 : INFO : worker thread finished; awaiting finish of 3 more threads\n",
      "2017-04-10 13:10:07,316 : INFO : worker thread finished; awaiting finish of 2 more threads\n",
      "2017-04-10 13:10:07,344 : INFO : worker thread finished; awaiting finish of 1 more threads\n",
      "2017-04-10 13:10:07,377 : INFO : worker thread finished; awaiting finish of 0 more threads\n",
      "2017-04-10 13:10:07,378 : INFO : training on 28230780 raw words (26488860 effective words) took 71.3s, 371269 effective words/s\n",
      "2017-04-10 13:10:07,379 : INFO : Training D2V model Doc2Vec(dbow,d500,n12,mc5,t8)\n",
      "2017-04-10 13:10:07,380 : INFO : Epoch 4 convergence descent alpha: 0.1\n",
      "2017-04-10 13:10:18,557 : INFO : training model with 8 workers on 33845 vocabulary and 500 features, using sg=1 hs=0 sample=0 negative=12\n",
      "2017-04-10 13:10:18,558 : INFO : expecting 43395 sentences, matching count from corpus used for vocabulary survey\n",
      "2017-04-10 13:10:19,603 : INFO : PROGRESS: at 1.36% examples, 358182 words/s, in_qsize 16, out_qsize 0\n",
      "2017-04-10 13:10:20,605 : INFO : PROGRESS: at 2.86% examples, 381091 words/s, in_qsize 16, out_qsize 0\n",
      "2017-04-10 13:10:21,611 : INFO : PROGRESS: at 4.21% examples, 371439 words/s, in_qsize 15, out_qsize 0\n",
      "2017-04-10 13:10:22,626 : INFO : PROGRESS: at 5.40% examples, 355893 words/s, in_qsize 15, out_qsize 0\n",
      "2017-04-10 13:10:23,744 : INFO : PROGRESS: at 6.63% examples, 345771 words/s, in_qsize 16, out_qsize 0\n",
      "2017-04-10 13:10:24,861 : INFO : PROGRESS: at 7.86% examples, 335698 words/s, in_qsize 16, out_qsize 0\n",
      "2017-04-10 13:10:25,886 : INFO : PROGRESS: at 9.02% examples, 328828 words/s, in_qsize 15, out_qsize 0\n",
      "2017-04-10 13:10:26,915 : INFO : PROGRESS: at 10.38% examples, 330604 words/s, in_qsize 15, out_qsize 0\n",
      "2017-04-10 13:10:27,922 : INFO : PROGRESS: at 11.73% examples, 333385 words/s, in_qsize 16, out_qsize 0\n",
      "2017-04-10 13:10:28,942 : INFO : PROGRESS: at 12.73% examples, 326736 words/s, in_qsize 14, out_qsize 2\n",
      "2017-04-10 13:10:29,986 : INFO : PROGRESS: at 13.89% examples, 323904 words/s, in_qsize 15, out_qsize 0\n",
      "2017-04-10 13:10:30,982 : INFO : PROGRESS: at 15.20% examples, 325524 words/s, in_qsize 16, out_qsize 0\n",
      "2017-04-10 13:10:31,991 : INFO : PROGRESS: at 16.65% examples, 327529 words/s, in_qsize 15, out_qsize 0\n",
      "2017-04-10 13:10:32,996 : INFO : PROGRESS: at 17.89% examples, 329530 words/s, in_qsize 15, out_qsize 0\n",
      "2017-04-10 13:10:34,029 : INFO : PROGRESS: at 19.26% examples, 329754 words/s, in_qsize 16, out_qsize 0\n",
      "2017-04-10 13:10:35,047 : INFO : PROGRESS: at 20.75% examples, 332677 words/s, in_qsize 16, out_qsize 0\n",
      "2017-04-10 13:10:36,058 : INFO : PROGRESS: at 22.17% examples, 336814 words/s, in_qsize 16, out_qsize 0\n",
      "2017-04-10 13:10:37,074 : INFO : PROGRESS: at 23.60% examples, 339235 words/s, in_qsize 16, out_qsize 0\n",
      "2017-04-10 13:10:38,105 : INFO : PROGRESS: at 25.07% examples, 340879 words/s, in_qsize 16, out_qsize 0\n",
      "2017-04-10 13:10:39,146 : INFO : PROGRESS: at 26.50% examples, 343057 words/s, in_qsize 16, out_qsize 0\n",
      "2017-04-10 13:10:40,182 : INFO : PROGRESS: at 27.98% examples, 344618 words/s, in_qsize 15, out_qsize 0\n",
      "2017-04-10 13:10:41,183 : INFO : PROGRESS: at 29.31% examples, 344788 words/s, in_qsize 15, out_qsize 0\n",
      "2017-04-10 13:10:42,210 : INFO : PROGRESS: at 30.72% examples, 344203 words/s, in_qsize 16, out_qsize 0\n",
      "2017-04-10 13:10:43,263 : INFO : PROGRESS: at 31.81% examples, 341946 words/s, in_qsize 15, out_qsize 0\n",
      "2017-04-10 13:10:44,274 : INFO : PROGRESS: at 32.80% examples, 338916 words/s, in_qsize 15, out_qsize 0\n",
      "2017-04-10 13:10:45,279 : INFO : PROGRESS: at 33.70% examples, 334846 words/s, in_qsize 16, out_qsize 0\n",
      "2017-04-10 13:10:46,315 : INFO : PROGRESS: at 34.69% examples, 331454 words/s, in_qsize 15, out_qsize 0\n",
      "2017-04-10 13:10:47,323 : INFO : PROGRESS: at 36.15% examples, 332688 words/s, in_qsize 15, out_qsize 0\n",
      "2017-04-10 13:10:48,343 : INFO : PROGRESS: at 37.41% examples, 332563 words/s, in_qsize 16, out_qsize 0\n",
      "2017-04-10 13:10:49,370 : INFO : PROGRESS: at 38.60% examples, 332261 words/s, in_qsize 16, out_qsize 0\n",
      "2017-04-10 13:10:50,384 : INFO : PROGRESS: at 39.72% examples, 330620 words/s, in_qsize 16, out_qsize 0\n",
      "2017-04-10 13:10:51,411 : INFO : PROGRESS: at 41.07% examples, 331207 words/s, in_qsize 16, out_qsize 0\n",
      "2017-04-10 13:10:52,442 : INFO : PROGRESS: at 42.14% examples, 330021 words/s, in_qsize 15, out_qsize 0\n",
      "2017-04-10 13:10:53,482 : INFO : PROGRESS: at 43.15% examples, 328367 words/s, in_qsize 16, out_qsize 0\n",
      "2017-04-10 13:10:54,508 : INFO : PROGRESS: at 44.16% examples, 325746 words/s, in_qsize 15, out_qsize 0\n",
      "2017-04-10 13:10:55,514 : INFO : PROGRESS: at 45.14% examples, 324147 words/s, in_qsize 16, out_qsize 0\n",
      "2017-04-10 13:10:56,515 : INFO : PROGRESS: at 46.07% examples, 322465 words/s, in_qsize 16, out_qsize 0\n",
      "2017-04-10 13:10:57,517 : INFO : PROGRESS: at 47.03% examples, 320566 words/s, in_qsize 15, out_qsize 0\n",
      "2017-04-10 13:10:58,648 : INFO : PROGRESS: at 48.13% examples, 318949 words/s, in_qsize 16, out_qsize 0\n",
      "2017-04-10 13:10:59,652 : INFO : PROGRESS: at 49.49% examples, 319902 words/s, in_qsize 16, out_qsize 0\n",
      "2017-04-10 13:11:00,656 : INFO : PROGRESS: at 50.99% examples, 320799 words/s, in_qsize 15, out_qsize 0\n",
      "2017-04-10 13:11:01,666 : INFO : PROGRESS: at 52.26% examples, 321700 words/s, in_qsize 16, out_qsize 0\n",
      "2017-04-10 13:11:02,714 : INFO : PROGRESS: at 53.62% examples, 322245 words/s, in_qsize 16, out_qsize 0\n",
      "2017-04-10 13:11:03,716 : INFO : PROGRESS: at 55.01% examples, 323034 words/s, in_qsize 16, out_qsize 0\n",
      "2017-04-10 13:11:04,735 : INFO : PROGRESS: at 56.48% examples, 323553 words/s, in_qsize 16, out_qsize 0\n",
      "2017-04-10 13:11:05,748 : INFO : PROGRESS: at 57.77% examples, 324544 words/s, in_qsize 16, out_qsize 0\n",
      "2017-04-10 13:11:06,753 : INFO : PROGRESS: at 59.20% examples, 325310 words/s, in_qsize 16, out_qsize 0\n",
      "2017-04-10 13:11:07,764 : INFO : PROGRESS: at 60.81% examples, 327161 words/s, in_qsize 16, out_qsize 0\n",
      "2017-04-10 13:11:08,772 : INFO : PROGRESS: at 62.17% examples, 328390 words/s, in_qsize 16, out_qsize 0\n",
      "2017-04-10 13:11:09,780 : INFO : PROGRESS: at 63.62% examples, 329483 words/s, in_qsize 16, out_qsize 0\n",
      "2017-04-10 13:11:10,789 : INFO : PROGRESS: at 65.14% examples, 330781 words/s, in_qsize 15, out_qsize 0\n",
      "2017-04-10 13:11:11,842 : INFO : PROGRESS: at 66.54% examples, 331578 words/s, in_qsize 15, out_qsize 0\n",
      "2017-04-10 13:11:12,875 : INFO : PROGRESS: at 68.02% examples, 332432 words/s, in_qsize 16, out_qsize 0\n",
      "2017-04-10 13:11:13,921 : INFO : PROGRESS: at 69.55% examples, 333310 words/s, in_qsize 15, out_qsize 0\n",
      "2017-04-10 13:11:14,937 : INFO : PROGRESS: at 71.08% examples, 334025 words/s, in_qsize 16, out_qsize 0\n",
      "2017-04-10 13:11:15,970 : INFO : PROGRESS: at 72.47% examples, 334724 words/s, in_qsize 15, out_qsize 0\n",
      "2017-04-10 13:11:16,974 : INFO : PROGRESS: at 74.06% examples, 336178 words/s, in_qsize 16, out_qsize 0\n",
      "2017-04-10 13:11:17,988 : INFO : PROGRESS: at 76.01% examples, 338820 words/s, in_qsize 16, out_qsize 0\n",
      "2017-04-10 13:11:18,994 : INFO : PROGRESS: at 77.82% examples, 341220 words/s, in_qsize 16, out_qsize 0\n",
      "2017-04-10 13:11:19,998 : INFO : PROGRESS: at 79.80% examples, 344024 words/s, in_qsize 16, out_qsize 0\n",
      "2017-04-10 13:11:21,006 : INFO : PROGRESS: at 81.60% examples, 346348 words/s, in_qsize 15, out_qsize 0\n",
      "2017-04-10 13:11:22,010 : INFO : PROGRESS: at 83.32% examples, 348466 words/s, in_qsize 15, out_qsize 0\n",
      "2017-04-10 13:11:23,026 : INFO : PROGRESS: at 85.32% examples, 350747 words/s, in_qsize 16, out_qsize 0\n",
      "2017-04-10 13:11:24,046 : INFO : PROGRESS: at 86.92% examples, 352046 words/s, in_qsize 15, out_qsize 0\n",
      "2017-04-10 13:11:25,051 : INFO : PROGRESS: at 88.63% examples, 353418 words/s, in_qsize 16, out_qsize 0\n",
      "2017-04-10 13:11:26,088 : INFO : PROGRESS: at 90.03% examples, 353479 words/s, in_qsize 16, out_qsize 0\n",
      "2017-04-10 13:11:27,121 : INFO : PROGRESS: at 91.45% examples, 353274 words/s, in_qsize 15, out_qsize 0\n",
      "2017-04-10 13:11:28,166 : INFO : PROGRESS: at 92.92% examples, 353902 words/s, in_qsize 16, out_qsize 0\n",
      "2017-04-10 13:11:29,170 : INFO : PROGRESS: at 94.23% examples, 353938 words/s, in_qsize 16, out_qsize 0\n",
      "2017-04-10 13:11:30,172 : INFO : PROGRESS: at 95.48% examples, 353302 words/s, in_qsize 15, out_qsize 0\n",
      "2017-04-10 13:11:31,191 : INFO : PROGRESS: at 96.48% examples, 351581 words/s, in_qsize 16, out_qsize 0\n",
      "2017-04-10 13:11:32,194 : INFO : PROGRESS: at 97.38% examples, 350293 words/s, in_qsize 16, out_qsize 0\n",
      "2017-04-10 13:11:33,207 : INFO : PROGRESS: at 98.23% examples, 348866 words/s, in_qsize 15, out_qsize 0\n",
      "2017-04-10 13:11:34,208 : INFO : PROGRESS: at 99.43% examples, 348063 words/s, in_qsize 15, out_qsize 1\n",
      "2017-04-10 13:11:34,501 : INFO : worker thread finished; awaiting finish of 7 more threads\n",
      "2017-04-10 13:11:34,505 : INFO : worker thread finished; awaiting finish of 6 more threads\n",
      "2017-04-10 13:11:34,596 : INFO : worker thread finished; awaiting finish of 5 more threads\n",
      "2017-04-10 13:11:34,601 : INFO : worker thread finished; awaiting finish of 4 more threads\n",
      "2017-04-10 13:11:34,602 : INFO : worker thread finished; awaiting finish of 3 more threads\n",
      "2017-04-10 13:11:34,611 : INFO : worker thread finished; awaiting finish of 2 more threads\n",
      "2017-04-10 13:11:34,628 : INFO : worker thread finished; awaiting finish of 1 more threads\n",
      "2017-04-10 13:11:34,653 : INFO : worker thread finished; awaiting finish of 0 more threads\n",
      "2017-04-10 13:11:34,658 : INFO : training on 28230780 raw words (26488860 effective words) took 76.1s, 348089 effective words/s\n",
      "2017-04-10 13:11:34,659 : INFO : Training D2V model Doc2Vec(dbow,d500,n12,mc5,t8)\n",
      "2017-04-10 13:11:34,659 : INFO : Epoch 5 convergence descent alpha: 0.1\n",
      "2017-04-10 13:11:48,245 : INFO : training model with 8 workers on 33845 vocabulary and 500 features, using sg=1 hs=0 sample=0 negative=12\n",
      "2017-04-10 13:11:48,246 : INFO : expecting 43395 sentences, matching count from corpus used for vocabulary survey\n",
      "2017-04-10 13:11:49,253 : INFO : PROGRESS: at 1.30% examples, 331718 words/s, in_qsize 16, out_qsize 0\n",
      "2017-04-10 13:11:50,253 : INFO : PROGRESS: at 2.63% examples, 353945 words/s, in_qsize 16, out_qsize 0\n",
      "2017-04-10 13:11:51,260 : INFO : PROGRESS: at 3.93% examples, 356754 words/s, in_qsize 16, out_qsize 0\n",
      "2017-04-10 13:11:52,268 : INFO : PROGRESS: at 5.19% examples, 355198 words/s, in_qsize 16, out_qsize 0\n",
      "2017-04-10 13:11:53,280 : INFO : PROGRESS: at 6.52% examples, 353178 words/s, in_qsize 15, out_qsize 0\n",
      "2017-04-10 13:11:54,293 : INFO : PROGRESS: at 7.98% examples, 356307 words/s, in_qsize 16, out_qsize 0\n",
      "2017-04-10 13:11:55,301 : INFO : PROGRESS: at 9.31% examples, 356470 words/s, in_qsize 15, out_qsize 0\n",
      "2017-04-10 13:11:56,342 : INFO : PROGRESS: at 10.83% examples, 357518 words/s, in_qsize 16, out_qsize 0\n",
      "2017-04-10 13:11:57,362 : INFO : PROGRESS: at 12.24% examples, 357985 words/s, in_qsize 16, out_qsize 0\n",
      "2017-04-10 13:11:58,370 : INFO : PROGRESS: at 13.88% examples, 364039 words/s, in_qsize 16, out_qsize 0\n",
      "2017-04-10 13:11:59,375 : INFO : PROGRESS: at 15.35% examples, 366995 words/s, in_qsize 16, out_qsize 0\n",
      "2017-04-10 13:12:00,392 : INFO : PROGRESS: at 17.10% examples, 374738 words/s, in_qsize 16, out_qsize 0\n",
      "2017-04-10 13:12:01,410 : INFO : PROGRESS: at 18.97% examples, 380808 words/s, in_qsize 15, out_qsize 0\n",
      "2017-04-10 13:12:02,416 : INFO : PROGRESS: at 20.51% examples, 383084 words/s, in_qsize 16, out_qsize 0\n",
      "2017-04-10 13:12:03,467 : INFO : PROGRESS: at 22.09% examples, 384268 words/s, in_qsize 15, out_qsize 0\n",
      "2017-04-10 13:12:04,485 : INFO : PROGRESS: at 23.50% examples, 384994 words/s, in_qsize 16, out_qsize 0\n",
      "2017-04-10 13:12:05,501 : INFO : PROGRESS: at 25.03% examples, 387157 words/s, in_qsize 15, out_qsize 0\n",
      "2017-04-10 13:12:06,544 : INFO : PROGRESS: at 26.55% examples, 387285 words/s, in_qsize 16, out_qsize 0\n",
      "2017-04-10 13:12:07,576 : INFO : PROGRESS: at 28.02% examples, 386000 words/s, in_qsize 16, out_qsize 0\n",
      "2017-04-10 13:12:08,582 : INFO : PROGRESS: at 29.66% examples, 388359 words/s, in_qsize 15, out_qsize 0\n",
      "2017-04-10 13:12:09,594 : INFO : PROGRESS: at 31.46% examples, 391983 words/s, in_qsize 16, out_qsize 0\n",
      "2017-04-10 13:12:10,597 : INFO : PROGRESS: at 33.28% examples, 395644 words/s, in_qsize 15, out_qsize 0\n",
      "2017-04-10 13:12:11,611 : INFO : PROGRESS: at 35.03% examples, 397593 words/s, in_qsize 16, out_qsize 0\n",
      "2017-04-10 13:12:12,615 : INFO : PROGRESS: at 36.67% examples, 400048 words/s, in_qsize 16, out_qsize 0\n",
      "2017-04-10 13:12:13,618 : INFO : PROGRESS: at 38.55% examples, 402061 words/s, in_qsize 15, out_qsize 0\n",
      "2017-04-10 13:12:14,622 : INFO : PROGRESS: at 40.30% examples, 404519 words/s, in_qsize 16, out_qsize 0\n",
      "2017-04-10 13:12:15,627 : INFO : PROGRESS: at 42.05% examples, 406761 words/s, in_qsize 15, out_qsize 0\n",
      "2017-04-10 13:12:16,631 : INFO : PROGRESS: at 43.76% examples, 409547 words/s, in_qsize 16, out_qsize 0\n",
      "2017-04-10 13:12:17,653 : INFO : PROGRESS: at 45.61% examples, 412277 words/s, in_qsize 16, out_qsize 0\n",
      "2017-04-10 13:12:18,658 : INFO : PROGRESS: at 47.34% examples, 414110 words/s, in_qsize 16, out_qsize 0\n",
      "2017-04-10 13:12:19,659 : INFO : PROGRESS: at 49.05% examples, 415045 words/s, in_qsize 16, out_qsize 0\n",
      "2017-04-10 13:12:20,660 : INFO : PROGRESS: at 50.90% examples, 416721 words/s, in_qsize 16, out_qsize 0\n",
      "2017-04-10 13:12:21,692 : INFO : PROGRESS: at 52.68% examples, 418211 words/s, in_qsize 16, out_qsize 0\n",
      "2017-04-10 13:12:22,697 : INFO : PROGRESS: at 54.46% examples, 419352 words/s, in_qsize 16, out_qsize 0\n",
      "2017-04-10 13:12:23,724 : INFO : PROGRESS: at 56.33% examples, 421428 words/s, in_qsize 16, out_qsize 0\n",
      "2017-04-10 13:12:24,732 : INFO : PROGRESS: at 58.33% examples, 423419 words/s, in_qsize 16, out_qsize 0\n",
      "2017-04-10 13:12:25,733 : INFO : PROGRESS: at 60.04% examples, 424268 words/s, in_qsize 16, out_qsize 0\n",
      "2017-04-10 13:12:26,737 : INFO : PROGRESS: at 61.87% examples, 425606 words/s, in_qsize 15, out_qsize 0\n",
      "2017-04-10 13:12:27,740 : INFO : PROGRESS: at 63.52% examples, 426827 words/s, in_qsize 16, out_qsize 0\n",
      "2017-04-10 13:12:28,746 : INFO : PROGRESS: at 65.36% examples, 428552 words/s, in_qsize 16, out_qsize 0\n",
      "2017-04-10 13:12:29,751 : INFO : PROGRESS: at 67.13% examples, 429554 words/s, in_qsize 15, out_qsize 0\n",
      "2017-04-10 13:12:30,754 : INFO : PROGRESS: at 69.02% examples, 431122 words/s, in_qsize 16, out_qsize 0\n",
      "2017-04-10 13:12:31,792 : INFO : PROGRESS: at 71.00% examples, 432514 words/s, in_qsize 15, out_qsize 0\n",
      "2017-04-10 13:12:32,808 : INFO : PROGRESS: at 72.84% examples, 433609 words/s, in_qsize 15, out_qsize 0\n",
      "2017-04-10 13:12:33,840 : INFO : PROGRESS: at 74.68% examples, 434259 words/s, in_qsize 15, out_qsize 0\n",
      "2017-04-10 13:12:34,857 : INFO : PROGRESS: at 76.52% examples, 435662 words/s, in_qsize 16, out_qsize 0\n",
      "2017-04-10 13:12:35,889 : INFO : PROGRESS: at 78.33% examples, 435459 words/s, in_qsize 15, out_qsize 0\n",
      "2017-04-10 13:12:36,902 : INFO : PROGRESS: at 79.97% examples, 435396 words/s, in_qsize 15, out_qsize 0\n",
      "2017-04-10 13:12:37,915 : INFO : PROGRESS: at 81.54% examples, 434662 words/s, in_qsize 16, out_qsize 0\n",
      "2017-04-10 13:12:38,916 : INFO : PROGRESS: at 83.08% examples, 434606 words/s, in_qsize 15, out_qsize 0\n",
      "2017-04-10 13:12:39,919 : INFO : PROGRESS: at 84.64% examples, 434732 words/s, in_qsize 16, out_qsize 0\n",
      "2017-04-10 13:12:40,922 : INFO : PROGRESS: at 86.38% examples, 435175 words/s, in_qsize 16, out_qsize 0\n",
      "2017-04-10 13:12:41,947 : INFO : PROGRESS: at 87.94% examples, 434572 words/s, in_qsize 16, out_qsize 0\n",
      "2017-04-10 13:12:42,952 : INFO : PROGRESS: at 89.80% examples, 435720 words/s, in_qsize 16, out_qsize 0\n",
      "2017-04-10 13:12:43,953 : INFO : PROGRESS: at 91.71% examples, 436540 words/s, in_qsize 16, out_qsize 0\n",
      "2017-04-10 13:12:44,970 : INFO : PROGRESS: at 93.52% examples, 437240 words/s, in_qsize 16, out_qsize 0\n",
      "2017-04-10 13:12:45,973 : INFO : PROGRESS: at 95.28% examples, 437524 words/s, in_qsize 16, out_qsize 0\n",
      "2017-04-10 13:12:47,017 : INFO : PROGRESS: at 96.88% examples, 437091 words/s, in_qsize 16, out_qsize 0\n",
      "2017-04-10 13:12:48,027 : INFO : PROGRESS: at 98.72% examples, 437280 words/s, in_qsize 16, out_qsize 0\n",
      "2017-04-10 13:12:48,701 : INFO : worker thread finished; awaiting finish of 7 more threads\n",
      "2017-04-10 13:12:48,703 : INFO : worker thread finished; awaiting finish of 6 more threads\n",
      "2017-04-10 13:12:48,811 : INFO : worker thread finished; awaiting finish of 5 more threads\n",
      "2017-04-10 13:12:48,812 : INFO : worker thread finished; awaiting finish of 4 more threads\n",
      "2017-04-10 13:12:48,813 : INFO : worker thread finished; awaiting finish of 3 more threads\n",
      "2017-04-10 13:12:48,814 : INFO : worker thread finished; awaiting finish of 2 more threads\n",
      "2017-04-10 13:12:48,832 : INFO : worker thread finished; awaiting finish of 1 more threads\n",
      "2017-04-10 13:12:48,833 : INFO : worker thread finished; awaiting finish of 0 more threads\n",
      "2017-04-10 13:12:48,834 : INFO : training on 28230780 raw words (26488860 effective words) took 60.6s, 437216 effective words/s\n",
      "2017-04-10 13:12:48,835 : INFO : Training D2V model Doc2Vec(dbow,d500,n12,mc5,t8)\n",
      "2017-04-10 13:12:48,835 : INFO : Epoch 6 convergence descent alpha: 0.1\n",
      "2017-04-10 13:12:59,090 : INFO : training model with 8 workers on 33845 vocabulary and 500 features, using sg=1 hs=0 sample=0 negative=12\n",
      "2017-04-10 13:12:59,091 : INFO : expecting 43395 sentences, matching count from corpus used for vocabulary survey\n",
      "2017-04-10 13:13:00,112 : INFO : PROGRESS: at 1.91% examples, 503110 words/s, in_qsize 15, out_qsize 0\n",
      "2017-04-10 13:13:01,112 : INFO : PROGRESS: at 3.86% examples, 511056 words/s, in_qsize 15, out_qsize 0\n",
      "2017-04-10 13:13:02,129 : INFO : PROGRESS: at 5.82% examples, 507491 words/s, in_qsize 15, out_qsize 0\n",
      "2017-04-10 13:13:03,133 : INFO : PROGRESS: at 7.64% examples, 507864 words/s, in_qsize 15, out_qsize 0\n",
      "2017-04-10 13:13:04,146 : INFO : PROGRESS: at 9.43% examples, 500574 words/s, in_qsize 16, out_qsize 0\n",
      "2017-04-10 13:13:05,166 : INFO : PROGRESS: at 11.42% examples, 500606 words/s, in_qsize 16, out_qsize 0\n",
      "2017-04-10 13:13:06,170 : INFO : PROGRESS: at 13.23% examples, 499513 words/s, in_qsize 16, out_qsize 0\n",
      "2017-04-10 13:13:07,192 : INFO : PROGRESS: at 14.98% examples, 495683 words/s, in_qsize 16, out_qsize 0\n",
      "2017-04-10 13:13:08,200 : INFO : PROGRESS: at 16.87% examples, 494244 words/s, in_qsize 15, out_qsize 0\n",
      "2017-04-10 13:13:09,227 : INFO : PROGRESS: at 18.73% examples, 490754 words/s, in_qsize 15, out_qsize 0\n",
      "2017-04-10 13:13:10,238 : INFO : PROGRESS: at 20.51% examples, 488222 words/s, in_qsize 15, out_qsize 0\n",
      "2017-04-10 13:13:11,254 : INFO : PROGRESS: at 22.18% examples, 483609 words/s, in_qsize 15, out_qsize 0\n",
      "2017-04-10 13:13:12,261 : INFO : PROGRESS: at 23.96% examples, 482852 words/s, in_qsize 15, out_qsize 0\n",
      "2017-04-10 13:13:13,267 : INFO : PROGRESS: at 25.78% examples, 481794 words/s, in_qsize 16, out_qsize 0\n",
      "2017-04-10 13:13:14,275 : INFO : PROGRESS: at 27.47% examples, 481157 words/s, in_qsize 16, out_qsize 0\n",
      "2017-04-10 13:13:15,335 : INFO : PROGRESS: at 29.38% examples, 481307 words/s, in_qsize 15, out_qsize 0\n",
      "2017-04-10 13:13:16,336 : INFO : PROGRESS: at 31.34% examples, 482471 words/s, in_qsize 15, out_qsize 0\n",
      "2017-04-10 13:13:17,336 : INFO : PROGRESS: at 33.09% examples, 482177 words/s, in_qsize 15, out_qsize 0\n",
      "2017-04-10 13:13:18,337 : INFO : PROGRESS: at 34.80% examples, 481533 words/s, in_qsize 15, out_qsize 0\n",
      "2017-04-10 13:13:19,342 : INFO : PROGRESS: at 36.66% examples, 480572 words/s, in_qsize 16, out_qsize 0\n",
      "2017-04-10 13:13:20,425 : INFO : PROGRESS: at 38.38% examples, 477341 words/s, in_qsize 15, out_qsize 0\n",
      "2017-04-10 13:13:21,451 : INFO : PROGRESS: at 40.25% examples, 476974 words/s, in_qsize 15, out_qsize 0\n",
      "2017-04-10 13:13:22,464 : INFO : PROGRESS: at 42.09% examples, 477114 words/s, in_qsize 16, out_qsize 0\n",
      "2017-04-10 13:13:23,477 : INFO : PROGRESS: at 43.84% examples, 476528 words/s, in_qsize 16, out_qsize 0\n",
      "2017-04-10 13:13:24,513 : INFO : PROGRESS: at 45.65% examples, 475575 words/s, in_qsize 15, out_qsize 0\n",
      "2017-04-10 13:13:25,523 : INFO : PROGRESS: at 47.47% examples, 476837 words/s, in_qsize 16, out_qsize 0\n",
      "2017-04-10 13:13:26,554 : INFO : PROGRESS: at 49.19% examples, 475591 words/s, in_qsize 15, out_qsize 0\n",
      "2017-04-10 13:13:27,555 : INFO : PROGRESS: at 51.08% examples, 475884 words/s, in_qsize 15, out_qsize 0\n",
      "2017-04-10 13:13:28,558 : INFO : PROGRESS: at 52.82% examples, 475841 words/s, in_qsize 16, out_qsize 0\n",
      "2017-04-10 13:13:29,578 : INFO : PROGRESS: at 54.64% examples, 476328 words/s, in_qsize 15, out_qsize 0\n",
      "2017-04-10 13:13:30,579 : INFO : PROGRESS: at 56.45% examples, 475622 words/s, in_qsize 16, out_qsize 0\n",
      "2017-04-10 13:13:31,597 : INFO : PROGRESS: at 58.20% examples, 474804 words/s, in_qsize 16, out_qsize 0\n",
      "2017-04-10 13:13:32,612 : INFO : PROGRESS: at 59.71% examples, 471899 words/s, in_qsize 16, out_qsize 0\n",
      "2017-04-10 13:13:33,629 : INFO : PROGRESS: at 61.47% examples, 471500 words/s, in_qsize 16, out_qsize 0\n",
      "2017-04-10 13:13:34,702 : INFO : PROGRESS: at 63.33% examples, 471407 words/s, in_qsize 16, out_qsize 0\n",
      "2017-04-10 13:13:35,703 : INFO : PROGRESS: at 65.22% examples, 471706 words/s, in_qsize 15, out_qsize 0\n",
      "2017-04-10 13:13:36,732 : INFO : PROGRESS: at 66.42% examples, 467946 words/s, in_qsize 16, out_qsize 0\n",
      "2017-04-10 13:13:37,751 : INFO : PROGRESS: at 67.89% examples, 465820 words/s, in_qsize 15, out_qsize 0\n",
      "2017-04-10 13:13:38,785 : INFO : PROGRESS: at 69.11% examples, 461789 words/s, in_qsize 16, out_qsize 0\n",
      "2017-04-10 13:13:39,798 : INFO : PROGRESS: at 70.08% examples, 456727 words/s, in_qsize 16, out_qsize 0\n",
      "2017-04-10 13:13:40,824 : INFO : PROGRESS: at 71.04% examples, 451298 words/s, in_qsize 16, out_qsize 0\n",
      "2017-04-10 13:13:41,844 : INFO : PROGRESS: at 72.05% examples, 446881 words/s, in_qsize 16, out_qsize 0\n",
      "2017-04-10 13:13:42,861 : INFO : PROGRESS: at 73.00% examples, 442671 words/s, in_qsize 15, out_qsize 0\n",
      "2017-04-10 13:13:43,877 : INFO : PROGRESS: at 74.10% examples, 439255 words/s, in_qsize 16, out_qsize 0\n",
      "2017-04-10 13:13:44,900 : INFO : PROGRESS: at 75.20% examples, 435620 words/s, in_qsize 15, out_qsize 0\n",
      "2017-04-10 13:13:45,941 : INFO : PROGRESS: at 76.17% examples, 431329 words/s, in_qsize 15, out_qsize 0\n",
      "2017-04-10 13:13:46,983 : INFO : PROGRESS: at 77.19% examples, 427638 words/s, in_qsize 16, out_qsize 0\n",
      "2017-04-10 13:13:48,033 : INFO : PROGRESS: at 78.45% examples, 424829 words/s, in_qsize 15, out_qsize 0\n",
      "2017-04-10 13:13:49,056 : INFO : PROGRESS: at 79.71% examples, 422616 words/s, in_qsize 16, out_qsize 0\n",
      "2017-04-10 13:13:50,057 : INFO : PROGRESS: at 80.84% examples, 420428 words/s, in_qsize 16, out_qsize 0\n",
      "2017-04-10 13:13:51,069 : INFO : PROGRESS: at 81.65% examples, 416139 words/s, in_qsize 16, out_qsize 0\n",
      "2017-04-10 13:13:52,117 : INFO : PROGRESS: at 82.44% examples, 411951 words/s, in_qsize 15, out_qsize 0\n",
      "2017-04-10 13:13:53,130 : INFO : PROGRESS: at 83.22% examples, 408180 words/s, in_qsize 15, out_qsize 0\n",
      "2017-04-10 13:13:54,161 : INFO : PROGRESS: at 83.98% examples, 404072 words/s, in_qsize 15, out_qsize 1\n",
      "2017-04-10 13:13:55,180 : INFO : PROGRESS: at 84.98% examples, 401201 words/s, in_qsize 16, out_qsize 0\n",
      "2017-04-10 13:13:56,229 : INFO : PROGRESS: at 85.98% examples, 398689 words/s, in_qsize 16, out_qsize 0\n",
      "2017-04-10 13:13:57,308 : INFO : PROGRESS: at 87.24% examples, 397363 words/s, in_qsize 15, out_qsize 0\n",
      "2017-04-10 13:13:58,325 : INFO : PROGRESS: at 88.30% examples, 395371 words/s, in_qsize 16, out_qsize 0\n",
      "2017-04-10 13:13:59,383 : INFO : PROGRESS: at 89.65% examples, 394367 words/s, in_qsize 16, out_qsize 0\n",
      "2017-04-10 13:14:00,403 : INFO : PROGRESS: at 90.94% examples, 393123 words/s, in_qsize 15, out_qsize 0\n",
      "2017-04-10 13:14:01,441 : INFO : PROGRESS: at 92.07% examples, 391573 words/s, in_qsize 15, out_qsize 0\n",
      "2017-04-10 13:14:02,447 : INFO : PROGRESS: at 92.94% examples, 389111 words/s, in_qsize 16, out_qsize 0\n",
      "2017-04-10 13:14:03,458 : INFO : PROGRESS: at 94.05% examples, 387643 words/s, in_qsize 16, out_qsize 0\n",
      "2017-04-10 13:14:04,459 : INFO : PROGRESS: at 95.47% examples, 387180 words/s, in_qsize 16, out_qsize 0\n",
      "2017-04-10 13:14:05,516 : INFO : PROGRESS: at 96.95% examples, 387077 words/s, in_qsize 16, out_qsize 0\n",
      "2017-04-10 13:14:06,518 : INFO : PROGRESS: at 98.53% examples, 387261 words/s, in_qsize 16, out_qsize 0\n",
      "2017-04-10 13:14:07,345 : INFO : worker thread finished; awaiting finish of 7 more threads\n",
      "2017-04-10 13:14:07,354 : INFO : worker thread finished; awaiting finish of 6 more threads\n",
      "2017-04-10 13:14:07,357 : INFO : worker thread finished; awaiting finish of 5 more threads\n",
      "2017-04-10 13:14:07,362 : INFO : worker thread finished; awaiting finish of 4 more threads\n",
      "2017-04-10 13:14:07,373 : INFO : worker thread finished; awaiting finish of 3 more threads\n",
      "2017-04-10 13:14:07,386 : INFO : worker thread finished; awaiting finish of 2 more threads\n",
      "2017-04-10 13:14:07,393 : INFO : worker thread finished; awaiting finish of 1 more threads\n",
      "2017-04-10 13:14:07,417 : INFO : worker thread finished; awaiting finish of 0 more threads\n",
      "2017-04-10 13:14:07,418 : INFO : training on 28230780 raw words (26488860 effective words) took 68.3s, 387688 effective words/s\n",
      "2017-04-10 13:14:07,418 : INFO : Training D2V model Doc2Vec(dbow,d500,n12,mc5,t8)\n",
      "2017-04-10 13:14:07,419 : INFO : Epoch 7 convergence descent alpha: 0.1\n",
      "2017-04-10 13:14:18,688 : INFO : training model with 8 workers on 33845 vocabulary and 500 features, using sg=1 hs=0 sample=0 negative=12\n",
      "2017-04-10 13:14:18,689 : INFO : expecting 43395 sentences, matching count from corpus used for vocabulary survey\n",
      "2017-04-10 13:14:19,743 : INFO : PROGRESS: at 2.11% examples, 496862 words/s, in_qsize 15, out_qsize 0\n",
      "2017-04-10 13:14:20,757 : INFO : PROGRESS: at 4.11% examples, 505879 words/s, in_qsize 15, out_qsize 0\n",
      "2017-04-10 13:14:21,774 : INFO : PROGRESS: at 6.06% examples, 510705 words/s, in_qsize 16, out_qsize 0\n",
      "2017-04-10 13:14:22,786 : INFO : PROGRESS: at 7.87% examples, 501812 words/s, in_qsize 16, out_qsize 0\n",
      "2017-04-10 13:14:23,790 : INFO : PROGRESS: at 9.66% examples, 499927 words/s, in_qsize 16, out_qsize 1\n",
      "2017-04-10 13:14:24,799 : INFO : PROGRESS: at 11.46% examples, 494796 words/s, in_qsize 15, out_qsize 0\n",
      "2017-04-10 13:14:25,805 : INFO : PROGRESS: at 13.34% examples, 496180 words/s, in_qsize 15, out_qsize 0\n",
      "2017-04-10 13:14:26,850 : INFO : PROGRESS: at 15.24% examples, 494171 words/s, in_qsize 16, out_qsize 0\n",
      "2017-04-10 13:14:27,850 : INFO : PROGRESS: at 17.07% examples, 492390 words/s, in_qsize 16, out_qsize 0\n",
      "2017-04-10 13:14:28,857 : INFO : PROGRESS: at 18.86% examples, 491195 words/s, in_qsize 15, out_qsize 0\n",
      "2017-04-10 13:14:29,871 : INFO : PROGRESS: at 20.69% examples, 489415 words/s, in_qsize 16, out_qsize 0\n",
      "2017-04-10 13:14:30,898 : INFO : PROGRESS: at 22.53% examples, 485208 words/s, in_qsize 16, out_qsize 0\n",
      "2017-04-10 13:14:31,898 : INFO : PROGRESS: at 24.08% examples, 479499 words/s, in_qsize 16, out_qsize 0\n",
      "2017-04-10 13:14:32,901 : INFO : PROGRESS: at 25.80% examples, 478303 words/s, in_qsize 15, out_qsize 0\n",
      "2017-04-10 13:14:33,933 : INFO : PROGRESS: at 27.58% examples, 477230 words/s, in_qsize 15, out_qsize 0\n",
      "2017-04-10 13:14:34,950 : INFO : PROGRESS: at 29.26% examples, 474634 words/s, in_qsize 16, out_qsize 0\n",
      "2017-04-10 13:14:35,956 : INFO : PROGRESS: at 31.00% examples, 475027 words/s, in_qsize 16, out_qsize 0\n",
      "2017-04-10 13:14:36,981 : INFO : PROGRESS: at 32.88% examples, 475154 words/s, in_qsize 16, out_qsize 0\n",
      "2017-04-10 13:14:37,996 : INFO : PROGRESS: at 34.46% examples, 471954 words/s, in_qsize 15, out_qsize 0\n",
      "2017-04-10 13:14:39,019 : INFO : PROGRESS: at 36.30% examples, 472480 words/s, in_qsize 15, out_qsize 0\n",
      "2017-04-10 13:14:40,034 : INFO : PROGRESS: at 38.10% examples, 472966 words/s, in_qsize 15, out_qsize 0\n",
      "2017-04-10 13:14:41,037 : INFO : PROGRESS: at 39.91% examples, 472827 words/s, in_qsize 16, out_qsize 0\n",
      "2017-04-10 13:14:42,059 : INFO : PROGRESS: at 41.90% examples, 473778 words/s, in_qsize 16, out_qsize 0\n",
      "2017-04-10 13:14:43,083 : INFO : PROGRESS: at 43.85% examples, 474224 words/s, in_qsize 15, out_qsize 0\n",
      "2017-04-10 13:14:44,085 : INFO : PROGRESS: at 45.42% examples, 472268 words/s, in_qsize 16, out_qsize 0\n",
      "2017-04-10 13:14:45,125 : INFO : PROGRESS: at 46.95% examples, 468801 words/s, in_qsize 16, out_qsize 0\n",
      "2017-04-10 13:14:46,146 : INFO : PROGRESS: at 48.78% examples, 469131 words/s, in_qsize 15, out_qsize 0\n",
      "2017-04-10 13:14:47,163 : INFO : PROGRESS: at 50.43% examples, 469487 words/s, in_qsize 15, out_qsize 0\n",
      "2017-04-10 13:14:48,163 : INFO : PROGRESS: at 52.05% examples, 467453 words/s, in_qsize 16, out_qsize 0\n",
      "2017-04-10 13:14:49,195 : INFO : PROGRESS: at 53.45% examples, 464015 words/s, in_qsize 16, out_qsize 0\n",
      "2017-04-10 13:14:50,224 : INFO : PROGRESS: at 54.82% examples, 460423 words/s, in_qsize 16, out_qsize 0\n",
      "2017-04-10 13:14:51,256 : INFO : PROGRESS: at 55.88% examples, 454324 words/s, in_qsize 15, out_qsize 0\n",
      "2017-04-10 13:14:52,312 : INFO : PROGRESS: at 56.94% examples, 448195 words/s, in_qsize 16, out_qsize 0\n",
      "2017-04-10 13:14:53,315 : INFO : PROGRESS: at 57.84% examples, 442648 words/s, in_qsize 16, out_qsize 0\n",
      "2017-04-10 13:14:54,382 : INFO : PROGRESS: at 59.01% examples, 437927 words/s, in_qsize 16, out_qsize 0\n",
      "2017-04-10 13:14:55,394 : INFO : PROGRESS: at 60.20% examples, 434428 words/s, in_qsize 16, out_qsize 0\n",
      "2017-04-10 13:14:56,422 : INFO : PROGRESS: at 61.60% examples, 432113 words/s, in_qsize 16, out_qsize 0\n",
      "2017-04-10 13:14:57,451 : INFO : PROGRESS: at 63.31% examples, 431371 words/s, in_qsize 16, out_qsize 0\n",
      "2017-04-10 13:14:58,500 : INFO : PROGRESS: at 64.77% examples, 429857 words/s, in_qsize 15, out_qsize 0\n",
      "2017-04-10 13:14:59,510 : INFO : PROGRESS: at 65.66% examples, 425180 words/s, in_qsize 16, out_qsize 0\n",
      "2017-04-10 13:15:00,539 : INFO : PROGRESS: at 66.98% examples, 422948 words/s, in_qsize 15, out_qsize 0\n",
      "2017-04-10 13:15:01,542 : INFO : PROGRESS: at 68.55% examples, 422928 words/s, in_qsize 16, out_qsize 0\n",
      "2017-04-10 13:15:02,549 : INFO : PROGRESS: at 69.82% examples, 421374 words/s, in_qsize 16, out_qsize 0\n",
      "2017-04-10 13:15:03,553 : INFO : PROGRESS: at 71.31% examples, 420820 words/s, in_qsize 16, out_qsize 0\n",
      "2017-04-10 13:15:04,559 : INFO : PROGRESS: at 72.91% examples, 420624 words/s, in_qsize 16, out_qsize 0\n",
      "2017-04-10 13:15:05,568 : INFO : PROGRESS: at 74.30% examples, 419515 words/s, in_qsize 16, out_qsize 0\n",
      "2017-04-10 13:15:06,577 : INFO : PROGRESS: at 75.71% examples, 418825 words/s, in_qsize 16, out_qsize 0\n",
      "2017-04-10 13:15:07,592 : INFO : PROGRESS: at 77.16% examples, 417795 words/s, in_qsize 15, out_qsize 0\n",
      "2017-04-10 13:15:08,617 : INFO : PROGRESS: at 78.48% examples, 416447 words/s, in_qsize 15, out_qsize 0\n",
      "2017-04-10 13:15:09,733 : INFO : PROGRESS: at 79.66% examples, 413124 words/s, in_qsize 16, out_qsize 0\n",
      "2017-04-10 13:15:10,740 : INFO : PROGRESS: at 80.68% examples, 410441 words/s, in_qsize 15, out_qsize 0\n",
      "2017-04-10 13:15:11,768 : INFO : PROGRESS: at 81.75% examples, 407690 words/s, in_qsize 15, out_qsize 0\n",
      "2017-04-10 13:15:12,774 : INFO : PROGRESS: at 83.19% examples, 406593 words/s, in_qsize 16, out_qsize 0\n",
      "2017-04-10 13:15:13,775 : INFO : PROGRESS: at 84.59% examples, 405869 words/s, in_qsize 15, out_qsize 0\n",
      "2017-04-10 13:15:14,784 : INFO : PROGRESS: at 85.89% examples, 405009 words/s, in_qsize 15, out_qsize 0\n",
      "2017-04-10 13:15:15,812 : INFO : PROGRESS: at 87.21% examples, 403859 words/s, in_qsize 16, out_qsize 0\n",
      "2017-04-10 13:15:16,815 : INFO : PROGRESS: at 88.55% examples, 402944 words/s, in_qsize 15, out_qsize 0\n",
      "2017-04-10 13:15:17,864 : INFO : PROGRESS: at 89.86% examples, 402267 words/s, in_qsize 15, out_qsize 0\n",
      "2017-04-10 13:15:18,923 : INFO : PROGRESS: at 90.93% examples, 399713 words/s, in_qsize 16, out_qsize 0\n",
      "2017-04-10 13:15:19,968 : INFO : PROGRESS: at 92.03% examples, 397589 words/s, in_qsize 16, out_qsize 0\n",
      "2017-04-10 13:15:20,983 : INFO : PROGRESS: at 93.03% examples, 395483 words/s, in_qsize 16, out_qsize 0\n",
      "2017-04-10 13:15:22,006 : INFO : PROGRESS: at 94.08% examples, 393402 words/s, in_qsize 15, out_qsize 0\n",
      "2017-04-10 13:15:23,023 : INFO : PROGRESS: at 95.12% examples, 391491 words/s, in_qsize 15, out_qsize 0\n",
      "2017-04-10 13:15:24,035 : INFO : PROGRESS: at 96.42% examples, 390763 words/s, in_qsize 15, out_qsize 0\n",
      "2017-04-10 13:15:25,056 : INFO : PROGRESS: at 97.72% examples, 390046 words/s, in_qsize 16, out_qsize 0\n",
      "2017-04-10 13:15:26,083 : INFO : PROGRESS: at 99.14% examples, 389706 words/s, in_qsize 15, out_qsize 0\n",
      "2017-04-10 13:15:26,482 : INFO : worker thread finished; awaiting finish of 7 more threads\n",
      "2017-04-10 13:15:26,484 : INFO : worker thread finished; awaiting finish of 6 more threads\n",
      "2017-04-10 13:15:26,495 : INFO : worker thread finished; awaiting finish of 5 more threads\n",
      "2017-04-10 13:15:26,500 : INFO : worker thread finished; awaiting finish of 4 more threads\n",
      "2017-04-10 13:15:26,541 : INFO : worker thread finished; awaiting finish of 3 more threads\n",
      "2017-04-10 13:15:26,549 : INFO : worker thread finished; awaiting finish of 2 more threads\n",
      "2017-04-10 13:15:26,571 : INFO : worker thread finished; awaiting finish of 1 more threads\n",
      "2017-04-10 13:15:26,584 : INFO : worker thread finished; awaiting finish of 0 more threads\n",
      "2017-04-10 13:15:26,585 : INFO : training on 28230780 raw words (26488860 effective words) took 67.9s, 390152 effective words/s\n",
      "2017-04-10 13:15:26,586 : INFO : Training D2V model Doc2Vec(dbow,d500,n12,mc5,t8)\n",
      "2017-04-10 13:15:26,586 : INFO : Epoch 8 convergence descent alpha: 0.1\n",
      "2017-04-10 13:15:37,772 : INFO : training model with 8 workers on 33845 vocabulary and 500 features, using sg=1 hs=0 sample=0 negative=12\n",
      "2017-04-10 13:15:37,773 : INFO : expecting 43395 sentences, matching count from corpus used for vocabulary survey\n",
      "2017-04-10 13:15:38,784 : INFO : PROGRESS: at 1.47% examples, 376896 words/s, in_qsize 16, out_qsize 0\n",
      "2017-04-10 13:15:39,790 : INFO : PROGRESS: at 2.90% examples, 370419 words/s, in_qsize 16, out_qsize 0\n",
      "2017-04-10 13:15:40,808 : INFO : PROGRESS: at 4.58% examples, 393689 words/s, in_qsize 16, out_qsize 0\n",
      "2017-04-10 13:15:41,820 : INFO : PROGRESS: at 6.50% examples, 418340 words/s, in_qsize 16, out_qsize 0\n",
      "2017-04-10 13:15:42,830 : INFO : PROGRESS: at 8.37% examples, 433158 words/s, in_qsize 15, out_qsize 0\n",
      "2017-04-10 13:15:43,854 : INFO : PROGRESS: at 10.32% examples, 441311 words/s, in_qsize 16, out_qsize 0\n",
      "2017-04-10 13:15:44,875 : INFO : PROGRESS: at 11.96% examples, 443350 words/s, in_qsize 16, out_qsize 0\n",
      "2017-04-10 13:15:45,919 : INFO : PROGRESS: at 13.88% examples, 450198 words/s, in_qsize 16, out_qsize 0\n",
      "2017-04-10 13:15:46,932 : INFO : PROGRESS: at 15.35% examples, 447138 words/s, in_qsize 15, out_qsize 0\n",
      "2017-04-10 13:15:47,944 : INFO : PROGRESS: at 16.87% examples, 440431 words/s, in_qsize 16, out_qsize 0\n",
      "2017-04-10 13:15:48,959 : INFO : PROGRESS: at 18.60% examples, 442304 words/s, in_qsize 16, out_qsize 0\n",
      "2017-04-10 13:15:49,967 : INFO : PROGRESS: at 20.26% examples, 439194 words/s, in_qsize 15, out_qsize 0\n",
      "2017-04-10 13:15:51,011 : INFO : PROGRESS: at 22.00% examples, 439235 words/s, in_qsize 16, out_qsize 0\n",
      "2017-04-10 13:15:52,037 : INFO : PROGRESS: at 23.80% examples, 441647 words/s, in_qsize 15, out_qsize 0\n",
      "2017-04-10 13:15:53,056 : INFO : PROGRESS: at 25.77% examples, 443197 words/s, in_qsize 16, out_qsize 1\n",
      "2017-04-10 13:15:54,072 : INFO : PROGRESS: at 27.48% examples, 444555 words/s, in_qsize 15, out_qsize 0\n",
      "2017-04-10 13:15:55,082 : INFO : PROGRESS: at 29.08% examples, 443283 words/s, in_qsize 16, out_qsize 0\n",
      "2017-04-10 13:15:56,102 : INFO : PROGRESS: at 30.89% examples, 444080 words/s, in_qsize 16, out_qsize 0\n",
      "2017-04-10 13:15:57,122 : INFO : PROGRESS: at 32.57% examples, 445887 words/s, in_qsize 16, out_qsize 0\n",
      "2017-04-10 13:15:58,137 : INFO : PROGRESS: at 34.40% examples, 447624 words/s, in_qsize 15, out_qsize 0\n",
      "2017-04-10 13:15:59,153 : INFO : PROGRESS: at 36.25% examples, 449909 words/s, in_qsize 15, out_qsize 0\n",
      "2017-04-10 13:16:00,173 : INFO : PROGRESS: at 37.87% examples, 449043 words/s, in_qsize 16, out_qsize 0\n",
      "2017-04-10 13:16:01,182 : INFO : PROGRESS: at 39.80% examples, 450666 words/s, in_qsize 15, out_qsize 0\n",
      "2017-04-10 13:16:02,189 : INFO : PROGRESS: at 41.75% examples, 452494 words/s, in_qsize 15, out_qsize 0\n",
      "2017-04-10 13:16:03,196 : INFO : PROGRESS: at 43.51% examples, 452947 words/s, in_qsize 16, out_qsize 0\n",
      "2017-04-10 13:16:04,198 : INFO : PROGRESS: at 45.54% examples, 454564 words/s, in_qsize 15, out_qsize 0\n",
      "2017-04-10 13:16:05,214 : INFO : PROGRESS: at 47.26% examples, 455424 words/s, in_qsize 16, out_qsize 0\n",
      "2017-04-10 13:16:06,233 : INFO : PROGRESS: at 49.14% examples, 456074 words/s, in_qsize 16, out_qsize 0\n",
      "2017-04-10 13:16:07,234 : INFO : PROGRESS: at 50.98% examples, 457368 words/s, in_qsize 16, out_qsize 0\n",
      "2017-04-10 13:16:08,236 : INFO : PROGRESS: at 52.60% examples, 457435 words/s, in_qsize 16, out_qsize 0\n",
      "2017-04-10 13:16:09,236 : INFO : PROGRESS: at 54.41% examples, 458118 words/s, in_qsize 16, out_qsize 0\n",
      "2017-04-10 13:16:10,265 : INFO : PROGRESS: at 56.25% examples, 458791 words/s, in_qsize 15, out_qsize 0\n",
      "2017-04-10 13:16:11,276 : INFO : PROGRESS: at 58.04% examples, 459764 words/s, in_qsize 16, out_qsize 0\n",
      "2017-04-10 13:16:12,280 : INFO : PROGRESS: at 60.09% examples, 461178 words/s, in_qsize 15, out_qsize 0\n",
      "2017-04-10 13:16:13,280 : INFO : PROGRESS: at 61.84% examples, 460854 words/s, in_qsize 16, out_qsize 0\n",
      "2017-04-10 13:16:14,333 : INFO : PROGRESS: at 63.75% examples, 461611 words/s, in_qsize 16, out_qsize 0\n",
      "2017-04-10 13:16:15,337 : INFO : PROGRESS: at 65.82% examples, 462896 words/s, in_qsize 16, out_qsize 0\n",
      "2017-04-10 13:16:16,343 : INFO : PROGRESS: at 67.64% examples, 463567 words/s, in_qsize 15, out_qsize 0\n",
      "2017-04-10 13:16:17,367 : INFO : PROGRESS: at 69.71% examples, 464607 words/s, in_qsize 16, out_qsize 0\n",
      "2017-04-10 13:16:18,369 : INFO : PROGRESS: at 71.33% examples, 464710 words/s, in_qsize 16, out_qsize 0\n",
      "2017-04-10 13:16:19,370 : INFO : PROGRESS: at 73.16% examples, 465477 words/s, in_qsize 15, out_qsize 0\n",
      "2017-04-10 13:16:20,370 : INFO : PROGRESS: at 74.92% examples, 466175 words/s, in_qsize 16, out_qsize 0\n",
      "2017-04-10 13:16:21,414 : INFO : PROGRESS: at 76.90% examples, 466768 words/s, in_qsize 16, out_qsize 0\n",
      "2017-04-10 13:16:22,420 : INFO : PROGRESS: at 78.79% examples, 467822 words/s, in_qsize 16, out_qsize 0\n",
      "2017-04-10 13:16:23,444 : INFO : PROGRESS: at 80.83% examples, 468679 words/s, in_qsize 15, out_qsize 0\n",
      "2017-04-10 13:16:24,444 : INFO : PROGRESS: at 82.80% examples, 469466 words/s, in_qsize 16, out_qsize 0\n",
      "2017-04-10 13:16:25,447 : INFO : PROGRESS: at 84.60% examples, 469743 words/s, in_qsize 15, out_qsize 0\n",
      "2017-04-10 13:16:26,460 : INFO : PROGRESS: at 86.57% examples, 470412 words/s, in_qsize 15, out_qsize 0\n",
      "2017-04-10 13:16:27,478 : INFO : PROGRESS: at 88.50% examples, 471312 words/s, in_qsize 16, out_qsize 0\n",
      "2017-04-10 13:16:28,550 : INFO : PROGRESS: at 90.56% examples, 471463 words/s, in_qsize 16, out_qsize 0\n",
      "2017-04-10 13:16:29,565 : INFO : PROGRESS: at 92.33% examples, 472015 words/s, in_qsize 15, out_qsize 0\n",
      "2017-04-10 13:16:30,565 : INFO : PROGRESS: at 94.19% examples, 472481 words/s, in_qsize 16, out_qsize 0\n",
      "2017-04-10 13:16:31,595 : INFO : PROGRESS: at 96.04% examples, 472891 words/s, in_qsize 15, out_qsize 0\n",
      "2017-04-10 13:16:32,610 : INFO : PROGRESS: at 97.91% examples, 473429 words/s, in_qsize 16, out_qsize 0\n",
      "2017-04-10 13:16:33,515 : INFO : worker thread finished; awaiting finish of 7 more threads\n",
      "2017-04-10 13:16:33,532 : INFO : worker thread finished; awaiting finish of 6 more threads\n",
      "2017-04-10 13:16:33,558 : INFO : worker thread finished; awaiting finish of 5 more threads\n",
      "2017-04-10 13:16:33,573 : INFO : worker thread finished; awaiting finish of 4 more threads\n",
      "2017-04-10 13:16:33,594 : INFO : worker thread finished; awaiting finish of 3 more threads\n",
      "2017-04-10 13:16:33,602 : INFO : worker thread finished; awaiting finish of 2 more threads\n",
      "2017-04-10 13:16:33,610 : INFO : worker thread finished; awaiting finish of 1 more threads\n",
      "2017-04-10 13:16:33,626 : INFO : PROGRESS: at 100.00% examples, 474296 words/s, in_qsize 0, out_qsize 1\n",
      "2017-04-10 13:16:33,627 : INFO : worker thread finished; awaiting finish of 0 more threads\n",
      "2017-04-10 13:16:33,628 : INFO : training on 28230780 raw words (26488860 effective words) took 55.9s, 474285 effective words/s\n",
      "2017-04-10 13:16:33,628 : INFO : Training D2V model Doc2Vec(dbow,d500,n12,mc5,t8)\n",
      "2017-04-10 13:16:33,629 : INFO : Epoch 9 convergence descent alpha: 0.1\n",
      "2017-04-10 13:16:44,896 : INFO : training model with 8 workers on 33845 vocabulary and 500 features, using sg=1 hs=0 sample=0 negative=12\n",
      "2017-04-10 13:16:44,897 : INFO : expecting 43395 sentences, matching count from corpus used for vocabulary survey\n",
      "2017-04-10 13:16:45,920 : INFO : PROGRESS: at 1.39% examples, 364613 words/s, in_qsize 16, out_qsize 0\n",
      "2017-04-10 13:16:46,926 : INFO : PROGRESS: at 2.81% examples, 363316 words/s, in_qsize 15, out_qsize 0\n",
      "2017-04-10 13:16:47,927 : INFO : PROGRESS: at 4.08% examples, 354797 words/s, in_qsize 16, out_qsize 0\n",
      "2017-04-10 13:16:48,962 : INFO : PROGRESS: at 5.50% examples, 364066 words/s, in_qsize 16, out_qsize 0\n",
      "2017-04-10 13:16:49,990 : INFO : PROGRESS: at 7.04% examples, 369095 words/s, in_qsize 15, out_qsize 0\n",
      "2017-04-10 13:16:51,000 : INFO : PROGRESS: at 8.27% examples, 361314 words/s, in_qsize 16, out_qsize 0\n",
      "2017-04-10 13:16:52,012 : INFO : PROGRESS: at 9.25% examples, 345833 words/s, in_qsize 16, out_qsize 0\n",
      "2017-04-10 13:16:53,034 : INFO : PROGRESS: at 10.17% examples, 331889 words/s, in_qsize 16, out_qsize 0\n",
      "2017-04-10 13:16:54,070 : INFO : PROGRESS: at 11.42% examples, 330654 words/s, in_qsize 16, out_qsize 0\n",
      "2017-04-10 13:16:55,087 : INFO : PROGRESS: at 12.74% examples, 329678 words/s, in_qsize 16, out_qsize 0\n",
      "2017-04-10 13:16:56,096 : INFO : PROGRESS: at 13.68% examples, 323808 words/s, in_qsize 15, out_qsize 0\n",
      "2017-04-10 13:16:57,121 : INFO : PROGRESS: at 14.90% examples, 324772 words/s, in_qsize 16, out_qsize 0\n",
      "2017-04-10 13:16:58,157 : INFO : PROGRESS: at 16.22% examples, 327680 words/s, in_qsize 16, out_qsize 0\n",
      "2017-04-10 13:16:59,255 : INFO : PROGRESS: at 17.63% examples, 326316 words/s, in_qsize 15, out_qsize 0\n",
      "2017-04-10 13:17:00,259 : INFO : PROGRESS: at 18.75% examples, 324067 words/s, in_qsize 16, out_qsize 0\n",
      "2017-04-10 13:17:01,272 : INFO : PROGRESS: at 19.78% examples, 319567 words/s, in_qsize 15, out_qsize 0\n",
      "2017-04-10 13:17:02,334 : INFO : PROGRESS: at 20.49% examples, 311875 words/s, in_qsize 15, out_qsize 0\n",
      "2017-04-10 13:17:03,353 : INFO : PROGRESS: at 21.29% examples, 305606 words/s, in_qsize 15, out_qsize 0\n",
      "2017-04-10 13:17:04,361 : INFO : PROGRESS: at 22.03% examples, 299969 words/s, in_qsize 15, out_qsize 0\n",
      "2017-04-10 13:17:05,509 : INFO : PROGRESS: at 22.95% examples, 294896 words/s, in_qsize 16, out_qsize 0\n",
      "2017-04-10 13:17:06,515 : INFO : PROGRESS: at 23.85% examples, 291720 words/s, in_qsize 16, out_qsize 0\n",
      "2017-04-10 13:17:07,562 : INFO : PROGRESS: at 24.92% examples, 292439 words/s, in_qsize 16, out_qsize 0\n",
      "2017-04-10 13:17:08,565 : INFO : PROGRESS: at 26.20% examples, 293475 words/s, in_qsize 15, out_qsize 0\n",
      "2017-04-10 13:17:09,610 : INFO : PROGRESS: at 27.14% examples, 291418 words/s, in_qsize 16, out_qsize 0\n",
      "2017-04-10 13:17:10,629 : INFO : PROGRESS: at 28.27% examples, 291570 words/s, in_qsize 16, out_qsize 0\n",
      "2017-04-10 13:17:11,661 : INFO : PROGRESS: at 29.64% examples, 293669 words/s, in_qsize 16, out_qsize 0\n",
      "2017-04-10 13:17:12,694 : INFO : PROGRESS: at 30.81% examples, 294117 words/s, in_qsize 15, out_qsize 0\n",
      "2017-04-10 13:17:13,712 : INFO : PROGRESS: at 32.15% examples, 295015 words/s, in_qsize 15, out_qsize 0\n",
      "2017-04-10 13:17:14,733 : INFO : PROGRESS: at 33.46% examples, 296924 words/s, in_qsize 16, out_qsize 0\n",
      "2017-04-10 13:17:15,737 : INFO : PROGRESS: at 34.76% examples, 298974 words/s, in_qsize 16, out_qsize 0\n",
      "2017-04-10 13:17:16,777 : INFO : PROGRESS: at 36.07% examples, 300706 words/s, in_qsize 16, out_qsize 0\n",
      "2017-04-10 13:17:17,780 : INFO : PROGRESS: at 37.57% examples, 303094 words/s, in_qsize 16, out_qsize 0\n",
      "2017-04-10 13:17:18,784 : INFO : PROGRESS: at 38.95% examples, 304643 words/s, in_qsize 16, out_qsize 0\n",
      "2017-04-10 13:17:19,819 : INFO : PROGRESS: at 40.29% examples, 305858 words/s, in_qsize 16, out_qsize 0\n",
      "2017-04-10 13:17:20,855 : INFO : PROGRESS: at 41.73% examples, 307437 words/s, in_qsize 16, out_qsize 0\n",
      "2017-04-10 13:17:21,858 : INFO : PROGRESS: at 43.20% examples, 309235 words/s, in_qsize 16, out_qsize 0\n",
      "2017-04-10 13:17:22,877 : INFO : PROGRESS: at 44.49% examples, 310873 words/s, in_qsize 16, out_qsize 0\n",
      "2017-04-10 13:17:23,922 : INFO : PROGRESS: at 46.39% examples, 315068 words/s, in_qsize 15, out_qsize 0\n",
      "2017-04-10 13:17:24,973 : INFO : PROGRESS: at 48.19% examples, 318930 words/s, in_qsize 16, out_qsize 0\n",
      "2017-04-10 13:17:26,029 : INFO : PROGRESS: at 50.14% examples, 323021 words/s, in_qsize 15, out_qsize 0\n",
      "2017-04-10 13:17:27,054 : INFO : PROGRESS: at 52.04% examples, 326655 words/s, in_qsize 16, out_qsize 0\n",
      "2017-04-10 13:17:28,067 : INFO : PROGRESS: at 53.63% examples, 329233 words/s, in_qsize 16, out_qsize 0\n",
      "2017-04-10 13:17:29,078 : INFO : PROGRESS: at 55.28% examples, 332097 words/s, in_qsize 15, out_qsize 0\n",
      "2017-04-10 13:17:30,187 : INFO : PROGRESS: at 56.76% examples, 332899 words/s, in_qsize 15, out_qsize 0\n",
      "2017-04-10 13:17:31,220 : INFO : PROGRESS: at 58.89% examples, 336806 words/s, in_qsize 15, out_qsize 0\n",
      "2017-04-10 13:17:32,239 : INFO : PROGRESS: at 60.60% examples, 339237 words/s, in_qsize 16, out_qsize 0\n",
      "2017-04-10 13:17:33,241 : INFO : PROGRESS: at 62.16% examples, 340529 words/s, in_qsize 15, out_qsize 0\n",
      "2017-04-10 13:17:34,244 : INFO : PROGRESS: at 63.92% examples, 342897 words/s, in_qsize 15, out_qsize 0\n",
      "2017-04-10 13:17:35,262 : INFO : PROGRESS: at 65.72% examples, 345881 words/s, in_qsize 15, out_qsize 0\n",
      "2017-04-10 13:17:36,272 : INFO : PROGRESS: at 67.48% examples, 348412 words/s, in_qsize 16, out_qsize 0\n",
      "2017-04-10 13:17:37,285 : INFO : PROGRESS: at 69.35% examples, 350869 words/s, in_qsize 16, out_qsize 0\n",
      "2017-04-10 13:17:38,292 : INFO : PROGRESS: at 71.21% examples, 353434 words/s, in_qsize 16, out_qsize 0\n",
      "2017-04-10 13:17:39,307 : INFO : PROGRESS: at 72.95% examples, 354962 words/s, in_qsize 15, out_qsize 0\n",
      "2017-04-10 13:17:40,329 : INFO : PROGRESS: at 74.19% examples, 354796 words/s, in_qsize 16, out_qsize 0\n",
      "2017-04-10 13:17:41,332 : INFO : PROGRESS: at 75.36% examples, 354198 words/s, in_qsize 16, out_qsize 0\n",
      "2017-04-10 13:17:42,368 : INFO : PROGRESS: at 76.14% examples, 351654 words/s, in_qsize 16, out_qsize 0\n",
      "2017-04-10 13:17:43,455 : INFO : PROGRESS: at 77.02% examples, 349074 words/s, in_qsize 15, out_qsize 0\n",
      "2017-04-10 13:17:44,464 : INFO : PROGRESS: at 78.28% examples, 348250 words/s, in_qsize 16, out_qsize 0\n",
      "2017-04-10 13:17:45,474 : INFO : PROGRESS: at 79.69% examples, 348313 words/s, in_qsize 16, out_qsize 0\n",
      "2017-04-10 13:17:46,518 : INFO : PROGRESS: at 81.17% examples, 348885 words/s, in_qsize 16, out_qsize 0\n",
      "2017-04-10 13:17:47,528 : INFO : PROGRESS: at 82.65% examples, 349378 words/s, in_qsize 16, out_qsize 0\n",
      "2017-04-10 13:17:48,591 : INFO : PROGRESS: at 84.15% examples, 349862 words/s, in_qsize 15, out_qsize 0\n",
      "2017-04-10 13:17:49,604 : INFO : PROGRESS: at 85.56% examples, 350503 words/s, in_qsize 16, out_qsize 0\n",
      "2017-04-10 13:17:50,636 : INFO : PROGRESS: at 86.96% examples, 350651 words/s, in_qsize 16, out_qsize 0\n",
      "2017-04-10 13:17:51,652 : INFO : PROGRESS: at 88.31% examples, 350751 words/s, in_qsize 16, out_qsize 0\n",
      "2017-04-10 13:17:52,680 : INFO : PROGRESS: at 89.38% examples, 349482 words/s, in_qsize 16, out_qsize 0\n",
      "2017-04-10 13:17:53,715 : INFO : PROGRESS: at 90.48% examples, 348354 words/s, in_qsize 15, out_qsize 0\n",
      "2017-04-10 13:17:54,737 : INFO : PROGRESS: at 91.52% examples, 347141 words/s, in_qsize 15, out_qsize 0\n",
      "2017-04-10 13:17:55,755 : INFO : PROGRESS: at 92.64% examples, 346074 words/s, in_qsize 15, out_qsize 0\n",
      "2017-04-10 13:17:56,776 : INFO : PROGRESS: at 93.67% examples, 345271 words/s, in_qsize 15, out_qsize 1\n",
      "2017-04-10 13:17:57,791 : INFO : PROGRESS: at 95.06% examples, 345812 words/s, in_qsize 16, out_qsize 0\n",
      "2017-04-10 13:17:58,795 : INFO : PROGRESS: at 96.45% examples, 346303 words/s, in_qsize 16, out_qsize 0\n",
      "2017-04-10 13:17:59,796 : INFO : PROGRESS: at 97.97% examples, 346595 words/s, in_qsize 16, out_qsize 0\n",
      "2017-04-10 13:18:00,801 : INFO : PROGRESS: at 99.38% examples, 346826 words/s, in_qsize 16, out_qsize 0\n",
      "2017-04-10 13:18:01,016 : INFO : worker thread finished; awaiting finish of 7 more threads\n",
      "2017-04-10 13:18:01,084 : INFO : worker thread finished; awaiting finish of 6 more threads\n",
      "2017-04-10 13:18:01,106 : INFO : worker thread finished; awaiting finish of 5 more threads\n",
      "2017-04-10 13:18:01,135 : INFO : worker thread finished; awaiting finish of 4 more threads\n",
      "2017-04-10 13:18:01,151 : INFO : worker thread finished; awaiting finish of 3 more threads\n",
      "2017-04-10 13:18:01,152 : INFO : worker thread finished; awaiting finish of 2 more threads\n",
      "2017-04-10 13:18:01,160 : INFO : worker thread finished; awaiting finish of 1 more threads\n",
      "2017-04-10 13:18:01,176 : INFO : worker thread finished; awaiting finish of 0 more threads\n",
      "2017-04-10 13:18:01,177 : INFO : training on 28230780 raw words (26488860 effective words) took 76.3s, 347271 effective words/s\n",
      "2017-04-10 13:18:01,280 : INFO : Docs vector inference started\n",
      "2017-04-10 13:18:01,282 : INFO : Inferring vectors of 43395 documents\n"
     ]
    }
   ],
   "source": [
    "# initialize d2v_wrapper providing as well metadata about the models state\n",
    "d2v_wrapper = D2VWrapper(content_categories=product_list,\n",
    "                         vector_length=500)\n",
    "\n",
    "# EITHER initialize the vocab of documents and minimize the distances of embeddings in training phase\n",
    "d2v_wrapper.init_model_vocab(content_basepath=\"../../data/content/playground/auto/stem\",\n",
    "                             basepath_suffix=\"_content.csv\", drop_short_docs=10)\n",
    "d2v_wrapper.train_model(shuffle=True, epochs=1 if TEST_MODE else 10)\n",
    "\n",
    "# d2v_wrapper.persist_trained_wrapper(\"trained_models/wrapper/\")\n",
    "doc_vectors_labeled = d2v_wrapper.infer_content_vectors()\n",
    "\n",
    "# OR load initialized and trained wrapper if available\n",
    "# d2v_wrapper.load_persisted_wrapper(\"trained_models/wrapper/100train\")"
   ]
  },
  {
   "cell_type": "code",
   "execution_count": 12,
   "metadata": {
    "collapsed": false
   },
   "outputs": [
    {
     "name": "stderr",
     "output_type": "stream",
     "text": [
      "2017-04-10 13:43:58,739 : INFO : Serializing wrapper model to: trained_models/wrapper/10epoch_train_stem\n",
      "2017-04-10 13:43:58,740 : INFO : Persisting docs objects\n",
      "2017-04-10 13:44:06,277 : INFO : Persisting inferred vectors\n",
      "2017-04-10 13:44:24,631 : INFO : Persisting trained Doc2Vec model\n",
      "2017-04-10 13:44:24,632 : INFO : saving Doc2Vec object under trained_models/wrapper/10epoch_train_stemdoc2vec.mod, separately None\n",
      "2017-04-10 13:44:24,632 : INFO : storing numpy array 'doctag_syn0' to trained_models/wrapper/10epoch_train_stemdoc2vec.mod.docvecs.doctag_syn0.npy\n",
      "2017-04-10 13:44:25,348 : INFO : storing numpy array 'syn1neg' to trained_models/wrapper/10epoch_train_stemdoc2vec.mod.syn1neg.npy\n",
      "2017-04-10 13:44:31,301 : INFO : not storing attribute syn0norm\n",
      "2017-04-10 13:44:31,302 : INFO : storing numpy array 'syn0' to trained_models/wrapper/10epoch_train_stemdoc2vec.mod.syn0.npy\n",
      "2017-04-10 13:44:38,159 : INFO : not storing attribute cum_table\n"
     ]
    }
   ],
   "source": [
    "d2v_wrapper.persist_trained_wrapper(\"trained_models/wrapper/10epoch_train_stem\")"
   ]
  },
  {
   "cell_type": "code",
   "execution_count": 13,
   "metadata": {
    "collapsed": false
   },
   "outputs": [],
   "source": [
    "# transform the doc data set into a vector set of the given vector_length\n",
    "doc_vectors = doc_vectors_labeled.iloc[:, :-1]\n",
    "doc_labels = doc_vectors_labeled.iloc[:, -1]"
   ]
  },
  {
   "cell_type": "code",
   "execution_count": 14,
   "metadata": {
    "collapsed": false
   },
   "outputs": [
    {
     "data": {
      "text/plain": [
       "count     43395\n",
       "unique       14\n",
       "top         eap\n",
       "freq      18355\n",
       "Name: y, dtype: object"
      ]
     },
     "execution_count": 14,
     "metadata": {},
     "output_type": "execute_result"
    }
   ],
   "source": [
    "doc_labels.describe()"
   ]
  },
  {
   "cell_type": "code",
   "execution_count": 15,
   "metadata": {
    "collapsed": false,
    "scrolled": false
   },
   "outputs": [],
   "source": [
    "# extended evaluation metric on selected category\n",
    "def accuracy_for_category(y_expected, y_actual, label):\n",
    "    label_expected = y_expected[y_expected == label]\n",
    "    intersect = y_expected[np.where(y_expected == y_actual)]\n",
    "    label_intersect = intersect[intersect == label]\n",
    "    if len(label_expected) == 0:\n",
    "        logging.warn(\"Accuracy of %s category evaluated on 0 samples\" % label)\n",
    "        return 1 if len(label_intersect) == 0 else 0\n",
    "    else:\n",
    "        return float(len(label_intersect)) / len(label_expected)"
   ]
  },
  {
   "cell_type": "code",
   "execution_count": 16,
   "metadata": {
    "collapsed": true,
    "scrolled": false
   },
   "outputs": [],
   "source": [
    "# encoding/decoding target categories\n",
    "mapping = []\n",
    "\n",
    "\n",
    "def encode_categories(target_series):\n",
    "    global mapping\n",
    "    if not len(mapping):\n",
    "        for cat in target_series.unique():\n",
    "            mapping.append(cat)\n",
    "\n",
    "    return target_series.apply(lambda cat_str: mapping.index(cat_str))\n",
    "\n",
    "\n",
    "def decode_categories(target_series):\n",
    "    global mapping\n",
    "    return target_series.apply(lambda cat_idx: mapping[cat_idx])"
   ]
  },
  {
   "cell_type": "code",
   "execution_count": 17,
   "metadata": {
    "collapsed": true
   },
   "outputs": [],
   "source": [
    "# transforms the given content to Tensorflow format\n",
    "def dataset_from_dataframe(data_df, target_series):\n",
    "    dataset = tf.contrib.learn.datasets.base.Dataset(data=data_df.values, target=encode_categories(target_series))\n",
    "    return dataset"
   ]
  },
  {
   "cell_type": "code",
   "execution_count": 30,
   "metadata": {
    "collapsed": false,
    "scrolled": true
   },
   "outputs": [
    {
     "name": "stdout",
     "output_type": "stream",
     "text": [
      "WARNING:tensorflow:Using temporary folder as model directory: /tmp/tmpVhk001\n"
     ]
    },
    {
     "name": "stderr",
     "output_type": "stream",
     "text": [
      "2017-04-10 14:33:19,805 : WARNING : Using temporary folder as model directory: /tmp/tmpVhk001\n"
     ]
    },
    {
     "name": "stdout",
     "output_type": "stream",
     "text": [
      "INFO:tensorflow:Using default config.\n"
     ]
    },
    {
     "name": "stderr",
     "output_type": "stream",
     "text": [
      "2017-04-10 14:33:19,808 : INFO : Using default config.\n"
     ]
    },
    {
     "name": "stdout",
     "output_type": "stream",
     "text": [
      "INFO:tensorflow:Using config: {'_save_checkpoints_secs': 600, '_num_ps_replicas': 0, '_keep_checkpoint_max': 5, '_tf_random_seed': None, '_task_type': None, '_environment': 'local', '_is_chief': True, '_cluster_spec': <tensorflow.python.training.server_lib.ClusterSpec object at 0x7fb2f8188a90>, '_tf_config': gpu_options {\n",
      "  per_process_gpu_memory_fraction: 1\n",
      "}\n",
      ", '_task_id': 0, '_save_summary_steps': 100, '_save_checkpoints_steps': None, '_evaluation_master': '', '_keep_checkpoint_every_n_hours': 10000, '_master': ''}\n"
     ]
    },
    {
     "name": "stderr",
     "output_type": "stream",
     "text": [
      "2017-04-10 14:33:19,809 : INFO : Using config: {'_save_checkpoints_secs': 600, '_num_ps_replicas': 0, '_keep_checkpoint_max': 5, '_tf_random_seed': None, '_task_type': None, '_environment': 'local', '_is_chief': True, '_cluster_spec': <tensorflow.python.training.server_lib.ClusterSpec object at 0x7fb2f8188a90>, '_tf_config': gpu_options {\n",
      "  per_process_gpu_memory_fraction: 1\n",
      "}\n",
      ", '_task_id': 0, '_save_summary_steps': 100, '_save_checkpoints_steps': None, '_evaluation_master': '', '_keep_checkpoint_every_n_hours': 10000, '_master': ''}\n"
     ]
    },
    {
     "name": "stdout",
     "output_type": "stream",
     "text": [
      "WARNING:tensorflow:float64 is not supported by many models, consider casting to float32.\n"
     ]
    },
    {
     "name": "stderr",
     "output_type": "stream",
     "text": [
      "2017-04-10 14:33:19,810 : WARNING : float64 is not supported by many models, consider casting to float32.\n"
     ]
    },
    {
     "name": "stdout",
     "output_type": "stream",
     "text": [
      "WARNING:tensorflow:From /usr/lib/python2.7/site-packages/tensorflow/contrib/learn/python/learn/estimators/head.py:1362: scalar_summary (from tensorflow.python.ops.logging_ops) is deprecated and will be removed after 2016-11-30.\n",
      "Instructions for updating:\n",
      "Please switch to tf.summary.scalar. Note that tf.summary.scalar uses the node name instead of the tag. This means that TensorFlow will automatically de-duplicate summary names based on the scope they are created in. Also, passing a tensor or list of tags to a scalar summary op is no longer supported.\n"
     ]
    },
    {
     "name": "stderr",
     "output_type": "stream",
     "text": [
      "2017-04-10 14:33:19,934 : WARNING : From /usr/lib/python2.7/site-packages/tensorflow/contrib/learn/python/learn/estimators/head.py:1362: scalar_summary (from tensorflow.python.ops.logging_ops) is deprecated and will be removed after 2016-11-30.\n",
      "Instructions for updating:\n",
      "Please switch to tf.summary.scalar. Note that tf.summary.scalar uses the node name instead of the tag. This means that TensorFlow will automatically de-duplicate summary names based on the scope they are created in. Also, passing a tensor or list of tags to a scalar summary op is no longer supported.\n"
     ]
    },
    {
     "name": "stdout",
     "output_type": "stream",
     "text": [
      "INFO:tensorflow:Create CheckpointSaverHook.\n"
     ]
    },
    {
     "name": "stderr",
     "output_type": "stream",
     "text": [
      "2017-04-10 14:33:20,267 : INFO : Create CheckpointSaverHook.\n"
     ]
    },
    {
     "name": "stdout",
     "output_type": "stream",
     "text": [
      "INFO:tensorflow:Saving checkpoints for 1 into /tmp/tmpVhk001/model.ckpt.\n"
     ]
    },
    {
     "name": "stderr",
     "output_type": "stream",
     "text": [
      "2017-04-10 14:33:22,234 : INFO : Saving checkpoints for 1 into /tmp/tmpVhk001/model.ckpt.\n"
     ]
    },
    {
     "name": "stdout",
     "output_type": "stream",
     "text": [
      "INFO:tensorflow:loss = 2.77693, step = 1\n"
     ]
    },
    {
     "name": "stderr",
     "output_type": "stream",
     "text": [
      "2017-04-10 14:33:22,534 : INFO : loss = 2.77693, step = 1\n"
     ]
    },
    {
     "name": "stdout",
     "output_type": "stream",
     "text": [
      "INFO:tensorflow:global_step/sec: 120.566\n"
     ]
    },
    {
     "name": "stderr",
     "output_type": "stream",
     "text": [
      "2017-04-10 14:33:23,362 : INFO : global_step/sec: 120.566\n"
     ]
    },
    {
     "name": "stdout",
     "output_type": "stream",
     "text": [
      "INFO:tensorflow:loss = 0.666651, step = 101\n"
     ]
    },
    {
     "name": "stderr",
     "output_type": "stream",
     "text": [
      "2017-04-10 14:33:23,364 : INFO : loss = 0.666651, step = 101\n"
     ]
    },
    {
     "name": "stdout",
     "output_type": "stream",
     "text": [
      "INFO:tensorflow:global_step/sec: 112.716\n"
     ]
    },
    {
     "name": "stderr",
     "output_type": "stream",
     "text": [
      "2017-04-10 14:33:24,249 : INFO : global_step/sec: 112.716\n"
     ]
    },
    {
     "name": "stdout",
     "output_type": "stream",
     "text": [
      "INFO:tensorflow:loss = 0.781409, step = 201\n"
     ]
    },
    {
     "name": "stderr",
     "output_type": "stream",
     "text": [
      "2017-04-10 14:33:24,252 : INFO : loss = 0.781409, step = 201\n"
     ]
    },
    {
     "name": "stdout",
     "output_type": "stream",
     "text": [
      "INFO:tensorflow:global_step/sec: 111.736\n"
     ]
    },
    {
     "name": "stderr",
     "output_type": "stream",
     "text": [
      "2017-04-10 14:33:25,144 : INFO : global_step/sec: 111.736\n"
     ]
    },
    {
     "name": "stdout",
     "output_type": "stream",
     "text": [
      "INFO:tensorflow:loss = 0.500003, step = 301\n"
     ]
    },
    {
     "name": "stderr",
     "output_type": "stream",
     "text": [
      "2017-04-10 14:33:25,147 : INFO : loss = 0.500003, step = 301\n"
     ]
    },
    {
     "name": "stdout",
     "output_type": "stream",
     "text": [
      "INFO:tensorflow:global_step/sec: 120.967\n"
     ]
    },
    {
     "name": "stderr",
     "output_type": "stream",
     "text": [
      "2017-04-10 14:33:25,971 : INFO : global_step/sec: 120.967\n"
     ]
    },
    {
     "name": "stdout",
     "output_type": "stream",
     "text": [
      "INFO:tensorflow:loss = 0.703301, step = 401\n"
     ]
    },
    {
     "name": "stderr",
     "output_type": "stream",
     "text": [
      "2017-04-10 14:33:25,975 : INFO : loss = 0.703301, step = 401\n"
     ]
    },
    {
     "name": "stdout",
     "output_type": "stream",
     "text": [
      "INFO:tensorflow:Saving checkpoints for 500 into /tmp/tmpVhk001/model.ckpt.\n"
     ]
    },
    {
     "name": "stderr",
     "output_type": "stream",
     "text": [
      "2017-04-10 14:33:26,871 : INFO : Saving checkpoints for 500 into /tmp/tmpVhk001/model.ckpt.\n"
     ]
    },
    {
     "name": "stdout",
     "output_type": "stream",
     "text": [
      "INFO:tensorflow:Loss for final step: 0.510218.\n"
     ]
    },
    {
     "name": "stderr",
     "output_type": "stream",
     "text": [
      "2017-04-10 14:33:27,427 : INFO : Loss for final step: 0.510218.\n"
     ]
    },
    {
     "name": "stdout",
     "output_type": "stream",
     "text": [
      "WARNING:tensorflow:float64 is not supported by many models, consider casting to float32.\n"
     ]
    },
    {
     "name": "stderr",
     "output_type": "stream",
     "text": [
      "2017-04-10 14:33:27,546 : WARNING : float64 is not supported by many models, consider casting to float32.\n",
      "2017-04-10 14:33:28,021 : WARNING : Run accuracy: 0.810225702441\n",
      "2017-04-10 14:33:28,029 : WARNING : Cat accuracies:\n",
      "[0.216, 0.9035685099427949, 0.2430939226519337, 0.15789473684210525, 0.8410548823948681, 0.5213675213675214, 0.4153846153846154, 0.7420333839150227, 0.0, 0.0, 0.9276466108149276, 0.0, 0.047619047619047616, 0.6790582403965304]\n"
     ]
    },
    {
     "name": "stdout",
     "output_type": "stream",
     "text": [
      "WARNING:tensorflow:Using temporary folder as model directory: /tmp/tmpCWY1sx\n"
     ]
    },
    {
     "name": "stderr",
     "output_type": "stream",
     "text": [
      "2017-04-10 14:33:28,200 : WARNING : Using temporary folder as model directory: /tmp/tmpCWY1sx\n"
     ]
    },
    {
     "name": "stdout",
     "output_type": "stream",
     "text": [
      "INFO:tensorflow:Using default config.\n"
     ]
    },
    {
     "name": "stderr",
     "output_type": "stream",
     "text": [
      "2017-04-10 14:33:28,202 : INFO : Using default config.\n"
     ]
    },
    {
     "name": "stdout",
     "output_type": "stream",
     "text": [
      "INFO:tensorflow:Using config: {'_save_checkpoints_secs': 600, '_num_ps_replicas': 0, '_keep_checkpoint_max': 5, '_tf_random_seed': None, '_task_type': None, '_environment': 'local', '_is_chief': True, '_cluster_spec': <tensorflow.python.training.server_lib.ClusterSpec object at 0x7fb306391b50>, '_tf_config': gpu_options {\n",
      "  per_process_gpu_memory_fraction: 1\n",
      "}\n",
      ", '_task_id': 0, '_save_summary_steps': 100, '_save_checkpoints_steps': None, '_evaluation_master': '', '_keep_checkpoint_every_n_hours': 10000, '_master': ''}\n"
     ]
    },
    {
     "name": "stderr",
     "output_type": "stream",
     "text": [
      "2017-04-10 14:33:28,203 : INFO : Using config: {'_save_checkpoints_secs': 600, '_num_ps_replicas': 0, '_keep_checkpoint_max': 5, '_tf_random_seed': None, '_task_type': None, '_environment': 'local', '_is_chief': True, '_cluster_spec': <tensorflow.python.training.server_lib.ClusterSpec object at 0x7fb306391b50>, '_tf_config': gpu_options {\n",
      "  per_process_gpu_memory_fraction: 1\n",
      "}\n",
      ", '_task_id': 0, '_save_summary_steps': 100, '_save_checkpoints_steps': None, '_evaluation_master': '', '_keep_checkpoint_every_n_hours': 10000, '_master': ''}\n"
     ]
    },
    {
     "name": "stdout",
     "output_type": "stream",
     "text": [
      "WARNING:tensorflow:float64 is not supported by many models, consider casting to float32.\n"
     ]
    },
    {
     "name": "stderr",
     "output_type": "stream",
     "text": [
      "2017-04-10 14:33:28,205 : WARNING : float64 is not supported by many models, consider casting to float32.\n"
     ]
    },
    {
     "name": "stdout",
     "output_type": "stream",
     "text": [
      "WARNING:tensorflow:From /usr/lib/python2.7/site-packages/tensorflow/contrib/learn/python/learn/estimators/head.py:1362: scalar_summary (from tensorflow.python.ops.logging_ops) is deprecated and will be removed after 2016-11-30.\n",
      "Instructions for updating:\n",
      "Please switch to tf.summary.scalar. Note that tf.summary.scalar uses the node name instead of the tag. This means that TensorFlow will automatically de-duplicate summary names based on the scope they are created in. Also, passing a tensor or list of tags to a scalar summary op is no longer supported.\n"
     ]
    },
    {
     "name": "stderr",
     "output_type": "stream",
     "text": [
      "2017-04-10 14:33:28,327 : WARNING : From /usr/lib/python2.7/site-packages/tensorflow/contrib/learn/python/learn/estimators/head.py:1362: scalar_summary (from tensorflow.python.ops.logging_ops) is deprecated and will be removed after 2016-11-30.\n",
      "Instructions for updating:\n",
      "Please switch to tf.summary.scalar. Note that tf.summary.scalar uses the node name instead of the tag. This means that TensorFlow will automatically de-duplicate summary names based on the scope they are created in. Also, passing a tensor or list of tags to a scalar summary op is no longer supported.\n"
     ]
    },
    {
     "name": "stdout",
     "output_type": "stream",
     "text": [
      "INFO:tensorflow:Create CheckpointSaverHook.\n"
     ]
    },
    {
     "name": "stderr",
     "output_type": "stream",
     "text": [
      "2017-04-10 14:33:28,677 : INFO : Create CheckpointSaverHook.\n"
     ]
    },
    {
     "name": "stdout",
     "output_type": "stream",
     "text": [
      "INFO:tensorflow:Saving checkpoints for 1 into /tmp/tmpCWY1sx/model.ckpt.\n"
     ]
    },
    {
     "name": "stderr",
     "output_type": "stream",
     "text": [
      "2017-04-10 14:33:30,796 : INFO : Saving checkpoints for 1 into /tmp/tmpCWY1sx/model.ckpt.\n"
     ]
    },
    {
     "name": "stdout",
     "output_type": "stream",
     "text": [
      "INFO:tensorflow:loss = 2.65507, step = 1\n"
     ]
    },
    {
     "name": "stderr",
     "output_type": "stream",
     "text": [
      "2017-04-10 14:33:31,098 : INFO : loss = 2.65507, step = 1\n"
     ]
    },
    {
     "name": "stdout",
     "output_type": "stream",
     "text": [
      "INFO:tensorflow:global_step/sec: 132.109\n"
     ]
    },
    {
     "name": "stderr",
     "output_type": "stream",
     "text": [
      "2017-04-10 14:33:31,854 : INFO : global_step/sec: 132.109\n"
     ]
    },
    {
     "name": "stdout",
     "output_type": "stream",
     "text": [
      "INFO:tensorflow:loss = 0.907223, step = 101\n"
     ]
    },
    {
     "name": "stderr",
     "output_type": "stream",
     "text": [
      "2017-04-10 14:33:31,856 : INFO : loss = 0.907223, step = 101\n"
     ]
    },
    {
     "name": "stdout",
     "output_type": "stream",
     "text": [
      "INFO:tensorflow:global_step/sec: 119.262\n"
     ]
    },
    {
     "name": "stderr",
     "output_type": "stream",
     "text": [
      "2017-04-10 14:33:32,692 : INFO : global_step/sec: 119.262\n"
     ]
    },
    {
     "name": "stdout",
     "output_type": "stream",
     "text": [
      "INFO:tensorflow:loss = 0.755425, step = 201\n"
     ]
    },
    {
     "name": "stderr",
     "output_type": "stream",
     "text": [
      "2017-04-10 14:33:32,696 : INFO : loss = 0.755425, step = 201\n"
     ]
    },
    {
     "name": "stdout",
     "output_type": "stream",
     "text": [
      "INFO:tensorflow:global_step/sec: 123.303\n"
     ]
    },
    {
     "name": "stderr",
     "output_type": "stream",
     "text": [
      "2017-04-10 14:33:33,503 : INFO : global_step/sec: 123.303\n"
     ]
    },
    {
     "name": "stdout",
     "output_type": "stream",
     "text": [
      "INFO:tensorflow:loss = 0.394773, step = 301\n"
     ]
    },
    {
     "name": "stderr",
     "output_type": "stream",
     "text": [
      "2017-04-10 14:33:33,506 : INFO : loss = 0.394773, step = 301\n"
     ]
    },
    {
     "name": "stdout",
     "output_type": "stream",
     "text": [
      "INFO:tensorflow:global_step/sec: 130.608\n"
     ]
    },
    {
     "name": "stderr",
     "output_type": "stream",
     "text": [
      "2017-04-10 14:33:34,269 : INFO : global_step/sec: 130.608\n"
     ]
    },
    {
     "name": "stdout",
     "output_type": "stream",
     "text": [
      "INFO:tensorflow:loss = 0.819241, step = 401\n"
     ]
    },
    {
     "name": "stderr",
     "output_type": "stream",
     "text": [
      "2017-04-10 14:33:34,272 : INFO : loss = 0.819241, step = 401\n"
     ]
    },
    {
     "name": "stdout",
     "output_type": "stream",
     "text": [
      "INFO:tensorflow:Saving checkpoints for 500 into /tmp/tmpCWY1sx/model.ckpt.\n"
     ]
    },
    {
     "name": "stderr",
     "output_type": "stream",
     "text": [
      "2017-04-10 14:33:35,068 : INFO : Saving checkpoints for 500 into /tmp/tmpCWY1sx/model.ckpt.\n"
     ]
    },
    {
     "name": "stdout",
     "output_type": "stream",
     "text": [
      "INFO:tensorflow:Loss for final step: 0.545488.\n"
     ]
    },
    {
     "name": "stderr",
     "output_type": "stream",
     "text": [
      "2017-04-10 14:33:35,627 : INFO : Loss for final step: 0.545488.\n"
     ]
    },
    {
     "name": "stdout",
     "output_type": "stream",
     "text": [
      "WARNING:tensorflow:float64 is not supported by many models, consider casting to float32.\n"
     ]
    },
    {
     "name": "stderr",
     "output_type": "stream",
     "text": [
      "2017-04-10 14:33:35,740 : WARNING : float64 is not supported by many models, consider casting to float32.\n",
      "2017-04-10 14:33:36,168 : WARNING : Run accuracy: 0.796567215759\n",
      "2017-04-10 14:33:36,175 : WARNING : Cat accuracies:\n",
      "[0.256, 0.9256333424135113, 0.2596685082872928, 0.5789473684210527, 0.7633642195295794, 0.5965665236051502, 0.035897435897435895, 0.5516717325227963, 0.0, 0.0, 0.9345011424219345, 0.0, 0.0, 0.7410161090458488]\n"
     ]
    },
    {
     "name": "stdout",
     "output_type": "stream",
     "text": [
      "WARNING:tensorflow:Using temporary folder as model directory: /tmp/tmpQgDT2j\n"
     ]
    },
    {
     "name": "stderr",
     "output_type": "stream",
     "text": [
      "2017-04-10 14:33:36,338 : WARNING : Using temporary folder as model directory: /tmp/tmpQgDT2j\n"
     ]
    },
    {
     "name": "stdout",
     "output_type": "stream",
     "text": [
      "INFO:tensorflow:Using default config.\n"
     ]
    },
    {
     "name": "stderr",
     "output_type": "stream",
     "text": [
      "2017-04-10 14:33:36,339 : INFO : Using default config.\n"
     ]
    },
    {
     "name": "stdout",
     "output_type": "stream",
     "text": [
      "INFO:tensorflow:Using config: {'_save_checkpoints_secs': 600, '_num_ps_replicas': 0, '_keep_checkpoint_max': 5, '_tf_random_seed': None, '_task_type': None, '_environment': 'local', '_is_chief': True, '_cluster_spec': <tensorflow.python.training.server_lib.ClusterSpec object at 0x7fb2fd2abd10>, '_tf_config': gpu_options {\n",
      "  per_process_gpu_memory_fraction: 1\n",
      "}\n",
      ", '_task_id': 0, '_save_summary_steps': 100, '_save_checkpoints_steps': None, '_evaluation_master': '', '_keep_checkpoint_every_n_hours': 10000, '_master': ''}\n"
     ]
    },
    {
     "name": "stderr",
     "output_type": "stream",
     "text": [
      "2017-04-10 14:33:36,340 : INFO : Using config: {'_save_checkpoints_secs': 600, '_num_ps_replicas': 0, '_keep_checkpoint_max': 5, '_tf_random_seed': None, '_task_type': None, '_environment': 'local', '_is_chief': True, '_cluster_spec': <tensorflow.python.training.server_lib.ClusterSpec object at 0x7fb2fd2abd10>, '_tf_config': gpu_options {\n",
      "  per_process_gpu_memory_fraction: 1\n",
      "}\n",
      ", '_task_id': 0, '_save_summary_steps': 100, '_save_checkpoints_steps': None, '_evaluation_master': '', '_keep_checkpoint_every_n_hours': 10000, '_master': ''}\n"
     ]
    },
    {
     "name": "stdout",
     "output_type": "stream",
     "text": [
      "WARNING:tensorflow:float64 is not supported by many models, consider casting to float32.\n"
     ]
    },
    {
     "name": "stderr",
     "output_type": "stream",
     "text": [
      "2017-04-10 14:33:36,342 : WARNING : float64 is not supported by many models, consider casting to float32.\n"
     ]
    },
    {
     "name": "stdout",
     "output_type": "stream",
     "text": [
      "WARNING:tensorflow:From /usr/lib/python2.7/site-packages/tensorflow/contrib/learn/python/learn/estimators/head.py:1362: scalar_summary (from tensorflow.python.ops.logging_ops) is deprecated and will be removed after 2016-11-30.\n",
      "Instructions for updating:\n",
      "Please switch to tf.summary.scalar. Note that tf.summary.scalar uses the node name instead of the tag. This means that TensorFlow will automatically de-duplicate summary names based on the scope they are created in. Also, passing a tensor or list of tags to a scalar summary op is no longer supported.\n"
     ]
    },
    {
     "name": "stderr",
     "output_type": "stream",
     "text": [
      "2017-04-10 14:33:36,426 : WARNING : From /usr/lib/python2.7/site-packages/tensorflow/contrib/learn/python/learn/estimators/head.py:1362: scalar_summary (from tensorflow.python.ops.logging_ops) is deprecated and will be removed after 2016-11-30.\n",
      "Instructions for updating:\n",
      "Please switch to tf.summary.scalar. Note that tf.summary.scalar uses the node name instead of the tag. This means that TensorFlow will automatically de-duplicate summary names based on the scope they are created in. Also, passing a tensor or list of tags to a scalar summary op is no longer supported.\n"
     ]
    },
    {
     "name": "stdout",
     "output_type": "stream",
     "text": [
      "INFO:tensorflow:Create CheckpointSaverHook.\n"
     ]
    },
    {
     "name": "stderr",
     "output_type": "stream",
     "text": [
      "2017-04-10 14:33:36,774 : INFO : Create CheckpointSaverHook.\n"
     ]
    },
    {
     "name": "stdout",
     "output_type": "stream",
     "text": [
      "INFO:tensorflow:Saving checkpoints for 1 into /tmp/tmpQgDT2j/model.ckpt.\n"
     ]
    },
    {
     "name": "stderr",
     "output_type": "stream",
     "text": [
      "2017-04-10 14:33:38,879 : INFO : Saving checkpoints for 1 into /tmp/tmpQgDT2j/model.ckpt.\n"
     ]
    },
    {
     "name": "stdout",
     "output_type": "stream",
     "text": [
      "INFO:tensorflow:loss = 2.72784, step = 1\n"
     ]
    },
    {
     "name": "stderr",
     "output_type": "stream",
     "text": [
      "2017-04-10 14:33:39,179 : INFO : loss = 2.72784, step = 1\n"
     ]
    },
    {
     "name": "stdout",
     "output_type": "stream",
     "text": [
      "INFO:tensorflow:global_step/sec: 112.098\n"
     ]
    },
    {
     "name": "stderr",
     "output_type": "stream",
     "text": [
      "2017-04-10 14:33:40,070 : INFO : global_step/sec: 112.098\n"
     ]
    },
    {
     "name": "stdout",
     "output_type": "stream",
     "text": [
      "INFO:tensorflow:loss = 0.52607, step = 101\n"
     ]
    },
    {
     "name": "stderr",
     "output_type": "stream",
     "text": [
      "2017-04-10 14:33:40,074 : INFO : loss = 0.52607, step = 101\n"
     ]
    },
    {
     "name": "stdout",
     "output_type": "stream",
     "text": [
      "INFO:tensorflow:global_step/sec: 111.335\n"
     ]
    },
    {
     "name": "stderr",
     "output_type": "stream",
     "text": [
      "2017-04-10 14:33:40,968 : INFO : global_step/sec: 111.335\n"
     ]
    },
    {
     "name": "stdout",
     "output_type": "stream",
     "text": [
      "INFO:tensorflow:loss = 0.585352, step = 201\n"
     ]
    },
    {
     "name": "stderr",
     "output_type": "stream",
     "text": [
      "2017-04-10 14:33:40,971 : INFO : loss = 0.585352, step = 201\n"
     ]
    },
    {
     "name": "stdout",
     "output_type": "stream",
     "text": [
      "INFO:tensorflow:global_step/sec: 131.195\n"
     ]
    },
    {
     "name": "stderr",
     "output_type": "stream",
     "text": [
      "2017-04-10 14:33:41,730 : INFO : global_step/sec: 131.195\n"
     ]
    },
    {
     "name": "stdout",
     "output_type": "stream",
     "text": [
      "INFO:tensorflow:loss = 0.543826, step = 301\n"
     ]
    },
    {
     "name": "stderr",
     "output_type": "stream",
     "text": [
      "2017-04-10 14:33:41,734 : INFO : loss = 0.543826, step = 301\n"
     ]
    },
    {
     "name": "stdout",
     "output_type": "stream",
     "text": [
      "INFO:tensorflow:global_step/sec: 134.949\n"
     ]
    },
    {
     "name": "stderr",
     "output_type": "stream",
     "text": [
      "2017-04-10 14:33:42,471 : INFO : global_step/sec: 134.949\n"
     ]
    },
    {
     "name": "stdout",
     "output_type": "stream",
     "text": [
      "INFO:tensorflow:loss = 0.544222, step = 401\n"
     ]
    },
    {
     "name": "stderr",
     "output_type": "stream",
     "text": [
      "2017-04-10 14:33:42,474 : INFO : loss = 0.544222, step = 401\n"
     ]
    },
    {
     "name": "stdout",
     "output_type": "stream",
     "text": [
      "INFO:tensorflow:Saving checkpoints for 500 into /tmp/tmpQgDT2j/model.ckpt.\n"
     ]
    },
    {
     "name": "stderr",
     "output_type": "stream",
     "text": [
      "2017-04-10 14:33:43,237 : INFO : Saving checkpoints for 500 into /tmp/tmpQgDT2j/model.ckpt.\n"
     ]
    },
    {
     "name": "stdout",
     "output_type": "stream",
     "text": [
      "INFO:tensorflow:Loss for final step: 0.710637.\n"
     ]
    },
    {
     "name": "stderr",
     "output_type": "stream",
     "text": [
      "2017-04-10 14:33:43,796 : INFO : Loss for final step: 0.710637.\n"
     ]
    },
    {
     "name": "stdout",
     "output_type": "stream",
     "text": [
      "WARNING:tensorflow:float64 is not supported by many models, consider casting to float32.\n"
     ]
    },
    {
     "name": "stderr",
     "output_type": "stream",
     "text": [
      "2017-04-10 14:33:43,889 : WARNING : float64 is not supported by many models, consider casting to float32.\n",
      "2017-04-10 14:33:44,237 : WARNING : Run accuracy: 0.801451947453\n",
      "2017-04-10 14:33:44,243 : WARNING : Cat accuracies:\n",
      "[0.32, 0.9182783982566058, 0.3314917127071823, 0.543859649122807, 0.8638631503920171, 0.06437768240343347, 0.5230769230769231, 0.5911854103343465, 0.0, 0.0, 0.8628048780487805, 0.0, 0.15, 0.7444168734491315]\n"
     ]
    },
    {
     "name": "stdout",
     "output_type": "stream",
     "text": [
      "WARNING:tensorflow:Using temporary folder as model directory: /tmp/tmpaeA5jn\n"
     ]
    },
    {
     "name": "stderr",
     "output_type": "stream",
     "text": [
      "2017-04-10 14:33:44,403 : WARNING : Using temporary folder as model directory: /tmp/tmpaeA5jn\n"
     ]
    },
    {
     "name": "stdout",
     "output_type": "stream",
     "text": [
      "INFO:tensorflow:Using default config.\n"
     ]
    },
    {
     "name": "stderr",
     "output_type": "stream",
     "text": [
      "2017-04-10 14:33:44,405 : INFO : Using default config.\n"
     ]
    },
    {
     "name": "stdout",
     "output_type": "stream",
     "text": [
      "INFO:tensorflow:Using config: {'_save_checkpoints_secs': 600, '_num_ps_replicas': 0, '_keep_checkpoint_max': 5, '_tf_random_seed': None, '_task_type': None, '_environment': 'local', '_is_chief': True, '_cluster_spec': <tensorflow.python.training.server_lib.ClusterSpec object at 0x7fb301c2aed0>, '_tf_config': gpu_options {\n",
      "  per_process_gpu_memory_fraction: 1\n",
      "}\n",
      ", '_task_id': 0, '_save_summary_steps': 100, '_save_checkpoints_steps': None, '_evaluation_master': '', '_keep_checkpoint_every_n_hours': 10000, '_master': ''}\n"
     ]
    },
    {
     "name": "stderr",
     "output_type": "stream",
     "text": [
      "2017-04-10 14:33:44,407 : INFO : Using config: {'_save_checkpoints_secs': 600, '_num_ps_replicas': 0, '_keep_checkpoint_max': 5, '_tf_random_seed': None, '_task_type': None, '_environment': 'local', '_is_chief': True, '_cluster_spec': <tensorflow.python.training.server_lib.ClusterSpec object at 0x7fb301c2aed0>, '_tf_config': gpu_options {\n",
      "  per_process_gpu_memory_fraction: 1\n",
      "}\n",
      ", '_task_id': 0, '_save_summary_steps': 100, '_save_checkpoints_steps': None, '_evaluation_master': '', '_keep_checkpoint_every_n_hours': 10000, '_master': ''}\n"
     ]
    },
    {
     "name": "stdout",
     "output_type": "stream",
     "text": [
      "WARNING:tensorflow:float64 is not supported by many models, consider casting to float32.\n"
     ]
    },
    {
     "name": "stderr",
     "output_type": "stream",
     "text": [
      "2017-04-10 14:33:44,409 : WARNING : float64 is not supported by many models, consider casting to float32.\n"
     ]
    },
    {
     "name": "stdout",
     "output_type": "stream",
     "text": [
      "WARNING:tensorflow:From /usr/lib/python2.7/site-packages/tensorflow/contrib/learn/python/learn/estimators/head.py:1362: scalar_summary (from tensorflow.python.ops.logging_ops) is deprecated and will be removed after 2016-11-30.\n",
      "Instructions for updating:\n",
      "Please switch to tf.summary.scalar. Note that tf.summary.scalar uses the node name instead of the tag. This means that TensorFlow will automatically de-duplicate summary names based on the scope they are created in. Also, passing a tensor or list of tags to a scalar summary op is no longer supported.\n"
     ]
    },
    {
     "name": "stderr",
     "output_type": "stream",
     "text": [
      "2017-04-10 14:33:44,511 : WARNING : From /usr/lib/python2.7/site-packages/tensorflow/contrib/learn/python/learn/estimators/head.py:1362: scalar_summary (from tensorflow.python.ops.logging_ops) is deprecated and will be removed after 2016-11-30.\n",
      "Instructions for updating:\n",
      "Please switch to tf.summary.scalar. Note that tf.summary.scalar uses the node name instead of the tag. This means that TensorFlow will automatically de-duplicate summary names based on the scope they are created in. Also, passing a tensor or list of tags to a scalar summary op is no longer supported.\n"
     ]
    },
    {
     "name": "stdout",
     "output_type": "stream",
     "text": [
      "INFO:tensorflow:Create CheckpointSaverHook.\n"
     ]
    },
    {
     "name": "stderr",
     "output_type": "stream",
     "text": [
      "2017-04-10 14:33:44,852 : INFO : Create CheckpointSaverHook.\n"
     ]
    },
    {
     "name": "stdout",
     "output_type": "stream",
     "text": [
      "INFO:tensorflow:Saving checkpoints for 1 into /tmp/tmpaeA5jn/model.ckpt.\n"
     ]
    },
    {
     "name": "stderr",
     "output_type": "stream",
     "text": [
      "2017-04-10 14:33:46,789 : INFO : Saving checkpoints for 1 into /tmp/tmpaeA5jn/model.ckpt.\n"
     ]
    },
    {
     "name": "stdout",
     "output_type": "stream",
     "text": [
      "INFO:tensorflow:loss = 2.7876, step = 1\n"
     ]
    },
    {
     "name": "stderr",
     "output_type": "stream",
     "text": [
      "2017-04-10 14:33:47,090 : INFO : loss = 2.7876, step = 1\n"
     ]
    },
    {
     "name": "stdout",
     "output_type": "stream",
     "text": [
      "INFO:tensorflow:global_step/sec: 134.274\n"
     ]
    },
    {
     "name": "stderr",
     "output_type": "stream",
     "text": [
      "2017-04-10 14:33:47,833 : INFO : global_step/sec: 134.274\n"
     ]
    },
    {
     "name": "stdout",
     "output_type": "stream",
     "text": [
      "INFO:tensorflow:loss = 0.591017, step = 101\n"
     ]
    },
    {
     "name": "stderr",
     "output_type": "stream",
     "text": [
      "2017-04-10 14:33:47,836 : INFO : loss = 0.591017, step = 101\n"
     ]
    },
    {
     "name": "stdout",
     "output_type": "stream",
     "text": [
      "INFO:tensorflow:global_step/sec: 130.825\n"
     ]
    },
    {
     "name": "stderr",
     "output_type": "stream",
     "text": [
      "2017-04-10 14:33:48,598 : INFO : global_step/sec: 130.825\n"
     ]
    },
    {
     "name": "stdout",
     "output_type": "stream",
     "text": [
      "INFO:tensorflow:loss = 0.791987, step = 201\n"
     ]
    },
    {
     "name": "stderr",
     "output_type": "stream",
     "text": [
      "2017-04-10 14:33:48,601 : INFO : loss = 0.791987, step = 201\n"
     ]
    },
    {
     "name": "stdout",
     "output_type": "stream",
     "text": [
      "INFO:tensorflow:global_step/sec: 124.253\n"
     ]
    },
    {
     "name": "stderr",
     "output_type": "stream",
     "text": [
      "2017-04-10 14:33:49,402 : INFO : global_step/sec: 124.253\n"
     ]
    },
    {
     "name": "stdout",
     "output_type": "stream",
     "text": [
      "INFO:tensorflow:loss = 0.692845, step = 301\n"
     ]
    },
    {
     "name": "stderr",
     "output_type": "stream",
     "text": [
      "2017-04-10 14:33:49,406 : INFO : loss = 0.692845, step = 301\n"
     ]
    },
    {
     "name": "stdout",
     "output_type": "stream",
     "text": [
      "INFO:tensorflow:global_step/sec: 123.951\n"
     ]
    },
    {
     "name": "stderr",
     "output_type": "stream",
     "text": [
      "2017-04-10 14:33:50,209 : INFO : global_step/sec: 123.951\n"
     ]
    },
    {
     "name": "stdout",
     "output_type": "stream",
     "text": [
      "INFO:tensorflow:loss = 0.686965, step = 401\n"
     ]
    },
    {
     "name": "stderr",
     "output_type": "stream",
     "text": [
      "2017-04-10 14:33:50,212 : INFO : loss = 0.686965, step = 401\n"
     ]
    },
    {
     "name": "stdout",
     "output_type": "stream",
     "text": [
      "INFO:tensorflow:Saving checkpoints for 500 into /tmp/tmpaeA5jn/model.ckpt.\n"
     ]
    },
    {
     "name": "stderr",
     "output_type": "stream",
     "text": [
      "2017-04-10 14:33:51,072 : INFO : Saving checkpoints for 500 into /tmp/tmpaeA5jn/model.ckpt.\n"
     ]
    },
    {
     "name": "stdout",
     "output_type": "stream",
     "text": [
      "INFO:tensorflow:Loss for final step: 0.596727.\n"
     ]
    },
    {
     "name": "stderr",
     "output_type": "stream",
     "text": [
      "2017-04-10 14:33:51,622 : INFO : Loss for final step: 0.596727.\n"
     ]
    },
    {
     "name": "stdout",
     "output_type": "stream",
     "text": [
      "WARNING:tensorflow:float64 is not supported by many models, consider casting to float32.\n"
     ]
    },
    {
     "name": "stderr",
     "output_type": "stream",
     "text": [
      "2017-04-10 14:33:51,717 : WARNING : float64 is not supported by many models, consider casting to float32.\n",
      "2017-04-10 14:33:52,124 : WARNING : Run accuracy: 0.806845683992\n",
      "2017-04-10 14:33:52,134 : WARNING : Cat accuracies:\n",
      "[0.016, 0.906564968673386, 0.03314917127071823, 0.42105263157894735, 0.8638631503920171, 0.5450643776824035, 0.33505154639175255, 0.7872340425531915, 0.0, 0.0, 0.8666158536585366, 0.0, 0.4, 0.7121588089330024]\n"
     ]
    },
    {
     "name": "stdout",
     "output_type": "stream",
     "text": [
      "WARNING:tensorflow:Using temporary folder as model directory: /tmp/tmp_zX5Ve\n"
     ]
    },
    {
     "name": "stderr",
     "output_type": "stream",
     "text": [
      "2017-04-10 14:33:52,371 : WARNING : Using temporary folder as model directory: /tmp/tmp_zX5Ve\n"
     ]
    },
    {
     "name": "stdout",
     "output_type": "stream",
     "text": [
      "INFO:tensorflow:Using default config.\n"
     ]
    },
    {
     "name": "stderr",
     "output_type": "stream",
     "text": [
      "2017-04-10 14:33:52,373 : INFO : Using default config.\n"
     ]
    },
    {
     "name": "stdout",
     "output_type": "stream",
     "text": [
      "INFO:tensorflow:Using config: {'_save_checkpoints_secs': 600, '_num_ps_replicas': 0, '_keep_checkpoint_max': 5, '_tf_random_seed': None, '_task_type': None, '_environment': 'local', '_is_chief': True, '_cluster_spec': <tensorflow.python.training.server_lib.ClusterSpec object at 0x7fb283a30750>, '_tf_config': gpu_options {\n",
      "  per_process_gpu_memory_fraction: 1\n",
      "}\n",
      ", '_task_id': 0, '_save_summary_steps': 100, '_save_checkpoints_steps': None, '_evaluation_master': '', '_keep_checkpoint_every_n_hours': 10000, '_master': ''}\n"
     ]
    },
    {
     "name": "stderr",
     "output_type": "stream",
     "text": [
      "2017-04-10 14:33:52,375 : INFO : Using config: {'_save_checkpoints_secs': 600, '_num_ps_replicas': 0, '_keep_checkpoint_max': 5, '_tf_random_seed': None, '_task_type': None, '_environment': 'local', '_is_chief': True, '_cluster_spec': <tensorflow.python.training.server_lib.ClusterSpec object at 0x7fb283a30750>, '_tf_config': gpu_options {\n",
      "  per_process_gpu_memory_fraction: 1\n",
      "}\n",
      ", '_task_id': 0, '_save_summary_steps': 100, '_save_checkpoints_steps': None, '_evaluation_master': '', '_keep_checkpoint_every_n_hours': 10000, '_master': ''}\n"
     ]
    },
    {
     "name": "stdout",
     "output_type": "stream",
     "text": [
      "WARNING:tensorflow:float64 is not supported by many models, consider casting to float32.\n"
     ]
    },
    {
     "name": "stderr",
     "output_type": "stream",
     "text": [
      "2017-04-10 14:33:52,376 : WARNING : float64 is not supported by many models, consider casting to float32.\n"
     ]
    },
    {
     "name": "stdout",
     "output_type": "stream",
     "text": [
      "WARNING:tensorflow:From /usr/lib/python2.7/site-packages/tensorflow/contrib/learn/python/learn/estimators/head.py:1362: scalar_summary (from tensorflow.python.ops.logging_ops) is deprecated and will be removed after 2016-11-30.\n",
      "Instructions for updating:\n",
      "Please switch to tf.summary.scalar. Note that tf.summary.scalar uses the node name instead of the tag. This means that TensorFlow will automatically de-duplicate summary names based on the scope they are created in. Also, passing a tensor or list of tags to a scalar summary op is no longer supported.\n"
     ]
    },
    {
     "name": "stderr",
     "output_type": "stream",
     "text": [
      "2017-04-10 14:33:52,471 : WARNING : From /usr/lib/python2.7/site-packages/tensorflow/contrib/learn/python/learn/estimators/head.py:1362: scalar_summary (from tensorflow.python.ops.logging_ops) is deprecated and will be removed after 2016-11-30.\n",
      "Instructions for updating:\n",
      "Please switch to tf.summary.scalar. Note that tf.summary.scalar uses the node name instead of the tag. This means that TensorFlow will automatically de-duplicate summary names based on the scope they are created in. Also, passing a tensor or list of tags to a scalar summary op is no longer supported.\n"
     ]
    },
    {
     "name": "stdout",
     "output_type": "stream",
     "text": [
      "INFO:tensorflow:Create CheckpointSaverHook.\n"
     ]
    },
    {
     "name": "stderr",
     "output_type": "stream",
     "text": [
      "2017-04-10 14:33:52,751 : INFO : Create CheckpointSaverHook.\n"
     ]
    },
    {
     "name": "stdout",
     "output_type": "stream",
     "text": [
      "INFO:tensorflow:Saving checkpoints for 1 into /tmp/tmp_zX5Ve/model.ckpt.\n"
     ]
    },
    {
     "name": "stderr",
     "output_type": "stream",
     "text": [
      "2017-04-10 14:33:54,757 : INFO : Saving checkpoints for 1 into /tmp/tmp_zX5Ve/model.ckpt.\n"
     ]
    },
    {
     "name": "stdout",
     "output_type": "stream",
     "text": [
      "INFO:tensorflow:loss = 2.6062, step = 1\n"
     ]
    },
    {
     "name": "stderr",
     "output_type": "stream",
     "text": [
      "2017-04-10 14:33:55,334 : INFO : loss = 2.6062, step = 1\n"
     ]
    },
    {
     "name": "stdout",
     "output_type": "stream",
     "text": [
      "INFO:tensorflow:global_step/sec: 112.607\n"
     ]
    },
    {
     "name": "stderr",
     "output_type": "stream",
     "text": [
      "2017-04-10 14:33:56,220 : INFO : global_step/sec: 112.607\n"
     ]
    },
    {
     "name": "stdout",
     "output_type": "stream",
     "text": [
      "INFO:tensorflow:loss = 0.705735, step = 101\n"
     ]
    },
    {
     "name": "stderr",
     "output_type": "stream",
     "text": [
      "2017-04-10 14:33:56,224 : INFO : loss = 0.705735, step = 101\n"
     ]
    },
    {
     "name": "stdout",
     "output_type": "stream",
     "text": [
      "INFO:tensorflow:global_step/sec: 118.055\n"
     ]
    },
    {
     "name": "stderr",
     "output_type": "stream",
     "text": [
      "2017-04-10 14:33:57,067 : INFO : global_step/sec: 118.055\n"
     ]
    },
    {
     "name": "stdout",
     "output_type": "stream",
     "text": [
      "INFO:tensorflow:loss = 0.916337, step = 201\n"
     ]
    },
    {
     "name": "stderr",
     "output_type": "stream",
     "text": [
      "2017-04-10 14:33:57,071 : INFO : loss = 0.916337, step = 201\n"
     ]
    },
    {
     "name": "stdout",
     "output_type": "stream",
     "text": [
      "INFO:tensorflow:global_step/sec: 130.258\n"
     ]
    },
    {
     "name": "stderr",
     "output_type": "stream",
     "text": [
      "2017-04-10 14:33:57,835 : INFO : global_step/sec: 130.258\n"
     ]
    },
    {
     "name": "stdout",
     "output_type": "stream",
     "text": [
      "INFO:tensorflow:loss = 0.774217, step = 301\n"
     ]
    },
    {
     "name": "stderr",
     "output_type": "stream",
     "text": [
      "2017-04-10 14:33:57,838 : INFO : loss = 0.774217, step = 301\n"
     ]
    },
    {
     "name": "stdout",
     "output_type": "stream",
     "text": [
      "INFO:tensorflow:global_step/sec: 116.585\n"
     ]
    },
    {
     "name": "stderr",
     "output_type": "stream",
     "text": [
      "2017-04-10 14:33:58,693 : INFO : global_step/sec: 116.585\n"
     ]
    },
    {
     "name": "stdout",
     "output_type": "stream",
     "text": [
      "INFO:tensorflow:loss = 0.500316, step = 401\n"
     ]
    },
    {
     "name": "stderr",
     "output_type": "stream",
     "text": [
      "2017-04-10 14:33:58,697 : INFO : loss = 0.500316, step = 401\n"
     ]
    },
    {
     "name": "stdout",
     "output_type": "stream",
     "text": [
      "INFO:tensorflow:Saving checkpoints for 500 into /tmp/tmp_zX5Ve/model.ckpt.\n"
     ]
    },
    {
     "name": "stderr",
     "output_type": "stream",
     "text": [
      "2017-04-10 14:33:59,698 : INFO : Saving checkpoints for 500 into /tmp/tmp_zX5Ve/model.ckpt.\n"
     ]
    },
    {
     "name": "stdout",
     "output_type": "stream",
     "text": [
      "INFO:tensorflow:Loss for final step: 0.587826.\n"
     ]
    },
    {
     "name": "stderr",
     "output_type": "stream",
     "text": [
      "2017-04-10 14:33:59,997 : INFO : Loss for final step: 0.587826.\n"
     ]
    },
    {
     "name": "stdout",
     "output_type": "stream",
     "text": [
      "WARNING:tensorflow:float64 is not supported by many models, consider casting to float32.\n"
     ]
    },
    {
     "name": "stderr",
     "output_type": "stream",
     "text": [
      "2017-04-10 14:34:00,097 : WARNING : float64 is not supported by many models, consider casting to float32.\n",
      "2017-04-10 14:34:00,466 : WARNING : Run accuracy: 0.792276657061\n",
      "2017-04-10 14:34:00,475 : WARNING : Cat accuracies:\n",
      "[0.088, 0.9365295559792972, 0.016666666666666666, 0.15789473684210525, 0.7940128296507484, 0.22746781115879827, 0.4484536082474227, 0.5121580547112462, 0.0, 0.0, 0.9108231707317073, 0.0, 0.25, 0.7704714640198511]\n"
     ]
    }
   ],
   "source": [
    "# classifier training and eval:\n",
    "accuracies = []\n",
    "cat_accuracies = pd.DataFrame(columns=d2v_wrapper.content_categories)\n",
    "correct_logits = pd.DataFrame(columns=[\"actual_prob\", \"expected_prob\", \"actual_class\", \"expected_class\"])\n",
    "\n",
    "# evaluation on CV split persisting the categories respective size on each split\n",
    "strat_kfold = StratifiedKFold(n_splits=2 if TEST_MODE else 5, shuffle=True)\n",
    "\n",
    "for train_doc_indices, test_doc_indices in strat_kfold.split(doc_vectors, doc_labels):\n",
    "    \n",
    "    random.shuffle(train_doc_indices)\n",
    "    random.shuffle(test_doc_indices)\n",
    "    \n",
    "    train_vectors = doc_vectors.iloc[train_doc_indices]\n",
    "\n",
    "    y_true = doc_labels.iloc[train_doc_indices]\n",
    "\n",
    "    tf_dataset = dataset_from_dataframe(train_vectors, y_true)\n",
    "    \n",
    "    # columns are initialized as Tensors fr\n",
    "    feature_columns = [tf.contrib.layers.real_valued_column(\"\", dimension=doc_vectors.shape[1])]\n",
    "    \n",
    "    # init model:\n",
    "    # model consists of two layers as described in [2]\n",
    "    # 1. dense, fully-connected layer with relu act. function\n",
    "    # 2. softmax output layer for classification and further relevance scoring\n",
    "    two_layer_nn_classifier = SKCompat(tf.contrib.learn.DNNClassifier(feature_columns=feature_columns,\n",
    "                                                                  hidden_units=[doc_vectors.shape[1] / 2],\n",
    "                                                                  activation_fn=tf.nn.relu,\n",
    "                                                                  dropout=0.05,\n",
    "                                                                  n_classes=len(d2v_wrapper.content_categories),\n",
    "                                                                  optimizer=\"Adam\"))\n",
    "\n",
    "    two_layer_nn_classifier.fit(x=tf_dataset.data,\n",
    "                                y=tf_dataset.target,\n",
    "                                steps=500 if TEST_MODE else 4000)\n",
    "\n",
    "    # testing\n",
    "    # can be used to infer the relative relevance (or score) of the document for categories    \n",
    "    logits = two_layer_nn_classifier.predict(doc_vectors.iloc[test_doc_indices])\n",
    "    \n",
    "    y_actual = decode_categories(pd.Series(logits[\"classes\"])).values\n",
    "    y_expected = doc_labels.iloc[test_doc_indices].values\n",
    "\n",
    "    # evaluation:\n",
    "    # logits\n",
    "    actual_prob = logits[\"probabilities\"][np.arange(len(logits[\"probabilities\"])),(logits[\"classes\"])]\n",
    "    expected_prob = logits[\"probabilities\"][np.arange(len(logits[\"probabilities\"])),(encode_categories(pd.Series(y_expected)))]\n",
    "    new_logits = pd.DataFrame()\n",
    "    new_logits[\"doc_id\"] = test_doc_indices\n",
    "    new_logits[\"actual_prob\"] = actual_prob\n",
    "    new_logits[\"expected_prob\"] = expected_prob\n",
    "    new_logits[\"actual_class\"] = y_actual\n",
    "    new_logits[\"expected_class\"] = y_expected\n",
    "    correct_logits = correct_logits.append(new_logits)\n",
    "    \n",
    "    # accuracy\n",
    "    split_accuracy = accuracy_score(y_expected, y_actual)\n",
    "    logging.warn(\"Run accuracy: %s\" % split_accuracy)\n",
    "    accuracies.append(split_accuracy)\n",
    "    split_cat_accuracies = map(lambda cat: accuracy_for_category(y_expected, y_actual, cat),\n",
    "                               d2v_wrapper.content_categories)\n",
    "    logging.warn(\"Cat accuracies:\\n%s\" % split_cat_accuracies)\n",
    "    cat_accuracies = cat_accuracies.append(\n",
    "        pd.DataFrame(data=[split_cat_accuracies], columns=d2v_wrapper.content_categories))"
   ]
  },
  {
   "cell_type": "code",
   "execution_count": 31,
   "metadata": {
    "collapsed": false
   },
   "outputs": [
    {
     "name": "stderr",
     "output_type": "stream",
     "text": [
      "2017-04-10 14:35:50,136 : INFO : split accuracies: [0.81022570244127134, 0.79656721575855316, 0.80145194745333026, 0.80684568399216317, 0.79227665706051875]\n",
      "2017-04-10 14:35:50,137 : INFO : mean accuracy: 0.801473441341\n",
      "2017-04-10 14:35:50,145 : INFO : categories accuracies: \n",
      "     amq       eap  webserver  datagrid      fuse      brms  bpmsuite  \\\n",
      "0  0.216  0.903569   0.243094  0.157895  0.841055  0.521368  0.415385   \n",
      "0  0.256  0.925633   0.259669  0.578947  0.763364  0.596567  0.035897   \n",
      "0  0.320  0.918278   0.331492  0.543860  0.863863  0.064378  0.523077   \n",
      "0  0.016  0.906565   0.033149  0.421053  0.863863  0.545064  0.335052   \n",
      "0  0.088  0.936530   0.016667  0.157895  0.794013  0.227468  0.448454   \n",
      "\n",
      "   devstudio  cdk  developertoolset      rhel  softwarecollections  \\\n",
      "0   0.742033  0.0               0.0  0.927647                  0.0   \n",
      "0   0.551672  0.0               0.0  0.934501                  0.0   \n",
      "0   0.591185  0.0               0.0  0.862805                  0.0   \n",
      "0   0.787234  0.0               0.0  0.866616                  0.0   \n",
      "0   0.512158  0.0               0.0  0.910823                  0.0   \n",
      "\n",
      "   mobileplatform  openshift  \n",
      "0        0.047619   0.679058  \n",
      "0        0.000000   0.741016  \n",
      "0        0.150000   0.744417  \n",
      "0        0.400000   0.712159  \n",
      "0        0.250000   0.770471  \n",
      "2017-04-10 14:35:50,147 : INFO : categories accuracies mean: \n",
      "amq                    0.179200\n",
      "eap                    0.918115\n",
      "webserver              0.176814\n",
      "datagrid               0.371930\n",
      "fuse                   0.825232\n",
      "brms                   0.390969\n",
      "bpmsuite               0.351573\n",
      "devstudio              0.636857\n",
      "cdk                    0.000000\n",
      "developertoolset       0.000000\n",
      "rhel                   0.900478\n",
      "softwarecollections    0.000000\n",
      "mobileplatform         0.169524\n",
      "openshift              0.729424\n",
      "dtype: float64\n",
      "2017-04-10 14:35:50,148 : INFO : done\n"
     ]
    }
   ],
   "source": [
    "logging.info(\"split accuracies: %s\" % accuracies)\n",
    "logging.info(\"mean accuracy: %s\" % np.mean(accuracies))\n",
    "logging.info(\"categories accuracies: \\n%s\" % cat_accuracies)\n",
    "logging.info(\"categories accuracies mean: \\n%s\" % cat_accuracies.mean())\n",
    "logging.info(\"done\")"
   ]
  },
  {
   "cell_type": "code",
   "execution_count": 32,
   "metadata": {
    "collapsed": false,
    "scrolled": false
   },
   "outputs": [
    {
     "data": {
      "text/html": [
       "<div>\n",
       "<table border=\"1\" class=\"dataframe\">\n",
       "  <thead>\n",
       "    <tr style=\"text-align: right;\">\n",
       "      <th></th>\n",
       "      <th>label</th>\n",
       "      <th>accuracy</th>\n",
       "      <th>size</th>\n",
       "    </tr>\n",
       "  </thead>\n",
       "  <tbody>\n",
       "    <tr>\n",
       "      <th>11</th>\n",
       "      <td>softwarecollections</td>\n",
       "      <td>0.000000</td>\n",
       "      <td>5</td>\n",
       "    </tr>\n",
       "    <tr>\n",
       "      <th>9</th>\n",
       "      <td>developertoolset</td>\n",
       "      <td>0.000000</td>\n",
       "      <td>12</td>\n",
       "    </tr>\n",
       "    <tr>\n",
       "      <th>8</th>\n",
       "      <td>cdk</td>\n",
       "      <td>0.000000</td>\n",
       "      <td>69</td>\n",
       "    </tr>\n",
       "    <tr>\n",
       "      <th>12</th>\n",
       "      <td>mobileplatform</td>\n",
       "      <td>0.169524</td>\n",
       "      <td>101</td>\n",
       "    </tr>\n",
       "    <tr>\n",
       "      <th>3</th>\n",
       "      <td>datagrid</td>\n",
       "      <td>0.371930</td>\n",
       "      <td>285</td>\n",
       "    </tr>\n",
       "    <tr>\n",
       "      <th>0</th>\n",
       "      <td>amq</td>\n",
       "      <td>0.179200</td>\n",
       "      <td>625</td>\n",
       "    </tr>\n",
       "    <tr>\n",
       "      <th>2</th>\n",
       "      <td>webserver</td>\n",
       "      <td>0.176814</td>\n",
       "      <td>904</td>\n",
       "    </tr>\n",
       "    <tr>\n",
       "      <th>6</th>\n",
       "      <td>bpmsuite</td>\n",
       "      <td>0.351573</td>\n",
       "      <td>973</td>\n",
       "    </tr>\n",
       "    <tr>\n",
       "      <th>5</th>\n",
       "      <td>brms</td>\n",
       "      <td>0.390969</td>\n",
       "      <td>1166</td>\n",
       "    </tr>\n",
       "    <tr>\n",
       "      <th>7</th>\n",
       "      <td>devstudio</td>\n",
       "      <td>0.636857</td>\n",
       "      <td>3291</td>\n",
       "    </tr>\n",
       "    <tr>\n",
       "      <th>13</th>\n",
       "      <td>openshift</td>\n",
       "      <td>0.729424</td>\n",
       "      <td>4032</td>\n",
       "    </tr>\n",
       "    <tr>\n",
       "      <th>10</th>\n",
       "      <td>rhel</td>\n",
       "      <td>0.900478</td>\n",
       "      <td>6562</td>\n",
       "    </tr>\n",
       "    <tr>\n",
       "      <th>4</th>\n",
       "      <td>fuse</td>\n",
       "      <td>0.825232</td>\n",
       "      <td>7015</td>\n",
       "    </tr>\n",
       "    <tr>\n",
       "      <th>1</th>\n",
       "      <td>eap</td>\n",
       "      <td>0.918115</td>\n",
       "      <td>18355</td>\n",
       "    </tr>\n",
       "  </tbody>\n",
       "</table>\n",
       "</div>"
      ],
      "text/plain": [
       "                  label  accuracy   size\n",
       "11  softwarecollections  0.000000      5\n",
       "9      developertoolset  0.000000     12\n",
       "8                   cdk  0.000000     69\n",
       "12       mobileplatform  0.169524    101\n",
       "3              datagrid  0.371930    285\n",
       "0                   amq  0.179200    625\n",
       "2             webserver  0.176814    904\n",
       "6              bpmsuite  0.351573    973\n",
       "5                  brms  0.390969   1166\n",
       "7             devstudio  0.636857   3291\n",
       "13            openshift  0.729424   4032\n",
       "10                 rhel  0.900478   6562\n",
       "4                  fuse  0.825232   7015\n",
       "1                   eap  0.918115  18355"
      ]
     },
     "execution_count": 32,
     "metadata": {},
     "output_type": "execute_result"
    }
   ],
   "source": [
    "# accuracies of categories together with their size\n",
    "\n",
    "labels_size = pd.DataFrame()\n",
    "labels_size[\"label\"] = doc_labels.unique()\n",
    "labels_size[\"accuracy\"] = cat_accuracies.mean().values\n",
    "labels_size[\"size\"] = [len(doc_labels[doc_labels == cat]) for cat in labels_size[\"label\"]]\n",
    "labels_size = labels_size.sort_values(by=[\"size\"])\n",
    "\n",
    "labels_size"
   ]
  },
  {
   "cell_type": "code",
   "execution_count": 35,
   "metadata": {
    "collapsed": false,
    "scrolled": false
   },
   "outputs": [
    {
     "data": {
      "text/html": [
       "<div>\n",
       "<table border=\"1\" class=\"dataframe\">\n",
       "  <thead>\n",
       "    <tr style=\"text-align: right;\">\n",
       "      <th></th>\n",
       "      <th>actual_class</th>\n",
       "      <th>actual_prob</th>\n",
       "      <th>doc_id</th>\n",
       "      <th>expected_class</th>\n",
       "      <th>expected_prob</th>\n",
       "    </tr>\n",
       "  </thead>\n",
       "  <tbody>\n",
       "    <tr>\n",
       "      <th>0</th>\n",
       "      <td>devstudio</td>\n",
       "      <td>0.711019</td>\n",
       "      <td>29527.0</td>\n",
       "      <td>devstudio</td>\n",
       "      <td>0.711019</td>\n",
       "    </tr>\n",
       "    <tr>\n",
       "      <th>1</th>\n",
       "      <td>brms</td>\n",
       "      <td>0.665766</td>\n",
       "      <td>37177.0</td>\n",
       "      <td>rhel</td>\n",
       "      <td>0.056326</td>\n",
       "    </tr>\n",
       "    <tr>\n",
       "      <th>2</th>\n",
       "      <td>fuse</td>\n",
       "      <td>0.999976</td>\n",
       "      <td>23022.0</td>\n",
       "      <td>fuse</td>\n",
       "      <td>0.999976</td>\n",
       "    </tr>\n",
       "    <tr>\n",
       "      <th>3</th>\n",
       "      <td>rhel</td>\n",
       "      <td>0.999999</td>\n",
       "      <td>34557.0</td>\n",
       "      <td>rhel</td>\n",
       "      <td>0.999999</td>\n",
       "    </tr>\n",
       "    <tr>\n",
       "      <th>4</th>\n",
       "      <td>eap</td>\n",
       "      <td>0.997244</td>\n",
       "      <td>10006.0</td>\n",
       "      <td>eap</td>\n",
       "      <td>0.997244</td>\n",
       "    </tr>\n",
       "    <tr>\n",
       "      <th>5</th>\n",
       "      <td>fuse</td>\n",
       "      <td>0.999201</td>\n",
       "      <td>23327.0</td>\n",
       "      <td>fuse</td>\n",
       "      <td>0.999201</td>\n",
       "    </tr>\n",
       "    <tr>\n",
       "      <th>6</th>\n",
       "      <td>fuse</td>\n",
       "      <td>0.987835</td>\n",
       "      <td>20793.0</td>\n",
       "      <td>fuse</td>\n",
       "      <td>0.987835</td>\n",
       "    </tr>\n",
       "    <tr>\n",
       "      <th>7</th>\n",
       "      <td>openshift</td>\n",
       "      <td>0.999999</td>\n",
       "      <td>40469.0</td>\n",
       "      <td>openshift</td>\n",
       "      <td>0.999999</td>\n",
       "    </tr>\n",
       "    <tr>\n",
       "      <th>8</th>\n",
       "      <td>eap</td>\n",
       "      <td>0.831014</td>\n",
       "      <td>4711.0</td>\n",
       "      <td>eap</td>\n",
       "      <td>0.831014</td>\n",
       "    </tr>\n",
       "    <tr>\n",
       "      <th>9</th>\n",
       "      <td>fuse</td>\n",
       "      <td>0.999994</td>\n",
       "      <td>21553.0</td>\n",
       "      <td>fuse</td>\n",
       "      <td>0.999994</td>\n",
       "    </tr>\n",
       "    <tr>\n",
       "      <th>10</th>\n",
       "      <td>eap</td>\n",
       "      <td>0.639383</td>\n",
       "      <td>16119.0</td>\n",
       "      <td>eap</td>\n",
       "      <td>0.639383</td>\n",
       "    </tr>\n",
       "    <tr>\n",
       "      <th>11</th>\n",
       "      <td>eap</td>\n",
       "      <td>0.978723</td>\n",
       "      <td>20120.0</td>\n",
       "      <td>datagrid</td>\n",
       "      <td>0.013679</td>\n",
       "    </tr>\n",
       "    <tr>\n",
       "      <th>12</th>\n",
       "      <td>rhel</td>\n",
       "      <td>0.999927</td>\n",
       "      <td>38045.0</td>\n",
       "      <td>rhel</td>\n",
       "      <td>0.999927</td>\n",
       "    </tr>\n",
       "    <tr>\n",
       "      <th>13</th>\n",
       "      <td>eap</td>\n",
       "      <td>0.977944</td>\n",
       "      <td>18052.0</td>\n",
       "      <td>eap</td>\n",
       "      <td>0.977944</td>\n",
       "    </tr>\n",
       "    <tr>\n",
       "      <th>14</th>\n",
       "      <td>eap</td>\n",
       "      <td>0.532503</td>\n",
       "      <td>3942.0</td>\n",
       "      <td>eap</td>\n",
       "      <td>0.532503</td>\n",
       "    </tr>\n",
       "    <tr>\n",
       "      <th>15</th>\n",
       "      <td>eap</td>\n",
       "      <td>0.272249</td>\n",
       "      <td>31614.0</td>\n",
       "      <td>devstudio</td>\n",
       "      <td>0.100509</td>\n",
       "    </tr>\n",
       "    <tr>\n",
       "      <th>16</th>\n",
       "      <td>fuse</td>\n",
       "      <td>0.948835</td>\n",
       "      <td>25767.0</td>\n",
       "      <td>fuse</td>\n",
       "      <td>0.948835</td>\n",
       "    </tr>\n",
       "    <tr>\n",
       "      <th>17</th>\n",
       "      <td>eap</td>\n",
       "      <td>0.685173</td>\n",
       "      <td>4553.0</td>\n",
       "      <td>eap</td>\n",
       "      <td>0.685173</td>\n",
       "    </tr>\n",
       "    <tr>\n",
       "      <th>18</th>\n",
       "      <td>devstudio</td>\n",
       "      <td>0.946380</td>\n",
       "      <td>32561.0</td>\n",
       "      <td>devstudio</td>\n",
       "      <td>0.946380</td>\n",
       "    </tr>\n",
       "    <tr>\n",
       "      <th>19</th>\n",
       "      <td>rhel</td>\n",
       "      <td>0.999999</td>\n",
       "      <td>34706.0</td>\n",
       "      <td>rhel</td>\n",
       "      <td>0.999999</td>\n",
       "    </tr>\n",
       "    <tr>\n",
       "      <th>20</th>\n",
       "      <td>webserver</td>\n",
       "      <td>0.681483</td>\n",
       "      <td>8936.0</td>\n",
       "      <td>eap</td>\n",
       "      <td>0.213763</td>\n",
       "    </tr>\n",
       "    <tr>\n",
       "      <th>21</th>\n",
       "      <td>eap</td>\n",
       "      <td>0.830907</td>\n",
       "      <td>9878.0</td>\n",
       "      <td>eap</td>\n",
       "      <td>0.830907</td>\n",
       "    </tr>\n",
       "    <tr>\n",
       "      <th>22</th>\n",
       "      <td>fuse</td>\n",
       "      <td>0.999999</td>\n",
       "      <td>22642.0</td>\n",
       "      <td>fuse</td>\n",
       "      <td>0.999999</td>\n",
       "    </tr>\n",
       "    <tr>\n",
       "      <th>23</th>\n",
       "      <td>rhel</td>\n",
       "      <td>0.989419</td>\n",
       "      <td>36963.0</td>\n",
       "      <td>rhel</td>\n",
       "      <td>0.989419</td>\n",
       "    </tr>\n",
       "    <tr>\n",
       "      <th>24</th>\n",
       "      <td>fuse</td>\n",
       "      <td>0.999993</td>\n",
       "      <td>23439.0</td>\n",
       "      <td>fuse</td>\n",
       "      <td>0.999993</td>\n",
       "    </tr>\n",
       "  </tbody>\n",
       "</table>\n",
       "</div>"
      ],
      "text/plain": [
       "   actual_class  actual_prob   doc_id expected_class  expected_prob\n",
       "0     devstudio     0.711019  29527.0      devstudio       0.711019\n",
       "1          brms     0.665766  37177.0           rhel       0.056326\n",
       "2          fuse     0.999976  23022.0           fuse       0.999976\n",
       "3          rhel     0.999999  34557.0           rhel       0.999999\n",
       "4           eap     0.997244  10006.0            eap       0.997244\n",
       "5          fuse     0.999201  23327.0           fuse       0.999201\n",
       "6          fuse     0.987835  20793.0           fuse       0.987835\n",
       "7     openshift     0.999999  40469.0      openshift       0.999999\n",
       "8           eap     0.831014   4711.0            eap       0.831014\n",
       "9          fuse     0.999994  21553.0           fuse       0.999994\n",
       "10          eap     0.639383  16119.0            eap       0.639383\n",
       "11          eap     0.978723  20120.0       datagrid       0.013679\n",
       "12         rhel     0.999927  38045.0           rhel       0.999927\n",
       "13          eap     0.977944  18052.0            eap       0.977944\n",
       "14          eap     0.532503   3942.0            eap       0.532503\n",
       "15          eap     0.272249  31614.0      devstudio       0.100509\n",
       "16         fuse     0.948835  25767.0           fuse       0.948835\n",
       "17          eap     0.685173   4553.0            eap       0.685173\n",
       "18    devstudio     0.946380  32561.0      devstudio       0.946380\n",
       "19         rhel     0.999999  34706.0           rhel       0.999999\n",
       "20    webserver     0.681483   8936.0            eap       0.213763\n",
       "21          eap     0.830907   9878.0            eap       0.830907\n",
       "22         fuse     0.999999  22642.0           fuse       0.999999\n",
       "23         rhel     0.989419  36963.0           rhel       0.989419\n",
       "24         fuse     0.999993  23439.0           fuse       0.999993"
      ]
     },
     "execution_count": 35,
     "metadata": {},
     "output_type": "execute_result"
    }
   ],
   "source": [
    "# computed actual_prob probabilities might be used as ranking system of the relevance of documents towards categories\n",
    "# expected_* marks the real category and its probability estimated by the model, \n",
    "# whereas actual_* marks the selected category (=mostly probable) by the model \n",
    "correct_logits.head(25)"
   ]
  },
  {
   "cell_type": "code",
   "execution_count": 36,
   "metadata": {
    "collapsed": false
   },
   "outputs": [
    {
     "data": {
      "text/html": [
       "<div>\n",
       "<table border=\"1\" class=\"dataframe\">\n",
       "  <thead>\n",
       "    <tr style=\"text-align: right;\">\n",
       "      <th></th>\n",
       "      <th>actual_class</th>\n",
       "      <th>actual_prob</th>\n",
       "      <th>doc_id</th>\n",
       "      <th>expected_class</th>\n",
       "      <th>expected_prob</th>\n",
       "    </tr>\n",
       "  </thead>\n",
       "  <tbody>\n",
       "    <tr>\n",
       "      <th>1</th>\n",
       "      <td>brms</td>\n",
       "      <td>0.665766</td>\n",
       "      <td>37177.0</td>\n",
       "      <td>rhel</td>\n",
       "      <td>0.056326</td>\n",
       "    </tr>\n",
       "    <tr>\n",
       "      <th>11</th>\n",
       "      <td>eap</td>\n",
       "      <td>0.978723</td>\n",
       "      <td>20120.0</td>\n",
       "      <td>datagrid</td>\n",
       "      <td>0.013679</td>\n",
       "    </tr>\n",
       "    <tr>\n",
       "      <th>15</th>\n",
       "      <td>eap</td>\n",
       "      <td>0.272249</td>\n",
       "      <td>31614.0</td>\n",
       "      <td>devstudio</td>\n",
       "      <td>0.100509</td>\n",
       "    </tr>\n",
       "    <tr>\n",
       "      <th>20</th>\n",
       "      <td>webserver</td>\n",
       "      <td>0.681483</td>\n",
       "      <td>8936.0</td>\n",
       "      <td>eap</td>\n",
       "      <td>0.213763</td>\n",
       "    </tr>\n",
       "    <tr>\n",
       "      <th>28</th>\n",
       "      <td>rhel</td>\n",
       "      <td>0.281009</td>\n",
       "      <td>39611.0</td>\n",
       "      <td>openshift</td>\n",
       "      <td>0.222123</td>\n",
       "    </tr>\n",
       "    <tr>\n",
       "      <th>30</th>\n",
       "      <td>eap</td>\n",
       "      <td>0.744599</td>\n",
       "      <td>31565.0</td>\n",
       "      <td>devstudio</td>\n",
       "      <td>0.183973</td>\n",
       "    </tr>\n",
       "    <tr>\n",
       "      <th>44</th>\n",
       "      <td>openshift</td>\n",
       "      <td>0.709106</td>\n",
       "      <td>14948.0</td>\n",
       "      <td>eap</td>\n",
       "      <td>0.280711</td>\n",
       "    </tr>\n",
       "    <tr>\n",
       "      <th>48</th>\n",
       "      <td>eap</td>\n",
       "      <td>0.739745</td>\n",
       "      <td>43363.0</td>\n",
       "      <td>openshift</td>\n",
       "      <td>0.026605</td>\n",
       "    </tr>\n",
       "    <tr>\n",
       "      <th>53</th>\n",
       "      <td>openshift</td>\n",
       "      <td>0.416185</td>\n",
       "      <td>7031.0</td>\n",
       "      <td>eap</td>\n",
       "      <td>0.310379</td>\n",
       "    </tr>\n",
       "    <tr>\n",
       "      <th>57</th>\n",
       "      <td>fuse</td>\n",
       "      <td>0.500730</td>\n",
       "      <td>181.0</td>\n",
       "      <td>amq</td>\n",
       "      <td>0.495092</td>\n",
       "    </tr>\n",
       "    <tr>\n",
       "      <th>58</th>\n",
       "      <td>eap</td>\n",
       "      <td>0.942321</td>\n",
       "      <td>20019.0</td>\n",
       "      <td>datagrid</td>\n",
       "      <td>0.000003</td>\n",
       "    </tr>\n",
       "    <tr>\n",
       "      <th>61</th>\n",
       "      <td>fuse</td>\n",
       "      <td>0.966080</td>\n",
       "      <td>1078.0</td>\n",
       "      <td>eap</td>\n",
       "      <td>0.013677</td>\n",
       "    </tr>\n",
       "    <tr>\n",
       "      <th>62</th>\n",
       "      <td>devstudio</td>\n",
       "      <td>0.964723</td>\n",
       "      <td>9770.0</td>\n",
       "      <td>eap</td>\n",
       "      <td>0.034942</td>\n",
       "    </tr>\n",
       "    <tr>\n",
       "      <th>65</th>\n",
       "      <td>fuse</td>\n",
       "      <td>0.992927</td>\n",
       "      <td>6061.0</td>\n",
       "      <td>eap</td>\n",
       "      <td>0.000970</td>\n",
       "    </tr>\n",
       "    <tr>\n",
       "      <th>66</th>\n",
       "      <td>eap</td>\n",
       "      <td>0.365970</td>\n",
       "      <td>39296.0</td>\n",
       "      <td>mobileplatform</td>\n",
       "      <td>0.005587</td>\n",
       "    </tr>\n",
       "    <tr>\n",
       "      <th>68</th>\n",
       "      <td>eap</td>\n",
       "      <td>0.248400</td>\n",
       "      <td>19031.0</td>\n",
       "      <td>webserver</td>\n",
       "      <td>0.017755</td>\n",
       "    </tr>\n",
       "    <tr>\n",
       "      <th>74</th>\n",
       "      <td>eap</td>\n",
       "      <td>0.520375</td>\n",
       "      <td>19800.0</td>\n",
       "      <td>webserver</td>\n",
       "      <td>0.479301</td>\n",
       "    </tr>\n",
       "    <tr>\n",
       "      <th>78</th>\n",
       "      <td>fuse</td>\n",
       "      <td>0.915250</td>\n",
       "      <td>28879.0</td>\n",
       "      <td>bpmsuite</td>\n",
       "      <td>0.000279</td>\n",
       "    </tr>\n",
       "    <tr>\n",
       "      <th>79</th>\n",
       "      <td>eap</td>\n",
       "      <td>0.261546</td>\n",
       "      <td>19894.0</td>\n",
       "      <td>datagrid</td>\n",
       "      <td>0.022390</td>\n",
       "    </tr>\n",
       "    <tr>\n",
       "      <th>92</th>\n",
       "      <td>fuse</td>\n",
       "      <td>0.477570</td>\n",
       "      <td>513.0</td>\n",
       "      <td>amq</td>\n",
       "      <td>0.134855</td>\n",
       "    </tr>\n",
       "    <tr>\n",
       "      <th>98</th>\n",
       "      <td>webserver</td>\n",
       "      <td>0.576578</td>\n",
       "      <td>3781.0</td>\n",
       "      <td>eap</td>\n",
       "      <td>0.419462</td>\n",
       "    </tr>\n",
       "    <tr>\n",
       "      <th>102</th>\n",
       "      <td>brms</td>\n",
       "      <td>0.617752</td>\n",
       "      <td>1360.0</td>\n",
       "      <td>eap</td>\n",
       "      <td>0.260090</td>\n",
       "    </tr>\n",
       "    <tr>\n",
       "      <th>109</th>\n",
       "      <td>eap</td>\n",
       "      <td>0.471741</td>\n",
       "      <td>42557.0</td>\n",
       "      <td>openshift</td>\n",
       "      <td>0.303752</td>\n",
       "    </tr>\n",
       "    <tr>\n",
       "      <th>110</th>\n",
       "      <td>eap</td>\n",
       "      <td>0.289707</td>\n",
       "      <td>42054.0</td>\n",
       "      <td>openshift</td>\n",
       "      <td>0.158008</td>\n",
       "    </tr>\n",
       "    <tr>\n",
       "      <th>120</th>\n",
       "      <td>eap</td>\n",
       "      <td>0.309151</td>\n",
       "      <td>31455.0</td>\n",
       "      <td>devstudio</td>\n",
       "      <td>0.073758</td>\n",
       "    </tr>\n",
       "  </tbody>\n",
       "</table>\n",
       "</div>"
      ],
      "text/plain": [
       "    actual_class  actual_prob   doc_id  expected_class  expected_prob\n",
       "1           brms     0.665766  37177.0            rhel       0.056326\n",
       "11           eap     0.978723  20120.0        datagrid       0.013679\n",
       "15           eap     0.272249  31614.0       devstudio       0.100509\n",
       "20     webserver     0.681483   8936.0             eap       0.213763\n",
       "28          rhel     0.281009  39611.0       openshift       0.222123\n",
       "30           eap     0.744599  31565.0       devstudio       0.183973\n",
       "44     openshift     0.709106  14948.0             eap       0.280711\n",
       "48           eap     0.739745  43363.0       openshift       0.026605\n",
       "53     openshift     0.416185   7031.0             eap       0.310379\n",
       "57          fuse     0.500730    181.0             amq       0.495092\n",
       "58           eap     0.942321  20019.0        datagrid       0.000003\n",
       "61          fuse     0.966080   1078.0             eap       0.013677\n",
       "62     devstudio     0.964723   9770.0             eap       0.034942\n",
       "65          fuse     0.992927   6061.0             eap       0.000970\n",
       "66           eap     0.365970  39296.0  mobileplatform       0.005587\n",
       "68           eap     0.248400  19031.0       webserver       0.017755\n",
       "74           eap     0.520375  19800.0       webserver       0.479301\n",
       "78          fuse     0.915250  28879.0        bpmsuite       0.000279\n",
       "79           eap     0.261546  19894.0        datagrid       0.022390\n",
       "92          fuse     0.477570    513.0             amq       0.134855\n",
       "98     webserver     0.576578   3781.0             eap       0.419462\n",
       "102         brms     0.617752   1360.0             eap       0.260090\n",
       "109          eap     0.471741  42557.0       openshift       0.303752\n",
       "110          eap     0.289707  42054.0       openshift       0.158008\n",
       "120          eap     0.309151  31455.0       devstudio       0.073758"
      ]
     },
     "execution_count": 36,
     "metadata": {},
     "output_type": "execute_result"
    }
   ],
   "source": [
    "# only missclassifications:\n",
    "correct_logits[correct_logits[\"expected_class\"] != correct_logits[\"actual_class\"]].head(25)"
   ]
  },
  {
   "cell_type": "code",
   "execution_count": 24,
   "metadata": {
    "collapsed": false,
    "scrolled": false
   },
   "outputs": [
    {
     "data": {
      "text/plain": [
       "array(['eap', 'rhel', 'brms', 'openshift', 'fuse', 'devstudio'], dtype=object)"
      ]
     },
     "execution_count": 24,
     "metadata": {},
     "output_type": "execute_result"
    }
   ],
   "source": [
    "biggest_cats = labels_size[\"label\"][-6:]\n",
    "biggest_cats_df = correct_logits[correct_logits[\"expected_class\"].isin(biggest_cats)]\n",
    "biggest_cats_df[\"expected_class\"].unique()"
   ]
  },
  {
   "cell_type": "code",
   "execution_count": 25,
   "metadata": {
    "collapsed": false,
    "scrolled": true
   },
   "outputs": [
    {
     "data": {
      "text/plain": [
       "<matplotlib.axes.AxesSubplot at 0x7fb2eae5e7d0>"
      ]
     },
     "execution_count": 25,
     "metadata": {},
     "output_type": "execute_result"
    },
    {
     "data": {
      "image/png": "[encoded data removed]",
      "text/plain": [
       "<matplotlib.figure.Figure at 0x7fb2f7d96650>"
      ]
     },
     "metadata": {},
     "output_type": "display_data"
    }
   ],
   "source": [
    "# boxplot visualization of the scores of documents against its own category (biggest 6 classes)\n",
    "# the higher the better\n",
    "# we see that it goes much better for bigger categories\n",
    "\n",
    "# boxplot: 50% of data in box, 90% in dashed intervals\n",
    "%matplotlib inline\n",
    "import matplotlib.pyplot as plt\n",
    "\n",
    "join_label_size = labels_size\n",
    "join_label_size[\"expected_class\"] = join_label_size[\"label\"]\n",
    "\n",
    "biggest_cats_df.boxplot(\"expected_prob\", by=\"expected_class\", figsize=(10,5))"
   ]
  },
  {
   "cell_type": "code",
   "execution_count": 38,
   "metadata": {
    "collapsed": false
   },
   "outputs": [
    {
     "data": {
      "text/plain": [
       "count    8615.000000\n",
       "mean      124.281254\n",
       "std       368.620801\n",
       "min        10.000000\n",
       "25%        19.000000\n",
       "50%        31.000000\n",
       "75%        68.000000\n",
       "max      6358.000000\n",
       "Name: doc_id, dtype: float64"
      ]
     },
     "execution_count": 38,
     "metadata": {},
     "output_type": "execute_result"
    }
   ],
   "source": [
    "# incorrect classification characteristics\n",
    "wrong_docs_ids = correct_logits[correct_logits[\"expected_class\"] != correct_logits[\"actual_class\"]][\"doc_id\"]\n",
    "\n",
    "wrong_docs_wordlist = wrong_docs_ids.apply(lambda doc_id: d2v_wrapper.get_doc_content(int(doc_id), word_split=True))\n",
    "wrong_docs_len = wrong_docs_wordlist.apply(lambda doc: len(doc))\n",
    "wrong_docs_len.describe()"
   ]
  },
  {
   "cell_type": "code",
   "execution_count": 43,
   "metadata": {
    "collapsed": false
   },
   "outputs": [
    {
     "data": {
      "text/plain": [
       "count    34780.000000\n",
       "mean       131.554715\n",
       "std        612.542818\n",
       "min         10.000000\n",
       "25%         25.000000\n",
       "50%         38.000000\n",
       "75%         99.000000\n",
       "max      72938.000000\n",
       "dtype: float64"
      ]
     },
     "execution_count": 43,
     "metadata": {},
     "output_type": "execute_result"
    }
   ],
   "source": [
    "# correct classification characteristics\n",
    "all_indices = pd.Series(np.arange(len(doc_vectors)))\n",
    "correct_docs =  all_indices[~all_indices.isin(wrong_docs_ids)]\n",
    "correct_docs_wordlist = correct_docs.apply(lambda doc_id: d2v_wrapper.get_doc_content(doc_id, word_split=True))\n",
    "correct_docs_len = correct_docs_wordlist.apply(lambda doc: len(doc))\n",
    "\n",
    "correct_docs_len.describe()"
   ]
  },
  {
   "cell_type": "code",
   "execution_count": 48,
   "metadata": {
    "collapsed": false
   },
   "outputs": [],
   "source": [
    "correct_logits[\"content_len\"] = correct_logits[\"doc_id\"].apply(lambda doc_id: \n",
    "                                                         len(d2v_wrapper.get_doc_content(int(doc_id), word_split=True)))\n",
    "correct_logits[\"content\"] = correct_logits[\"doc_id\"].apply(lambda doc_id: \n",
    "                                                     d2v_wrapper.get_doc_content(int(doc_id), word_split=False)[:100])"
   ]
  },
  {
   "cell_type": "code",
   "execution_count": 49,
   "metadata": {
    "collapsed": false
   },
   "outputs": [
    {
     "data": {
      "text/html": [
       "<div>\n",
       "<table border=\"1\" class=\"dataframe\">\n",
       "  <thead>\n",
       "    <tr style=\"text-align: right;\">\n",
       "      <th></th>\n",
       "      <th>actual_class</th>\n",
       "      <th>actual_prob</th>\n",
       "      <th>doc_id</th>\n",
       "      <th>expected_class</th>\n",
       "      <th>expected_prob</th>\n",
       "      <th>content</th>\n",
       "      <th>content_len</th>\n",
       "    </tr>\n",
       "  </thead>\n",
       "  <tbody>\n",
       "    <tr>\n",
       "      <th>0</th>\n",
       "      <td>devstudio</td>\n",
       "      <td>0.711019</td>\n",
       "      <td>29527.0</td>\n",
       "      <td>devstudio</td>\n",
       "      <td>0.711019</td>\n",
       "      <td>jbide palett drool enabl disabl previous fulli...</td>\n",
       "      <td>11</td>\n",
       "    </tr>\n",
       "    <tr>\n",
       "      <th>1</th>\n",
       "      <td>brms</td>\n",
       "      <td>0.665766</td>\n",
       "      <td>37177.0</td>\n",
       "      <td>rhel</td>\n",
       "      <td>0.056326</td>\n",
       "      <td>product version level updat visibl red hat jbo...</td>\n",
       "      <td>34</td>\n",
       "    </tr>\n",
       "    <tr>\n",
       "      <th>2</th>\n",
       "      <td>fuse</td>\n",
       "      <td>0.999976</td>\n",
       "      <td>23022.0</td>\n",
       "      <td>fuse</td>\n",
       "      <td>0.999976</td>\n",
       "      <td>contain creat fuse delet properli.npe thrown c...</td>\n",
       "      <td>415</td>\n",
       "    </tr>\n",
       "    <tr>\n",
       "      <th>3</th>\n",
       "      <td>rhel</td>\n",
       "      <td>0.999999</td>\n",
       "      <td>34557.0</td>\n",
       "      <td>rhel</td>\n",
       "      <td>0.999999</td>\n",
       "      <td>buffer overflow cairo truetyp index uc functio...</td>\n",
       "      <td>26</td>\n",
       "    </tr>\n",
       "    <tr>\n",
       "      <th>4</th>\n",
       "      <td>eap</td>\n",
       "      <td>0.997244</td>\n",
       "      <td>10006.0</td>\n",
       "      <td>eap</td>\n",
       "      <td>0.997244</td>\n",
       "      <td>earlier releas jboss quot jboss xml quot file ...</td>\n",
       "      <td>36</td>\n",
       "    </tr>\n",
       "    <tr>\n",
       "      <th>5</th>\n",
       "      <td>fuse</td>\n",
       "      <td>0.999201</td>\n",
       "      <td>23327.0</td>\n",
       "      <td>fuse</td>\n",
       "      <td>0.999201</td>\n",
       "      <td>creat manual camel context rubi.code java.fina...</td>\n",
       "      <td>58</td>\n",
       "    </tr>\n",
       "    <tr>\n",
       "      <th>6</th>\n",
       "      <td>fuse</td>\n",
       "      <td>0.987835</td>\n",
       "      <td>20793.0</td>\n",
       "      <td>fuse</td>\n",
       "      <td>0.987835</td>\n",
       "      <td>need add rbac configur file fusesourc mbean ob...</td>\n",
       "      <td>12</td>\n",
       "    </tr>\n",
       "    <tr>\n",
       "      <th>7</th>\n",
       "      <td>openshift</td>\n",
       "      <td>0.999999</td>\n",
       "      <td>40469.0</td>\n",
       "      <td>openshift</td>\n",
       "      <td>0.999999</td>\n",
       "      <td>try deploi simpl ror openshift rubi mysql app ...</td>\n",
       "      <td>140</td>\n",
       "    </tr>\n",
       "    <tr>\n",
       "      <th>8</th>\n",
       "      <td>eap</td>\n",
       "      <td>0.831014</td>\n",
       "      <td>4711.0</td>\n",
       "      <td>eap</td>\n",
       "      <td>0.831014</td>\n",
       "      <td>look tutori portlet internet good.need migrat ...</td>\n",
       "      <td>48</td>\n",
       "    </tr>\n",
       "    <tr>\n",
       "      <th>9</th>\n",
       "      <td>fuse</td>\n",
       "      <td>0.999994</td>\n",
       "      <td>21553.0</td>\n",
       "      <td>fuse</td>\n",
       "      <td>0.999994</td>\n",
       "      <td>karaf client return welcom messag.regress fuse...</td>\n",
       "      <td>67</td>\n",
       "    </tr>\n",
       "    <tr>\n",
       "      <th>10</th>\n",
       "      <td>eap</td>\n",
       "      <td>0.639383</td>\n",
       "      <td>16119.0</td>\n",
       "      <td>eap</td>\n",
       "      <td>0.639383</td>\n",
       "      <td>want set cluster fail apach httpd jboss eap.do...</td>\n",
       "      <td>146</td>\n",
       "    </tr>\n",
       "    <tr>\n",
       "      <th>11</th>\n",
       "      <td>eap</td>\n",
       "      <td>0.978723</td>\n",
       "      <td>20120.0</td>\n",
       "      <td>datagrid</td>\n",
       "      <td>0.013679</td>\n",
       "      <td>repl async cach usereplqueu quot true quot xsi...</td>\n",
       "      <td>493</td>\n",
       "    </tr>\n",
       "    <tr>\n",
       "      <th>12</th>\n",
       "      <td>rhel</td>\n",
       "      <td>0.999927</td>\n",
       "      <td>38045.0</td>\n",
       "      <td>rhel</td>\n",
       "      <td>0.999927</td>\n",
       "      <td>micron sdcmtfdjaltmbu anab compon http www mic...</td>\n",
       "      <td>34</td>\n",
       "    </tr>\n",
       "    <tr>\n",
       "      <th>13</th>\n",
       "      <td>eap</td>\n",
       "      <td>0.977944</td>\n",
       "      <td>18052.0</td>\n",
       "      <td>eap</td>\n",
       "      <td>0.977944</td>\n",
       "      <td>haven receiv answer question.decid try differ ...</td>\n",
       "      <td>27</td>\n",
       "    </tr>\n",
       "    <tr>\n",
       "      <th>14</th>\n",
       "      <td>eap</td>\n",
       "      <td>0.532503</td>\n",
       "      <td>3942.0</td>\n",
       "      <td>eap</td>\n",
       "      <td>0.532503</td>\n",
       "      <td>recent mod cluster offer capabl mod proxi simi...</td>\n",
       "      <td>24</td>\n",
       "    </tr>\n",
       "    <tr>\n",
       "      <th>15</th>\n",
       "      <td>eap</td>\n",
       "      <td>0.272249</td>\n",
       "      <td>31614.0</td>\n",
       "      <td>devstudio</td>\n",
       "      <td>0.100509</td>\n",
       "      <td>us configur kei creat configur folder temporar...</td>\n",
       "      <td>19</td>\n",
       "    </tr>\n",
       "    <tr>\n",
       "      <th>16</th>\n",
       "      <td>fuse</td>\n",
       "      <td>0.948835</td>\n",
       "      <td>25767.0</td>\n",
       "      <td>fuse</td>\n",
       "      <td>0.948835</td>\n",
       "      <td>let creat child contain edit instanc properti ...</td>\n",
       "      <td>21</td>\n",
       "    </tr>\n",
       "    <tr>\n",
       "      <th>17</th>\n",
       "      <td>eap</td>\n",
       "      <td>0.685173</td>\n",
       "      <td>4553.0</td>\n",
       "      <td>eap</td>\n",
       "      <td>0.685173</td>\n",
       "      <td>current log perform configur standalon xml.log...</td>\n",
       "      <td>17</td>\n",
       "    </tr>\n",
       "    <tr>\n",
       "      <th>18</th>\n",
       "      <td>devstudio</td>\n",
       "      <td>0.946380</td>\n",
       "      <td>32561.0</td>\n",
       "      <td>devstudio</td>\n",
       "      <td>0.946380</td>\n",
       "      <td>jbd new fuse project pick camel archetyp cxf c...</td>\n",
       "      <td>85</td>\n",
       "    </tr>\n",
       "    <tr>\n",
       "      <th>19</th>\n",
       "      <td>rhel</td>\n",
       "      <td>0.999999</td>\n",
       "      <td>34706.0</td>\n",
       "      <td>rhel</td>\n",
       "      <td>0.999999</td>\n",
       "      <td>us free vulner nstexteditrul createmozbr funct...</td>\n",
       "      <td>26</td>\n",
       "    </tr>\n",
       "    <tr>\n",
       "      <th>20</th>\n",
       "      <td>webserver</td>\n",
       "      <td>0.681483</td>\n",
       "      <td>8936.0</td>\n",
       "      <td>eap</td>\n",
       "      <td>0.213763</td>\n",
       "      <td>cve affect apach httpd rhel.cve affect apach h...</td>\n",
       "      <td>18</td>\n",
       "    </tr>\n",
       "    <tr>\n",
       "      <th>21</th>\n",
       "      <td>eap</td>\n",
       "      <td>0.830907</td>\n",
       "      <td>9878.0</td>\n",
       "      <td>eap</td>\n",
       "      <td>0.830907</td>\n",
       "      <td>need larg tcp payload send http header larger ...</td>\n",
       "      <td>18</td>\n",
       "    </tr>\n",
       "    <tr>\n",
       "      <th>22</th>\n",
       "      <td>fuse</td>\n",
       "      <td>0.999999</td>\n",
       "      <td>22642.0</td>\n",
       "      <td>fuse</td>\n",
       "      <td>0.999999</td>\n",
       "      <td>us case need increas valu xmx option remov max...</td>\n",
       "      <td>949</td>\n",
       "    </tr>\n",
       "    <tr>\n",
       "      <th>23</th>\n",
       "      <td>rhel</td>\n",
       "      <td>0.989419</td>\n",
       "      <td>36963.0</td>\n",
       "      <td>rhel</td>\n",
       "      <td>0.989419</td>\n",
       "      <td>perform place upgrad satellit satellit.version...</td>\n",
       "      <td>22</td>\n",
       "    </tr>\n",
       "    <tr>\n",
       "      <th>24</th>\n",
       "      <td>fuse</td>\n",
       "      <td>0.999993</td>\n",
       "      <td>23439.0</td>\n",
       "      <td>fuse</td>\n",
       "      <td>0.999993</td>\n",
       "      <td>custom report error.fuseesb vai root featur in...</td>\n",
       "      <td>35</td>\n",
       "    </tr>\n",
       "  </tbody>\n",
       "</table>\n",
       "</div>"
      ],
      "text/plain": [
       "   actual_class  actual_prob   doc_id expected_class  expected_prob  \\\n",
       "0     devstudio     0.711019  29527.0      devstudio       0.711019   \n",
       "1          brms     0.665766  37177.0           rhel       0.056326   \n",
       "2          fuse     0.999976  23022.0           fuse       0.999976   \n",
       "3          rhel     0.999999  34557.0           rhel       0.999999   \n",
       "4           eap     0.997244  10006.0            eap       0.997244   \n",
       "5          fuse     0.999201  23327.0           fuse       0.999201   \n",
       "6          fuse     0.987835  20793.0           fuse       0.987835   \n",
       "7     openshift     0.999999  40469.0      openshift       0.999999   \n",
       "8           eap     0.831014   4711.0            eap       0.831014   \n",
       "9          fuse     0.999994  21553.0           fuse       0.999994   \n",
       "10          eap     0.639383  16119.0            eap       0.639383   \n",
       "11          eap     0.978723  20120.0       datagrid       0.013679   \n",
       "12         rhel     0.999927  38045.0           rhel       0.999927   \n",
       "13          eap     0.977944  18052.0            eap       0.977944   \n",
       "14          eap     0.532503   3942.0            eap       0.532503   \n",
       "15          eap     0.272249  31614.0      devstudio       0.100509   \n",
       "16         fuse     0.948835  25767.0           fuse       0.948835   \n",
       "17          eap     0.685173   4553.0            eap       0.685173   \n",
       "18    devstudio     0.946380  32561.0      devstudio       0.946380   \n",
       "19         rhel     0.999999  34706.0           rhel       0.999999   \n",
       "20    webserver     0.681483   8936.0            eap       0.213763   \n",
       "21          eap     0.830907   9878.0            eap       0.830907   \n",
       "22         fuse     0.999999  22642.0           fuse       0.999999   \n",
       "23         rhel     0.989419  36963.0           rhel       0.989419   \n",
       "24         fuse     0.999993  23439.0           fuse       0.999993   \n",
       "\n",
       "                                              content  content_len  \n",
       "0   jbide palett drool enabl disabl previous fulli...           11  \n",
       "1   product version level updat visibl red hat jbo...           34  \n",
       "2   contain creat fuse delet properli.npe thrown c...          415  \n",
       "3   buffer overflow cairo truetyp index uc functio...           26  \n",
       "4   earlier releas jboss quot jboss xml quot file ...           36  \n",
       "5   creat manual camel context rubi.code java.fina...           58  \n",
       "6   need add rbac configur file fusesourc mbean ob...           12  \n",
       "7   try deploi simpl ror openshift rubi mysql app ...          140  \n",
       "8   look tutori portlet internet good.need migrat ...           48  \n",
       "9   karaf client return welcom messag.regress fuse...           67  \n",
       "10  want set cluster fail apach httpd jboss eap.do...          146  \n",
       "11  repl async cach usereplqueu quot true quot xsi...          493  \n",
       "12  micron sdcmtfdjaltmbu anab compon http www mic...           34  \n",
       "13  haven receiv answer question.decid try differ ...           27  \n",
       "14  recent mod cluster offer capabl mod proxi simi...           24  \n",
       "15  us configur kei creat configur folder temporar...           19  \n",
       "16  let creat child contain edit instanc properti ...           21  \n",
       "17  current log perform configur standalon xml.log...           17  \n",
       "18  jbd new fuse project pick camel archetyp cxf c...           85  \n",
       "19  us free vulner nstexteditrul createmozbr funct...           26  \n",
       "20  cve affect apach httpd rhel.cve affect apach h...           18  \n",
       "21  need larg tcp payload send http header larger ...           18  \n",
       "22  us case need increas valu xmx option remov max...          949  \n",
       "23  perform place upgrad satellit satellit.version...           22  \n",
       "24  custom report error.fuseesb vai root featur in...           35  "
      ]
     },
     "execution_count": 49,
     "metadata": {},
     "output_type": "execute_result"
    }
   ],
   "source": [
    "correct_logits.head(25)"
   ]
  },
  {
   "cell_type": "code",
   "execution_count": 51,
   "metadata": {
    "collapsed": false
   },
   "outputs": [
    {
     "data": {
      "text/plain": [
       "['ew tomcat support remot access jndi tree abl lookup jndi extern jvm.',\n",
       " 'jboss unrespons thread dump jbossweb thread pool max thread socketread seen sampl http thread stack trace quot http quot daemon prio tid xffc nid runnabl xfdfc java lang thread state runnabl java net socketinputstream socketread nativ method java net socketinputstream read socketinputstream java org apach coyot http internalinputbuff internalinputbuff java org apach coyot http internalinputbuff parserequestlin internalinputbuff java org apach coyot http httpprocessor process httpprocessor java org apach coyot http httpprotocol httpconnectionhandl process httpprotocol java org apach tomcat util net jioendpoint worker run jioendpoint java java lang thread run thread java sampl ajp thread stack trace quot ajp quot daemon prio tid xfbb nid runnabl xfb java lang thread state runnabl java net socketinputstream socketread nativ method java net socketinputstream read socketinputstream java java net socketinputstream read socketinputstream java org apach coyot ajp ajpprocessor read ajpprocessor java org apach coyot ajp ajpprocessor readmessag ajpprocessor java org apach coyot ajp ajpprocessor process ajpprocessor java org apach coyot ajp ajpprotocol ajpconnectionhandl process ajpprotocol java org apach tomcat util net jioendpoint worker run jioendpoint java java lang thread run thread java.',\n",
       " 'app instal red hat mobil app store need updat app instal red hat mobil app store automat updat new version.',\n",
       " 'org hibern consol hibernateconsoleruntimeexcept creat jpa base configur.creat jpa base configur.java lang reflect invocationtargetexcept.java lang reflect invocationtargetexcept.java lang reflect invocationtargetexcept.javax persist persistenceexcept provid persist unit.provid persist unit..',\n",
       " 'wonder possibl monitor java applic run open shift find imposs remot connect visual jconsol port forward unsur wai monitor perform.thank..']"
      ]
     },
     "execution_count": 51,
     "metadata": {},
     "output_type": "execute_result"
    }
   ],
   "source": [
    "wrong_docs_ids.apply(lambda doc_id: d2v_wrapper.get_doc_content(int(doc_id), word_split=False))[125:130].tolist()"
   ]
  },
  {
   "cell_type": "code",
   "execution_count": null,
   "metadata": {
    "collapsed": true
   },
   "outputs": [],
   "source": []
  }
 ],
 "metadata": {
  "kernelspec": {
   "display_name": "Python 2",
   "language": "python",
   "name": "python2"
  },
  "language_info": {
   "codemirror_mode": {
    "name": "ipython",
    "version": 2
   },
   "file_extension": ".py",
   "mimetype": "text/x-python",
   "name": "python",
   "nbconvert_exporter": "python",
   "pygments_lexer": "ipython2",
   "version": "2.7.8"
  }
 },
 "nbformat": 4,
 "nbformat_minor": 0
}
