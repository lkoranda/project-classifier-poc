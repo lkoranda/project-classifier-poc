{
 "cells": [
  {
   "cell_type": "code",
   "execution_count": 1,
   "metadata": {
    "collapsed": false,
    "scrolled": false
   },
   "outputs": [],
   "source": [
    "# a demonstration of use of the two-layered neural network classifier \n",
    "# for content classification on doc2vec docs vectors\n",
    "# where softmax probabilities of the classified content against the given categories can be used as relevance rating\n",
    "# towards the classified categories\n",
    "\n",
    "# references:\n",
    "# [1] https://deeplearning4j.org/word2vec.html\n",
    "# [2] https://deeplearning4j.org/welldressed-recommendation-engine\n",
    "# [3] https://www.tensorflow.org/get_started/tflearn\n",
    "# [4] http://scikit-learn.org/stable/modules/cross_validation.html\n",
    "\n",
    "# author Michal Stefanik  mistefan  at  redhat dot com\n",
    "\n",
    "import numpy as np\n",
    "import pandas as pd\n",
    "import random\n",
    "\n",
    "import tensorflow as tf\n",
    "from tensorflow.contrib.learn.python.learn.estimators.estimator import SKCompat\n",
    "\n",
    "from sklearn.metrics import accuracy_score\n",
    "from sklearn.model_selection import StratifiedKFold\n",
    "\n",
    "# D2VWrapper is our implementation providing vectorization of the documents based on doc2vec\n",
    "from doc2vec_wrapper import D2VWrapper\n",
    "\n",
    "import logging\n",
    "logging.basicConfig(format='%(asctime)s : %(levelname)s : %(message)s', level=logging.INFO)"
   ]
  },
  {
   "cell_type": "code",
   "execution_count": 2,
   "metadata": {
    "collapsed": true,
    "scrolled": false
   },
   "outputs": [],
   "source": [
    "# optimization steps are reduced on TEST_MODE\n",
    "TEST_MODE = False\n",
    "\n",
    "# target categories\n",
    "product_list = [\"amq\", \"eap\", \"webserver\", \"datagrid\", \"fuse\", \"brms\", \"bpmsuite\", \"devstudio\", \"cdk\",\n",
    "                \"developertoolset\", \"rhel\", \"softwarecollections\", \"mobileplatform\", \"openshift\"]"
   ]
  },
  {
   "cell_type": "code",
   "execution_count": 3,
   "metadata": {
    "collapsed": false,
    "scrolled": true
   },
   "outputs": [
    {
     "name": "stderr",
     "output_type": "stream",
     "text": [
      "2017-04-03 13:14:28,055 : INFO : collecting all words and their counts\n",
      "2017-04-03 13:14:28,056 : INFO : PROGRESS: at example #0, processed 0 words (0/s), 0 word types, 0 tags\n",
      "2017-04-03 13:14:28,256 : INFO : PROGRESS: at example #10000, processed 1393592 words (6963052/s), 63275 word types, 10000 tags\n",
      "2017-04-03 13:14:28,431 : INFO : PROGRESS: at example #20000, processed 2550277 words (6658790/s), 95498 word types, 20000 tags\n",
      "2017-04-03 13:14:28,646 : INFO : PROGRESS: at example #30000, processed 4063349 words (7032898/s), 124345 word types, 30000 tags\n",
      "2017-04-03 13:14:28,821 : INFO : PROGRESS: at example #40000, processed 5280834 words (7017935/s), 147174 word types, 40000 tags\n",
      "2017-04-03 13:14:28,993 : INFO : PROGRESS: at example #50000, processed 6427786 words (6667782/s), 175998 word types, 50000 tags\n",
      "2017-04-03 13:14:29,119 : INFO : PROGRESS: at example #60000, processed 7236898 words (6475069/s), 205437 word types, 60000 tags\n",
      "2017-04-03 13:14:29,249 : INFO : PROGRESS: at example #70000, processed 8074421 words (6458778/s), 230072 word types, 70000 tags\n",
      "2017-04-03 13:14:29,295 : INFO : collected 232369 word types and 72253 unique tags from a corpus of 72253 examples and 8337138 words\n",
      "2017-04-03 13:14:29,710 : INFO : min_count=5 retains 50055 unique words (drops 182314)\n",
      "2017-04-03 13:14:29,710 : INFO : min_count leaves 8003594 word corpus (95% of original 8337138)\n",
      "2017-04-03 13:14:29,813 : INFO : deleting the raw counts dictionary of 232369 items\n",
      "2017-04-03 13:14:29,821 : INFO : sample=0 downsamples 0 most-common words\n",
      "2017-04-03 13:14:29,821 : INFO : downsampling leaves estimated 8003594 word corpus (100.0% of prior 8003594)\n",
      "2017-04-03 13:14:29,822 : INFO : estimated required memory for 50055 words and 500 dimensions: 369753500 bytes\n",
      "2017-04-03 13:14:29,973 : INFO : resetting layer weights\n",
      "2017-04-03 13:14:31,715 : INFO : Training D2V model Doc2Vec(dbow,d500,n12,mc5,t8)\n",
      "2017-04-03 13:14:31,716 : INFO : Epoch 0 convergence descent alpha: 0.1\n",
      "2017-04-03 13:14:47,146 : INFO : training model with 8 workers on 50055 vocabulary and 500 features, using sg=1 hs=0 sample=0 negative=12\n",
      "2017-04-03 13:14:47,147 : INFO : expecting 72253 sentences, matching count from corpus used for vocabulary survey\n",
      "2017-04-03 13:14:48,150 : INFO : PROGRESS: at 0.89% examples, 333832 words/s, in_qsize 16, out_qsize 0\n",
      "2017-04-03 13:14:49,197 : INFO : PROGRESS: at 1.80% examples, 333090 words/s, in_qsize 16, out_qsize 0\n",
      "2017-04-03 13:14:50,203 : INFO : PROGRESS: at 2.74% examples, 352416 words/s, in_qsize 16, out_qsize 0\n",
      "2017-04-03 13:14:51,222 : INFO : PROGRESS: at 3.51% examples, 342930 words/s, in_qsize 16, out_qsize 0\n",
      "2017-04-03 13:14:52,223 : INFO : PROGRESS: at 4.36% examples, 343636 words/s, in_qsize 16, out_qsize 0\n",
      "2017-04-03 13:14:53,228 : INFO : PROGRESS: at 5.42% examples, 352691 words/s, in_qsize 16, out_qsize 0\n",
      "2017-04-03 13:14:54,256 : INFO : PROGRESS: at 6.49% examples, 360036 words/s, in_qsize 16, out_qsize 0\n",
      "2017-04-03 13:14:55,271 : INFO : PROGRESS: at 7.53% examples, 367317 words/s, in_qsize 15, out_qsize 0\n",
      "2017-04-03 13:14:56,298 : INFO : PROGRESS: at 8.58% examples, 370850 words/s, in_qsize 15, out_qsize 0\n",
      "2017-04-03 13:14:57,311 : INFO : PROGRESS: at 9.52% examples, 372451 words/s, in_qsize 16, out_qsize 0\n",
      "2017-04-03 13:14:58,365 : INFO : PROGRESS: at 10.64% examples, 373939 words/s, in_qsize 15, out_qsize 0\n",
      "2017-04-03 13:14:59,389 : INFO : PROGRESS: at 11.76% examples, 378302 words/s, in_qsize 15, out_qsize 0\n",
      "2017-04-03 13:15:00,417 : INFO : PROGRESS: at 12.81% examples, 380304 words/s, in_qsize 16, out_qsize 0\n",
      "2017-04-03 13:15:01,419 : INFO : PROGRESS: at 13.86% examples, 383534 words/s, in_qsize 15, out_qsize 0\n",
      "2017-04-03 13:15:02,420 : INFO : PROGRESS: at 14.91% examples, 385559 words/s, in_qsize 15, out_qsize 0\n",
      "2017-04-03 13:15:03,429 : INFO : PROGRESS: at 16.01% examples, 388248 words/s, in_qsize 15, out_qsize 0\n",
      "2017-04-03 13:15:04,432 : INFO : PROGRESS: at 17.04% examples, 390513 words/s, in_qsize 15, out_qsize 0\n",
      "2017-04-03 13:15:05,487 : INFO : PROGRESS: at 18.03% examples, 389331 words/s, in_qsize 15, out_qsize 0\n",
      "2017-04-03 13:15:06,515 : INFO : PROGRESS: at 19.08% examples, 389659 words/s, in_qsize 15, out_qsize 0\n",
      "2017-04-03 13:15:07,522 : INFO : PROGRESS: at 20.12% examples, 392400 words/s, in_qsize 16, out_qsize 0\n",
      "2017-04-03 13:15:08,526 : INFO : PROGRESS: at 21.26% examples, 393815 words/s, in_qsize 16, out_qsize 0\n",
      "2017-04-03 13:15:09,534 : INFO : PROGRESS: at 22.38% examples, 396163 words/s, in_qsize 16, out_qsize 0\n",
      "2017-04-03 13:15:10,547 : INFO : PROGRESS: at 23.39% examples, 397248 words/s, in_qsize 15, out_qsize 0\n",
      "2017-04-03 13:15:11,565 : INFO : PROGRESS: at 24.36% examples, 396780 words/s, in_qsize 16, out_qsize 0\n",
      "2017-04-03 13:15:12,565 : INFO : PROGRESS: at 25.53% examples, 398696 words/s, in_qsize 16, out_qsize 0\n",
      "2017-04-03 13:15:13,581 : INFO : PROGRESS: at 26.67% examples, 400233 words/s, in_qsize 16, out_qsize 0\n",
      "2017-04-03 13:15:14,600 : INFO : PROGRESS: at 27.64% examples, 399451 words/s, in_qsize 15, out_qsize 0\n",
      "2017-04-03 13:15:15,608 : INFO : PROGRESS: at 28.72% examples, 400657 words/s, in_qsize 16, out_qsize 0\n",
      "2017-04-03 13:15:16,651 : INFO : PROGRESS: at 29.69% examples, 399505 words/s, in_qsize 16, out_qsize 0\n",
      "2017-04-03 13:15:17,660 : INFO : PROGRESS: at 30.60% examples, 397607 words/s, in_qsize 16, out_qsize 0\n",
      "2017-04-03 13:15:18,677 : INFO : PROGRESS: at 31.54% examples, 396046 words/s, in_qsize 15, out_qsize 0\n",
      "2017-04-03 13:15:19,687 : INFO : PROGRESS: at 32.35% examples, 393644 words/s, in_qsize 15, out_qsize 0\n",
      "2017-04-03 13:15:20,687 : INFO : PROGRESS: at 33.27% examples, 392632 words/s, in_qsize 16, out_qsize 0\n",
      "2017-04-03 13:15:21,695 : INFO : PROGRESS: at 34.31% examples, 393331 words/s, in_qsize 16, out_qsize 0\n",
      "2017-04-03 13:15:22,723 : INFO : PROGRESS: at 35.41% examples, 394257 words/s, in_qsize 15, out_qsize 0\n",
      "2017-04-03 13:15:23,756 : INFO : PROGRESS: at 36.52% examples, 395373 words/s, in_qsize 16, out_qsize 0\n",
      "2017-04-03 13:15:24,795 : INFO : PROGRESS: at 37.59% examples, 396393 words/s, in_qsize 16, out_qsize 0\n",
      "2017-04-03 13:15:25,822 : INFO : PROGRESS: at 38.81% examples, 397906 words/s, in_qsize 15, out_qsize 0\n",
      "2017-04-03 13:15:26,828 : INFO : PROGRESS: at 39.86% examples, 398752 words/s, in_qsize 15, out_qsize 0\n",
      "2017-04-03 13:15:27,858 : INFO : PROGRESS: at 40.98% examples, 399660 words/s, in_qsize 16, out_qsize 0\n",
      "2017-04-03 13:15:28,880 : INFO : PROGRESS: at 42.18% examples, 400697 words/s, in_qsize 16, out_qsize 0\n",
      "2017-04-03 13:15:29,891 : INFO : PROGRESS: at 43.22% examples, 401759 words/s, in_qsize 16, out_qsize 0\n",
      "2017-04-03 13:15:30,897 : INFO : PROGRESS: at 44.26% examples, 402176 words/s, in_qsize 15, out_qsize 0\n",
      "2017-04-03 13:15:31,900 : INFO : PROGRESS: at 45.28% examples, 401713 words/s, in_qsize 15, out_qsize 0\n",
      "2017-04-03 13:15:32,924 : INFO : PROGRESS: at 46.48% examples, 402775 words/s, in_qsize 15, out_qsize 0\n",
      "2017-04-03 13:15:33,933 : INFO : PROGRESS: at 47.57% examples, 403679 words/s, in_qsize 15, out_qsize 1\n",
      "2017-04-03 13:15:34,936 : INFO : PROGRESS: at 48.75% examples, 405038 words/s, in_qsize 15, out_qsize 0\n",
      "2017-04-03 13:15:35,939 : INFO : PROGRESS: at 49.79% examples, 405154 words/s, in_qsize 16, out_qsize 0\n",
      "2017-04-03 13:15:36,945 : INFO : PROGRESS: at 50.88% examples, 405314 words/s, in_qsize 16, out_qsize 0\n",
      "2017-04-03 13:15:37,958 : INFO : PROGRESS: at 51.87% examples, 404750 words/s, in_qsize 15, out_qsize 0\n",
      "2017-04-03 13:15:38,989 : INFO : PROGRESS: at 53.00% examples, 405233 words/s, in_qsize 16, out_qsize 0\n",
      "2017-04-03 13:15:40,006 : INFO : PROGRESS: at 54.10% examples, 405933 words/s, in_qsize 15, out_qsize 0\n",
      "2017-04-03 13:15:41,011 : INFO : PROGRESS: at 55.05% examples, 405299 words/s, in_qsize 16, out_qsize 0\n",
      "2017-04-03 13:15:42,015 : INFO : PROGRESS: at 56.01% examples, 404772 words/s, in_qsize 15, out_qsize 0\n",
      "2017-04-03 13:15:43,041 : INFO : PROGRESS: at 56.91% examples, 404076 words/s, in_qsize 15, out_qsize 0\n",
      "2017-04-03 13:15:44,043 : INFO : PROGRESS: at 57.89% examples, 403908 words/s, in_qsize 16, out_qsize 0\n",
      "2017-04-03 13:15:45,045 : INFO : PROGRESS: at 59.02% examples, 404260 words/s, in_qsize 15, out_qsize 0\n",
      "2017-04-03 13:15:46,046 : INFO : PROGRESS: at 59.98% examples, 404350 words/s, in_qsize 16, out_qsize 0\n",
      "2017-04-03 13:15:47,056 : INFO : PROGRESS: at 61.08% examples, 404667 words/s, in_qsize 16, out_qsize 0\n",
      "2017-04-03 13:15:48,065 : INFO : PROGRESS: at 62.10% examples, 404441 words/s, in_qsize 16, out_qsize 0\n",
      "2017-04-03 13:15:49,082 : INFO : PROGRESS: at 63.13% examples, 404913 words/s, in_qsize 16, out_qsize 0\n",
      "2017-04-03 13:15:50,101 : INFO : PROGRESS: at 64.31% examples, 405958 words/s, in_qsize 16, out_qsize 0\n",
      "2017-04-03 13:15:51,109 : INFO : PROGRESS: at 65.48% examples, 406533 words/s, in_qsize 16, out_qsize 1\n",
      "2017-04-03 13:15:52,116 : INFO : PROGRESS: at 66.69% examples, 407517 words/s, in_qsize 16, out_qsize 0\n",
      "2017-04-03 13:15:53,123 : INFO : PROGRESS: at 67.93% examples, 408646 words/s, in_qsize 15, out_qsize 0\n",
      "2017-04-03 13:15:54,171 : INFO : PROGRESS: at 69.09% examples, 409336 words/s, in_qsize 15, out_qsize 0\n",
      "2017-04-03 13:15:55,183 : INFO : PROGRESS: at 70.29% examples, 409955 words/s, in_qsize 15, out_qsize 0\n",
      "2017-04-03 13:15:56,187 : INFO : PROGRESS: at 71.51% examples, 410852 words/s, in_qsize 15, out_qsize 0\n",
      "2017-04-03 13:15:57,225 : INFO : PROGRESS: at 72.70% examples, 411412 words/s, in_qsize 16, out_qsize 0\n",
      "2017-04-03 13:15:58,252 : INFO : PROGRESS: at 73.84% examples, 412009 words/s, in_qsize 15, out_qsize 0\n",
      "2017-04-03 13:15:59,270 : INFO : PROGRESS: at 75.02% examples, 412712 words/s, in_qsize 15, out_qsize 0\n",
      "2017-04-03 13:16:00,312 : INFO : PROGRESS: at 76.16% examples, 413104 words/s, in_qsize 16, out_qsize 0\n",
      "2017-04-03 13:16:01,324 : INFO : PROGRESS: at 77.31% examples, 413958 words/s, in_qsize 15, out_qsize 0\n",
      "2017-04-03 13:16:02,363 : INFO : PROGRESS: at 78.48% examples, 414323 words/s, in_qsize 15, out_qsize 0\n",
      "2017-04-03 13:16:03,370 : INFO : PROGRESS: at 79.69% examples, 414909 words/s, in_qsize 15, out_qsize 0\n",
      "2017-04-03 13:16:04,372 : INFO : PROGRESS: at 80.84% examples, 415524 words/s, in_qsize 15, out_qsize 0\n",
      "2017-04-03 13:16:05,386 : INFO : PROGRESS: at 82.04% examples, 416196 words/s, in_qsize 16, out_qsize 0\n",
      "2017-04-03 13:16:06,420 : INFO : PROGRESS: at 83.14% examples, 416683 words/s, in_qsize 15, out_qsize 0\n",
      "2017-04-03 13:16:07,422 : INFO : PROGRESS: at 84.34% examples, 417446 words/s, in_qsize 15, out_qsize 0\n",
      "2017-04-03 13:16:08,439 : INFO : PROGRESS: at 85.48% examples, 417587 words/s, in_qsize 15, out_qsize 0\n",
      "2017-04-03 13:16:09,453 : INFO : PROGRESS: at 86.67% examples, 418088 words/s, in_qsize 16, out_qsize 0\n",
      "2017-04-03 13:16:10,489 : INFO : PROGRESS: at 87.77% examples, 418154 words/s, in_qsize 15, out_qsize 0\n",
      "2017-04-03 13:16:11,497 : INFO : PROGRESS: at 88.88% examples, 418395 words/s, in_qsize 16, out_qsize 0\n",
      "2017-04-03 13:16:12,537 : INFO : PROGRESS: at 89.77% examples, 417457 words/s, in_qsize 15, out_qsize 0\n",
      "2017-04-03 13:16:13,541 : INFO : PROGRESS: at 90.74% examples, 416876 words/s, in_qsize 16, out_qsize 0\n",
      "2017-04-03 13:16:14,554 : INFO : PROGRESS: at 91.65% examples, 416007 words/s, in_qsize 15, out_qsize 0\n",
      "2017-04-03 13:16:15,547 : INFO : PROGRESS: at 92.52% examples, 415244 words/s, in_qsize 16, out_qsize 0\n",
      "2017-04-03 13:16:16,567 : INFO : PROGRESS: at 93.39% examples, 414290 words/s, in_qsize 15, out_qsize 0\n",
      "2017-04-03 13:16:17,678 : INFO : PROGRESS: at 94.31% examples, 413347 words/s, in_qsize 16, out_qsize 0\n",
      "2017-04-03 13:16:18,737 : INFO : PROGRESS: at 95.25% examples, 412629 words/s, in_qsize 16, out_qsize 0\n",
      "2017-04-03 13:16:19,787 : INFO : PROGRESS: at 96.16% examples, 412013 words/s, in_qsize 16, out_qsize 0\n",
      "2017-04-03 13:16:20,792 : INFO : PROGRESS: at 97.03% examples, 411339 words/s, in_qsize 16, out_qsize 0\n",
      "2017-04-03 13:16:21,811 : INFO : PROGRESS: at 97.93% examples, 410801 words/s, in_qsize 15, out_qsize 0\n",
      "2017-04-03 13:16:22,881 : INFO : PROGRESS: at 98.77% examples, 409584 words/s, in_qsize 16, out_qsize 0\n",
      "2017-04-03 13:16:23,930 : INFO : PROGRESS: at 99.62% examples, 408493 words/s, in_qsize 16, out_qsize 0\n",
      "2017-04-03 13:16:24,283 : INFO : worker thread finished; awaiting finish of 7 more threads\n",
      "2017-04-03 13:16:24,303 : INFO : worker thread finished; awaiting finish of 6 more threads\n",
      "2017-04-03 13:16:24,316 : INFO : worker thread finished; awaiting finish of 5 more threads\n",
      "2017-04-03 13:16:24,329 : INFO : worker thread finished; awaiting finish of 4 more threads\n",
      "2017-04-03 13:16:24,332 : INFO : worker thread finished; awaiting finish of 3 more threads\n",
      "2017-04-03 13:16:24,343 : INFO : worker thread finished; awaiting finish of 2 more threads\n",
      "2017-04-03 13:16:24,376 : INFO : worker thread finished; awaiting finish of 1 more threads\n",
      "2017-04-03 13:16:24,385 : INFO : worker thread finished; awaiting finish of 0 more threads\n",
      "2017-04-03 13:16:24,386 : INFO : training on 41685690 raw words (39719350 effective words) took 97.2s, 408484 effective words/s\n",
      "2017-04-03 13:16:24,386 : INFO : Training D2V model Doc2Vec(dbow,d500,n12,mc5,t8)\n",
      "2017-04-03 13:16:24,386 : INFO : Epoch 1 convergence descent alpha: 0.1\n",
      "2017-04-03 13:16:40,257 : INFO : training model with 8 workers on 50055 vocabulary and 500 features, using sg=1 hs=0 sample=0 negative=12\n",
      "2017-04-03 13:16:40,259 : INFO : expecting 72253 sentences, matching count from corpus used for vocabulary survey\n",
      "2017-04-03 13:16:41,265 : INFO : PROGRESS: at 0.64% examples, 262868 words/s, in_qsize 16, out_qsize 0\n",
      "2017-04-03 13:16:42,448 : INFO : PROGRESS: at 1.43% examples, 237230 words/s, in_qsize 15, out_qsize 0\n",
      "2017-04-03 13:16:43,462 : INFO : PROGRESS: at 2.02% examples, 230194 words/s, in_qsize 16, out_qsize 0\n",
      "2017-04-03 13:16:44,483 : INFO : PROGRESS: at 2.52% examples, 220431 words/s, in_qsize 16, out_qsize 0\n",
      "2017-04-03 13:16:45,488 : INFO : PROGRESS: at 3.05% examples, 215155 words/s, in_qsize 15, out_qsize 0\n",
      "2017-04-03 13:16:46,545 : INFO : PROGRESS: at 3.54% examples, 209642 words/s, in_qsize 15, out_qsize 0\n",
      "2017-04-03 13:16:47,563 : INFO : PROGRESS: at 4.16% examples, 213426 words/s, in_qsize 16, out_qsize 0\n",
      "2017-04-03 13:16:48,610 : INFO : PROGRESS: at 4.66% examples, 210102 words/s, in_qsize 15, out_qsize 0\n",
      "2017-04-03 13:16:49,757 : INFO : PROGRESS: at 5.13% examples, 203473 words/s, in_qsize 15, out_qsize 0\n",
      "2017-04-03 13:16:50,765 : INFO : PROGRESS: at 5.61% examples, 200917 words/s, in_qsize 15, out_qsize 0\n",
      "2017-04-03 13:16:51,792 : INFO : PROGRESS: at 6.08% examples, 200263 words/s, in_qsize 16, out_qsize 0\n",
      "2017-04-03 13:16:52,907 : INFO : PROGRESS: at 6.60% examples, 200973 words/s, in_qsize 16, out_qsize 0\n",
      "2017-04-03 13:16:53,930 : INFO : PROGRESS: at 7.14% examples, 202761 words/s, in_qsize 16, out_qsize 0\n",
      "2017-04-03 13:16:55,075 : INFO : PROGRESS: at 7.68% examples, 202844 words/s, in_qsize 15, out_qsize 0\n",
      "2017-04-03 13:16:56,084 : INFO : PROGRESS: at 8.21% examples, 203095 words/s, in_qsize 16, out_qsize 0\n",
      "2017-04-03 13:16:57,147 : INFO : PROGRESS: at 8.62% examples, 200421 words/s, in_qsize 15, out_qsize 0\n",
      "2017-04-03 13:16:58,216 : INFO : PROGRESS: at 9.05% examples, 197664 words/s, in_qsize 15, out_qsize 0\n",
      "2017-04-03 13:16:59,231 : INFO : PROGRESS: at 9.43% examples, 195018 words/s, in_qsize 16, out_qsize 0\n",
      "2017-04-03 13:17:00,250 : INFO : PROGRESS: at 9.84% examples, 192973 words/s, in_qsize 15, out_qsize 0\n",
      "2017-04-03 13:17:01,357 : INFO : PROGRESS: at 10.38% examples, 192299 words/s, in_qsize 16, out_qsize 0\n",
      "2017-04-03 13:17:02,397 : INFO : PROGRESS: at 10.92% examples, 192255 words/s, in_qsize 16, out_qsize 0\n",
      "2017-04-03 13:17:03,556 : INFO : PROGRESS: at 11.47% examples, 191851 words/s, in_qsize 16, out_qsize 0\n",
      "2017-04-03 13:17:04,598 : INFO : PROGRESS: at 11.92% examples, 191179 words/s, in_qsize 15, out_qsize 0\n",
      "2017-04-03 13:17:05,624 : INFO : PROGRESS: at 12.36% examples, 191017 words/s, in_qsize 16, out_qsize 0\n",
      "2017-04-03 13:17:06,673 : INFO : PROGRESS: at 12.93% examples, 191580 words/s, in_qsize 15, out_qsize 0\n",
      "2017-04-03 13:17:07,702 : INFO : PROGRESS: at 13.45% examples, 192500 words/s, in_qsize 16, out_qsize 0\n",
      "2017-04-03 13:17:08,737 : INFO : PROGRESS: at 13.96% examples, 192858 words/s, in_qsize 15, out_qsize 0\n",
      "2017-04-03 13:17:09,825 : INFO : PROGRESS: at 14.54% examples, 193836 words/s, in_qsize 15, out_qsize 0\n",
      "2017-04-03 13:17:10,812 : INFO : PROGRESS: at 15.07% examples, 194980 words/s, in_qsize 16, out_qsize 0\n",
      "2017-04-03 13:17:11,814 : INFO : PROGRESS: at 15.59% examples, 195264 words/s, in_qsize 16, out_qsize 0\n",
      "2017-04-03 13:17:12,856 : INFO : PROGRESS: at 16.12% examples, 195858 words/s, in_qsize 15, out_qsize 0\n",
      "2017-04-03 13:17:13,867 : INFO : PROGRESS: at 16.56% examples, 195488 words/s, in_qsize 16, out_qsize 0\n",
      "2017-04-03 13:17:14,913 : INFO : PROGRESS: at 17.02% examples, 195468 words/s, in_qsize 15, out_qsize 0\n",
      "2017-04-03 13:17:15,972 : INFO : PROGRESS: at 17.56% examples, 195539 words/s, in_qsize 16, out_qsize 0\n",
      "2017-04-03 13:17:17,000 : INFO : PROGRESS: at 18.05% examples, 195718 words/s, in_qsize 16, out_qsize 0\n",
      "2017-04-03 13:17:18,022 : INFO : PROGRESS: at 18.47% examples, 195033 words/s, in_qsize 16, out_qsize 0\n",
      "2017-04-03 13:17:19,033 : INFO : PROGRESS: at 18.87% examples, 193889 words/s, in_qsize 16, out_qsize 0\n",
      "2017-04-03 13:17:20,051 : INFO : PROGRESS: at 19.28% examples, 192892 words/s, in_qsize 16, out_qsize 0\n",
      "2017-04-03 13:17:21,121 : INFO : PROGRESS: at 19.70% examples, 191701 words/s, in_qsize 16, out_qsize 0\n",
      "2017-04-03 13:17:22,172 : INFO : PROGRESS: at 20.11% examples, 190672 words/s, in_qsize 15, out_qsize 0\n",
      "2017-04-03 13:17:23,181 : INFO : PROGRESS: at 20.52% examples, 190124 words/s, in_qsize 16, out_qsize 0\n",
      "2017-04-03 13:17:24,202 : INFO : PROGRESS: at 20.98% examples, 189172 words/s, in_qsize 16, out_qsize 0\n",
      "2017-04-03 13:17:25,253 : INFO : PROGRESS: at 21.43% examples, 188092 words/s, in_qsize 16, out_qsize 0\n",
      "2017-04-03 13:17:26,257 : INFO : PROGRESS: at 21.87% examples, 187583 words/s, in_qsize 16, out_qsize 0\n",
      "2017-04-03 13:17:27,259 : INFO : PROGRESS: at 22.25% examples, 186874 words/s, in_qsize 15, out_qsize 0\n",
      "2017-04-03 13:17:28,262 : INFO : PROGRESS: at 22.73% examples, 186456 words/s, in_qsize 15, out_qsize 0\n",
      "2017-04-03 13:17:29,289 : INFO : PROGRESS: at 23.19% examples, 185889 words/s, in_qsize 15, out_qsize 0\n",
      "2017-04-03 13:17:30,294 : INFO : PROGRESS: at 23.65% examples, 186060 words/s, in_qsize 16, out_qsize 0\n",
      "2017-04-03 13:17:31,297 : INFO : PROGRESS: at 24.13% examples, 186009 words/s, in_qsize 15, out_qsize 0\n",
      "2017-04-03 13:17:32,351 : INFO : PROGRESS: at 24.63% examples, 186001 words/s, in_qsize 15, out_qsize 0\n",
      "2017-04-03 13:17:33,381 : INFO : PROGRESS: at 25.02% examples, 185201 words/s, in_qsize 16, out_qsize 0\n",
      "2017-04-03 13:17:34,402 : INFO : PROGRESS: at 25.45% examples, 184477 words/s, in_qsize 16, out_qsize 0\n",
      "2017-04-03 13:17:35,495 : INFO : PROGRESS: at 25.77% examples, 183206 words/s, in_qsize 15, out_qsize 0\n",
      "2017-04-03 13:17:36,531 : INFO : PROGRESS: at 26.11% examples, 182366 words/s, in_qsize 16, out_qsize 0\n",
      "2017-04-03 13:17:37,534 : INFO : PROGRESS: at 26.42% examples, 181723 words/s, in_qsize 15, out_qsize 0\n",
      "2017-04-03 13:17:38,576 : INFO : PROGRESS: at 26.77% examples, 181242 words/s, in_qsize 15, out_qsize 0\n",
      "2017-04-03 13:17:39,638 : INFO : PROGRESS: at 27.14% examples, 180488 words/s, in_qsize 15, out_qsize 0\n",
      "2017-04-03 13:17:40,638 : INFO : PROGRESS: at 27.48% examples, 180054 words/s, in_qsize 16, out_qsize 0\n",
      "2017-04-03 13:17:41,653 : INFO : PROGRESS: at 27.94% examples, 179894 words/s, in_qsize 15, out_qsize 0\n",
      "2017-04-03 13:17:42,708 : INFO : PROGRESS: at 28.34% examples, 179580 words/s, in_qsize 16, out_qsize 0\n",
      "2017-04-03 13:17:43,729 : INFO : PROGRESS: at 28.85% examples, 179900 words/s, in_qsize 15, out_qsize 0\n",
      "2017-04-03 13:17:44,739 : INFO : PROGRESS: at 29.41% examples, 180428 words/s, in_qsize 15, out_qsize 0\n",
      "2017-04-03 13:17:45,750 : INFO : PROGRESS: at 30.00% examples, 181040 words/s, in_qsize 15, out_qsize 0\n",
      "2017-04-03 13:17:46,823 : INFO : PROGRESS: at 30.51% examples, 181015 words/s, in_qsize 16, out_qsize 0\n",
      "2017-04-03 13:17:47,837 : INFO : PROGRESS: at 31.10% examples, 181513 words/s, in_qsize 16, out_qsize 0\n",
      "2017-04-03 13:17:48,837 : INFO : PROGRESS: at 31.65% examples, 181974 words/s, in_qsize 16, out_qsize 0\n",
      "2017-04-03 13:17:49,843 : INFO : PROGRESS: at 32.15% examples, 182385 words/s, in_qsize 16, out_qsize 0\n",
      "2017-04-03 13:17:50,918 : INFO : PROGRESS: at 32.65% examples, 182686 words/s, in_qsize 16, out_qsize 0\n",
      "2017-04-03 13:17:51,923 : INFO : PROGRESS: at 33.25% examples, 183277 words/s, in_qsize 16, out_qsize 0\n",
      "2017-04-03 13:17:52,942 : INFO : PROGRESS: at 33.82% examples, 183776 words/s, in_qsize 15, out_qsize 0\n",
      "2017-04-03 13:17:53,959 : INFO : PROGRESS: at 34.28% examples, 184092 words/s, in_qsize 16, out_qsize 0\n",
      "2017-04-03 13:17:54,987 : INFO : PROGRESS: at 34.76% examples, 184097 words/s, in_qsize 16, out_qsize 0\n",
      "2017-04-03 13:17:56,010 : INFO : PROGRESS: at 35.29% examples, 184624 words/s, in_qsize 16, out_qsize 0\n",
      "2017-04-03 13:17:57,080 : INFO : PROGRESS: at 35.82% examples, 184823 words/s, in_qsize 16, out_qsize 0\n",
      "2017-04-03 13:17:58,085 : INFO : PROGRESS: at 36.33% examples, 185273 words/s, in_qsize 15, out_qsize 0\n",
      "2017-04-03 13:17:59,107 : INFO : PROGRESS: at 36.91% examples, 185932 words/s, in_qsize 16, out_qsize 0\n",
      "2017-04-03 13:18:00,139 : INFO : PROGRESS: at 37.40% examples, 186064 words/s, in_qsize 16, out_qsize 0\n",
      "2017-04-03 13:18:01,220 : INFO : PROGRESS: at 37.95% examples, 186354 words/s, in_qsize 15, out_qsize 0\n",
      "2017-04-03 13:18:02,289 : INFO : PROGRESS: at 38.53% examples, 186856 words/s, in_qsize 16, out_qsize 0\n",
      "2017-04-03 13:18:03,297 : INFO : PROGRESS: at 39.01% examples, 186883 words/s, in_qsize 16, out_qsize 0\n",
      "2017-04-03 13:18:04,298 : INFO : PROGRESS: at 39.49% examples, 186760 words/s, in_qsize 16, out_qsize 0\n",
      "2017-04-03 13:18:05,333 : INFO : PROGRESS: at 40.09% examples, 187221 words/s, in_qsize 16, out_qsize 0\n",
      "2017-04-03 13:18:06,412 : INFO : PROGRESS: at 40.67% examples, 187631 words/s, in_qsize 15, out_qsize 0\n",
      "2017-04-03 13:18:07,445 : INFO : PROGRESS: at 41.34% examples, 187864 words/s, in_qsize 16, out_qsize 0\n",
      "2017-04-03 13:18:08,450 : INFO : PROGRESS: at 41.86% examples, 187814 words/s, in_qsize 16, out_qsize 0\n",
      "2017-04-03 13:18:09,475 : INFO : PROGRESS: at 42.50% examples, 188408 words/s, in_qsize 16, out_qsize 0\n",
      "2017-04-03 13:18:10,591 : INFO : PROGRESS: at 43.17% examples, 188751 words/s, in_qsize 15, out_qsize 0\n",
      "2017-04-03 13:18:11,735 : INFO : PROGRESS: at 43.76% examples, 189089 words/s, in_qsize 16, out_qsize 0\n",
      "2017-04-03 13:18:12,759 : INFO : PROGRESS: at 44.31% examples, 189315 words/s, in_qsize 15, out_qsize 0\n",
      "2017-04-03 13:18:13,785 : INFO : PROGRESS: at 44.88% examples, 189618 words/s, in_qsize 15, out_qsize 0\n",
      "2017-04-03 13:18:14,812 : INFO : PROGRESS: at 45.46% examples, 189657 words/s, in_qsize 15, out_qsize 0\n",
      "2017-04-03 13:18:15,865 : INFO : PROGRESS: at 45.99% examples, 189905 words/s, in_qsize 16, out_qsize 0\n",
      "2017-04-03 13:18:16,893 : INFO : PROGRESS: at 46.52% examples, 190297 words/s, in_qsize 15, out_qsize 0\n",
      "2017-04-03 13:18:17,939 : INFO : PROGRESS: at 47.03% examples, 190556 words/s, in_qsize 16, out_qsize 0\n",
      "2017-04-03 13:18:18,949 : INFO : PROGRESS: at 47.67% examples, 191339 words/s, in_qsize 15, out_qsize 0\n",
      "2017-04-03 13:18:19,956 : INFO : PROGRESS: at 48.16% examples, 191418 words/s, in_qsize 16, out_qsize 0\n",
      "2017-04-03 13:18:20,967 : INFO : PROGRESS: at 48.69% examples, 191658 words/s, in_qsize 16, out_qsize 0\n",
      "2017-04-03 13:18:22,075 : INFO : PROGRESS: at 49.28% examples, 191816 words/s, in_qsize 16, out_qsize 0\n",
      "2017-04-03 13:18:23,097 : INFO : PROGRESS: at 49.92% examples, 192270 words/s, in_qsize 16, out_qsize 0\n",
      "2017-04-03 13:18:24,161 : INFO : PROGRESS: at 50.51% examples, 192422 words/s, in_qsize 16, out_qsize 0\n",
      "2017-04-03 13:18:25,199 : INFO : PROGRESS: at 51.10% examples, 192588 words/s, in_qsize 15, out_qsize 0\n",
      "2017-04-03 13:18:26,255 : INFO : PROGRESS: at 51.64% examples, 192674 words/s, in_qsize 16, out_qsize 0\n",
      "2017-04-03 13:18:27,280 : INFO : PROGRESS: at 52.20% examples, 192908 words/s, in_qsize 15, out_qsize 0\n",
      "2017-04-03 13:18:28,313 : INFO : PROGRESS: at 52.68% examples, 193071 words/s, in_qsize 15, out_qsize 0\n",
      "2017-04-03 13:18:29,355 : INFO : PROGRESS: at 53.21% examples, 193121 words/s, in_qsize 16, out_qsize 0\n",
      "2017-04-03 13:18:30,361 : INFO : PROGRESS: at 53.77% examples, 193320 words/s, in_qsize 16, out_qsize 0\n",
      "2017-04-03 13:18:31,366 : INFO : PROGRESS: at 54.24% examples, 193438 words/s, in_qsize 16, out_qsize 0\n",
      "2017-04-03 13:18:32,388 : INFO : PROGRESS: at 54.76% examples, 193537 words/s, in_qsize 15, out_qsize 0\n",
      "2017-04-03 13:18:33,519 : INFO : PROGRESS: at 55.29% examples, 193626 words/s, in_qsize 16, out_qsize 0\n",
      "2017-04-03 13:18:34,560 : INFO : PROGRESS: at 55.82% examples, 193718 words/s, in_qsize 16, out_qsize 0\n",
      "2017-04-03 13:18:35,571 : INFO : PROGRESS: at 56.31% examples, 193854 words/s, in_qsize 16, out_qsize 0\n",
      "2017-04-03 13:18:36,618 : INFO : PROGRESS: at 56.80% examples, 193941 words/s, in_qsize 15, out_qsize 0\n",
      "2017-04-03 13:18:37,652 : INFO : PROGRESS: at 57.30% examples, 193884 words/s, in_qsize 16, out_qsize 1\n",
      "2017-04-03 13:18:38,738 : INFO : PROGRESS: at 57.87% examples, 194078 words/s, in_qsize 16, out_qsize 0\n",
      "2017-04-03 13:18:39,757 : INFO : PROGRESS: at 58.42% examples, 194436 words/s, in_qsize 16, out_qsize 0\n",
      "2017-04-03 13:18:40,882 : INFO : PROGRESS: at 59.04% examples, 194587 words/s, in_qsize 16, out_qsize 0\n",
      "2017-04-03 13:18:41,898 : INFO : PROGRESS: at 59.61% examples, 194697 words/s, in_qsize 16, out_qsize 0\n",
      "2017-04-03 13:18:42,946 : INFO : PROGRESS: at 60.07% examples, 194494 words/s, in_qsize 16, out_qsize 0\n",
      "2017-04-03 13:18:44,015 : INFO : PROGRESS: at 60.57% examples, 194477 words/s, in_qsize 15, out_qsize 0\n",
      "2017-04-03 13:18:45,052 : INFO : PROGRESS: at 61.15% examples, 194381 words/s, in_qsize 16, out_qsize 0\n",
      "2017-04-03 13:18:46,135 : INFO : PROGRESS: at 61.74% examples, 194316 words/s, in_qsize 16, out_qsize 0\n",
      "2017-04-03 13:18:47,173 : INFO : PROGRESS: at 62.19% examples, 194178 words/s, in_qsize 16, out_qsize 0\n",
      "2017-04-03 13:18:48,203 : INFO : PROGRESS: at 62.71% examples, 194063 words/s, in_qsize 16, out_qsize 0\n",
      "2017-04-03 13:18:49,294 : INFO : PROGRESS: at 63.21% examples, 193891 words/s, in_qsize 16, out_qsize 0\n",
      "2017-04-03 13:18:50,421 : INFO : PROGRESS: at 63.70% examples, 193776 words/s, in_qsize 15, out_qsize 0\n",
      "2017-04-03 13:18:51,465 : INFO : PROGRESS: at 64.17% examples, 193589 words/s, in_qsize 15, out_qsize 0\n",
      "2017-04-03 13:18:52,567 : INFO : PROGRESS: at 64.71% examples, 193589 words/s, in_qsize 16, out_qsize 0\n",
      "2017-04-03 13:18:53,574 : INFO : PROGRESS: at 65.23% examples, 193473 words/s, in_qsize 16, out_qsize 0\n",
      "2017-04-03 13:18:54,606 : INFO : PROGRESS: at 65.75% examples, 193519 words/s, in_qsize 16, out_qsize 0\n",
      "2017-04-03 13:18:55,639 : INFO : PROGRESS: at 66.30% examples, 193787 words/s, in_qsize 15, out_qsize 0\n",
      "2017-04-03 13:18:56,674 : INFO : PROGRESS: at 66.81% examples, 194022 words/s, in_qsize 15, out_qsize 0\n",
      "2017-04-03 13:18:57,696 : INFO : PROGRESS: at 67.36% examples, 194304 words/s, in_qsize 15, out_qsize 0\n",
      "2017-04-03 13:18:58,734 : INFO : PROGRESS: at 67.94% examples, 194492 words/s, in_qsize 15, out_qsize 0\n",
      "2017-04-03 13:18:59,771 : INFO : PROGRESS: at 68.44% examples, 194533 words/s, in_qsize 16, out_qsize 0\n",
      "2017-04-03 13:19:00,821 : INFO : PROGRESS: at 69.08% examples, 194865 words/s, in_qsize 15, out_qsize 0\n",
      "2017-04-03 13:19:01,826 : INFO : PROGRESS: at 69.69% examples, 195189 words/s, in_qsize 16, out_qsize 0\n",
      "2017-04-03 13:19:02,836 : INFO : PROGRESS: at 70.28% examples, 195350 words/s, in_qsize 15, out_qsize 0\n",
      "2017-04-03 13:19:03,862 : INFO : PROGRESS: at 70.82% examples, 195328 words/s, in_qsize 16, out_qsize 0\n",
      "2017-04-03 13:19:04,908 : INFO : PROGRESS: at 71.40% examples, 195461 words/s, in_qsize 16, out_qsize 0\n",
      "2017-04-03 13:19:05,961 : INFO : PROGRESS: at 71.96% examples, 195628 words/s, in_qsize 16, out_qsize 0\n",
      "2017-04-03 13:19:06,978 : INFO : PROGRESS: at 72.49% examples, 195822 words/s, in_qsize 15, out_qsize 0\n",
      "2017-04-03 13:19:08,028 : INFO : PROGRESS: at 73.07% examples, 196017 words/s, in_qsize 16, out_qsize 0\n",
      "2017-04-03 13:19:09,069 : INFO : PROGRESS: at 73.59% examples, 196022 words/s, in_qsize 16, out_qsize 0\n",
      "2017-04-03 13:19:10,244 : INFO : PROGRESS: at 74.02% examples, 195641 words/s, in_qsize 16, out_qsize 0\n",
      "2017-04-03 13:19:11,258 : INFO : PROGRESS: at 74.54% examples, 195758 words/s, in_qsize 16, out_qsize 0\n",
      "2017-04-03 13:19:12,272 : INFO : PROGRESS: at 75.02% examples, 195848 words/s, in_qsize 16, out_qsize 1\n",
      "2017-04-03 13:19:13,313 : INFO : PROGRESS: at 75.48% examples, 195779 words/s, in_qsize 16, out_qsize 0\n",
      "2017-04-03 13:19:14,334 : INFO : PROGRESS: at 76.06% examples, 195937 words/s, in_qsize 15, out_qsize 0\n",
      "2017-04-03 13:19:15,347 : INFO : PROGRESS: at 76.53% examples, 195966 words/s, in_qsize 15, out_qsize 0\n",
      "2017-04-03 13:19:16,420 : INFO : PROGRESS: at 77.05% examples, 196048 words/s, in_qsize 16, out_qsize 0\n",
      "2017-04-03 13:19:17,501 : INFO : PROGRESS: at 77.62% examples, 196093 words/s, in_qsize 16, out_qsize 0\n",
      "2017-04-03 13:19:18,536 : INFO : PROGRESS: at 78.20% examples, 196356 words/s, in_qsize 16, out_qsize 0\n",
      "2017-04-03 13:19:19,543 : INFO : PROGRESS: at 78.72% examples, 196453 words/s, in_qsize 15, out_qsize 0\n",
      "2017-04-03 13:19:20,601 : INFO : PROGRESS: at 79.30% examples, 196554 words/s, in_qsize 15, out_qsize 0\n",
      "2017-04-03 13:19:21,763 : INFO : PROGRESS: at 79.97% examples, 196648 words/s, in_qsize 16, out_qsize 0\n",
      "2017-04-03 13:19:22,772 : INFO : PROGRESS: at 80.46% examples, 196696 words/s, in_qsize 15, out_qsize 0\n",
      "2017-04-03 13:19:23,779 : INFO : PROGRESS: at 81.06% examples, 196749 words/s, in_qsize 16, out_qsize 0\n",
      "2017-04-03 13:19:24,793 : INFO : PROGRESS: at 81.71% examples, 196844 words/s, in_qsize 16, out_qsize 0\n",
      "2017-04-03 13:19:25,878 : INFO : PROGRESS: at 82.26% examples, 196933 words/s, in_qsize 16, out_qsize 0\n",
      "2017-04-03 13:19:26,930 : INFO : PROGRESS: at 82.88% examples, 197004 words/s, in_qsize 16, out_qsize 0\n",
      "2017-04-03 13:19:27,994 : INFO : PROGRESS: at 83.36% examples, 196854 words/s, in_qsize 16, out_qsize 0\n",
      "2017-04-03 13:19:29,084 : INFO : PROGRESS: at 83.89% examples, 196893 words/s, in_qsize 16, out_qsize 0\n",
      "2017-04-03 13:19:30,166 : INFO : PROGRESS: at 84.47% examples, 196965 words/s, in_qsize 16, out_qsize 0\n",
      "2017-04-03 13:19:31,194 : INFO : PROGRESS: at 84.99% examples, 196919 words/s, in_qsize 15, out_qsize 0\n",
      "2017-04-03 13:19:32,194 : INFO : PROGRESS: at 85.63% examples, 197145 words/s, in_qsize 16, out_qsize 0\n",
      "2017-04-03 13:19:33,196 : INFO : PROGRESS: at 86.09% examples, 197145 words/s, in_qsize 16, out_qsize 0\n",
      "2017-04-03 13:19:34,240 : INFO : PROGRESS: at 86.58% examples, 197252 words/s, in_qsize 16, out_qsize 0\n",
      "2017-04-03 13:19:35,250 : INFO : PROGRESS: at 87.18% examples, 197528 words/s, in_qsize 15, out_qsize 0\n",
      "2017-04-03 13:19:36,273 : INFO : PROGRESS: at 87.67% examples, 197546 words/s, in_qsize 16, out_qsize 0\n",
      "2017-04-03 13:19:37,282 : INFO : PROGRESS: at 88.20% examples, 197655 words/s, in_qsize 15, out_qsize 0\n",
      "2017-04-03 13:19:38,316 : INFO : PROGRESS: at 88.71% examples, 197666 words/s, in_qsize 15, out_qsize 0\n",
      "2017-04-03 13:19:39,333 : INFO : PROGRESS: at 89.29% examples, 197837 words/s, in_qsize 16, out_qsize 0\n",
      "2017-04-03 13:19:40,376 : INFO : PROGRESS: at 89.80% examples, 197728 words/s, in_qsize 15, out_qsize 0\n",
      "2017-04-03 13:19:41,429 : INFO : PROGRESS: at 90.30% examples, 197576 words/s, in_qsize 15, out_qsize 0\n",
      "2017-04-03 13:19:42,528 : INFO : PROGRESS: at 90.71% examples, 197270 words/s, in_qsize 15, out_qsize 0\n",
      "2017-04-03 13:19:43,660 : INFO : PROGRESS: at 91.13% examples, 196877 words/s, in_qsize 16, out_qsize 0\n",
      "2017-04-03 13:19:44,690 : INFO : PROGRESS: at 91.62% examples, 196829 words/s, in_qsize 16, out_qsize 0\n",
      "2017-04-03 13:19:45,736 : INFO : PROGRESS: at 92.02% examples, 196606 words/s, in_qsize 15, out_qsize 0\n",
      "2017-04-03 13:19:46,737 : INFO : PROGRESS: at 92.42% examples, 196475 words/s, in_qsize 16, out_qsize 0\n",
      "2017-04-03 13:19:47,841 : INFO : PROGRESS: at 92.84% examples, 196168 words/s, in_qsize 15, out_qsize 0\n",
      "2017-04-03 13:19:48,848 : INFO : PROGRESS: at 93.24% examples, 196015 words/s, in_qsize 15, out_qsize 0\n",
      "2017-04-03 13:19:49,891 : INFO : PROGRESS: at 93.64% examples, 195812 words/s, in_qsize 15, out_qsize 0\n",
      "2017-04-03 13:19:50,916 : INFO : PROGRESS: at 94.04% examples, 195618 words/s, in_qsize 16, out_qsize 0\n",
      "2017-04-03 13:19:52,017 : INFO : PROGRESS: at 94.54% examples, 195576 words/s, in_qsize 15, out_qsize 0\n",
      "2017-04-03 13:19:53,022 : INFO : PROGRESS: at 94.96% examples, 195464 words/s, in_qsize 16, out_qsize 0\n",
      "2017-04-03 13:19:54,059 : INFO : PROGRESS: at 95.37% examples, 195372 words/s, in_qsize 15, out_qsize 0\n",
      "2017-04-03 13:19:55,162 : INFO : PROGRESS: at 95.82% examples, 195122 words/s, in_qsize 16, out_qsize 0\n",
      "2017-04-03 13:19:56,174 : INFO : PROGRESS: at 96.23% examples, 195048 words/s, in_qsize 16, out_qsize 0\n",
      "2017-04-03 13:19:57,201 : INFO : PROGRESS: at 96.61% examples, 194849 words/s, in_qsize 15, out_qsize 0\n",
      "2017-04-03 13:19:58,206 : INFO : PROGRESS: at 97.03% examples, 194745 words/s, in_qsize 15, out_qsize 0\n",
      "2017-04-03 13:19:59,253 : INFO : PROGRESS: at 97.52% examples, 194683 words/s, in_qsize 15, out_qsize 0\n",
      "2017-04-03 13:20:00,265 : INFO : PROGRESS: at 97.89% examples, 194452 words/s, in_qsize 16, out_qsize 0\n",
      "2017-04-03 13:20:01,302 : INFO : PROGRESS: at 98.34% examples, 194416 words/s, in_qsize 16, out_qsize 0\n",
      "2017-04-03 13:20:02,393 : INFO : PROGRESS: at 98.75% examples, 194155 words/s, in_qsize 15, out_qsize 0\n",
      "2017-04-03 13:20:03,435 : INFO : PROGRESS: at 99.28% examples, 194172 words/s, in_qsize 15, out_qsize 0\n",
      "2017-04-03 13:20:04,445 : INFO : PROGRESS: at 99.82% examples, 194216 words/s, in_qsize 7, out_qsize 1\n",
      "2017-04-03 13:20:04,446 : INFO : worker thread finished; awaiting finish of 7 more threads\n",
      "2017-04-03 13:20:04,469 : INFO : worker thread finished; awaiting finish of 6 more threads\n",
      "2017-04-03 13:20:04,502 : INFO : worker thread finished; awaiting finish of 5 more threads\n",
      "2017-04-03 13:20:04,536 : INFO : worker thread finished; awaiting finish of 4 more threads\n",
      "2017-04-03 13:20:04,581 : INFO : worker thread finished; awaiting finish of 3 more threads\n",
      "2017-04-03 13:20:04,593 : INFO : worker thread finished; awaiting finish of 2 more threads\n",
      "2017-04-03 13:20:04,612 : INFO : worker thread finished; awaiting finish of 1 more threads\n",
      "2017-04-03 13:20:04,617 : INFO : worker thread finished; awaiting finish of 0 more threads\n",
      "2017-04-03 13:20:04,619 : INFO : training on 41685690 raw words (39719350 effective words) took 204.4s, 194362 effective words/s\n",
      "2017-04-03 13:20:04,620 : INFO : Training D2V model Doc2Vec(dbow,d500,n12,mc5,t8)\n",
      "2017-04-03 13:20:04,621 : INFO : Epoch 2 convergence descent alpha: 0.1\n",
      "2017-04-03 13:20:24,509 : INFO : training model with 8 workers on 50055 vocabulary and 500 features, using sg=1 hs=0 sample=0 negative=12\n",
      "2017-04-03 13:20:24,510 : INFO : expecting 72253 sentences, matching count from corpus used for vocabulary survey\n",
      "2017-04-03 13:20:25,526 : INFO : PROGRESS: at 0.72% examples, 259641 words/s, in_qsize 15, out_qsize 0\n",
      "2017-04-03 13:20:26,539 : INFO : PROGRESS: at 1.56% examples, 298481 words/s, in_qsize 16, out_qsize 0\n",
      "2017-04-03 13:20:27,568 : INFO : PROGRESS: at 2.26% examples, 294463 words/s, in_qsize 16, out_qsize 0\n",
      "2017-04-03 13:20:28,569 : INFO : PROGRESS: at 3.21% examples, 311689 words/s, in_qsize 16, out_qsize 0\n",
      "2017-04-03 13:20:29,601 : INFO : PROGRESS: at 4.00% examples, 306621 words/s, in_qsize 15, out_qsize 0\n",
      "2017-04-03 13:20:30,629 : INFO : PROGRESS: at 4.76% examples, 304168 words/s, in_qsize 16, out_qsize 0\n",
      "2017-04-03 13:20:31,630 : INFO : PROGRESS: at 5.44% examples, 303926 words/s, in_qsize 16, out_qsize 0\n",
      "2017-04-03 13:20:32,634 : INFO : PROGRESS: at 6.30% examples, 307915 words/s, in_qsize 16, out_qsize 0\n",
      "2017-04-03 13:20:33,653 : INFO : PROGRESS: at 6.88% examples, 299568 words/s, in_qsize 16, out_qsize 0\n",
      "2017-04-03 13:20:34,667 : INFO : PROGRESS: at 7.43% examples, 289231 words/s, in_qsize 16, out_qsize 0\n",
      "2017-04-03 13:20:35,732 : INFO : PROGRESS: at 7.96% examples, 279579 words/s, in_qsize 15, out_qsize 0\n",
      "2017-04-03 13:20:36,782 : INFO : PROGRESS: at 8.53% examples, 274325 words/s, in_qsize 15, out_qsize 0\n",
      "2017-04-03 13:20:37,880 : INFO : PROGRESS: at 9.04% examples, 266955 words/s, in_qsize 16, out_qsize 0\n",
      "2017-04-03 13:20:38,884 : INFO : PROGRESS: at 9.51% examples, 260610 words/s, in_qsize 15, out_qsize 0\n",
      "2017-04-03 13:20:39,922 : INFO : PROGRESS: at 10.05% examples, 256603 words/s, in_qsize 15, out_qsize 0\n",
      "2017-04-03 13:20:40,957 : INFO : PROGRESS: at 10.65% examples, 254604 words/s, in_qsize 16, out_qsize 0\n",
      "2017-04-03 13:20:42,007 : INFO : PROGRESS: at 11.22% examples, 251992 words/s, in_qsize 15, out_qsize 0\n",
      "2017-04-03 13:20:43,015 : INFO : PROGRESS: at 11.62% examples, 247806 words/s, in_qsize 15, out_qsize 0\n",
      "2017-04-03 13:20:44,022 : INFO : PROGRESS: at 12.22% examples, 246526 words/s, in_qsize 16, out_qsize 0\n",
      "2017-04-03 13:20:45,072 : INFO : PROGRESS: at 12.73% examples, 243440 words/s, in_qsize 15, out_qsize 0\n",
      "2017-04-03 13:20:46,126 : INFO : PROGRESS: at 13.16% examples, 240010 words/s, in_qsize 16, out_qsize 0\n",
      "2017-04-03 13:20:47,143 : INFO : PROGRESS: at 13.64% examples, 237748 words/s, in_qsize 15, out_qsize 0\n",
      "2017-04-03 13:20:48,148 : INFO : PROGRESS: at 14.23% examples, 237335 words/s, in_qsize 16, out_qsize 0\n",
      "2017-04-03 13:20:49,179 : INFO : PROGRESS: at 14.62% examples, 234492 words/s, in_qsize 16, out_qsize 0\n",
      "2017-04-03 13:20:50,211 : INFO : PROGRESS: at 15.02% examples, 231817 words/s, in_qsize 16, out_qsize 0\n",
      "2017-04-03 13:20:51,281 : INFO : PROGRESS: at 15.57% examples, 231034 words/s, in_qsize 15, out_qsize 0\n",
      "2017-04-03 13:20:52,287 : INFO : PROGRESS: at 16.05% examples, 230106 words/s, in_qsize 15, out_qsize 0\n",
      "2017-04-03 13:20:53,324 : INFO : PROGRESS: at 16.61% examples, 229336 words/s, in_qsize 16, out_qsize 0\n",
      "2017-04-03 13:20:54,342 : INFO : PROGRESS: at 17.15% examples, 228703 words/s, in_qsize 15, out_qsize 0\n",
      "2017-04-03 13:20:55,374 : INFO : PROGRESS: at 17.64% examples, 227260 words/s, in_qsize 15, out_qsize 0\n",
      "2017-04-03 13:20:56,377 : INFO : PROGRESS: at 18.18% examples, 226797 words/s, in_qsize 15, out_qsize 0\n",
      "2017-04-03 13:20:57,390 : INFO : PROGRESS: at 18.62% examples, 224992 words/s, in_qsize 16, out_qsize 0\n",
      "2017-04-03 13:20:58,445 : INFO : PROGRESS: at 19.14% examples, 223826 words/s, in_qsize 16, out_qsize 0\n",
      "2017-04-03 13:20:59,459 : INFO : PROGRESS: at 19.64% examples, 223437 words/s, in_qsize 15, out_qsize 0\n",
      "2017-04-03 13:21:00,501 : INFO : PROGRESS: at 20.13% examples, 221955 words/s, in_qsize 16, out_qsize 0\n",
      "2017-04-03 13:21:01,558 : INFO : PROGRESS: at 20.67% examples, 221081 words/s, in_qsize 16, out_qsize 0\n",
      "2017-04-03 13:21:02,561 : INFO : PROGRESS: at 21.17% examples, 220575 words/s, in_qsize 15, out_qsize 0\n",
      "2017-04-03 13:21:03,589 : INFO : PROGRESS: at 21.60% examples, 219274 words/s, in_qsize 15, out_qsize 0\n",
      "2017-04-03 13:21:04,608 : INFO : PROGRESS: at 22.12% examples, 219361 words/s, in_qsize 15, out_qsize 0\n",
      "2017-04-03 13:21:05,662 : INFO : PROGRESS: at 22.71% examples, 218994 words/s, in_qsize 15, out_qsize 0\n",
      "2017-04-03 13:21:06,766 : INFO : PROGRESS: at 23.26% examples, 218640 words/s, in_qsize 16, out_qsize 0\n",
      "2017-04-03 13:21:07,788 : INFO : PROGRESS: at 23.83% examples, 218300 words/s, in_qsize 16, out_qsize 0\n",
      "2017-04-03 13:21:08,857 : INFO : PROGRESS: at 24.43% examples, 218137 words/s, in_qsize 16, out_qsize 0\n",
      "2017-04-03 13:21:09,872 : INFO : PROGRESS: at 24.96% examples, 217966 words/s, in_qsize 16, out_qsize 0\n",
      "2017-04-03 13:21:10,894 : INFO : PROGRESS: at 25.42% examples, 217699 words/s, in_qsize 16, out_qsize 0\n",
      "2017-04-03 13:21:11,936 : INFO : PROGRESS: at 26.01% examples, 217720 words/s, in_qsize 16, out_qsize 0\n",
      "2017-04-03 13:21:12,945 : INFO : PROGRESS: at 26.53% examples, 217844 words/s, in_qsize 16, out_qsize 0\n",
      "2017-04-03 13:21:13,949 : INFO : PROGRESS: at 27.09% examples, 217576 words/s, in_qsize 16, out_qsize 0\n",
      "2017-04-03 13:21:14,961 : INFO : PROGRESS: at 27.76% examples, 218028 words/s, in_qsize 16, out_qsize 0\n",
      "2017-04-03 13:21:15,984 : INFO : PROGRESS: at 28.25% examples, 217540 words/s, in_qsize 16, out_qsize 0\n",
      "2017-04-03 13:21:17,010 : INFO : PROGRESS: at 28.86% examples, 217760 words/s, in_qsize 16, out_qsize 0\n",
      "2017-04-03 13:21:18,017 : INFO : PROGRESS: at 29.34% examples, 217417 words/s, in_qsize 16, out_qsize 1\n",
      "2017-04-03 13:21:19,054 : INFO : PROGRESS: at 29.89% examples, 217108 words/s, in_qsize 16, out_qsize 0\n",
      "2017-04-03 13:21:20,101 : INFO : PROGRESS: at 30.43% examples, 216543 words/s, in_qsize 16, out_qsize 0\n",
      "2017-04-03 13:21:21,150 : INFO : PROGRESS: at 30.87% examples, 215800 words/s, in_qsize 16, out_qsize 0\n",
      "2017-04-03 13:21:22,178 : INFO : PROGRESS: at 31.25% examples, 214507 words/s, in_qsize 16, out_qsize 0\n",
      "2017-04-03 13:21:23,221 : INFO : PROGRESS: at 31.85% examples, 214695 words/s, in_qsize 16, out_qsize 0\n",
      "2017-04-03 13:21:24,224 : INFO : PROGRESS: at 32.32% examples, 214207 words/s, in_qsize 16, out_qsize 0\n",
      "2017-04-03 13:21:25,238 : INFO : PROGRESS: at 32.81% examples, 213687 words/s, in_qsize 15, out_qsize 1\n",
      "2017-04-03 13:21:26,273 : INFO : PROGRESS: at 33.33% examples, 213673 words/s, in_qsize 15, out_qsize 0\n",
      "2017-04-03 13:21:27,348 : INFO : PROGRESS: at 33.83% examples, 213278 words/s, in_qsize 16, out_qsize 1\n",
      "2017-04-03 13:21:28,352 : INFO : PROGRESS: at 34.31% examples, 212901 words/s, in_qsize 15, out_qsize 0\n",
      "2017-04-03 13:21:29,362 : INFO : PROGRESS: at 34.81% examples, 213100 words/s, in_qsize 16, out_qsize 0\n",
      "2017-04-03 13:21:30,389 : INFO : PROGRESS: at 35.33% examples, 213111 words/s, in_qsize 15, out_qsize 0\n",
      "2017-04-03 13:21:31,434 : INFO : PROGRESS: at 35.85% examples, 212946 words/s, in_qsize 16, out_qsize 0\n",
      "2017-04-03 13:21:32,466 : INFO : PROGRESS: at 36.38% examples, 212915 words/s, in_qsize 16, out_qsize 0\n",
      "2017-04-03 13:21:33,469 : INFO : PROGRESS: at 36.98% examples, 213167 words/s, in_qsize 16, out_qsize 0\n",
      "2017-04-03 13:21:34,525 : INFO : PROGRESS: at 37.54% examples, 213089 words/s, in_qsize 16, out_qsize 0\n",
      "2017-04-03 13:21:35,668 : INFO : PROGRESS: at 38.13% examples, 212936 words/s, in_qsize 16, out_qsize 0\n",
      "2017-04-03 13:21:36,702 : INFO : PROGRESS: at 38.72% examples, 213040 words/s, in_qsize 16, out_qsize 0\n",
      "2017-04-03 13:21:37,705 : INFO : PROGRESS: at 39.26% examples, 213023 words/s, in_qsize 15, out_qsize 0\n",
      "2017-04-03 13:21:38,714 : INFO : PROGRESS: at 39.79% examples, 213179 words/s, in_qsize 15, out_qsize 0\n",
      "2017-04-03 13:21:39,827 : INFO : PROGRESS: at 40.37% examples, 212699 words/s, in_qsize 16, out_qsize 0\n",
      "2017-04-03 13:21:40,911 : INFO : PROGRESS: at 41.02% examples, 213011 words/s, in_qsize 16, out_qsize 0\n",
      "2017-04-03 13:21:41,937 : INFO : PROGRESS: at 41.59% examples, 213143 words/s, in_qsize 15, out_qsize 0\n",
      "2017-04-03 13:21:42,980 : INFO : PROGRESS: at 42.15% examples, 213451 words/s, in_qsize 16, out_qsize 0\n",
      "2017-04-03 13:21:44,028 : INFO : PROGRESS: at 42.74% examples, 213475 words/s, in_qsize 16, out_qsize 0\n",
      "2017-04-03 13:21:45,111 : INFO : PROGRESS: at 43.37% examples, 213659 words/s, in_qsize 16, out_qsize 0\n",
      "2017-04-03 13:21:46,123 : INFO : PROGRESS: at 44.00% examples, 213793 words/s, in_qsize 16, out_qsize 0\n",
      "2017-04-03 13:21:47,133 : INFO : PROGRESS: at 44.55% examples, 213792 words/s, in_qsize 15, out_qsize 0\n",
      "2017-04-03 13:21:48,200 : INFO : PROGRESS: at 45.07% examples, 213735 words/s, in_qsize 15, out_qsize 0\n",
      "2017-04-03 13:21:49,238 : INFO : PROGRESS: at 45.58% examples, 213728 words/s, in_qsize 16, out_qsize 0\n",
      "2017-04-03 13:21:50,243 : INFO : PROGRESS: at 46.22% examples, 214153 words/s, in_qsize 16, out_qsize 0\n",
      "2017-04-03 13:21:51,254 : INFO : PROGRESS: at 46.73% examples, 214184 words/s, in_qsize 16, out_qsize 1\n",
      "2017-04-03 13:21:52,255 : INFO : PROGRESS: at 47.41% examples, 214433 words/s, in_qsize 15, out_qsize 0\n",
      "2017-04-03 13:21:53,263 : INFO : PROGRESS: at 48.00% examples, 214482 words/s, in_qsize 16, out_qsize 0\n",
      "2017-04-03 13:21:54,319 : INFO : PROGRESS: at 48.50% examples, 214300 words/s, in_qsize 15, out_qsize 0\n",
      "2017-04-03 13:21:55,321 : INFO : PROGRESS: at 49.13% examples, 214662 words/s, in_qsize 16, out_qsize 0\n",
      "2017-04-03 13:21:56,342 : INFO : PROGRESS: at 49.72% examples, 214653 words/s, in_qsize 15, out_qsize 0\n",
      "2017-04-03 13:21:57,378 : INFO : PROGRESS: at 50.21% examples, 214366 words/s, in_qsize 15, out_qsize 0\n",
      "2017-04-03 13:21:58,465 : INFO : PROGRESS: at 50.84% examples, 214453 words/s, in_qsize 16, out_qsize 0\n",
      "2017-04-03 13:21:59,470 : INFO : PROGRESS: at 51.37% examples, 214431 words/s, in_qsize 16, out_qsize 0\n",
      "2017-04-03 13:22:00,476 : INFO : PROGRESS: at 51.88% examples, 214327 words/s, in_qsize 16, out_qsize 0\n",
      "2017-04-03 13:22:01,507 : INFO : PROGRESS: at 52.55% examples, 214640 words/s, in_qsize 16, out_qsize 0\n",
      "2017-04-03 13:22:02,536 : INFO : PROGRESS: at 53.08% examples, 214708 words/s, in_qsize 16, out_qsize 0\n",
      "2017-04-03 13:22:03,639 : INFO : PROGRESS: at 53.73% examples, 214898 words/s, in_qsize 15, out_qsize 0\n",
      "2017-04-03 13:22:04,681 : INFO : PROGRESS: at 54.37% examples, 215242 words/s, in_qsize 15, out_qsize 0\n",
      "2017-04-03 13:22:05,686 : INFO : PROGRESS: at 54.90% examples, 215381 words/s, in_qsize 16, out_qsize 0\n",
      "2017-04-03 13:22:06,758 : INFO : PROGRESS: at 55.44% examples, 215370 words/s, in_qsize 15, out_qsize 0\n",
      "2017-04-03 13:22:07,863 : INFO : PROGRESS: at 56.01% examples, 215389 words/s, in_qsize 16, out_qsize 0\n",
      "2017-04-03 13:22:08,900 : INFO : PROGRESS: at 56.61% examples, 215497 words/s, in_qsize 16, out_qsize 0\n",
      "2017-04-03 13:22:09,906 : INFO : PROGRESS: at 57.17% examples, 215628 words/s, in_qsize 16, out_qsize 0\n",
      "2017-04-03 13:22:10,942 : INFO : PROGRESS: at 57.70% examples, 215355 words/s, in_qsize 15, out_qsize 0\n",
      "2017-04-03 13:22:11,963 : INFO : PROGRESS: at 58.33% examples, 215639 words/s, in_qsize 16, out_qsize 0\n",
      "2017-04-03 13:22:13,123 : INFO : PROGRESS: at 58.95% examples, 215610 words/s, in_qsize 16, out_qsize 0\n",
      "2017-04-03 13:22:14,158 : INFO : PROGRESS: at 59.50% examples, 215690 words/s, in_qsize 16, out_qsize 0\n",
      "2017-04-03 13:22:15,174 : INFO : PROGRESS: at 60.16% examples, 215843 words/s, in_qsize 15, out_qsize 0\n",
      "2017-04-03 13:22:16,284 : INFO : PROGRESS: at 60.70% examples, 215505 words/s, in_qsize 15, out_qsize 0\n",
      "2017-04-03 13:22:17,362 : INFO : PROGRESS: at 61.20% examples, 215240 words/s, in_qsize 15, out_qsize 0\n",
      "2017-04-03 13:22:18,379 : INFO : PROGRESS: at 61.77% examples, 215340 words/s, in_qsize 16, out_qsize 0\n",
      "2017-04-03 13:22:19,408 : INFO : PROGRESS: at 62.25% examples, 215238 words/s, in_qsize 15, out_qsize 0\n",
      "2017-04-03 13:22:20,440 : INFO : PROGRESS: at 62.85% examples, 215268 words/s, in_qsize 16, out_qsize 0\n",
      "2017-04-03 13:22:21,461 : INFO : PROGRESS: at 63.43% examples, 215340 words/s, in_qsize 16, out_qsize 0\n",
      "2017-04-03 13:22:22,492 : INFO : PROGRESS: at 64.03% examples, 215296 words/s, in_qsize 16, out_qsize 0\n",
      "2017-04-03 13:22:23,537 : INFO : PROGRESS: at 64.67% examples, 215544 words/s, in_qsize 16, out_qsize 0\n",
      "2017-04-03 13:22:24,577 : INFO : PROGRESS: at 65.24% examples, 215737 words/s, in_qsize 16, out_qsize 0\n",
      "2017-04-03 13:22:25,599 : INFO : PROGRESS: at 65.78% examples, 215778 words/s, in_qsize 16, out_qsize 0\n",
      "2017-04-03 13:22:26,611 : INFO : PROGRESS: at 66.35% examples, 215816 words/s, in_qsize 16, out_qsize 0\n",
      "2017-04-03 13:22:27,655 : INFO : PROGRESS: at 66.90% examples, 215842 words/s, in_qsize 16, out_qsize 0\n",
      "2017-04-03 13:22:28,680 : INFO : PROGRESS: at 67.54% examples, 215887 words/s, in_qsize 16, out_qsize 0\n",
      "2017-04-03 13:22:29,739 : INFO : PROGRESS: at 68.16% examples, 215955 words/s, in_qsize 16, out_qsize 0\n",
      "2017-04-03 13:22:30,782 : INFO : PROGRESS: at 68.77% examples, 216081 words/s, in_qsize 15, out_qsize 0\n",
      "2017-04-03 13:22:31,780 : INFO : PROGRESS: at 69.38% examples, 216384 words/s, in_qsize 16, out_qsize 0\n",
      "2017-04-03 13:22:32,784 : INFO : PROGRESS: at 69.95% examples, 216326 words/s, in_qsize 16, out_qsize 0\n",
      "2017-04-03 13:22:33,802 : INFO : PROGRESS: at 70.43% examples, 215988 words/s, in_qsize 15, out_qsize 0\n",
      "2017-04-03 13:22:34,816 : INFO : PROGRESS: at 70.79% examples, 215455 words/s, in_qsize 16, out_qsize 0\n",
      "2017-04-03 13:22:35,822 : INFO : PROGRESS: at 71.22% examples, 215064 words/s, in_qsize 16, out_qsize 0\n",
      "2017-04-03 13:22:36,840 : INFO : PROGRESS: at 71.63% examples, 214746 words/s, in_qsize 14, out_qsize 2\n",
      "2017-04-03 13:22:37,847 : INFO : PROGRESS: at 72.12% examples, 214468 words/s, in_qsize 16, out_qsize 0\n",
      "2017-04-03 13:22:38,912 : INFO : PROGRESS: at 72.63% examples, 214225 words/s, in_qsize 15, out_qsize 0\n",
      "2017-04-03 13:22:40,033 : INFO : PROGRESS: at 73.04% examples, 213717 words/s, in_qsize 16, out_qsize 0\n",
      "2017-04-03 13:22:41,082 : INFO : PROGRESS: at 73.42% examples, 213242 words/s, in_qsize 16, out_qsize 0\n",
      "2017-04-03 13:22:42,134 : INFO : PROGRESS: at 73.94% examples, 213122 words/s, in_qsize 16, out_qsize 0\n",
      "2017-04-03 13:22:43,139 : INFO : PROGRESS: at 74.39% examples, 212876 words/s, in_qsize 16, out_qsize 0\n",
      "2017-04-03 13:22:44,208 : INFO : PROGRESS: at 74.79% examples, 212588 words/s, in_qsize 15, out_qsize 0\n",
      "2017-04-03 13:22:45,255 : INFO : PROGRESS: at 75.16% examples, 212118 words/s, in_qsize 16, out_qsize 0\n",
      "2017-04-03 13:22:46,287 : INFO : PROGRESS: at 75.68% examples, 212130 words/s, in_qsize 15, out_qsize 2\n",
      "2017-04-03 13:22:47,327 : INFO : PROGRESS: at 76.20% examples, 212089 words/s, in_qsize 15, out_qsize 0\n",
      "2017-04-03 13:22:48,426 : INFO : PROGRESS: at 76.76% examples, 211944 words/s, in_qsize 15, out_qsize 0\n",
      "2017-04-03 13:22:49,433 : INFO : PROGRESS: at 77.28% examples, 211926 words/s, in_qsize 15, out_qsize 0\n",
      "2017-04-03 13:22:50,443 : INFO : PROGRESS: at 77.75% examples, 211622 words/s, in_qsize 16, out_qsize 0\n",
      "2017-04-03 13:22:51,473 : INFO : PROGRESS: at 78.30% examples, 211654 words/s, in_qsize 16, out_qsize 0\n",
      "2017-04-03 13:22:52,532 : INFO : PROGRESS: at 78.88% examples, 211613 words/s, in_qsize 16, out_qsize 0\n",
      "2017-04-03 13:22:53,538 : INFO : PROGRESS: at 79.43% examples, 211805 words/s, in_qsize 15, out_qsize 0\n",
      "2017-04-03 13:22:54,551 : INFO : PROGRESS: at 80.00% examples, 211824 words/s, in_qsize 15, out_qsize 0\n",
      "2017-04-03 13:22:55,576 : INFO : PROGRESS: at 80.56% examples, 211722 words/s, in_qsize 16, out_qsize 0\n",
      "2017-04-03 13:22:56,623 : INFO : PROGRESS: at 81.16% examples, 211787 words/s, in_qsize 16, out_qsize 0\n",
      "2017-04-03 13:22:57,634 : INFO : PROGRESS: at 81.72% examples, 211899 words/s, in_qsize 16, out_qsize 0\n",
      "2017-04-03 13:22:58,769 : INFO : PROGRESS: at 82.14% examples, 211565 words/s, in_qsize 16, out_qsize 0\n",
      "2017-04-03 13:22:59,804 : INFO : PROGRESS: at 82.85% examples, 211856 words/s, in_qsize 16, out_qsize 0\n",
      "2017-04-03 13:23:00,806 : INFO : PROGRESS: at 83.37% examples, 211834 words/s, in_qsize 16, out_qsize 0\n",
      "2017-04-03 13:23:01,830 : INFO : PROGRESS: at 83.97% examples, 211839 words/s, in_qsize 16, out_qsize 0\n",
      "2017-04-03 13:23:02,835 : INFO : PROGRESS: at 84.60% examples, 212038 words/s, in_qsize 16, out_qsize 0\n",
      "2017-04-03 13:23:03,871 : INFO : PROGRESS: at 85.13% examples, 212096 words/s, in_qsize 16, out_qsize 0\n",
      "2017-04-03 13:23:04,890 : INFO : PROGRESS: at 85.70% examples, 212227 words/s, in_qsize 15, out_qsize 0\n",
      "2017-04-03 13:23:05,983 : INFO : PROGRESS: at 86.17% examples, 211978 words/s, in_qsize 15, out_qsize 0\n",
      "2017-04-03 13:23:07,031 : INFO : PROGRESS: at 86.79% examples, 212192 words/s, in_qsize 15, out_qsize 0\n",
      "2017-04-03 13:23:08,043 : INFO : PROGRESS: at 87.32% examples, 212033 words/s, in_qsize 16, out_qsize 0\n",
      "2017-04-03 13:23:09,049 : INFO : PROGRESS: at 87.93% examples, 212136 words/s, in_qsize 16, out_qsize 0\n",
      "2017-04-03 13:23:10,072 : INFO : PROGRESS: at 88.50% examples, 212198 words/s, in_qsize 16, out_qsize 0\n",
      "2017-04-03 13:23:11,080 : INFO : PROGRESS: at 89.07% examples, 212186 words/s, in_qsize 16, out_qsize 0\n",
      "2017-04-03 13:23:12,163 : INFO : PROGRESS: at 89.57% examples, 212055 words/s, in_qsize 16, out_qsize 0\n",
      "2017-04-03 13:23:13,169 : INFO : PROGRESS: at 90.18% examples, 212110 words/s, in_qsize 15, out_qsize 0\n",
      "2017-04-03 13:23:14,200 : INFO : PROGRESS: at 90.72% examples, 212101 words/s, in_qsize 15, out_qsize 0\n",
      "2017-04-03 13:23:15,206 : INFO : PROGRESS: at 91.22% examples, 211982 words/s, in_qsize 16, out_qsize 0\n",
      "2017-04-03 13:23:16,231 : INFO : PROGRESS: at 91.65% examples, 211800 words/s, in_qsize 16, out_qsize 0\n",
      "2017-04-03 13:23:17,376 : INFO : PROGRESS: at 92.25% examples, 211691 words/s, in_qsize 16, out_qsize 0\n",
      "2017-04-03 13:23:18,392 : INFO : PROGRESS: at 92.78% examples, 211636 words/s, in_qsize 16, out_qsize 0\n",
      "2017-04-03 13:23:19,417 : INFO : PROGRESS: at 93.18% examples, 211386 words/s, in_qsize 16, out_qsize 0\n",
      "2017-04-03 13:23:20,510 : INFO : PROGRESS: at 93.63% examples, 211120 words/s, in_qsize 16, out_qsize 0\n",
      "2017-04-03 13:23:21,514 : INFO : PROGRESS: at 94.17% examples, 211111 words/s, in_qsize 16, out_qsize 0\n",
      "2017-04-03 13:23:22,527 : INFO : PROGRESS: at 94.67% examples, 211152 words/s, in_qsize 16, out_qsize 0\n",
      "2017-04-03 13:23:23,649 : INFO : PROGRESS: at 95.15% examples, 210987 words/s, in_qsize 15, out_qsize 0\n",
      "2017-04-03 13:23:24,681 : INFO : PROGRESS: at 95.66% examples, 210950 words/s, in_qsize 15, out_qsize 0\n",
      "2017-04-03 13:23:25,720 : INFO : PROGRESS: at 96.21% examples, 210938 words/s, in_qsize 16, out_qsize 0\n",
      "2017-04-03 13:23:26,735 : INFO : PROGRESS: at 96.71% examples, 210896 words/s, in_qsize 15, out_qsize 1\n",
      "2017-04-03 13:23:27,733 : INFO : PROGRESS: at 97.16% examples, 210698 words/s, in_qsize 16, out_qsize 0\n",
      "2017-04-03 13:23:28,793 : INFO : PROGRESS: at 97.64% examples, 210489 words/s, in_qsize 16, out_qsize 0\n",
      "2017-04-03 13:23:29,799 : INFO : PROGRESS: at 98.11% examples, 210345 words/s, in_qsize 16, out_qsize 0\n",
      "2017-04-03 13:23:30,849 : INFO : PROGRESS: at 98.56% examples, 210124 words/s, in_qsize 15, out_qsize 0\n",
      "2017-04-03 13:23:31,907 : INFO : PROGRESS: at 99.21% examples, 210274 words/s, in_qsize 15, out_qsize 0\n",
      "2017-04-03 13:23:32,909 : INFO : PROGRESS: at 99.78% examples, 210409 words/s, in_qsize 10, out_qsize 0\n",
      "2017-04-03 13:23:32,957 : INFO : worker thread finished; awaiting finish of 7 more threads\n",
      "2017-04-03 13:23:32,970 : INFO : worker thread finished; awaiting finish of 6 more threads\n",
      "2017-04-03 13:23:32,972 : INFO : worker thread finished; awaiting finish of 5 more threads\n",
      "2017-04-03 13:23:33,041 : INFO : worker thread finished; awaiting finish of 4 more threads\n",
      "2017-04-03 13:23:33,073 : INFO : worker thread finished; awaiting finish of 3 more threads\n",
      "2017-04-03 13:23:33,116 : INFO : worker thread finished; awaiting finish of 2 more threads\n",
      "2017-04-03 13:23:33,139 : INFO : worker thread finished; awaiting finish of 1 more threads\n",
      "2017-04-03 13:23:33,145 : INFO : worker thread finished; awaiting finish of 0 more threads\n",
      "2017-04-03 13:23:33,146 : INFO : training on 41685690 raw words (39719350 effective words) took 188.6s, 210564 effective words/s\n",
      "2017-04-03 13:23:33,147 : INFO : Training D2V model Doc2Vec(dbow,d500,n12,mc5,t8)\n",
      "2017-04-03 13:23:33,148 : INFO : Epoch 3 convergence descent alpha: 0.1\n",
      "2017-04-03 13:23:52,099 : INFO : training model with 8 workers on 50055 vocabulary and 500 features, using sg=1 hs=0 sample=0 negative=12\n",
      "2017-04-03 13:23:52,100 : INFO : expecting 72253 sentences, matching count from corpus used for vocabulary survey\n",
      "2017-04-03 13:23:53,136 : INFO : PROGRESS: at 0.83% examples, 331741 words/s, in_qsize 16, out_qsize 0\n",
      "2017-04-03 13:23:54,179 : INFO : PROGRESS: at 1.76% examples, 351308 words/s, in_qsize 16, out_qsize 0\n",
      "2017-04-03 13:23:55,189 : INFO : PROGRESS: at 2.64% examples, 348313 words/s, in_qsize 16, out_qsize 0\n",
      "2017-04-03 13:23:56,218 : INFO : PROGRESS: at 3.59% examples, 349298 words/s, in_qsize 15, out_qsize 0\n",
      "2017-04-03 13:23:57,236 : INFO : PROGRESS: at 4.50% examples, 353331 words/s, in_qsize 15, out_qsize 0\n",
      "2017-04-03 13:23:58,254 : INFO : PROGRESS: at 5.43% examples, 354388 words/s, in_qsize 16, out_qsize 0\n",
      "2017-04-03 13:23:59,254 : INFO : PROGRESS: at 6.34% examples, 352590 words/s, in_qsize 16, out_qsize 0\n",
      "2017-04-03 13:24:00,288 : INFO : PROGRESS: at 7.30% examples, 354083 words/s, in_qsize 15, out_qsize 0\n",
      "2017-04-03 13:24:01,349 : INFO : PROGRESS: at 8.23% examples, 350881 words/s, in_qsize 15, out_qsize 0\n",
      "2017-04-03 13:24:02,382 : INFO : PROGRESS: at 8.90% examples, 342094 words/s, in_qsize 16, out_qsize 0\n",
      "2017-04-03 13:24:03,445 : INFO : PROGRESS: at 9.54% examples, 332445 words/s, in_qsize 15, out_qsize 0\n",
      "2017-04-03 13:24:04,442 : INFO : PROGRESS: at 10.14% examples, 323672 words/s, in_qsize 16, out_qsize 0\n",
      "2017-04-03 13:24:05,555 : INFO : PROGRESS: at 10.66% examples, 311534 words/s, in_qsize 16, out_qsize 0\n",
      "2017-04-03 13:24:06,555 : INFO : PROGRESS: at 11.15% examples, 304649 words/s, in_qsize 15, out_qsize 0\n",
      "2017-04-03 13:24:07,560 : INFO : PROGRESS: at 11.65% examples, 297664 words/s, in_qsize 16, out_qsize 0\n",
      "2017-04-03 13:24:08,574 : INFO : PROGRESS: at 12.13% examples, 290703 words/s, in_qsize 16, out_qsize 0\n",
      "2017-04-03 13:24:09,590 : INFO : PROGRESS: at 12.68% examples, 286636 words/s, in_qsize 16, out_qsize 0\n",
      "2017-04-03 13:24:10,617 : INFO : PROGRESS: at 13.24% examples, 282291 words/s, in_qsize 15, out_qsize 0\n",
      "2017-04-03 13:24:11,670 : INFO : PROGRESS: at 13.78% examples, 277934 words/s, in_qsize 15, out_qsize 0\n",
      "2017-04-03 13:24:12,717 : INFO : PROGRESS: at 14.25% examples, 273677 words/s, in_qsize 16, out_qsize 0\n",
      "2017-04-03 13:24:13,789 : INFO : PROGRESS: at 14.78% examples, 270194 words/s, in_qsize 15, out_qsize 0\n",
      "2017-04-03 13:24:14,933 : INFO : PROGRESS: at 15.40% examples, 266088 words/s, in_qsize 15, out_qsize 0\n",
      "2017-04-03 13:24:15,952 : INFO : PROGRESS: at 16.02% examples, 264795 words/s, in_qsize 16, out_qsize 0\n",
      "2017-04-03 13:24:17,009 : INFO : PROGRESS: at 16.58% examples, 262427 words/s, in_qsize 16, out_qsize 0\n",
      "2017-04-03 13:24:18,014 : INFO : PROGRESS: at 17.11% examples, 260620 words/s, in_qsize 15, out_qsize 0\n",
      "2017-04-03 13:24:19,056 : INFO : PROGRESS: at 17.66% examples, 259449 words/s, in_qsize 15, out_qsize 0\n",
      "2017-04-03 13:24:20,062 : INFO : PROGRESS: at 18.18% examples, 257988 words/s, in_qsize 16, out_qsize 0\n",
      "2017-04-03 13:24:21,109 : INFO : PROGRESS: at 18.78% examples, 256711 words/s, in_qsize 16, out_qsize 0\n",
      "2017-04-03 13:24:22,166 : INFO : PROGRESS: at 19.36% examples, 255318 words/s, in_qsize 16, out_qsize 0\n",
      "2017-04-03 13:24:23,185 : INFO : PROGRESS: at 19.92% examples, 254632 words/s, in_qsize 15, out_qsize 0\n",
      "2017-04-03 13:24:24,190 : INFO : PROGRESS: at 20.42% examples, 253085 words/s, in_qsize 14, out_qsize 1\n",
      "2017-04-03 13:24:25,240 : INFO : PROGRESS: at 20.93% examples, 251167 words/s, in_qsize 15, out_qsize 0\n",
      "2017-04-03 13:24:26,270 : INFO : PROGRESS: at 21.51% examples, 250525 words/s, in_qsize 16, out_qsize 0\n",
      "2017-04-03 13:24:27,298 : INFO : PROGRESS: at 22.04% examples, 249368 words/s, in_qsize 16, out_qsize 0\n",
      "2017-04-03 13:24:28,377 : INFO : PROGRESS: at 22.59% examples, 248111 words/s, in_qsize 16, out_qsize 0\n",
      "2017-04-03 13:24:29,416 : INFO : PROGRESS: at 23.17% examples, 247154 words/s, in_qsize 16, out_qsize 0\n",
      "2017-04-03 13:24:30,516 : INFO : PROGRESS: at 23.83% examples, 246555 words/s, in_qsize 16, out_qsize 0\n",
      "2017-04-03 13:24:31,550 : INFO : PROGRESS: at 24.35% examples, 245699 words/s, in_qsize 15, out_qsize 0\n",
      "2017-04-03 13:24:32,575 : INFO : PROGRESS: at 24.95% examples, 245739 words/s, in_qsize 16, out_qsize 0\n",
      "2017-04-03 13:24:33,603 : INFO : PROGRESS: at 25.54% examples, 244863 words/s, in_qsize 16, out_qsize 0\n",
      "2017-04-03 13:24:34,643 : INFO : PROGRESS: at 26.08% examples, 243879 words/s, in_qsize 16, out_qsize 0\n",
      "2017-04-03 13:24:35,725 : INFO : PROGRESS: at 26.58% examples, 242544 words/s, in_qsize 16, out_qsize 0\n",
      "2017-04-03 13:24:36,726 : INFO : PROGRESS: at 27.22% examples, 242341 words/s, in_qsize 16, out_qsize 0\n",
      "2017-04-03 13:24:37,731 : INFO : PROGRESS: at 27.83% examples, 241542 words/s, in_qsize 16, out_qsize 0\n",
      "2017-04-03 13:24:38,734 : INFO : PROGRESS: at 28.37% examples, 240921 words/s, in_qsize 16, out_qsize 0\n",
      "2017-04-03 13:24:39,783 : INFO : PROGRESS: at 28.87% examples, 240159 words/s, in_qsize 16, out_qsize 0\n",
      "2017-04-03 13:24:40,835 : INFO : PROGRESS: at 29.48% examples, 239930 words/s, in_qsize 16, out_qsize 0\n",
      "2017-04-03 13:24:41,850 : INFO : PROGRESS: at 30.12% examples, 239785 words/s, in_qsize 16, out_qsize 0\n",
      "2017-04-03 13:24:42,884 : INFO : PROGRESS: at 30.66% examples, 238963 words/s, in_qsize 15, out_qsize 0\n",
      "2017-04-03 13:24:43,911 : INFO : PROGRESS: at 31.25% examples, 239021 words/s, in_qsize 15, out_qsize 0\n",
      "2017-04-03 13:24:44,940 : INFO : PROGRESS: at 31.81% examples, 238665 words/s, in_qsize 15, out_qsize 0\n",
      "2017-04-03 13:24:45,971 : INFO : PROGRESS: at 32.37% examples, 238116 words/s, in_qsize 16, out_qsize 0\n",
      "2017-04-03 13:24:46,998 : INFO : PROGRESS: at 32.98% examples, 238223 words/s, in_qsize 16, out_qsize 0\n",
      "2017-04-03 13:24:48,049 : INFO : PROGRESS: at 33.57% examples, 237699 words/s, in_qsize 16, out_qsize 0\n",
      "2017-04-03 13:24:49,063 : INFO : PROGRESS: at 34.13% examples, 237430 words/s, in_qsize 15, out_qsize 0\n",
      "2017-04-03 13:24:50,069 : INFO : PROGRESS: at 34.64% examples, 237161 words/s, in_qsize 15, out_qsize 0\n",
      "2017-04-03 13:24:51,068 : INFO : PROGRESS: at 35.27% examples, 236960 words/s, in_qsize 15, out_qsize 0\n",
      "2017-04-03 13:24:52,109 : INFO : PROGRESS: at 35.91% examples, 236852 words/s, in_qsize 16, out_qsize 0\n",
      "2017-04-03 13:24:53,129 : INFO : PROGRESS: at 36.53% examples, 236834 words/s, in_qsize 16, out_qsize 1\n",
      "2017-04-03 13:24:54,139 : INFO : PROGRESS: at 37.05% examples, 236597 words/s, in_qsize 16, out_qsize 0\n",
      "2017-04-03 13:24:55,145 : INFO : PROGRESS: at 37.54% examples, 236350 words/s, in_qsize 15, out_qsize 0\n",
      "2017-04-03 13:24:56,203 : INFO : PROGRESS: at 38.08% examples, 235916 words/s, in_qsize 15, out_qsize 0\n",
      "2017-04-03 13:24:57,247 : INFO : PROGRESS: at 38.74% examples, 235968 words/s, in_qsize 16, out_qsize 0\n",
      "2017-04-03 13:24:58,288 : INFO : PROGRESS: at 39.34% examples, 235880 words/s, in_qsize 15, out_qsize 0\n",
      "2017-04-03 13:24:59,315 : INFO : PROGRESS: at 39.80% examples, 235147 words/s, in_qsize 16, out_qsize 0\n",
      "2017-04-03 13:25:00,373 : INFO : PROGRESS: at 40.32% examples, 234773 words/s, in_qsize 15, out_qsize 0\n",
      "2017-04-03 13:25:01,379 : INFO : PROGRESS: at 40.85% examples, 234394 words/s, in_qsize 16, out_qsize 0\n",
      "2017-04-03 13:25:02,385 : INFO : PROGRESS: at 41.40% examples, 234284 words/s, in_qsize 16, out_qsize 0\n",
      "2017-04-03 13:25:03,390 : INFO : PROGRESS: at 41.91% examples, 233908 words/s, in_qsize 15, out_qsize 0\n",
      "2017-04-03 13:25:04,494 : INFO : PROGRESS: at 42.51% examples, 233530 words/s, in_qsize 15, out_qsize 0\n",
      "2017-04-03 13:25:05,493 : INFO : PROGRESS: at 43.10% examples, 233508 words/s, in_qsize 16, out_qsize 0\n",
      "2017-04-03 13:25:06,501 : INFO : PROGRESS: at 43.71% examples, 233381 words/s, in_qsize 16, out_qsize 0\n",
      "2017-04-03 13:25:07,594 : INFO : PROGRESS: at 44.27% examples, 233139 words/s, in_qsize 15, out_qsize 0\n",
      "2017-04-03 13:25:08,624 : INFO : PROGRESS: at 44.83% examples, 233183 words/s, in_qsize 16, out_qsize 0\n",
      "2017-04-03 13:25:09,705 : INFO : PROGRESS: at 45.42% examples, 232823 words/s, in_qsize 16, out_qsize 0\n",
      "2017-04-03 13:25:10,735 : INFO : PROGRESS: at 46.00% examples, 232508 words/s, in_qsize 16, out_qsize 0\n",
      "2017-04-03 13:25:11,817 : INFO : PROGRESS: at 46.58% examples, 232383 words/s, in_qsize 16, out_qsize 0\n",
      "2017-04-03 13:25:12,840 : INFO : PROGRESS: at 47.17% examples, 232110 words/s, in_qsize 15, out_qsize 0\n",
      "2017-04-03 13:25:13,893 : INFO : PROGRESS: at 47.83% examples, 231856 words/s, in_qsize 15, out_qsize 0\n",
      "2017-04-03 13:25:14,913 : INFO : PROGRESS: at 48.45% examples, 232062 words/s, in_qsize 16, out_qsize 0\n",
      "2017-04-03 13:25:15,914 : INFO : PROGRESS: at 48.97% examples, 231825 words/s, in_qsize 16, out_qsize 0\n",
      "2017-04-03 13:25:16,926 : INFO : PROGRESS: at 49.52% examples, 231713 words/s, in_qsize 15, out_qsize 0\n",
      "2017-04-03 13:25:17,938 : INFO : PROGRESS: at 50.08% examples, 231409 words/s, in_qsize 16, out_qsize 0\n",
      "2017-04-03 13:25:18,986 : INFO : PROGRESS: at 50.66% examples, 231100 words/s, in_qsize 15, out_qsize 0\n",
      "2017-04-03 13:25:20,000 : INFO : PROGRESS: at 51.15% examples, 230823 words/s, in_qsize 16, out_qsize 0\n",
      "2017-04-03 13:25:21,015 : INFO : PROGRESS: at 51.65% examples, 230441 words/s, in_qsize 16, out_qsize 0\n",
      "2017-04-03 13:25:22,016 : INFO : PROGRESS: at 52.27% examples, 230594 words/s, in_qsize 16, out_qsize 0\n",
      "2017-04-03 13:25:23,037 : INFO : PROGRESS: at 52.73% examples, 230049 words/s, in_qsize 16, out_qsize 0\n",
      "2017-04-03 13:25:24,079 : INFO : PROGRESS: at 53.36% examples, 230167 words/s, in_qsize 16, out_qsize 0\n",
      "2017-04-03 13:25:25,107 : INFO : PROGRESS: at 53.85% examples, 229614 words/s, in_qsize 16, out_qsize 0\n",
      "2017-04-03 13:25:26,149 : INFO : PROGRESS: at 54.41% examples, 229531 words/s, in_qsize 16, out_qsize 0\n",
      "2017-04-03 13:25:27,194 : INFO : PROGRESS: at 54.96% examples, 229305 words/s, in_qsize 16, out_qsize 0\n",
      "2017-04-03 13:25:28,192 : INFO : PROGRESS: at 55.64% examples, 229436 words/s, in_qsize 16, out_qsize 0\n",
      "2017-04-03 13:25:29,244 : INFO : PROGRESS: at 56.18% examples, 229247 words/s, in_qsize 15, out_qsize 0\n",
      "2017-04-03 13:25:30,252 : INFO : PROGRESS: at 56.79% examples, 229281 words/s, in_qsize 16, out_qsize 0\n",
      "2017-04-03 13:25:31,269 : INFO : PROGRESS: at 57.31% examples, 229266 words/s, in_qsize 16, out_qsize 0\n",
      "2017-04-03 13:25:32,317 : INFO : PROGRESS: at 57.89% examples, 229344 words/s, in_qsize 16, out_qsize 0\n",
      "2017-04-03 13:25:33,470 : INFO : PROGRESS: at 58.47% examples, 229011 words/s, in_qsize 15, out_qsize 0\n",
      "2017-04-03 13:25:34,497 : INFO : PROGRESS: at 59.02% examples, 228701 words/s, in_qsize 16, out_qsize 0\n",
      "2017-04-03 13:25:35,516 : INFO : PROGRESS: at 59.61% examples, 228829 words/s, in_qsize 16, out_qsize 0\n",
      "2017-04-03 13:25:36,535 : INFO : PROGRESS: at 60.13% examples, 228726 words/s, in_qsize 16, out_qsize 0\n",
      "2017-04-03 13:25:37,554 : INFO : PROGRESS: at 60.60% examples, 228478 words/s, in_qsize 16, out_qsize 0\n",
      "2017-04-03 13:25:38,557 : INFO : PROGRESS: at 61.18% examples, 228307 words/s, in_qsize 16, out_qsize 0\n",
      "2017-04-03 13:25:39,586 : INFO : PROGRESS: at 61.68% examples, 228152 words/s, in_qsize 16, out_qsize 1\n",
      "2017-04-03 13:25:40,646 : INFO : PROGRESS: at 62.16% examples, 227748 words/s, in_qsize 15, out_qsize 0\n",
      "2017-04-03 13:25:41,733 : INFO : PROGRESS: at 62.76% examples, 227619 words/s, in_qsize 15, out_qsize 0\n",
      "2017-04-03 13:25:42,751 : INFO : PROGRESS: at 63.29% examples, 227353 words/s, in_qsize 15, out_qsize 0\n",
      "2017-04-03 13:25:43,888 : INFO : PROGRESS: at 63.89% examples, 227106 words/s, in_qsize 16, out_qsize 0\n",
      "2017-04-03 13:25:44,903 : INFO : PROGRESS: at 64.41% examples, 227022 words/s, in_qsize 15, out_qsize 0\n",
      "2017-04-03 13:25:45,909 : INFO : PROGRESS: at 64.93% examples, 226909 words/s, in_qsize 16, out_qsize 0\n",
      "2017-04-03 13:25:46,915 : INFO : PROGRESS: at 65.51% examples, 226809 words/s, in_qsize 15, out_qsize 0\n",
      "2017-04-03 13:25:47,935 : INFO : PROGRESS: at 65.98% examples, 226358 words/s, in_qsize 16, out_qsize 0\n",
      "2017-04-03 13:25:49,006 : INFO : PROGRESS: at 66.46% examples, 225928 words/s, in_qsize 15, out_qsize 0\n",
      "2017-04-03 13:25:50,011 : INFO : PROGRESS: at 66.98% examples, 225756 words/s, in_qsize 15, out_qsize 1\n",
      "2017-04-03 13:25:51,063 : INFO : PROGRESS: at 67.61% examples, 225576 words/s, in_qsize 15, out_qsize 0\n",
      "2017-04-03 13:25:52,087 : INFO : PROGRESS: at 68.14% examples, 225366 words/s, in_qsize 15, out_qsize 0\n",
      "2017-04-03 13:25:53,097 : INFO : PROGRESS: at 68.73% examples, 225486 words/s, in_qsize 16, out_qsize 0\n",
      "2017-04-03 13:25:54,104 : INFO : PROGRESS: at 69.28% examples, 225445 words/s, in_qsize 16, out_qsize 0\n",
      "2017-04-03 13:25:55,163 : INFO : PROGRESS: at 69.87% examples, 225340 words/s, in_qsize 15, out_qsize 0\n",
      "2017-04-03 13:25:56,247 : INFO : PROGRESS: at 70.43% examples, 225039 words/s, in_qsize 16, out_qsize 0\n",
      "2017-04-03 13:25:57,298 : INFO : PROGRESS: at 71.04% examples, 225216 words/s, in_qsize 16, out_qsize 0\n",
      "2017-04-03 13:25:58,302 : INFO : PROGRESS: at 71.58% examples, 225078 words/s, in_qsize 16, out_qsize 0\n",
      "2017-04-03 13:25:59,312 : INFO : PROGRESS: at 72.13% examples, 224994 words/s, in_qsize 15, out_qsize 0\n",
      "2017-04-03 13:26:00,317 : INFO : PROGRESS: at 72.65% examples, 224903 words/s, in_qsize 15, out_qsize 0\n",
      "2017-04-03 13:26:01,370 : INFO : PROGRESS: at 73.14% examples, 224494 words/s, in_qsize 16, out_qsize 0\n",
      "2017-04-03 13:26:02,377 : INFO : PROGRESS: at 73.69% examples, 224387 words/s, in_qsize 16, out_qsize 0\n",
      "2017-04-03 13:26:03,394 : INFO : PROGRESS: at 74.25% examples, 224424 words/s, in_qsize 16, out_qsize 0\n",
      "2017-04-03 13:26:04,520 : INFO : PROGRESS: at 74.75% examples, 224151 words/s, in_qsize 16, out_qsize 0\n",
      "2017-04-03 13:26:05,530 : INFO : PROGRESS: at 75.27% examples, 223792 words/s, in_qsize 16, out_qsize 0\n",
      "2017-04-03 13:26:06,540 : INFO : PROGRESS: at 75.84% examples, 223690 words/s, in_qsize 16, out_qsize 0\n",
      "2017-04-03 13:26:07,561 : INFO : PROGRESS: at 76.35% examples, 223531 words/s, in_qsize 16, out_qsize 0\n",
      "2017-04-03 13:26:08,625 : INFO : PROGRESS: at 76.91% examples, 223412 words/s, in_qsize 15, out_qsize 0\n",
      "2017-04-03 13:26:09,634 : INFO : PROGRESS: at 77.43% examples, 223480 words/s, in_qsize 16, out_qsize 0\n",
      "2017-04-03 13:26:10,666 : INFO : PROGRESS: at 77.95% examples, 223336 words/s, in_qsize 15, out_qsize 0\n",
      "2017-04-03 13:26:11,676 : INFO : PROGRESS: at 78.50% examples, 223307 words/s, in_qsize 16, out_qsize 0\n",
      "2017-04-03 13:26:12,749 : INFO : PROGRESS: at 79.15% examples, 223363 words/s, in_qsize 16, out_qsize 0\n",
      "2017-04-03 13:26:13,834 : INFO : PROGRESS: at 79.66% examples, 223213 words/s, in_qsize 15, out_qsize 0\n",
      "2017-04-03 13:26:14,838 : INFO : PROGRESS: at 80.21% examples, 223271 words/s, in_qsize 16, out_qsize 0\n",
      "2017-04-03 13:26:15,912 : INFO : PROGRESS: at 80.70% examples, 223029 words/s, in_qsize 15, out_qsize 0\n",
      "2017-04-03 13:26:16,959 : INFO : PROGRESS: at 81.29% examples, 222949 words/s, in_qsize 15, out_qsize 0\n",
      "2017-04-03 13:26:18,011 : INFO : PROGRESS: at 81.82% examples, 222970 words/s, in_qsize 16, out_qsize 0\n",
      "2017-04-03 13:26:19,014 : INFO : PROGRESS: at 82.50% examples, 223219 words/s, in_qsize 15, out_qsize 0\n",
      "2017-04-03 13:26:20,038 : INFO : PROGRESS: at 83.01% examples, 223006 words/s, in_qsize 15, out_qsize 0\n",
      "2017-04-03 13:26:21,089 : INFO : PROGRESS: at 83.66% examples, 223119 words/s, in_qsize 16, out_qsize 0\n",
      "2017-04-03 13:26:22,095 : INFO : PROGRESS: at 84.27% examples, 223265 words/s, in_qsize 15, out_qsize 0\n",
      "2017-04-03 13:26:23,127 : INFO : PROGRESS: at 84.79% examples, 223175 words/s, in_qsize 16, out_qsize 0\n",
      "2017-04-03 13:26:24,155 : INFO : PROGRESS: at 85.34% examples, 223123 words/s, in_qsize 15, out_qsize 0\n",
      "2017-04-03 13:26:25,160 : INFO : PROGRESS: at 85.98% examples, 223207 words/s, in_qsize 15, out_qsize 0\n",
      "2017-04-03 13:26:26,165 : INFO : PROGRESS: at 86.55% examples, 223302 words/s, in_qsize 16, out_qsize 0\n",
      "2017-04-03 13:26:27,183 : INFO : PROGRESS: at 87.17% examples, 223287 words/s, in_qsize 15, out_qsize 0\n",
      "2017-04-03 13:26:28,254 : INFO : PROGRESS: at 87.86% examples, 223273 words/s, in_qsize 16, out_qsize 1\n",
      "2017-04-03 13:26:29,256 : INFO : PROGRESS: at 88.40% examples, 223250 words/s, in_qsize 16, out_qsize 0\n",
      "2017-04-03 13:26:30,269 : INFO : PROGRESS: at 88.87% examples, 223070 words/s, in_qsize 16, out_qsize 0\n",
      "2017-04-03 13:26:31,273 : INFO : PROGRESS: at 89.44% examples, 223061 words/s, in_qsize 16, out_qsize 0\n",
      "2017-04-03 13:26:32,291 : INFO : PROGRESS: at 89.99% examples, 222933 words/s, in_qsize 16, out_qsize 0\n",
      "2017-04-03 13:26:33,373 : INFO : PROGRESS: at 90.58% examples, 222845 words/s, in_qsize 16, out_qsize 0\n",
      "2017-04-03 13:26:34,404 : INFO : PROGRESS: at 91.10% examples, 222788 words/s, in_qsize 16, out_qsize 0\n",
      "2017-04-03 13:26:35,473 : INFO : PROGRESS: at 91.67% examples, 222723 words/s, in_qsize 15, out_qsize 0\n",
      "2017-04-03 13:26:36,492 : INFO : PROGRESS: at 92.27% examples, 222771 words/s, in_qsize 16, out_qsize 0\n",
      "2017-04-03 13:26:37,540 : INFO : PROGRESS: at 92.85% examples, 222751 words/s, in_qsize 16, out_qsize 0\n",
      "2017-04-03 13:26:38,558 : INFO : PROGRESS: at 93.37% examples, 222627 words/s, in_qsize 16, out_qsize 0\n",
      "2017-04-03 13:26:39,591 : INFO : PROGRESS: at 93.99% examples, 222647 words/s, in_qsize 15, out_qsize 0\n",
      "2017-04-03 13:26:40,611 : INFO : PROGRESS: at 94.53% examples, 222667 words/s, in_qsize 15, out_qsize 0\n",
      "2017-04-03 13:26:41,668 : INFO : PROGRESS: at 95.10% examples, 222610 words/s, in_qsize 16, out_qsize 0\n",
      "2017-04-03 13:26:42,709 : INFO : PROGRESS: at 95.70% examples, 222507 words/s, in_qsize 16, out_qsize 1\n",
      "2017-04-03 13:26:43,745 : INFO : PROGRESS: at 96.20% examples, 222362 words/s, in_qsize 16, out_qsize 0\n",
      "2017-04-03 13:26:44,771 : INFO : PROGRESS: at 96.81% examples, 222399 words/s, in_qsize 16, out_qsize 0\n",
      "2017-04-03 13:26:45,776 : INFO : PROGRESS: at 97.31% examples, 222389 words/s, in_qsize 16, out_qsize 0\n",
      "2017-04-03 13:26:46,796 : INFO : PROGRESS: at 97.85% examples, 222356 words/s, in_qsize 16, out_qsize 0\n",
      "2017-04-03 13:26:47,831 : INFO : PROGRESS: at 98.37% examples, 222297 words/s, in_qsize 16, out_qsize 0\n",
      "2017-04-03 13:26:48,923 : INFO : PROGRESS: at 98.99% examples, 222236 words/s, in_qsize 16, out_qsize 0\n",
      "2017-04-03 13:26:49,942 : INFO : PROGRESS: at 99.56% examples, 222295 words/s, in_qsize 16, out_qsize 0\n",
      "2017-04-03 13:26:50,398 : INFO : worker thread finished; awaiting finish of 7 more threads\n",
      "2017-04-03 13:26:50,402 : INFO : worker thread finished; awaiting finish of 6 more threads\n",
      "2017-04-03 13:26:50,514 : INFO : worker thread finished; awaiting finish of 5 more threads\n",
      "2017-04-03 13:26:50,541 : INFO : worker thread finished; awaiting finish of 4 more threads\n",
      "2017-04-03 13:26:50,593 : INFO : worker thread finished; awaiting finish of 3 more threads\n",
      "2017-04-03 13:26:50,603 : INFO : worker thread finished; awaiting finish of 2 more threads\n",
      "2017-04-03 13:26:50,604 : INFO : worker thread finished; awaiting finish of 1 more threads\n",
      "2017-04-03 13:26:50,611 : INFO : worker thread finished; awaiting finish of 0 more threads\n",
      "2017-04-03 13:26:50,614 : INFO : training on 41685690 raw words (39719350 effective words) took 178.5s, 222504 effective words/s\n",
      "2017-04-03 13:26:50,615 : INFO : Training D2V model Doc2Vec(dbow,d500,n12,mc5,t8)\n",
      "2017-04-03 13:26:50,617 : INFO : Epoch 4 convergence descent alpha: 0.1\n",
      "2017-04-03 13:27:11,077 : INFO : training model with 8 workers on 50055 vocabulary and 500 features, using sg=1 hs=0 sample=0 negative=12\n",
      "2017-04-03 13:27:11,078 : INFO : expecting 72253 sentences, matching count from corpus used for vocabulary survey\n",
      "2017-04-03 13:27:12,122 : INFO : PROGRESS: at 0.81% examples, 330480 words/s, in_qsize 15, out_qsize 0\n",
      "2017-04-03 13:27:13,131 : INFO : PROGRESS: at 1.69% examples, 343770 words/s, in_qsize 15, out_qsize 0\n",
      "2017-04-03 13:27:14,167 : INFO : PROGRESS: at 2.63% examples, 346170 words/s, in_qsize 16, out_qsize 0\n",
      "2017-04-03 13:27:15,180 : INFO : PROGRESS: at 3.60% examples, 352517 words/s, in_qsize 15, out_qsize 0\n",
      "2017-04-03 13:27:16,185 : INFO : PROGRESS: at 4.44% examples, 351012 words/s, in_qsize 16, out_qsize 0\n",
      "2017-04-03 13:27:17,200 : INFO : PROGRESS: at 5.39% examples, 350751 words/s, in_qsize 15, out_qsize 0\n",
      "2017-04-03 13:27:18,212 : INFO : PROGRESS: at 6.23% examples, 351340 words/s, in_qsize 15, out_qsize 0\n",
      "2017-04-03 13:27:19,213 : INFO : PROGRESS: at 7.21% examples, 355137 words/s, in_qsize 16, out_qsize 0\n",
      "2017-04-03 13:27:20,217 : INFO : PROGRESS: at 7.78% examples, 343621 words/s, in_qsize 16, out_qsize 0\n",
      "2017-04-03 13:27:21,220 : INFO : PROGRESS: at 8.34% examples, 332498 words/s, in_qsize 15, out_qsize 0\n",
      "2017-04-03 13:27:22,226 : INFO : PROGRESS: at 8.87% examples, 320966 words/s, in_qsize 16, out_qsize 0\n",
      "2017-04-03 13:27:23,232 : INFO : PROGRESS: at 9.45% examples, 313349 words/s, in_qsize 15, out_qsize 0\n",
      "2017-04-03 13:27:24,238 : INFO : PROGRESS: at 9.92% examples, 302813 words/s, in_qsize 16, out_qsize 0\n",
      "2017-04-03 13:27:25,251 : INFO : PROGRESS: at 10.46% examples, 295088 words/s, in_qsize 15, out_qsize 0\n",
      "2017-04-03 13:27:26,260 : INFO : PROGRESS: at 10.97% examples, 288004 words/s, in_qsize 15, out_qsize 0\n",
      "2017-04-03 13:27:27,281 : INFO : PROGRESS: at 11.40% examples, 280585 words/s, in_qsize 16, out_qsize 0\n",
      "2017-04-03 13:27:28,430 : INFO : PROGRESS: at 11.95% examples, 275092 words/s, in_qsize 15, out_qsize 0\n",
      "2017-04-03 13:27:29,465 : INFO : PROGRESS: at 12.50% examples, 270325 words/s, in_qsize 15, out_qsize 0\n",
      "2017-04-03 13:27:30,515 : INFO : PROGRESS: at 13.07% examples, 267684 words/s, in_qsize 16, out_qsize 0\n",
      "2017-04-03 13:27:31,532 : INFO : PROGRESS: at 13.61% examples, 265155 words/s, in_qsize 16, out_qsize 0\n",
      "2017-04-03 13:27:32,575 : INFO : PROGRESS: at 14.22% examples, 263776 words/s, in_qsize 16, out_qsize 0\n",
      "2017-04-03 13:27:33,635 : INFO : PROGRESS: at 14.82% examples, 261777 words/s, in_qsize 16, out_qsize 0\n",
      "2017-04-03 13:27:34,685 : INFO : PROGRESS: at 15.47% examples, 261089 words/s, in_qsize 16, out_qsize 0\n",
      "2017-04-03 13:27:35,741 : INFO : PROGRESS: at 15.99% examples, 258636 words/s, in_qsize 16, out_qsize 0\n",
      "2017-04-03 13:27:36,771 : INFO : PROGRESS: at 16.65% examples, 258572 words/s, in_qsize 15, out_qsize 0\n",
      "2017-04-03 13:27:37,780 : INFO : PROGRESS: at 17.03% examples, 255473 words/s, in_qsize 16, out_qsize 0\n",
      "2017-04-03 13:27:38,796 : INFO : PROGRESS: at 17.49% examples, 252058 words/s, in_qsize 16, out_qsize 0\n",
      "2017-04-03 13:27:39,806 : INFO : PROGRESS: at 17.97% examples, 249709 words/s, in_qsize 16, out_qsize 0\n",
      "2017-04-03 13:27:40,826 : INFO : PROGRESS: at 18.52% examples, 248247 words/s, in_qsize 16, out_qsize 0\n",
      "2017-04-03 13:27:41,848 : INFO : PROGRESS: at 19.01% examples, 246404 words/s, in_qsize 16, out_qsize 0\n",
      "2017-04-03 13:27:42,970 : INFO : PROGRESS: at 19.47% examples, 243032 words/s, in_qsize 15, out_qsize 0\n",
      "2017-04-03 13:27:44,010 : INFO : PROGRESS: at 19.98% examples, 241207 words/s, in_qsize 16, out_qsize 0\n",
      "2017-04-03 13:27:45,020 : INFO : PROGRESS: at 20.41% examples, 239134 words/s, in_qsize 16, out_qsize 0\n",
      "2017-04-03 13:27:46,057 : INFO : PROGRESS: at 20.79% examples, 236706 words/s, in_qsize 16, out_qsize 0\n",
      "2017-04-03 13:27:47,137 : INFO : PROGRESS: at 21.22% examples, 234228 words/s, in_qsize 15, out_qsize 0\n",
      "2017-04-03 13:27:48,141 : INFO : PROGRESS: at 21.65% examples, 232891 words/s, in_qsize 15, out_qsize 0\n",
      "2017-04-03 13:27:49,183 : INFO : PROGRESS: at 22.12% examples, 231463 words/s, in_qsize 15, out_qsize 0\n",
      "2017-04-03 13:27:50,188 : INFO : PROGRESS: at 22.58% examples, 230001 words/s, in_qsize 16, out_qsize 0\n",
      "2017-04-03 13:27:51,247 : INFO : PROGRESS: at 23.13% examples, 229211 words/s, in_qsize 16, out_qsize 0\n",
      "2017-04-03 13:27:52,350 : INFO : PROGRESS: at 23.64% examples, 227963 words/s, in_qsize 16, out_qsize 0\n",
      "2017-04-03 13:27:53,371 : INFO : PROGRESS: at 24.13% examples, 227336 words/s, in_qsize 15, out_qsize 0\n",
      "2017-04-03 13:27:54,534 : INFO : PROGRESS: at 24.74% examples, 226700 words/s, in_qsize 16, out_qsize 0\n",
      "2017-04-03 13:27:55,539 : INFO : PROGRESS: at 25.35% examples, 226586 words/s, in_qsize 16, out_qsize 0\n",
      "2017-04-03 13:27:56,548 : INFO : PROGRESS: at 25.89% examples, 226367 words/s, in_qsize 16, out_qsize 0\n",
      "2017-04-03 13:27:57,566 : INFO : PROGRESS: at 26.44% examples, 226377 words/s, in_qsize 16, out_qsize 0\n",
      "2017-04-03 13:27:58,654 : INFO : PROGRESS: at 26.96% examples, 225695 words/s, in_qsize 15, out_qsize 0\n",
      "2017-04-03 13:27:59,680 : INFO : PROGRESS: at 27.57% examples, 225906 words/s, in_qsize 16, out_qsize 0\n",
      "2017-04-03 13:28:00,700 : INFO : PROGRESS: at 28.05% examples, 225800 words/s, in_qsize 15, out_qsize 0\n",
      "2017-04-03 13:28:01,811 : INFO : PROGRESS: at 28.59% examples, 224914 words/s, in_qsize 16, out_qsize 0\n",
      "2017-04-03 13:28:02,932 : INFO : PROGRESS: at 29.16% examples, 224554 words/s, in_qsize 16, out_qsize 0\n",
      "2017-04-03 13:28:04,017 : INFO : PROGRESS: at 29.75% examples, 224286 words/s, in_qsize 16, out_qsize 0\n",
      "2017-04-03 13:28:05,064 : INFO : PROGRESS: at 30.40% examples, 224262 words/s, in_qsize 16, out_qsize 0\n",
      "2017-04-03 13:28:06,099 : INFO : PROGRESS: at 30.95% examples, 223838 words/s, in_qsize 15, out_qsize 0\n",
      "2017-04-03 13:28:07,159 : INFO : PROGRESS: at 31.50% examples, 223390 words/s, in_qsize 15, out_qsize 0\n",
      "2017-04-03 13:28:08,198 : INFO : PROGRESS: at 31.91% examples, 222323 words/s, in_qsize 16, out_qsize 0\n",
      "2017-04-03 13:28:09,299 : INFO : PROGRESS: at 32.40% examples, 221185 words/s, in_qsize 15, out_qsize 0\n",
      "2017-04-03 13:28:10,402 : INFO : PROGRESS: at 32.90% examples, 220580 words/s, in_qsize 16, out_qsize 0\n",
      "2017-04-03 13:28:11,412 : INFO : PROGRESS: at 33.36% examples, 219770 words/s, in_qsize 16, out_qsize 0\n",
      "2017-04-03 13:28:12,460 : INFO : PROGRESS: at 33.88% examples, 219473 words/s, in_qsize 16, out_qsize 0\n",
      "2017-04-03 13:28:13,528 : INFO : PROGRESS: at 34.28% examples, 218558 words/s, in_qsize 16, out_qsize 0\n",
      "2017-04-03 13:28:14,566 : INFO : PROGRESS: at 34.82% examples, 218161 words/s, in_qsize 16, out_qsize 0\n",
      "2017-04-03 13:28:15,602 : INFO : PROGRESS: at 35.30% examples, 217608 words/s, in_qsize 15, out_qsize 0\n",
      "2017-04-03 13:28:16,695 : INFO : PROGRESS: at 35.77% examples, 216708 words/s, in_qsize 16, out_qsize 0\n",
      "2017-04-03 13:28:17,709 : INFO : PROGRESS: at 36.28% examples, 216415 words/s, in_qsize 16, out_qsize 0\n",
      "2017-04-03 13:28:18,757 : INFO : PROGRESS: at 36.67% examples, 215676 words/s, in_qsize 15, out_qsize 0\n",
      "2017-04-03 13:28:19,802 : INFO : PROGRESS: at 37.08% examples, 215124 words/s, in_qsize 15, out_qsize 0\n",
      "2017-04-03 13:28:20,885 : INFO : PROGRESS: at 37.57% examples, 214521 words/s, in_qsize 15, out_qsize 0\n",
      "2017-04-03 13:28:21,963 : INFO : PROGRESS: at 38.13% examples, 214271 words/s, in_qsize 16, out_qsize 0\n",
      "2017-04-03 13:28:22,975 : INFO : PROGRESS: at 38.74% examples, 214525 words/s, in_qsize 16, out_qsize 0\n",
      "2017-04-03 13:28:24,061 : INFO : PROGRESS: at 39.32% examples, 214276 words/s, in_qsize 16, out_qsize 1\n",
      "2017-04-03 13:28:25,078 : INFO : PROGRESS: at 39.87% examples, 214174 words/s, in_qsize 15, out_qsize 0\n",
      "2017-04-03 13:28:26,084 : INFO : PROGRESS: at 40.43% examples, 214250 words/s, in_qsize 16, out_qsize 0\n",
      "2017-04-03 13:28:27,207 : INFO : PROGRESS: at 40.98% examples, 214178 words/s, in_qsize 16, out_qsize 0\n",
      "2017-04-03 13:28:28,229 : INFO : PROGRESS: at 41.55% examples, 214274 words/s, in_qsize 15, out_qsize 0\n",
      "2017-04-03 13:28:29,253 : INFO : PROGRESS: at 42.10% examples, 214199 words/s, in_qsize 16, out_qsize 0\n",
      "2017-04-03 13:28:30,276 : INFO : PROGRESS: at 42.54% examples, 213645 words/s, in_qsize 15, out_qsize 0\n",
      "2017-04-03 13:28:31,283 : INFO : PROGRESS: at 43.05% examples, 213500 words/s, in_qsize 16, out_qsize 0\n",
      "2017-04-03 13:28:32,327 : INFO : PROGRESS: at 43.65% examples, 213572 words/s, in_qsize 15, out_qsize 0\n",
      "2017-04-03 13:28:33,332 : INFO : PROGRESS: at 44.18% examples, 213702 words/s, in_qsize 16, out_qsize 0\n",
      "2017-04-03 13:28:34,390 : INFO : PROGRESS: at 44.77% examples, 213692 words/s, in_qsize 15, out_qsize 0\n",
      "2017-04-03 13:28:35,452 : INFO : PROGRESS: at 45.42% examples, 213843 words/s, in_qsize 15, out_qsize 0\n",
      "2017-04-03 13:28:36,458 : INFO : PROGRESS: at 45.97% examples, 214049 words/s, in_qsize 15, out_qsize 0\n",
      "2017-04-03 13:28:37,478 : INFO : PROGRESS: at 46.48% examples, 213966 words/s, in_qsize 16, out_qsize 0\n",
      "2017-04-03 13:28:38,486 : INFO : PROGRESS: at 47.03% examples, 214054 words/s, in_qsize 15, out_qsize 0\n",
      "2017-04-03 13:28:39,554 : INFO : PROGRESS: at 47.58% examples, 213883 words/s, in_qsize 16, out_qsize 0\n",
      "2017-04-03 13:28:40,594 : INFO : PROGRESS: at 48.04% examples, 213804 words/s, in_qsize 16, out_qsize 0\n",
      "2017-04-03 13:28:41,654 : INFO : PROGRESS: at 48.61% examples, 213787 words/s, in_qsize 15, out_qsize 0\n",
      "2017-04-03 13:28:42,739 : INFO : PROGRESS: at 49.20% examples, 213819 words/s, in_qsize 15, out_qsize 0\n",
      "2017-04-03 13:28:43,769 : INFO : PROGRESS: at 49.79% examples, 213905 words/s, in_qsize 16, out_qsize 0\n",
      "2017-04-03 13:28:44,821 : INFO : PROGRESS: at 50.41% examples, 213892 words/s, in_qsize 16, out_qsize 0\n",
      "2017-04-03 13:28:45,832 : INFO : PROGRESS: at 50.97% examples, 213927 words/s, in_qsize 16, out_qsize 0\n",
      "2017-04-03 13:28:46,836 : INFO : PROGRESS: at 51.50% examples, 213789 words/s, in_qsize 15, out_qsize 0\n",
      "2017-04-03 13:28:47,857 : INFO : PROGRESS: at 52.15% examples, 214263 words/s, in_qsize 16, out_qsize 0\n",
      "2017-04-03 13:28:48,863 : INFO : PROGRESS: at 52.71% examples, 214284 words/s, in_qsize 16, out_qsize 0\n",
      "2017-04-03 13:28:49,882 : INFO : PROGRESS: at 53.27% examples, 214310 words/s, in_qsize 16, out_qsize 0\n",
      "2017-04-03 13:28:50,949 : INFO : PROGRESS: at 53.83% examples, 214259 words/s, in_qsize 16, out_qsize 0\n",
      "2017-04-03 13:28:51,951 : INFO : PROGRESS: at 54.38% examples, 214401 words/s, in_qsize 16, out_qsize 0\n",
      "2017-04-03 13:28:52,967 : INFO : PROGRESS: at 55.03% examples, 214719 words/s, in_qsize 15, out_qsize 0\n",
      "2017-04-03 13:28:54,018 : INFO : PROGRESS: at 55.55% examples, 214492 words/s, in_qsize 15, out_qsize 0\n",
      "2017-04-03 13:28:55,039 : INFO : PROGRESS: at 56.21% examples, 214884 words/s, in_qsize 15, out_qsize 0\n",
      "2017-04-03 13:28:56,138 : INFO : PROGRESS: at 56.81% examples, 215081 words/s, in_qsize 15, out_qsize 0\n",
      "2017-04-03 13:28:57,139 : INFO : PROGRESS: at 57.33% examples, 215072 words/s, in_qsize 15, out_qsize 0\n",
      "2017-04-03 13:28:58,204 : INFO : PROGRESS: at 57.91% examples, 215075 words/s, in_qsize 16, out_qsize 0\n",
      "2017-04-03 13:28:59,216 : INFO : PROGRESS: at 58.41% examples, 214875 words/s, in_qsize 16, out_qsize 0\n",
      "2017-04-03 13:29:00,307 : INFO : PROGRESS: at 59.06% examples, 215036 words/s, in_qsize 15, out_qsize 0\n",
      "2017-04-03 13:29:01,313 : INFO : PROGRESS: at 59.66% examples, 215130 words/s, in_qsize 16, out_qsize 0\n",
      "2017-04-03 13:29:02,348 : INFO : PROGRESS: at 60.26% examples, 215126 words/s, in_qsize 15, out_qsize 0\n",
      "2017-04-03 13:29:03,370 : INFO : PROGRESS: at 60.80% examples, 215214 words/s, in_qsize 15, out_qsize 0\n",
      "2017-04-03 13:29:04,378 : INFO : PROGRESS: at 61.35% examples, 215261 words/s, in_qsize 15, out_qsize 0\n",
      "2017-04-03 13:29:05,389 : INFO : PROGRESS: at 61.92% examples, 215405 words/s, in_qsize 15, out_qsize 0\n",
      "2017-04-03 13:29:06,404 : INFO : PROGRESS: at 62.52% examples, 215514 words/s, in_qsize 16, out_qsize 0\n",
      "2017-04-03 13:29:07,410 : INFO : PROGRESS: at 63.12% examples, 215716 words/s, in_qsize 15, out_qsize 0\n",
      "2017-04-03 13:29:08,419 : INFO : PROGRESS: at 63.69% examples, 215743 words/s, in_qsize 15, out_qsize 0\n",
      "2017-04-03 13:29:09,424 : INFO : PROGRESS: at 64.15% examples, 215572 words/s, in_qsize 16, out_qsize 0\n",
      "2017-04-03 13:29:10,425 : INFO : PROGRESS: at 64.77% examples, 215733 words/s, in_qsize 15, out_qsize 0\n",
      "2017-04-03 13:29:11,469 : INFO : PROGRESS: at 65.38% examples, 215704 words/s, in_qsize 16, out_qsize 0\n",
      "2017-04-03 13:29:12,470 : INFO : PROGRESS: at 65.92% examples, 215830 words/s, in_qsize 16, out_qsize 0\n",
      "2017-04-03 13:29:13,512 : INFO : PROGRESS: at 66.46% examples, 215796 words/s, in_qsize 15, out_qsize 0\n",
      "2017-04-03 13:29:14,514 : INFO : PROGRESS: at 67.00% examples, 215855 words/s, in_qsize 16, out_qsize 0\n",
      "2017-04-03 13:29:15,570 : INFO : PROGRESS: at 67.64% examples, 216030 words/s, in_qsize 15, out_qsize 0\n",
      "2017-04-03 13:29:16,633 : INFO : PROGRESS: at 68.19% examples, 216222 words/s, in_qsize 15, out_qsize 0\n",
      "2017-04-03 13:29:17,648 : INFO : PROGRESS: at 68.72% examples, 216040 words/s, in_qsize 16, out_qsize 0\n",
      "2017-04-03 13:29:18,701 : INFO : PROGRESS: at 69.20% examples, 215799 words/s, in_qsize 16, out_qsize 0\n",
      "2017-04-03 13:29:19,732 : INFO : PROGRESS: at 69.79% examples, 215857 words/s, in_qsize 16, out_qsize 0\n",
      "2017-04-03 13:29:20,775 : INFO : PROGRESS: at 70.38% examples, 215774 words/s, in_qsize 16, out_qsize 0\n",
      "2017-04-03 13:29:21,797 : INFO : PROGRESS: at 70.93% examples, 215688 words/s, in_qsize 16, out_qsize 0\n",
      "2017-04-03 13:29:22,805 : INFO : PROGRESS: at 71.44% examples, 215572 words/s, in_qsize 14, out_qsize 1\n",
      "2017-04-03 13:29:23,824 : INFO : PROGRESS: at 71.93% examples, 215421 words/s, in_qsize 15, out_qsize 0\n",
      "2017-04-03 13:29:24,826 : INFO : PROGRESS: at 72.51% examples, 215346 words/s, in_qsize 16, out_qsize 0\n",
      "2017-04-03 13:29:25,911 : INFO : PROGRESS: at 73.09% examples, 215408 words/s, in_qsize 15, out_qsize 0\n",
      "2017-04-03 13:29:27,010 : INFO : PROGRESS: at 73.61% examples, 215217 words/s, in_qsize 15, out_qsize 0\n",
      "2017-04-03 13:29:28,092 : INFO : PROGRESS: at 74.15% examples, 215115 words/s, in_qsize 16, out_qsize 0\n",
      "2017-04-03 13:29:29,184 : INFO : PROGRESS: at 74.64% examples, 214801 words/s, in_qsize 16, out_qsize 0\n",
      "2017-04-03 13:29:30,204 : INFO : PROGRESS: at 75.12% examples, 214614 words/s, in_qsize 15, out_qsize 0\n",
      "2017-04-03 13:29:31,231 : INFO : PROGRESS: at 75.70% examples, 214615 words/s, in_qsize 16, out_qsize 0\n",
      "2017-04-03 13:29:32,237 : INFO : PROGRESS: at 76.21% examples, 214646 words/s, in_qsize 16, out_qsize 0\n",
      "2017-04-03 13:29:33,248 : INFO : PROGRESS: at 76.73% examples, 214620 words/s, in_qsize 16, out_qsize 0\n",
      "2017-04-03 13:29:34,260 : INFO : PROGRESS: at 77.24% examples, 214596 words/s, in_qsize 15, out_qsize 0\n",
      "2017-04-03 13:29:35,355 : INFO : PROGRESS: at 77.81% examples, 214492 words/s, in_qsize 16, out_qsize 0\n",
      "2017-04-03 13:29:36,389 : INFO : PROGRESS: at 78.44% examples, 214639 words/s, in_qsize 15, out_qsize 0\n",
      "2017-04-03 13:29:37,393 : INFO : PROGRESS: at 79.04% examples, 214758 words/s, in_qsize 15, out_qsize 0\n",
      "2017-04-03 13:29:38,397 : INFO : PROGRESS: at 79.60% examples, 214768 words/s, in_qsize 15, out_qsize 0\n",
      "2017-04-03 13:29:39,518 : INFO : PROGRESS: at 80.28% examples, 214838 words/s, in_qsize 15, out_qsize 0\n",
      "2017-04-03 13:29:40,550 : INFO : PROGRESS: at 80.83% examples, 214949 words/s, in_qsize 16, out_qsize 0\n",
      "2017-04-03 13:29:41,565 : INFO : PROGRESS: at 81.38% examples, 214920 words/s, in_qsize 15, out_qsize 0\n",
      "2017-04-03 13:29:42,569 : INFO : PROGRESS: at 81.96% examples, 215068 words/s, in_qsize 15, out_qsize 0\n",
      "2017-04-03 13:29:43,584 : INFO : PROGRESS: at 82.46% examples, 214953 words/s, in_qsize 15, out_qsize 0\n",
      "2017-04-03 13:29:44,584 : INFO : PROGRESS: at 82.96% examples, 214812 words/s, in_qsize 15, out_qsize 0\n",
      "2017-04-03 13:29:45,599 : INFO : PROGRESS: at 83.47% examples, 214693 words/s, in_qsize 15, out_qsize 0\n",
      "2017-04-03 13:29:46,626 : INFO : PROGRESS: at 83.90% examples, 214485 words/s, in_qsize 16, out_qsize 0\n",
      "2017-04-03 13:29:47,652 : INFO : PROGRESS: at 84.42% examples, 214328 words/s, in_qsize 16, out_qsize 0\n",
      "2017-04-03 13:29:48,685 : INFO : PROGRESS: at 84.98% examples, 214244 words/s, in_qsize 16, out_qsize 1\n",
      "2017-04-03 13:29:49,743 : INFO : PROGRESS: at 85.56% examples, 214211 words/s, in_qsize 16, out_qsize 0\n",
      "2017-04-03 13:29:50,770 : INFO : PROGRESS: at 85.97% examples, 213930 words/s, in_qsize 15, out_qsize 0\n",
      "2017-04-03 13:29:51,820 : INFO : PROGRESS: at 86.47% examples, 213789 words/s, in_qsize 15, out_qsize 0\n",
      "2017-04-03 13:29:52,862 : INFO : PROGRESS: at 86.86% examples, 213443 words/s, in_qsize 16, out_qsize 0\n",
      "2017-04-03 13:29:53,901 : INFO : PROGRESS: at 87.40% examples, 213404 words/s, in_qsize 16, out_qsize 0\n",
      "2017-04-03 13:29:54,903 : INFO : PROGRESS: at 87.91% examples, 213408 words/s, in_qsize 16, out_qsize 0\n",
      "2017-04-03 13:29:55,940 : INFO : PROGRESS: at 88.41% examples, 213365 words/s, in_qsize 16, out_qsize 0\n",
      "2017-04-03 13:29:57,065 : INFO : PROGRESS: at 88.90% examples, 213106 words/s, in_qsize 16, out_qsize 0\n",
      "2017-04-03 13:29:58,071 : INFO : PROGRESS: at 89.43% examples, 213084 words/s, in_qsize 15, out_qsize 0\n",
      "2017-04-03 13:29:59,108 : INFO : PROGRESS: at 89.95% examples, 212879 words/s, in_qsize 16, out_qsize 0\n",
      "2017-04-03 13:30:00,130 : INFO : PROGRESS: at 90.51% examples, 212805 words/s, in_qsize 15, out_qsize 0\n",
      "2017-04-03 13:30:01,239 : INFO : PROGRESS: at 90.93% examples, 212368 words/s, in_qsize 16, out_qsize 0\n",
      "2017-04-03 13:30:02,367 : INFO : PROGRESS: at 91.45% examples, 212160 words/s, in_qsize 16, out_qsize 0\n",
      "2017-04-03 13:30:03,389 : INFO : PROGRESS: at 91.97% examples, 212163 words/s, in_qsize 16, out_qsize 0\n",
      "2017-04-03 13:30:04,412 : INFO : PROGRESS: at 92.47% examples, 211895 words/s, in_qsize 15, out_qsize 0\n",
      "2017-04-03 13:30:05,442 : INFO : PROGRESS: at 92.88% examples, 211669 words/s, in_qsize 15, out_qsize 0\n",
      "2017-04-03 13:30:06,516 : INFO : PROGRESS: at 93.42% examples, 211574 words/s, in_qsize 16, out_qsize 0\n",
      "2017-04-03 13:30:07,638 : INFO : PROGRESS: at 93.88% examples, 211278 words/s, in_qsize 16, out_qsize 0\n",
      "2017-04-03 13:30:08,668 : INFO : PROGRESS: at 94.31% examples, 211097 words/s, in_qsize 16, out_qsize 0\n",
      "2017-04-03 13:30:09,688 : INFO : PROGRESS: at 94.74% examples, 210774 words/s, in_qsize 16, out_qsize 0\n",
      "2017-04-03 13:30:10,702 : INFO : PROGRESS: at 95.17% examples, 210589 words/s, in_qsize 15, out_qsize 0\n",
      "2017-04-03 13:30:11,885 : INFO : PROGRESS: at 95.74% examples, 210397 words/s, in_qsize 16, out_qsize 0\n",
      "2017-04-03 13:30:12,911 : INFO : PROGRESS: at 96.27% examples, 210367 words/s, in_qsize 16, out_qsize 0\n",
      "2017-04-03 13:30:13,916 : INFO : PROGRESS: at 96.71% examples, 210279 words/s, in_qsize 16, out_qsize 0\n",
      "2017-04-03 13:30:14,938 : INFO : PROGRESS: at 97.24% examples, 210324 words/s, in_qsize 15, out_qsize 0\n",
      "2017-04-03 13:30:16,054 : INFO : PROGRESS: at 97.76% examples, 210153 words/s, in_qsize 15, out_qsize 0\n",
      "2017-04-03 13:30:17,194 : INFO : PROGRESS: at 98.33% examples, 210059 words/s, in_qsize 16, out_qsize 0\n",
      "2017-04-03 13:30:18,215 : INFO : PROGRESS: at 98.86% examples, 210022 words/s, in_qsize 16, out_qsize 0\n",
      "2017-04-03 13:30:19,278 : INFO : PROGRESS: at 99.35% examples, 209775 words/s, in_qsize 16, out_qsize 0\n",
      "2017-04-03 13:30:20,223 : INFO : worker thread finished; awaiting finish of 7 more threads\n",
      "2017-04-03 13:30:20,260 : INFO : worker thread finished; awaiting finish of 6 more threads\n",
      "2017-04-03 13:30:20,279 : INFO : PROGRESS: at 99.87% examples, 209718 words/s, in_qsize 5, out_qsize 1\n",
      "2017-04-03 13:30:20,280 : INFO : worker thread finished; awaiting finish of 5 more threads\n",
      "2017-04-03 13:30:20,283 : INFO : worker thread finished; awaiting finish of 4 more threads\n",
      "2017-04-03 13:30:20,311 : INFO : worker thread finished; awaiting finish of 3 more threads\n",
      "2017-04-03 13:30:20,327 : INFO : worker thread finished; awaiting finish of 2 more threads\n",
      "2017-04-03 13:30:20,338 : INFO : worker thread finished; awaiting finish of 1 more threads\n",
      "2017-04-03 13:30:20,382 : INFO : worker thread finished; awaiting finish of 0 more threads\n",
      "2017-04-03 13:30:20,384 : INFO : training on 41685690 raw words (39719350 effective words) took 189.3s, 209819 effective words/s\n",
      "2017-04-03 13:30:20,387 : INFO : Training D2V model Doc2Vec(dbow,d500,n12,mc5,t8)\n",
      "2017-04-03 13:30:20,388 : INFO : Epoch 5 convergence descent alpha: 0.1\n",
      "2017-04-03 13:30:39,968 : INFO : training model with 8 workers on 50055 vocabulary and 500 features, using sg=1 hs=0 sample=0 negative=12\n",
      "2017-04-03 13:30:39,968 : INFO : expecting 72253 sentences, matching count from corpus used for vocabulary survey\n",
      "2017-04-03 13:30:40,979 : INFO : PROGRESS: at 0.87% examples, 355463 words/s, in_qsize 15, out_qsize 0\n",
      "2017-04-03 13:30:42,034 : INFO : PROGRESS: at 1.71% examples, 345003 words/s, in_qsize 16, out_qsize 0\n",
      "2017-04-03 13:30:43,075 : INFO : PROGRESS: at 2.45% examples, 324946 words/s, in_qsize 16, out_qsize 0\n",
      "2017-04-03 13:30:44,186 : INFO : PROGRESS: at 3.20% examples, 308772 words/s, in_qsize 16, out_qsize 0\n",
      "2017-04-03 13:30:45,188 : INFO : PROGRESS: at 3.95% examples, 302943 words/s, in_qsize 15, out_qsize 0\n",
      "2017-04-03 13:30:46,221 : INFO : PROGRESS: at 4.68% examples, 298074 words/s, in_qsize 16, out_qsize 0\n",
      "2017-04-03 13:30:47,294 : INFO : PROGRESS: at 5.37% examples, 290732 words/s, in_qsize 15, out_qsize 0\n",
      "2017-04-03 13:30:48,317 : INFO : PROGRESS: at 5.83% examples, 277498 words/s, in_qsize 16, out_qsize 0\n",
      "2017-04-03 13:30:49,340 : INFO : PROGRESS: at 6.32% examples, 268508 words/s, in_qsize 14, out_qsize 1\n",
      "2017-04-03 13:30:50,476 : INFO : PROGRESS: at 6.86% examples, 259209 words/s, in_qsize 16, out_qsize 0\n",
      "2017-04-03 13:30:51,476 : INFO : PROGRESS: at 7.35% examples, 252584 words/s, in_qsize 16, out_qsize 0\n",
      "2017-04-03 13:30:52,477 : INFO : PROGRESS: at 7.82% examples, 248347 words/s, in_qsize 15, out_qsize 0\n",
      "2017-04-03 13:30:53,549 : INFO : PROGRESS: at 8.27% examples, 242295 words/s, in_qsize 16, out_qsize 0\n",
      "2017-04-03 13:30:54,610 : INFO : PROGRESS: at 8.76% examples, 238056 words/s, in_qsize 14, out_qsize 1\n",
      "2017-04-03 13:30:55,627 : INFO : PROGRESS: at 9.22% examples, 234612 words/s, in_qsize 15, out_qsize 0\n",
      "2017-04-03 13:30:56,632 : INFO : PROGRESS: at 9.69% examples, 232127 words/s, in_qsize 16, out_qsize 0\n",
      "2017-04-03 13:30:57,703 : INFO : PROGRESS: at 10.13% examples, 227686 words/s, in_qsize 16, out_qsize 0\n",
      "2017-04-03 13:30:58,720 : INFO : PROGRESS: at 10.64% examples, 226371 words/s, in_qsize 16, out_qsize 0\n",
      "2017-04-03 13:30:59,742 : INFO : PROGRESS: at 11.13% examples, 224004 words/s, in_qsize 16, out_qsize 0\n",
      "2017-04-03 13:31:00,850 : INFO : PROGRESS: at 11.63% examples, 221161 words/s, in_qsize 15, out_qsize 0\n",
      "2017-04-03 13:31:01,884 : INFO : PROGRESS: at 12.07% examples, 218378 words/s, in_qsize 16, out_qsize 0\n",
      "2017-04-03 13:31:02,968 : INFO : PROGRESS: at 12.56% examples, 215754 words/s, in_qsize 16, out_qsize 0\n",
      "2017-04-03 13:31:03,979 : INFO : PROGRESS: at 13.01% examples, 214056 words/s, in_qsize 16, out_qsize 0\n",
      "2017-04-03 13:31:05,004 : INFO : PROGRESS: at 13.45% examples, 212085 words/s, in_qsize 16, out_qsize 0\n",
      "2017-04-03 13:31:06,006 : INFO : PROGRESS: at 13.88% examples, 211044 words/s, in_qsize 15, out_qsize 0\n",
      "2017-04-03 13:31:07,009 : INFO : PROGRESS: at 14.33% examples, 209680 words/s, in_qsize 16, out_qsize 0\n",
      "2017-04-03 13:31:08,149 : INFO : PROGRESS: at 14.74% examples, 206797 words/s, in_qsize 16, out_qsize 0\n",
      "2017-04-03 13:31:09,171 : INFO : PROGRESS: at 15.14% examples, 205929 words/s, in_qsize 16, out_qsize 0\n",
      "2017-04-03 13:31:10,216 : INFO : PROGRESS: at 15.54% examples, 203791 words/s, in_qsize 15, out_qsize 0\n",
      "2017-04-03 13:31:11,250 : INFO : PROGRESS: at 15.94% examples, 202682 words/s, in_qsize 15, out_qsize 1\n",
      "2017-04-03 13:31:12,243 : INFO : PROGRESS: at 16.33% examples, 201332 words/s, in_qsize 16, out_qsize 0\n",
      "2017-04-03 13:31:13,271 : INFO : PROGRESS: at 16.80% examples, 200927 words/s, in_qsize 16, out_qsize 0\n",
      "2017-04-03 13:31:14,400 : INFO : PROGRESS: at 17.29% examples, 199944 words/s, in_qsize 15, out_qsize 0\n",
      "2017-04-03 13:31:15,519 : INFO : PROGRESS: at 17.68% examples, 197760 words/s, in_qsize 16, out_qsize 0\n",
      "2017-04-03 13:31:16,619 : INFO : PROGRESS: at 18.26% examples, 198276 words/s, in_qsize 16, out_qsize 0\n",
      "2017-04-03 13:31:17,634 : INFO : PROGRESS: at 18.66% examples, 197312 words/s, in_qsize 15, out_qsize 0\n",
      "2017-04-03 13:31:18,745 : INFO : PROGRESS: at 19.19% examples, 196742 words/s, in_qsize 16, out_qsize 0\n",
      "2017-04-03 13:31:19,765 : INFO : PROGRESS: at 19.68% examples, 196561 words/s, in_qsize 16, out_qsize 0\n",
      "2017-04-03 13:31:20,782 : INFO : PROGRESS: at 20.12% examples, 195832 words/s, in_qsize 15, out_qsize 0\n",
      "2017-04-03 13:31:21,846 : INFO : PROGRESS: at 20.57% examples, 194919 words/s, in_qsize 15, out_qsize 0\n",
      "2017-04-03 13:31:22,893 : INFO : PROGRESS: at 21.02% examples, 194922 words/s, in_qsize 16, out_qsize 0\n",
      "2017-04-03 13:31:23,916 : INFO : PROGRESS: at 21.45% examples, 194841 words/s, in_qsize 15, out_qsize 0\n",
      "2017-04-03 13:31:24,966 : INFO : PROGRESS: at 21.93% examples, 194227 words/s, in_qsize 15, out_qsize 0\n",
      "2017-04-03 13:31:26,025 : INFO : PROGRESS: at 22.41% examples, 194018 words/s, in_qsize 16, out_qsize 0\n",
      "2017-04-03 13:31:27,031 : INFO : PROGRESS: at 22.83% examples, 193467 words/s, in_qsize 16, out_qsize 0\n",
      "2017-04-03 13:31:28,096 : INFO : PROGRESS: at 23.38% examples, 193461 words/s, in_qsize 16, out_qsize 0\n",
      "2017-04-03 13:31:29,286 : INFO : PROGRESS: at 23.95% examples, 193139 words/s, in_qsize 16, out_qsize 0\n",
      "2017-04-03 13:31:30,383 : INFO : PROGRESS: at 24.47% examples, 193038 words/s, in_qsize 15, out_qsize 0\n",
      "2017-04-03 13:31:31,484 : INFO : PROGRESS: at 24.96% examples, 192386 words/s, in_qsize 16, out_qsize 0\n",
      "2017-04-03 13:31:32,514 : INFO : PROGRESS: at 25.41% examples, 192072 words/s, in_qsize 16, out_qsize 0\n",
      "2017-04-03 13:31:33,560 : INFO : PROGRESS: at 25.88% examples, 191813 words/s, in_qsize 15, out_qsize 0\n",
      "2017-04-03 13:31:34,617 : INFO : PROGRESS: at 26.29% examples, 191298 words/s, in_qsize 16, out_qsize 0\n",
      "2017-04-03 13:31:35,636 : INFO : PROGRESS: at 26.82% examples, 191287 words/s, in_qsize 15, out_qsize 0\n",
      "2017-04-03 13:31:36,701 : INFO : PROGRESS: at 27.31% examples, 190939 words/s, in_qsize 16, out_qsize 0\n",
      "2017-04-03 13:31:37,728 : INFO : PROGRESS: at 27.80% examples, 191156 words/s, in_qsize 16, out_qsize 0\n",
      "2017-04-03 13:31:38,819 : INFO : PROGRESS: at 28.27% examples, 190732 words/s, in_qsize 16, out_qsize 0\n",
      "2017-04-03 13:31:39,852 : INFO : PROGRESS: at 28.72% examples, 190553 words/s, in_qsize 16, out_qsize 0\n",
      "2017-04-03 13:31:40,855 : INFO : PROGRESS: at 29.19% examples, 190655 words/s, in_qsize 15, out_qsize 0\n",
      "2017-04-03 13:31:41,902 : INFO : PROGRESS: at 29.59% examples, 190146 words/s, in_qsize 15, out_qsize 0\n",
      "2017-04-03 13:31:42,914 : INFO : PROGRESS: at 29.97% examples, 189447 words/s, in_qsize 15, out_qsize 0\n",
      "2017-04-03 13:31:43,984 : INFO : PROGRESS: at 30.35% examples, 188643 words/s, in_qsize 16, out_qsize 0\n",
      "2017-04-03 13:31:44,992 : INFO : PROGRESS: at 30.73% examples, 187895 words/s, in_qsize 15, out_qsize 0\n",
      "2017-04-03 13:31:46,004 : INFO : PROGRESS: at 31.15% examples, 187514 words/s, in_qsize 15, out_qsize 0\n",
      "2017-04-03 13:31:47,005 : INFO : PROGRESS: at 31.59% examples, 187244 words/s, in_qsize 16, out_qsize 0\n",
      "2017-04-03 13:31:48,158 : INFO : PROGRESS: at 32.07% examples, 186667 words/s, in_qsize 16, out_qsize 0\n",
      "2017-04-03 13:31:49,249 : INFO : PROGRESS: at 32.50% examples, 186018 words/s, in_qsize 15, out_qsize 0\n",
      "2017-04-03 13:31:50,332 : INFO : PROGRESS: at 33.04% examples, 186077 words/s, in_qsize 16, out_qsize 0\n",
      "2017-04-03 13:31:51,412 : INFO : PROGRESS: at 33.52% examples, 186042 words/s, in_qsize 16, out_qsize 0\n",
      "2017-04-03 13:31:52,437 : INFO : PROGRESS: at 34.01% examples, 186185 words/s, in_qsize 16, out_qsize 0\n",
      "2017-04-03 13:31:53,442 : INFO : PROGRESS: at 34.46% examples, 186034 words/s, in_qsize 15, out_qsize 0\n",
      "2017-04-03 13:31:54,503 : INFO : PROGRESS: at 35.03% examples, 186649 words/s, in_qsize 15, out_qsize 0\n",
      "2017-04-03 13:31:55,507 : INFO : PROGRESS: at 35.52% examples, 186729 words/s, in_qsize 16, out_qsize 0\n",
      "2017-04-03 13:31:56,664 : INFO : PROGRESS: at 36.01% examples, 186590 words/s, in_qsize 16, out_qsize 0\n",
      "2017-04-03 13:31:57,679 : INFO : PROGRESS: at 36.54% examples, 187118 words/s, in_qsize 15, out_qsize 0\n",
      "2017-04-03 13:31:58,685 : INFO : PROGRESS: at 37.11% examples, 187509 words/s, in_qsize 16, out_qsize 0\n",
      "2017-04-03 13:31:59,777 : INFO : PROGRESS: at 37.69% examples, 187689 words/s, in_qsize 15, out_qsize 0\n",
      "2017-04-03 13:32:00,815 : INFO : PROGRESS: at 38.11% examples, 187464 words/s, in_qsize 15, out_qsize 0\n",
      "2017-04-03 13:32:01,901 : INFO : PROGRESS: at 38.58% examples, 187427 words/s, in_qsize 16, out_qsize 0\n",
      "2017-04-03 13:32:02,907 : INFO : PROGRESS: at 39.11% examples, 187440 words/s, in_qsize 15, out_qsize 0\n",
      "2017-04-03 13:32:03,932 : INFO : PROGRESS: at 39.66% examples, 187650 words/s, in_qsize 15, out_qsize 0\n",
      "2017-04-03 13:32:04,944 : INFO : PROGRESS: at 40.18% examples, 187877 words/s, in_qsize 16, out_qsize 0\n",
      "2017-04-03 13:32:05,944 : INFO : PROGRESS: at 40.70% examples, 187866 words/s, in_qsize 16, out_qsize 0\n",
      "2017-04-03 13:32:06,995 : INFO : PROGRESS: at 41.25% examples, 188581 words/s, in_qsize 15, out_qsize 0\n",
      "2017-04-03 13:32:07,999 : INFO : PROGRESS: at 41.81% examples, 189000 words/s, in_qsize 15, out_qsize 0\n",
      "2017-04-03 13:32:09,080 : INFO : PROGRESS: at 42.37% examples, 189230 words/s, in_qsize 14, out_qsize 1\n",
      "2017-04-03 13:32:10,122 : INFO : PROGRESS: at 42.92% examples, 189423 words/s, in_qsize 15, out_qsize 0\n",
      "2017-04-03 13:32:11,136 : INFO : PROGRESS: at 43.44% examples, 189473 words/s, in_qsize 16, out_qsize 0\n",
      "2017-04-03 13:32:12,215 : INFO : PROGRESS: at 44.02% examples, 189578 words/s, in_qsize 16, out_qsize 0\n",
      "2017-04-03 13:32:13,221 : INFO : PROGRESS: at 44.60% examples, 190056 words/s, in_qsize 16, out_qsize 0\n",
      "2017-04-03 13:32:14,283 : INFO : PROGRESS: at 45.17% examples, 190185 words/s, in_qsize 16, out_qsize 0\n",
      "2017-04-03 13:32:15,297 : INFO : PROGRESS: at 45.72% examples, 190571 words/s, in_qsize 15, out_qsize 0\n",
      "2017-04-03 13:32:16,310 : INFO : PROGRESS: at 46.28% examples, 190868 words/s, in_qsize 15, out_qsize 0\n",
      "2017-04-03 13:32:17,354 : INFO : PROGRESS: at 46.84% examples, 191013 words/s, in_qsize 16, out_qsize 0\n",
      "2017-04-03 13:32:18,389 : INFO : PROGRESS: at 47.40% examples, 191151 words/s, in_qsize 15, out_qsize 0\n",
      "2017-04-03 13:32:19,414 : INFO : PROGRESS: at 47.97% examples, 191550 words/s, in_qsize 15, out_qsize 0\n",
      "2017-04-03 13:32:20,453 : INFO : PROGRESS: at 48.45% examples, 191521 words/s, in_qsize 15, out_qsize 0\n",
      "2017-04-03 13:32:21,484 : INFO : PROGRESS: at 48.86% examples, 191331 words/s, in_qsize 16, out_qsize 0\n",
      "2017-04-03 13:32:22,502 : INFO : PROGRESS: at 49.37% examples, 191329 words/s, in_qsize 16, out_qsize 0\n",
      "2017-04-03 13:32:23,655 : INFO : PROGRESS: at 49.86% examples, 191268 words/s, in_qsize 16, out_qsize 0\n",
      "2017-04-03 13:32:24,763 : INFO : PROGRESS: at 50.48% examples, 191488 words/s, in_qsize 16, out_qsize 0\n",
      "2017-04-03 13:32:25,771 : INFO : PROGRESS: at 51.04% examples, 191753 words/s, in_qsize 16, out_qsize 0\n",
      "2017-04-03 13:32:26,815 : INFO : PROGRESS: at 51.65% examples, 192009 words/s, in_qsize 16, out_qsize 0\n",
      "2017-04-03 13:32:27,835 : INFO : PROGRESS: at 52.27% examples, 192349 words/s, in_qsize 15, out_qsize 0\n",
      "2017-04-03 13:32:28,863 : INFO : PROGRESS: at 52.90% examples, 192698 words/s, in_qsize 15, out_qsize 0\n",
      "2017-04-03 13:32:29,865 : INFO : PROGRESS: at 53.48% examples, 192974 words/s, in_qsize 15, out_qsize 0\n",
      "2017-04-03 13:32:30,884 : INFO : PROGRESS: at 54.01% examples, 193269 words/s, in_qsize 15, out_qsize 0\n",
      "2017-04-03 13:32:32,006 : INFO : PROGRESS: at 54.60% examples, 193400 words/s, in_qsize 16, out_qsize 0\n",
      "2017-04-03 13:32:33,030 : INFO : PROGRESS: at 55.15% examples, 193740 words/s, in_qsize 16, out_qsize 0\n",
      "2017-04-03 13:32:34,094 : INFO : PROGRESS: at 55.64% examples, 193692 words/s, in_qsize 16, out_qsize 0\n",
      "2017-04-03 13:32:35,135 : INFO : PROGRESS: at 56.32% examples, 194281 words/s, in_qsize 16, out_qsize 0\n",
      "2017-04-03 13:32:36,159 : INFO : PROGRESS: at 56.86% examples, 194593 words/s, in_qsize 16, out_qsize 0\n",
      "2017-04-03 13:32:37,241 : INFO : PROGRESS: at 57.50% examples, 194819 words/s, in_qsize 16, out_qsize 0\n",
      "2017-04-03 13:32:38,271 : INFO : PROGRESS: at 58.07% examples, 195099 words/s, in_qsize 16, out_qsize 0\n",
      "2017-04-03 13:32:39,275 : INFO : PROGRESS: at 58.62% examples, 195377 words/s, in_qsize 16, out_qsize 0\n",
      "2017-04-03 13:32:40,335 : INFO : PROGRESS: at 59.22% examples, 195534 words/s, in_qsize 15, out_qsize 0\n",
      "2017-04-03 13:32:41,362 : INFO : PROGRESS: at 59.82% examples, 195696 words/s, in_qsize 15, out_qsize 0\n",
      "2017-04-03 13:32:42,425 : INFO : PROGRESS: at 60.43% examples, 195928 words/s, in_qsize 15, out_qsize 0\n",
      "2017-04-03 13:32:43,443 : INFO : PROGRESS: at 60.92% examples, 196058 words/s, in_qsize 15, out_qsize 0\n",
      "2017-04-03 13:32:44,589 : INFO : PROGRESS: at 61.56% examples, 196503 words/s, in_qsize 16, out_qsize 0\n",
      "2017-04-03 13:32:45,604 : INFO : PROGRESS: at 62.19% examples, 196857 words/s, in_qsize 15, out_qsize 0\n",
      "2017-04-03 13:32:46,649 : INFO : PROGRESS: at 62.72% examples, 196916 words/s, in_qsize 15, out_qsize 0\n",
      "2017-04-03 13:32:47,684 : INFO : PROGRESS: at 63.36% examples, 197225 words/s, in_qsize 16, out_qsize 0\n",
      "2017-04-03 13:32:48,761 : INFO : PROGRESS: at 64.00% examples, 197464 words/s, in_qsize 16, out_qsize 0\n",
      "2017-04-03 13:32:49,839 : INFO : PROGRESS: at 64.63% examples, 197709 words/s, in_qsize 16, out_qsize 0\n",
      "2017-04-03 13:32:50,839 : INFO : PROGRESS: at 65.21% examples, 197872 words/s, in_qsize 16, out_qsize 0\n",
      "2017-04-03 13:32:51,857 : INFO : PROGRESS: at 65.83% examples, 198272 words/s, in_qsize 16, out_qsize 0\n",
      "2017-04-03 13:32:52,874 : INFO : PROGRESS: at 66.44% examples, 198567 words/s, in_qsize 16, out_qsize 0\n",
      "2017-04-03 13:32:53,876 : INFO : PROGRESS: at 67.00% examples, 198710 words/s, in_qsize 16, out_qsize 0\n",
      "2017-04-03 13:32:54,881 : INFO : PROGRESS: at 67.53% examples, 198784 words/s, in_qsize 16, out_qsize 0\n",
      "2017-04-03 13:32:55,962 : INFO : PROGRESS: at 68.10% examples, 198869 words/s, in_qsize 15, out_qsize 0\n",
      "2017-04-03 13:32:56,966 : INFO : PROGRESS: at 68.74% examples, 199333 words/s, in_qsize 16, out_qsize 0\n",
      "2017-04-03 13:32:58,035 : INFO : PROGRESS: at 69.28% examples, 199427 words/s, in_qsize 15, out_qsize 0\n",
      "2017-04-03 13:32:59,082 : INFO : PROGRESS: at 69.82% examples, 199526 words/s, in_qsize 15, out_qsize 0\n",
      "2017-04-03 13:33:00,088 : INFO : PROGRESS: at 70.42% examples, 199777 words/s, in_qsize 15, out_qsize 0\n",
      "2017-04-03 13:33:01,122 : INFO : PROGRESS: at 70.97% examples, 199833 words/s, in_qsize 16, out_qsize 0\n",
      "2017-04-03 13:33:02,133 : INFO : PROGRESS: at 71.57% examples, 199983 words/s, in_qsize 16, out_qsize 0\n",
      "2017-04-03 13:33:03,144 : INFO : PROGRESS: at 72.15% examples, 200073 words/s, in_qsize 15, out_qsize 0\n",
      "2017-04-03 13:33:04,165 : INFO : PROGRESS: at 72.69% examples, 200082 words/s, in_qsize 16, out_qsize 0\n",
      "2017-04-03 13:33:05,173 : INFO : PROGRESS: at 73.27% examples, 200239 words/s, in_qsize 15, out_qsize 0\n",
      "2017-04-03 13:33:06,208 : INFO : PROGRESS: at 73.76% examples, 200222 words/s, in_qsize 16, out_qsize 0\n",
      "2017-04-03 13:33:07,219 : INFO : PROGRESS: at 74.39% examples, 200534 words/s, in_qsize 16, out_qsize 0\n",
      "2017-04-03 13:33:08,301 : INFO : PROGRESS: at 74.88% examples, 200539 words/s, in_qsize 15, out_qsize 0\n",
      "2017-04-03 13:33:09,398 : INFO : PROGRESS: at 75.49% examples, 200608 words/s, in_qsize 16, out_qsize 0\n",
      "2017-04-03 13:33:10,454 : INFO : PROGRESS: at 76.04% examples, 200737 words/s, in_qsize 16, out_qsize 0\n",
      "2017-04-03 13:33:11,538 : INFO : PROGRESS: at 76.59% examples, 200886 words/s, in_qsize 16, out_qsize 0\n",
      "2017-04-03 13:33:12,601 : INFO : PROGRESS: at 77.23% examples, 201112 words/s, in_qsize 16, out_qsize 0\n",
      "2017-04-03 13:33:13,716 : INFO : PROGRESS: at 77.85% examples, 201234 words/s, in_qsize 15, out_qsize 0\n",
      "2017-04-03 13:33:14,763 : INFO : PROGRESS: at 78.47% examples, 201474 words/s, in_qsize 16, out_qsize 0\n",
      "2017-04-03 13:33:15,765 : INFO : PROGRESS: at 79.11% examples, 201749 words/s, in_qsize 16, out_qsize 0\n",
      "2017-04-03 13:33:16,802 : INFO : PROGRESS: at 79.67% examples, 201841 words/s, in_qsize 15, out_qsize 1\n",
      "2017-04-03 13:33:17,827 : INFO : PROGRESS: at 80.24% examples, 201899 words/s, in_qsize 16, out_qsize 0\n",
      "2017-04-03 13:33:18,836 : INFO : PROGRESS: at 80.86% examples, 202211 words/s, in_qsize 16, out_qsize 0\n",
      "2017-04-03 13:33:19,839 : INFO : PROGRESS: at 81.39% examples, 202406 words/s, in_qsize 16, out_qsize 0\n",
      "2017-04-03 13:33:20,845 : INFO : PROGRESS: at 81.97% examples, 202583 words/s, in_qsize 16, out_qsize 0\n",
      "2017-04-03 13:33:21,855 : INFO : PROGRESS: at 82.54% examples, 202748 words/s, in_qsize 16, out_qsize 0\n",
      "2017-04-03 13:33:22,931 : INFO : PROGRESS: at 83.17% examples, 202920 words/s, in_qsize 16, out_qsize 0\n",
      "2017-04-03 13:33:23,957 : INFO : PROGRESS: at 83.81% examples, 203065 words/s, in_qsize 16, out_qsize 0\n",
      "2017-04-03 13:33:24,980 : INFO : PROGRESS: at 84.40% examples, 203230 words/s, in_qsize 15, out_qsize 0\n",
      "2017-04-03 13:33:26,034 : INFO : PROGRESS: at 84.93% examples, 203131 words/s, in_qsize 16, out_qsize 0\n",
      "2017-04-03 13:33:27,058 : INFO : PROGRESS: at 85.49% examples, 203206 words/s, in_qsize 16, out_qsize 0\n",
      "2017-04-03 13:33:28,066 : INFO : PROGRESS: at 86.02% examples, 203301 words/s, in_qsize 15, out_qsize 0\n",
      "2017-04-03 13:33:29,081 : INFO : PROGRESS: at 86.61% examples, 203390 words/s, in_qsize 16, out_qsize 0\n",
      "2017-04-03 13:33:30,186 : INFO : PROGRESS: at 87.19% examples, 203384 words/s, in_qsize 15, out_qsize 0\n",
      "2017-04-03 13:33:31,207 : INFO : PROGRESS: at 87.71% examples, 203494 words/s, in_qsize 16, out_qsize 0\n",
      "2017-04-03 13:33:32,286 : INFO : PROGRESS: at 88.29% examples, 203494 words/s, in_qsize 15, out_qsize 0\n",
      "2017-04-03 13:33:33,297 : INFO : PROGRESS: at 88.87% examples, 203748 words/s, in_qsize 16, out_qsize 0\n",
      "2017-04-03 13:33:34,339 : INFO : PROGRESS: at 89.43% examples, 203840 words/s, in_qsize 15, out_qsize 0\n",
      "2017-04-03 13:33:35,362 : INFO : PROGRESS: at 89.97% examples, 203865 words/s, in_qsize 16, out_qsize 0\n",
      "2017-04-03 13:33:36,378 : INFO : PROGRESS: at 90.52% examples, 203916 words/s, in_qsize 16, out_qsize 0\n",
      "2017-04-03 13:33:37,403 : INFO : PROGRESS: at 91.13% examples, 204101 words/s, in_qsize 16, out_qsize 0\n",
      "2017-04-03 13:33:38,429 : INFO : PROGRESS: at 91.65% examples, 203984 words/s, in_qsize 15, out_qsize 0\n",
      "2017-04-03 13:33:39,438 : INFO : PROGRESS: at 92.21% examples, 204029 words/s, in_qsize 16, out_qsize 0\n",
      "2017-04-03 13:33:40,440 : INFO : PROGRESS: at 92.82% examples, 204146 words/s, in_qsize 15, out_qsize 0\n",
      "2017-04-03 13:33:41,464 : INFO : PROGRESS: at 93.40% examples, 204213 words/s, in_qsize 15, out_qsize 0\n",
      "2017-04-03 13:33:42,473 : INFO : PROGRESS: at 93.90% examples, 204268 words/s, in_qsize 15, out_qsize 0\n",
      "2017-04-03 13:33:43,484 : INFO : PROGRESS: at 94.45% examples, 204292 words/s, in_qsize 16, out_qsize 0\n",
      "2017-04-03 13:33:44,512 : INFO : PROGRESS: at 95.00% examples, 204471 words/s, in_qsize 16, out_qsize 0\n",
      "2017-04-03 13:33:45,517 : INFO : PROGRESS: at 95.61% examples, 204608 words/s, in_qsize 15, out_qsize 0\n",
      "2017-04-03 13:33:46,529 : INFO : PROGRESS: at 96.12% examples, 204710 words/s, in_qsize 16, out_qsize 0\n",
      "2017-04-03 13:33:47,572 : INFO : PROGRESS: at 96.64% examples, 204740 words/s, in_qsize 16, out_qsize 0\n",
      "2017-04-03 13:33:48,606 : INFO : PROGRESS: at 97.29% examples, 204940 words/s, in_qsize 16, out_qsize 0\n",
      "2017-04-03 13:33:49,608 : INFO : PROGRESS: at 97.84% examples, 204987 words/s, in_qsize 15, out_qsize 0\n",
      "2017-04-03 13:33:50,626 : INFO : PROGRESS: at 98.43% examples, 205144 words/s, in_qsize 15, out_qsize 0\n",
      "2017-04-03 13:33:51,760 : INFO : PROGRESS: at 98.98% examples, 205106 words/s, in_qsize 15, out_qsize 0\n",
      "2017-04-03 13:33:52,798 : INFO : PROGRESS: at 99.61% examples, 205202 words/s, in_qsize 16, out_qsize 0\n",
      "2017-04-03 13:33:53,098 : INFO : worker thread finished; awaiting finish of 7 more threads\n",
      "2017-04-03 13:33:53,103 : INFO : worker thread finished; awaiting finish of 6 more threads\n",
      "2017-04-03 13:33:53,145 : INFO : worker thread finished; awaiting finish of 5 more threads\n",
      "2017-04-03 13:33:53,182 : INFO : worker thread finished; awaiting finish of 4 more threads\n",
      "2017-04-03 13:33:53,250 : INFO : worker thread finished; awaiting finish of 3 more threads\n",
      "2017-04-03 13:33:53,277 : INFO : worker thread finished; awaiting finish of 2 more threads\n",
      "2017-04-03 13:33:53,290 : INFO : worker thread finished; awaiting finish of 1 more threads\n",
      "2017-04-03 13:33:53,304 : INFO : worker thread finished; awaiting finish of 0 more threads\n",
      "2017-04-03 13:33:53,304 : INFO : training on 41685690 raw words (39719350 effective words) took 193.3s, 205444 effective words/s\n",
      "2017-04-03 13:33:53,305 : INFO : Training D2V model Doc2Vec(dbow,d500,n12,mc5,t8)\n",
      "2017-04-03 13:33:53,306 : INFO : Epoch 6 convergence descent alpha: 0.1\n",
      "2017-04-03 13:34:11,007 : INFO : training model with 8 workers on 50055 vocabulary and 500 features, using sg=1 hs=0 sample=0 negative=12\n",
      "2017-04-03 13:34:11,008 : INFO : expecting 72253 sentences, matching count from corpus used for vocabulary survey\n",
      "2017-04-03 13:34:12,038 : INFO : PROGRESS: at 0.62% examples, 233510 words/s, in_qsize 16, out_qsize 0\n",
      "2017-04-03 13:34:13,044 : INFO : PROGRESS: at 1.57% examples, 299393 words/s, in_qsize 16, out_qsize 0\n",
      "2017-04-03 13:34:14,047 : INFO : PROGRESS: at 2.45% examples, 321757 words/s, in_qsize 16, out_qsize 0\n",
      "2017-04-03 13:34:15,079 : INFO : PROGRESS: at 3.38% examples, 324832 words/s, in_qsize 15, out_qsize 0\n",
      "2017-04-03 13:34:16,090 : INFO : PROGRESS: at 4.32% examples, 336916 words/s, in_qsize 15, out_qsize 0\n",
      "2017-04-03 13:34:17,113 : INFO : PROGRESS: at 5.16% examples, 335038 words/s, in_qsize 15, out_qsize 0\n",
      "2017-04-03 13:34:18,138 : INFO : PROGRESS: at 5.73% examples, 319979 words/s, in_qsize 16, out_qsize 0\n",
      "2017-04-03 13:34:19,142 : INFO : PROGRESS: at 6.33% examples, 308313 words/s, in_qsize 15, out_qsize 0\n",
      "2017-04-03 13:34:20,156 : INFO : PROGRESS: at 6.79% examples, 293903 words/s, in_qsize 15, out_qsize 0\n",
      "2017-04-03 13:34:21,245 : INFO : PROGRESS: at 7.36% examples, 284656 words/s, in_qsize 15, out_qsize 0\n",
      "2017-04-03 13:34:22,271 : INFO : PROGRESS: at 7.93% examples, 277963 words/s, in_qsize 15, out_qsize 0\n",
      "2017-04-03 13:34:23,298 : INFO : PROGRESS: at 8.51% examples, 274630 words/s, in_qsize 16, out_qsize 0\n",
      "2017-04-03 13:34:24,369 : INFO : PROGRESS: at 9.09% examples, 269356 words/s, in_qsize 16, out_qsize 0\n",
      "2017-04-03 13:34:25,406 : INFO : PROGRESS: at 9.64% examples, 265238 words/s, in_qsize 16, out_qsize 0\n",
      "2017-04-03 13:34:26,424 : INFO : PROGRESS: at 10.21% examples, 261789 words/s, in_qsize 16, out_qsize 1\n",
      "2017-04-03 13:34:27,436 : INFO : PROGRESS: at 10.83% examples, 259121 words/s, in_qsize 16, out_qsize 0\n",
      "2017-04-03 13:34:28,510 : INFO : PROGRESS: at 11.49% examples, 257479 words/s, in_qsize 16, out_qsize 1\n",
      "2017-04-03 13:34:29,521 : INFO : PROGRESS: at 12.09% examples, 256015 words/s, in_qsize 16, out_qsize 0\n",
      "2017-04-03 13:34:30,578 : INFO : PROGRESS: at 12.58% examples, 253009 words/s, in_qsize 16, out_qsize 0\n",
      "2017-04-03 13:34:31,581 : INFO : PROGRESS: at 13.05% examples, 250502 words/s, in_qsize 16, out_qsize 0\n",
      "2017-04-03 13:34:32,605 : INFO : PROGRESS: at 13.58% examples, 248816 words/s, in_qsize 15, out_qsize 0\n",
      "2017-04-03 13:34:33,671 : INFO : PROGRESS: at 14.11% examples, 246331 words/s, in_qsize 15, out_qsize 0\n",
      "2017-04-03 13:34:34,691 : INFO : PROGRESS: at 14.53% examples, 242423 words/s, in_qsize 15, out_qsize 0\n",
      "2017-04-03 13:34:35,769 : INFO : PROGRESS: at 15.04% examples, 240433 words/s, in_qsize 16, out_qsize 0\n",
      "2017-04-03 13:34:36,809 : INFO : PROGRESS: at 15.53% examples, 238688 words/s, in_qsize 16, out_qsize 0\n",
      "2017-04-03 13:34:37,827 : INFO : PROGRESS: at 16.07% examples, 237005 words/s, in_qsize 15, out_qsize 0\n",
      "2017-04-03 13:34:38,902 : INFO : PROGRESS: at 16.57% examples, 235062 words/s, in_qsize 16, out_qsize 0\n",
      "2017-04-03 13:34:39,922 : INFO : PROGRESS: at 17.19% examples, 234383 words/s, in_qsize 15, out_qsize 0\n",
      "2017-04-03 13:34:40,952 : INFO : PROGRESS: at 17.72% examples, 233297 words/s, in_qsize 16, out_qsize 0\n",
      "2017-04-03 13:34:41,968 : INFO : PROGRESS: at 18.23% examples, 233240 words/s, in_qsize 16, out_qsize 0\n",
      "2017-04-03 13:34:43,010 : INFO : PROGRESS: at 18.73% examples, 232181 words/s, in_qsize 15, out_qsize 0\n",
      "2017-04-03 13:34:44,206 : INFO : PROGRESS: at 19.36% examples, 231513 words/s, in_qsize 16, out_qsize 0\n",
      "2017-04-03 13:34:45,249 : INFO : PROGRESS: at 19.93% examples, 231199 words/s, in_qsize 16, out_qsize 0\n",
      "2017-04-03 13:34:46,276 : INFO : PROGRESS: at 20.52% examples, 230969 words/s, in_qsize 16, out_qsize 0\n",
      "2017-04-03 13:34:47,338 : INFO : PROGRESS: at 21.11% examples, 230727 words/s, in_qsize 15, out_qsize 0\n",
      "2017-04-03 13:34:48,395 : INFO : PROGRESS: at 21.67% examples, 229793 words/s, in_qsize 16, out_qsize 0\n",
      "2017-04-03 13:34:49,418 : INFO : PROGRESS: at 22.10% examples, 228488 words/s, in_qsize 15, out_qsize 0\n",
      "2017-04-03 13:34:50,455 : INFO : PROGRESS: at 22.61% examples, 227931 words/s, in_qsize 15, out_qsize 0\n",
      "2017-04-03 13:34:51,498 : INFO : PROGRESS: at 23.18% examples, 226955 words/s, in_qsize 16, out_qsize 0\n",
      "2017-04-03 13:34:52,543 : INFO : PROGRESS: at 23.75% examples, 226681 words/s, in_qsize 16, out_qsize 0\n",
      "2017-04-03 13:34:53,608 : INFO : PROGRESS: at 24.32% examples, 226666 words/s, in_qsize 15, out_qsize 0\n",
      "2017-04-03 13:34:54,649 : INFO : PROGRESS: at 24.92% examples, 226649 words/s, in_qsize 16, out_qsize 0\n",
      "2017-04-03 13:34:55,661 : INFO : PROGRESS: at 25.56% examples, 227072 words/s, in_qsize 16, out_qsize 0\n",
      "2017-04-03 13:34:56,661 : INFO : PROGRESS: at 26.03% examples, 226514 words/s, in_qsize 16, out_qsize 0\n",
      "2017-04-03 13:34:57,677 : INFO : PROGRESS: at 26.59% examples, 225904 words/s, in_qsize 15, out_qsize 0\n",
      "2017-04-03 13:34:58,709 : INFO : PROGRESS: at 27.17% examples, 226033 words/s, in_qsize 16, out_qsize 0\n",
      "2017-04-03 13:34:59,821 : INFO : PROGRESS: at 27.79% examples, 225709 words/s, in_qsize 16, out_qsize 0\n",
      "2017-04-03 13:35:00,949 : INFO : PROGRESS: at 28.33% examples, 225173 words/s, in_qsize 15, out_qsize 0\n",
      "2017-04-03 13:35:01,960 : INFO : PROGRESS: at 28.92% examples, 225265 words/s, in_qsize 15, out_qsize 0\n",
      "2017-04-03 13:35:03,007 : INFO : PROGRESS: at 29.47% examples, 224935 words/s, in_qsize 15, out_qsize 0\n",
      "2017-04-03 13:35:04,052 : INFO : PROGRESS: at 30.02% examples, 224586 words/s, in_qsize 15, out_qsize 0\n",
      "2017-04-03 13:35:05,054 : INFO : PROGRESS: at 30.70% examples, 224688 words/s, in_qsize 15, out_qsize 0\n",
      "2017-04-03 13:35:06,068 : INFO : PROGRESS: at 31.25% examples, 224304 words/s, in_qsize 15, out_qsize 0\n",
      "2017-04-03 13:35:07,138 : INFO : PROGRESS: at 31.87% examples, 224349 words/s, in_qsize 15, out_qsize 0\n",
      "2017-04-03 13:35:08,168 : INFO : PROGRESS: at 32.40% examples, 224289 words/s, in_qsize 15, out_qsize 0\n",
      "2017-04-03 13:35:09,168 : INFO : PROGRESS: at 32.97% examples, 224573 words/s, in_qsize 16, out_qsize 0\n",
      "2017-04-03 13:35:10,175 : INFO : PROGRESS: at 33.49% examples, 224511 words/s, in_qsize 15, out_qsize 0\n",
      "2017-04-03 13:35:11,194 : INFO : PROGRESS: at 34.08% examples, 224431 words/s, in_qsize 16, out_qsize 0\n",
      "2017-04-03 13:35:12,209 : INFO : PROGRESS: at 34.64% examples, 224367 words/s, in_qsize 16, out_qsize 0\n",
      "2017-04-03 13:35:13,235 : INFO : PROGRESS: at 35.25% examples, 224896 words/s, in_qsize 15, out_qsize 0\n",
      "2017-04-03 13:35:14,242 : INFO : PROGRESS: at 35.83% examples, 224804 words/s, in_qsize 16, out_qsize 0\n",
      "2017-04-03 13:35:15,248 : INFO : PROGRESS: at 36.44% examples, 224859 words/s, in_qsize 15, out_qsize 0\n",
      "2017-04-03 13:35:16,260 : INFO : PROGRESS: at 36.95% examples, 224381 words/s, in_qsize 16, out_qsize 0\n",
      "2017-04-03 13:35:17,288 : INFO : PROGRESS: at 37.57% examples, 224493 words/s, in_qsize 16, out_qsize 0\n",
      "2017-04-03 13:35:18,318 : INFO : PROGRESS: at 38.10% examples, 224466 words/s, in_qsize 15, out_qsize 0\n",
      "2017-04-03 13:35:19,319 : INFO : PROGRESS: at 38.64% examples, 224541 words/s, in_qsize 15, out_qsize 0\n",
      "2017-04-03 13:35:20,333 : INFO : PROGRESS: at 39.21% examples, 224651 words/s, in_qsize 16, out_qsize 0\n",
      "2017-04-03 13:35:21,372 : INFO : PROGRESS: at 39.79% examples, 224511 words/s, in_qsize 15, out_qsize 0\n",
      "2017-04-03 13:35:22,486 : INFO : PROGRESS: at 40.42% examples, 224570 words/s, in_qsize 16, out_qsize 0\n",
      "2017-04-03 13:35:23,502 : INFO : PROGRESS: at 41.01% examples, 224558 words/s, in_qsize 15, out_qsize 0\n",
      "2017-04-03 13:35:24,542 : INFO : PROGRESS: at 41.59% examples, 224475 words/s, in_qsize 16, out_qsize 0\n",
      "2017-04-03 13:35:25,570 : INFO : PROGRESS: at 42.19% examples, 224680 words/s, in_qsize 15, out_qsize 0\n",
      "2017-04-03 13:35:26,578 : INFO : PROGRESS: at 42.67% examples, 224347 words/s, in_qsize 16, out_qsize 0\n",
      "2017-04-03 13:35:27,611 : INFO : PROGRESS: at 43.28% examples, 224180 words/s, in_qsize 16, out_qsize 0\n",
      "2017-04-03 13:35:28,615 : INFO : PROGRESS: at 43.92% examples, 224502 words/s, in_qsize 16, out_qsize 0\n",
      "2017-04-03 13:35:29,636 : INFO : PROGRESS: at 44.49% examples, 224567 words/s, in_qsize 16, out_qsize 0\n",
      "2017-04-03 13:35:30,673 : INFO : PROGRESS: at 45.06% examples, 224554 words/s, in_qsize 16, out_qsize 0\n",
      "2017-04-03 13:35:31,700 : INFO : PROGRESS: at 45.65% examples, 224570 words/s, in_qsize 15, out_qsize 0\n",
      "2017-04-03 13:35:32,701 : INFO : PROGRESS: at 46.17% examples, 224515 words/s, in_qsize 16, out_qsize 0\n",
      "2017-04-03 13:35:33,707 : INFO : PROGRESS: at 46.79% examples, 224491 words/s, in_qsize 16, out_qsize 0\n",
      "2017-04-03 13:35:34,740 : INFO : PROGRESS: at 47.19% examples, 223779 words/s, in_qsize 15, out_qsize 0\n",
      "2017-04-03 13:35:35,847 : INFO : PROGRESS: at 47.74% examples, 223276 words/s, in_qsize 15, out_qsize 0\n",
      "2017-04-03 13:35:36,924 : INFO : PROGRESS: at 48.11% examples, 222330 words/s, in_qsize 15, out_qsize 0\n",
      "2017-04-03 13:35:37,941 : INFO : PROGRESS: at 48.57% examples, 221782 words/s, in_qsize 15, out_qsize 0\n",
      "2017-04-03 13:35:38,965 : INFO : PROGRESS: at 48.98% examples, 221124 words/s, in_qsize 16, out_qsize 0\n",
      "2017-04-03 13:35:40,088 : INFO : PROGRESS: at 49.43% examples, 220297 words/s, in_qsize 16, out_qsize 0\n",
      "2017-04-03 13:35:41,200 : INFO : PROGRESS: at 49.81% examples, 219226 words/s, in_qsize 16, out_qsize 0\n",
      "2017-04-03 13:35:42,237 : INFO : PROGRESS: at 50.31% examples, 218712 words/s, in_qsize 16, out_qsize 0\n",
      "2017-04-03 13:35:43,281 : INFO : PROGRESS: at 50.75% examples, 218006 words/s, in_qsize 16, out_qsize 0\n",
      "2017-04-03 13:35:44,312 : INFO : PROGRESS: at 51.18% examples, 217224 words/s, in_qsize 15, out_qsize 0\n",
      "2017-04-03 13:35:45,368 : INFO : PROGRESS: at 51.72% examples, 217039 words/s, in_qsize 16, out_qsize 0\n",
      "2017-04-03 13:35:46,382 : INFO : PROGRESS: at 52.27% examples, 217151 words/s, in_qsize 15, out_qsize 0\n",
      "2017-04-03 13:35:47,385 : INFO : PROGRESS: at 52.79% examples, 217159 words/s, in_qsize 15, out_qsize 0\n",
      "2017-04-03 13:35:48,394 : INFO : PROGRESS: at 53.31% examples, 217222 words/s, in_qsize 16, out_qsize 0\n",
      "2017-04-03 13:35:49,398 : INFO : PROGRESS: at 53.86% examples, 217224 words/s, in_qsize 15, out_qsize 0\n",
      "2017-04-03 13:35:50,475 : INFO : PROGRESS: at 54.51% examples, 217371 words/s, in_qsize 15, out_qsize 0\n",
      "2017-04-03 13:35:51,543 : INFO : PROGRESS: at 55.09% examples, 217571 words/s, in_qsize 16, out_qsize 0\n",
      "2017-04-03 13:35:52,568 : INFO : PROGRESS: at 55.64% examples, 217538 words/s, in_qsize 16, out_qsize 0\n",
      "2017-04-03 13:35:53,617 : INFO : PROGRESS: at 56.29% examples, 217546 words/s, in_qsize 16, out_qsize 0\n",
      "2017-04-03 13:35:54,660 : INFO : PROGRESS: at 56.87% examples, 217537 words/s, in_qsize 15, out_qsize 0\n",
      "2017-04-03 13:35:55,672 : INFO : PROGRESS: at 57.47% examples, 217698 words/s, in_qsize 16, out_qsize 0\n",
      "2017-04-03 13:35:56,716 : INFO : PROGRESS: at 58.04% examples, 217822 words/s, in_qsize 16, out_qsize 0\n",
      "2017-04-03 13:35:57,754 : INFO : PROGRESS: at 58.59% examples, 217938 words/s, in_qsize 15, out_qsize 0\n",
      "2017-04-03 13:35:58,800 : INFO : PROGRESS: at 59.21% examples, 218086 words/s, in_qsize 15, out_qsize 0\n",
      "2017-04-03 13:35:59,803 : INFO : PROGRESS: at 59.78% examples, 218121 words/s, in_qsize 16, out_qsize 0\n",
      "2017-04-03 13:36:00,822 : INFO : PROGRESS: at 60.26% examples, 217915 words/s, in_qsize 16, out_qsize 0\n",
      "2017-04-03 13:36:01,848 : INFO : PROGRESS: at 60.81% examples, 217859 words/s, in_qsize 15, out_qsize 0\n",
      "2017-04-03 13:36:02,869 : INFO : PROGRESS: at 61.22% examples, 217299 words/s, in_qsize 16, out_qsize 0\n",
      "2017-04-03 13:36:03,889 : INFO : PROGRESS: at 61.58% examples, 216601 words/s, in_qsize 16, out_qsize 0\n",
      "2017-04-03 13:36:04,907 : INFO : PROGRESS: at 62.09% examples, 216459 words/s, in_qsize 16, out_qsize 0\n",
      "2017-04-03 13:36:05,917 : INFO : PROGRESS: at 62.50% examples, 216140 words/s, in_qsize 16, out_qsize 0\n",
      "2017-04-03 13:36:06,992 : INFO : PROGRESS: at 63.05% examples, 215802 words/s, in_qsize 16, out_qsize 0\n",
      "2017-04-03 13:36:08,020 : INFO : PROGRESS: at 63.61% examples, 215699 words/s, in_qsize 16, out_qsize 0\n",
      "2017-04-03 13:36:09,080 : INFO : PROGRESS: at 64.23% examples, 216001 words/s, in_qsize 16, out_qsize 0\n",
      "2017-04-03 13:36:10,100 : INFO : PROGRESS: at 64.81% examples, 216063 words/s, in_qsize 15, out_qsize 0\n",
      "2017-04-03 13:36:11,104 : INFO : PROGRESS: at 65.33% examples, 216010 words/s, in_qsize 15, out_qsize 0\n",
      "2017-04-03 13:36:12,107 : INFO : PROGRESS: at 65.90% examples, 216128 words/s, in_qsize 16, out_qsize 0\n",
      "2017-04-03 13:36:13,128 : INFO : PROGRESS: at 66.54% examples, 216278 words/s, in_qsize 15, out_qsize 0\n",
      "2017-04-03 13:36:14,132 : INFO : PROGRESS: at 67.12% examples, 216455 words/s, in_qsize 16, out_qsize 0\n",
      "2017-04-03 13:36:15,142 : INFO : PROGRESS: at 67.67% examples, 216440 words/s, in_qsize 16, out_qsize 0\n",
      "2017-04-03 13:36:16,233 : INFO : PROGRESS: at 68.25% examples, 216431 words/s, in_qsize 16, out_qsize 0\n",
      "2017-04-03 13:36:17,408 : INFO : PROGRESS: at 68.94% examples, 216565 words/s, in_qsize 16, out_qsize 0\n",
      "2017-04-03 13:36:18,436 : INFO : PROGRESS: at 69.50% examples, 216539 words/s, in_qsize 16, out_qsize 0\n",
      "2017-04-03 13:36:19,440 : INFO : PROGRESS: at 70.05% examples, 216537 words/s, in_qsize 15, out_qsize 0\n",
      "2017-04-03 13:36:20,455 : INFO : PROGRESS: at 70.70% examples, 216623 words/s, in_qsize 15, out_qsize 0\n",
      "2017-04-03 13:36:21,532 : INFO : PROGRESS: at 71.32% examples, 216642 words/s, in_qsize 16, out_qsize 0\n",
      "2017-04-03 13:36:22,546 : INFO : PROGRESS: at 71.92% examples, 216666 words/s, in_qsize 15, out_qsize 0\n",
      "2017-04-03 13:36:23,567 : INFO : PROGRESS: at 72.47% examples, 216785 words/s, in_qsize 16, out_qsize 0\n",
      "2017-04-03 13:36:24,611 : INFO : PROGRESS: at 73.07% examples, 217095 words/s, in_qsize 16, out_qsize 0\n",
      "2017-04-03 13:36:25,638 : INFO : PROGRESS: at 73.59% examples, 217007 words/s, in_qsize 15, out_qsize 0\n",
      "2017-04-03 13:36:26,742 : INFO : PROGRESS: at 74.17% examples, 216914 words/s, in_qsize 15, out_qsize 0\n",
      "2017-04-03 13:36:27,788 : INFO : PROGRESS: at 74.85% examples, 217213 words/s, in_qsize 15, out_qsize 0\n",
      "2017-04-03 13:36:28,809 : INFO : PROGRESS: at 75.39% examples, 217292 words/s, in_qsize 16, out_qsize 0\n",
      "2017-04-03 13:36:29,852 : INFO : PROGRESS: at 75.95% examples, 217093 words/s, in_qsize 15, out_qsize 0\n",
      "2017-04-03 13:36:30,914 : INFO : PROGRESS: at 76.59% examples, 217274 words/s, in_qsize 16, out_qsize 0\n",
      "2017-04-03 13:36:31,982 : INFO : PROGRESS: at 77.26% examples, 217373 words/s, in_qsize 15, out_qsize 0\n",
      "2017-04-03 13:36:33,033 : INFO : PROGRESS: at 77.90% examples, 217601 words/s, in_qsize 16, out_qsize 0\n",
      "2017-04-03 13:36:34,056 : INFO : PROGRESS: at 78.42% examples, 217701 words/s, in_qsize 15, out_qsize 0\n",
      "2017-04-03 13:36:35,079 : INFO : PROGRESS: at 79.01% examples, 217740 words/s, in_qsize 15, out_qsize 0\n",
      "2017-04-03 13:36:36,153 : INFO : PROGRESS: at 79.60% examples, 217716 words/s, in_qsize 15, out_qsize 0\n",
      "2017-04-03 13:36:37,192 : INFO : PROGRESS: at 80.20% examples, 217918 words/s, in_qsize 15, out_qsize 0\n",
      "2017-04-03 13:36:38,234 : INFO : PROGRESS: at 80.75% examples, 217781 words/s, in_qsize 15, out_qsize 0\n",
      "2017-04-03 13:36:39,250 : INFO : PROGRESS: at 81.30% examples, 217818 words/s, in_qsize 15, out_qsize 0\n",
      "2017-04-03 13:36:40,260 : INFO : PROGRESS: at 81.87% examples, 217839 words/s, in_qsize 15, out_qsize 0\n",
      "2017-04-03 13:36:41,376 : INFO : PROGRESS: at 82.47% examples, 217871 words/s, in_qsize 15, out_qsize 0\n",
      "2017-04-03 13:36:42,477 : INFO : PROGRESS: at 83.12% examples, 217878 words/s, in_qsize 15, out_qsize 0\n",
      "2017-04-03 13:36:43,502 : INFO : PROGRESS: at 83.80% examples, 218081 words/s, in_qsize 16, out_qsize 0\n",
      "2017-04-03 13:36:44,556 : INFO : PROGRESS: at 84.36% examples, 218154 words/s, in_qsize 16, out_qsize 0\n",
      "2017-04-03 13:36:45,582 : INFO : PROGRESS: at 84.89% examples, 218105 words/s, in_qsize 15, out_qsize 0\n",
      "2017-04-03 13:36:46,649 : INFO : PROGRESS: at 85.42% examples, 217959 words/s, in_qsize 16, out_qsize 0\n",
      "2017-04-03 13:36:47,652 : INFO : PROGRESS: at 85.93% examples, 217860 words/s, in_qsize 15, out_qsize 0\n",
      "2017-04-03 13:36:48,727 : INFO : PROGRESS: at 86.52% examples, 217791 words/s, in_qsize 15, out_qsize 1\n",
      "2017-04-03 13:36:49,795 : INFO : PROGRESS: at 87.12% examples, 217869 words/s, in_qsize 15, out_qsize 0\n",
      "2017-04-03 13:36:50,838 : INFO : PROGRESS: at 87.77% examples, 217982 words/s, in_qsize 16, out_qsize 0\n",
      "2017-04-03 13:36:51,919 : INFO : PROGRESS: at 88.38% examples, 218105 words/s, in_qsize 15, out_qsize 1\n",
      "2017-04-03 13:36:52,941 : INFO : PROGRESS: at 88.95% examples, 218097 words/s, in_qsize 16, out_qsize 0\n",
      "2017-04-03 13:36:53,942 : INFO : PROGRESS: at 89.49% examples, 218111 words/s, in_qsize 16, out_qsize 0\n",
      "2017-04-03 13:36:54,960 : INFO : PROGRESS: at 90.12% examples, 218258 words/s, in_qsize 15, out_qsize 0\n",
      "2017-04-03 13:36:55,971 : INFO : PROGRESS: at 90.70% examples, 218140 words/s, in_qsize 16, out_qsize 0\n",
      "2017-04-03 13:36:56,982 : INFO : PROGRESS: at 91.31% examples, 218173 words/s, in_qsize 16, out_qsize 0\n",
      "2017-04-03 13:36:58,082 : INFO : PROGRESS: at 91.91% examples, 218130 words/s, in_qsize 16, out_qsize 0\n",
      "2017-04-03 13:36:59,095 : INFO : PROGRESS: at 92.42% examples, 218103 words/s, in_qsize 16, out_qsize 0\n",
      "2017-04-03 13:37:00,113 : INFO : PROGRESS: at 92.94% examples, 218108 words/s, in_qsize 16, out_qsize 0\n",
      "2017-04-03 13:37:01,259 : INFO : PROGRESS: at 93.48% examples, 217990 words/s, in_qsize 16, out_qsize 0\n",
      "2017-04-03 13:37:02,287 : INFO : PROGRESS: at 94.09% examples, 218003 words/s, in_qsize 16, out_qsize 0\n",
      "2017-04-03 13:37:03,342 : INFO : PROGRESS: at 94.57% examples, 217810 words/s, in_qsize 16, out_qsize 0\n",
      "2017-04-03 13:37:04,379 : INFO : PROGRESS: at 95.11% examples, 217860 words/s, in_qsize 16, out_qsize 0\n",
      "2017-04-03 13:37:05,437 : INFO : PROGRESS: at 95.76% examples, 217958 words/s, in_qsize 16, out_qsize 0\n",
      "2017-04-03 13:37:06,531 : INFO : PROGRESS: at 96.33% examples, 217853 words/s, in_qsize 15, out_qsize 0\n",
      "2017-04-03 13:37:07,548 : INFO : PROGRESS: at 96.99% examples, 217989 words/s, in_qsize 16, out_qsize 0\n",
      "2017-04-03 13:37:08,586 : INFO : PROGRESS: at 97.67% examples, 218206 words/s, in_qsize 15, out_qsize 1\n",
      "2017-04-03 13:37:09,584 : INFO : PROGRESS: at 98.24% examples, 218376 words/s, in_qsize 15, out_qsize 0\n",
      "2017-04-03 13:37:10,659 : INFO : PROGRESS: at 98.76% examples, 218282 words/s, in_qsize 15, out_qsize 0\n",
      "2017-04-03 13:37:11,760 : INFO : PROGRESS: at 99.34% examples, 218265 words/s, in_qsize 16, out_qsize 1\n",
      "2017-04-03 13:37:12,772 : INFO : PROGRESS: at 99.85% examples, 218163 words/s, in_qsize 8, out_qsize 0\n",
      "2017-04-03 13:37:12,774 : INFO : worker thread finished; awaiting finish of 7 more threads\n",
      "2017-04-03 13:37:12,861 : INFO : worker thread finished; awaiting finish of 6 more threads\n",
      "2017-04-03 13:37:12,877 : INFO : worker thread finished; awaiting finish of 5 more threads\n",
      "2017-04-03 13:37:12,920 : INFO : worker thread finished; awaiting finish of 4 more threads\n",
      "2017-04-03 13:37:12,927 : INFO : worker thread finished; awaiting finish of 3 more threads\n",
      "2017-04-03 13:37:12,932 : INFO : worker thread finished; awaiting finish of 2 more threads\n",
      "2017-04-03 13:37:12,951 : INFO : worker thread finished; awaiting finish of 1 more threads\n",
      "2017-04-03 13:37:12,997 : INFO : worker thread finished; awaiting finish of 0 more threads\n",
      "2017-04-03 13:37:12,998 : INFO : training on 41685690 raw words (39719350 effective words) took 182.0s, 218252 effective words/s\n",
      "2017-04-03 13:37:12,999 : INFO : Training D2V model Doc2Vec(dbow,d500,n12,mc5,t8)\n",
      "2017-04-03 13:37:13,000 : INFO : Epoch 7 convergence descent alpha: 0.1\n",
      "2017-04-03 13:37:31,741 : INFO : training model with 8 workers on 50055 vocabulary and 500 features, using sg=1 hs=0 sample=0 negative=12\n",
      "2017-04-03 13:37:31,742 : INFO : expecting 72253 sentences, matching count from corpus used for vocabulary survey\n",
      "2017-04-03 13:37:32,769 : INFO : PROGRESS: at 0.83% examples, 290157 words/s, in_qsize 15, out_qsize 0\n",
      "2017-04-03 13:37:33,796 : INFO : PROGRESS: at 1.68% examples, 314910 words/s, in_qsize 16, out_qsize 0\n",
      "2017-04-03 13:37:34,871 : INFO : PROGRESS: at 2.35% examples, 304251 words/s, in_qsize 16, out_qsize 0\n",
      "2017-04-03 13:37:35,886 : INFO : PROGRESS: at 3.01% examples, 292369 words/s, in_qsize 16, out_qsize 0\n",
      "2017-04-03 13:37:36,893 : INFO : PROGRESS: at 3.53% examples, 277328 words/s, in_qsize 15, out_qsize 0\n",
      "2017-04-03 13:37:37,940 : INFO : PROGRESS: at 4.12% examples, 267893 words/s, in_qsize 16, out_qsize 0\n",
      "2017-04-03 13:37:38,979 : INFO : PROGRESS: at 4.75% examples, 262151 words/s, in_qsize 15, out_qsize 0\n",
      "2017-04-03 13:37:40,060 : INFO : PROGRESS: at 5.23% examples, 252216 words/s, in_qsize 15, out_qsize 0\n",
      "2017-04-03 13:37:41,062 : INFO : PROGRESS: at 5.88% examples, 253971 words/s, in_qsize 16, out_qsize 0\n",
      "2017-04-03 13:37:42,062 : INFO : PROGRESS: at 6.49% examples, 252927 words/s, in_qsize 15, out_qsize 0\n",
      "2017-04-03 13:37:43,143 : INFO : PROGRESS: at 7.09% examples, 248950 words/s, in_qsize 15, out_qsize 0\n",
      "2017-04-03 13:37:44,194 : INFO : PROGRESS: at 7.65% examples, 246617 words/s, in_qsize 15, out_qsize 0\n",
      "2017-04-03 13:37:45,218 : INFO : PROGRESS: at 8.23% examples, 244766 words/s, in_qsize 15, out_qsize 0\n",
      "2017-04-03 13:37:46,257 : INFO : PROGRESS: at 8.71% examples, 240292 words/s, in_qsize 15, out_qsize 0\n",
      "2017-04-03 13:37:47,292 : INFO : PROGRESS: at 9.25% examples, 237702 words/s, in_qsize 15, out_qsize 0\n",
      "2017-04-03 13:37:48,328 : INFO : PROGRESS: at 9.75% examples, 235730 words/s, in_qsize 16, out_qsize 0\n",
      "2017-04-03 13:37:49,434 : INFO : PROGRESS: at 10.39% examples, 235811 words/s, in_qsize 15, out_qsize 0\n",
      "2017-04-03 13:37:50,512 : INFO : PROGRESS: at 11.02% examples, 234244 words/s, in_qsize 16, out_qsize 0\n",
      "2017-04-03 13:37:51,531 : INFO : PROGRESS: at 11.59% examples, 233337 words/s, in_qsize 15, out_qsize 0\n",
      "2017-04-03 13:37:52,535 : INFO : PROGRESS: at 12.17% examples, 232371 words/s, in_qsize 16, out_qsize 0\n",
      "2017-04-03 13:37:53,637 : INFO : PROGRESS: at 12.72% examples, 230463 words/s, in_qsize 15, out_qsize 0\n",
      "2017-04-03 13:37:54,723 : INFO : PROGRESS: at 13.33% examples, 229709 words/s, in_qsize 15, out_qsize 0\n",
      "2017-04-03 13:37:55,741 : INFO : PROGRESS: at 13.90% examples, 229347 words/s, in_qsize 16, out_qsize 0\n",
      "2017-04-03 13:37:56,772 : INFO : PROGRESS: at 14.40% examples, 228201 words/s, in_qsize 16, out_qsize 0\n",
      "2017-04-03 13:37:57,806 : INFO : PROGRESS: at 15.02% examples, 228535 words/s, in_qsize 16, out_qsize 0\n",
      "2017-04-03 13:37:58,842 : INFO : PROGRESS: at 15.68% examples, 229891 words/s, in_qsize 16, out_qsize 0\n",
      "2017-04-03 13:37:59,845 : INFO : PROGRESS: at 16.65% examples, 236115 words/s, in_qsize 16, out_qsize 0\n",
      "2017-04-03 13:38:00,865 : INFO : PROGRESS: at 17.89% examples, 244538 words/s, in_qsize 16, out_qsize 0\n",
      "2017-04-03 13:38:01,896 : INFO : PROGRESS: at 19.08% examples, 251849 words/s, in_qsize 16, out_qsize 0\n",
      "2017-04-03 13:38:02,897 : INFO : PROGRESS: at 20.33% examples, 258521 words/s, in_qsize 16, out_qsize 0\n",
      "2017-04-03 13:38:03,905 : INFO : PROGRESS: at 21.54% examples, 265188 words/s, in_qsize 16, out_qsize 0\n",
      "2017-04-03 13:38:04,937 : INFO : PROGRESS: at 22.54% examples, 270378 words/s, in_qsize 16, out_qsize 0\n",
      "2017-04-03 13:38:05,950 : INFO : PROGRESS: at 23.67% examples, 275342 words/s, in_qsize 16, out_qsize 0\n",
      "2017-04-03 13:38:07,020 : INFO : PROGRESS: at 24.88% examples, 280313 words/s, in_qsize 15, out_qsize 0\n",
      "2017-04-03 13:38:08,043 : INFO : PROGRESS: at 25.97% examples, 284832 words/s, in_qsize 16, out_qsize 0\n",
      "2017-04-03 13:38:09,047 : INFO : PROGRESS: at 27.16% examples, 289745 words/s, in_qsize 16, out_qsize 0\n",
      "2017-04-03 13:38:10,047 : INFO : PROGRESS: at 28.23% examples, 293499 words/s, in_qsize 15, out_qsize 0\n",
      "2017-04-03 13:38:11,084 : INFO : PROGRESS: at 29.36% examples, 297075 words/s, in_qsize 15, out_qsize 0\n",
      "2017-04-03 13:38:12,093 : INFO : PROGRESS: at 30.53% examples, 301445 words/s, in_qsize 15, out_qsize 0\n",
      "2017-04-03 13:38:13,097 : INFO : PROGRESS: at 31.76% examples, 305135 words/s, in_qsize 16, out_qsize 0\n",
      "2017-04-03 13:38:14,128 : INFO : PROGRESS: at 32.84% examples, 307554 words/s, in_qsize 16, out_qsize 0\n",
      "2017-04-03 13:38:15,141 : INFO : PROGRESS: at 33.94% examples, 310311 words/s, in_qsize 16, out_qsize 0\n",
      "2017-04-03 13:38:16,176 : INFO : PROGRESS: at 35.03% examples, 313050 words/s, in_qsize 16, out_qsize 0\n",
      "2017-04-03 13:38:17,191 : INFO : PROGRESS: at 36.15% examples, 316465 words/s, in_qsize 15, out_qsize 0\n",
      "2017-04-03 13:38:18,205 : INFO : PROGRESS: at 37.33% examples, 319628 words/s, in_qsize 16, out_qsize 0\n",
      "2017-04-03 13:38:19,206 : INFO : PROGRESS: at 38.56% examples, 322920 words/s, in_qsize 15, out_qsize 0\n",
      "2017-04-03 13:38:20,214 : INFO : PROGRESS: at 39.74% examples, 325636 words/s, in_qsize 15, out_qsize 0\n",
      "2017-04-03 13:38:21,217 : INFO : PROGRESS: at 40.98% examples, 328392 words/s, in_qsize 15, out_qsize 0\n",
      "2017-04-03 13:38:22,227 : INFO : PROGRESS: at 42.02% examples, 330742 words/s, in_qsize 16, out_qsize 0\n",
      "2017-04-03 13:38:23,234 : INFO : PROGRESS: at 42.95% examples, 331521 words/s, in_qsize 16, out_qsize 0\n",
      "2017-04-03 13:38:24,312 : INFO : PROGRESS: at 44.06% examples, 333451 words/s, in_qsize 16, out_qsize 0\n",
      "2017-04-03 13:38:25,348 : INFO : PROGRESS: at 45.23% examples, 335517 words/s, in_qsize 15, out_qsize 0\n",
      "2017-04-03 13:38:26,363 : INFO : PROGRESS: at 46.34% examples, 337616 words/s, in_qsize 15, out_qsize 0\n",
      "2017-04-03 13:38:27,368 : INFO : PROGRESS: at 47.51% examples, 339653 words/s, in_qsize 15, out_qsize 0\n",
      "2017-04-03 13:38:28,378 : INFO : PROGRESS: at 48.71% examples, 342118 words/s, in_qsize 15, out_qsize 0\n",
      "2017-04-03 13:38:29,412 : INFO : PROGRESS: at 49.89% examples, 344257 words/s, in_qsize 16, out_qsize 0\n",
      "2017-04-03 13:38:30,427 : INFO : PROGRESS: at 51.06% examples, 345781 words/s, in_qsize 16, out_qsize 0\n",
      "2017-04-03 13:38:31,453 : INFO : PROGRESS: at 52.27% examples, 347766 words/s, in_qsize 15, out_qsize 0\n",
      "2017-04-03 13:38:32,460 : INFO : PROGRESS: at 53.49% examples, 349854 words/s, in_qsize 16, out_qsize 0\n",
      "2017-04-03 13:38:33,466 : INFO : PROGRESS: at 54.72% examples, 352008 words/s, in_qsize 16, out_qsize 0\n",
      "2017-04-03 13:38:34,471 : INFO : PROGRESS: at 55.87% examples, 353924 words/s, in_qsize 16, out_qsize 0\n",
      "2017-04-03 13:38:35,493 : INFO : PROGRESS: at 57.01% examples, 355512 words/s, in_qsize 16, out_qsize 0\n",
      "2017-04-03 13:38:36,494 : INFO : PROGRESS: at 58.17% examples, 357193 words/s, in_qsize 15, out_qsize 0\n",
      "2017-04-03 13:38:37,500 : INFO : PROGRESS: at 59.42% examples, 358964 words/s, in_qsize 15, out_qsize 0\n",
      "2017-04-03 13:38:38,502 : INFO : PROGRESS: at 60.71% examples, 360729 words/s, in_qsize 15, out_qsize 0\n",
      "2017-04-03 13:38:39,528 : INFO : PROGRESS: at 61.89% examples, 362552 words/s, in_qsize 15, out_qsize 0\n",
      "2017-04-03 13:38:40,535 : INFO : PROGRESS: at 63.00% examples, 363894 words/s, in_qsize 16, out_qsize 0\n",
      "2017-04-03 13:38:41,571 : INFO : PROGRESS: at 64.08% examples, 364930 words/s, in_qsize 16, out_qsize 0\n",
      "2017-04-03 13:38:42,625 : INFO : PROGRESS: at 65.29% examples, 366063 words/s, in_qsize 15, out_qsize 0\n",
      "2017-04-03 13:38:43,662 : INFO : PROGRESS: at 66.53% examples, 367924 words/s, in_qsize 15, out_qsize 0\n",
      "2017-04-03 13:38:44,699 : INFO : PROGRESS: at 67.63% examples, 368477 words/s, in_qsize 15, out_qsize 0\n",
      "2017-04-03 13:38:45,726 : INFO : PROGRESS: at 68.71% examples, 369269 words/s, in_qsize 15, out_qsize 0\n",
      "2017-04-03 13:38:46,736 : INFO : PROGRESS: at 69.84% examples, 370421 words/s, in_qsize 15, out_qsize 0\n",
      "2017-04-03 13:38:47,745 : INFO : PROGRESS: at 71.06% examples, 371513 words/s, in_qsize 15, out_qsize 0\n",
      "2017-04-03 13:38:48,768 : INFO : PROGRESS: at 72.25% examples, 372594 words/s, in_qsize 15, out_qsize 0\n",
      "2017-04-03 13:38:49,815 : INFO : PROGRESS: at 73.48% examples, 373717 words/s, in_qsize 16, out_qsize 0\n",
      "2017-04-03 13:38:50,815 : INFO : PROGRESS: at 74.64% examples, 374885 words/s, in_qsize 15, out_qsize 0\n",
      "2017-04-03 13:38:51,836 : INFO : PROGRESS: at 75.83% examples, 376131 words/s, in_qsize 16, out_qsize 0\n",
      "2017-04-03 13:38:52,875 : INFO : PROGRESS: at 76.95% examples, 376901 words/s, in_qsize 15, out_qsize 0\n",
      "2017-04-03 13:38:53,907 : INFO : PROGRESS: at 78.16% examples, 378058 words/s, in_qsize 16, out_qsize 0\n",
      "2017-04-03 13:38:54,909 : INFO : PROGRESS: at 79.42% examples, 379341 words/s, in_qsize 16, out_qsize 0\n",
      "2017-04-03 13:38:55,929 : INFO : PROGRESS: at 80.72% examples, 380527 words/s, in_qsize 15, out_qsize 0\n",
      "2017-04-03 13:38:56,947 : INFO : PROGRESS: at 81.87% examples, 381551 words/s, in_qsize 16, out_qsize 0\n",
      "2017-04-03 13:38:57,959 : INFO : PROGRESS: at 82.98% examples, 382388 words/s, in_qsize 16, out_qsize 0\n",
      "2017-04-03 13:38:58,961 : INFO : PROGRESS: at 84.12% examples, 383357 words/s, in_qsize 15, out_qsize 0\n",
      "2017-04-03 13:38:59,972 : INFO : PROGRESS: at 85.37% examples, 384545 words/s, in_qsize 15, out_qsize 0\n",
      "2017-04-03 13:39:00,986 : INFO : PROGRESS: at 86.37% examples, 384769 words/s, in_qsize 15, out_qsize 0\n",
      "2017-04-03 13:39:02,020 : INFO : PROGRESS: at 87.35% examples, 384527 words/s, in_qsize 16, out_qsize 0\n",
      "2017-04-03 13:39:03,030 : INFO : PROGRESS: at 88.55% examples, 385556 words/s, in_qsize 16, out_qsize 0\n",
      "2017-04-03 13:39:04,068 : INFO : PROGRESS: at 89.73% examples, 386410 words/s, in_qsize 16, out_qsize 0\n",
      "2017-04-03 13:39:05,070 : INFO : PROGRESS: at 90.95% examples, 387266 words/s, in_qsize 15, out_qsize 0\n",
      "2017-04-03 13:39:06,078 : INFO : PROGRESS: at 92.22% examples, 388254 words/s, in_qsize 16, out_qsize 0\n",
      "2017-04-03 13:39:07,115 : INFO : PROGRESS: at 93.48% examples, 389130 words/s, in_qsize 15, out_qsize 0\n",
      "2017-04-03 13:39:08,116 : INFO : PROGRESS: at 94.62% examples, 389931 words/s, in_qsize 16, out_qsize 0\n",
      "2017-04-03 13:39:09,128 : INFO : PROGRESS: at 95.56% examples, 389770 words/s, in_qsize 16, out_qsize 0\n",
      "2017-04-03 13:39:10,129 : INFO : PROGRESS: at 96.71% examples, 390678 words/s, in_qsize 16, out_qsize 0\n",
      "2017-04-03 13:39:11,136 : INFO : PROGRESS: at 97.85% examples, 391251 words/s, in_qsize 16, out_qsize 0\n",
      "2017-04-03 13:39:12,149 : INFO : PROGRESS: at 99.00% examples, 391835 words/s, in_qsize 15, out_qsize 0\n",
      "2017-04-03 13:39:12,831 : INFO : worker thread finished; awaiting finish of 7 more threads\n",
      "2017-04-03 13:39:12,842 : INFO : worker thread finished; awaiting finish of 6 more threads\n",
      "2017-04-03 13:39:12,849 : INFO : worker thread finished; awaiting finish of 5 more threads\n",
      "2017-04-03 13:39:12,892 : INFO : worker thread finished; awaiting finish of 4 more threads\n",
      "2017-04-03 13:39:12,894 : INFO : worker thread finished; awaiting finish of 3 more threads\n",
      "2017-04-03 13:39:12,900 : INFO : worker thread finished; awaiting finish of 2 more threads\n",
      "2017-04-03 13:39:12,902 : INFO : worker thread finished; awaiting finish of 1 more threads\n",
      "2017-04-03 13:39:12,939 : INFO : worker thread finished; awaiting finish of 0 more threads\n",
      "2017-04-03 13:39:12,940 : INFO : training on 41685690 raw words (39719350 effective words) took 101.2s, 392497 effective words/s\n",
      "2017-04-03 13:39:12,941 : INFO : Training D2V model Doc2Vec(dbow,d500,n12,mc5,t8)\n",
      "2017-04-03 13:39:12,941 : INFO : Epoch 8 convergence descent alpha: 0.1\n",
      "2017-04-03 13:39:30,967 : INFO : training model with 8 workers on 50055 vocabulary and 500 features, using sg=1 hs=0 sample=0 negative=12\n",
      "2017-04-03 13:39:30,968 : INFO : expecting 72253 sentences, matching count from corpus used for vocabulary survey\n",
      "2017-04-03 13:39:31,974 : INFO : PROGRESS: at 0.80% examples, 310576 words/s, in_qsize 15, out_qsize 0\n",
      "2017-04-03 13:39:32,975 : INFO : PROGRESS: at 1.78% examples, 347622 words/s, in_qsize 16, out_qsize 0\n",
      "2017-04-03 13:39:34,028 : INFO : PROGRESS: at 2.74% examples, 350675 words/s, in_qsize 16, out_qsize 0\n",
      "2017-04-03 13:39:35,032 : INFO : PROGRESS: at 3.59% examples, 348994 words/s, in_qsize 15, out_qsize 0\n",
      "2017-04-03 13:39:36,040 : INFO : PROGRESS: at 4.44% examples, 354898 words/s, in_qsize 15, out_qsize 0\n",
      "2017-04-03 13:39:37,056 : INFO : PROGRESS: at 5.44% examples, 361229 words/s, in_qsize 15, out_qsize 0\n",
      "2017-04-03 13:39:38,062 : INFO : PROGRESS: at 6.47% examples, 366648 words/s, in_qsize 16, out_qsize 0\n",
      "2017-04-03 13:39:39,133 : INFO : PROGRESS: at 7.28% examples, 360148 words/s, in_qsize 15, out_qsize 0\n",
      "2017-04-03 13:39:40,179 : INFO : PROGRESS: at 8.17% examples, 356699 words/s, in_qsize 15, out_qsize 0\n",
      "2017-04-03 13:39:41,229 : INFO : PROGRESS: at 8.88% examples, 348351 words/s, in_qsize 15, out_qsize 0\n",
      "2017-04-03 13:39:42,241 : INFO : PROGRESS: at 9.66% examples, 344371 words/s, in_qsize 15, out_qsize 0\n",
      "2017-04-03 13:39:43,264 : INFO : PROGRESS: at 10.62% examples, 345866 words/s, in_qsize 15, out_qsize 0\n",
      "2017-04-03 13:39:44,277 : INFO : PROGRESS: at 11.75% examples, 352121 words/s, in_qsize 15, out_qsize 0\n",
      "2017-04-03 13:39:45,300 : INFO : PROGRESS: at 12.71% examples, 353809 words/s, in_qsize 15, out_qsize 0\n",
      "2017-04-03 13:39:46,332 : INFO : PROGRESS: at 13.63% examples, 353668 words/s, in_qsize 15, out_qsize 0\n",
      "2017-04-03 13:39:47,347 : INFO : PROGRESS: at 14.55% examples, 353065 words/s, in_qsize 15, out_qsize 0\n",
      "2017-04-03 13:39:48,360 : INFO : PROGRESS: at 15.49% examples, 353892 words/s, in_qsize 16, out_qsize 0\n",
      "2017-04-03 13:39:49,367 : INFO : PROGRESS: at 16.43% examples, 355216 words/s, in_qsize 15, out_qsize 0\n",
      "2017-04-03 13:39:50,392 : INFO : PROGRESS: at 17.35% examples, 354942 words/s, in_qsize 15, out_qsize 0\n",
      "2017-04-03 13:39:51,456 : INFO : PROGRESS: at 18.30% examples, 355200 words/s, in_qsize 15, out_qsize 0\n",
      "2017-04-03 13:39:52,461 : INFO : PROGRESS: at 19.51% examples, 360628 words/s, in_qsize 16, out_qsize 0\n",
      "2017-04-03 13:39:53,479 : INFO : PROGRESS: at 20.74% examples, 365661 words/s, in_qsize 15, out_qsize 0\n",
      "2017-04-03 13:39:54,482 : INFO : PROGRESS: at 21.92% examples, 369476 words/s, in_qsize 16, out_qsize 0\n",
      "2017-04-03 13:39:55,493 : INFO : PROGRESS: at 23.06% examples, 373459 words/s, in_qsize 16, out_qsize 0\n",
      "2017-04-03 13:39:56,494 : INFO : PROGRESS: at 24.22% examples, 377398 words/s, in_qsize 16, out_qsize 0\n",
      "2017-04-03 13:39:57,500 : INFO : PROGRESS: at 25.28% examples, 379821 words/s, in_qsize 16, out_qsize 0\n",
      "2017-04-03 13:39:58,507 : INFO : PROGRESS: at 26.48% examples, 383257 words/s, in_qsize 16, out_qsize 0\n",
      "2017-04-03 13:39:59,520 : INFO : PROGRESS: at 27.64% examples, 386055 words/s, in_qsize 16, out_qsize 0\n",
      "2017-04-03 13:40:00,564 : INFO : PROGRESS: at 28.85% examples, 388869 words/s, in_qsize 16, out_qsize 0\n",
      "2017-04-03 13:40:01,565 : INFO : PROGRESS: at 30.01% examples, 391089 words/s, in_qsize 16, out_qsize 0\n",
      "2017-04-03 13:40:02,577 : INFO : PROGRESS: at 31.15% examples, 391902 words/s, in_qsize 15, out_qsize 0\n",
      "2017-04-03 13:40:03,594 : INFO : PROGRESS: at 32.21% examples, 392892 words/s, in_qsize 15, out_qsize 0\n",
      "2017-04-03 13:40:04,693 : INFO : PROGRESS: at 33.41% examples, 393875 words/s, in_qsize 15, out_qsize 0\n",
      "2017-04-03 13:40:05,693 : INFO : PROGRESS: at 34.59% examples, 395845 words/s, in_qsize 16, out_qsize 0\n",
      "2017-04-03 13:40:06,702 : INFO : PROGRESS: at 35.75% examples, 397390 words/s, in_qsize 16, out_qsize 0\n",
      "2017-04-03 13:40:07,702 : INFO : PROGRESS: at 36.90% examples, 398988 words/s, in_qsize 16, out_qsize 0\n",
      "2017-04-03 13:40:08,707 : INFO : PROGRESS: at 37.93% examples, 399614 words/s, in_qsize 15, out_qsize 0\n",
      "2017-04-03 13:40:09,717 : INFO : PROGRESS: at 39.11% examples, 400734 words/s, in_qsize 15, out_qsize 0\n",
      "2017-04-03 13:40:10,721 : INFO : PROGRESS: at 40.21% examples, 401943 words/s, in_qsize 15, out_qsize 0\n",
      "2017-04-03 13:40:11,724 : INFO : PROGRESS: at 41.29% examples, 402239 words/s, in_qsize 15, out_qsize 0\n",
      "2017-04-03 13:40:12,746 : INFO : PROGRESS: at 42.41% examples, 403139 words/s, in_qsize 15, out_qsize 0\n",
      "2017-04-03 13:40:13,783 : INFO : PROGRESS: at 43.55% examples, 403933 words/s, in_qsize 15, out_qsize 0\n",
      "2017-04-03 13:40:14,826 : INFO : PROGRESS: at 44.66% examples, 405254 words/s, in_qsize 16, out_qsize 0\n",
      "2017-04-03 13:40:15,828 : INFO : PROGRESS: at 45.71% examples, 406055 words/s, in_qsize 15, out_qsize 0\n",
      "2017-04-03 13:40:16,903 : INFO : PROGRESS: at 46.92% examples, 406552 words/s, in_qsize 15, out_qsize 0\n",
      "2017-04-03 13:40:17,907 : INFO : PROGRESS: at 47.95% examples, 406811 words/s, in_qsize 16, out_qsize 0\n",
      "2017-04-03 13:40:18,912 : INFO : PROGRESS: at 49.05% examples, 407288 words/s, in_qsize 16, out_qsize 0\n",
      "2017-04-03 13:40:19,936 : INFO : PROGRESS: at 50.12% examples, 407339 words/s, in_qsize 15, out_qsize 0\n",
      "2017-04-03 13:40:20,989 : INFO : PROGRESS: at 51.30% examples, 407557 words/s, in_qsize 16, out_qsize 0\n",
      "2017-04-03 13:40:22,000 : INFO : PROGRESS: at 52.45% examples, 408642 words/s, in_qsize 16, out_qsize 0\n",
      "2017-04-03 13:40:23,011 : INFO : PROGRESS: at 53.61% examples, 409500 words/s, in_qsize 16, out_qsize 0\n",
      "2017-04-03 13:40:24,013 : INFO : PROGRESS: at 54.69% examples, 409583 words/s, in_qsize 16, out_qsize 0\n",
      "2017-04-03 13:40:25,018 : INFO : PROGRESS: at 55.60% examples, 408681 words/s, in_qsize 16, out_qsize 0\n",
      "2017-04-03 13:40:26,021 : INFO : PROGRESS: at 56.81% examples, 409712 words/s, in_qsize 14, out_qsize 1\n",
      "2017-04-03 13:40:27,083 : INFO : PROGRESS: at 57.95% examples, 410280 words/s, in_qsize 16, out_qsize 0\n",
      "2017-04-03 13:40:28,098 : INFO : PROGRESS: at 59.17% examples, 411335 words/s, in_qsize 15, out_qsize 0\n",
      "2017-04-03 13:40:29,126 : INFO : PROGRESS: at 60.32% examples, 411957 words/s, in_qsize 15, out_qsize 0\n",
      "2017-04-03 13:40:30,128 : INFO : PROGRESS: at 61.31% examples, 411380 words/s, in_qsize 16, out_qsize 0\n",
      "2017-04-03 13:40:31,157 : INFO : PROGRESS: at 62.40% examples, 411620 words/s, in_qsize 16, out_qsize 0\n",
      "2017-04-03 13:40:32,174 : INFO : PROGRESS: at 63.56% examples, 412383 words/s, in_qsize 16, out_qsize 0\n",
      "2017-04-03 13:40:33,222 : INFO : PROGRESS: at 64.69% examples, 413256 words/s, in_qsize 16, out_qsize 0\n",
      "2017-04-03 13:40:34,225 : INFO : PROGRESS: at 65.82% examples, 414148 words/s, in_qsize 16, out_qsize 0\n",
      "2017-04-03 13:40:35,270 : INFO : PROGRESS: at 67.10% examples, 415086 words/s, in_qsize 16, out_qsize 0\n",
      "2017-04-03 13:40:36,272 : INFO : PROGRESS: at 68.31% examples, 416140 words/s, in_qsize 15, out_qsize 0\n",
      "2017-04-03 13:40:37,293 : INFO : PROGRESS: at 69.48% examples, 416749 words/s, in_qsize 16, out_qsize 0\n",
      "2017-04-03 13:40:38,332 : INFO : PROGRESS: at 70.60% examples, 416769 words/s, in_qsize 16, out_qsize 0\n",
      "2017-04-03 13:40:39,337 : INFO : PROGRESS: at 71.90% examples, 418055 words/s, in_qsize 16, out_qsize 0\n",
      "2017-04-03 13:40:40,355 : INFO : PROGRESS: at 73.12% examples, 418792 words/s, in_qsize 16, out_qsize 0\n",
      "2017-04-03 13:40:41,393 : INFO : PROGRESS: at 74.32% examples, 419426 words/s, in_qsize 15, out_qsize 0\n",
      "2017-04-03 13:40:42,394 : INFO : PROGRESS: at 75.57% examples, 420345 words/s, in_qsize 15, out_qsize 0\n",
      "2017-04-03 13:40:43,399 : INFO : PROGRESS: at 76.82% examples, 421187 words/s, in_qsize 16, out_qsize 0\n",
      "2017-04-03 13:40:44,435 : INFO : PROGRESS: at 77.98% examples, 421766 words/s, in_qsize 16, out_qsize 0\n",
      "2017-04-03 13:40:45,443 : INFO : PROGRESS: at 79.27% examples, 422719 words/s, in_qsize 16, out_qsize 0\n",
      "2017-04-03 13:40:46,445 : INFO : PROGRESS: at 80.43% examples, 423317 words/s, in_qsize 16, out_qsize 0\n",
      "2017-04-03 13:40:47,459 : INFO : PROGRESS: at 81.63% examples, 423703 words/s, in_qsize 15, out_qsize 0\n",
      "2017-04-03 13:40:48,478 : INFO : PROGRESS: at 82.80% examples, 424045 words/s, in_qsize 15, out_qsize 0\n",
      "2017-04-03 13:40:49,490 : INFO : PROGRESS: at 84.00% examples, 425004 words/s, in_qsize 16, out_qsize 0\n",
      "2017-04-03 13:40:50,495 : INFO : PROGRESS: at 85.09% examples, 425378 words/s, in_qsize 16, out_qsize 0\n",
      "2017-04-03 13:40:51,532 : INFO : PROGRESS: at 86.15% examples, 425332 words/s, in_qsize 16, out_qsize 0\n",
      "2017-04-03 13:40:52,541 : INFO : PROGRESS: at 87.37% examples, 426006 words/s, in_qsize 16, out_qsize 0\n",
      "2017-04-03 13:40:53,549 : INFO : PROGRESS: at 88.47% examples, 426195 words/s, in_qsize 16, out_qsize 0\n",
      "2017-04-03 13:40:54,574 : INFO : PROGRESS: at 89.66% examples, 426496 words/s, in_qsize 16, out_qsize 0\n",
      "2017-04-03 13:40:55,584 : INFO : PROGRESS: at 90.75% examples, 426355 words/s, in_qsize 15, out_qsize 0\n",
      "2017-04-03 13:40:56,584 : INFO : PROGRESS: at 92.00% examples, 427081 words/s, in_qsize 16, out_qsize 0\n",
      "2017-04-03 13:40:57,591 : INFO : PROGRESS: at 92.96% examples, 426433 words/s, in_qsize 15, out_qsize 0\n",
      "2017-04-03 13:40:58,604 : INFO : PROGRESS: at 94.03% examples, 426316 words/s, in_qsize 16, out_qsize 0\n",
      "2017-04-03 13:40:59,608 : INFO : PROGRESS: at 95.15% examples, 426420 words/s, in_qsize 16, out_qsize 0\n",
      "2017-04-03 13:41:00,633 : INFO : PROGRESS: at 96.32% examples, 426849 words/s, in_qsize 16, out_qsize 0\n",
      "2017-04-03 13:41:01,663 : INFO : PROGRESS: at 97.59% examples, 427448 words/s, in_qsize 15, out_qsize 0\n",
      "2017-04-03 13:41:02,676 : INFO : PROGRESS: at 98.80% examples, 427875 words/s, in_qsize 16, out_qsize 0\n",
      "2017-04-03 13:41:03,526 : INFO : worker thread finished; awaiting finish of 7 more threads\n",
      "2017-04-03 13:41:03,543 : INFO : worker thread finished; awaiting finish of 6 more threads\n",
      "2017-04-03 13:41:03,576 : INFO : worker thread finished; awaiting finish of 5 more threads\n",
      "2017-04-03 13:41:03,581 : INFO : worker thread finished; awaiting finish of 4 more threads\n",
      "2017-04-03 13:41:03,597 : INFO : worker thread finished; awaiting finish of 3 more threads\n",
      "2017-04-03 13:41:03,604 : INFO : worker thread finished; awaiting finish of 2 more threads\n",
      "2017-04-03 13:41:03,626 : INFO : worker thread finished; awaiting finish of 1 more threads\n",
      "2017-04-03 13:41:03,637 : INFO : worker thread finished; awaiting finish of 0 more threads\n",
      "2017-04-03 13:41:03,637 : INFO : training on 41685690 raw words (39719350 effective words) took 92.7s, 428625 effective words/s\n",
      "2017-04-03 13:41:03,638 : INFO : Training D2V model Doc2Vec(dbow,d500,n12,mc5,t8)\n",
      "2017-04-03 13:41:03,638 : INFO : Epoch 9 convergence descent alpha: 0.1\n",
      "2017-04-03 13:41:19,135 : INFO : training model with 8 workers on 50055 vocabulary and 500 features, using sg=1 hs=0 sample=0 negative=12\n",
      "2017-04-03 13:41:19,137 : INFO : expecting 72253 sentences, matching count from corpus used for vocabulary survey\n",
      "2017-04-03 13:41:20,145 : INFO : PROGRESS: at 1.19% examples, 481353 words/s, in_qsize 15, out_qsize 0\n",
      "2017-04-03 13:41:21,176 : INFO : PROGRESS: at 2.44% examples, 484574 words/s, in_qsize 15, out_qsize 0\n",
      "2017-04-03 13:41:22,192 : INFO : PROGRESS: at 3.78% examples, 488009 words/s, in_qsize 16, out_qsize 0\n",
      "2017-04-03 13:41:23,205 : INFO : PROGRESS: at 5.05% examples, 491819 words/s, in_qsize 15, out_qsize 0\n",
      "2017-04-03 13:41:24,236 : INFO : PROGRESS: at 6.31% examples, 491052 words/s, in_qsize 16, out_qsize 0\n",
      "2017-04-03 13:41:25,289 : INFO : PROGRESS: at 7.66% examples, 493515 words/s, in_qsize 16, out_qsize 0\n",
      "2017-04-03 13:41:26,295 : INFO : PROGRESS: at 8.95% examples, 495284 words/s, in_qsize 15, out_qsize 0\n",
      "2017-04-03 13:41:27,308 : INFO : PROGRESS: at 10.19% examples, 493558 words/s, in_qsize 15, out_qsize 0\n",
      "2017-04-03 13:41:28,342 : INFO : PROGRESS: at 11.49% examples, 493505 words/s, in_qsize 15, out_qsize 0\n",
      "2017-04-03 13:41:29,409 : INFO : PROGRESS: at 12.79% examples, 492577 words/s, in_qsize 15, out_qsize 0\n",
      "2017-04-03 13:41:30,410 : INFO : PROGRESS: at 13.95% examples, 491963 words/s, in_qsize 16, out_qsize 0\n",
      "2017-04-03 13:41:31,421 : INFO : PROGRESS: at 15.09% examples, 490149 words/s, in_qsize 16, out_qsize 0\n",
      "2017-04-03 13:41:32,430 : INFO : PROGRESS: at 16.20% examples, 488589 words/s, in_qsize 15, out_qsize 0\n",
      "2017-04-03 13:41:33,430 : INFO : PROGRESS: at 17.47% examples, 488291 words/s, in_qsize 16, out_qsize 0\n",
      "2017-04-03 13:41:34,432 : INFO : PROGRESS: at 18.81% examples, 489246 words/s, in_qsize 16, out_qsize 0\n",
      "2017-04-03 13:41:35,442 : INFO : PROGRESS: at 20.05% examples, 488717 words/s, in_qsize 16, out_qsize 0\n",
      "2017-04-03 13:41:36,450 : INFO : PROGRESS: at 21.27% examples, 488351 words/s, in_qsize 15, out_qsize 0\n",
      "2017-04-03 13:41:37,468 : INFO : PROGRESS: at 22.44% examples, 487254 words/s, in_qsize 16, out_qsize 0\n",
      "2017-04-03 13:41:38,501 : INFO : PROGRESS: at 23.78% examples, 487227 words/s, in_qsize 15, out_qsize 0\n",
      "2017-04-03 13:41:39,533 : INFO : PROGRESS: at 25.01% examples, 486659 words/s, in_qsize 15, out_qsize 0\n",
      "2017-04-03 13:41:40,537 : INFO : PROGRESS: at 26.23% examples, 486487 words/s, in_qsize 16, out_qsize 0\n",
      "2017-04-03 13:41:41,538 : INFO : PROGRESS: at 27.44% examples, 486431 words/s, in_qsize 16, out_qsize 0\n",
      "2017-04-03 13:41:42,556 : INFO : PROGRESS: at 28.66% examples, 485895 words/s, in_qsize 15, out_qsize 0\n",
      "2017-04-03 13:41:43,563 : INFO : PROGRESS: at 29.94% examples, 485911 words/s, in_qsize 16, out_qsize 0\n",
      "2017-04-03 13:41:44,564 : INFO : PROGRESS: at 31.17% examples, 485563 words/s, in_qsize 15, out_qsize 0\n",
      "2017-04-03 13:41:45,642 : INFO : PROGRESS: at 32.37% examples, 484730 words/s, in_qsize 15, out_qsize 0\n",
      "2017-04-03 13:41:46,646 : INFO : PROGRESS: at 33.60% examples, 485511 words/s, in_qsize 15, out_qsize 0\n",
      "2017-04-03 13:41:47,662 : INFO : PROGRESS: at 34.77% examples, 485100 words/s, in_qsize 15, out_qsize 0\n",
      "2017-04-03 13:41:48,678 : INFO : PROGRESS: at 35.93% examples, 485022 words/s, in_qsize 16, out_qsize 0\n",
      "2017-04-03 13:41:49,693 : INFO : PROGRESS: at 37.11% examples, 484375 words/s, in_qsize 16, out_qsize 0\n",
      "2017-04-03 13:41:50,711 : INFO : PROGRESS: at 38.46% examples, 484664 words/s, in_qsize 15, out_qsize 0\n",
      "2017-04-03 13:41:51,719 : INFO : PROGRESS: at 39.70% examples, 484127 words/s, in_qsize 15, out_qsize 0\n",
      "2017-04-03 13:41:52,738 : INFO : PROGRESS: at 40.88% examples, 484155 words/s, in_qsize 16, out_qsize 0\n",
      "2017-04-03 13:41:53,741 : INFO : PROGRESS: at 42.16% examples, 484300 words/s, in_qsize 16, out_qsize 0\n",
      "2017-04-03 13:41:54,774 : INFO : PROGRESS: at 43.40% examples, 483472 words/s, in_qsize 15, out_qsize 0\n",
      "2017-04-03 13:41:55,784 : INFO : PROGRESS: at 44.65% examples, 483249 words/s, in_qsize 16, out_qsize 0\n",
      "2017-04-03 13:41:56,792 : INFO : PROGRESS: at 45.74% examples, 482322 words/s, in_qsize 16, out_qsize 0\n",
      "2017-04-03 13:41:57,837 : INFO : PROGRESS: at 46.86% examples, 480889 words/s, in_qsize 16, out_qsize 0\n",
      "2017-04-03 13:41:58,844 : INFO : PROGRESS: at 47.82% examples, 478457 words/s, in_qsize 16, out_qsize 0\n",
      "2017-04-03 13:41:59,885 : INFO : PROGRESS: at 48.94% examples, 476922 words/s, in_qsize 16, out_qsize 0\n",
      "2017-04-03 13:42:00,930 : INFO : PROGRESS: at 49.98% examples, 474643 words/s, in_qsize 16, out_qsize 0\n",
      "2017-04-03 13:42:01,935 : INFO : PROGRESS: at 51.19% examples, 474323 words/s, in_qsize 15, out_qsize 0\n",
      "2017-04-03 13:42:02,937 : INFO : PROGRESS: at 52.32% examples, 474084 words/s, in_qsize 16, out_qsize 0\n",
      "2017-04-03 13:42:03,974 : INFO : PROGRESS: at 53.25% examples, 471557 words/s, in_qsize 15, out_qsize 0\n",
      "2017-04-03 13:42:04,975 : INFO : PROGRESS: at 54.30% examples, 470679 words/s, in_qsize 16, out_qsize 0\n",
      "2017-04-03 13:42:06,014 : INFO : PROGRESS: at 55.43% examples, 470519 words/s, in_qsize 15, out_qsize 0\n",
      "2017-04-03 13:42:07,031 : INFO : PROGRESS: at 56.46% examples, 469770 words/s, in_qsize 16, out_qsize 0\n",
      "2017-04-03 13:42:08,035 : INFO : PROGRESS: at 57.72% examples, 469593 words/s, in_qsize 15, out_qsize 0\n",
      "2017-04-03 13:42:09,042 : INFO : PROGRESS: at 58.75% examples, 467918 words/s, in_qsize 16, out_qsize 0\n",
      "2017-04-03 13:42:10,047 : INFO : PROGRESS: at 59.79% examples, 466586 words/s, in_qsize 15, out_qsize 0\n",
      "2017-04-03 13:42:11,065 : INFO : PROGRESS: at 60.66% examples, 464789 words/s, in_qsize 16, out_qsize 0\n",
      "2017-04-03 13:42:12,068 : INFO : PROGRESS: at 61.81% examples, 463942 words/s, in_qsize 15, out_qsize 0\n",
      "2017-04-03 13:42:13,088 : INFO : PROGRESS: at 63.03% examples, 464103 words/s, in_qsize 15, out_qsize 0\n",
      "2017-04-03 13:42:14,115 : INFO : PROGRESS: at 64.31% examples, 464207 words/s, in_qsize 16, out_qsize 0\n",
      "2017-04-03 13:42:15,145 : INFO : PROGRESS: at 65.47% examples, 464279 words/s, in_qsize 16, out_qsize 0\n",
      "2017-04-03 13:42:16,153 : INFO : PROGRESS: at 66.54% examples, 463398 words/s, in_qsize 16, out_qsize 0\n",
      "2017-04-03 13:42:17,162 : INFO : PROGRESS: at 67.63% examples, 462889 words/s, in_qsize 16, out_qsize 0\n",
      "2017-04-03 13:42:18,190 : INFO : PROGRESS: at 68.78% examples, 462642 words/s, in_qsize 16, out_qsize 0\n",
      "2017-04-03 13:42:19,202 : INFO : PROGRESS: at 69.81% examples, 461308 words/s, in_qsize 15, out_qsize 0\n",
      "2017-04-03 13:42:20,235 : INFO : PROGRESS: at 70.86% examples, 460052 words/s, in_qsize 15, out_qsize 0\n",
      "2017-04-03 13:42:21,242 : INFO : PROGRESS: at 71.99% examples, 460313 words/s, in_qsize 16, out_qsize 0\n",
      "2017-04-03 13:42:22,255 : INFO : PROGRESS: at 73.26% examples, 460833 words/s, in_qsize 15, out_qsize 0\n",
      "2017-04-03 13:42:23,311 : INFO : PROGRESS: at 74.43% examples, 461005 words/s, in_qsize 15, out_qsize 0\n",
      "2017-04-03 13:42:24,340 : INFO : PROGRESS: at 75.65% examples, 461481 words/s, in_qsize 15, out_qsize 0\n",
      "2017-04-03 13:42:25,361 : INFO : PROGRESS: at 76.86% examples, 461979 words/s, in_qsize 15, out_qsize 0\n",
      "2017-04-03 13:42:26,361 : INFO : PROGRESS: at 78.18% examples, 462483 words/s, in_qsize 15, out_qsize 0\n",
      "2017-04-03 13:42:27,365 : INFO : PROGRESS: at 79.43% examples, 462517 words/s, in_qsize 16, out_qsize 0\n",
      "2017-04-03 13:42:28,376 : INFO : PROGRESS: at 80.55% examples, 462515 words/s, in_qsize 16, out_qsize 0\n",
      "2017-04-03 13:42:29,409 : INFO : PROGRESS: at 81.72% examples, 461843 words/s, in_qsize 16, out_qsize 0\n",
      "2017-04-03 13:42:30,422 : INFO : PROGRESS: at 82.94% examples, 462294 words/s, in_qsize 16, out_qsize 0\n",
      "2017-04-03 13:42:31,488 : INFO : PROGRESS: at 84.20% examples, 461880 words/s, in_qsize 16, out_qsize 0\n",
      "2017-04-03 13:42:32,499 : INFO : PROGRESS: at 85.29% examples, 461684 words/s, in_qsize 16, out_qsize 0\n",
      "2017-04-03 13:42:33,499 : INFO : PROGRESS: at 86.52% examples, 462001 words/s, in_qsize 15, out_qsize 0\n",
      "2017-04-03 13:42:34,586 : INFO : PROGRESS: at 87.77% examples, 461996 words/s, in_qsize 15, out_qsize 0\n",
      "2017-04-03 13:42:35,590 : INFO : PROGRESS: at 89.10% examples, 462741 words/s, in_qsize 15, out_qsize 0\n",
      "2017-04-03 13:42:36,592 : INFO : PROGRESS: at 90.30% examples, 462914 words/s, in_qsize 15, out_qsize 0\n",
      "2017-04-03 13:42:37,615 : INFO : PROGRESS: at 91.52% examples, 463154 words/s, in_qsize 15, out_qsize 0\n",
      "2017-04-03 13:42:38,624 : INFO : PROGRESS: at 92.77% examples, 463312 words/s, in_qsize 15, out_qsize 0\n",
      "2017-04-03 13:42:39,637 : INFO : PROGRESS: at 93.97% examples, 463737 words/s, in_qsize 15, out_qsize 0\n",
      "2017-04-03 13:42:40,641 : INFO : PROGRESS: at 95.09% examples, 463736 words/s, in_qsize 16, out_qsize 0\n",
      "2017-04-03 13:42:41,642 : INFO : PROGRESS: at 96.16% examples, 463637 words/s, in_qsize 16, out_qsize 0\n",
      "2017-04-03 13:42:42,703 : INFO : PROGRESS: at 97.44% examples, 463650 words/s, in_qsize 16, out_qsize 0\n",
      "2017-04-03 13:42:43,706 : INFO : PROGRESS: at 98.66% examples, 463655 words/s, in_qsize 16, out_qsize 0\n",
      "2017-04-03 13:42:44,598 : INFO : worker thread finished; awaiting finish of 7 more threads\n",
      "2017-04-03 13:42:44,635 : INFO : worker thread finished; awaiting finish of 6 more threads\n",
      "2017-04-03 13:42:44,650 : INFO : worker thread finished; awaiting finish of 5 more threads\n",
      "2017-04-03 13:42:44,652 : INFO : worker thread finished; awaiting finish of 4 more threads\n",
      "2017-04-03 13:42:44,662 : INFO : worker thread finished; awaiting finish of 3 more threads\n",
      "2017-04-03 13:42:44,677 : INFO : worker thread finished; awaiting finish of 2 more threads\n",
      "2017-04-03 13:42:44,679 : INFO : worker thread finished; awaiting finish of 1 more threads\n",
      "2017-04-03 13:42:44,705 : INFO : worker thread finished; awaiting finish of 0 more threads\n",
      "2017-04-03 13:42:44,706 : INFO : training on 41685690 raw words (39719350 effective words) took 85.6s, 464192 effective words/s\n"
     ]
    }
   ],
   "source": [
    "# initialize d2v_wrapper providing as well metadata about the models state\n",
    "d2v_wrapper = D2VWrapper(content_basepath=\"../../data/content/playground/auto/nostem\",\n",
    "                         basepath_suffix=\"_content.csv\",\n",
    "                         content_categories=product_list,\n",
    "                         vector_length=500)\n",
    "\n",
    "# initialize the vocab of documents and minimize the distances of embeddings in training phase\n",
    "d2v_wrapper.init_model_vocab()\n",
    "d2v_wrapper.train_model(shuffle=True, epochs=1 if TEST_MODE else 10)\n",
    "\n",
    "# transform the doc data set into a vector set of the given vector_length\n",
    "doc_vectors_labeled = d2v_wrapper.infer_content_vectors()\n",
    "doc_vectors = doc_vectors_labeled.iloc[:, :-1]\n",
    "doc_labels = doc_vectors_labeled.iloc[:, -1]"
   ]
  },
  {
   "cell_type": "code",
   "execution_count": 4,
   "metadata": {
    "collapsed": false,
    "scrolled": false
   },
   "outputs": [],
   "source": [
    "# extended evaluation metric on selected category\n",
    "def accuracy_for_category(y_expected, y_actual, label):\n",
    "    label_expected = y_expected[y_expected == label]\n",
    "    intersect = y_expected[np.where(y_expected == y_actual)]\n",
    "    label_intersect = intersect[intersect == label]\n",
    "    if len(label_expected) == 0:\n",
    "        logging.warn(\"Accuracy of %s category evaluated on 0 samples\" % label)\n",
    "        return 1 if len(label_intersect) == 0 else 0\n",
    "    else:\n",
    "        return float(len(label_intersect)) / len(label_expected)"
   ]
  },
  {
   "cell_type": "code",
   "execution_count": 5,
   "metadata": {
    "collapsed": true,
    "scrolled": false
   },
   "outputs": [],
   "source": [
    "# encoding/decoding target categories\n",
    "mapping = []\n",
    "\n",
    "\n",
    "def encode_categories(target_series):\n",
    "    global mapping\n",
    "    if not len(mapping):\n",
    "        for cat in target_series.unique():\n",
    "            mapping.append(cat)\n",
    "\n",
    "    return target_series.apply(lambda cat_str: mapping.index(cat_str))\n",
    "\n",
    "\n",
    "def decode_categories(target_series):\n",
    "    global mapping\n",
    "    return target_series.apply(lambda cat_idx: mapping[cat_idx])"
   ]
  },
  {
   "cell_type": "code",
   "execution_count": 6,
   "metadata": {
    "collapsed": true
   },
   "outputs": [],
   "source": [
    "# transforms the given content to Tensorflow format\n",
    "def dataset_from_dataframe(data_df, target_series):\n",
    "    dataset = tf.contrib.learn.datasets.base.Dataset(data=data_df.values, target=encode_categories(target_series))\n",
    "    return dataset"
   ]
  },
  {
   "cell_type": "code",
   "execution_count": 7,
   "metadata": {
    "collapsed": false,
    "scrolled": true
   },
   "outputs": [
    {
     "name": "stdout",
     "output_type": "stream",
     "text": [
      "WARNING:tensorflow:Using temporary folder as model directory: /tmp/tmpMHMEO_\n"
     ]
    },
    {
     "name": "stderr",
     "output_type": "stream",
     "text": [
      "2017-04-03 13:52:01,696 : WARNING : Using temporary folder as model directory: /tmp/tmpMHMEO_\n"
     ]
    },
    {
     "name": "stdout",
     "output_type": "stream",
     "text": [
      "INFO:tensorflow:Using default config.\n"
     ]
    },
    {
     "name": "stderr",
     "output_type": "stream",
     "text": [
      "2017-04-03 13:52:01,697 : INFO : Using default config.\n"
     ]
    },
    {
     "name": "stdout",
     "output_type": "stream",
     "text": [
      "INFO:tensorflow:Using config: {'_save_checkpoints_secs': 600, '_num_ps_replicas': 0, '_keep_checkpoint_max': 5, '_tf_random_seed': None, '_task_type': None, '_environment': 'local', '_is_chief': True, '_cluster_spec': <tensorflow.python.training.server_lib.ClusterSpec object at 0x7ff46e729dd0>, '_tf_config': gpu_options {\n",
      "  per_process_gpu_memory_fraction: 1\n",
      "}\n",
      ", '_task_id': 0, '_save_summary_steps': 100, '_save_checkpoints_steps': None, '_evaluation_master': '', '_keep_checkpoint_every_n_hours': 10000, '_master': ''}\n"
     ]
    },
    {
     "name": "stderr",
     "output_type": "stream",
     "text": [
      "2017-04-03 13:52:01,698 : INFO : Using config: {'_save_checkpoints_secs': 600, '_num_ps_replicas': 0, '_keep_checkpoint_max': 5, '_tf_random_seed': None, '_task_type': None, '_environment': 'local', '_is_chief': True, '_cluster_spec': <tensorflow.python.training.server_lib.ClusterSpec object at 0x7ff46e729dd0>, '_tf_config': gpu_options {\n",
      "  per_process_gpu_memory_fraction: 1\n",
      "}\n",
      ", '_task_id': 0, '_save_summary_steps': 100, '_save_checkpoints_steps': None, '_evaluation_master': '', '_keep_checkpoint_every_n_hours': 10000, '_master': ''}\n"
     ]
    },
    {
     "name": "stdout",
     "output_type": "stream",
     "text": [
      "WARNING:tensorflow:float64 is not supported by many models, consider casting to float32.\n"
     ]
    },
    {
     "name": "stderr",
     "output_type": "stream",
     "text": [
      "2017-04-03 13:52:01,699 : WARNING : float64 is not supported by many models, consider casting to float32.\n"
     ]
    },
    {
     "name": "stdout",
     "output_type": "stream",
     "text": [
      "WARNING:tensorflow:From /usr/lib/python2.7/site-packages/tensorflow/contrib/learn/python/learn/estimators/head.py:1362: scalar_summary (from tensorflow.python.ops.logging_ops) is deprecated and will be removed after 2016-11-30.\n",
      "Instructions for updating:\n",
      "Please switch to tf.summary.scalar. Note that tf.summary.scalar uses the node name instead of the tag. This means that TensorFlow will automatically de-duplicate summary names based on the scope they are created in. Also, passing a tensor or list of tags to a scalar summary op is no longer supported.\n"
     ]
    },
    {
     "name": "stderr",
     "output_type": "stream",
     "text": [
      "2017-04-03 13:52:01,955 : WARNING : From /usr/lib/python2.7/site-packages/tensorflow/contrib/learn/python/learn/estimators/head.py:1362: scalar_summary (from tensorflow.python.ops.logging_ops) is deprecated and will be removed after 2016-11-30.\n",
      "Instructions for updating:\n",
      "Please switch to tf.summary.scalar. Note that tf.summary.scalar uses the node name instead of the tag. This means that TensorFlow will automatically de-duplicate summary names based on the scope they are created in. Also, passing a tensor or list of tags to a scalar summary op is no longer supported.\n"
     ]
    },
    {
     "name": "stdout",
     "output_type": "stream",
     "text": [
      "INFO:tensorflow:Create CheckpointSaverHook.\n"
     ]
    },
    {
     "name": "stderr",
     "output_type": "stream",
     "text": [
      "2017-04-03 13:52:02,234 : INFO : Create CheckpointSaverHook.\n"
     ]
    },
    {
     "name": "stdout",
     "output_type": "stream",
     "text": [
      "INFO:tensorflow:Saving checkpoints for 1 into /tmp/tmpMHMEO_/model.ckpt.\n"
     ]
    },
    {
     "name": "stderr",
     "output_type": "stream",
     "text": [
      "2017-04-03 13:52:04,234 : INFO : Saving checkpoints for 1 into /tmp/tmpMHMEO_/model.ckpt.\n"
     ]
    },
    {
     "name": "stdout",
     "output_type": "stream",
     "text": [
      "INFO:tensorflow:loss = 2.67744, step = 1\n"
     ]
    },
    {
     "name": "stderr",
     "output_type": "stream",
     "text": [
      "2017-04-03 13:52:04,768 : INFO : loss = 2.67744, step = 1\n"
     ]
    },
    {
     "name": "stdout",
     "output_type": "stream",
     "text": [
      "INFO:tensorflow:global_step/sec: 161.731\n"
     ]
    },
    {
     "name": "stderr",
     "output_type": "stream",
     "text": [
      "2017-04-03 13:52:05,385 : INFO : global_step/sec: 161.731\n"
     ]
    },
    {
     "name": "stdout",
     "output_type": "stream",
     "text": [
      "INFO:tensorflow:loss = 0.604716, step = 101\n"
     ]
    },
    {
     "name": "stderr",
     "output_type": "stream",
     "text": [
      "2017-04-03 13:52:05,387 : INFO : loss = 0.604716, step = 101\n"
     ]
    },
    {
     "name": "stdout",
     "output_type": "stream",
     "text": [
      "INFO:tensorflow:global_step/sec: 161.935\n"
     ]
    },
    {
     "name": "stderr",
     "output_type": "stream",
     "text": [
      "2017-04-03 13:52:06,002 : INFO : global_step/sec: 161.935\n"
     ]
    },
    {
     "name": "stdout",
     "output_type": "stream",
     "text": [
      "INFO:tensorflow:loss = 0.759951, step = 201\n"
     ]
    },
    {
     "name": "stderr",
     "output_type": "stream",
     "text": [
      "2017-04-03 13:52:06,005 : INFO : loss = 0.759951, step = 201\n"
     ]
    },
    {
     "name": "stdout",
     "output_type": "stream",
     "text": [
      "INFO:tensorflow:global_step/sec: 161.658\n"
     ]
    },
    {
     "name": "stderr",
     "output_type": "stream",
     "text": [
      "2017-04-03 13:52:06,621 : INFO : global_step/sec: 161.658\n"
     ]
    },
    {
     "name": "stdout",
     "output_type": "stream",
     "text": [
      "INFO:tensorflow:loss = 0.599138, step = 301\n"
     ]
    },
    {
     "name": "stderr",
     "output_type": "stream",
     "text": [
      "2017-04-03 13:52:06,623 : INFO : loss = 0.599138, step = 301\n"
     ]
    },
    {
     "name": "stdout",
     "output_type": "stream",
     "text": [
      "INFO:tensorflow:global_step/sec: 162.438\n"
     ]
    },
    {
     "name": "stderr",
     "output_type": "stream",
     "text": [
      "2017-04-03 13:52:07,236 : INFO : global_step/sec: 162.438\n"
     ]
    },
    {
     "name": "stdout",
     "output_type": "stream",
     "text": [
      "INFO:tensorflow:loss = 0.482096, step = 401\n"
     ]
    },
    {
     "name": "stderr",
     "output_type": "stream",
     "text": [
      "2017-04-03 13:52:07,239 : INFO : loss = 0.482096, step = 401\n"
     ]
    },
    {
     "name": "stdout",
     "output_type": "stream",
     "text": [
      "INFO:tensorflow:global_step/sec: 161.625\n"
     ]
    },
    {
     "name": "stderr",
     "output_type": "stream",
     "text": [
      "2017-04-03 13:52:07,855 : INFO : global_step/sec: 161.625\n"
     ]
    },
    {
     "name": "stdout",
     "output_type": "stream",
     "text": [
      "INFO:tensorflow:loss = 0.435548, step = 501\n"
     ]
    },
    {
     "name": "stderr",
     "output_type": "stream",
     "text": [
      "2017-04-03 13:52:07,858 : INFO : loss = 0.435548, step = 501\n"
     ]
    },
    {
     "name": "stdout",
     "output_type": "stream",
     "text": [
      "INFO:tensorflow:global_step/sec: 159.169\n"
     ]
    },
    {
     "name": "stderr",
     "output_type": "stream",
     "text": [
      "2017-04-03 13:52:08,483 : INFO : global_step/sec: 159.169\n"
     ]
    },
    {
     "name": "stdout",
     "output_type": "stream",
     "text": [
      "INFO:tensorflow:loss = 0.565559, step = 601\n"
     ]
    },
    {
     "name": "stderr",
     "output_type": "stream",
     "text": [
      "2017-04-03 13:52:08,486 : INFO : loss = 0.565559, step = 601\n"
     ]
    },
    {
     "name": "stdout",
     "output_type": "stream",
     "text": [
      "INFO:tensorflow:global_step/sec: 158.486\n"
     ]
    },
    {
     "name": "stderr",
     "output_type": "stream",
     "text": [
      "2017-04-03 13:52:09,114 : INFO : global_step/sec: 158.486\n"
     ]
    },
    {
     "name": "stdout",
     "output_type": "stream",
     "text": [
      "INFO:tensorflow:loss = 0.822101, step = 701\n"
     ]
    },
    {
     "name": "stderr",
     "output_type": "stream",
     "text": [
      "2017-04-03 13:52:09,117 : INFO : loss = 0.822101, step = 701\n"
     ]
    },
    {
     "name": "stdout",
     "output_type": "stream",
     "text": [
      "INFO:tensorflow:global_step/sec: 143.293\n"
     ]
    },
    {
     "name": "stderr",
     "output_type": "stream",
     "text": [
      "2017-04-03 13:52:09,812 : INFO : global_step/sec: 143.293\n"
     ]
    },
    {
     "name": "stdout",
     "output_type": "stream",
     "text": [
      "INFO:tensorflow:loss = 0.515, step = 801\n"
     ]
    },
    {
     "name": "stderr",
     "output_type": "stream",
     "text": [
      "2017-04-03 13:52:09,816 : INFO : loss = 0.515, step = 801\n"
     ]
    },
    {
     "name": "stdout",
     "output_type": "stream",
     "text": [
      "INFO:tensorflow:global_step/sec: 140.47\n"
     ]
    },
    {
     "name": "stderr",
     "output_type": "stream",
     "text": [
      "2017-04-03 13:52:10,524 : INFO : global_step/sec: 140.47\n"
     ]
    },
    {
     "name": "stdout",
     "output_type": "stream",
     "text": [
      "INFO:tensorflow:loss = 0.826517, step = 901\n"
     ]
    },
    {
     "name": "stderr",
     "output_type": "stream",
     "text": [
      "2017-04-03 13:52:10,527 : INFO : loss = 0.826517, step = 901\n"
     ]
    },
    {
     "name": "stdout",
     "output_type": "stream",
     "text": [
      "INFO:tensorflow:global_step/sec: 146.934\n"
     ]
    },
    {
     "name": "stderr",
     "output_type": "stream",
     "text": [
      "2017-04-03 13:52:11,205 : INFO : global_step/sec: 146.934\n"
     ]
    },
    {
     "name": "stdout",
     "output_type": "stream",
     "text": [
      "INFO:tensorflow:loss = 0.84773, step = 1001\n"
     ]
    },
    {
     "name": "stderr",
     "output_type": "stream",
     "text": [
      "2017-04-03 13:52:11,207 : INFO : loss = 0.84773, step = 1001\n"
     ]
    },
    {
     "name": "stdout",
     "output_type": "stream",
     "text": [
      "INFO:tensorflow:global_step/sec: 147.601\n"
     ]
    },
    {
     "name": "stderr",
     "output_type": "stream",
     "text": [
      "2017-04-03 13:52:11,882 : INFO : global_step/sec: 147.601\n"
     ]
    },
    {
     "name": "stdout",
     "output_type": "stream",
     "text": [
      "INFO:tensorflow:loss = 0.616143, step = 1101\n"
     ]
    },
    {
     "name": "stderr",
     "output_type": "stream",
     "text": [
      "2017-04-03 13:52:11,885 : INFO : loss = 0.616143, step = 1101\n"
     ]
    },
    {
     "name": "stdout",
     "output_type": "stream",
     "text": [
      "INFO:tensorflow:global_step/sec: 146.706\n"
     ]
    },
    {
     "name": "stderr",
     "output_type": "stream",
     "text": [
      "2017-04-03 13:52:12,564 : INFO : global_step/sec: 146.706\n"
     ]
    },
    {
     "name": "stdout",
     "output_type": "stream",
     "text": [
      "INFO:tensorflow:loss = 0.770852, step = 1201\n"
     ]
    },
    {
     "name": "stderr",
     "output_type": "stream",
     "text": [
      "2017-04-03 13:52:12,566 : INFO : loss = 0.770852, step = 1201\n"
     ]
    },
    {
     "name": "stdout",
     "output_type": "stream",
     "text": [
      "INFO:tensorflow:global_step/sec: 146.442\n"
     ]
    },
    {
     "name": "stderr",
     "output_type": "stream",
     "text": [
      "2017-04-03 13:52:13,247 : INFO : global_step/sec: 146.442\n"
     ]
    },
    {
     "name": "stdout",
     "output_type": "stream",
     "text": [
      "INFO:tensorflow:loss = 0.86583, step = 1301\n"
     ]
    },
    {
     "name": "stderr",
     "output_type": "stream",
     "text": [
      "2017-04-03 13:52:13,249 : INFO : loss = 0.86583, step = 1301\n"
     ]
    },
    {
     "name": "stdout",
     "output_type": "stream",
     "text": [
      "INFO:tensorflow:global_step/sec: 145.362\n"
     ]
    },
    {
     "name": "stderr",
     "output_type": "stream",
     "text": [
      "2017-04-03 13:52:13,935 : INFO : global_step/sec: 145.362\n"
     ]
    },
    {
     "name": "stdout",
     "output_type": "stream",
     "text": [
      "INFO:tensorflow:loss = 0.584669, step = 1401\n"
     ]
    },
    {
     "name": "stderr",
     "output_type": "stream",
     "text": [
      "2017-04-03 13:52:13,938 : INFO : loss = 0.584669, step = 1401\n"
     ]
    },
    {
     "name": "stdout",
     "output_type": "stream",
     "text": [
      "INFO:tensorflow:global_step/sec: 144.181\n"
     ]
    },
    {
     "name": "stderr",
     "output_type": "stream",
     "text": [
      "2017-04-03 13:52:14,628 : INFO : global_step/sec: 144.181\n"
     ]
    },
    {
     "name": "stdout",
     "output_type": "stream",
     "text": [
      "INFO:tensorflow:loss = 0.495196, step = 1501\n"
     ]
    },
    {
     "name": "stderr",
     "output_type": "stream",
     "text": [
      "2017-04-03 13:52:14,631 : INFO : loss = 0.495196, step = 1501\n"
     ]
    },
    {
     "name": "stdout",
     "output_type": "stream",
     "text": [
      "INFO:tensorflow:global_step/sec: 146.763\n"
     ]
    },
    {
     "name": "stderr",
     "output_type": "stream",
     "text": [
      "2017-04-03 13:52:15,310 : INFO : global_step/sec: 146.763\n"
     ]
    },
    {
     "name": "stdout",
     "output_type": "stream",
     "text": [
      "INFO:tensorflow:loss = 0.612352, step = 1601\n"
     ]
    },
    {
     "name": "stderr",
     "output_type": "stream",
     "text": [
      "2017-04-03 13:52:15,312 : INFO : loss = 0.612352, step = 1601\n"
     ]
    },
    {
     "name": "stdout",
     "output_type": "stream",
     "text": [
      "INFO:tensorflow:global_step/sec: 147.342\n"
     ]
    },
    {
     "name": "stderr",
     "output_type": "stream",
     "text": [
      "2017-04-03 13:52:15,988 : INFO : global_step/sec: 147.342\n"
     ]
    },
    {
     "name": "stdout",
     "output_type": "stream",
     "text": [
      "INFO:tensorflow:loss = 0.846919, step = 1701\n"
     ]
    },
    {
     "name": "stderr",
     "output_type": "stream",
     "text": [
      "2017-04-03 13:52:15,991 : INFO : loss = 0.846919, step = 1701\n"
     ]
    },
    {
     "name": "stdout",
     "output_type": "stream",
     "text": [
      "INFO:tensorflow:global_step/sec: 146.808\n"
     ]
    },
    {
     "name": "stderr",
     "output_type": "stream",
     "text": [
      "2017-04-03 13:52:16,669 : INFO : global_step/sec: 146.808\n"
     ]
    },
    {
     "name": "stdout",
     "output_type": "stream",
     "text": [
      "INFO:tensorflow:loss = 0.847404, step = 1801\n"
     ]
    },
    {
     "name": "stderr",
     "output_type": "stream",
     "text": [
      "2017-04-03 13:52:16,672 : INFO : loss = 0.847404, step = 1801\n"
     ]
    },
    {
     "name": "stdout",
     "output_type": "stream",
     "text": [
      "INFO:tensorflow:global_step/sec: 147.661\n"
     ]
    },
    {
     "name": "stderr",
     "output_type": "stream",
     "text": [
      "2017-04-03 13:52:17,347 : INFO : global_step/sec: 147.661\n"
     ]
    },
    {
     "name": "stdout",
     "output_type": "stream",
     "text": [
      "INFO:tensorflow:loss = 0.544983, step = 1901\n"
     ]
    },
    {
     "name": "stderr",
     "output_type": "stream",
     "text": [
      "2017-04-03 13:52:17,350 : INFO : loss = 0.544983, step = 1901\n"
     ]
    },
    {
     "name": "stdout",
     "output_type": "stream",
     "text": [
      "INFO:tensorflow:global_step/sec: 146.197\n"
     ]
    },
    {
     "name": "stderr",
     "output_type": "stream",
     "text": [
      "2017-04-03 13:52:18,031 : INFO : global_step/sec: 146.197\n"
     ]
    },
    {
     "name": "stdout",
     "output_type": "stream",
     "text": [
      "INFO:tensorflow:loss = 0.603514, step = 2001\n"
     ]
    },
    {
     "name": "stderr",
     "output_type": "stream",
     "text": [
      "2017-04-03 13:52:18,033 : INFO : loss = 0.603514, step = 2001\n"
     ]
    },
    {
     "name": "stdout",
     "output_type": "stream",
     "text": [
      "INFO:tensorflow:global_step/sec: 147.486\n"
     ]
    },
    {
     "name": "stderr",
     "output_type": "stream",
     "text": [
      "2017-04-03 13:52:18,709 : INFO : global_step/sec: 147.486\n"
     ]
    },
    {
     "name": "stdout",
     "output_type": "stream",
     "text": [
      "INFO:tensorflow:loss = 0.709417, step = 2101\n"
     ]
    },
    {
     "name": "stderr",
     "output_type": "stream",
     "text": [
      "2017-04-03 13:52:18,711 : INFO : loss = 0.709417, step = 2101\n"
     ]
    },
    {
     "name": "stdout",
     "output_type": "stream",
     "text": [
      "INFO:tensorflow:global_step/sec: 149.462\n"
     ]
    },
    {
     "name": "stderr",
     "output_type": "stream",
     "text": [
      "2017-04-03 13:52:19,378 : INFO : global_step/sec: 149.462\n"
     ]
    },
    {
     "name": "stdout",
     "output_type": "stream",
     "text": [
      "INFO:tensorflow:loss = 0.698951, step = 2201\n"
     ]
    },
    {
     "name": "stderr",
     "output_type": "stream",
     "text": [
      "2017-04-03 13:52:19,381 : INFO : loss = 0.698951, step = 2201\n"
     ]
    },
    {
     "name": "stdout",
     "output_type": "stream",
     "text": [
      "INFO:tensorflow:global_step/sec: 147.346\n"
     ]
    },
    {
     "name": "stderr",
     "output_type": "stream",
     "text": [
      "2017-04-03 13:52:20,056 : INFO : global_step/sec: 147.346\n"
     ]
    },
    {
     "name": "stdout",
     "output_type": "stream",
     "text": [
      "INFO:tensorflow:loss = 0.369135, step = 2301\n"
     ]
    },
    {
     "name": "stderr",
     "output_type": "stream",
     "text": [
      "2017-04-03 13:52:20,059 : INFO : loss = 0.369135, step = 2301\n"
     ]
    },
    {
     "name": "stdout",
     "output_type": "stream",
     "text": [
      "INFO:tensorflow:global_step/sec: 142.969\n"
     ]
    },
    {
     "name": "stderr",
     "output_type": "stream",
     "text": [
      "2017-04-03 13:52:20,756 : INFO : global_step/sec: 142.969\n"
     ]
    },
    {
     "name": "stdout",
     "output_type": "stream",
     "text": [
      "INFO:tensorflow:loss = 0.473938, step = 2401\n"
     ]
    },
    {
     "name": "stderr",
     "output_type": "stream",
     "text": [
      "2017-04-03 13:52:20,759 : INFO : loss = 0.473938, step = 2401\n"
     ]
    },
    {
     "name": "stdout",
     "output_type": "stream",
     "text": [
      "INFO:tensorflow:global_step/sec: 117.606\n"
     ]
    },
    {
     "name": "stderr",
     "output_type": "stream",
     "text": [
      "2017-04-03 13:52:21,606 : INFO : global_step/sec: 117.606\n"
     ]
    },
    {
     "name": "stdout",
     "output_type": "stream",
     "text": [
      "INFO:tensorflow:loss = 0.595126, step = 2501\n"
     ]
    },
    {
     "name": "stderr",
     "output_type": "stream",
     "text": [
      "2017-04-03 13:52:21,610 : INFO : loss = 0.595126, step = 2501\n"
     ]
    },
    {
     "name": "stdout",
     "output_type": "stream",
     "text": [
      "INFO:tensorflow:global_step/sec: 120.343\n"
     ]
    },
    {
     "name": "stderr",
     "output_type": "stream",
     "text": [
      "2017-04-03 13:52:22,437 : INFO : global_step/sec: 120.343\n"
     ]
    },
    {
     "name": "stdout",
     "output_type": "stream",
     "text": [
      "INFO:tensorflow:loss = 0.670837, step = 2601\n"
     ]
    },
    {
     "name": "stderr",
     "output_type": "stream",
     "text": [
      "2017-04-03 13:52:22,440 : INFO : loss = 0.670837, step = 2601\n"
     ]
    },
    {
     "name": "stdout",
     "output_type": "stream",
     "text": [
      "INFO:tensorflow:global_step/sec: 114.156\n"
     ]
    },
    {
     "name": "stderr",
     "output_type": "stream",
     "text": [
      "2017-04-03 13:52:23,313 : INFO : global_step/sec: 114.156\n"
     ]
    },
    {
     "name": "stdout",
     "output_type": "stream",
     "text": [
      "INFO:tensorflow:loss = 0.692781, step = 2701\n"
     ]
    },
    {
     "name": "stderr",
     "output_type": "stream",
     "text": [
      "2017-04-03 13:52:23,316 : INFO : loss = 0.692781, step = 2701\n"
     ]
    },
    {
     "name": "stdout",
     "output_type": "stream",
     "text": [
      "INFO:tensorflow:global_step/sec: 131.486\n"
     ]
    },
    {
     "name": "stderr",
     "output_type": "stream",
     "text": [
      "2017-04-03 13:52:24,074 : INFO : global_step/sec: 131.486\n"
     ]
    },
    {
     "name": "stdout",
     "output_type": "stream",
     "text": [
      "INFO:tensorflow:loss = 2.13515, step = 2801\n"
     ]
    },
    {
     "name": "stderr",
     "output_type": "stream",
     "text": [
      "2017-04-03 13:52:24,077 : INFO : loss = 2.13515, step = 2801\n"
     ]
    },
    {
     "name": "stdout",
     "output_type": "stream",
     "text": [
      "INFO:tensorflow:global_step/sec: 146.945\n"
     ]
    },
    {
     "name": "stderr",
     "output_type": "stream",
     "text": [
      "2017-04-03 13:52:24,754 : INFO : global_step/sec: 146.945\n"
     ]
    },
    {
     "name": "stdout",
     "output_type": "stream",
     "text": [
      "INFO:tensorflow:loss = 0.522621, step = 2901\n"
     ]
    },
    {
     "name": "stderr",
     "output_type": "stream",
     "text": [
      "2017-04-03 13:52:24,757 : INFO : loss = 0.522621, step = 2901\n"
     ]
    },
    {
     "name": "stdout",
     "output_type": "stream",
     "text": [
      "INFO:tensorflow:global_step/sec: 148.632\n"
     ]
    },
    {
     "name": "stderr",
     "output_type": "stream",
     "text": [
      "2017-04-03 13:52:25,427 : INFO : global_step/sec: 148.632\n"
     ]
    },
    {
     "name": "stdout",
     "output_type": "stream",
     "text": [
      "INFO:tensorflow:loss = 0.75336, step = 3001\n"
     ]
    },
    {
     "name": "stderr",
     "output_type": "stream",
     "text": [
      "2017-04-03 13:52:25,430 : INFO : loss = 0.75336, step = 3001\n"
     ]
    },
    {
     "name": "stdout",
     "output_type": "stream",
     "text": [
      "INFO:tensorflow:global_step/sec: 148.06\n"
     ]
    },
    {
     "name": "stderr",
     "output_type": "stream",
     "text": [
      "2017-04-03 13:52:26,102 : INFO : global_step/sec: 148.06\n"
     ]
    },
    {
     "name": "stdout",
     "output_type": "stream",
     "text": [
      "INFO:tensorflow:loss = 0.752938, step = 3101\n"
     ]
    },
    {
     "name": "stderr",
     "output_type": "stream",
     "text": [
      "2017-04-03 13:52:26,105 : INFO : loss = 0.752938, step = 3101\n"
     ]
    },
    {
     "name": "stdout",
     "output_type": "stream",
     "text": [
      "INFO:tensorflow:global_step/sec: 147.209\n"
     ]
    },
    {
     "name": "stderr",
     "output_type": "stream",
     "text": [
      "2017-04-03 13:52:26,782 : INFO : global_step/sec: 147.209\n"
     ]
    },
    {
     "name": "stdout",
     "output_type": "stream",
     "text": [
      "INFO:tensorflow:loss = 0.57217, step = 3201\n"
     ]
    },
    {
     "name": "stderr",
     "output_type": "stream",
     "text": [
      "2017-04-03 13:52:26,784 : INFO : loss = 0.57217, step = 3201\n"
     ]
    },
    {
     "name": "stdout",
     "output_type": "stream",
     "text": [
      "INFO:tensorflow:global_step/sec: 148.544\n"
     ]
    },
    {
     "name": "stderr",
     "output_type": "stream",
     "text": [
      "2017-04-03 13:52:27,455 : INFO : global_step/sec: 148.544\n"
     ]
    },
    {
     "name": "stdout",
     "output_type": "stream",
     "text": [
      "INFO:tensorflow:loss = 0.527986, step = 3301\n"
     ]
    },
    {
     "name": "stderr",
     "output_type": "stream",
     "text": [
      "2017-04-03 13:52:27,457 : INFO : loss = 0.527986, step = 3301\n"
     ]
    },
    {
     "name": "stdout",
     "output_type": "stream",
     "text": [
      "INFO:tensorflow:global_step/sec: 146.902\n"
     ]
    },
    {
     "name": "stderr",
     "output_type": "stream",
     "text": [
      "2017-04-03 13:52:28,136 : INFO : global_step/sec: 146.902\n"
     ]
    },
    {
     "name": "stdout",
     "output_type": "stream",
     "text": [
      "INFO:tensorflow:loss = 0.545208, step = 3401\n"
     ]
    },
    {
     "name": "stderr",
     "output_type": "stream",
     "text": [
      "2017-04-03 13:52:28,138 : INFO : loss = 0.545208, step = 3401\n"
     ]
    },
    {
     "name": "stdout",
     "output_type": "stream",
     "text": [
      "INFO:tensorflow:global_step/sec: 149.642\n"
     ]
    },
    {
     "name": "stderr",
     "output_type": "stream",
     "text": [
      "2017-04-03 13:52:28,804 : INFO : global_step/sec: 149.642\n"
     ]
    },
    {
     "name": "stdout",
     "output_type": "stream",
     "text": [
      "INFO:tensorflow:loss = 0.709143, step = 3501\n"
     ]
    },
    {
     "name": "stderr",
     "output_type": "stream",
     "text": [
      "2017-04-03 13:52:28,807 : INFO : loss = 0.709143, step = 3501\n"
     ]
    },
    {
     "name": "stdout",
     "output_type": "stream",
     "text": [
      "INFO:tensorflow:global_step/sec: 146.822\n"
     ]
    },
    {
     "name": "stderr",
     "output_type": "stream",
     "text": [
      "2017-04-03 13:52:29,485 : INFO : global_step/sec: 146.822\n"
     ]
    },
    {
     "name": "stdout",
     "output_type": "stream",
     "text": [
      "INFO:tensorflow:loss = 0.491333, step = 3601\n"
     ]
    },
    {
     "name": "stderr",
     "output_type": "stream",
     "text": [
      "2017-04-03 13:52:29,488 : INFO : loss = 0.491333, step = 3601\n"
     ]
    },
    {
     "name": "stdout",
     "output_type": "stream",
     "text": [
      "INFO:tensorflow:global_step/sec: 147.349\n"
     ]
    },
    {
     "name": "stderr",
     "output_type": "stream",
     "text": [
      "2017-04-03 13:52:30,164 : INFO : global_step/sec: 147.349\n"
     ]
    },
    {
     "name": "stdout",
     "output_type": "stream",
     "text": [
      "INFO:tensorflow:loss = 0.529415, step = 3701\n"
     ]
    },
    {
     "name": "stderr",
     "output_type": "stream",
     "text": [
      "2017-04-03 13:52:30,167 : INFO : loss = 0.529415, step = 3701\n"
     ]
    },
    {
     "name": "stdout",
     "output_type": "stream",
     "text": [
      "INFO:tensorflow:global_step/sec: 147.632\n"
     ]
    },
    {
     "name": "stderr",
     "output_type": "stream",
     "text": [
      "2017-04-03 13:52:30,841 : INFO : global_step/sec: 147.632\n"
     ]
    },
    {
     "name": "stdout",
     "output_type": "stream",
     "text": [
      "INFO:tensorflow:loss = 0.436837, step = 3801\n"
     ]
    },
    {
     "name": "stderr",
     "output_type": "stream",
     "text": [
      "2017-04-03 13:52:30,844 : INFO : loss = 0.436837, step = 3801\n"
     ]
    },
    {
     "name": "stdout",
     "output_type": "stream",
     "text": [
      "INFO:tensorflow:global_step/sec: 147.358\n"
     ]
    },
    {
     "name": "stderr",
     "output_type": "stream",
     "text": [
      "2017-04-03 13:52:31,520 : INFO : global_step/sec: 147.358\n"
     ]
    },
    {
     "name": "stdout",
     "output_type": "stream",
     "text": [
      "INFO:tensorflow:loss = 0.52981, step = 3901\n"
     ]
    },
    {
     "name": "stderr",
     "output_type": "stream",
     "text": [
      "2017-04-03 13:52:31,523 : INFO : loss = 0.52981, step = 3901\n"
     ]
    },
    {
     "name": "stdout",
     "output_type": "stream",
     "text": [
      "INFO:tensorflow:Saving checkpoints for 4000 into /tmp/tmpMHMEO_/model.ckpt.\n"
     ]
    },
    {
     "name": "stderr",
     "output_type": "stream",
     "text": [
      "2017-04-03 13:52:32,191 : INFO : Saving checkpoints for 4000 into /tmp/tmpMHMEO_/model.ckpt.\n"
     ]
    },
    {
     "name": "stdout",
     "output_type": "stream",
     "text": [
      "INFO:tensorflow:Loss for final step: 0.659695.\n"
     ]
    },
    {
     "name": "stderr",
     "output_type": "stream",
     "text": [
      "2017-04-03 13:52:32,478 : INFO : Loss for final step: 0.659695.\n"
     ]
    },
    {
     "name": "stdout",
     "output_type": "stream",
     "text": [
      "WARNING:tensorflow:float64 is not supported by many models, consider casting to float32.\n"
     ]
    },
    {
     "name": "stderr",
     "output_type": "stream",
     "text": [
      "2017-04-03 13:52:32,591 : WARNING : float64 is not supported by many models, consider casting to float32.\n",
      "2017-04-03 13:52:32,995 : WARNING : Run accuracy: 0.812949640288\n",
      "2017-04-03 13:52:33,008 : WARNING : Cat accuracies:\n",
      "[0.0, 0.9473604826546003, 0.006329113924050633, 0.4166666666666667, 0.7702702702702703, 0.3202614379084967, 0.4948453608247423, 0.7004175365344467, 0.0, 0.0, 0.885, 0.0, 0.0, 0.7991329479768786]\n"
     ]
    },
    {
     "name": "stdout",
     "output_type": "stream",
     "text": [
      "WARNING:tensorflow:Using temporary folder as model directory: /tmp/tmpvTZmbA\n"
     ]
    },
    {
     "name": "stderr",
     "output_type": "stream",
     "text": [
      "2017-04-03 13:52:33,255 : WARNING : Using temporary folder as model directory: /tmp/tmpvTZmbA\n"
     ]
    },
    {
     "name": "stdout",
     "output_type": "stream",
     "text": [
      "INFO:tensorflow:Using default config.\n"
     ]
    },
    {
     "name": "stderr",
     "output_type": "stream",
     "text": [
      "2017-04-03 13:52:33,257 : INFO : Using default config.\n"
     ]
    },
    {
     "name": "stdout",
     "output_type": "stream",
     "text": [
      "INFO:tensorflow:Using config: {'_save_checkpoints_secs': 600, '_num_ps_replicas': 0, '_keep_checkpoint_max': 5, '_tf_random_seed': None, '_task_type': None, '_environment': 'local', '_is_chief': True, '_cluster_spec': <tensorflow.python.training.server_lib.ClusterSpec object at 0x7ff4263306d0>, '_tf_config': gpu_options {\n",
      "  per_process_gpu_memory_fraction: 1\n",
      "}\n",
      ", '_task_id': 0, '_save_summary_steps': 100, '_save_checkpoints_steps': None, '_evaluation_master': '', '_keep_checkpoint_every_n_hours': 10000, '_master': ''}\n"
     ]
    },
    {
     "name": "stderr",
     "output_type": "stream",
     "text": [
      "2017-04-03 13:52:33,257 : INFO : Using config: {'_save_checkpoints_secs': 600, '_num_ps_replicas': 0, '_keep_checkpoint_max': 5, '_tf_random_seed': None, '_task_type': None, '_environment': 'local', '_is_chief': True, '_cluster_spec': <tensorflow.python.training.server_lib.ClusterSpec object at 0x7ff4263306d0>, '_tf_config': gpu_options {\n",
      "  per_process_gpu_memory_fraction: 1\n",
      "}\n",
      ", '_task_id': 0, '_save_summary_steps': 100, '_save_checkpoints_steps': None, '_evaluation_master': '', '_keep_checkpoint_every_n_hours': 10000, '_master': ''}\n"
     ]
    },
    {
     "name": "stdout",
     "output_type": "stream",
     "text": [
      "WARNING:tensorflow:float64 is not supported by many models, consider casting to float32.\n"
     ]
    },
    {
     "name": "stderr",
     "output_type": "stream",
     "text": [
      "2017-04-03 13:52:33,258 : WARNING : float64 is not supported by many models, consider casting to float32.\n"
     ]
    },
    {
     "name": "stdout",
     "output_type": "stream",
     "text": [
      "WARNING:tensorflow:From /usr/lib/python2.7/site-packages/tensorflow/contrib/learn/python/learn/estimators/head.py:1362: scalar_summary (from tensorflow.python.ops.logging_ops) is deprecated and will be removed after 2016-11-30.\n",
      "Instructions for updating:\n",
      "Please switch to tf.summary.scalar. Note that tf.summary.scalar uses the node name instead of the tag. This means that TensorFlow will automatically de-duplicate summary names based on the scope they are created in. Also, passing a tensor or list of tags to a scalar summary op is no longer supported.\n"
     ]
    },
    {
     "name": "stderr",
     "output_type": "stream",
     "text": [
      "2017-04-03 13:52:33,328 : WARNING : From /usr/lib/python2.7/site-packages/tensorflow/contrib/learn/python/learn/estimators/head.py:1362: scalar_summary (from tensorflow.python.ops.logging_ops) is deprecated and will be removed after 2016-11-30.\n",
      "Instructions for updating:\n",
      "Please switch to tf.summary.scalar. Note that tf.summary.scalar uses the node name instead of the tag. This means that TensorFlow will automatically de-duplicate summary names based on the scope they are created in. Also, passing a tensor or list of tags to a scalar summary op is no longer supported.\n"
     ]
    },
    {
     "name": "stdout",
     "output_type": "stream",
     "text": [
      "INFO:tensorflow:Create CheckpointSaverHook.\n"
     ]
    },
    {
     "name": "stderr",
     "output_type": "stream",
     "text": [
      "2017-04-03 13:52:33,597 : INFO : Create CheckpointSaverHook.\n"
     ]
    },
    {
     "name": "stdout",
     "output_type": "stream",
     "text": [
      "INFO:tensorflow:Saving checkpoints for 1 into /tmp/tmpvTZmbA/model.ckpt.\n"
     ]
    },
    {
     "name": "stderr",
     "output_type": "stream",
     "text": [
      "2017-04-03 13:52:35,413 : INFO : Saving checkpoints for 1 into /tmp/tmpvTZmbA/model.ckpt.\n"
     ]
    },
    {
     "name": "stdout",
     "output_type": "stream",
     "text": [
      "INFO:tensorflow:loss = 2.7113, step = 1\n"
     ]
    },
    {
     "name": "stderr",
     "output_type": "stream",
     "text": [
      "2017-04-03 13:52:35,923 : INFO : loss = 2.7113, step = 1\n"
     ]
    },
    {
     "name": "stdout",
     "output_type": "stream",
     "text": [
      "INFO:tensorflow:global_step/sec: 163.218\n"
     ]
    },
    {
     "name": "stderr",
     "output_type": "stream",
     "text": [
      "2017-04-03 13:52:36,534 : INFO : global_step/sec: 163.218\n"
     ]
    },
    {
     "name": "stdout",
     "output_type": "stream",
     "text": [
      "INFO:tensorflow:loss = 0.663445, step = 101\n"
     ]
    },
    {
     "name": "stderr",
     "output_type": "stream",
     "text": [
      "2017-04-03 13:52:36,537 : INFO : loss = 0.663445, step = 101\n"
     ]
    },
    {
     "name": "stdout",
     "output_type": "stream",
     "text": [
      "INFO:tensorflow:global_step/sec: 163.9\n"
     ]
    },
    {
     "name": "stderr",
     "output_type": "stream",
     "text": [
      "2017-04-03 13:52:37,145 : INFO : global_step/sec: 163.9\n"
     ]
    },
    {
     "name": "stdout",
     "output_type": "stream",
     "text": [
      "INFO:tensorflow:loss = 0.626801, step = 201\n"
     ]
    },
    {
     "name": "stderr",
     "output_type": "stream",
     "text": [
      "2017-04-03 13:52:37,147 : INFO : loss = 0.626801, step = 201\n"
     ]
    },
    {
     "name": "stdout",
     "output_type": "stream",
     "text": [
      "INFO:tensorflow:global_step/sec: 165.221\n"
     ]
    },
    {
     "name": "stderr",
     "output_type": "stream",
     "text": [
      "2017-04-03 13:52:37,750 : INFO : global_step/sec: 165.221\n"
     ]
    },
    {
     "name": "stdout",
     "output_type": "stream",
     "text": [
      "INFO:tensorflow:loss = 0.664924, step = 301\n"
     ]
    },
    {
     "name": "stderr",
     "output_type": "stream",
     "text": [
      "2017-04-03 13:52:37,752 : INFO : loss = 0.664924, step = 301\n"
     ]
    },
    {
     "name": "stdout",
     "output_type": "stream",
     "text": [
      "INFO:tensorflow:global_step/sec: 164.523\n"
     ]
    },
    {
     "name": "stderr",
     "output_type": "stream",
     "text": [
      "2017-04-03 13:52:38,358 : INFO : global_step/sec: 164.523\n"
     ]
    },
    {
     "name": "stdout",
     "output_type": "stream",
     "text": [
      "INFO:tensorflow:loss = 0.539503, step = 401\n"
     ]
    },
    {
     "name": "stderr",
     "output_type": "stream",
     "text": [
      "2017-04-03 13:52:38,361 : INFO : loss = 0.539503, step = 401\n"
     ]
    },
    {
     "name": "stdout",
     "output_type": "stream",
     "text": [
      "INFO:tensorflow:global_step/sec: 164.356\n"
     ]
    },
    {
     "name": "stderr",
     "output_type": "stream",
     "text": [
      "2017-04-03 13:52:38,966 : INFO : global_step/sec: 164.356\n"
     ]
    },
    {
     "name": "stdout",
     "output_type": "stream",
     "text": [
      "INFO:tensorflow:loss = 0.535717, step = 501\n"
     ]
    },
    {
     "name": "stderr",
     "output_type": "stream",
     "text": [
      "2017-04-03 13:52:38,969 : INFO : loss = 0.535717, step = 501\n"
     ]
    },
    {
     "name": "stdout",
     "output_type": "stream",
     "text": [
      "INFO:tensorflow:global_step/sec: 163.943\n"
     ]
    },
    {
     "name": "stderr",
     "output_type": "stream",
     "text": [
      "2017-04-03 13:52:39,576 : INFO : global_step/sec: 163.943\n"
     ]
    },
    {
     "name": "stdout",
     "output_type": "stream",
     "text": [
      "INFO:tensorflow:loss = 0.703298, step = 601\n"
     ]
    },
    {
     "name": "stderr",
     "output_type": "stream",
     "text": [
      "2017-04-03 13:52:39,579 : INFO : loss = 0.703298, step = 601\n"
     ]
    },
    {
     "name": "stdout",
     "output_type": "stream",
     "text": [
      "INFO:tensorflow:global_step/sec: 163.174\n"
     ]
    },
    {
     "name": "stderr",
     "output_type": "stream",
     "text": [
      "2017-04-03 13:52:40,189 : INFO : global_step/sec: 163.174\n"
     ]
    },
    {
     "name": "stdout",
     "output_type": "stream",
     "text": [
      "INFO:tensorflow:loss = 0.601647, step = 701\n"
     ]
    },
    {
     "name": "stderr",
     "output_type": "stream",
     "text": [
      "2017-04-03 13:52:40,192 : INFO : loss = 0.601647, step = 701\n"
     ]
    },
    {
     "name": "stdout",
     "output_type": "stream",
     "text": [
      "INFO:tensorflow:global_step/sec: 144.304\n"
     ]
    },
    {
     "name": "stderr",
     "output_type": "stream",
     "text": [
      "2017-04-03 13:52:40,882 : INFO : global_step/sec: 144.304\n"
     ]
    },
    {
     "name": "stdout",
     "output_type": "stream",
     "text": [
      "INFO:tensorflow:loss = 0.653302, step = 801\n"
     ]
    },
    {
     "name": "stderr",
     "output_type": "stream",
     "text": [
      "2017-04-03 13:52:40,885 : INFO : loss = 0.653302, step = 801\n"
     ]
    },
    {
     "name": "stdout",
     "output_type": "stream",
     "text": [
      "INFO:tensorflow:global_step/sec: 143.819\n"
     ]
    },
    {
     "name": "stderr",
     "output_type": "stream",
     "text": [
      "2017-04-03 13:52:41,577 : INFO : global_step/sec: 143.819\n"
     ]
    },
    {
     "name": "stdout",
     "output_type": "stream",
     "text": [
      "INFO:tensorflow:loss = 0.784162, step = 901\n"
     ]
    },
    {
     "name": "stderr",
     "output_type": "stream",
     "text": [
      "2017-04-03 13:52:41,580 : INFO : loss = 0.784162, step = 901\n"
     ]
    },
    {
     "name": "stdout",
     "output_type": "stream",
     "text": [
      "INFO:tensorflow:global_step/sec: 147.531\n"
     ]
    },
    {
     "name": "stderr",
     "output_type": "stream",
     "text": [
      "2017-04-03 13:52:42,255 : INFO : global_step/sec: 147.531\n"
     ]
    },
    {
     "name": "stdout",
     "output_type": "stream",
     "text": [
      "INFO:tensorflow:loss = 0.646757, step = 1001\n"
     ]
    },
    {
     "name": "stderr",
     "output_type": "stream",
     "text": [
      "2017-04-03 13:52:42,258 : INFO : loss = 0.646757, step = 1001\n"
     ]
    },
    {
     "name": "stdout",
     "output_type": "stream",
     "text": [
      "INFO:tensorflow:global_step/sec: 148.252\n"
     ]
    },
    {
     "name": "stderr",
     "output_type": "stream",
     "text": [
      "2017-04-03 13:52:42,930 : INFO : global_step/sec: 148.252\n"
     ]
    },
    {
     "name": "stdout",
     "output_type": "stream",
     "text": [
      "INFO:tensorflow:loss = 0.656169, step = 1101\n"
     ]
    },
    {
     "name": "stderr",
     "output_type": "stream",
     "text": [
      "2017-04-03 13:52:42,932 : INFO : loss = 0.656169, step = 1101\n"
     ]
    },
    {
     "name": "stdout",
     "output_type": "stream",
     "text": [
      "INFO:tensorflow:global_step/sec: 148.364\n"
     ]
    },
    {
     "name": "stderr",
     "output_type": "stream",
     "text": [
      "2017-04-03 13:52:43,604 : INFO : global_step/sec: 148.364\n"
     ]
    },
    {
     "name": "stdout",
     "output_type": "stream",
     "text": [
      "INFO:tensorflow:loss = 0.733553, step = 1201\n"
     ]
    },
    {
     "name": "stderr",
     "output_type": "stream",
     "text": [
      "2017-04-03 13:52:43,606 : INFO : loss = 0.733553, step = 1201\n"
     ]
    },
    {
     "name": "stdout",
     "output_type": "stream",
     "text": [
      "INFO:tensorflow:global_step/sec: 147.677\n"
     ]
    },
    {
     "name": "stderr",
     "output_type": "stream",
     "text": [
      "2017-04-03 13:52:44,281 : INFO : global_step/sec: 147.677\n"
     ]
    },
    {
     "name": "stdout",
     "output_type": "stream",
     "text": [
      "INFO:tensorflow:loss = 0.779852, step = 1301\n"
     ]
    },
    {
     "name": "stderr",
     "output_type": "stream",
     "text": [
      "2017-04-03 13:52:44,283 : INFO : loss = 0.779852, step = 1301\n"
     ]
    },
    {
     "name": "stdout",
     "output_type": "stream",
     "text": [
      "INFO:tensorflow:global_step/sec: 148.591\n"
     ]
    },
    {
     "name": "stderr",
     "output_type": "stream",
     "text": [
      "2017-04-03 13:52:44,954 : INFO : global_step/sec: 148.591\n"
     ]
    },
    {
     "name": "stdout",
     "output_type": "stream",
     "text": [
      "INFO:tensorflow:loss = 0.484714, step = 1401\n"
     ]
    },
    {
     "name": "stderr",
     "output_type": "stream",
     "text": [
      "2017-04-03 13:52:44,956 : INFO : loss = 0.484714, step = 1401\n"
     ]
    },
    {
     "name": "stdout",
     "output_type": "stream",
     "text": [
      "INFO:tensorflow:global_step/sec: 147.753\n"
     ]
    },
    {
     "name": "stderr",
     "output_type": "stream",
     "text": [
      "2017-04-03 13:52:45,630 : INFO : global_step/sec: 147.753\n"
     ]
    },
    {
     "name": "stdout",
     "output_type": "stream",
     "text": [
      "INFO:tensorflow:loss = 0.455706, step = 1501\n"
     ]
    },
    {
     "name": "stderr",
     "output_type": "stream",
     "text": [
      "2017-04-03 13:52:45,633 : INFO : loss = 0.455706, step = 1501\n"
     ]
    },
    {
     "name": "stdout",
     "output_type": "stream",
     "text": [
      "INFO:tensorflow:global_step/sec: 147.279\n"
     ]
    },
    {
     "name": "stderr",
     "output_type": "stream",
     "text": [
      "2017-04-03 13:52:46,309 : INFO : global_step/sec: 147.279\n"
     ]
    },
    {
     "name": "stdout",
     "output_type": "stream",
     "text": [
      "INFO:tensorflow:loss = 0.614839, step = 1601\n"
     ]
    },
    {
     "name": "stderr",
     "output_type": "stream",
     "text": [
      "2017-04-03 13:52:46,312 : INFO : loss = 0.614839, step = 1601\n"
     ]
    },
    {
     "name": "stdout",
     "output_type": "stream",
     "text": [
      "INFO:tensorflow:global_step/sec: 148.178\n"
     ]
    },
    {
     "name": "stderr",
     "output_type": "stream",
     "text": [
      "2017-04-03 13:52:46,984 : INFO : global_step/sec: 148.178\n"
     ]
    },
    {
     "name": "stdout",
     "output_type": "stream",
     "text": [
      "INFO:tensorflow:loss = 0.682372, step = 1701\n"
     ]
    },
    {
     "name": "stderr",
     "output_type": "stream",
     "text": [
      "2017-04-03 13:52:46,987 : INFO : loss = 0.682372, step = 1701\n"
     ]
    },
    {
     "name": "stdout",
     "output_type": "stream",
     "text": [
      "INFO:tensorflow:global_step/sec: 147.915\n"
     ]
    },
    {
     "name": "stderr",
     "output_type": "stream",
     "text": [
      "2017-04-03 13:52:47,660 : INFO : global_step/sec: 147.915\n"
     ]
    },
    {
     "name": "stdout",
     "output_type": "stream",
     "text": [
      "INFO:tensorflow:loss = 0.780736, step = 1801\n"
     ]
    },
    {
     "name": "stderr",
     "output_type": "stream",
     "text": [
      "2017-04-03 13:52:47,663 : INFO : loss = 0.780736, step = 1801\n"
     ]
    },
    {
     "name": "stdout",
     "output_type": "stream",
     "text": [
      "INFO:tensorflow:global_step/sec: 149.082\n"
     ]
    },
    {
     "name": "stderr",
     "output_type": "stream",
     "text": [
      "2017-04-03 13:52:48,331 : INFO : global_step/sec: 149.082\n"
     ]
    },
    {
     "name": "stdout",
     "output_type": "stream",
     "text": [
      "INFO:tensorflow:loss = 0.536966, step = 1901\n"
     ]
    },
    {
     "name": "stderr",
     "output_type": "stream",
     "text": [
      "2017-04-03 13:52:48,334 : INFO : loss = 0.536966, step = 1901\n"
     ]
    },
    {
     "name": "stdout",
     "output_type": "stream",
     "text": [
      "INFO:tensorflow:global_step/sec: 148.789\n"
     ]
    },
    {
     "name": "stderr",
     "output_type": "stream",
     "text": [
      "2017-04-03 13:52:49,003 : INFO : global_step/sec: 148.789\n"
     ]
    },
    {
     "name": "stdout",
     "output_type": "stream",
     "text": [
      "INFO:tensorflow:loss = 0.567457, step = 2001\n"
     ]
    },
    {
     "name": "stderr",
     "output_type": "stream",
     "text": [
      "2017-04-03 13:52:49,006 : INFO : loss = 0.567457, step = 2001\n"
     ]
    },
    {
     "name": "stdout",
     "output_type": "stream",
     "text": [
      "INFO:tensorflow:global_step/sec: 147.946\n"
     ]
    },
    {
     "name": "stderr",
     "output_type": "stream",
     "text": [
      "2017-04-03 13:52:49,679 : INFO : global_step/sec: 147.946\n"
     ]
    },
    {
     "name": "stdout",
     "output_type": "stream",
     "text": [
      "INFO:tensorflow:loss = 0.537812, step = 2101\n"
     ]
    },
    {
     "name": "stderr",
     "output_type": "stream",
     "text": [
      "2017-04-03 13:52:49,682 : INFO : loss = 0.537812, step = 2101\n"
     ]
    },
    {
     "name": "stdout",
     "output_type": "stream",
     "text": [
      "INFO:tensorflow:global_step/sec: 147.819\n"
     ]
    },
    {
     "name": "stderr",
     "output_type": "stream",
     "text": [
      "2017-04-03 13:52:50,356 : INFO : global_step/sec: 147.819\n"
     ]
    },
    {
     "name": "stdout",
     "output_type": "stream",
     "text": [
      "INFO:tensorflow:loss = 0.763944, step = 2201\n"
     ]
    },
    {
     "name": "stderr",
     "output_type": "stream",
     "text": [
      "2017-04-03 13:52:50,358 : INFO : loss = 0.763944, step = 2201\n"
     ]
    },
    {
     "name": "stdout",
     "output_type": "stream",
     "text": [
      "INFO:tensorflow:global_step/sec: 147.554\n"
     ]
    },
    {
     "name": "stderr",
     "output_type": "stream",
     "text": [
      "2017-04-03 13:52:51,034 : INFO : global_step/sec: 147.554\n"
     ]
    },
    {
     "name": "stdout",
     "output_type": "stream",
     "text": [
      "INFO:tensorflow:loss = 0.312425, step = 2301\n"
     ]
    },
    {
     "name": "stderr",
     "output_type": "stream",
     "text": [
      "2017-04-03 13:52:51,036 : INFO : loss = 0.312425, step = 2301\n"
     ]
    },
    {
     "name": "stdout",
     "output_type": "stream",
     "text": [
      "INFO:tensorflow:global_step/sec: 147.007\n"
     ]
    },
    {
     "name": "stderr",
     "output_type": "stream",
     "text": [
      "2017-04-03 13:52:51,714 : INFO : global_step/sec: 147.007\n"
     ]
    },
    {
     "name": "stdout",
     "output_type": "stream",
     "text": [
      "INFO:tensorflow:loss = 0.659342, step = 2401\n"
     ]
    },
    {
     "name": "stderr",
     "output_type": "stream",
     "text": [
      "2017-04-03 13:52:51,717 : INFO : loss = 0.659342, step = 2401\n"
     ]
    },
    {
     "name": "stdout",
     "output_type": "stream",
     "text": [
      "INFO:tensorflow:global_step/sec: 146.731\n"
     ]
    },
    {
     "name": "stderr",
     "output_type": "stream",
     "text": [
      "2017-04-03 13:52:52,395 : INFO : global_step/sec: 146.731\n"
     ]
    },
    {
     "name": "stdout",
     "output_type": "stream",
     "text": [
      "INFO:tensorflow:loss = 0.497642, step = 2501\n"
     ]
    },
    {
     "name": "stderr",
     "output_type": "stream",
     "text": [
      "2017-04-03 13:52:52,398 : INFO : loss = 0.497642, step = 2501\n"
     ]
    },
    {
     "name": "stdout",
     "output_type": "stream",
     "text": [
      "INFO:tensorflow:global_step/sec: 146.364\n"
     ]
    },
    {
     "name": "stderr",
     "output_type": "stream",
     "text": [
      "2017-04-03 13:52:53,078 : INFO : global_step/sec: 146.364\n"
     ]
    },
    {
     "name": "stdout",
     "output_type": "stream",
     "text": [
      "INFO:tensorflow:loss = 0.802059, step = 2601\n"
     ]
    },
    {
     "name": "stderr",
     "output_type": "stream",
     "text": [
      "2017-04-03 13:52:53,081 : INFO : loss = 0.802059, step = 2601\n"
     ]
    },
    {
     "name": "stdout",
     "output_type": "stream",
     "text": [
      "INFO:tensorflow:global_step/sec: 147.474\n"
     ]
    },
    {
     "name": "stderr",
     "output_type": "stream",
     "text": [
      "2017-04-03 13:52:53,756 : INFO : global_step/sec: 147.474\n"
     ]
    },
    {
     "name": "stdout",
     "output_type": "stream",
     "text": [
      "INFO:tensorflow:loss = 0.543819, step = 2701\n"
     ]
    },
    {
     "name": "stderr",
     "output_type": "stream",
     "text": [
      "2017-04-03 13:52:53,759 : INFO : loss = 0.543819, step = 2701\n"
     ]
    },
    {
     "name": "stdout",
     "output_type": "stream",
     "text": [
      "INFO:tensorflow:global_step/sec: 146.681\n"
     ]
    },
    {
     "name": "stderr",
     "output_type": "stream",
     "text": [
      "2017-04-03 13:52:54,438 : INFO : global_step/sec: 146.681\n"
     ]
    },
    {
     "name": "stdout",
     "output_type": "stream",
     "text": [
      "INFO:tensorflow:loss = 0.708516, step = 2801\n"
     ]
    },
    {
     "name": "stderr",
     "output_type": "stream",
     "text": [
      "2017-04-03 13:52:54,441 : INFO : loss = 0.708516, step = 2801\n"
     ]
    },
    {
     "name": "stdout",
     "output_type": "stream",
     "text": [
      "INFO:tensorflow:global_step/sec: 146.32\n"
     ]
    },
    {
     "name": "stderr",
     "output_type": "stream",
     "text": [
      "2017-04-03 13:52:55,122 : INFO : global_step/sec: 146.32\n"
     ]
    },
    {
     "name": "stdout",
     "output_type": "stream",
     "text": [
      "INFO:tensorflow:loss = 0.577496, step = 2901\n"
     ]
    },
    {
     "name": "stderr",
     "output_type": "stream",
     "text": [
      "2017-04-03 13:52:55,125 : INFO : loss = 0.577496, step = 2901\n"
     ]
    },
    {
     "name": "stdout",
     "output_type": "stream",
     "text": [
      "INFO:tensorflow:global_step/sec: 142.723\n"
     ]
    },
    {
     "name": "stderr",
     "output_type": "stream",
     "text": [
      "2017-04-03 13:52:55,822 : INFO : global_step/sec: 142.723\n"
     ]
    },
    {
     "name": "stdout",
     "output_type": "stream",
     "text": [
      "INFO:tensorflow:loss = 0.693589, step = 3001\n"
     ]
    },
    {
     "name": "stderr",
     "output_type": "stream",
     "text": [
      "2017-04-03 13:52:55,825 : INFO : loss = 0.693589, step = 3001\n"
     ]
    },
    {
     "name": "stdout",
     "output_type": "stream",
     "text": [
      "INFO:tensorflow:global_step/sec: 147.016\n"
     ]
    },
    {
     "name": "stderr",
     "output_type": "stream",
     "text": [
      "2017-04-03 13:52:56,502 : INFO : global_step/sec: 147.016\n"
     ]
    },
    {
     "name": "stdout",
     "output_type": "stream",
     "text": [
      "INFO:tensorflow:loss = 0.798109, step = 3101\n"
     ]
    },
    {
     "name": "stderr",
     "output_type": "stream",
     "text": [
      "2017-04-03 13:52:56,506 : INFO : loss = 0.798109, step = 3101\n"
     ]
    },
    {
     "name": "stdout",
     "output_type": "stream",
     "text": [
      "INFO:tensorflow:global_step/sec: 148.49\n"
     ]
    },
    {
     "name": "stderr",
     "output_type": "stream",
     "text": [
      "2017-04-03 13:52:57,176 : INFO : global_step/sec: 148.49\n"
     ]
    },
    {
     "name": "stdout",
     "output_type": "stream",
     "text": [
      "INFO:tensorflow:loss = 0.568311, step = 3201\n"
     ]
    },
    {
     "name": "stderr",
     "output_type": "stream",
     "text": [
      "2017-04-03 13:52:57,179 : INFO : loss = 0.568311, step = 3201\n"
     ]
    },
    {
     "name": "stdout",
     "output_type": "stream",
     "text": [
      "INFO:tensorflow:global_step/sec: 147.392\n"
     ]
    },
    {
     "name": "stderr",
     "output_type": "stream",
     "text": [
      "2017-04-03 13:52:57,854 : INFO : global_step/sec: 147.392\n"
     ]
    },
    {
     "name": "stdout",
     "output_type": "stream",
     "text": [
      "INFO:tensorflow:loss = 0.525762, step = 3301\n"
     ]
    },
    {
     "name": "stderr",
     "output_type": "stream",
     "text": [
      "2017-04-03 13:52:57,857 : INFO : loss = 0.525762, step = 3301\n"
     ]
    },
    {
     "name": "stdout",
     "output_type": "stream",
     "text": [
      "INFO:tensorflow:global_step/sec: 148.276\n"
     ]
    },
    {
     "name": "stderr",
     "output_type": "stream",
     "text": [
      "2017-04-03 13:52:58,529 : INFO : global_step/sec: 148.276\n"
     ]
    },
    {
     "name": "stdout",
     "output_type": "stream",
     "text": [
      "INFO:tensorflow:loss = 0.65364, step = 3401\n"
     ]
    },
    {
     "name": "stderr",
     "output_type": "stream",
     "text": [
      "2017-04-03 13:52:58,531 : INFO : loss = 0.65364, step = 3401\n"
     ]
    },
    {
     "name": "stdout",
     "output_type": "stream",
     "text": [
      "INFO:tensorflow:global_step/sec: 147.664\n"
     ]
    },
    {
     "name": "stderr",
     "output_type": "stream",
     "text": [
      "2017-04-03 13:52:59,206 : INFO : global_step/sec: 147.664\n"
     ]
    },
    {
     "name": "stdout",
     "output_type": "stream",
     "text": [
      "INFO:tensorflow:loss = 0.669696, step = 3501\n"
     ]
    },
    {
     "name": "stderr",
     "output_type": "stream",
     "text": [
      "2017-04-03 13:52:59,209 : INFO : loss = 0.669696, step = 3501\n"
     ]
    },
    {
     "name": "stdout",
     "output_type": "stream",
     "text": [
      "INFO:tensorflow:global_step/sec: 145.768\n"
     ]
    },
    {
     "name": "stderr",
     "output_type": "stream",
     "text": [
      "2017-04-03 13:52:59,892 : INFO : global_step/sec: 145.768\n"
     ]
    },
    {
     "name": "stdout",
     "output_type": "stream",
     "text": [
      "INFO:tensorflow:loss = 0.611602, step = 3601\n"
     ]
    },
    {
     "name": "stderr",
     "output_type": "stream",
     "text": [
      "2017-04-03 13:52:59,895 : INFO : loss = 0.611602, step = 3601\n"
     ]
    },
    {
     "name": "stdout",
     "output_type": "stream",
     "text": [
      "INFO:tensorflow:global_step/sec: 145.702\n"
     ]
    },
    {
     "name": "stderr",
     "output_type": "stream",
     "text": [
      "2017-04-03 13:53:00,578 : INFO : global_step/sec: 145.702\n"
     ]
    },
    {
     "name": "stdout",
     "output_type": "stream",
     "text": [
      "INFO:tensorflow:loss = 0.62913, step = 3701\n"
     ]
    },
    {
     "name": "stderr",
     "output_type": "stream",
     "text": [
      "2017-04-03 13:53:00,581 : INFO : loss = 0.62913, step = 3701\n"
     ]
    },
    {
     "name": "stdout",
     "output_type": "stream",
     "text": [
      "INFO:tensorflow:global_step/sec: 148.711\n"
     ]
    },
    {
     "name": "stderr",
     "output_type": "stream",
     "text": [
      "2017-04-03 13:53:01,251 : INFO : global_step/sec: 148.711\n"
     ]
    },
    {
     "name": "stdout",
     "output_type": "stream",
     "text": [
      "INFO:tensorflow:loss = 0.804944, step = 3801\n"
     ]
    },
    {
     "name": "stderr",
     "output_type": "stream",
     "text": [
      "2017-04-03 13:53:01,254 : INFO : loss = 0.804944, step = 3801\n"
     ]
    },
    {
     "name": "stdout",
     "output_type": "stream",
     "text": [
      "INFO:tensorflow:global_step/sec: 147.526\n"
     ]
    },
    {
     "name": "stderr",
     "output_type": "stream",
     "text": [
      "2017-04-03 13:53:01,929 : INFO : global_step/sec: 147.526\n"
     ]
    },
    {
     "name": "stdout",
     "output_type": "stream",
     "text": [
      "INFO:tensorflow:loss = 0.701788, step = 3901\n"
     ]
    },
    {
     "name": "stderr",
     "output_type": "stream",
     "text": [
      "2017-04-03 13:53:01,931 : INFO : loss = 0.701788, step = 3901\n"
     ]
    },
    {
     "name": "stdout",
     "output_type": "stream",
     "text": [
      "INFO:tensorflow:Saving checkpoints for 4000 into /tmp/tmpvTZmbA/model.ckpt.\n"
     ]
    },
    {
     "name": "stderr",
     "output_type": "stream",
     "text": [
      "2017-04-03 13:53:02,604 : INFO : Saving checkpoints for 4000 into /tmp/tmpvTZmbA/model.ckpt.\n"
     ]
    },
    {
     "name": "stdout",
     "output_type": "stream",
     "text": [
      "INFO:tensorflow:Loss for final step: 0.731205.\n"
     ]
    },
    {
     "name": "stderr",
     "output_type": "stream",
     "text": [
      "2017-04-03 13:53:02,890 : INFO : Loss for final step: 0.731205.\n"
     ]
    },
    {
     "name": "stdout",
     "output_type": "stream",
     "text": [
      "WARNING:tensorflow:float64 is not supported by many models, consider casting to float32.\n"
     ]
    },
    {
     "name": "stderr",
     "output_type": "stream",
     "text": [
      "2017-04-03 13:53:03,003 : WARNING : float64 is not supported by many models, consider casting to float32.\n",
      "2017-04-03 13:53:03,348 : WARNING : Run accuracy: 0.811929144755\n",
      "2017-04-03 13:53:03,358 : WARNING : Cat accuracies:\n",
      "[0.18686868686868688, 0.9156862745098039, 0.3322784810126582, 0.37349397590361444, 0.8117760617760618, 0.4410480349344978, 0.2620689655172414, 0.6889352818371608, 0.0, 0.0, 0.8895, 0.0, 0.0, 0.7888647866955893]\n"
     ]
    },
    {
     "name": "stdout",
     "output_type": "stream",
     "text": [
      "WARNING:tensorflow:Using temporary folder as model directory: /tmp/tmpWMPGlp\n"
     ]
    },
    {
     "name": "stderr",
     "output_type": "stream",
     "text": [
      "2017-04-03 13:53:03,601 : WARNING : Using temporary folder as model directory: /tmp/tmpWMPGlp\n"
     ]
    },
    {
     "name": "stdout",
     "output_type": "stream",
     "text": [
      "INFO:tensorflow:Using default config.\n"
     ]
    },
    {
     "name": "stderr",
     "output_type": "stream",
     "text": [
      "2017-04-03 13:53:03,603 : INFO : Using default config.\n"
     ]
    },
    {
     "name": "stdout",
     "output_type": "stream",
     "text": [
      "INFO:tensorflow:Using config: {'_save_checkpoints_secs': 600, '_num_ps_replicas': 0, '_keep_checkpoint_max': 5, '_tf_random_seed': None, '_task_type': None, '_environment': 'local', '_is_chief': True, '_cluster_spec': <tensorflow.python.training.server_lib.ClusterSpec object at 0x7ff40fab58d0>, '_tf_config': gpu_options {\n",
      "  per_process_gpu_memory_fraction: 1\n",
      "}\n",
      ", '_task_id': 0, '_save_summary_steps': 100, '_save_checkpoints_steps': None, '_evaluation_master': '', '_keep_checkpoint_every_n_hours': 10000, '_master': ''}\n"
     ]
    },
    {
     "name": "stderr",
     "output_type": "stream",
     "text": [
      "2017-04-03 13:53:03,604 : INFO : Using config: {'_save_checkpoints_secs': 600, '_num_ps_replicas': 0, '_keep_checkpoint_max': 5, '_tf_random_seed': None, '_task_type': None, '_environment': 'local', '_is_chief': True, '_cluster_spec': <tensorflow.python.training.server_lib.ClusterSpec object at 0x7ff40fab58d0>, '_tf_config': gpu_options {\n",
      "  per_process_gpu_memory_fraction: 1\n",
      "}\n",
      ", '_task_id': 0, '_save_summary_steps': 100, '_save_checkpoints_steps': None, '_evaluation_master': '', '_keep_checkpoint_every_n_hours': 10000, '_master': ''}\n"
     ]
    },
    {
     "name": "stdout",
     "output_type": "stream",
     "text": [
      "WARNING:tensorflow:float64 is not supported by many models, consider casting to float32.\n"
     ]
    },
    {
     "name": "stderr",
     "output_type": "stream",
     "text": [
      "2017-04-03 13:53:03,605 : WARNING : float64 is not supported by many models, consider casting to float32.\n"
     ]
    },
    {
     "name": "stdout",
     "output_type": "stream",
     "text": [
      "WARNING:tensorflow:From /usr/lib/python2.7/site-packages/tensorflow/contrib/learn/python/learn/estimators/head.py:1362: scalar_summary (from tensorflow.python.ops.logging_ops) is deprecated and will be removed after 2016-11-30.\n",
      "Instructions for updating:\n",
      "Please switch to tf.summary.scalar. Note that tf.summary.scalar uses the node name instead of the tag. This means that TensorFlow will automatically de-duplicate summary names based on the scope they are created in. Also, passing a tensor or list of tags to a scalar summary op is no longer supported.\n"
     ]
    },
    {
     "name": "stderr",
     "output_type": "stream",
     "text": [
      "2017-04-03 13:53:03,671 : WARNING : From /usr/lib/python2.7/site-packages/tensorflow/contrib/learn/python/learn/estimators/head.py:1362: scalar_summary (from tensorflow.python.ops.logging_ops) is deprecated and will be removed after 2016-11-30.\n",
      "Instructions for updating:\n",
      "Please switch to tf.summary.scalar. Note that tf.summary.scalar uses the node name instead of the tag. This means that TensorFlow will automatically de-duplicate summary names based on the scope they are created in. Also, passing a tensor or list of tags to a scalar summary op is no longer supported.\n"
     ]
    },
    {
     "name": "stdout",
     "output_type": "stream",
     "text": [
      "INFO:tensorflow:Create CheckpointSaverHook.\n"
     ]
    },
    {
     "name": "stderr",
     "output_type": "stream",
     "text": [
      "2017-04-03 13:53:03,932 : INFO : Create CheckpointSaverHook.\n"
     ]
    },
    {
     "name": "stdout",
     "output_type": "stream",
     "text": [
      "INFO:tensorflow:Saving checkpoints for 1 into /tmp/tmpWMPGlp/model.ckpt.\n"
     ]
    },
    {
     "name": "stderr",
     "output_type": "stream",
     "text": [
      "2017-04-03 13:53:05,718 : INFO : Saving checkpoints for 1 into /tmp/tmpWMPGlp/model.ckpt.\n"
     ]
    },
    {
     "name": "stdout",
     "output_type": "stream",
     "text": [
      "INFO:tensorflow:loss = 2.71033, step = 1\n"
     ]
    },
    {
     "name": "stderr",
     "output_type": "stream",
     "text": [
      "2017-04-03 13:53:06,233 : INFO : loss = 2.71033, step = 1\n"
     ]
    },
    {
     "name": "stdout",
     "output_type": "stream",
     "text": [
      "INFO:tensorflow:global_step/sec: 159.746\n"
     ]
    },
    {
     "name": "stderr",
     "output_type": "stream",
     "text": [
      "2017-04-03 13:53:06,857 : INFO : global_step/sec: 159.746\n"
     ]
    },
    {
     "name": "stdout",
     "output_type": "stream",
     "text": [
      "INFO:tensorflow:loss = 0.485619, step = 101\n"
     ]
    },
    {
     "name": "stderr",
     "output_type": "stream",
     "text": [
      "2017-04-03 13:53:06,859 : INFO : loss = 0.485619, step = 101\n"
     ]
    },
    {
     "name": "stdout",
     "output_type": "stream",
     "text": [
      "INFO:tensorflow:global_step/sec: 162.282\n"
     ]
    },
    {
     "name": "stderr",
     "output_type": "stream",
     "text": [
      "2017-04-03 13:53:07,473 : INFO : global_step/sec: 162.282\n"
     ]
    },
    {
     "name": "stdout",
     "output_type": "stream",
     "text": [
      "INFO:tensorflow:loss = 0.663771, step = 201\n"
     ]
    },
    {
     "name": "stderr",
     "output_type": "stream",
     "text": [
      "2017-04-03 13:53:07,476 : INFO : loss = 0.663771, step = 201\n"
     ]
    },
    {
     "name": "stdout",
     "output_type": "stream",
     "text": [
      "INFO:tensorflow:global_step/sec: 160.644\n"
     ]
    },
    {
     "name": "stderr",
     "output_type": "stream",
     "text": [
      "2017-04-03 13:53:08,096 : INFO : global_step/sec: 160.644\n"
     ]
    },
    {
     "name": "stdout",
     "output_type": "stream",
     "text": [
      "INFO:tensorflow:loss = 0.854018, step = 301\n"
     ]
    },
    {
     "name": "stderr",
     "output_type": "stream",
     "text": [
      "2017-04-03 13:53:08,098 : INFO : loss = 0.854018, step = 301\n"
     ]
    },
    {
     "name": "stdout",
     "output_type": "stream",
     "text": [
      "INFO:tensorflow:global_step/sec: 158.931\n"
     ]
    },
    {
     "name": "stderr",
     "output_type": "stream",
     "text": [
      "2017-04-03 13:53:08,725 : INFO : global_step/sec: 158.931\n"
     ]
    },
    {
     "name": "stdout",
     "output_type": "stream",
     "text": [
      "INFO:tensorflow:loss = 0.538345, step = 401\n"
     ]
    },
    {
     "name": "stderr",
     "output_type": "stream",
     "text": [
      "2017-04-03 13:53:08,727 : INFO : loss = 0.538345, step = 401\n"
     ]
    },
    {
     "name": "stdout",
     "output_type": "stream",
     "text": [
      "INFO:tensorflow:global_step/sec: 160.119\n"
     ]
    },
    {
     "name": "stderr",
     "output_type": "stream",
     "text": [
      "2017-04-03 13:53:09,349 : INFO : global_step/sec: 160.119\n"
     ]
    },
    {
     "name": "stdout",
     "output_type": "stream",
     "text": [
      "INFO:tensorflow:loss = 0.587575, step = 501\n"
     ]
    },
    {
     "name": "stderr",
     "output_type": "stream",
     "text": [
      "2017-04-03 13:53:09,352 : INFO : loss = 0.587575, step = 501\n"
     ]
    },
    {
     "name": "stdout",
     "output_type": "stream",
     "text": [
      "INFO:tensorflow:global_step/sec: 160.827\n"
     ]
    },
    {
     "name": "stderr",
     "output_type": "stream",
     "text": [
      "2017-04-03 13:53:09,971 : INFO : global_step/sec: 160.827\n"
     ]
    },
    {
     "name": "stdout",
     "output_type": "stream",
     "text": [
      "INFO:tensorflow:loss = 0.648278, step = 601\n"
     ]
    },
    {
     "name": "stderr",
     "output_type": "stream",
     "text": [
      "2017-04-03 13:53:09,974 : INFO : loss = 0.648278, step = 601\n"
     ]
    },
    {
     "name": "stdout",
     "output_type": "stream",
     "text": [
      "INFO:tensorflow:global_step/sec: 159.616\n"
     ]
    },
    {
     "name": "stderr",
     "output_type": "stream",
     "text": [
      "2017-04-03 13:53:10,598 : INFO : global_step/sec: 159.616\n"
     ]
    },
    {
     "name": "stdout",
     "output_type": "stream",
     "text": [
      "INFO:tensorflow:loss = 0.483654, step = 701\n"
     ]
    },
    {
     "name": "stderr",
     "output_type": "stream",
     "text": [
      "2017-04-03 13:53:10,600 : INFO : loss = 0.483654, step = 701\n"
     ]
    },
    {
     "name": "stdout",
     "output_type": "stream",
     "text": [
      "INFO:tensorflow:global_step/sec: 141.864\n"
     ]
    },
    {
     "name": "stderr",
     "output_type": "stream",
     "text": [
      "2017-04-03 13:53:11,303 : INFO : global_step/sec: 141.864\n"
     ]
    },
    {
     "name": "stdout",
     "output_type": "stream",
     "text": [
      "INFO:tensorflow:loss = 0.762603, step = 801\n"
     ]
    },
    {
     "name": "stderr",
     "output_type": "stream",
     "text": [
      "2017-04-03 13:53:11,306 : INFO : loss = 0.762603, step = 801\n"
     ]
    },
    {
     "name": "stdout",
     "output_type": "stream",
     "text": [
      "INFO:tensorflow:global_step/sec: 138.889\n"
     ]
    },
    {
     "name": "stderr",
     "output_type": "stream",
     "text": [
      "2017-04-03 13:53:12,023 : INFO : global_step/sec: 138.889\n"
     ]
    },
    {
     "name": "stdout",
     "output_type": "stream",
     "text": [
      "INFO:tensorflow:loss = 0.730446, step = 901\n"
     ]
    },
    {
     "name": "stderr",
     "output_type": "stream",
     "text": [
      "2017-04-03 13:53:12,026 : INFO : loss = 0.730446, step = 901\n"
     ]
    },
    {
     "name": "stdout",
     "output_type": "stream",
     "text": [
      "INFO:tensorflow:global_step/sec: 143.177\n"
     ]
    },
    {
     "name": "stderr",
     "output_type": "stream",
     "text": [
      "2017-04-03 13:53:12,721 : INFO : global_step/sec: 143.177\n"
     ]
    },
    {
     "name": "stdout",
     "output_type": "stream",
     "text": [
      "INFO:tensorflow:loss = 0.703691, step = 1001\n"
     ]
    },
    {
     "name": "stderr",
     "output_type": "stream",
     "text": [
      "2017-04-03 13:53:12,724 : INFO : loss = 0.703691, step = 1001\n"
     ]
    },
    {
     "name": "stdout",
     "output_type": "stream",
     "text": [
      "INFO:tensorflow:global_step/sec: 147.022\n"
     ]
    },
    {
     "name": "stderr",
     "output_type": "stream",
     "text": [
      "2017-04-03 13:53:13,401 : INFO : global_step/sec: 147.022\n"
     ]
    },
    {
     "name": "stdout",
     "output_type": "stream",
     "text": [
      "INFO:tensorflow:loss = 0.587809, step = 1101\n"
     ]
    },
    {
     "name": "stderr",
     "output_type": "stream",
     "text": [
      "2017-04-03 13:53:13,404 : INFO : loss = 0.587809, step = 1101\n"
     ]
    },
    {
     "name": "stdout",
     "output_type": "stream",
     "text": [
      "INFO:tensorflow:global_step/sec: 146.031\n"
     ]
    },
    {
     "name": "stderr",
     "output_type": "stream",
     "text": [
      "2017-04-03 13:53:14,086 : INFO : global_step/sec: 146.031\n"
     ]
    },
    {
     "name": "stdout",
     "output_type": "stream",
     "text": [
      "INFO:tensorflow:loss = 0.616965, step = 1201\n"
     ]
    },
    {
     "name": "stderr",
     "output_type": "stream",
     "text": [
      "2017-04-03 13:53:14,088 : INFO : loss = 0.616965, step = 1201\n"
     ]
    },
    {
     "name": "stdout",
     "output_type": "stream",
     "text": [
      "INFO:tensorflow:global_step/sec: 145.277\n"
     ]
    },
    {
     "name": "stderr",
     "output_type": "stream",
     "text": [
      "2017-04-03 13:53:14,774 : INFO : global_step/sec: 145.277\n"
     ]
    },
    {
     "name": "stdout",
     "output_type": "stream",
     "text": [
      "INFO:tensorflow:loss = 0.453899, step = 1301\n"
     ]
    },
    {
     "name": "stderr",
     "output_type": "stream",
     "text": [
      "2017-04-03 13:53:14,777 : INFO : loss = 0.453899, step = 1301\n"
     ]
    },
    {
     "name": "stdout",
     "output_type": "stream",
     "text": [
      "INFO:tensorflow:global_step/sec: 145.435\n"
     ]
    },
    {
     "name": "stderr",
     "output_type": "stream",
     "text": [
      "2017-04-03 13:53:15,462 : INFO : global_step/sec: 145.435\n"
     ]
    },
    {
     "name": "stdout",
     "output_type": "stream",
     "text": [
      "INFO:tensorflow:loss = 0.792891, step = 1401\n"
     ]
    },
    {
     "name": "stderr",
     "output_type": "stream",
     "text": [
      "2017-04-03 13:53:15,464 : INFO : loss = 0.792891, step = 1401\n"
     ]
    },
    {
     "name": "stdout",
     "output_type": "stream",
     "text": [
      "INFO:tensorflow:global_step/sec: 142.496\n"
     ]
    },
    {
     "name": "stderr",
     "output_type": "stream",
     "text": [
      "2017-04-03 13:53:16,164 : INFO : global_step/sec: 142.496\n"
     ]
    },
    {
     "name": "stdout",
     "output_type": "stream",
     "text": [
      "INFO:tensorflow:loss = 0.781669, step = 1501\n"
     ]
    },
    {
     "name": "stderr",
     "output_type": "stream",
     "text": [
      "2017-04-03 13:53:16,166 : INFO : loss = 0.781669, step = 1501\n"
     ]
    },
    {
     "name": "stdout",
     "output_type": "stream",
     "text": [
      "INFO:tensorflow:global_step/sec: 139.821\n"
     ]
    },
    {
     "name": "stderr",
     "output_type": "stream",
     "text": [
      "2017-04-03 13:53:16,879 : INFO : global_step/sec: 139.821\n"
     ]
    },
    {
     "name": "stdout",
     "output_type": "stream",
     "text": [
      "INFO:tensorflow:loss = 0.525131, step = 1601\n"
     ]
    },
    {
     "name": "stderr",
     "output_type": "stream",
     "text": [
      "2017-04-03 13:53:16,882 : INFO : loss = 0.525131, step = 1601\n"
     ]
    },
    {
     "name": "stdout",
     "output_type": "stream",
     "text": [
      "INFO:tensorflow:global_step/sec: 141.595\n"
     ]
    },
    {
     "name": "stderr",
     "output_type": "stream",
     "text": [
      "2017-04-03 13:53:17,585 : INFO : global_step/sec: 141.595\n"
     ]
    },
    {
     "name": "stdout",
     "output_type": "stream",
     "text": [
      "INFO:tensorflow:loss = 0.577994, step = 1701\n"
     ]
    },
    {
     "name": "stderr",
     "output_type": "stream",
     "text": [
      "2017-04-03 13:53:17,588 : INFO : loss = 0.577994, step = 1701\n"
     ]
    },
    {
     "name": "stdout",
     "output_type": "stream",
     "text": [
      "INFO:tensorflow:global_step/sec: 141.573\n"
     ]
    },
    {
     "name": "stderr",
     "output_type": "stream",
     "text": [
      "2017-04-03 13:53:18,291 : INFO : global_step/sec: 141.573\n"
     ]
    },
    {
     "name": "stdout",
     "output_type": "stream",
     "text": [
      "INFO:tensorflow:loss = 0.555611, step = 1801\n"
     ]
    },
    {
     "name": "stderr",
     "output_type": "stream",
     "text": [
      "2017-04-03 13:53:18,295 : INFO : loss = 0.555611, step = 1801\n"
     ]
    },
    {
     "name": "stdout",
     "output_type": "stream",
     "text": [
      "INFO:tensorflow:global_step/sec: 141.724\n"
     ]
    },
    {
     "name": "stderr",
     "output_type": "stream",
     "text": [
      "2017-04-03 13:53:18,997 : INFO : global_step/sec: 141.724\n"
     ]
    },
    {
     "name": "stdout",
     "output_type": "stream",
     "text": [
      "INFO:tensorflow:loss = 0.659222, step = 1901\n"
     ]
    },
    {
     "name": "stderr",
     "output_type": "stream",
     "text": [
      "2017-04-03 13:53:19,000 : INFO : loss = 0.659222, step = 1901\n"
     ]
    },
    {
     "name": "stdout",
     "output_type": "stream",
     "text": [
      "INFO:tensorflow:global_step/sec: 140.935\n"
     ]
    },
    {
     "name": "stderr",
     "output_type": "stream",
     "text": [
      "2017-04-03 13:53:19,707 : INFO : global_step/sec: 140.935\n"
     ]
    },
    {
     "name": "stdout",
     "output_type": "stream",
     "text": [
      "INFO:tensorflow:loss = 0.561345, step = 2001\n"
     ]
    },
    {
     "name": "stderr",
     "output_type": "stream",
     "text": [
      "2017-04-03 13:53:19,710 : INFO : loss = 0.561345, step = 2001\n"
     ]
    },
    {
     "name": "stdout",
     "output_type": "stream",
     "text": [
      "INFO:tensorflow:global_step/sec: 142.296\n"
     ]
    },
    {
     "name": "stderr",
     "output_type": "stream",
     "text": [
      "2017-04-03 13:53:20,409 : INFO : global_step/sec: 142.296\n"
     ]
    },
    {
     "name": "stdout",
     "output_type": "stream",
     "text": [
      "INFO:tensorflow:loss = 0.410368, step = 2101\n"
     ]
    },
    {
     "name": "stderr",
     "output_type": "stream",
     "text": [
      "2017-04-03 13:53:20,412 : INFO : loss = 0.410368, step = 2101\n"
     ]
    },
    {
     "name": "stdout",
     "output_type": "stream",
     "text": [
      "INFO:tensorflow:global_step/sec: 140.656\n"
     ]
    },
    {
     "name": "stderr",
     "output_type": "stream",
     "text": [
      "2017-04-03 13:53:21,120 : INFO : global_step/sec: 140.656\n"
     ]
    },
    {
     "name": "stdout",
     "output_type": "stream",
     "text": [
      "INFO:tensorflow:loss = 0.729283, step = 2201\n"
     ]
    },
    {
     "name": "stderr",
     "output_type": "stream",
     "text": [
      "2017-04-03 13:53:21,123 : INFO : loss = 0.729283, step = 2201\n"
     ]
    },
    {
     "name": "stdout",
     "output_type": "stream",
     "text": [
      "INFO:tensorflow:global_step/sec: 141.579\n"
     ]
    },
    {
     "name": "stderr",
     "output_type": "stream",
     "text": [
      "2017-04-03 13:53:21,827 : INFO : global_step/sec: 141.579\n"
     ]
    },
    {
     "name": "stdout",
     "output_type": "stream",
     "text": [
      "INFO:tensorflow:loss = 0.581379, step = 2301\n"
     ]
    },
    {
     "name": "stderr",
     "output_type": "stream",
     "text": [
      "2017-04-03 13:53:21,829 : INFO : loss = 0.581379, step = 2301\n"
     ]
    },
    {
     "name": "stdout",
     "output_type": "stream",
     "text": [
      "INFO:tensorflow:global_step/sec: 140.891\n"
     ]
    },
    {
     "name": "stderr",
     "output_type": "stream",
     "text": [
      "2017-04-03 13:53:22,537 : INFO : global_step/sec: 140.891\n"
     ]
    },
    {
     "name": "stdout",
     "output_type": "stream",
     "text": [
      "INFO:tensorflow:loss = 0.749203, step = 2401\n"
     ]
    },
    {
     "name": "stderr",
     "output_type": "stream",
     "text": [
      "2017-04-03 13:53:22,540 : INFO : loss = 0.749203, step = 2401\n"
     ]
    },
    {
     "name": "stdout",
     "output_type": "stream",
     "text": [
      "INFO:tensorflow:global_step/sec: 142.59\n"
     ]
    },
    {
     "name": "stderr",
     "output_type": "stream",
     "text": [
      "2017-04-03 13:53:23,238 : INFO : global_step/sec: 142.59\n"
     ]
    },
    {
     "name": "stdout",
     "output_type": "stream",
     "text": [
      "INFO:tensorflow:loss = 0.514059, step = 2501\n"
     ]
    },
    {
     "name": "stderr",
     "output_type": "stream",
     "text": [
      "2017-04-03 13:53:23,240 : INFO : loss = 0.514059, step = 2501\n"
     ]
    },
    {
     "name": "stdout",
     "output_type": "stream",
     "text": [
      "INFO:tensorflow:global_step/sec: 142.279\n"
     ]
    },
    {
     "name": "stderr",
     "output_type": "stream",
     "text": [
      "2017-04-03 13:53:23,941 : INFO : global_step/sec: 142.279\n"
     ]
    },
    {
     "name": "stdout",
     "output_type": "stream",
     "text": [
      "INFO:tensorflow:loss = 0.430089, step = 2601\n"
     ]
    },
    {
     "name": "stderr",
     "output_type": "stream",
     "text": [
      "2017-04-03 13:53:23,944 : INFO : loss = 0.430089, step = 2601\n"
     ]
    },
    {
     "name": "stdout",
     "output_type": "stream",
     "text": [
      "INFO:tensorflow:global_step/sec: 141.049\n"
     ]
    },
    {
     "name": "stderr",
     "output_type": "stream",
     "text": [
      "2017-04-03 13:53:24,649 : INFO : global_step/sec: 141.049\n"
     ]
    },
    {
     "name": "stdout",
     "output_type": "stream",
     "text": [
      "INFO:tensorflow:loss = 0.802876, step = 2701\n"
     ]
    },
    {
     "name": "stderr",
     "output_type": "stream",
     "text": [
      "2017-04-03 13:53:24,652 : INFO : loss = 0.802876, step = 2701\n"
     ]
    },
    {
     "name": "stdout",
     "output_type": "stream",
     "text": [
      "INFO:tensorflow:global_step/sec: 141.875\n"
     ]
    },
    {
     "name": "stderr",
     "output_type": "stream",
     "text": [
      "2017-04-03 13:53:25,354 : INFO : global_step/sec: 141.875\n"
     ]
    },
    {
     "name": "stdout",
     "output_type": "stream",
     "text": [
      "INFO:tensorflow:loss = 0.762719, step = 2801\n"
     ]
    },
    {
     "name": "stderr",
     "output_type": "stream",
     "text": [
      "2017-04-03 13:53:25,357 : INFO : loss = 0.762719, step = 2801\n"
     ]
    },
    {
     "name": "stdout",
     "output_type": "stream",
     "text": [
      "INFO:tensorflow:global_step/sec: 142.277\n"
     ]
    },
    {
     "name": "stderr",
     "output_type": "stream",
     "text": [
      "2017-04-03 13:53:26,057 : INFO : global_step/sec: 142.277\n"
     ]
    },
    {
     "name": "stdout",
     "output_type": "stream",
     "text": [
      "INFO:tensorflow:loss = 0.723053, step = 2901\n"
     ]
    },
    {
     "name": "stderr",
     "output_type": "stream",
     "text": [
      "2017-04-03 13:53:26,061 : INFO : loss = 0.723053, step = 2901\n"
     ]
    },
    {
     "name": "stdout",
     "output_type": "stream",
     "text": [
      "INFO:tensorflow:global_step/sec: 141.112\n"
     ]
    },
    {
     "name": "stderr",
     "output_type": "stream",
     "text": [
      "2017-04-03 13:53:26,766 : INFO : global_step/sec: 141.112\n"
     ]
    },
    {
     "name": "stdout",
     "output_type": "stream",
     "text": [
      "INFO:tensorflow:loss = 0.5104, step = 3001\n"
     ]
    },
    {
     "name": "stderr",
     "output_type": "stream",
     "text": [
      "2017-04-03 13:53:26,769 : INFO : loss = 0.5104, step = 3001\n"
     ]
    },
    {
     "name": "stdout",
     "output_type": "stream",
     "text": [
      "INFO:tensorflow:global_step/sec: 143.377\n"
     ]
    },
    {
     "name": "stderr",
     "output_type": "stream",
     "text": [
      "2017-04-03 13:53:27,463 : INFO : global_step/sec: 143.377\n"
     ]
    },
    {
     "name": "stdout",
     "output_type": "stream",
     "text": [
      "INFO:tensorflow:loss = 0.686078, step = 3101\n"
     ]
    },
    {
     "name": "stderr",
     "output_type": "stream",
     "text": [
      "2017-04-03 13:53:27,466 : INFO : loss = 0.686078, step = 3101\n"
     ]
    },
    {
     "name": "stdout",
     "output_type": "stream",
     "text": [
      "INFO:tensorflow:global_step/sec: 143.87\n"
     ]
    },
    {
     "name": "stderr",
     "output_type": "stream",
     "text": [
      "2017-04-03 13:53:28,158 : INFO : global_step/sec: 143.87\n"
     ]
    },
    {
     "name": "stdout",
     "output_type": "stream",
     "text": [
      "INFO:tensorflow:loss = 0.575065, step = 3201\n"
     ]
    },
    {
     "name": "stderr",
     "output_type": "stream",
     "text": [
      "2017-04-03 13:53:28,161 : INFO : loss = 0.575065, step = 3201\n"
     ]
    },
    {
     "name": "stdout",
     "output_type": "stream",
     "text": [
      "INFO:tensorflow:global_step/sec: 143.042\n"
     ]
    },
    {
     "name": "stderr",
     "output_type": "stream",
     "text": [
      "2017-04-03 13:53:28,857 : INFO : global_step/sec: 143.042\n"
     ]
    },
    {
     "name": "stdout",
     "output_type": "stream",
     "text": [
      "INFO:tensorflow:loss = 0.671611, step = 3301\n"
     ]
    },
    {
     "name": "stderr",
     "output_type": "stream",
     "text": [
      "2017-04-03 13:53:28,860 : INFO : loss = 0.671611, step = 3301\n"
     ]
    },
    {
     "name": "stdout",
     "output_type": "stream",
     "text": [
      "INFO:tensorflow:global_step/sec: 144.862\n"
     ]
    },
    {
     "name": "stderr",
     "output_type": "stream",
     "text": [
      "2017-04-03 13:53:29,548 : INFO : global_step/sec: 144.862\n"
     ]
    },
    {
     "name": "stdout",
     "output_type": "stream",
     "text": [
      "INFO:tensorflow:loss = 0.45224, step = 3401\n"
     ]
    },
    {
     "name": "stderr",
     "output_type": "stream",
     "text": [
      "2017-04-03 13:53:29,551 : INFO : loss = 0.45224, step = 3401\n"
     ]
    },
    {
     "name": "stdout",
     "output_type": "stream",
     "text": [
      "INFO:tensorflow:global_step/sec: 144.523\n"
     ]
    },
    {
     "name": "stderr",
     "output_type": "stream",
     "text": [
      "2017-04-03 13:53:30,240 : INFO : global_step/sec: 144.523\n"
     ]
    },
    {
     "name": "stdout",
     "output_type": "stream",
     "text": [
      "INFO:tensorflow:loss = 1.07803, step = 3501\n"
     ]
    },
    {
     "name": "stderr",
     "output_type": "stream",
     "text": [
      "2017-04-03 13:53:30,242 : INFO : loss = 1.07803, step = 3501\n"
     ]
    },
    {
     "name": "stdout",
     "output_type": "stream",
     "text": [
      "INFO:tensorflow:global_step/sec: 141.51\n"
     ]
    },
    {
     "name": "stderr",
     "output_type": "stream",
     "text": [
      "2017-04-03 13:53:30,946 : INFO : global_step/sec: 141.51\n"
     ]
    },
    {
     "name": "stdout",
     "output_type": "stream",
     "text": [
      "INFO:tensorflow:loss = 0.64513, step = 3601\n"
     ]
    },
    {
     "name": "stderr",
     "output_type": "stream",
     "text": [
      "2017-04-03 13:53:30,949 : INFO : loss = 0.64513, step = 3601\n"
     ]
    },
    {
     "name": "stdout",
     "output_type": "stream",
     "text": [
      "INFO:tensorflow:global_step/sec: 147.007\n"
     ]
    },
    {
     "name": "stderr",
     "output_type": "stream",
     "text": [
      "2017-04-03 13:53:31,627 : INFO : global_step/sec: 147.007\n"
     ]
    },
    {
     "name": "stdout",
     "output_type": "stream",
     "text": [
      "INFO:tensorflow:loss = 0.510379, step = 3701\n"
     ]
    },
    {
     "name": "stderr",
     "output_type": "stream",
     "text": [
      "2017-04-03 13:53:31,629 : INFO : loss = 0.510379, step = 3701\n"
     ]
    },
    {
     "name": "stdout",
     "output_type": "stream",
     "text": [
      "INFO:tensorflow:global_step/sec: 148.393\n"
     ]
    },
    {
     "name": "stderr",
     "output_type": "stream",
     "text": [
      "2017-04-03 13:53:32,301 : INFO : global_step/sec: 148.393\n"
     ]
    },
    {
     "name": "stdout",
     "output_type": "stream",
     "text": [
      "INFO:tensorflow:loss = 0.478314, step = 3801\n"
     ]
    },
    {
     "name": "stderr",
     "output_type": "stream",
     "text": [
      "2017-04-03 13:53:32,303 : INFO : loss = 0.478314, step = 3801\n"
     ]
    },
    {
     "name": "stdout",
     "output_type": "stream",
     "text": [
      "INFO:tensorflow:global_step/sec: 145.888\n"
     ]
    },
    {
     "name": "stderr",
     "output_type": "stream",
     "text": [
      "2017-04-03 13:53:32,986 : INFO : global_step/sec: 145.888\n"
     ]
    },
    {
     "name": "stdout",
     "output_type": "stream",
     "text": [
      "INFO:tensorflow:loss = 0.570961, step = 3901\n"
     ]
    },
    {
     "name": "stderr",
     "output_type": "stream",
     "text": [
      "2017-04-03 13:53:32,989 : INFO : loss = 0.570961, step = 3901\n"
     ]
    },
    {
     "name": "stdout",
     "output_type": "stream",
     "text": [
      "INFO:tensorflow:Saving checkpoints for 4000 into /tmp/tmpWMPGlp/model.ckpt.\n"
     ]
    },
    {
     "name": "stderr",
     "output_type": "stream",
     "text": [
      "2017-04-03 13:53:33,658 : INFO : Saving checkpoints for 4000 into /tmp/tmpWMPGlp/model.ckpt.\n"
     ]
    },
    {
     "name": "stdout",
     "output_type": "stream",
     "text": [
      "INFO:tensorflow:Loss for final step: 0.613229.\n"
     ]
    },
    {
     "name": "stderr",
     "output_type": "stream",
     "text": [
      "2017-04-03 13:53:33,950 : INFO : Loss for final step: 0.613229.\n"
     ]
    },
    {
     "name": "stdout",
     "output_type": "stream",
     "text": [
      "WARNING:tensorflow:float64 is not supported by many models, consider casting to float32.\n"
     ]
    },
    {
     "name": "stderr",
     "output_type": "stream",
     "text": [
      "2017-04-03 13:53:34,067 : WARNING : float64 is not supported by many models, consider casting to float32.\n",
      "2017-04-03 13:53:34,417 : WARNING : Run accuracy: 0.817577854671\n",
      "2017-04-03 13:53:34,426 : WARNING : Cat accuracies:\n",
      "[0.005050505050505051, 0.9202111613876319, 0.33544303797468356, 0.18072289156626506, 0.8426640926640927, 0.4279475982532751, 0.020689655172413793, 0.7035490605427975, 0.0, 0.0, 0.896, 0.0, 0.0, 0.8510484454085322]\n"
     ]
    },
    {
     "name": "stdout",
     "output_type": "stream",
     "text": [
      "WARNING:tensorflow:Using temporary folder as model directory: /tmp/tmpkrdAr8\n"
     ]
    },
    {
     "name": "stderr",
     "output_type": "stream",
     "text": [
      "2017-04-03 13:53:34,670 : WARNING : Using temporary folder as model directory: /tmp/tmpkrdAr8\n"
     ]
    },
    {
     "name": "stdout",
     "output_type": "stream",
     "text": [
      "INFO:tensorflow:Using default config.\n"
     ]
    },
    {
     "name": "stderr",
     "output_type": "stream",
     "text": [
      "2017-04-03 13:53:34,672 : INFO : Using default config.\n"
     ]
    },
    {
     "name": "stdout",
     "output_type": "stream",
     "text": [
      "INFO:tensorflow:Using config: {'_save_checkpoints_secs': 600, '_num_ps_replicas': 0, '_keep_checkpoint_max': 5, '_tf_random_seed': None, '_task_type': None, '_environment': 'local', '_is_chief': True, '_cluster_spec': <tensorflow.python.training.server_lib.ClusterSpec object at 0x7ff40f823690>, '_tf_config': gpu_options {\n",
      "  per_process_gpu_memory_fraction: 1\n",
      "}\n",
      ", '_task_id': 0, '_save_summary_steps': 100, '_save_checkpoints_steps': None, '_evaluation_master': '', '_keep_checkpoint_every_n_hours': 10000, '_master': ''}\n"
     ]
    },
    {
     "name": "stderr",
     "output_type": "stream",
     "text": [
      "2017-04-03 13:53:34,673 : INFO : Using config: {'_save_checkpoints_secs': 600, '_num_ps_replicas': 0, '_keep_checkpoint_max': 5, '_tf_random_seed': None, '_task_type': None, '_environment': 'local', '_is_chief': True, '_cluster_spec': <tensorflow.python.training.server_lib.ClusterSpec object at 0x7ff40f823690>, '_tf_config': gpu_options {\n",
      "  per_process_gpu_memory_fraction: 1\n",
      "}\n",
      ", '_task_id': 0, '_save_summary_steps': 100, '_save_checkpoints_steps': None, '_evaluation_master': '', '_keep_checkpoint_every_n_hours': 10000, '_master': ''}\n"
     ]
    },
    {
     "name": "stdout",
     "output_type": "stream",
     "text": [
      "WARNING:tensorflow:float64 is not supported by many models, consider casting to float32.\n"
     ]
    },
    {
     "name": "stderr",
     "output_type": "stream",
     "text": [
      "2017-04-03 13:53:34,674 : WARNING : float64 is not supported by many models, consider casting to float32.\n"
     ]
    },
    {
     "name": "stdout",
     "output_type": "stream",
     "text": [
      "WARNING:tensorflow:From /usr/lib/python2.7/site-packages/tensorflow/contrib/learn/python/learn/estimators/head.py:1362: scalar_summary (from tensorflow.python.ops.logging_ops) is deprecated and will be removed after 2016-11-30.\n",
      "Instructions for updating:\n",
      "Please switch to tf.summary.scalar. Note that tf.summary.scalar uses the node name instead of the tag. This means that TensorFlow will automatically de-duplicate summary names based on the scope they are created in. Also, passing a tensor or list of tags to a scalar summary op is no longer supported.\n"
     ]
    },
    {
     "name": "stderr",
     "output_type": "stream",
     "text": [
      "2017-04-03 13:53:34,740 : WARNING : From /usr/lib/python2.7/site-packages/tensorflow/contrib/learn/python/learn/estimators/head.py:1362: scalar_summary (from tensorflow.python.ops.logging_ops) is deprecated and will be removed after 2016-11-30.\n",
      "Instructions for updating:\n",
      "Please switch to tf.summary.scalar. Note that tf.summary.scalar uses the node name instead of the tag. This means that TensorFlow will automatically de-duplicate summary names based on the scope they are created in. Also, passing a tensor or list of tags to a scalar summary op is no longer supported.\n"
     ]
    },
    {
     "name": "stdout",
     "output_type": "stream",
     "text": [
      "INFO:tensorflow:Create CheckpointSaverHook.\n"
     ]
    },
    {
     "name": "stderr",
     "output_type": "stream",
     "text": [
      "2017-04-03 13:53:35,225 : INFO : Create CheckpointSaverHook.\n"
     ]
    },
    {
     "name": "stdout",
     "output_type": "stream",
     "text": [
      "INFO:tensorflow:Saving checkpoints for 1 into /tmp/tmpkrdAr8/model.ckpt.\n"
     ]
    },
    {
     "name": "stderr",
     "output_type": "stream",
     "text": [
      "2017-04-03 13:53:36,787 : INFO : Saving checkpoints for 1 into /tmp/tmpkrdAr8/model.ckpt.\n"
     ]
    },
    {
     "name": "stdout",
     "output_type": "stream",
     "text": [
      "INFO:tensorflow:loss = 2.69493, step = 1\n"
     ]
    },
    {
     "name": "stderr",
     "output_type": "stream",
     "text": [
      "2017-04-03 13:53:37,287 : INFO : loss = 2.69493, step = 1\n"
     ]
    },
    {
     "name": "stdout",
     "output_type": "stream",
     "text": [
      "INFO:tensorflow:global_step/sec: 162.59\n"
     ]
    },
    {
     "name": "stderr",
     "output_type": "stream",
     "text": [
      "2017-04-03 13:53:37,901 : INFO : global_step/sec: 162.59\n"
     ]
    },
    {
     "name": "stdout",
     "output_type": "stream",
     "text": [
      "INFO:tensorflow:loss = 0.690773, step = 101\n"
     ]
    },
    {
     "name": "stderr",
     "output_type": "stream",
     "text": [
      "2017-04-03 13:53:37,903 : INFO : loss = 0.690773, step = 101\n"
     ]
    },
    {
     "name": "stdout",
     "output_type": "stream",
     "text": [
      "INFO:tensorflow:global_step/sec: 163.367\n"
     ]
    },
    {
     "name": "stderr",
     "output_type": "stream",
     "text": [
      "2017-04-03 13:53:38,513 : INFO : global_step/sec: 163.367\n"
     ]
    },
    {
     "name": "stdout",
     "output_type": "stream",
     "text": [
      "INFO:tensorflow:loss = 0.900676, step = 201\n"
     ]
    },
    {
     "name": "stderr",
     "output_type": "stream",
     "text": [
      "2017-04-03 13:53:38,515 : INFO : loss = 0.900676, step = 201\n"
     ]
    },
    {
     "name": "stdout",
     "output_type": "stream",
     "text": [
      "INFO:tensorflow:global_step/sec: 163.648\n"
     ]
    },
    {
     "name": "stderr",
     "output_type": "stream",
     "text": [
      "2017-04-03 13:53:39,124 : INFO : global_step/sec: 163.648\n"
     ]
    },
    {
     "name": "stdout",
     "output_type": "stream",
     "text": [
      "INFO:tensorflow:loss = 0.732368, step = 301\n"
     ]
    },
    {
     "name": "stderr",
     "output_type": "stream",
     "text": [
      "2017-04-03 13:53:39,126 : INFO : loss = 0.732368, step = 301\n"
     ]
    },
    {
     "name": "stdout",
     "output_type": "stream",
     "text": [
      "INFO:tensorflow:global_step/sec: 164.436\n"
     ]
    },
    {
     "name": "stderr",
     "output_type": "stream",
     "text": [
      "2017-04-03 13:53:39,732 : INFO : global_step/sec: 164.436\n"
     ]
    },
    {
     "name": "stdout",
     "output_type": "stream",
     "text": [
      "INFO:tensorflow:loss = 0.678813, step = 401\n"
     ]
    },
    {
     "name": "stderr",
     "output_type": "stream",
     "text": [
      "2017-04-03 13:53:39,734 : INFO : loss = 0.678813, step = 401\n"
     ]
    },
    {
     "name": "stdout",
     "output_type": "stream",
     "text": [
      "INFO:tensorflow:global_step/sec: 162.93\n"
     ]
    },
    {
     "name": "stderr",
     "output_type": "stream",
     "text": [
      "2017-04-03 13:53:40,346 : INFO : global_step/sec: 162.93\n"
     ]
    },
    {
     "name": "stdout",
     "output_type": "stream",
     "text": [
      "INFO:tensorflow:loss = 0.665792, step = 501\n"
     ]
    },
    {
     "name": "stderr",
     "output_type": "stream",
     "text": [
      "2017-04-03 13:53:40,348 : INFO : loss = 0.665792, step = 501\n"
     ]
    },
    {
     "name": "stdout",
     "output_type": "stream",
     "text": [
      "INFO:tensorflow:global_step/sec: 161.869\n"
     ]
    },
    {
     "name": "stderr",
     "output_type": "stream",
     "text": [
      "2017-04-03 13:53:40,963 : INFO : global_step/sec: 161.869\n"
     ]
    },
    {
     "name": "stdout",
     "output_type": "stream",
     "text": [
      "INFO:tensorflow:loss = 0.624185, step = 601\n"
     ]
    },
    {
     "name": "stderr",
     "output_type": "stream",
     "text": [
      "2017-04-03 13:53:40,966 : INFO : loss = 0.624185, step = 601\n"
     ]
    },
    {
     "name": "stdout",
     "output_type": "stream",
     "text": [
      "INFO:tensorflow:global_step/sec: 163.518\n"
     ]
    },
    {
     "name": "stderr",
     "output_type": "stream",
     "text": [
      "2017-04-03 13:53:41,575 : INFO : global_step/sec: 163.518\n"
     ]
    },
    {
     "name": "stdout",
     "output_type": "stream",
     "text": [
      "INFO:tensorflow:loss = 1.07977, step = 701\n"
     ]
    },
    {
     "name": "stderr",
     "output_type": "stream",
     "text": [
      "2017-04-03 13:53:41,577 : INFO : loss = 1.07977, step = 701\n"
     ]
    },
    {
     "name": "stdout",
     "output_type": "stream",
     "text": [
      "INFO:tensorflow:global_step/sec: 145.21\n"
     ]
    },
    {
     "name": "stderr",
     "output_type": "stream",
     "text": [
      "2017-04-03 13:53:42,264 : INFO : global_step/sec: 145.21\n"
     ]
    },
    {
     "name": "stdout",
     "output_type": "stream",
     "text": [
      "INFO:tensorflow:loss = 0.612394, step = 801\n"
     ]
    },
    {
     "name": "stderr",
     "output_type": "stream",
     "text": [
      "2017-04-03 13:53:42,266 : INFO : loss = 0.612394, step = 801\n"
     ]
    },
    {
     "name": "stdout",
     "output_type": "stream",
     "text": [
      "INFO:tensorflow:global_step/sec: 143.227\n"
     ]
    },
    {
     "name": "stderr",
     "output_type": "stream",
     "text": [
      "2017-04-03 13:53:42,962 : INFO : global_step/sec: 143.227\n"
     ]
    },
    {
     "name": "stdout",
     "output_type": "stream",
     "text": [
      "INFO:tensorflow:loss = 0.649792, step = 901\n"
     ]
    },
    {
     "name": "stderr",
     "output_type": "stream",
     "text": [
      "2017-04-03 13:53:42,964 : INFO : loss = 0.649792, step = 901\n"
     ]
    },
    {
     "name": "stdout",
     "output_type": "stream",
     "text": [
      "INFO:tensorflow:global_step/sec: 148.022\n"
     ]
    },
    {
     "name": "stderr",
     "output_type": "stream",
     "text": [
      "2017-04-03 13:53:43,637 : INFO : global_step/sec: 148.022\n"
     ]
    },
    {
     "name": "stdout",
     "output_type": "stream",
     "text": [
      "INFO:tensorflow:loss = 0.508904, step = 1001\n"
     ]
    },
    {
     "name": "stderr",
     "output_type": "stream",
     "text": [
      "2017-04-03 13:53:43,640 : INFO : loss = 0.508904, step = 1001\n"
     ]
    },
    {
     "name": "stdout",
     "output_type": "stream",
     "text": [
      "INFO:tensorflow:global_step/sec: 149.279\n"
     ]
    },
    {
     "name": "stderr",
     "output_type": "stream",
     "text": [
      "2017-04-03 13:53:44,307 : INFO : global_step/sec: 149.279\n"
     ]
    },
    {
     "name": "stdout",
     "output_type": "stream",
     "text": [
      "INFO:tensorflow:loss = 0.412098, step = 1101\n"
     ]
    },
    {
     "name": "stderr",
     "output_type": "stream",
     "text": [
      "2017-04-03 13:53:44,310 : INFO : loss = 0.412098, step = 1101\n"
     ]
    },
    {
     "name": "stdout",
     "output_type": "stream",
     "text": [
      "INFO:tensorflow:global_step/sec: 147.769\n"
     ]
    },
    {
     "name": "stderr",
     "output_type": "stream",
     "text": [
      "2017-04-03 13:53:44,984 : INFO : global_step/sec: 147.769\n"
     ]
    },
    {
     "name": "stdout",
     "output_type": "stream",
     "text": [
      "INFO:tensorflow:loss = 0.599366, step = 1201\n"
     ]
    },
    {
     "name": "stderr",
     "output_type": "stream",
     "text": [
      "2017-04-03 13:53:44,987 : INFO : loss = 0.599366, step = 1201\n"
     ]
    },
    {
     "name": "stdout",
     "output_type": "stream",
     "text": [
      "INFO:tensorflow:global_step/sec: 147.776\n"
     ]
    },
    {
     "name": "stderr",
     "output_type": "stream",
     "text": [
      "2017-04-03 13:53:45,661 : INFO : global_step/sec: 147.776\n"
     ]
    },
    {
     "name": "stdout",
     "output_type": "stream",
     "text": [
      "INFO:tensorflow:loss = 0.530842, step = 1301\n"
     ]
    },
    {
     "name": "stderr",
     "output_type": "stream",
     "text": [
      "2017-04-03 13:53:45,663 : INFO : loss = 0.530842, step = 1301\n"
     ]
    },
    {
     "name": "stdout",
     "output_type": "stream",
     "text": [
      "INFO:tensorflow:global_step/sec: 146.414\n"
     ]
    },
    {
     "name": "stderr",
     "output_type": "stream",
     "text": [
      "2017-04-03 13:53:46,344 : INFO : global_step/sec: 146.414\n"
     ]
    },
    {
     "name": "stdout",
     "output_type": "stream",
     "text": [
      "INFO:tensorflow:loss = 0.695541, step = 1401\n"
     ]
    },
    {
     "name": "stderr",
     "output_type": "stream",
     "text": [
      "2017-04-03 13:53:46,346 : INFO : loss = 0.695541, step = 1401\n"
     ]
    },
    {
     "name": "stdout",
     "output_type": "stream",
     "text": [
      "INFO:tensorflow:global_step/sec: 144.873\n"
     ]
    },
    {
     "name": "stderr",
     "output_type": "stream",
     "text": [
      "2017-04-03 13:53:47,034 : INFO : global_step/sec: 144.873\n"
     ]
    },
    {
     "name": "stdout",
     "output_type": "stream",
     "text": [
      "INFO:tensorflow:loss = 0.576247, step = 1501\n"
     ]
    },
    {
     "name": "stderr",
     "output_type": "stream",
     "text": [
      "2017-04-03 13:53:47,037 : INFO : loss = 0.576247, step = 1501\n"
     ]
    },
    {
     "name": "stdout",
     "output_type": "stream",
     "text": [
      "INFO:tensorflow:global_step/sec: 146.172\n"
     ]
    },
    {
     "name": "stderr",
     "output_type": "stream",
     "text": [
      "2017-04-03 13:53:47,718 : INFO : global_step/sec: 146.172\n"
     ]
    },
    {
     "name": "stdout",
     "output_type": "stream",
     "text": [
      "INFO:tensorflow:loss = 0.522547, step = 1601\n"
     ]
    },
    {
     "name": "stderr",
     "output_type": "stream",
     "text": [
      "2017-04-03 13:53:47,721 : INFO : loss = 0.522547, step = 1601\n"
     ]
    },
    {
     "name": "stdout",
     "output_type": "stream",
     "text": [
      "INFO:tensorflow:global_step/sec: 149.19\n"
     ]
    },
    {
     "name": "stderr",
     "output_type": "stream",
     "text": [
      "2017-04-03 13:53:48,389 : INFO : global_step/sec: 149.19\n"
     ]
    },
    {
     "name": "stdout",
     "output_type": "stream",
     "text": [
      "INFO:tensorflow:loss = 0.76109, step = 1701\n"
     ]
    },
    {
     "name": "stderr",
     "output_type": "stream",
     "text": [
      "2017-04-03 13:53:48,391 : INFO : loss = 0.76109, step = 1701\n"
     ]
    },
    {
     "name": "stdout",
     "output_type": "stream",
     "text": [
      "INFO:tensorflow:global_step/sec: 147.959\n"
     ]
    },
    {
     "name": "stderr",
     "output_type": "stream",
     "text": [
      "2017-04-03 13:53:49,064 : INFO : global_step/sec: 147.959\n"
     ]
    },
    {
     "name": "stdout",
     "output_type": "stream",
     "text": [
      "INFO:tensorflow:loss = 0.529334, step = 1801\n"
     ]
    },
    {
     "name": "stderr",
     "output_type": "stream",
     "text": [
      "2017-04-03 13:53:49,067 : INFO : loss = 0.529334, step = 1801\n"
     ]
    },
    {
     "name": "stdout",
     "output_type": "stream",
     "text": [
      "INFO:tensorflow:global_step/sec: 148.192\n"
     ]
    },
    {
     "name": "stderr",
     "output_type": "stream",
     "text": [
      "2017-04-03 13:53:49,739 : INFO : global_step/sec: 148.192\n"
     ]
    },
    {
     "name": "stdout",
     "output_type": "stream",
     "text": [
      "INFO:tensorflow:loss = 0.543962, step = 1901\n"
     ]
    },
    {
     "name": "stderr",
     "output_type": "stream",
     "text": [
      "2017-04-03 13:53:49,742 : INFO : loss = 0.543962, step = 1901\n"
     ]
    },
    {
     "name": "stdout",
     "output_type": "stream",
     "text": [
      "INFO:tensorflow:global_step/sec: 146.93\n"
     ]
    },
    {
     "name": "stderr",
     "output_type": "stream",
     "text": [
      "2017-04-03 13:53:50,420 : INFO : global_step/sec: 146.93\n"
     ]
    },
    {
     "name": "stdout",
     "output_type": "stream",
     "text": [
      "INFO:tensorflow:loss = 0.470297, step = 2001\n"
     ]
    },
    {
     "name": "stderr",
     "output_type": "stream",
     "text": [
      "2017-04-03 13:53:50,422 : INFO : loss = 0.470297, step = 2001\n"
     ]
    },
    {
     "name": "stdout",
     "output_type": "stream",
     "text": [
      "INFO:tensorflow:global_step/sec: 147.379\n"
     ]
    },
    {
     "name": "stderr",
     "output_type": "stream",
     "text": [
      "2017-04-03 13:53:51,098 : INFO : global_step/sec: 147.379\n"
     ]
    },
    {
     "name": "stdout",
     "output_type": "stream",
     "text": [
      "INFO:tensorflow:loss = 0.445193, step = 2101\n"
     ]
    },
    {
     "name": "stderr",
     "output_type": "stream",
     "text": [
      "2017-04-03 13:53:51,101 : INFO : loss = 0.445193, step = 2101\n"
     ]
    },
    {
     "name": "stdout",
     "output_type": "stream",
     "text": [
      "INFO:tensorflow:global_step/sec: 148.755\n"
     ]
    },
    {
     "name": "stderr",
     "output_type": "stream",
     "text": [
      "2017-04-03 13:53:51,770 : INFO : global_step/sec: 148.755\n"
     ]
    },
    {
     "name": "stdout",
     "output_type": "stream",
     "text": [
      "INFO:tensorflow:loss = 0.652309, step = 2201\n"
     ]
    },
    {
     "name": "stderr",
     "output_type": "stream",
     "text": [
      "2017-04-03 13:53:51,773 : INFO : loss = 0.652309, step = 2201\n"
     ]
    },
    {
     "name": "stdout",
     "output_type": "stream",
     "text": [
      "INFO:tensorflow:global_step/sec: 149.403\n"
     ]
    },
    {
     "name": "stderr",
     "output_type": "stream",
     "text": [
      "2017-04-03 13:53:52,440 : INFO : global_step/sec: 149.403\n"
     ]
    },
    {
     "name": "stdout",
     "output_type": "stream",
     "text": [
      "INFO:tensorflow:loss = 0.483592, step = 2301\n"
     ]
    },
    {
     "name": "stderr",
     "output_type": "stream",
     "text": [
      "2017-04-03 13:53:52,443 : INFO : loss = 0.483592, step = 2301\n"
     ]
    },
    {
     "name": "stdout",
     "output_type": "stream",
     "text": [
      "INFO:tensorflow:global_step/sec: 149.538\n"
     ]
    },
    {
     "name": "stderr",
     "output_type": "stream",
     "text": [
      "2017-04-03 13:53:53,108 : INFO : global_step/sec: 149.538\n"
     ]
    },
    {
     "name": "stdout",
     "output_type": "stream",
     "text": [
      "INFO:tensorflow:loss = 0.534202, step = 2401\n"
     ]
    },
    {
     "name": "stderr",
     "output_type": "stream",
     "text": [
      "2017-04-03 13:53:53,111 : INFO : loss = 0.534202, step = 2401\n"
     ]
    },
    {
     "name": "stdout",
     "output_type": "stream",
     "text": [
      "INFO:tensorflow:global_step/sec: 148.478\n"
     ]
    },
    {
     "name": "stderr",
     "output_type": "stream",
     "text": [
      "2017-04-03 13:53:53,782 : INFO : global_step/sec: 148.478\n"
     ]
    },
    {
     "name": "stdout",
     "output_type": "stream",
     "text": [
      "INFO:tensorflow:loss = 0.531524, step = 2501\n"
     ]
    },
    {
     "name": "stderr",
     "output_type": "stream",
     "text": [
      "2017-04-03 13:53:53,784 : INFO : loss = 0.531524, step = 2501\n"
     ]
    },
    {
     "name": "stdout",
     "output_type": "stream",
     "text": [
      "INFO:tensorflow:global_step/sec: 145.702\n"
     ]
    },
    {
     "name": "stderr",
     "output_type": "stream",
     "text": [
      "2017-04-03 13:53:54,468 : INFO : global_step/sec: 145.702\n"
     ]
    },
    {
     "name": "stdout",
     "output_type": "stream",
     "text": [
      "INFO:tensorflow:loss = 0.607596, step = 2601\n"
     ]
    },
    {
     "name": "stderr",
     "output_type": "stream",
     "text": [
      "2017-04-03 13:53:54,471 : INFO : loss = 0.607596, step = 2601\n"
     ]
    },
    {
     "name": "stdout",
     "output_type": "stream",
     "text": [
      "INFO:tensorflow:global_step/sec: 143.743\n"
     ]
    },
    {
     "name": "stderr",
     "output_type": "stream",
     "text": [
      "2017-04-03 13:53:55,164 : INFO : global_step/sec: 143.743\n"
     ]
    },
    {
     "name": "stdout",
     "output_type": "stream",
     "text": [
      "INFO:tensorflow:loss = 0.814518, step = 2701\n"
     ]
    },
    {
     "name": "stderr",
     "output_type": "stream",
     "text": [
      "2017-04-03 13:53:55,167 : INFO : loss = 0.814518, step = 2701\n"
     ]
    },
    {
     "name": "stdout",
     "output_type": "stream",
     "text": [
      "INFO:tensorflow:global_step/sec: 146.3\n"
     ]
    },
    {
     "name": "stderr",
     "output_type": "stream",
     "text": [
      "2017-04-03 13:53:55,848 : INFO : global_step/sec: 146.3\n"
     ]
    },
    {
     "name": "stdout",
     "output_type": "stream",
     "text": [
      "INFO:tensorflow:loss = 0.535242, step = 2801\n"
     ]
    },
    {
     "name": "stderr",
     "output_type": "stream",
     "text": [
      "2017-04-03 13:53:55,850 : INFO : loss = 0.535242, step = 2801\n"
     ]
    },
    {
     "name": "stdout",
     "output_type": "stream",
     "text": [
      "INFO:tensorflow:global_step/sec: 147.641\n"
     ]
    },
    {
     "name": "stderr",
     "output_type": "stream",
     "text": [
      "2017-04-03 13:53:56,525 : INFO : global_step/sec: 147.641\n"
     ]
    },
    {
     "name": "stdout",
     "output_type": "stream",
     "text": [
      "INFO:tensorflow:loss = 0.448641, step = 2901\n"
     ]
    },
    {
     "name": "stderr",
     "output_type": "stream",
     "text": [
      "2017-04-03 13:53:56,528 : INFO : loss = 0.448641, step = 2901\n"
     ]
    },
    {
     "name": "stdout",
     "output_type": "stream",
     "text": [
      "INFO:tensorflow:global_step/sec: 146.738\n"
     ]
    },
    {
     "name": "stderr",
     "output_type": "stream",
     "text": [
      "2017-04-03 13:53:57,206 : INFO : global_step/sec: 146.738\n"
     ]
    },
    {
     "name": "stdout",
     "output_type": "stream",
     "text": [
      "INFO:tensorflow:loss = 0.452111, step = 3001\n"
     ]
    },
    {
     "name": "stderr",
     "output_type": "stream",
     "text": [
      "2017-04-03 13:53:57,210 : INFO : loss = 0.452111, step = 3001\n"
     ]
    },
    {
     "name": "stdout",
     "output_type": "stream",
     "text": [
      "INFO:tensorflow:global_step/sec: 148.537\n"
     ]
    },
    {
     "name": "stderr",
     "output_type": "stream",
     "text": [
      "2017-04-03 13:53:57,880 : INFO : global_step/sec: 148.537\n"
     ]
    },
    {
     "name": "stdout",
     "output_type": "stream",
     "text": [
      "INFO:tensorflow:loss = 0.441545, step = 3101\n"
     ]
    },
    {
     "name": "stderr",
     "output_type": "stream",
     "text": [
      "2017-04-03 13:53:57,882 : INFO : loss = 0.441545, step = 3101\n"
     ]
    },
    {
     "name": "stdout",
     "output_type": "stream",
     "text": [
      "INFO:tensorflow:global_step/sec: 150.175\n"
     ]
    },
    {
     "name": "stderr",
     "output_type": "stream",
     "text": [
      "2017-04-03 13:53:58,545 : INFO : global_step/sec: 150.175\n"
     ]
    },
    {
     "name": "stdout",
     "output_type": "stream",
     "text": [
      "INFO:tensorflow:loss = 0.651689, step = 3201\n"
     ]
    },
    {
     "name": "stderr",
     "output_type": "stream",
     "text": [
      "2017-04-03 13:53:58,548 : INFO : loss = 0.651689, step = 3201\n"
     ]
    },
    {
     "name": "stdout",
     "output_type": "stream",
     "text": [
      "INFO:tensorflow:global_step/sec: 148.456\n"
     ]
    },
    {
     "name": "stderr",
     "output_type": "stream",
     "text": [
      "2017-04-03 13:53:59,219 : INFO : global_step/sec: 148.456\n"
     ]
    },
    {
     "name": "stdout",
     "output_type": "stream",
     "text": [
      "INFO:tensorflow:loss = 0.602413, step = 3301\n"
     ]
    },
    {
     "name": "stderr",
     "output_type": "stream",
     "text": [
      "2017-04-03 13:53:59,223 : INFO : loss = 0.602413, step = 3301\n"
     ]
    },
    {
     "name": "stdout",
     "output_type": "stream",
     "text": [
      "INFO:tensorflow:global_step/sec: 146.905\n"
     ]
    },
    {
     "name": "stderr",
     "output_type": "stream",
     "text": [
      "2017-04-03 13:53:59,900 : INFO : global_step/sec: 146.905\n"
     ]
    },
    {
     "name": "stdout",
     "output_type": "stream",
     "text": [
      "INFO:tensorflow:loss = 0.548901, step = 3401\n"
     ]
    },
    {
     "name": "stderr",
     "output_type": "stream",
     "text": [
      "2017-04-03 13:53:59,903 : INFO : loss = 0.548901, step = 3401\n"
     ]
    },
    {
     "name": "stdout",
     "output_type": "stream",
     "text": [
      "INFO:tensorflow:global_step/sec: 147.56\n"
     ]
    },
    {
     "name": "stderr",
     "output_type": "stream",
     "text": [
      "2017-04-03 13:54:00,577 : INFO : global_step/sec: 147.56\n"
     ]
    },
    {
     "name": "stdout",
     "output_type": "stream",
     "text": [
      "INFO:tensorflow:loss = 0.730141, step = 3501\n"
     ]
    },
    {
     "name": "stderr",
     "output_type": "stream",
     "text": [
      "2017-04-03 13:54:00,580 : INFO : loss = 0.730141, step = 3501\n"
     ]
    },
    {
     "name": "stdout",
     "output_type": "stream",
     "text": [
      "INFO:tensorflow:global_step/sec: 146.698\n"
     ]
    },
    {
     "name": "stderr",
     "output_type": "stream",
     "text": [
      "2017-04-03 13:54:01,259 : INFO : global_step/sec: 146.698\n"
     ]
    },
    {
     "name": "stdout",
     "output_type": "stream",
     "text": [
      "INFO:tensorflow:loss = 0.556516, step = 3601\n"
     ]
    },
    {
     "name": "stderr",
     "output_type": "stream",
     "text": [
      "2017-04-03 13:54:01,262 : INFO : loss = 0.556516, step = 3601\n"
     ]
    },
    {
     "name": "stdout",
     "output_type": "stream",
     "text": [
      "INFO:tensorflow:global_step/sec: 142.899\n"
     ]
    },
    {
     "name": "stderr",
     "output_type": "stream",
     "text": [
      "2017-04-03 13:54:01,959 : INFO : global_step/sec: 142.899\n"
     ]
    },
    {
     "name": "stdout",
     "output_type": "stream",
     "text": [
      "INFO:tensorflow:loss = 0.656006, step = 3701\n"
     ]
    },
    {
     "name": "stderr",
     "output_type": "stream",
     "text": [
      "2017-04-03 13:54:01,962 : INFO : loss = 0.656006, step = 3701\n"
     ]
    },
    {
     "name": "stdout",
     "output_type": "stream",
     "text": [
      "INFO:tensorflow:global_step/sec: 145.922\n"
     ]
    },
    {
     "name": "stderr",
     "output_type": "stream",
     "text": [
      "2017-04-03 13:54:02,644 : INFO : global_step/sec: 145.922\n"
     ]
    },
    {
     "name": "stdout",
     "output_type": "stream",
     "text": [
      "INFO:tensorflow:loss = 0.467182, step = 3801\n"
     ]
    },
    {
     "name": "stderr",
     "output_type": "stream",
     "text": [
      "2017-04-03 13:54:02,647 : INFO : loss = 0.467182, step = 3801\n"
     ]
    },
    {
     "name": "stdout",
     "output_type": "stream",
     "text": [
      "INFO:tensorflow:global_step/sec: 147.283\n"
     ]
    },
    {
     "name": "stderr",
     "output_type": "stream",
     "text": [
      "2017-04-03 13:54:03,323 : INFO : global_step/sec: 147.283\n"
     ]
    },
    {
     "name": "stdout",
     "output_type": "stream",
     "text": [
      "INFO:tensorflow:loss = 0.484724, step = 3901\n"
     ]
    },
    {
     "name": "stderr",
     "output_type": "stream",
     "text": [
      "2017-04-03 13:54:03,326 : INFO : loss = 0.484724, step = 3901\n"
     ]
    },
    {
     "name": "stdout",
     "output_type": "stream",
     "text": [
      "INFO:tensorflow:Saving checkpoints for 4000 into /tmp/tmpkrdAr8/model.ckpt.\n"
     ]
    },
    {
     "name": "stderr",
     "output_type": "stream",
     "text": [
      "2017-04-03 13:54:03,994 : INFO : Saving checkpoints for 4000 into /tmp/tmpkrdAr8/model.ckpt.\n"
     ]
    },
    {
     "name": "stdout",
     "output_type": "stream",
     "text": [
      "INFO:tensorflow:Loss for final step: 0.782296.\n"
     ]
    },
    {
     "name": "stderr",
     "output_type": "stream",
     "text": [
      "2017-04-03 13:54:04,274 : INFO : Loss for final step: 0.782296.\n"
     ]
    },
    {
     "name": "stdout",
     "output_type": "stream",
     "text": [
      "WARNING:tensorflow:float64 is not supported by many models, consider casting to float32.\n"
     ]
    },
    {
     "name": "stderr",
     "output_type": "stream",
     "text": [
      "2017-04-03 13:54:04,384 : WARNING : float64 is not supported by many models, consider casting to float32.\n",
      "2017-04-03 13:54:04,739 : WARNING : Run accuracy: 0.816527095301\n",
      "2017-04-03 13:54:04,748 : WARNING : Cat accuracies:\n",
      "[0.06060606060606061, 0.9343891402714932, 0.13924050632911392, 0.37349397590361444, 0.8373552123552124, 0.5502183406113537, 0.13448275862068965, 0.558455114822547, 0.0, 0.0, 0.9065, 0.0, 0.0, 0.8257411424439624]\n"
     ]
    },
    {
     "name": "stdout",
     "output_type": "stream",
     "text": [
      "WARNING:tensorflow:Using temporary folder as model directory: /tmp/tmpxxrTpI\n"
     ]
    },
    {
     "name": "stderr",
     "output_type": "stream",
     "text": [
      "2017-04-03 13:54:04,990 : WARNING : Using temporary folder as model directory: /tmp/tmpxxrTpI\n"
     ]
    },
    {
     "name": "stdout",
     "output_type": "stream",
     "text": [
      "INFO:tensorflow:Using default config.\n"
     ]
    },
    {
     "name": "stderr",
     "output_type": "stream",
     "text": [
      "2017-04-03 13:54:04,992 : INFO : Using default config.\n"
     ]
    },
    {
     "name": "stdout",
     "output_type": "stream",
     "text": [
      "INFO:tensorflow:Using config: {'_save_checkpoints_secs': 600, '_num_ps_replicas': 0, '_keep_checkpoint_max': 5, '_tf_random_seed': None, '_task_type': None, '_environment': 'local', '_is_chief': True, '_cluster_spec': <tensorflow.python.training.server_lib.ClusterSpec object at 0x7ff40faa0590>, '_tf_config': gpu_options {\n",
      "  per_process_gpu_memory_fraction: 1\n",
      "}\n",
      ", '_task_id': 0, '_save_summary_steps': 100, '_save_checkpoints_steps': None, '_evaluation_master': '', '_keep_checkpoint_every_n_hours': 10000, '_master': ''}\n"
     ]
    },
    {
     "name": "stderr",
     "output_type": "stream",
     "text": [
      "2017-04-03 13:54:04,992 : INFO : Using config: {'_save_checkpoints_secs': 600, '_num_ps_replicas': 0, '_keep_checkpoint_max': 5, '_tf_random_seed': None, '_task_type': None, '_environment': 'local', '_is_chief': True, '_cluster_spec': <tensorflow.python.training.server_lib.ClusterSpec object at 0x7ff40faa0590>, '_tf_config': gpu_options {\n",
      "  per_process_gpu_memory_fraction: 1\n",
      "}\n",
      ", '_task_id': 0, '_save_summary_steps': 100, '_save_checkpoints_steps': None, '_evaluation_master': '', '_keep_checkpoint_every_n_hours': 10000, '_master': ''}\n"
     ]
    },
    {
     "name": "stdout",
     "output_type": "stream",
     "text": [
      "WARNING:tensorflow:float64 is not supported by many models, consider casting to float32.\n"
     ]
    },
    {
     "name": "stderr",
     "output_type": "stream",
     "text": [
      "2017-04-03 13:54:04,993 : WARNING : float64 is not supported by many models, consider casting to float32.\n"
     ]
    },
    {
     "name": "stdout",
     "output_type": "stream",
     "text": [
      "WARNING:tensorflow:From /usr/lib/python2.7/site-packages/tensorflow/contrib/learn/python/learn/estimators/head.py:1362: scalar_summary (from tensorflow.python.ops.logging_ops) is deprecated and will be removed after 2016-11-30.\n",
      "Instructions for updating:\n",
      "Please switch to tf.summary.scalar. Note that tf.summary.scalar uses the node name instead of the tag. This means that TensorFlow will automatically de-duplicate summary names based on the scope they are created in. Also, passing a tensor or list of tags to a scalar summary op is no longer supported.\n"
     ]
    },
    {
     "name": "stderr",
     "output_type": "stream",
     "text": [
      "2017-04-03 13:54:05,063 : WARNING : From /usr/lib/python2.7/site-packages/tensorflow/contrib/learn/python/learn/estimators/head.py:1362: scalar_summary (from tensorflow.python.ops.logging_ops) is deprecated and will be removed after 2016-11-30.\n",
      "Instructions for updating:\n",
      "Please switch to tf.summary.scalar. Note that tf.summary.scalar uses the node name instead of the tag. This means that TensorFlow will automatically de-duplicate summary names based on the scope they are created in. Also, passing a tensor or list of tags to a scalar summary op is no longer supported.\n"
     ]
    },
    {
     "name": "stdout",
     "output_type": "stream",
     "text": [
      "INFO:tensorflow:Create CheckpointSaverHook.\n"
     ]
    },
    {
     "name": "stderr",
     "output_type": "stream",
     "text": [
      "2017-04-03 13:54:05,547 : INFO : Create CheckpointSaverHook.\n"
     ]
    },
    {
     "name": "stdout",
     "output_type": "stream",
     "text": [
      "INFO:tensorflow:Saving checkpoints for 1 into /tmp/tmpxxrTpI/model.ckpt.\n"
     ]
    },
    {
     "name": "stderr",
     "output_type": "stream",
     "text": [
      "2017-04-03 13:54:07,088 : INFO : Saving checkpoints for 1 into /tmp/tmpxxrTpI/model.ckpt.\n"
     ]
    },
    {
     "name": "stdout",
     "output_type": "stream",
     "text": [
      "INFO:tensorflow:loss = 2.6221, step = 1\n"
     ]
    },
    {
     "name": "stderr",
     "output_type": "stream",
     "text": [
      "2017-04-03 13:54:07,589 : INFO : loss = 2.6221, step = 1\n"
     ]
    },
    {
     "name": "stdout",
     "output_type": "stream",
     "text": [
      "INFO:tensorflow:global_step/sec: 159.495\n"
     ]
    },
    {
     "name": "stderr",
     "output_type": "stream",
     "text": [
      "2017-04-03 13:54:08,215 : INFO : global_step/sec: 159.495\n"
     ]
    },
    {
     "name": "stdout",
     "output_type": "stream",
     "text": [
      "INFO:tensorflow:loss = 0.553559, step = 101\n"
     ]
    },
    {
     "name": "stderr",
     "output_type": "stream",
     "text": [
      "2017-04-03 13:54:08,217 : INFO : loss = 0.553559, step = 101\n"
     ]
    },
    {
     "name": "stdout",
     "output_type": "stream",
     "text": [
      "INFO:tensorflow:global_step/sec: 159.816\n"
     ]
    },
    {
     "name": "stderr",
     "output_type": "stream",
     "text": [
      "2017-04-03 13:54:08,841 : INFO : global_step/sec: 159.816\n"
     ]
    },
    {
     "name": "stdout",
     "output_type": "stream",
     "text": [
      "INFO:tensorflow:loss = 0.718377, step = 201\n"
     ]
    },
    {
     "name": "stderr",
     "output_type": "stream",
     "text": [
      "2017-04-03 13:54:08,843 : INFO : loss = 0.718377, step = 201\n"
     ]
    },
    {
     "name": "stdout",
     "output_type": "stream",
     "text": [
      "INFO:tensorflow:global_step/sec: 155.547\n"
     ]
    },
    {
     "name": "stderr",
     "output_type": "stream",
     "text": [
      "2017-04-03 13:54:09,483 : INFO : global_step/sec: 155.547\n"
     ]
    },
    {
     "name": "stdout",
     "output_type": "stream",
     "text": [
      "INFO:tensorflow:loss = 0.5949, step = 301\n"
     ]
    },
    {
     "name": "stderr",
     "output_type": "stream",
     "text": [
      "2017-04-03 13:54:09,486 : INFO : loss = 0.5949, step = 301\n"
     ]
    },
    {
     "name": "stdout",
     "output_type": "stream",
     "text": [
      "INFO:tensorflow:global_step/sec: 157.484\n"
     ]
    },
    {
     "name": "stderr",
     "output_type": "stream",
     "text": [
      "2017-04-03 13:54:10,119 : INFO : global_step/sec: 157.484\n"
     ]
    },
    {
     "name": "stdout",
     "output_type": "stream",
     "text": [
      "INFO:tensorflow:loss = 0.533463, step = 401\n"
     ]
    },
    {
     "name": "stderr",
     "output_type": "stream",
     "text": [
      "2017-04-03 13:54:10,121 : INFO : loss = 0.533463, step = 401\n"
     ]
    },
    {
     "name": "stdout",
     "output_type": "stream",
     "text": [
      "INFO:tensorflow:global_step/sec: 159.118\n"
     ]
    },
    {
     "name": "stderr",
     "output_type": "stream",
     "text": [
      "2017-04-03 13:54:10,747 : INFO : global_step/sec: 159.118\n"
     ]
    },
    {
     "name": "stdout",
     "output_type": "stream",
     "text": [
      "INFO:tensorflow:loss = 0.671492, step = 501\n"
     ]
    },
    {
     "name": "stderr",
     "output_type": "stream",
     "text": [
      "2017-04-03 13:54:10,750 : INFO : loss = 0.671492, step = 501\n"
     ]
    },
    {
     "name": "stdout",
     "output_type": "stream",
     "text": [
      "INFO:tensorflow:global_step/sec: 156.517\n"
     ]
    },
    {
     "name": "stderr",
     "output_type": "stream",
     "text": [
      "2017-04-03 13:54:11,386 : INFO : global_step/sec: 156.517\n"
     ]
    },
    {
     "name": "stdout",
     "output_type": "stream",
     "text": [
      "INFO:tensorflow:loss = 0.72314, step = 601\n"
     ]
    },
    {
     "name": "stderr",
     "output_type": "stream",
     "text": [
      "2017-04-03 13:54:11,389 : INFO : loss = 0.72314, step = 601\n"
     ]
    },
    {
     "name": "stdout",
     "output_type": "stream",
     "text": [
      "INFO:tensorflow:global_step/sec: 162.966\n"
     ]
    },
    {
     "name": "stderr",
     "output_type": "stream",
     "text": [
      "2017-04-03 13:54:11,999 : INFO : global_step/sec: 162.966\n"
     ]
    },
    {
     "name": "stdout",
     "output_type": "stream",
     "text": [
      "INFO:tensorflow:loss = 0.781318, step = 701\n"
     ]
    },
    {
     "name": "stderr",
     "output_type": "stream",
     "text": [
      "2017-04-03 13:54:12,002 : INFO : loss = 0.781318, step = 701\n"
     ]
    },
    {
     "name": "stdout",
     "output_type": "stream",
     "text": [
      "INFO:tensorflow:global_step/sec: 143.284\n"
     ]
    },
    {
     "name": "stderr",
     "output_type": "stream",
     "text": [
      "2017-04-03 13:54:12,697 : INFO : global_step/sec: 143.284\n"
     ]
    },
    {
     "name": "stdout",
     "output_type": "stream",
     "text": [
      "INFO:tensorflow:loss = 0.779502, step = 801\n"
     ]
    },
    {
     "name": "stderr",
     "output_type": "stream",
     "text": [
      "2017-04-03 13:54:12,700 : INFO : loss = 0.779502, step = 801\n"
     ]
    },
    {
     "name": "stdout",
     "output_type": "stream",
     "text": [
      "INFO:tensorflow:global_step/sec: 141.583\n"
     ]
    },
    {
     "name": "stderr",
     "output_type": "stream",
     "text": [
      "2017-04-03 13:54:13,404 : INFO : global_step/sec: 141.583\n"
     ]
    },
    {
     "name": "stdout",
     "output_type": "stream",
     "text": [
      "INFO:tensorflow:loss = 0.517001, step = 901\n"
     ]
    },
    {
     "name": "stderr",
     "output_type": "stream",
     "text": [
      "2017-04-03 13:54:13,406 : INFO : loss = 0.517001, step = 901\n"
     ]
    },
    {
     "name": "stdout",
     "output_type": "stream",
     "text": [
      "INFO:tensorflow:global_step/sec: 144.556\n"
     ]
    },
    {
     "name": "stderr",
     "output_type": "stream",
     "text": [
      "2017-04-03 13:54:14,095 : INFO : global_step/sec: 144.556\n"
     ]
    },
    {
     "name": "stdout",
     "output_type": "stream",
     "text": [
      "INFO:tensorflow:loss = 0.620107, step = 1001\n"
     ]
    },
    {
     "name": "stderr",
     "output_type": "stream",
     "text": [
      "2017-04-03 13:54:14,098 : INFO : loss = 0.620107, step = 1001\n"
     ]
    },
    {
     "name": "stdout",
     "output_type": "stream",
     "text": [
      "INFO:tensorflow:global_step/sec: 147.138\n"
     ]
    },
    {
     "name": "stderr",
     "output_type": "stream",
     "text": [
      "2017-04-03 13:54:14,775 : INFO : global_step/sec: 147.138\n"
     ]
    },
    {
     "name": "stdout",
     "output_type": "stream",
     "text": [
      "INFO:tensorflow:loss = 0.727501, step = 1101\n"
     ]
    },
    {
     "name": "stderr",
     "output_type": "stream",
     "text": [
      "2017-04-03 13:54:14,778 : INFO : loss = 0.727501, step = 1101\n"
     ]
    },
    {
     "name": "stdout",
     "output_type": "stream",
     "text": [
      "INFO:tensorflow:global_step/sec: 141.675\n"
     ]
    },
    {
     "name": "stderr",
     "output_type": "stream",
     "text": [
      "2017-04-03 13:54:15,481 : INFO : global_step/sec: 141.675\n"
     ]
    },
    {
     "name": "stdout",
     "output_type": "stream",
     "text": [
      "INFO:tensorflow:loss = 0.813993, step = 1201\n"
     ]
    },
    {
     "name": "stderr",
     "output_type": "stream",
     "text": [
      "2017-04-03 13:54:15,484 : INFO : loss = 0.813993, step = 1201\n"
     ]
    },
    {
     "name": "stdout",
     "output_type": "stream",
     "text": [
      "INFO:tensorflow:global_step/sec: 139.698\n"
     ]
    },
    {
     "name": "stderr",
     "output_type": "stream",
     "text": [
      "2017-04-03 13:54:16,197 : INFO : global_step/sec: 139.698\n"
     ]
    },
    {
     "name": "stdout",
     "output_type": "stream",
     "text": [
      "INFO:tensorflow:loss = 0.571949, step = 1301\n"
     ]
    },
    {
     "name": "stderr",
     "output_type": "stream",
     "text": [
      "2017-04-03 13:54:16,199 : INFO : loss = 0.571949, step = 1301\n"
     ]
    },
    {
     "name": "stdout",
     "output_type": "stream",
     "text": [
      "INFO:tensorflow:global_step/sec: 146.596\n"
     ]
    },
    {
     "name": "stderr",
     "output_type": "stream",
     "text": [
      "2017-04-03 13:54:16,879 : INFO : global_step/sec: 146.596\n"
     ]
    },
    {
     "name": "stdout",
     "output_type": "stream",
     "text": [
      "INFO:tensorflow:loss = 0.61258, step = 1401\n"
     ]
    },
    {
     "name": "stderr",
     "output_type": "stream",
     "text": [
      "2017-04-03 13:54:16,881 : INFO : loss = 0.61258, step = 1401\n"
     ]
    },
    {
     "name": "stdout",
     "output_type": "stream",
     "text": [
      "INFO:tensorflow:global_step/sec: 148.492\n"
     ]
    },
    {
     "name": "stderr",
     "output_type": "stream",
     "text": [
      "2017-04-03 13:54:17,552 : INFO : global_step/sec: 148.492\n"
     ]
    },
    {
     "name": "stdout",
     "output_type": "stream",
     "text": [
      "INFO:tensorflow:loss = 0.42496, step = 1501\n"
     ]
    },
    {
     "name": "stderr",
     "output_type": "stream",
     "text": [
      "2017-04-03 13:54:17,555 : INFO : loss = 0.42496, step = 1501\n"
     ]
    },
    {
     "name": "stdout",
     "output_type": "stream",
     "text": [
      "INFO:tensorflow:global_step/sec: 148.179\n"
     ]
    },
    {
     "name": "stderr",
     "output_type": "stream",
     "text": [
      "2017-04-03 13:54:18,227 : INFO : global_step/sec: 148.179\n"
     ]
    },
    {
     "name": "stdout",
     "output_type": "stream",
     "text": [
      "INFO:tensorflow:loss = 0.566758, step = 1601\n"
     ]
    },
    {
     "name": "stderr",
     "output_type": "stream",
     "text": [
      "2017-04-03 13:54:18,230 : INFO : loss = 0.566758, step = 1601\n"
     ]
    },
    {
     "name": "stdout",
     "output_type": "stream",
     "text": [
      "INFO:tensorflow:global_step/sec: 149.108\n"
     ]
    },
    {
     "name": "stderr",
     "output_type": "stream",
     "text": [
      "2017-04-03 13:54:18,898 : INFO : global_step/sec: 149.108\n"
     ]
    },
    {
     "name": "stdout",
     "output_type": "stream",
     "text": [
      "INFO:tensorflow:loss = 0.597566, step = 1701\n"
     ]
    },
    {
     "name": "stderr",
     "output_type": "stream",
     "text": [
      "2017-04-03 13:54:18,900 : INFO : loss = 0.597566, step = 1701\n"
     ]
    },
    {
     "name": "stdout",
     "output_type": "stream",
     "text": [
      "INFO:tensorflow:global_step/sec: 148.448\n"
     ]
    },
    {
     "name": "stderr",
     "output_type": "stream",
     "text": [
      "2017-04-03 13:54:19,571 : INFO : global_step/sec: 148.448\n"
     ]
    },
    {
     "name": "stdout",
     "output_type": "stream",
     "text": [
      "INFO:tensorflow:loss = 0.653714, step = 1801\n"
     ]
    },
    {
     "name": "stderr",
     "output_type": "stream",
     "text": [
      "2017-04-03 13:54:19,574 : INFO : loss = 0.653714, step = 1801\n"
     ]
    },
    {
     "name": "stdout",
     "output_type": "stream",
     "text": [
      "INFO:tensorflow:global_step/sec: 147.167\n"
     ]
    },
    {
     "name": "stderr",
     "output_type": "stream",
     "text": [
      "2017-04-03 13:54:20,251 : INFO : global_step/sec: 147.167\n"
     ]
    },
    {
     "name": "stdout",
     "output_type": "stream",
     "text": [
      "INFO:tensorflow:loss = 0.574041, step = 1901\n"
     ]
    },
    {
     "name": "stderr",
     "output_type": "stream",
     "text": [
      "2017-04-03 13:54:20,253 : INFO : loss = 0.574041, step = 1901\n"
     ]
    },
    {
     "name": "stdout",
     "output_type": "stream",
     "text": [
      "INFO:tensorflow:global_step/sec: 148.948\n"
     ]
    },
    {
     "name": "stderr",
     "output_type": "stream",
     "text": [
      "2017-04-03 13:54:20,922 : INFO : global_step/sec: 148.948\n"
     ]
    },
    {
     "name": "stdout",
     "output_type": "stream",
     "text": [
      "INFO:tensorflow:loss = 0.531348, step = 2001\n"
     ]
    },
    {
     "name": "stderr",
     "output_type": "stream",
     "text": [
      "2017-04-03 13:54:20,925 : INFO : loss = 0.531348, step = 2001\n"
     ]
    },
    {
     "name": "stdout",
     "output_type": "stream",
     "text": [
      "INFO:tensorflow:global_step/sec: 148.402\n"
     ]
    },
    {
     "name": "stderr",
     "output_type": "stream",
     "text": [
      "2017-04-03 13:54:21,596 : INFO : global_step/sec: 148.402\n"
     ]
    },
    {
     "name": "stdout",
     "output_type": "stream",
     "text": [
      "INFO:tensorflow:loss = 0.621624, step = 2101\n"
     ]
    },
    {
     "name": "stderr",
     "output_type": "stream",
     "text": [
      "2017-04-03 13:54:21,599 : INFO : loss = 0.621624, step = 2101\n"
     ]
    },
    {
     "name": "stdout",
     "output_type": "stream",
     "text": [
      "INFO:tensorflow:global_step/sec: 146.529\n"
     ]
    },
    {
     "name": "stderr",
     "output_type": "stream",
     "text": [
      "2017-04-03 13:54:22,279 : INFO : global_step/sec: 146.529\n"
     ]
    },
    {
     "name": "stdout",
     "output_type": "stream",
     "text": [
      "INFO:tensorflow:loss = 0.676237, step = 2201\n"
     ]
    },
    {
     "name": "stderr",
     "output_type": "stream",
     "text": [
      "2017-04-03 13:54:22,281 : INFO : loss = 0.676237, step = 2201\n"
     ]
    },
    {
     "name": "stdout",
     "output_type": "stream",
     "text": [
      "INFO:tensorflow:global_step/sec: 143.78\n"
     ]
    },
    {
     "name": "stderr",
     "output_type": "stream",
     "text": [
      "2017-04-03 13:54:22,974 : INFO : global_step/sec: 143.78\n"
     ]
    },
    {
     "name": "stdout",
     "output_type": "stream",
     "text": [
      "INFO:tensorflow:loss = 0.592851, step = 2301\n"
     ]
    },
    {
     "name": "stderr",
     "output_type": "stream",
     "text": [
      "2017-04-03 13:54:22,977 : INFO : loss = 0.592851, step = 2301\n"
     ]
    },
    {
     "name": "stdout",
     "output_type": "stream",
     "text": [
      "INFO:tensorflow:global_step/sec: 143.239\n"
     ]
    },
    {
     "name": "stderr",
     "output_type": "stream",
     "text": [
      "2017-04-03 13:54:23,672 : INFO : global_step/sec: 143.239\n"
     ]
    },
    {
     "name": "stdout",
     "output_type": "stream",
     "text": [
      "INFO:tensorflow:loss = 0.592389, step = 2401\n"
     ]
    },
    {
     "name": "stderr",
     "output_type": "stream",
     "text": [
      "2017-04-03 13:54:23,675 : INFO : loss = 0.592389, step = 2401\n"
     ]
    },
    {
     "name": "stdout",
     "output_type": "stream",
     "text": [
      "INFO:tensorflow:global_step/sec: 145.281\n"
     ]
    },
    {
     "name": "stderr",
     "output_type": "stream",
     "text": [
      "2017-04-03 13:54:24,361 : INFO : global_step/sec: 145.281\n"
     ]
    },
    {
     "name": "stdout",
     "output_type": "stream",
     "text": [
      "INFO:tensorflow:loss = 0.660298, step = 2501\n"
     ]
    },
    {
     "name": "stderr",
     "output_type": "stream",
     "text": [
      "2017-04-03 13:54:24,363 : INFO : loss = 0.660298, step = 2501\n"
     ]
    },
    {
     "name": "stdout",
     "output_type": "stream",
     "text": [
      "INFO:tensorflow:global_step/sec: 147.296\n"
     ]
    },
    {
     "name": "stderr",
     "output_type": "stream",
     "text": [
      "2017-04-03 13:54:25,040 : INFO : global_step/sec: 147.296\n"
     ]
    },
    {
     "name": "stdout",
     "output_type": "stream",
     "text": [
      "INFO:tensorflow:loss = 0.714315, step = 2601\n"
     ]
    },
    {
     "name": "stderr",
     "output_type": "stream",
     "text": [
      "2017-04-03 13:54:25,042 : INFO : loss = 0.714315, step = 2601\n"
     ]
    },
    {
     "name": "stdout",
     "output_type": "stream",
     "text": [
      "INFO:tensorflow:global_step/sec: 143.98\n"
     ]
    },
    {
     "name": "stderr",
     "output_type": "stream",
     "text": [
      "2017-04-03 13:54:25,734 : INFO : global_step/sec: 143.98\n"
     ]
    },
    {
     "name": "stdout",
     "output_type": "stream",
     "text": [
      "INFO:tensorflow:loss = 0.742193, step = 2701\n"
     ]
    },
    {
     "name": "stderr",
     "output_type": "stream",
     "text": [
      "2017-04-03 13:54:25,737 : INFO : loss = 0.742193, step = 2701\n"
     ]
    },
    {
     "name": "stdout",
     "output_type": "stream",
     "text": [
      "INFO:tensorflow:global_step/sec: 143.791\n"
     ]
    },
    {
     "name": "stderr",
     "output_type": "stream",
     "text": [
      "2017-04-03 13:54:26,430 : INFO : global_step/sec: 143.791\n"
     ]
    },
    {
     "name": "stdout",
     "output_type": "stream",
     "text": [
      "INFO:tensorflow:loss = 0.723879, step = 2801\n"
     ]
    },
    {
     "name": "stderr",
     "output_type": "stream",
     "text": [
      "2017-04-03 13:54:26,432 : INFO : loss = 0.723879, step = 2801\n"
     ]
    },
    {
     "name": "stdout",
     "output_type": "stream",
     "text": [
      "INFO:tensorflow:global_step/sec: 143.308\n"
     ]
    },
    {
     "name": "stderr",
     "output_type": "stream",
     "text": [
      "2017-04-03 13:54:27,127 : INFO : global_step/sec: 143.308\n"
     ]
    },
    {
     "name": "stdout",
     "output_type": "stream",
     "text": [
      "INFO:tensorflow:loss = 0.684851, step = 2901\n"
     ]
    },
    {
     "name": "stderr",
     "output_type": "stream",
     "text": [
      "2017-04-03 13:54:27,130 : INFO : loss = 0.684851, step = 2901\n"
     ]
    },
    {
     "name": "stdout",
     "output_type": "stream",
     "text": [
      "INFO:tensorflow:global_step/sec: 144.507\n"
     ]
    },
    {
     "name": "stderr",
     "output_type": "stream",
     "text": [
      "2017-04-03 13:54:27,819 : INFO : global_step/sec: 144.507\n"
     ]
    },
    {
     "name": "stdout",
     "output_type": "stream",
     "text": [
      "INFO:tensorflow:loss = 0.748454, step = 3001\n"
     ]
    },
    {
     "name": "stderr",
     "output_type": "stream",
     "text": [
      "2017-04-03 13:54:27,823 : INFO : loss = 0.748454, step = 3001\n"
     ]
    },
    {
     "name": "stdout",
     "output_type": "stream",
     "text": [
      "INFO:tensorflow:global_step/sec: 144.49\n"
     ]
    },
    {
     "name": "stderr",
     "output_type": "stream",
     "text": [
      "2017-04-03 13:54:28,511 : INFO : global_step/sec: 144.49\n"
     ]
    },
    {
     "name": "stdout",
     "output_type": "stream",
     "text": [
      "INFO:tensorflow:loss = 0.515125, step = 3101\n"
     ]
    },
    {
     "name": "stderr",
     "output_type": "stream",
     "text": [
      "2017-04-03 13:54:28,515 : INFO : loss = 0.515125, step = 3101\n"
     ]
    },
    {
     "name": "stdout",
     "output_type": "stream",
     "text": [
      "INFO:tensorflow:global_step/sec: 144.357\n"
     ]
    },
    {
     "name": "stderr",
     "output_type": "stream",
     "text": [
      "2017-04-03 13:54:29,204 : INFO : global_step/sec: 144.357\n"
     ]
    },
    {
     "name": "stdout",
     "output_type": "stream",
     "text": [
      "INFO:tensorflow:loss = 0.587703, step = 3201\n"
     ]
    },
    {
     "name": "stderr",
     "output_type": "stream",
     "text": [
      "2017-04-03 13:54:29,207 : INFO : loss = 0.587703, step = 3201\n"
     ]
    },
    {
     "name": "stdout",
     "output_type": "stream",
     "text": [
      "INFO:tensorflow:global_step/sec: 138.687\n"
     ]
    },
    {
     "name": "stderr",
     "output_type": "stream",
     "text": [
      "2017-04-03 13:54:29,925 : INFO : global_step/sec: 138.687\n"
     ]
    },
    {
     "name": "stdout",
     "output_type": "stream",
     "text": [
      "INFO:tensorflow:loss = 0.493557, step = 3301\n"
     ]
    },
    {
     "name": "stderr",
     "output_type": "stream",
     "text": [
      "2017-04-03 13:54:29,928 : INFO : loss = 0.493557, step = 3301\n"
     ]
    },
    {
     "name": "stdout",
     "output_type": "stream",
     "text": [
      "INFO:tensorflow:global_step/sec: 139.41\n"
     ]
    },
    {
     "name": "stderr",
     "output_type": "stream",
     "text": [
      "2017-04-03 13:54:30,642 : INFO : global_step/sec: 139.41\n"
     ]
    },
    {
     "name": "stdout",
     "output_type": "stream",
     "text": [
      "INFO:tensorflow:loss = 0.667448, step = 3401\n"
     ]
    },
    {
     "name": "stderr",
     "output_type": "stream",
     "text": [
      "2017-04-03 13:54:30,645 : INFO : loss = 0.667448, step = 3401\n"
     ]
    },
    {
     "name": "stdout",
     "output_type": "stream",
     "text": [
      "INFO:tensorflow:global_step/sec: 141.241\n"
     ]
    },
    {
     "name": "stderr",
     "output_type": "stream",
     "text": [
      "2017-04-03 13:54:31,351 : INFO : global_step/sec: 141.241\n"
     ]
    },
    {
     "name": "stdout",
     "output_type": "stream",
     "text": [
      "INFO:tensorflow:loss = 0.582295, step = 3501\n"
     ]
    },
    {
     "name": "stderr",
     "output_type": "stream",
     "text": [
      "2017-04-03 13:54:31,354 : INFO : loss = 0.582295, step = 3501\n"
     ]
    },
    {
     "name": "stdout",
     "output_type": "stream",
     "text": [
      "INFO:tensorflow:global_step/sec: 130.192\n"
     ]
    },
    {
     "name": "stderr",
     "output_type": "stream",
     "text": [
      "2017-04-03 13:54:32,119 : INFO : global_step/sec: 130.192\n"
     ]
    },
    {
     "name": "stdout",
     "output_type": "stream",
     "text": [
      "INFO:tensorflow:loss = 0.485165, step = 3601\n"
     ]
    },
    {
     "name": "stderr",
     "output_type": "stream",
     "text": [
      "2017-04-03 13:54:32,121 : INFO : loss = 0.485165, step = 3601\n"
     ]
    },
    {
     "name": "stdout",
     "output_type": "stream",
     "text": [
      "INFO:tensorflow:global_step/sec: 141.922\n"
     ]
    },
    {
     "name": "stderr",
     "output_type": "stream",
     "text": [
      "2017-04-03 13:54:32,823 : INFO : global_step/sec: 141.922\n"
     ]
    },
    {
     "name": "stdout",
     "output_type": "stream",
     "text": [
      "INFO:tensorflow:loss = 0.484375, step = 3701\n"
     ]
    },
    {
     "name": "stderr",
     "output_type": "stream",
     "text": [
      "2017-04-03 13:54:32,826 : INFO : loss = 0.484375, step = 3701\n"
     ]
    },
    {
     "name": "stdout",
     "output_type": "stream",
     "text": [
      "INFO:tensorflow:global_step/sec: 147.036\n"
     ]
    },
    {
     "name": "stderr",
     "output_type": "stream",
     "text": [
      "2017-04-03 13:54:33,503 : INFO : global_step/sec: 147.036\n"
     ]
    },
    {
     "name": "stdout",
     "output_type": "stream",
     "text": [
      "INFO:tensorflow:loss = 0.448243, step = 3801\n"
     ]
    },
    {
     "name": "stderr",
     "output_type": "stream",
     "text": [
      "2017-04-03 13:54:33,506 : INFO : loss = 0.448243, step = 3801\n"
     ]
    },
    {
     "name": "stdout",
     "output_type": "stream",
     "text": [
      "INFO:tensorflow:global_step/sec: 148.578\n"
     ]
    },
    {
     "name": "stderr",
     "output_type": "stream",
     "text": [
      "2017-04-03 13:54:34,176 : INFO : global_step/sec: 148.578\n"
     ]
    },
    {
     "name": "stdout",
     "output_type": "stream",
     "text": [
      "INFO:tensorflow:loss = 0.738296, step = 3901\n"
     ]
    },
    {
     "name": "stderr",
     "output_type": "stream",
     "text": [
      "2017-04-03 13:54:34,180 : INFO : loss = 0.738296, step = 3901\n"
     ]
    },
    {
     "name": "stdout",
     "output_type": "stream",
     "text": [
      "INFO:tensorflow:Saving checkpoints for 4000 into /tmp/tmpxxrTpI/model.ckpt.\n"
     ]
    },
    {
     "name": "stderr",
     "output_type": "stream",
     "text": [
      "2017-04-03 13:54:34,847 : INFO : Saving checkpoints for 4000 into /tmp/tmpxxrTpI/model.ckpt.\n"
     ]
    },
    {
     "name": "stdout",
     "output_type": "stream",
     "text": [
      "INFO:tensorflow:Loss for final step: 0.71049.\n"
     ]
    },
    {
     "name": "stderr",
     "output_type": "stream",
     "text": [
      "2017-04-03 13:54:35,132 : INFO : Loss for final step: 0.71049.\n"
     ]
    },
    {
     "name": "stdout",
     "output_type": "stream",
     "text": [
      "WARNING:tensorflow:float64 is not supported by many models, consider casting to float32.\n"
     ]
    },
    {
     "name": "stderr",
     "output_type": "stream",
     "text": [
      "2017-04-03 13:54:35,243 : WARNING : float64 is not supported by many models, consider casting to float32.\n",
      "2017-04-03 13:54:35,802 : WARNING : Run accuracy: 0.812335594628\n",
      "2017-04-03 13:54:35,811 : WARNING : Cat accuracies:\n",
      "[0.21212121212121213, 0.942072710816111, 0.012698412698412698, 0.30120481927710846, 0.7112506035731531, 0.4672489082969432, 0.1310344827586207, 0.732776617954071, 0.0, 0.0, 0.896, 0.0, 0.2857142857142857, 0.8604483007953724]\n"
     ]
    }
   ],
   "source": [
    "# classifier training and eval:\n",
    "\n",
    "accuracies = []\n",
    "cat_accuracies = pd.DataFrame(columns=d2v_wrapper.content_categories)\n",
    "correct_logits = pd.DataFrame(columns=[\"actual_prob\", \"expected_prob\", \"actual_class\", \"expected_class\"])\n",
    "wrong_docs_ids = pd.Series()\n",
    "\n",
    "# evaluation on CV split persisting the categories respective size on each split\n",
    "strat_kfold = StratifiedKFold(n_splits=2 if TEST_MODE else 5, shuffle=True)\n",
    "\n",
    "for train_doc_indices, test_doc_indices in strat_kfold.split(doc_vectors, doc_labels):\n",
    "    \n",
    "    random.shuffle(train_doc_indices)\n",
    "    random.shuffle(test_doc_indices)\n",
    "    \n",
    "    train_vectors = doc_vectors.iloc[train_doc_indices]\n",
    "\n",
    "    y_true = doc_labels.iloc[train_doc_indices]\n",
    "    \n",
    "    # \n",
    "    tf_dataset = dataset_from_dataframe(train_vectors, y_true)\n",
    "    \n",
    "    # columns are initialized as Tensors for TF\n",
    "    feature_columns = [tf.contrib.layers.real_valued_column(\"\", dimension=doc_vectors.shape[1])]\n",
    "    \n",
    "    # init model:\n",
    "    # model consists of two layers as described in [2]\n",
    "    # 1. dense, fully-connected layer with relu act. function\n",
    "    # 2. softmax output layer for classification and further relevance scoring\n",
    "    two_layer_nn_classifier = SKCompat(tf.contrib.learn.DNNClassifier(feature_columns=feature_columns,\n",
    "                                                                  hidden_units=[doc_vectors.shape[1] / 2],\n",
    "                                                                  activation_fn=tf.nn.relu,\n",
    "                                                                  dropout=0.05,\n",
    "                                                                  n_classes=len(d2v_wrapper.content_categories),\n",
    "                                                                  optimizer=\"Adam\"))\n",
    "    # model training\n",
    "    two_layer_nn_classifier.fit(x=tf_dataset.data,\n",
    "                                y=tf_dataset.target,\n",
    "                                steps=500 if TEST_MODE else 4000)\n",
    "\n",
    "    # testing\n",
    "    # can be used to infer the relative relevance (or score) of the document for categories    \n",
    "    logits = two_layer_nn_classifier.predict(doc_vectors.iloc[test_doc_indices])\n",
    "    \n",
    "    y_actual = decode_categories(pd.Series(logits[\"classes\"])).values\n",
    "    y_expected = doc_labels.iloc[test_doc_indices].values\n",
    "\n",
    "    # evaluation:\n",
    "    # logits\n",
    "    actual_prob = logits[\"probabilities\"][np.arange(len(logits[\"probabilities\"])),(logits[\"classes\"])]\n",
    "    expected_prob = logits[\"probabilities\"][np.arange(len(logits[\"probabilities\"])),(encode_categories(pd.Series(y_expected)))]\n",
    "    new_logits = pd.DataFrame()\n",
    "    new_logits[\"actual_prob\"] = actual_prob\n",
    "    new_logits[\"expected_prob\"] = expected_prob\n",
    "    new_logits[\"actual_class\"] = y_actual\n",
    "    new_logits[\"expected_class\"] = y_expected\n",
    "    correct_logits = correct_logits.append(new_logits)\n",
    "    \n",
    "    # accuracy\n",
    "    split_accuracy = accuracy_score(y_expected, y_actual)\n",
    "    logging.warn(\"Run accuracy: %s\" % split_accuracy)\n",
    "    accuracies.append(split_accuracy)\n",
    "    split_cat_accuracies = map(lambda cat: accuracy_for_category(y_expected, y_actual, cat),\n",
    "                               d2v_wrapper.content_categories)\n",
    "    logging.warn(\"Cat accuracies:\\n%s\" % split_cat_accuracies)\n",
    "    cat_accuracies = cat_accuracies.append(\n",
    "        pd.DataFrame(data=[split_cat_accuracies], columns=d2v_wrapper.content_categories))\n",
    "    \n",
    "    # misclassified docs collection\n",
    "    wrong_docs_ids = wrong_docs_ids.append(pd.Series(test_doc_indices[y_actual != y_expected]))"
   ]
  },
  {
   "cell_type": "code",
   "execution_count": 8,
   "metadata": {
    "collapsed": false
   },
   "outputs": [
    {
     "name": "stderr",
     "output_type": "stream",
     "text": [
      "2017-04-03 13:54:44,944 : INFO : split accuracies: [0.81294964028776984, 0.81192914475505118, 0.8175778546712803, 0.81652709530071288, 0.81233559462827076]\n",
      "2017-04-03 13:54:44,945 : INFO : mean accuracy: 0.814263865929\n",
      "2017-04-03 13:54:44,953 : INFO : categories accuracies: \n",
      "        amq       eap  webserver  datagrid      fuse      brms  bpmsuite  \\\n",
      "0  0.000000  0.947360   0.006329  0.416667  0.770270  0.320261  0.494845   \n",
      "0  0.186869  0.915686   0.332278  0.373494  0.811776  0.441048  0.262069   \n",
      "0  0.005051  0.920211   0.335443  0.180723  0.842664  0.427948  0.020690   \n",
      "0  0.060606  0.934389   0.139241  0.373494  0.837355  0.550218  0.134483   \n",
      "0  0.212121  0.942073   0.012698  0.301205  0.711251  0.467249  0.131034   \n",
      "\n",
      "   devstudio  cdk  developertoolset    rhel  softwarecollections  \\\n",
      "0   0.700418  0.0               0.0  0.8850                  0.0   \n",
      "0   0.688935  0.0               0.0  0.8895                  0.0   \n",
      "0   0.703549  0.0               0.0  0.8960                  0.0   \n",
      "0   0.558455  0.0               0.0  0.9065                  0.0   \n",
      "0   0.732777  0.0               0.0  0.8960                  0.0   \n",
      "\n",
      "   mobileplatform  openshift  \n",
      "0        0.000000   0.799133  \n",
      "0        0.000000   0.788865  \n",
      "0        0.000000   0.851048  \n",
      "0        0.000000   0.825741  \n",
      "0        0.285714   0.860448  \n",
      "2017-04-03 13:54:44,971 : INFO : categories accuracies mean: \n",
      "amq                    0.092929\n",
      "eap                    0.931944\n",
      "webserver              0.165198\n",
      "datagrid               0.329116\n",
      "fuse                   0.794663\n",
      "brms                   0.441345\n",
      "bpmsuite               0.208624\n",
      "devstudio              0.676827\n",
      "cdk                    0.000000\n",
      "developertoolset       0.000000\n",
      "rhel                   0.894600\n",
      "softwarecollections    0.000000\n",
      "mobileplatform         0.057143\n",
      "openshift              0.825047\n",
      "dtype: float64\n",
      "2017-04-03 13:54:44,972 : INFO : done\n"
     ]
    }
   ],
   "source": [
    "logging.info(\"split accuracies: %s\" % accuracies)\n",
    "logging.info(\"mean accuracy: %s\" % np.mean(accuracies))\n",
    "logging.info(\"categories accuracies: \\n%s\" % cat_accuracies)\n",
    "logging.info(\"categories accuracies mean: \\n%s\" % cat_accuracies.mean())\n",
    "logging.info(\"done\")"
   ]
  },
  {
   "cell_type": "code",
   "execution_count": 9,
   "metadata": {
    "collapsed": false,
    "scrolled": false
   },
   "outputs": [
    {
     "data": {
      "text/html": [
       "<div>\n",
       "<table border=\"1\" class=\"dataframe\">\n",
       "  <thead>\n",
       "    <tr style=\"text-align: right;\">\n",
       "      <th></th>\n",
       "      <th>label</th>\n",
       "      <th>accuracy</th>\n",
       "      <th>size</th>\n",
       "    </tr>\n",
       "  </thead>\n",
       "  <tbody>\n",
       "    <tr>\n",
       "      <th>11</th>\n",
       "      <td>softwarecollections</td>\n",
       "      <td>0.000000</td>\n",
       "      <td>7</td>\n",
       "    </tr>\n",
       "    <tr>\n",
       "      <th>9</th>\n",
       "      <td>developertoolset</td>\n",
       "      <td>0.000000</td>\n",
       "      <td>15</td>\n",
       "    </tr>\n",
       "    <tr>\n",
       "      <th>8</th>\n",
       "      <td>cdk</td>\n",
       "      <td>0.000000</td>\n",
       "      <td>112</td>\n",
       "    </tr>\n",
       "    <tr>\n",
       "      <th>12</th>\n",
       "      <td>mobileplatform</td>\n",
       "      <td>0.057143</td>\n",
       "      <td>178</td>\n",
       "    </tr>\n",
       "    <tr>\n",
       "      <th>3</th>\n",
       "      <td>datagrid</td>\n",
       "      <td>0.329116</td>\n",
       "      <td>416</td>\n",
       "    </tr>\n",
       "    <tr>\n",
       "      <th>0</th>\n",
       "      <td>amq</td>\n",
       "      <td>0.092929</td>\n",
       "      <td>990</td>\n",
       "    </tr>\n",
       "    <tr>\n",
       "      <th>6</th>\n",
       "      <td>bpmsuite</td>\n",
       "      <td>0.208624</td>\n",
       "      <td>1451</td>\n",
       "    </tr>\n",
       "    <tr>\n",
       "      <th>2</th>\n",
       "      <td>webserver</td>\n",
       "      <td>0.165198</td>\n",
       "      <td>1579</td>\n",
       "    </tr>\n",
       "    <tr>\n",
       "      <th>5</th>\n",
       "      <td>brms</td>\n",
       "      <td>0.441345</td>\n",
       "      <td>2291</td>\n",
       "    </tr>\n",
       "    <tr>\n",
       "      <th>7</th>\n",
       "      <td>devstudio</td>\n",
       "      <td>0.676827</td>\n",
       "      <td>4790</td>\n",
       "    </tr>\n",
       "    <tr>\n",
       "      <th>13</th>\n",
       "      <td>openshift</td>\n",
       "      <td>0.825047</td>\n",
       "      <td>6916</td>\n",
       "    </tr>\n",
       "    <tr>\n",
       "      <th>10</th>\n",
       "      <td>rhel</td>\n",
       "      <td>0.894600</td>\n",
       "      <td>10000</td>\n",
       "    </tr>\n",
       "    <tr>\n",
       "      <th>4</th>\n",
       "      <td>fuse</td>\n",
       "      <td>0.794663</td>\n",
       "      <td>10359</td>\n",
       "    </tr>\n",
       "    <tr>\n",
       "      <th>1</th>\n",
       "      <td>eap</td>\n",
       "      <td>0.931944</td>\n",
       "      <td>33149</td>\n",
       "    </tr>\n",
       "  </tbody>\n",
       "</table>\n",
       "</div>"
      ],
      "text/plain": [
       "                  label  accuracy   size\n",
       "11  softwarecollections  0.000000      7\n",
       "9      developertoolset  0.000000     15\n",
       "8                   cdk  0.000000    112\n",
       "12       mobileplatform  0.057143    178\n",
       "3              datagrid  0.329116    416\n",
       "0                   amq  0.092929    990\n",
       "6              bpmsuite  0.208624   1451\n",
       "2             webserver  0.165198   1579\n",
       "5                  brms  0.441345   2291\n",
       "7             devstudio  0.676827   4790\n",
       "13            openshift  0.825047   6916\n",
       "10                 rhel  0.894600  10000\n",
       "4                  fuse  0.794663  10359\n",
       "1                   eap  0.931944  33149"
      ]
     },
     "execution_count": 9,
     "metadata": {},
     "output_type": "execute_result"
    }
   ],
   "source": [
    "# accuracies of categories together with their size\n",
    "\n",
    "labels_size = pd.DataFrame()\n",
    "labels_size[\"label\"] = doc_labels.unique()\n",
    "labels_size[\"accuracy\"] = cat_accuracies.mean().values\n",
    "labels_size[\"size\"] = [len(doc_labels[doc_labels == cat]) for cat in labels_size[\"label\"]]\n",
    "labels_size = labels_size.sort_values(by=[\"size\"])\n",
    "\n",
    "labels_size"
   ]
  },
  {
   "cell_type": "code",
   "execution_count": 12,
   "metadata": {
    "collapsed": false,
    "scrolled": false
   },
   "outputs": [
    {
     "data": {
      "text/html": [
       "<div>\n",
       "<table border=\"1\" class=\"dataframe\">\n",
       "  <thead>\n",
       "    <tr style=\"text-align: right;\">\n",
       "      <th></th>\n",
       "      <th>actual_prob</th>\n",
       "      <th>expected_prob</th>\n",
       "      <th>actual_class</th>\n",
       "      <th>expected_class</th>\n",
       "    </tr>\n",
       "  </thead>\n",
       "  <tbody>\n",
       "    <tr>\n",
       "      <th>0</th>\n",
       "      <td>0.991115</td>\n",
       "      <td>0.991115</td>\n",
       "      <td>eap</td>\n",
       "      <td>eap</td>\n",
       "    </tr>\n",
       "    <tr>\n",
       "      <th>1</th>\n",
       "      <td>0.653593</td>\n",
       "      <td>0.653593</td>\n",
       "      <td>fuse</td>\n",
       "      <td>fuse</td>\n",
       "    </tr>\n",
       "    <tr>\n",
       "      <th>2</th>\n",
       "      <td>0.952051</td>\n",
       "      <td>0.952051</td>\n",
       "      <td>rhel</td>\n",
       "      <td>rhel</td>\n",
       "    </tr>\n",
       "    <tr>\n",
       "      <th>3</th>\n",
       "      <td>0.998362</td>\n",
       "      <td>0.998362</td>\n",
       "      <td>eap</td>\n",
       "      <td>eap</td>\n",
       "    </tr>\n",
       "    <tr>\n",
       "      <th>4</th>\n",
       "      <td>0.791805</td>\n",
       "      <td>0.791805</td>\n",
       "      <td>eap</td>\n",
       "      <td>eap</td>\n",
       "    </tr>\n",
       "    <tr>\n",
       "      <th>5</th>\n",
       "      <td>0.998235</td>\n",
       "      <td>0.998235</td>\n",
       "      <td>eap</td>\n",
       "      <td>eap</td>\n",
       "    </tr>\n",
       "    <tr>\n",
       "      <th>6</th>\n",
       "      <td>0.867547</td>\n",
       "      <td>0.867547</td>\n",
       "      <td>fuse</td>\n",
       "      <td>fuse</td>\n",
       "    </tr>\n",
       "    <tr>\n",
       "      <th>7</th>\n",
       "      <td>0.852719</td>\n",
       "      <td>0.852719</td>\n",
       "      <td>devstudio</td>\n",
       "      <td>devstudio</td>\n",
       "    </tr>\n",
       "    <tr>\n",
       "      <th>8</th>\n",
       "      <td>0.984243</td>\n",
       "      <td>0.984243</td>\n",
       "      <td>eap</td>\n",
       "      <td>eap</td>\n",
       "    </tr>\n",
       "    <tr>\n",
       "      <th>9</th>\n",
       "      <td>0.916819</td>\n",
       "      <td>0.916819</td>\n",
       "      <td>fuse</td>\n",
       "      <td>fuse</td>\n",
       "    </tr>\n",
       "    <tr>\n",
       "      <th>10</th>\n",
       "      <td>0.349047</td>\n",
       "      <td>0.194453</td>\n",
       "      <td>eap</td>\n",
       "      <td>fuse</td>\n",
       "    </tr>\n",
       "    <tr>\n",
       "      <th>11</th>\n",
       "      <td>0.999995</td>\n",
       "      <td>0.999995</td>\n",
       "      <td>eap</td>\n",
       "      <td>eap</td>\n",
       "    </tr>\n",
       "    <tr>\n",
       "      <th>12</th>\n",
       "      <td>0.999943</td>\n",
       "      <td>0.999943</td>\n",
       "      <td>eap</td>\n",
       "      <td>eap</td>\n",
       "    </tr>\n",
       "    <tr>\n",
       "      <th>13</th>\n",
       "      <td>0.993443</td>\n",
       "      <td>0.993443</td>\n",
       "      <td>eap</td>\n",
       "      <td>eap</td>\n",
       "    </tr>\n",
       "    <tr>\n",
       "      <th>14</th>\n",
       "      <td>0.981178</td>\n",
       "      <td>0.981178</td>\n",
       "      <td>eap</td>\n",
       "      <td>eap</td>\n",
       "    </tr>\n",
       "    <tr>\n",
       "      <th>15</th>\n",
       "      <td>0.958254</td>\n",
       "      <td>0.958254</td>\n",
       "      <td>eap</td>\n",
       "      <td>eap</td>\n",
       "    </tr>\n",
       "    <tr>\n",
       "      <th>16</th>\n",
       "      <td>0.999477</td>\n",
       "      <td>0.999477</td>\n",
       "      <td>fuse</td>\n",
       "      <td>fuse</td>\n",
       "    </tr>\n",
       "    <tr>\n",
       "      <th>17</th>\n",
       "      <td>0.999998</td>\n",
       "      <td>0.999998</td>\n",
       "      <td>eap</td>\n",
       "      <td>eap</td>\n",
       "    </tr>\n",
       "    <tr>\n",
       "      <th>18</th>\n",
       "      <td>0.999998</td>\n",
       "      <td>0.999998</td>\n",
       "      <td>fuse</td>\n",
       "      <td>fuse</td>\n",
       "    </tr>\n",
       "    <tr>\n",
       "      <th>19</th>\n",
       "      <td>0.999930</td>\n",
       "      <td>0.999930</td>\n",
       "      <td>eap</td>\n",
       "      <td>eap</td>\n",
       "    </tr>\n",
       "    <tr>\n",
       "      <th>20</th>\n",
       "      <td>0.996883</td>\n",
       "      <td>0.996883</td>\n",
       "      <td>eap</td>\n",
       "      <td>eap</td>\n",
       "    </tr>\n",
       "    <tr>\n",
       "      <th>21</th>\n",
       "      <td>0.787710</td>\n",
       "      <td>0.787710</td>\n",
       "      <td>fuse</td>\n",
       "      <td>fuse</td>\n",
       "    </tr>\n",
       "    <tr>\n",
       "      <th>22</th>\n",
       "      <td>0.987433</td>\n",
       "      <td>0.987433</td>\n",
       "      <td>rhel</td>\n",
       "      <td>rhel</td>\n",
       "    </tr>\n",
       "    <tr>\n",
       "      <th>23</th>\n",
       "      <td>0.999141</td>\n",
       "      <td>0.999141</td>\n",
       "      <td>fuse</td>\n",
       "      <td>fuse</td>\n",
       "    </tr>\n",
       "    <tr>\n",
       "      <th>24</th>\n",
       "      <td>0.974589</td>\n",
       "      <td>0.974589</td>\n",
       "      <td>eap</td>\n",
       "      <td>eap</td>\n",
       "    </tr>\n",
       "  </tbody>\n",
       "</table>\n",
       "</div>"
      ],
      "text/plain": [
       "    actual_prob  expected_prob actual_class expected_class\n",
       "0      0.991115       0.991115          eap            eap\n",
       "1      0.653593       0.653593         fuse           fuse\n",
       "2      0.952051       0.952051         rhel           rhel\n",
       "3      0.998362       0.998362          eap            eap\n",
       "4      0.791805       0.791805          eap            eap\n",
       "5      0.998235       0.998235          eap            eap\n",
       "6      0.867547       0.867547         fuse           fuse\n",
       "7      0.852719       0.852719    devstudio      devstudio\n",
       "8      0.984243       0.984243          eap            eap\n",
       "9      0.916819       0.916819         fuse           fuse\n",
       "10     0.349047       0.194453          eap           fuse\n",
       "11     0.999995       0.999995          eap            eap\n",
       "12     0.999943       0.999943          eap            eap\n",
       "13     0.993443       0.993443          eap            eap\n",
       "14     0.981178       0.981178          eap            eap\n",
       "15     0.958254       0.958254          eap            eap\n",
       "16     0.999477       0.999477         fuse           fuse\n",
       "17     0.999998       0.999998          eap            eap\n",
       "18     0.999998       0.999998         fuse           fuse\n",
       "19     0.999930       0.999930          eap            eap\n",
       "20     0.996883       0.996883          eap            eap\n",
       "21     0.787710       0.787710         fuse           fuse\n",
       "22     0.987433       0.987433         rhel           rhel\n",
       "23     0.999141       0.999141         fuse           fuse\n",
       "24     0.974589       0.974589          eap            eap"
      ]
     },
     "execution_count": 12,
     "metadata": {},
     "output_type": "execute_result"
    }
   ],
   "source": [
    "# computed actual_prob probabilities might be used as ranking system of the relevance of documents towards categories\n",
    "# expected_* marks the real category and its probability estimated by the model, \n",
    "# whereas actual_* marks the selected category (=mostly probable) by the model \n",
    "correct_logits.head(25)"
   ]
  },
  {
   "cell_type": "code",
   "execution_count": 10,
   "metadata": {
    "collapsed": false,
    "scrolled": false
   },
   "outputs": [
    {
     "data": {
      "text/plain": [
       "array(['eap', 'fuse', 'rhel', 'devstudio', 'openshift', 'brms'], dtype=object)"
      ]
     },
     "execution_count": 10,
     "metadata": {},
     "output_type": "execute_result"
    }
   ],
   "source": [
    "biggest_cats = labels_size[\"label\"][-6:]\n",
    "biggest_cats_df = correct_logits[correct_logits[\"expected_class\"].isin(biggest_cats)]\n",
    "biggest_cats_df[\"expected_class\"].unique()"
   ]
  },
  {
   "cell_type": "code",
   "execution_count": 14,
   "metadata": {
    "collapsed": false,
    "scrolled": true
   },
   "outputs": [
    {
     "data": {
      "text/plain": [
       "<matplotlib.axes.AxesSubplot at 0x7ff4103623d0>"
      ]
     },
     "execution_count": 14,
     "metadata": {},
     "output_type": "execute_result"
    },
    {
     "data": {
      "image/png": "[encoded data removed]",
      "text/plain": [
       "<matplotlib.figure.Figure at 0x7ff410361a10>"
      ]
     },
     "metadata": {},
     "output_type": "display_data"
    }
   ],
   "source": [
    "# boxplot visualization of the scores of documents against its own category (biggest 6 classes)\n",
    "# the higher the better\n",
    "# we see that it goes much better for bigger categories\n",
    "\n",
    "# boxplot: 50% of data in box, 90% in dashed intervals\n",
    "%matplotlib inline\n",
    "import matplotlib.pyplot as plt\n",
    "\n",
    "join_label_size = labels_size\n",
    "join_label_size[\"expected_class\"] = join_label_size[\"label\"]\n",
    "\n",
    "biggest_cats_df.boxplot(\"expected_prob\", by=\"expected_class\", figsize=(10,6))"
   ]
  },
  {
   "cell_type": "code",
   "execution_count": null,
   "metadata": {
    "collapsed": true
   },
   "outputs": [],
   "source": []
  }
 ],
 "metadata": {
  "kernelspec": {
   "display_name": "Python 2",
   "language": "python",
   "name": "python2"
  },
  "language_info": {
   "codemirror_mode": {
    "name": "ipython",
    "version": 2
   },
   "file_extension": ".py",
   "mimetype": "text/x-python",
   "name": "python",
   "nbconvert_exporter": "python",
   "pygments_lexer": "ipython2",
   "version": "2.7.8"
  }
 },
 "nbformat": 4,
 "nbformat_minor": 0
}
