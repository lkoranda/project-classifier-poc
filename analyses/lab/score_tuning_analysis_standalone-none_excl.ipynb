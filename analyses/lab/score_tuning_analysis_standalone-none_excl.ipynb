{
 "cells": [
  {
   "cell_type": "markdown",
   "metadata": {},
   "source": [
    "### Scoring evaluation - irrelevant content NOT included\n",
    "\n",
    "The notebook illustrates the behavior of the scores as inferred by the service trained WITHOUT any irrelevant content.\n",
    "\n",
    "It is meant to be compared with the variant trained on the irrelevant dataset together with others.\n",
    "\n",
    "The used service is a result of training in stratified 5-CV splits, thus 1/5 of the data was left out of training."
   ]
  },
  {
   "cell_type": "code",
   "execution_count": 1,
   "metadata": {
    "collapsed": true
   },
   "outputs": [],
   "source": [
    "from sklearn.externals import joblib\n",
    "from search_service import RelevanceSearchService\n",
    "import numpy as np\n",
    "import pandas as pd"
   ]
  },
  {
   "cell_type": "code",
   "execution_count": 2,
   "metadata": {
    "collapsed": false
   },
   "outputs": [],
   "source": [
    "from dependencies.scores_tuner import ScoreTuner"
   ]
  },
  {
   "cell_type": "code",
   "execution_count": 3,
   "metadata": {
    "collapsed": false
   },
   "outputs": [
    {
     "name": "stderr",
     "output_type": "stream",
     "text": [
      "2017-08-03 15:21:17,592 : INFO : Loading serialized wrapper model from: training/trained_service_prod\n",
      "2017-08-03 15:21:17,592 : INFO : Loading trained Doc2Vec model\n",
      "2017-08-03 15:21:17,593 : INFO : loading Doc2Vec object from training/trained_service_prod/doc2vec.mod\n",
      "2017-08-03 15:21:17,805 : INFO : loading docvecs recursively from training/trained_service_prod/doc2vec.mod.docvecs.* with mmap=None\n",
      "2017-08-03 15:21:17,806 : INFO : loading doctag_syn0 from training/trained_service_prod/doc2vec.mod.docvecs.doctag_syn0.npy with mmap=None\n",
      "2017-08-03 15:21:18,303 : INFO : loading syn1neg from training/trained_service_prod/doc2vec.mod.syn1neg.npy with mmap=None\n",
      "2017-08-03 15:21:18,694 : INFO : loading syn0 from training/trained_service_prod/doc2vec.mod.syn0.npy with mmap=None\n",
      "2017-08-03 15:21:19,074 : INFO : setting ignored attribute syn0norm to None\n",
      "2017-08-03 15:21:19,075 : INFO : setting ignored attribute cum_table to None\n",
      "2017-08-03 15:21:19,165 : INFO : Loading pickled classifier from training/trained_service_prod/logistic_regression.mod\n",
      "2017-08-03 15:21:19,169 : INFO : Loading score tuner from training/trained_service_prod/score_tuner.mod\n",
      "2017-08-03 15:21:19,171 : INFO : Loading model metadata from training/trained_service_prod/metadata.mod\n"
     ]
    }
   ],
   "source": [
    "service = RelevanceSearchService()\n",
    "service.load_trained_model(\"training/trained_service_prod\")"
   ]
  },
  {
   "cell_type": "code",
   "execution_count": 5,
   "metadata": {
    "collapsed": false,
    "scrolled": true
   },
   "outputs": [
    {
     "data": {
      "text/html": [
       "<div>\n",
       "<table border=\"1\" class=\"dataframe\">\n",
       "  <thead>\n",
       "    <tr style=\"text-align: right;\">\n",
       "      <th></th>\n",
       "      <th>None</th>\n",
       "      <th>amq</th>\n",
       "      <th>bpmsuite</th>\n",
       "      <th>brms</th>\n",
       "      <th>cdk</th>\n",
       "      <th>datagrid</th>\n",
       "      <th>developertoolset</th>\n",
       "      <th>devstudio</th>\n",
       "      <th>eap</th>\n",
       "      <th>fsw</th>\n",
       "      <th>fuse</th>\n",
       "      <th>mobileplatform</th>\n",
       "      <th>openshift</th>\n",
       "      <th>rhel</th>\n",
       "      <th>softwarecollections</th>\n",
       "      <th>webserver</th>\n",
       "    </tr>\n",
       "  </thead>\n",
       "  <tbody>\n",
       "    <tr>\n",
       "      <th>count</th>\n",
       "      <td>4.872200e+04</td>\n",
       "      <td>4.872200e+04</td>\n",
       "      <td>4.872200e+04</td>\n",
       "      <td>4.872200e+04</td>\n",
       "      <td>4.872200e+04</td>\n",
       "      <td>4.872200e+04</td>\n",
       "      <td>4.872200e+04</td>\n",
       "      <td>4.872200e+04</td>\n",
       "      <td>4.872200e+04</td>\n",
       "      <td>4.872200e+04</td>\n",
       "      <td>4.872200e+04</td>\n",
       "      <td>4.872200e+04</td>\n",
       "      <td>4.872200e+04</td>\n",
       "      <td>4.872200e+04</td>\n",
       "      <td>48722.000000</td>\n",
       "      <td>4.872200e+04</td>\n",
       "    </tr>\n",
       "    <tr>\n",
       "      <th>mean</th>\n",
       "      <td>1.479477e-01</td>\n",
       "      <td>7.998972e-03</td>\n",
       "      <td>2.127933e-02</td>\n",
       "      <td>1.580305e-02</td>\n",
       "      <td>1.077862e-03</td>\n",
       "      <td>5.485645e-03</td>\n",
       "      <td>2.168935e-04</td>\n",
       "      <td>6.836005e-02</td>\n",
       "      <td>3.678084e-01</td>\n",
       "      <td>6.781634e-03</td>\n",
       "      <td>1.466706e-01</td>\n",
       "      <td>2.046915e-03</td>\n",
       "      <td>6.947018e-02</td>\n",
       "      <td>1.202281e-01</td>\n",
       "      <td>0.000077</td>\n",
       "      <td>1.874779e-02</td>\n",
       "    </tr>\n",
       "    <tr>\n",
       "      <th>std</th>\n",
       "      <td>3.446841e-01</td>\n",
       "      <td>4.625455e-02</td>\n",
       "      <td>1.026283e-01</td>\n",
       "      <td>7.644379e-02</td>\n",
       "      <td>1.415555e-02</td>\n",
       "      <td>4.020588e-02</td>\n",
       "      <td>3.559140e-03</td>\n",
       "      <td>2.050593e-01</td>\n",
       "      <td>4.206183e-01</td>\n",
       "      <td>4.534626e-02</td>\n",
       "      <td>3.024137e-01</td>\n",
       "      <td>2.191284e-02</td>\n",
       "      <td>2.239586e-01</td>\n",
       "      <td>3.010371e-01</td>\n",
       "      <td>0.000194</td>\n",
       "      <td>8.141389e-02</td>\n",
       "    </tr>\n",
       "    <tr>\n",
       "      <th>min</th>\n",
       "      <td>2.426913e-13</td>\n",
       "      <td>1.423270e-09</td>\n",
       "      <td>1.328238e-09</td>\n",
       "      <td>2.375641e-09</td>\n",
       "      <td>4.264328e-08</td>\n",
       "      <td>7.910501e-10</td>\n",
       "      <td>6.855771e-07</td>\n",
       "      <td>4.188493e-10</td>\n",
       "      <td>3.119012e-09</td>\n",
       "      <td>2.491475e-09</td>\n",
       "      <td>1.324065e-09</td>\n",
       "      <td>4.164445e-08</td>\n",
       "      <td>8.812609e-11</td>\n",
       "      <td>5.913139e-11</td>\n",
       "      <td>0.000001</td>\n",
       "      <td>5.738734e-10</td>\n",
       "    </tr>\n",
       "    <tr>\n",
       "      <th>25%</th>\n",
       "      <td>9.398786e-05</td>\n",
       "      <td>1.346436e-04</td>\n",
       "      <td>1.290859e-04</td>\n",
       "      <td>1.139752e-04</td>\n",
       "      <td>5.742673e-05</td>\n",
       "      <td>7.525475e-05</td>\n",
       "      <td>5.777047e-05</td>\n",
       "      <td>3.877934e-04</td>\n",
       "      <td>4.053093e-03</td>\n",
       "      <td>9.477217e-05</td>\n",
       "      <td>7.170889e-04</td>\n",
       "      <td>6.792997e-05</td>\n",
       "      <td>1.417092e-04</td>\n",
       "      <td>1.821272e-05</td>\n",
       "      <td>0.000034</td>\n",
       "      <td>2.266379e-04</td>\n",
       "    </tr>\n",
       "    <tr>\n",
       "      <th>50%</th>\n",
       "      <td>4.303510e-04</td>\n",
       "      <td>6.255685e-04</td>\n",
       "      <td>5.861493e-04</td>\n",
       "      <td>8.154267e-04</td>\n",
       "      <td>1.531184e-04</td>\n",
       "      <td>3.815831e-04</td>\n",
       "      <td>1.092197e-04</td>\n",
       "      <td>2.180537e-03</td>\n",
       "      <td>6.625246e-02</td>\n",
       "      <td>3.918162e-04</td>\n",
       "      <td>6.176589e-03</td>\n",
       "      <td>2.338751e-04</td>\n",
       "      <td>9.843814e-04</td>\n",
       "      <td>1.740966e-04</td>\n",
       "      <td>0.000052</td>\n",
       "      <td>1.280394e-03</td>\n",
       "    </tr>\n",
       "    <tr>\n",
       "      <th>75%</th>\n",
       "      <td>2.429775e-03</td>\n",
       "      <td>2.405676e-03</td>\n",
       "      <td>2.856986e-03</td>\n",
       "      <td>4.249499e-03</td>\n",
       "      <td>4.126921e-04</td>\n",
       "      <td>1.509849e-03</td>\n",
       "      <td>1.980958e-04</td>\n",
       "      <td>1.299264e-02</td>\n",
       "      <td>8.938779e-01</td>\n",
       "      <td>1.805333e-03</td>\n",
       "      <td>5.782144e-02</td>\n",
       "      <td>7.216714e-04</td>\n",
       "      <td>6.773912e-03</td>\n",
       "      <td>2.314419e-03</td>\n",
       "      <td>0.000086</td>\n",
       "      <td>6.136527e-03</td>\n",
       "    </tr>\n",
       "    <tr>\n",
       "      <th>max</th>\n",
       "      <td>9.997483e-01</td>\n",
       "      <td>9.417549e-01</td>\n",
       "      <td>9.877011e-01</td>\n",
       "      <td>9.843612e-01</td>\n",
       "      <td>8.625818e-01</td>\n",
       "      <td>9.727634e-01</td>\n",
       "      <td>5.432264e-01</td>\n",
       "      <td>9.992747e-01</td>\n",
       "      <td>9.997905e-01</td>\n",
       "      <td>9.278629e-01</td>\n",
       "      <td>9.999139e-01</td>\n",
       "      <td>8.927543e-01</td>\n",
       "      <td>9.987339e-01</td>\n",
       "      <td>9.948660e-01</td>\n",
       "      <td>0.025251</td>\n",
       "      <td>9.725906e-01</td>\n",
       "    </tr>\n",
       "  </tbody>\n",
       "</table>\n",
       "</div>"
      ],
      "text/plain": [
       "               None           amq      bpmsuite          brms           cdk  \\\n",
       "count  4.872200e+04  4.872200e+04  4.872200e+04  4.872200e+04  4.872200e+04   \n",
       "mean   1.479477e-01  7.998972e-03  2.127933e-02  1.580305e-02  1.077862e-03   \n",
       "std    3.446841e-01  4.625455e-02  1.026283e-01  7.644379e-02  1.415555e-02   \n",
       "min    2.426913e-13  1.423270e-09  1.328238e-09  2.375641e-09  4.264328e-08   \n",
       "25%    9.398786e-05  1.346436e-04  1.290859e-04  1.139752e-04  5.742673e-05   \n",
       "50%    4.303510e-04  6.255685e-04  5.861493e-04  8.154267e-04  1.531184e-04   \n",
       "75%    2.429775e-03  2.405676e-03  2.856986e-03  4.249499e-03  4.126921e-04   \n",
       "max    9.997483e-01  9.417549e-01  9.877011e-01  9.843612e-01  8.625818e-01   \n",
       "\n",
       "           datagrid  developertoolset     devstudio           eap  \\\n",
       "count  4.872200e+04      4.872200e+04  4.872200e+04  4.872200e+04   \n",
       "mean   5.485645e-03      2.168935e-04  6.836005e-02  3.678084e-01   \n",
       "std    4.020588e-02      3.559140e-03  2.050593e-01  4.206183e-01   \n",
       "min    7.910501e-10      6.855771e-07  4.188493e-10  3.119012e-09   \n",
       "25%    7.525475e-05      5.777047e-05  3.877934e-04  4.053093e-03   \n",
       "50%    3.815831e-04      1.092197e-04  2.180537e-03  6.625246e-02   \n",
       "75%    1.509849e-03      1.980958e-04  1.299264e-02  8.938779e-01   \n",
       "max    9.727634e-01      5.432264e-01  9.992747e-01  9.997905e-01   \n",
       "\n",
       "                fsw          fuse  mobileplatform     openshift          rhel  \\\n",
       "count  4.872200e+04  4.872200e+04    4.872200e+04  4.872200e+04  4.872200e+04   \n",
       "mean   6.781634e-03  1.466706e-01    2.046915e-03  6.947018e-02  1.202281e-01   \n",
       "std    4.534626e-02  3.024137e-01    2.191284e-02  2.239586e-01  3.010371e-01   \n",
       "min    2.491475e-09  1.324065e-09    4.164445e-08  8.812609e-11  5.913139e-11   \n",
       "25%    9.477217e-05  7.170889e-04    6.792997e-05  1.417092e-04  1.821272e-05   \n",
       "50%    3.918162e-04  6.176589e-03    2.338751e-04  9.843814e-04  1.740966e-04   \n",
       "75%    1.805333e-03  5.782144e-02    7.216714e-04  6.773912e-03  2.314419e-03   \n",
       "max    9.278629e-01  9.999139e-01    8.927543e-01  9.987339e-01  9.948660e-01   \n",
       "\n",
       "       softwarecollections     webserver  \n",
       "count         48722.000000  4.872200e+04  \n",
       "mean              0.000077  1.874779e-02  \n",
       "std               0.000194  8.141389e-02  \n",
       "min               0.000001  5.738734e-10  \n",
       "25%               0.000034  2.266379e-04  \n",
       "50%               0.000052  1.280394e-03  \n",
       "75%               0.000086  6.136527e-03  \n",
       "max               0.025251  9.725906e-01  "
      ]
     },
     "execution_count": 5,
     "metadata": {},
     "output_type": "execute_result"
    }
   ],
   "source": [
    "original_scores_df = joblib.load(\"training/original_inferred_scores.dump\")\n",
    "original_scores_df.describe()"
   ]
  },
  {
   "cell_type": "code",
   "execution_count": 6,
   "metadata": {
    "collapsed": false,
    "scrolled": true
   },
   "outputs": [
    {
     "name": "stderr",
     "output_type": "stream",
     "text": [
      "2017-08-03 15:27:20,301 : INFO : Categories size: \n",
      "eap                    17368\n",
      "None                    7459\n",
      "fuse                    7099\n",
      "rhel                    5990\n",
      "openshift               3490\n",
      "devstudio               3297\n",
      "bpmsuite                1091\n",
      "webserver                906\n",
      "brms                     787\n",
      "amq                      403\n",
      "fsw                      355\n",
      "datagrid                 299\n",
      "mobileplatform           100\n",
      "cdk                       62\n",
      "developertoolset          11\n",
      "softwarecollections        5\n",
      "Name: y, dtype: int64\n",
      "2017-08-03 15:27:20,303 : WARNING : Categories f-score betas as scaled by cat sizes: \n",
      "eap                    0.191614\n",
      "None                   0.247519\n",
      "fuse                   0.251121\n",
      "rhel                   0.263802\n",
      "openshift              0.307638\n",
      "devstudio              0.312595\n",
      "bpmsuite               0.424974\n",
      "webserver              0.447437\n",
      "brms                   0.465294\n",
      "amq                    0.561632\n",
      "fsw                    0.582361\n",
      "datagrid               0.611892\n",
      "mobileplatform         0.852126\n",
      "cdk                    0.996948\n",
      "developertoolset       2.003052\n",
      "softwarecollections    3.179414\n",
      "Name: y, dtype: float64\n",
      "2017-08-03 15:27:20,304 : INFO : Tuning f_score of cat eap for beta 0.191614314214 by 48722 scores\n",
      "2017-08-03 15:27:20,481 : INFO : Threshold for category eap converged in 23 steps to 0.873612593106 with f(beta)= 0.96008467865\n",
      "2017-08-03 15:27:20,482 : INFO : Tuning f_score of cat None for beta 0.247518886118 by 48722 scores\n",
      "2017-08-03 15:27:20,661 : INFO : Threshold for category None converged in 25 steps to 0.506737552638 with f(beta)= 0.999252218475\n",
      "2017-08-03 15:27:20,662 : INFO : Tuning f_score of cat fuse for beta 0.251120917505 by 48722 scores\n",
      "2017-08-03 15:27:20,791 : INFO : Threshold for category fuse converged in 18 steps to 0.750638750333 with f(beta)= 0.946337432819\n",
      "2017-08-03 15:27:20,792 : INFO : Tuning f_score of cat rhel for beta 0.263801562349 by 48722 scores\n",
      "2017-08-03 15:27:20,920 : INFO : Threshold for category rhel converged in 18 steps to 0.855069992679 with f(beta)= 0.967957436745\n",
      "2017-08-03 15:27:20,921 : INFO : Tuning f_score of cat openshift for beta 0.307638081885 by 48722 scores\n",
      "2017-08-03 15:27:21,039 : INFO : Threshold for category openshift converged in 17 steps to 0.670520686368 with f(beta)= 0.960416334386\n",
      "2017-08-03 15:27:21,040 : INFO : Tuning f_score of cat devstudio for beta 0.312594887486 by 48722 scores\n",
      "2017-08-03 15:27:21,220 : INFO : Threshold for category devstudio converged in 27 steps to 0.653940350255 with f(beta)= 0.924294103603\n",
      "2017-08-03 15:27:21,220 : INFO : Tuning f_score of cat bpmsuite for beta 0.424973946476 by 48722 scores\n",
      "2017-08-03 15:27:21,352 : INFO : Threshold for category bpmsuite converged in 18 steps to 0.539641743948 with f(beta)= 0.773725781334\n",
      "2017-08-03 15:27:21,354 : INFO : Tuning f_score of cat webserver for beta 0.447437238446 by 48722 scores\n",
      "2017-08-03 15:27:21,636 : INFO : Threshold for category webserver converged in 23 steps to 0.458628621171 with f(beta)= 0.707901911048\n",
      "2017-08-03 15:27:21,637 : INFO : Tuning f_score of cat brms for beta 0.465294194842 by 48722 scores\n",
      "2017-08-03 15:27:21,819 : INFO : Threshold for category brms converged in 19 steps to 0.440987181098 with f(beta)= 0.699664973663\n",
      "2017-08-03 15:27:21,820 : INFO : Tuning f_score of cat amq for beta 0.56163220682 by 48722 scores\n",
      "2017-08-03 15:27:22,001 : INFO : Threshold for category amq converged in 22 steps to 0.337092487628 with f(beta)= 0.526659263876\n",
      "2017-08-03 15:27:22,002 : INFO : Tuning f_score of cat fsw for beta 0.582361356768 by 48722 scores\n",
      "2017-08-03 15:27:22,125 : INFO : Threshold for category fsw converged in 15 steps to 0.381971578443 with f(beta)= 0.674649038359\n",
      "2017-08-03 15:27:22,126 : INFO : Tuning f_score of cat datagrid for beta 0.611891709814 by 48722 scores\n",
      "2017-08-03 15:27:22,309 : INFO : Threshold for category datagrid converged in 20 steps to 0.357065407042 with f(beta)= 0.742569055784\n",
      "2017-08-03 15:27:22,310 : INFO : Tuning f_score of cat mobileplatform for beta 0.852126098844 by 48722 scores\n",
      "2017-08-03 15:27:22,481 : INFO : Threshold for category mobileplatform converged in 21 steps to 0.228719111221 with f(beta)= 0.83627602701\n",
      "2017-08-03 15:27:22,482 : INFO : Tuning f_score of cat cdk for beta 0.99694761974 by 48722 scores\n",
      "2017-08-03 15:27:22,629 : INFO : Threshold for category cdk converged in 21 steps to 0.236073568728 with f(beta)= 0.571892405391\n",
      "2017-08-03 15:27:22,630 : INFO : Tuning f_score of cat developertoolset for beta 2.00305238026 by 48722 scores\n",
      "2017-08-03 15:27:22,801 : INFO : Threshold for category developertoolset converged in 26 steps to 0.999994039139 with f(beta)= 0\n",
      "2017-08-03 15:27:22,802 : INFO : Tuning f_score of cat softwarecollections for beta 3.17941373426 by 48722 scores\n",
      "2017-08-03 15:27:22,990 : INFO : Threshold for category softwarecollections converged in 26 steps to 0.999994039139 with f(beta)= 0\n",
      "2017-08-03 15:27:22,992 : INFO : Original categories thresholds tuned to:\n",
      "eap                    0.873613\n",
      "None                   0.506738\n",
      "fuse                   0.750639\n",
      "rhel                   0.855070\n",
      "openshift              0.670521\n",
      "devstudio              0.653940\n",
      "bpmsuite               0.539642\n",
      "webserver              0.458629\n",
      "brms                   0.440987\n",
      "amq                    0.337092\n",
      "fsw                    0.381972\n",
      "datagrid               0.357065\n",
      "mobileplatform         0.228719\n",
      "cdk                    0.236074\n",
      "developertoolset       0.999994\n",
      "softwarecollections    0.999994\n",
      "dtype: float64\n"
     ]
    }
   ],
   "source": [
    "custom_score_tuner = ScoreTuner()\n",
    "custom_score_tuner.target_beta_scaling = [0.2, 1.5]\n",
    "custom_score_tuner.train_categories_thresholds(original_scores_df[\"y\"], original_scores_df[service.model_categories])\n",
    "custom_score_tuner.cats_original_thresholds\n",
    "service.score_tuner = custom_score_tuner"
   ]
  },
  {
   "cell_type": "code",
   "execution_count": 7,
   "metadata": {
    "collapsed": false
   },
   "outputs": [
    {
     "name": "stderr",
     "output_type": "stream",
     "text": [
      "2017-08-03 15:27:31,289 : INFO : Tuning probs of 48722 docs\n"
     ]
    }
   ],
   "source": [
    "scores_df = service.score_tuner.tune_all_scores(original_scores_df[service.model_categories])\n",
    "scores_df[\"y\"] = original_scores_df[\"y\"]"
   ]
  },
  {
   "cell_type": "code",
   "execution_count": 8,
   "metadata": {
    "collapsed": false
   },
   "outputs": [
    {
     "data": {
      "text/plain": [
       "eap                    0.873613\n",
       "None                   0.506738\n",
       "fuse                   0.750639\n",
       "rhel                   0.855070\n",
       "openshift              0.670521\n",
       "devstudio              0.653940\n",
       "bpmsuite               0.539642\n",
       "webserver              0.458629\n",
       "brms                   0.440987\n",
       "amq                    0.337092\n",
       "fsw                    0.381972\n",
       "datagrid               0.357065\n",
       "mobileplatform         0.228719\n",
       "cdk                    0.236074\n",
       "developertoolset       0.999994\n",
       "softwarecollections    0.999994\n",
       "dtype: float64"
      ]
     },
     "execution_count": 8,
     "metadata": {},
     "output_type": "execute_result"
    }
   ],
   "source": [
    "service.score_tuner.cats_original_thresholds"
   ]
  },
  {
   "cell_type": "code",
   "execution_count": 9,
   "metadata": {
    "collapsed": false
   },
   "outputs": [
    {
     "data": {
      "text/plain": [
       "[0.2, 1.5]"
      ]
     },
     "execution_count": 9,
     "metadata": {},
     "output_type": "execute_result"
    }
   ],
   "source": [
    "service.score_tuner.target_beta_scaling"
   ]
  },
  {
   "cell_type": "code",
   "execution_count": 10,
   "metadata": {
    "collapsed": false
   },
   "outputs": [
    {
     "data": {
      "text/plain": [
       "48722"
      ]
     },
     "execution_count": 10,
     "metadata": {},
     "output_type": "execute_result"
    }
   ],
   "source": [
    "len(scores_df)"
   ]
  },
  {
   "cell_type": "code",
   "execution_count": 11,
   "metadata": {
    "collapsed": false,
    "scrolled": true
   },
   "outputs": [
    {
     "data": {
      "text/plain": [
       "(0.971338799908039, 0.7297904191616766)"
      ]
     },
     "execution_count": 11,
     "metadata": {},
     "output_type": "execute_result"
    }
   ],
   "source": [
    "service.score_tuner.precision_recall_for_category(scores_df[\"y\"], scores_df[\"eap\"], \"eap\", 0.5)"
   ]
  },
  {
   "cell_type": "code",
   "execution_count": 12,
   "metadata": {
    "collapsed": false,
    "scrolled": false
   },
   "outputs": [
    {
     "name": "stderr",
     "output_type": "stream",
     "text": [
      "2017-08-03 15:27:32,122 : INFO : Categories size: \n",
      "eap                    17368\n",
      "None                    7459\n",
      "fuse                    7099\n",
      "rhel                    5990\n",
      "openshift               3490\n",
      "devstudio               3297\n",
      "bpmsuite                1091\n",
      "webserver                906\n",
      "brms                     787\n",
      "amq                      403\n",
      "fsw                      355\n",
      "datagrid                 299\n",
      "mobileplatform           100\n",
      "cdk                       62\n",
      "developertoolset          11\n",
      "softwarecollections        5\n",
      "Name: y, dtype: int64\n",
      "2017-08-03 15:27:32,124 : WARNING : Categories f-score betas as scaled by cat sizes: \n",
      "eap                    0.191614\n",
      "None                   0.247519\n",
      "fuse                   0.251121\n",
      "rhel                   0.263802\n",
      "openshift              0.307638\n",
      "devstudio              0.312595\n",
      "bpmsuite               0.424974\n",
      "webserver              0.447437\n",
      "brms                   0.465294\n",
      "amq                    0.561632\n",
      "fsw                    0.582361\n",
      "datagrid               0.611892\n",
      "mobileplatform         0.852126\n",
      "cdk                    0.996948\n",
      "developertoolset       2.003052\n",
      "softwarecollections    3.179414\n",
      "Name: y, dtype: float64\n"
     ]
    },
    {
     "data": {
      "text/plain": [
       "0.19161431421442737"
      ]
     },
     "execution_count": 12,
     "metadata": {},
     "output_type": "execute_result"
    }
   ],
   "source": [
    "service.score_tuner.beta_for_categories_provider(scores_df[\"y\"])[\"eap\"]"
   ]
  },
  {
   "cell_type": "code",
   "execution_count": 13,
   "metadata": {
    "collapsed": false
   },
   "outputs": [],
   "source": [
    "# true scores distribution for categories: 1. before tuning, 2. after tuning\n",
    "true_docs_scores_tuned = pd.DataFrame(columns=[\"cat\", \"score\"])\n",
    "\n",
    "for cat in set(scores_df.columns)-{\"y\"}:\n",
    "    new_scores = scores_df.ix[scores_df[\"y\"]==cat, cat]\n",
    "    new_cat = [cat]*len(new_scores)\n",
    "    new_df = pd.DataFrame()\n",
    "    new_df[\"score\"] = new_scores\n",
    "    new_df[\"cat\"] = new_cat\n",
    "    true_docs_scores_tuned = true_docs_scores_tuned.append(new_df)"
   ]
  },
  {
   "cell_type": "markdown",
   "metadata": {},
   "source": [
    "### Scoring of the categorized documents towards their TRUE category"
   ]
  },
  {
   "cell_type": "code",
   "execution_count": 14,
   "metadata": {
    "collapsed": false
   },
   "outputs": [
    {
     "data": {
      "text/plain": [
       "<matplotlib.axes.AxesSubplot at 0x7f8969b27190>"
      ]
     },
     "execution_count": 14,
     "metadata": {},
     "output_type": "execute_result"
    },
    {
     "data": {
      "image/png": "[encoded data removed]",
      "text/plain": [
       "<matplotlib.figure.Figure at 0x7f8969b12b90>"
      ]
     },
     "metadata": {},
     "output_type": "display_data"
    }
   ],
   "source": [
    "%matplotlib inline\n",
    "true_docs_scores_tuned.boxplot(\"score\", by=\"cat\", figsize=(10,5), rot=60)"
   ]
  },
  {
   "cell_type": "code",
   "execution_count": 15,
   "metadata": {
    "collapsed": false
   },
   "outputs": [],
   "source": [
    "# true scores distribution for categories: 1. before tuning, 2. after tuning\n",
    "false_docs_scores_tuned = pd.DataFrame(columns=[\"cat\", \"score\"])\n",
    "\n",
    "for cat in set(scores_df.columns)-{\"y\"}:\n",
    "    new_scores = scores_df.ix[scores_df[\"y\"]!=cat, cat]\n",
    "    new_cat = [cat]*len(new_scores)\n",
    "    new_df = pd.DataFrame()\n",
    "    new_df[\"score\"] = new_scores\n",
    "    new_df[\"cat\"] = new_cat\n",
    "    false_docs_scores_tuned = false_docs_scores_tuned.append(new_df)"
   ]
  },
  {
   "cell_type": "markdown",
   "metadata": {},
   "source": [
    "### Scoring of the categorized documents towards their FALSE categories"
   ]
  },
  {
   "cell_type": "code",
   "execution_count": 16,
   "metadata": {
    "collapsed": false
   },
   "outputs": [
    {
     "data": {
      "text/plain": [
       "<matplotlib.axes.AxesSubplot at 0x7f8969861d10>"
      ]
     },
     "execution_count": 16,
     "metadata": {},
     "output_type": "execute_result"
    },
    {
     "data": {
      "image/png": "[encoded data removed]",
      "text/plain": [
       "<matplotlib.figure.Figure at 0x7f89697490d0>"
      ]
     },
     "metadata": {},
     "output_type": "display_data"
    }
   ],
   "source": [
    "%matplotlib inline\n",
    "false_docs_scores_tuned.boxplot(\"score\", by=\"cat\", figsize=(10,5), rot=60)"
   ]
  },
  {
   "cell_type": "markdown",
   "metadata": {},
   "source": [
    "### Average scoring of the documents toward FALSE categories in relation to the content size"
   ]
  },
  {
   "cell_type": "code",
   "execution_count": 17,
   "metadata": {
    "collapsed": false,
    "scrolled": false
   },
   "outputs": [],
   "source": [
    "false_docs_scores_tuned[\"score\"] = false_docs_scores_tuned[\"score\"].apply(lambda x: float(x))"
   ]
  },
  {
   "cell_type": "code",
   "execution_count": 18,
   "metadata": {
    "collapsed": false
   },
   "outputs": [],
   "source": [
    "# false_docs_scores_tuned[false_docs_scores_tuned[\"cat\"] == \"none\"][\"cat\"] = \"None\""
   ]
  },
  {
   "cell_type": "code",
   "execution_count": 19,
   "metadata": {
    "collapsed": false
   },
   "outputs": [],
   "source": [
    "# drops off categories with no content in evaluation set if there are any\n",
    "false_docs_scores_tuned = false_docs_scores_tuned.dropna(subset=[\"score\"])"
   ]
  },
  {
   "cell_type": "code",
   "execution_count": 20,
   "metadata": {
    "collapsed": false
   },
   "outputs": [
    {
     "data": {
      "text/html": [
       "<div>\n",
       "<table border=\"1\" class=\"dataframe\">\n",
       "  <thead>\n",
       "    <tr style=\"text-align: right;\">\n",
       "      <th></th>\n",
       "      <th>mean_score</th>\n",
       "      <th>cat_size</th>\n",
       "    </tr>\n",
       "  </thead>\n",
       "  <tbody>\n",
       "    <tr>\n",
       "      <th>softwarecollections</th>\n",
       "      <td>0.000038</td>\n",
       "      <td>5</td>\n",
       "    </tr>\n",
       "    <tr>\n",
       "      <th>developertoolset</th>\n",
       "      <td>0.000105</td>\n",
       "      <td>11</td>\n",
       "    </tr>\n",
       "    <tr>\n",
       "      <th>cdk</th>\n",
       "      <td>0.001592</td>\n",
       "      <td>62</td>\n",
       "    </tr>\n",
       "    <tr>\n",
       "      <th>mobileplatform</th>\n",
       "      <td>0.002721</td>\n",
       "      <td>100</td>\n",
       "    </tr>\n",
       "    <tr>\n",
       "      <th>datagrid</th>\n",
       "      <td>0.004475</td>\n",
       "      <td>299</td>\n",
       "    </tr>\n",
       "    <tr>\n",
       "      <th>fsw</th>\n",
       "      <td>0.005420</td>\n",
       "      <td>355</td>\n",
       "    </tr>\n",
       "    <tr>\n",
       "      <th>amq</th>\n",
       "      <td>0.008167</td>\n",
       "      <td>403</td>\n",
       "    </tr>\n",
       "    <tr>\n",
       "      <th>brms</th>\n",
       "      <td>0.010241</td>\n",
       "      <td>787</td>\n",
       "    </tr>\n",
       "    <tr>\n",
       "      <th>webserver</th>\n",
       "      <td>0.012134</td>\n",
       "      <td>906</td>\n",
       "    </tr>\n",
       "    <tr>\n",
       "      <th>bpmsuite</th>\n",
       "      <td>0.008595</td>\n",
       "      <td>1091</td>\n",
       "    </tr>\n",
       "    <tr>\n",
       "      <th>devstudio</th>\n",
       "      <td>0.015890</td>\n",
       "      <td>3297</td>\n",
       "    </tr>\n",
       "    <tr>\n",
       "      <th>openshift</th>\n",
       "      <td>0.009391</td>\n",
       "      <td>3490</td>\n",
       "    </tr>\n",
       "    <tr>\n",
       "      <th>rhel</th>\n",
       "      <td>0.007562</td>\n",
       "      <td>5990</td>\n",
       "    </tr>\n",
       "    <tr>\n",
       "      <th>fuse</th>\n",
       "      <td>0.023890</td>\n",
       "      <td>7099</td>\n",
       "    </tr>\n",
       "    <tr>\n",
       "      <th>None</th>\n",
       "      <td>0.002108</td>\n",
       "      <td>7459</td>\n",
       "    </tr>\n",
       "    <tr>\n",
       "      <th>eap</th>\n",
       "      <td>0.051192</td>\n",
       "      <td>17368</td>\n",
       "    </tr>\n",
       "  </tbody>\n",
       "</table>\n",
       "</div>"
      ],
      "text/plain": [
       "                     mean_score  cat_size\n",
       "softwarecollections    0.000038         5\n",
       "developertoolset       0.000105        11\n",
       "cdk                    0.001592        62\n",
       "mobileplatform         0.002721       100\n",
       "datagrid               0.004475       299\n",
       "fsw                    0.005420       355\n",
       "amq                    0.008167       403\n",
       "brms                   0.010241       787\n",
       "webserver              0.012134       906\n",
       "bpmsuite               0.008595      1091\n",
       "devstudio              0.015890      3297\n",
       "openshift              0.009391      3490\n",
       "rhel                   0.007562      5990\n",
       "fuse                   0.023890      7099\n",
       "None                   0.002108      7459\n",
       "eap                    0.051192     17368"
      ]
     },
     "execution_count": 20,
     "metadata": {},
     "output_type": "execute_result"
    }
   ],
   "source": [
    "# negative mean scores for categories\n",
    "cat_meta = pd.DataFrame(index=false_docs_scores_tuned[\"cat\"].unique())\n",
    "cat_meta[\"mean_score\"] = false_docs_scores_tuned.groupby(by=\"cat\").apply(np.mean)\n",
    "cat_meta[\"cat_size\"] = true_docs_scores_tuned.groupby(by=\"cat\").count()\n",
    "cat_meta.sort_values(by=\"cat_size\")"
   ]
  },
  {
   "cell_type": "markdown",
   "metadata": {},
   "source": [
    "### Performance evaluation of the system on original categories\n",
    "\n",
    "Performance of category is F-score of given category scores with precision/recall weighted by categories selected betas \n",
    "\n"
   ]
  },
  {
   "cell_type": "code",
   "execution_count": 21,
   "metadata": {
    "collapsed": false
   },
   "outputs": [
    {
     "name": "stderr",
     "output_type": "stream",
     "text": [
      "2017-08-03 15:28:01,142 : INFO : Categories size: \n",
      "eap                    17368\n",
      "fuse                    7099\n",
      "rhel                    5990\n",
      "openshift               3490\n",
      "devstudio               3297\n",
      "bpmsuite                1091\n",
      "webserver                906\n",
      "brms                     787\n",
      "amq                      403\n",
      "fsw                      355\n",
      "datagrid                 299\n",
      "cdk                       62\n",
      "developertoolset          11\n",
      "softwarecollections        5\n",
      "Name: y, dtype: int64\n",
      "2017-08-03 15:28:01,144 : WARNING : Categories f-score betas as scaled by cat sizes: \n",
      "eap                    0.193304\n",
      "fuse                   0.244812\n",
      "rhel                   0.255788\n",
      "openshift              0.293733\n",
      "devstudio              0.298023\n",
      "bpmsuite               0.395297\n",
      "webserver              0.414741\n",
      "brms                   0.430198\n",
      "amq                    0.513587\n",
      "fsw                    0.531530\n",
      "datagrid               0.557091\n",
      "cdk                    0.890390\n",
      "developertoolset       1.761261\n",
      "softwarecollections    2.779505\n",
      "Name: y, dtype: float64\n"
     ]
    },
    {
     "data": {
      "text/plain": [
       "softwarecollections    0.000000\n",
       "brms                   0.706213\n",
       "bpmsuite               0.779660\n",
       "devstudio              0.927303\n",
       "cdk                    0.589505\n",
       "datagrid               0.754431\n",
       "webserver              0.715666\n",
       "fuse                   0.947119\n",
       "rhel                   0.968810\n",
       "fsw                    0.686296\n",
       "amq                    0.532896\n",
       "eap                    0.960245\n",
       "developertoolset       0.000000\n",
       "openshift              0.961854\n",
       "dtype: float64"
      ]
     },
     "execution_count": 21,
     "metadata": {},
     "output_type": "execute_result"
    }
   ],
   "source": [
    "taken_categories = set(scores_df.columns) - {\"None\", \"mobileplatform\"}\n",
    "scores_df_no_nans = scores_df.loc[scores_df[\"y\"].isin(taken_categories), list(taken_categories)]\n",
    "scores_df_filtered = scores_df_no_nans[list(taken_categories-{\"y\"})].applymap(float)\n",
    "y_filtered = scores_df_no_nans[\"y\"]\n",
    "\n",
    "cats_betas = service.score_tuner.beta_for_categories_provider(y_filtered)\n",
    "categories = pd.Series(scores_df_filtered.columns)\n",
    "\n",
    "cats_perf = categories.apply(lambda cat: service.score_tuner.f_score_for_category(y_filtered, \n",
    "                                                                                  scores_df_filtered[cat], \n",
    "                                                                                  cat,\n",
    "                                                                                  0.5,\n",
    "                                                                                  cats_betas[cat]))\n",
    "cats_perf.index = categories\n",
    "# particular categories performance\n",
    "cats_perf"
   ]
  },
  {
   "cell_type": "markdown",
   "metadata": {},
   "source": [
    "The categories performance is very similar to the service trained also on irrelevant content."
   ]
  },
  {
   "cell_type": "markdown",
   "metadata": {},
   "source": [
    "## Overall performance on relevant categories' dataset as defined in ScoreTuner:\n",
    "\n",
    "Performance is also based on the selected beta for categories, so it really **depends on the target beta scaling**"
   ]
  },
  {
   "cell_type": "markdown",
   "metadata": {},
   "source": [
    "## Negative samples scoring\n",
    "\n",
    "We evaluate the scoring towards categories on a content which is obviously not relevant to any of the categories\n",
    "Here we attempt to reach the lowest possible score, optimally balanced amongst the categories.\n",
    "\n",
    "We take the trained score service from the last split of the big dijunctive evaluation - service trained on 4/5 of content.\n",
    "\n",
    "The service uses as unrelevant content the movie reviews dataset (25000 reviews) from IMDB.\n",
    "\n",
    "Here, for evaluation on distinct negative sample we use:\n",
    "\n",
    "1) Set of 5000 political tweets from twitter.\n",
    "\n",
    "2) Set of 20000 economical news articles.\n",
    "\n",
    "The category of evaluation dataset and its random or latent relevance towards the training categories' content might cause a certain level of bias to the scoring."
   ]
  },
  {
   "cell_type": "code",
   "execution_count": 22,
   "metadata": {
    "collapsed": false
   },
   "outputs": [
    {
     "name": "stderr",
     "output_type": "stream",
     "text": [
      "2017-08-03 15:28:01,378 : INFO : Categories size: \n",
      "eap                    17368\n",
      "fuse                    7099\n",
      "rhel                    5990\n",
      "openshift               3490\n",
      "devstudio               3297\n",
      "bpmsuite                1091\n",
      "webserver                906\n",
      "brms                     787\n",
      "amq                      403\n",
      "fsw                      355\n",
      "datagrid                 299\n",
      "cdk                       62\n",
      "developertoolset          11\n",
      "softwarecollections        5\n",
      "Name: y, dtype: int64\n",
      "2017-08-03 15:28:01,380 : WARNING : Categories f-score betas as scaled by cat sizes: \n",
      "eap                    0.193304\n",
      "fuse                   0.244812\n",
      "rhel                   0.255788\n",
      "openshift              0.293733\n",
      "devstudio              0.298023\n",
      "bpmsuite               0.395297\n",
      "webserver              0.414741\n",
      "brms                   0.430198\n",
      "amq                    0.513587\n",
      "fsw                    0.531530\n",
      "datagrid               0.557091\n",
      "cdk                    0.890390\n",
      "developertoolset       1.761261\n",
      "softwarecollections    2.779505\n",
      "Name: y, dtype: float64\n",
      "2017-08-03 15:28:01,490 : INFO : EVAL: categories performance: \n",
      "softwarecollections    0.000000\n",
      "brms                   0.706213\n",
      "bpmsuite               0.779660\n",
      "devstudio              0.927303\n",
      "cdk                    0.589505\n",
      "datagrid               0.754431\n",
      "webserver              0.715666\n",
      "fuse                   0.947119\n",
      "rhel                   0.968810\n",
      "fsw                    0.686296\n",
      "amq                    0.532896\n",
      "eap                    0.960245\n",
      "developertoolset       0.000000\n",
      "openshift              0.961854\n",
      "dtype: float64\n",
      "2017-08-03 15:28:01,497 : WARNING : Cats performance weights: \n",
      "eap                    131.787708\n",
      "fuse                    84.255564\n",
      "rhel                    77.395090\n",
      "openshift               59.076222\n",
      "devstudio               57.419509\n",
      "bpmsuite                33.030289\n",
      "webserver               30.099834\n",
      "brms                    28.053520\n",
      "amq                     20.074860\n",
      "fsw                     18.841444\n",
      "datagrid                17.291616\n",
      "cdk                      7.874008\n",
      "developertoolset         3.316625\n",
      "softwarecollections      2.236068\n",
      "Name: y, dtype: float64\n"
     ]
    },
    {
     "data": {
      "text/plain": [
       "0.58310968150240372"
      ]
     },
     "execution_count": 22,
     "metadata": {},
     "output_type": "execute_result"
    }
   ],
   "source": [
    "service.score_tuner.evaluate_trained(y_filtered, scores_df_filtered)"
   ]
  },
  {
   "cell_type": "code",
   "execution_count": 23,
   "metadata": {
    "collapsed": true
   },
   "outputs": [],
   "source": [
    "from search_service import RelevanceSearchService\n",
    "from dependencies.scores_tuner import ScoreTuner"
   ]
  },
  {
   "cell_type": "code",
   "execution_count": 24,
   "metadata": {
    "collapsed": false
   },
   "outputs": [],
   "source": [
    "eval_service = service"
   ]
  },
  {
   "cell_type": "code",
   "execution_count": 25,
   "metadata": {
    "collapsed": false
   },
   "outputs": [
    {
     "data": {
      "text/plain": [
       "eap                    0.873613\n",
       "None                   0.506738\n",
       "fuse                   0.750639\n",
       "rhel                   0.855070\n",
       "openshift              0.670521\n",
       "devstudio              0.653940\n",
       "bpmsuite               0.539642\n",
       "webserver              0.458629\n",
       "brms                   0.440987\n",
       "amq                    0.337092\n",
       "fsw                    0.381972\n",
       "datagrid               0.357065\n",
       "mobileplatform         0.228719\n",
       "cdk                    0.236074\n",
       "developertoolset       0.999994\n",
       "softwarecollections    0.999994\n",
       "dtype: float64"
      ]
     },
     "execution_count": 25,
     "metadata": {},
     "output_type": "execute_result"
    }
   ],
   "source": [
    "eval_service.score_tuner.cats_original_thresholds"
   ]
  },
  {
   "cell_type": "markdown",
   "metadata": {},
   "source": [
    "### Political tweets dataset"
   ]
  },
  {
   "cell_type": "code",
   "execution_count": 26,
   "metadata": {
    "collapsed": false
   },
   "outputs": [
    {
     "data": {
      "text/plain": [
       "0    RT @nowthisnews: Rep. Trey Radel (R- #FL) slam...\n",
       "1    VIDEO - #Obamacare:  Full of Higher Costs and ...\n",
       "2    Please join me today in remembering our fallen...\n",
       "3    RT @SenatorLeahy: 1st step toward Senate debat...\n",
       "4    .@amazon delivery #drones show need to update ...\n",
       "Name: text, dtype: object"
      ]
     },
     "execution_count": 26,
     "metadata": {},
     "output_type": "execute_result"
    }
   ],
   "source": [
    "neg_samples_csv = pd.read_csv(\"../../data/content/experimental/eval_set/Political-media-DFE.csv\")\n",
    "neg_samples_csv[\"text\"].head()"
   ]
  },
  {
   "cell_type": "code",
   "execution_count": 27,
   "metadata": {
    "collapsed": true
   },
   "outputs": [],
   "source": [
    "def take_first_n_words(text, n=5):\n",
    "    n_words = text.split()[:n]\n",
    "    return reduce(lambda w_one, w_two: \"%s %s\" % (w_one, w_two), n_words)\n",
    "\n",
    "def replace_non_ascii(str):\n",
    "    return ''.join([i if ord(i) < 128 else ' ' for i in str])"
   ]
  },
  {
   "cell_type": "code",
   "execution_count": 28,
   "metadata": {
    "collapsed": false
   },
   "outputs": [
    {
     "data": {
      "text/html": [
       "<div>\n",
       "<table border=\"1\" class=\"dataframe\">\n",
       "  <thead>\n",
       "    <tr style=\"text-align: right;\">\n",
       "      <th></th>\n",
       "      <th>id</th>\n",
       "      <th>doc_header</th>\n",
       "      <th>doc_content</th>\n",
       "    </tr>\n",
       "  </thead>\n",
       "  <tbody>\n",
       "    <tr>\n",
       "      <th>0</th>\n",
       "      <td>766192484</td>\n",
       "      <td>RT @nowthisnews: Rep. Trey Radel</td>\n",
       "      <td>RT @nowthisnews: Rep. Trey Radel (R- #FL) slam...</td>\n",
       "    </tr>\n",
       "    <tr>\n",
       "      <th>1</th>\n",
       "      <td>766192485</td>\n",
       "      <td>VIDEO - #Obamacare: Full of</td>\n",
       "      <td>VIDEO - #Obamacare:  Full of Higher Costs and ...</td>\n",
       "    </tr>\n",
       "    <tr>\n",
       "      <th>2</th>\n",
       "      <td>766192486</td>\n",
       "      <td>Please join me today in</td>\n",
       "      <td>Please join me today in remembering our fallen...</td>\n",
       "    </tr>\n",
       "    <tr>\n",
       "      <th>3</th>\n",
       "      <td>766192487</td>\n",
       "      <td>RT @SenatorLeahy: 1st step toward</td>\n",
       "      <td>RT @SenatorLeahy: 1st step toward Senate debat...</td>\n",
       "    </tr>\n",
       "    <tr>\n",
       "      <th>4</th>\n",
       "      <td>766192488</td>\n",
       "      <td>.@amazon delivery #drones show need</td>\n",
       "      <td>.@amazon delivery #drones show need to update ...</td>\n",
       "    </tr>\n",
       "  </tbody>\n",
       "</table>\n",
       "</div>"
      ],
      "text/plain": [
       "          id                           doc_header  \\\n",
       "0  766192484     RT @nowthisnews: Rep. Trey Radel   \n",
       "1  766192485          VIDEO - #Obamacare: Full of   \n",
       "2  766192486              Please join me today in   \n",
       "3  766192487    RT @SenatorLeahy: 1st step toward   \n",
       "4  766192488  .@amazon delivery #drones show need   \n",
       "\n",
       "                                         doc_content  \n",
       "0  RT @nowthisnews: Rep. Trey Radel (R- #FL) slam...  \n",
       "1  VIDEO - #Obamacare:  Full of Higher Costs and ...  \n",
       "2  Please join me today in remembering our fallen...  \n",
       "3  RT @SenatorLeahy: 1st step toward Senate debat...  \n",
       "4  .@amazon delivery #drones show need to update ...  "
      ]
     },
     "execution_count": 28,
     "metadata": {},
     "output_type": "execute_result"
    }
   ],
   "source": [
    "neg_samples_df = pd.DataFrame(columns=[\"id\", \"doc_header\", \"doc_content\"])\n",
    "# TODO: set limit here if needed\n",
    "neg_samples_df[[\"id\", \"doc_content\"]] = neg_samples_csv[[\"_unit_id\", \"text\"]]\n",
    "# set first 5 words as document headers\n",
    "neg_samples_df[\"doc_header\"] = neg_samples_df[\"doc_content\"].apply(lambda content: take_first_n_words(content, n=5))\n",
    "neg_samples_df[\"doc_content\"] = neg_samples_df[\"doc_content\"].apply(replace_non_ascii)\n",
    "neg_samples_df[\"doc_header\"] = neg_samples_df[\"doc_header\"].apply(replace_non_ascii)\n",
    "neg_samples_df.head()"
   ]
  },
  {
   "cell_type": "code",
   "execution_count": 29,
   "metadata": {
    "collapsed": false
   },
   "outputs": [
    {
     "name": "stderr",
     "output_type": "stream",
     "text": [
      "2017-08-03 15:28:01,784 : INFO : Requested docs: [766192484 766192485 766192486 ..., 766197484 766197485 766197486] for scoring\n",
      "2017-08-03 15:28:01,794 : INFO : Docs [766192484 766192485 766192486 ..., 766197484 766197485 766197486]: preprocessing\n",
      "2017-08-03 15:28:02,630 : INFO : Initializing 5000 CategorizedDocuments\n",
      "2017-08-03 15:28:02,926 : INFO : Docs [766192484 766192485 766192486 ..., 766197484 766197485 766197486]: vectorizing using trained Doc2Vec model in 10 iterations\n",
      "2017-08-03 15:28:02,935 : INFO : Initialized 5000 headers of 5000 for vectorization\n",
      "2017-08-03 15:28:02,935 : INFO : Inferring vectors of 5000 documents in 0/10 cycle\n",
      "2017-08-03 15:28:10,738 : INFO : Inferring vectors of 5000 headers in 0/10 cycle\n",
      "2017-08-03 15:28:12,649 : INFO : Inferring vectors of 5000 documents in 1/10 cycle\n",
      "2017-08-03 15:28:20,596 : INFO : Inferring vectors of 5000 headers in 1/10 cycle\n",
      "2017-08-03 15:28:22,456 : INFO : Inferring vectors of 5000 documents in 2/10 cycle\n",
      "2017-08-03 15:28:30,244 : INFO : Inferring vectors of 5000 headers in 2/10 cycle\n",
      "2017-08-03 15:28:32,184 : INFO : Inferring vectors of 5000 documents in 3/10 cycle\n",
      "2017-08-03 15:28:40,359 : INFO : Inferring vectors of 5000 headers in 3/10 cycle\n",
      "2017-08-03 15:28:42,478 : INFO : Inferring vectors of 5000 documents in 4/10 cycle\n",
      "2017-08-03 15:28:50,467 : INFO : Inferring vectors of 5000 headers in 4/10 cycle\n",
      "2017-08-03 15:28:52,263 : INFO : Inferring vectors of 5000 documents in 5/10 cycle\n",
      "2017-08-03 15:29:00,128 : INFO : Inferring vectors of 5000 headers in 5/10 cycle\n",
      "2017-08-03 15:29:01,945 : INFO : Inferring vectors of 5000 documents in 6/10 cycle\n",
      "2017-08-03 15:29:09,949 : INFO : Inferring vectors of 5000 headers in 6/10 cycle\n",
      "2017-08-03 15:29:11,785 : INFO : Inferring vectors of 5000 documents in 7/10 cycle\n",
      "2017-08-03 15:29:19,606 : INFO : Inferring vectors of 5000 headers in 7/10 cycle\n",
      "2017-08-03 15:29:21,481 : INFO : Inferring vectors of 5000 documents in 8/10 cycle\n",
      "2017-08-03 15:29:29,621 : INFO : Inferring vectors of 5000 headers in 8/10 cycle\n",
      "2017-08-03 15:29:31,454 : INFO : Inferring vectors of 5000 documents in 9/10 cycle\n",
      "2017-08-03 15:29:39,278 : INFO : Inferring vectors of 5000 headers in 9/10 cycle\n",
      "2017-08-03 15:29:41,305 : INFO : Docs [766192484 766192485 766192486 ..., 766197484 766197485 766197486]: classifying using logistic_regression.mod classifier\n",
      "2017-08-03 15:29:41,424 : INFO : Docs [766192484 766192485 766192486 ..., 766197484 766197485 766197486]: tuning probs according to optimized cats thresholds:\n",
      "eap                    0.873613\n",
      "None                   0.506738\n",
      "fuse                   0.750639\n",
      "rhel                   0.855070\n",
      "openshift              0.670521\n",
      "devstudio              0.653940\n",
      "bpmsuite               0.539642\n",
      "webserver              0.458629\n",
      "brms                   0.440987\n",
      "amq                    0.337092\n",
      "fsw                    0.381972\n",
      "datagrid               0.357065\n",
      "mobileplatform         0.228719\n",
      "cdk                    0.236074\n",
      "developertoolset       0.999994\n",
      "softwarecollections    0.999994\n",
      "dtype: float64\n"
     ]
    }
   ],
   "source": [
    "neg_samples_scores = eval_service.score_docs_bulk(neg_samples_df[\"id\"], \n",
    "                                                  neg_samples_df[\"doc_header\"], \n",
    "                                                  neg_samples_df[\"doc_content\"])"
   ]
  },
  {
   "cell_type": "code",
   "execution_count": 30,
   "metadata": {
    "collapsed": false
   },
   "outputs": [],
   "source": [
    "%matplotlib inline\n",
    "\n",
    "scores_norm_flattened = pd.DataFrame(columns=[\"cat\", \"score\"])\n",
    "\n",
    "for cat in eval_service.vector_classifier.classes_:\n",
    "    new_scores = neg_samples_scores[cat]\n",
    "    new_cat = [cat]*len(new_scores)\n",
    "    new_df = pd.DataFrame()\n",
    "    new_df[\"score\"] = new_scores\n",
    "    new_df[\"cat\"] = new_cat\n",
    "    scores_norm_flattened = scores_norm_flattened.append(new_df)"
   ]
  },
  {
   "cell_type": "markdown",
   "metadata": {},
   "source": [
    "### Scoring of unrelevant content - political tweets - towards training categories"
   ]
  },
  {
   "cell_type": "code",
   "execution_count": 31,
   "metadata": {
    "collapsed": false
   },
   "outputs": [
    {
     "data": {
      "text/plain": [
       "<matplotlib.axes.AxesSubplot at 0x7f898fb12090>"
      ]
     },
     "execution_count": 31,
     "metadata": {},
     "output_type": "execute_result"
    },
    {
     "data": {
      "image/png": "[encoded data removed]",
      "text/plain": [
       "<matplotlib.figure.Figure at 0x7f896812ee50>"
      ]
     },
     "metadata": {},
     "output_type": "display_data"
    }
   ],
   "source": [
    "scores_norm_flattened.boxplot(\"score\", by=\"cat\", figsize=(10,5), rot=60)"
   ]
  },
  {
   "cell_type": "code",
   "execution_count": 32,
   "metadata": {
    "collapsed": false
   },
   "outputs": [
    {
     "data": {
      "text/plain": [
       "eap                    0.873613\n",
       "None                   0.506738\n",
       "fuse                   0.750639\n",
       "rhel                   0.855070\n",
       "openshift              0.670521\n",
       "devstudio              0.653940\n",
       "bpmsuite               0.539642\n",
       "webserver              0.458629\n",
       "brms                   0.440987\n",
       "amq                    0.337092\n",
       "fsw                    0.381972\n",
       "datagrid               0.357065\n",
       "mobileplatform         0.228719\n",
       "cdk                    0.236074\n",
       "developertoolset       0.999994\n",
       "softwarecollections    0.999994\n",
       "dtype: float64"
      ]
     },
     "execution_count": 32,
     "metadata": {},
     "output_type": "execute_result"
    }
   ],
   "source": [
    "# see that the devstudio scoring is incorrectly normalized upwards, \n",
    "# whereas the fuse and eap are learnt to correctly normalize down\n",
    "\n",
    "eval_service.score_tuner.cats_original_thresholds"
   ]
  },
  {
   "cell_type": "markdown",
   "metadata": {},
   "source": [
    "This is to be compared with the service trained on purely-relevant categories' content. We attempt to push the scores for categories as down as possible, and to evenly distribute the scores towards relevant categories."
   ]
  },
  {
   "cell_type": "markdown",
   "metadata": {},
   "source": [
    "### Economic News Articles dataset"
   ]
  },
  {
   "cell_type": "code",
   "execution_count": 33,
   "metadata": {
    "collapsed": false
   },
   "outputs": [],
   "source": [
    "neg_samples_csv = pd.read_csv(\"../../data/content/experimental/eval_set/Full-Economic-News-DFE-839861.csv\")\n",
    "# Cut the first 10 000 samples\n",
    "# neg_samples_csv = neg_samples_csv.iloc[:10000]"
   ]
  },
  {
   "cell_type": "code",
   "execution_count": 34,
   "metadata": {
    "collapsed": false
   },
   "outputs": [
    {
     "data": {
      "text/plain": [
       "Index([u'_unit_id', u'_golden', u'_unit_state', u'_trusted_judgments',\n",
       "       u'_last_judgment_at', u'positivity', u'positivity:confidence',\n",
       "       u'relevance', u'relevance:confidence', u'articleid', u'date',\n",
       "       u'headline', u'positivity_gold', u'relevance_gold', u'text'],\n",
       "      dtype='object')"
      ]
     },
     "execution_count": 34,
     "metadata": {},
     "output_type": "execute_result"
    }
   ],
   "source": [
    "neg_samples_csv.columns"
   ]
  },
  {
   "cell_type": "code",
   "execution_count": 35,
   "metadata": {
    "collapsed": false
   },
   "outputs": [
    {
     "data": {
      "text/html": [
       "<div>\n",
       "<table border=\"1\" class=\"dataframe\">\n",
       "  <thead>\n",
       "    <tr style=\"text-align: right;\">\n",
       "      <th></th>\n",
       "      <th>id</th>\n",
       "      <th>doc_header</th>\n",
       "      <th>doc_content</th>\n",
       "    </tr>\n",
       "  </thead>\n",
       "  <tbody>\n",
       "    <tr>\n",
       "      <th>0</th>\n",
       "      <td>842613455</td>\n",
       "      <td>Yields on CDs Fell in the Latest Week</td>\n",
       "      <td>NEW YORK -- Yields on most certificates of dep...</td>\n",
       "    </tr>\n",
       "    <tr>\n",
       "      <th>1</th>\n",
       "      <td>842613456</td>\n",
       "      <td>The Morning Brief: White House Seeks to Limit ...</td>\n",
       "      <td>The Wall Street Journal Online&lt;/br&gt;&lt;/br&gt;The Mo...</td>\n",
       "    </tr>\n",
       "    <tr>\n",
       "      <th>2</th>\n",
       "      <td>842613457</td>\n",
       "      <td>Banking Bill Negotiators Set Compromise --- Pl...</td>\n",
       "      <td>WASHINGTON -- In an effort to achieve banking ...</td>\n",
       "    </tr>\n",
       "    <tr>\n",
       "      <th>3</th>\n",
       "      <td>842613458</td>\n",
       "      <td>Manager's Journal: Sniffing Out Drug Abusers I...</td>\n",
       "      <td>The statistics on the enormous costs of employ...</td>\n",
       "    </tr>\n",
       "    <tr>\n",
       "      <th>4</th>\n",
       "      <td>842613459</td>\n",
       "      <td>Currency Trading: Dollar Remains in Tight Rang...</td>\n",
       "      <td>NEW YORK -- Indecision marked the dollar's ton...</td>\n",
       "    </tr>\n",
       "  </tbody>\n",
       "</table>\n",
       "</div>"
      ],
      "text/plain": [
       "          id                                         doc_header  \\\n",
       "0  842613455              Yields on CDs Fell in the Latest Week   \n",
       "1  842613456  The Morning Brief: White House Seeks to Limit ...   \n",
       "2  842613457  Banking Bill Negotiators Set Compromise --- Pl...   \n",
       "3  842613458  Manager's Journal: Sniffing Out Drug Abusers I...   \n",
       "4  842613459  Currency Trading: Dollar Remains in Tight Rang...   \n",
       "\n",
       "                                         doc_content  \n",
       "0  NEW YORK -- Yields on most certificates of dep...  \n",
       "1  The Wall Street Journal Online</br></br>The Mo...  \n",
       "2  WASHINGTON -- In an effort to achieve banking ...  \n",
       "3  The statistics on the enormous costs of employ...  \n",
       "4  NEW YORK -- Indecision marked the dollar's ton...  "
      ]
     },
     "execution_count": 35,
     "metadata": {},
     "output_type": "execute_result"
    }
   ],
   "source": [
    "neg_samples_df = pd.DataFrame(columns=[\"id\", \"doc_header\", \"doc_content\"])\n",
    "# TODO: set limit here if needed\n",
    "neg_samples_df[[\"id\", \"doc_header\", \"doc_content\"]] = neg_samples_csv[[\"_unit_id\", \"headline\", \"text\"]]\n",
    "# neg_samples_df[\"doc_header\"] = neg_samples_df[\"doc_content\"].apply(lambda content: take_first_n_words(content, n=5))\n",
    "neg_samples_df[\"doc_content\"] = neg_samples_df[\"doc_content\"].apply(replace_non_ascii)\n",
    "neg_samples_df[\"doc_header\"] = neg_samples_df[\"doc_header\"].apply(replace_non_ascii)\n",
    "neg_samples_df.head()"
   ]
  },
  {
   "cell_type": "code",
   "execution_count": 36,
   "metadata": {
    "collapsed": false
   },
   "outputs": [
    {
     "name": "stderr",
     "output_type": "stream",
     "text": [
      "2017-08-03 15:29:43,293 : INFO : Requested docs: [842613455 842613456 842613457 ..., 830985634 830985635 830985636] for scoring\n",
      "2017-08-03 15:29:43,295 : INFO : Docs [842613455 842613456 842613457 ..., 830985634 830985635 830985636]: preprocessing\n",
      "2017-08-03 15:29:48,271 : INFO : Initializing 8000 CategorizedDocuments\n",
      "2017-08-03 15:29:48,732 : INFO : Docs [842613455 842613456 842613457 ..., 830985634 830985635 830985636]: vectorizing using trained Doc2Vec model in 10 iterations\n",
      "2017-08-03 15:29:48,744 : INFO : Initialized 8000 headers of 8000 for vectorization\n",
      "2017-08-03 15:29:48,745 : INFO : Inferring vectors of 8000 documents in 0/10 cycle\n",
      "2017-08-03 15:31:11,708 : INFO : Inferring vectors of 8000 headers in 0/10 cycle\n",
      "2017-08-03 15:31:18,487 : INFO : Inferring vectors of 8000 documents in 1/10 cycle\n",
      "2017-08-03 15:32:41,382 : INFO : Inferring vectors of 8000 headers in 1/10 cycle\n",
      "2017-08-03 15:32:48,129 : INFO : Inferring vectors of 8000 documents in 2/10 cycle\n",
      "2017-08-03 15:34:11,293 : INFO : Inferring vectors of 8000 headers in 2/10 cycle\n",
      "2017-08-03 15:34:18,135 : INFO : Inferring vectors of 8000 documents in 3/10 cycle\n",
      "2017-08-03 15:35:42,411 : INFO : Inferring vectors of 8000 headers in 3/10 cycle\n",
      "2017-08-03 15:35:49,187 : INFO : Inferring vectors of 8000 documents in 4/10 cycle\n",
      "2017-08-03 15:37:10,029 : INFO : Inferring vectors of 8000 headers in 4/10 cycle\n",
      "2017-08-03 15:37:16,671 : INFO : Inferring vectors of 8000 documents in 5/10 cycle\n",
      "2017-08-03 15:38:39,287 : INFO : Inferring vectors of 8000 headers in 5/10 cycle\n",
      "2017-08-03 15:38:45,985 : INFO : Inferring vectors of 8000 documents in 6/10 cycle\n",
      "2017-08-03 15:40:07,338 : INFO : Inferring vectors of 8000 headers in 6/10 cycle\n",
      "2017-08-03 15:40:14,007 : INFO : Inferring vectors of 8000 documents in 7/10 cycle\n",
      "2017-08-03 15:41:37,923 : INFO : Inferring vectors of 8000 headers in 7/10 cycle\n",
      "2017-08-03 15:41:44,781 : INFO : Inferring vectors of 8000 documents in 8/10 cycle\n",
      "2017-08-03 15:43:06,874 : INFO : Inferring vectors of 8000 headers in 8/10 cycle\n",
      "2017-08-03 15:43:13,631 : INFO : Inferring vectors of 8000 documents in 9/10 cycle\n",
      "2017-08-03 15:44:34,951 : INFO : Inferring vectors of 8000 headers in 9/10 cycle\n",
      "2017-08-03 15:44:42,298 : INFO : Docs [842613455 842613456 842613457 ..., 830985634 830985635 830985636]: classifying using logistic_regression.mod classifier\n",
      "2017-08-03 15:44:42,504 : INFO : Docs [842613455 842613456 842613457 ..., 830985634 830985635 830985636]: tuning probs according to optimized cats thresholds:\n",
      "eap                    0.873613\n",
      "None                   0.506738\n",
      "fuse                   0.750639\n",
      "rhel                   0.855070\n",
      "openshift              0.670521\n",
      "devstudio              0.653940\n",
      "bpmsuite               0.539642\n",
      "webserver              0.458629\n",
      "brms                   0.440987\n",
      "amq                    0.337092\n",
      "fsw                    0.381972\n",
      "datagrid               0.357065\n",
      "mobileplatform         0.228719\n",
      "cdk                    0.236074\n",
      "developertoolset       0.999994\n",
      "softwarecollections    0.999994\n",
      "dtype: float64\n"
     ]
    }
   ],
   "source": [
    "neg_samples_scores2 = eval_service.score_docs_bulk(neg_samples_df[\"id\"], \n",
    "                                                  neg_samples_df[\"doc_header\"], \n",
    "                                                  neg_samples_df[\"doc_content\"])"
   ]
  },
  {
   "cell_type": "code",
   "execution_count": 37,
   "metadata": {
    "collapsed": false
   },
   "outputs": [],
   "source": [
    "%matplotlib inline\n",
    "\n",
    "scores_norm_flattened2 = pd.DataFrame(columns=[\"cat\", \"score\"])\n",
    "\n",
    "for cat in eval_service.vector_classifier.classes_:\n",
    "    new_scores = neg_samples_scores2[cat]\n",
    "    new_cat = [cat]*len(new_scores)\n",
    "    new_df = pd.DataFrame()\n",
    "    new_df[\"score\"] = new_scores\n",
    "    new_df[\"cat\"] = new_cat\n",
    "    scores_norm_flattened2 = scores_norm_flattened2.append(new_df)"
   ]
  },
  {
   "cell_type": "markdown",
   "metadata": {},
   "source": [
    "### Scoring of unrelevant content - Economic News Articles - towards training categories"
   ]
  },
  {
   "cell_type": "code",
   "execution_count": 38,
   "metadata": {
    "collapsed": false,
    "scrolled": false
   },
   "outputs": [
    {
     "data": {
      "text/plain": [
       "<matplotlib.axes.AxesSubplot at 0x7f894361a610>"
      ]
     },
     "execution_count": 38,
     "metadata": {},
     "output_type": "execute_result"
    },
    {
     "data": {
      "image/png": "[encoded data removed]",
      "text/plain": [
       "<matplotlib.figure.Figure at 0x7f89436c2110>"
      ]
     },
     "metadata": {},
     "output_type": "display_data"
    }
   ],
   "source": [
    "scores_norm_flattened2.boxplot(\"score\", by=\"cat\", figsize=(10,5), rot=60)"
   ]
  },
  {
   "cell_type": "markdown",
   "metadata": {},
   "source": [
    "### Stackoverflow questions (technical) dataset"
   ]
  },
  {
   "cell_type": "code",
   "execution_count": 39,
   "metadata": {
    "collapsed": false
   },
   "outputs": [
    {
     "data": {
      "text/plain": [
       "Index([u'Id', u'OwnerUserId', u'CreationDate', u'ClosedDate', u'Score',\n",
       "       u'Title', u'Body'],\n",
       "      dtype='object')"
      ]
     },
     "execution_count": 39,
     "metadata": {},
     "output_type": "execute_result"
    }
   ],
   "source": [
    "import random\n",
    "\n",
    "so_questions = pd.read_csv(\"../../data/content/experimental/SO_Questions.csv\")\n",
    "so_questions = so_questions.loc[random.sample(so_questions.index, 10000)]\n",
    "\n",
    "so_questions.columns"
   ]
  },
  {
   "cell_type": "code",
   "execution_count": 40,
   "metadata": {
    "collapsed": false
   },
   "outputs": [
    {
     "data": {
      "text/html": [
       "<div>\n",
       "<table border=\"1\" class=\"dataframe\">\n",
       "  <thead>\n",
       "    <tr style=\"text-align: right;\">\n",
       "      <th></th>\n",
       "      <th>id</th>\n",
       "      <th>doc_header</th>\n",
       "      <th>doc_content</th>\n",
       "    </tr>\n",
       "  </thead>\n",
       "  <tbody>\n",
       "    <tr>\n",
       "      <th>469574</th>\n",
       "      <td>16426610</td>\n",
       "      <td>Replacing HTML tags with text attributes</td>\n",
       "      <td>&lt;p&gt;I'm getting data from a web service and the...</td>\n",
       "    </tr>\n",
       "    <tr>\n",
       "      <th>696652</th>\n",
       "      <td>23758540</td>\n",
       "      <td>Laravel - configure private github repositery ...</td>\n",
       "      <td>&lt;p&gt;I'm trying to configure a private repositor...</td>\n",
       "    </tr>\n",
       "    <tr>\n",
       "      <th>341076</th>\n",
       "      <td>12237530</td>\n",
       "      <td>Display Specific Amount of Tabs with Viewpager</td>\n",
       "      <td>&lt;p&gt;I am using a ViewPager to swipe between 4 t...</td>\n",
       "    </tr>\n",
       "    <tr>\n",
       "      <th>1204229</th>\n",
       "      <td>38610940</td>\n",
       "      <td>Firefox ignoring CORS method</td>\n",
       "      <td>&lt;p&gt;I'm implementing a web service with CORS su...</td>\n",
       "    </tr>\n",
       "    <tr>\n",
       "      <th>355437</th>\n",
       "      <td>12706660</td>\n",
       "      <td>Xcode 4.5 - C programming - built in console w...</td>\n",
       "      <td>&lt;p&gt;As I typed that title, it became more and m...</td>\n",
       "    </tr>\n",
       "  </tbody>\n",
       "</table>\n",
       "</div>"
      ],
      "text/plain": [
       "               id                                         doc_header  \\\n",
       "469574   16426610           Replacing HTML tags with text attributes   \n",
       "696652   23758540  Laravel - configure private github repositery ...   \n",
       "341076   12237530     Display Specific Amount of Tabs with Viewpager   \n",
       "1204229  38610940                       Firefox ignoring CORS method   \n",
       "355437   12706660  Xcode 4.5 - C programming - built in console w...   \n",
       "\n",
       "                                               doc_content  \n",
       "469574   <p>I'm getting data from a web service and the...  \n",
       "696652   <p>I'm trying to configure a private repositor...  \n",
       "341076   <p>I am using a ViewPager to swipe between 4 t...  \n",
       "1204229  <p>I'm implementing a web service with CORS su...  \n",
       "355437   <p>As I typed that title, it became more and m...  "
      ]
     },
     "execution_count": 40,
     "metadata": {},
     "output_type": "execute_result"
    }
   ],
   "source": [
    "neg_samples_df = pd.DataFrame(columns=[\"id\", \"doc_header\", \"doc_content\"])\n",
    "# TODO: set limit here if needed\n",
    "neg_samples_df[[\"id\", \"doc_header\", \"doc_content\"]] = so_questions[[\"Id\", \"Title\", \"Body\"]]\n",
    "# neg_samples_df[\"doc_header\"] = neg_samples_df[\"doc_content\"].apply(lambda content: take_first_n_words(content, n=5))\n",
    "neg_samples_df[\"doc_content\"] = neg_samples_df[\"doc_content\"].apply(replace_non_ascii)\n",
    "neg_samples_df[\"doc_header\"] = neg_samples_df[\"doc_header\"].apply(replace_non_ascii)\n",
    "neg_samples_df.head()"
   ]
  },
  {
   "cell_type": "code",
   "execution_count": 41,
   "metadata": {
    "collapsed": false
   },
   "outputs": [
    {
     "name": "stderr",
     "output_type": "stream",
     "text": [
      "2017-08-03 15:45:05,281 : INFO : Requested docs: [16426610 23758540 12237530 ..., 14228060 39751920  7399640] for scoring\n",
      "2017-08-03 15:45:05,287 : INFO : Docs [16426610 23758540 12237530 ..., 14228060 39751920  7399640]: preprocessing\n",
      "2017-08-03 15:45:15,159 : INFO : Initializing 10000 CategorizedDocuments\n",
      "2017-08-03 15:45:15,760 : INFO : Docs [16426610 23758540 12237530 ..., 14228060 39751920  7399640]: vectorizing using trained Doc2Vec model in 10 iterations\n",
      "2017-08-03 15:45:15,774 : INFO : Initialized 10000 headers of 10000 for vectorization\n",
      "2017-08-03 15:45:15,775 : INFO : Inferring vectors of 10000 documents in 0/10 cycle\n",
      "2017-08-03 15:46:12,945 : INFO : Inferring vectors of 10000 headers in 0/10 cycle\n",
      "2017-08-03 15:46:20,447 : INFO : Inferring vectors of 10000 documents in 1/10 cycle\n",
      "2017-08-03 15:47:20,691 : INFO : Inferring vectors of 10000 headers in 1/10 cycle\n",
      "2017-08-03 15:47:27,536 : INFO : Inferring vectors of 10000 documents in 2/10 cycle\n",
      "2017-08-03 15:48:24,160 : INFO : Inferring vectors of 10000 headers in 2/10 cycle\n",
      "2017-08-03 15:48:31,219 : INFO : Inferring vectors of 10000 documents in 3/10 cycle\n",
      "2017-08-03 15:49:28,976 : INFO : Inferring vectors of 10000 headers in 3/10 cycle\n",
      "2017-08-03 15:49:36,091 : INFO : Inferring vectors of 10000 documents in 4/10 cycle\n",
      "2017-08-03 15:50:32,008 : INFO : Inferring vectors of 10000 headers in 4/10 cycle\n",
      "2017-08-03 15:50:39,160 : INFO : Inferring vectors of 10000 documents in 5/10 cycle\n",
      "2017-08-03 15:51:35,258 : INFO : Inferring vectors of 10000 headers in 5/10 cycle\n",
      "2017-08-03 15:51:42,377 : INFO : Inferring vectors of 10000 documents in 6/10 cycle\n",
      "2017-08-03 15:52:42,015 : INFO : Inferring vectors of 10000 headers in 6/10 cycle\n",
      "2017-08-03 15:52:49,037 : INFO : Inferring vectors of 10000 documents in 7/10 cycle\n",
      "2017-08-03 15:53:48,846 : INFO : Inferring vectors of 10000 headers in 7/10 cycle\n",
      "2017-08-03 15:53:55,804 : INFO : Inferring vectors of 10000 documents in 8/10 cycle\n",
      "2017-08-03 15:54:53,233 : INFO : Inferring vectors of 10000 headers in 8/10 cycle\n",
      "2017-08-03 15:55:00,336 : INFO : Inferring vectors of 10000 documents in 9/10 cycle\n",
      "2017-08-03 15:55:58,323 : INFO : Inferring vectors of 10000 headers in 9/10 cycle\n",
      "2017-08-03 15:56:05,859 : INFO : Docs [16426610 23758540 12237530 ..., 14228060 39751920  7399640]: classifying using logistic_regression.mod classifier\n",
      "2017-08-03 15:56:06,103 : INFO : Docs [16426610 23758540 12237530 ..., 14228060 39751920  7399640]: tuning probs according to optimized cats thresholds:\n",
      "eap                    0.873613\n",
      "None                   0.506738\n",
      "fuse                   0.750639\n",
      "rhel                   0.855070\n",
      "openshift              0.670521\n",
      "devstudio              0.653940\n",
      "bpmsuite               0.539642\n",
      "webserver              0.458629\n",
      "brms                   0.440987\n",
      "amq                    0.337092\n",
      "fsw                    0.381972\n",
      "datagrid               0.357065\n",
      "mobileplatform         0.228719\n",
      "cdk                    0.236074\n",
      "developertoolset       0.999994\n",
      "softwarecollections    0.999994\n",
      "dtype: float64\n"
     ]
    }
   ],
   "source": [
    "neg_samples_scores3 = service.score_docs_bulk(neg_samples_df[\"id\"], \n",
    "                                              neg_samples_df[\"doc_header\"], \n",
    "                                              neg_samples_df[\"doc_content\"])"
   ]
  },
  {
   "cell_type": "code",
   "execution_count": 42,
   "metadata": {
    "collapsed": true
   },
   "outputs": [],
   "source": [
    "%matplotlib inline\n",
    "\n",
    "scores_norm_flattened3 = pd.DataFrame(columns=[\"cat\", \"score\"])\n",
    "\n",
    "for cat in eval_service.vector_classifier.classes_:\n",
    "    new_scores = neg_samples_scores3[cat]\n",
    "    new_cat = [cat]*len(new_scores)\n",
    "    new_df = pd.DataFrame()\n",
    "    new_df[\"score\"] = new_scores\n",
    "    new_df[\"cat\"] = new_cat\n",
    "    scores_norm_flattened3 = scores_norm_flattened3.append(new_df)"
   ]
  },
  {
   "cell_type": "markdown",
   "metadata": {},
   "source": [
    "### Scoring of unrelevant content - stackoverflow questions (technical) - towards training categories"
   ]
  },
  {
   "cell_type": "code",
   "execution_count": 43,
   "metadata": {
    "collapsed": false
   },
   "outputs": [
    {
     "data": {
      "text/plain": [
       "<matplotlib.axes.AxesSubplot at 0x7f892f50f710>"
      ]
     },
     "execution_count": 43,
     "metadata": {},
     "output_type": "execute_result"
    },
    {
     "data": {
      "image/png": "[encoded data removed]",
      "text/plain": [
       "<matplotlib.figure.Figure at 0x7f892f50f450>"
      ]
     },
     "metadata": {},
     "output_type": "display_data"
    }
   ],
   "source": [
    "scores_norm_flattened3.boxplot(\"score\", by=\"cat\", figsize=(10,5), rot=60)"
   ]
  },
  {
   "cell_type": "markdown",
   "metadata": {},
   "source": [
    "## Errors on irrelevants' scoring"
   ]
  },
  {
   "cell_type": "code",
   "execution_count": 44,
   "metadata": {
    "collapsed": false
   },
   "outputs": [],
   "source": [
    "scores_wout_none = neg_samples_scores2[neg_samples_scores2.columns[neg_samples_scores2.columns != \"None\"]]\n",
    "all_docs = len(scores_wout_none)"
   ]
  },
  {
   "cell_type": "markdown",
   "metadata": {},
   "source": [
    "### Error (True negatives / all) ratio of irrelevant content\n",
    "\n",
    "Estimates how many irrelevant results are retrieved from the given irrelevant data set\n",
    "\n",
    "Note that the document cen be retrieved for more than one category"
   ]
  },
  {
   "cell_type": "code",
   "execution_count": 45,
   "metadata": {
    "collapsed": false
   },
   "outputs": [
    {
     "data": {
      "text/plain": [
       "0.060374999999999998"
      ]
     },
     "execution_count": 45,
     "metadata": {},
     "output_type": "execute_result"
    }
   ],
   "source": [
    "scores_wout_none = neg_samples_scores2[neg_samples_scores2.columns[neg_samples_scores2.columns != \"None\"]]\n",
    "positives = np.sum((scores_wout_none >= 0.5).values)\n",
    "\n",
    "positives/float(all_docs)"
   ]
  },
  {
   "cell_type": "markdown",
   "metadata": {},
   "source": [
    "### Errorously retrieved documents\n",
    "\n",
    "Estimates how many of the given irrelevant documents will be retrieved for at least one category\n",
    "\n",
    "Suggests whether the irrelevant document is usually retrieved for only one, or multiple categories"
   ]
  },
  {
   "cell_type": "code",
   "execution_count": 46,
   "metadata": {
    "collapsed": false
   },
   "outputs": [
    {
     "data": {
      "text/plain": [
       "0.060249999999999998"
      ]
     },
     "execution_count": 46,
     "metadata": {},
     "output_type": "execute_result"
    }
   ],
   "source": [
    "once_retrieved_docs = np.sum(scores_wout_none.apply(lambda doc_scores: np.any(doc_scores >= 0.5), axis=1).values)\n",
    "once_retrieved_docs / float(all_docs)"
   ]
  },
  {
   "cell_type": "code",
   "execution_count": 47,
   "metadata": {
    "collapsed": false
   },
   "outputs": [
    {
     "data": {
      "text/plain": [
       "cdk                    0.000000\n",
       "developertoolset       0.000000\n",
       "rhel                   0.000000\n",
       "softwarecollections    0.000000\n",
       "bpmsuite               0.000125\n",
       "devstudio              0.000500\n",
       "fsw                    0.000750\n",
       "mobileplatform         0.000875\n",
       "eap                    0.001000\n",
       "fuse                   0.001750\n",
       "webserver              0.001875\n",
       "amq                    0.004125\n",
       "datagrid               0.007125\n",
       "openshift              0.009750\n",
       "brms                   0.032500\n",
       "dtype: float64"
      ]
     },
     "execution_count": 47,
     "metadata": {},
     "output_type": "execute_result"
    }
   ],
   "source": [
    "# Error ratio for categories\n",
    "cats_errors = pd.Series(scores_wout_none.columns, index=scores_wout_none.columns)\n",
    "cats_errors = cats_errors.apply(lambda cat: np.sum((scores_wout_none[cat]>=0.5).values) / float(len(scores_wout_none)))\n",
    "\n",
    "cats_errors.sort_values()"
   ]
  },
  {
   "cell_type": "markdown",
   "metadata": {},
   "source": [
    "## Results\n",
    "\n",
    "### Comparison with service trained also on irrelevant content\n",
    "\n",
    "The comparison with the service trained also on irrelevant content shows very little difference to this one.\n",
    "\n",
    "We see that for the later two irrelevant datasets, the use of None training category has moved the eap and fuse (two biggest cats) the correct way and the devstudio (highest-scored cat) remain in very similar range. \n",
    "\n",
    "There might be a specific reason (perhaps insufficient preprocessing) that avoids the enhancement to properly work for **tweets** (containing distinct word composition and marks like @, #)\n",
    "\n",
    "The overall performance of the system however was decreased by using the irrelevant dataset by appx. 1.5%.\n",
    "\n",
    "#### Manual scoring of stackoverflow questions\n",
    "\n",
    "We've tested the service using the REST interface on several **stackoverflow** questions.\n",
    "By common observation, the results suggest the preference for using the service **without** irrelevant training content - it inclines to more often corectly boost the score for the correct category, eventhough it does not always score the most relevant category the highest.\n",
    "\n",
    "The observation further suggests that the problem of unbalanced scoring relative to category size was resolved by implementing Score Tuner, however there is still visible unbalance towards categories. The **devstudio** is often unreasonably preferred over others.\n",
    "\n",
    "### Comparison of scoring the two irrelevant datasets\n",
    "\n",
    "The score distribution among the two irrelevant datasets shows almost exact match on mean scores for categories. The only differed category is Openshift whose mean overgrew both fuse and eap.\n",
    "\n",
    "The comparison of the two graphs stably confirms the defirmation of scoring in favor of devstudio and perhaps fuse cat for this version of service.\n",
    "\n",
    "**This deformation does not occur, or does occur significantly less for model including None category in training data set.**\n"
   ]
  }
 ],
 "metadata": {
  "kernelspec": {
   "display_name": "Python 2",
   "language": "python",
   "name": "python2"
  },
  "language_info": {
   "codemirror_mode": {
    "name": "ipython",
    "version": 2.0
   },
   "file_extension": ".py",
   "mimetype": "text/x-python",
   "name": "python",
   "nbconvert_exporter": "python",
   "pygments_lexer": "ipython2",
   "version": "2.7.8"
  }
 },
 "nbformat": 4,
 "nbformat_minor": 0
}