{
 "cells": [
  {
   "cell_type": "code",
   "execution_count": 1,
   "metadata": {
    "collapsed": false,
    "scrolled": false
   },
   "outputs": [],
   "source": [
    "# a demonstration of use of the two-layered neural network classifier \n",
    "# for content classification on doc2vec docs vectors\n",
    "# where softmax probabilities of the classified content against the given categories can be used as relevance rating\n",
    "# towards the classified categories\n",
    "\n",
    "# references:\n",
    "# [1] https://deeplearning4j.org/word2vec.html\n",
    "# [2] https://deeplearning4j.org/welldressed-recommendation-engine\n",
    "# [3] https://www.tensorflow.org/get_started/tflearn\n",
    "# [4] http://scikit-learn.org/stable/modules/cross_validation.html\n",
    "\n",
    "# author Michal Stefanik  mistefan  at  redhat dot com\n",
    "\n",
    "import numpy as np\n",
    "import pandas as pd\n",
    "import random\n",
    "\n",
    "from sklearn.metrics import accuracy_score\n",
    "from sklearn.model_selection import StratifiedKFold\n",
    "\n",
    "# D2VWrapper is our implementation providing vectorization of the documents based on doc2vec\n",
    "from dependencies.doc2vec_wrapper import D2VWrapper\n",
    "\n",
    "import logging\n",
    "logging.basicConfig(format='%(asctime)s : %(levelname)s : %(message)s', level=logging.INFO)"
   ]
  },
  {
   "cell_type": "code",
   "execution_count": 2,
   "metadata": {
    "collapsed": true,
    "scrolled": false
   },
   "outputs": [],
   "source": [
    "# target categories\n",
    "product_list = [\"amq\", \"eap\", \"webserver\", \"datagrid\", \"fuse\", \"brms\", \"bpmsuite\", \"devstudio\", \"cdk\",\n",
    "                \"developertoolset\", \"rhel\", \"softwarecollections\", \"mobileplatform\", \"openshift\"]"
   ]
  },
  {
   "cell_type": "code",
   "execution_count": 3,
   "metadata": {
    "collapsed": false,
    "scrolled": false
   },
   "outputs": [],
   "source": [
    "# extended evaluation metric on selected category\n",
    "def accuracy_for_category(y_expected, y_actual, label):\n",
    "    label_expected = y_expected[y_expected == label]\n",
    "    intersect = y_expected[np.where(y_expected == y_actual)]\n",
    "    label_intersect = intersect[intersect == label]\n",
    "    if len(label_expected) == 0:\n",
    "        logging.warn(\"Accuracy of %s category evaluated on 0 samples\" % label)\n",
    "        return 1 if len(label_intersect) == 0 else 0\n",
    "    else:\n",
    "        return float(len(label_intersect)) / len(label_expected)"
   ]
  },
  {
   "cell_type": "code",
   "execution_count": 4,
   "metadata": {
    "collapsed": false,
    "scrolled": true
   },
   "outputs": [
    {
     "name": "stderr",
     "output_type": "stream",
     "text": [
      "2017-08-25 13:33:58,430 : INFO : Loading serialized wrapper model from: trained_models/wrapper/newest\n",
      "2017-08-25 13:33:58,432 : INFO : Loading all_base_vocab_docs objects\n",
      "2017-08-25 13:34:09,258 : INFO : Initialized 51418 headers of 51418 for vectorization\n",
      "2017-08-25 13:34:09,258 : INFO : Loading all_base_vocab_docs vectors\n",
      "2017-08-25 13:35:33,803 : INFO : Loading trained Doc2Vec model\n",
      "2017-08-25 13:35:33,804 : INFO : loading Doc2Vec object from trained_models/wrapper/newest/doc2vec.mod\n",
      "2017-08-25 13:35:34,620 : INFO : loading docvecs recursively from trained_models/wrapper/newest/doc2vec.mod.docvecs.* with mmap=None\n",
      "2017-08-25 13:35:34,621 : INFO : loading doctag_syn0 from trained_models/wrapper/newest/doc2vec.mod.docvecs.doctag_syn0.npy with mmap=None\n",
      "2017-08-25 13:35:40,230 : INFO : loading syn1neg from trained_models/wrapper/newest/doc2vec.mod.syn1neg.npy with mmap=None\n",
      "2017-08-25 13:35:43,377 : INFO : loading syn0 from trained_models/wrapper/newest/doc2vec.mod.syn0.npy with mmap=None\n",
      "2017-08-25 13:35:44,822 : INFO : setting ignored attribute syn0norm to None\n",
      "2017-08-25 13:35:44,823 : INFO : setting ignored attribute cum_table to None\n"
     ]
    }
   ],
   "source": [
    "# initialize d2v_wrapper providing as well metadata about the models state\n",
    "d2v_wrapper = D2VWrapper(content_categories=product_list,\n",
    "                         vector_length=800)\n",
    "\n",
    "# EITHER initialize the vocab of documents and minimize the distances of embeddings in training phase\n",
    "# d2v_wrapper.init_model_vocab(content_basepath=\"../../data/content/prod_sample\",\n",
    "#                              basepath_suffix=\"_content.csv\", drop_short_docs=10)\n",
    "# d2v_wrapper.train_model(shuffle=True, epochs=10)\n",
    "\n",
    "# d2v_wrapper.persist_trained_wrapper(\"trained_models/wrapper\")\n",
    "\n",
    "# OR load initialized and trained wrapper if available\n",
    "d2v_wrapper.load_persisted_wrapper(\"trained_models/wrapper/newest\")"
   ]
  },
  {
   "cell_type": "code",
   "execution_count": 5,
   "metadata": {
    "collapsed": false
   },
   "outputs": [
    {
     "name": "stderr",
     "output_type": "stream",
     "text": [
      "2017-08-25 13:36:13,175 : INFO : Returning already inferred doc vectors of 51418 all_base_vocab_docs\n"
     ]
    }
   ],
   "source": [
    "# transform the doc data set into a vector set of the given vector_length\n",
    "doc_vectors_labeled = d2v_wrapper.infer_vocab_content_vectors()\n",
    "doc_vectors = doc_vectors_labeled.iloc[:, :-1]\n",
    "doc_labels = doc_vectors_labeled.iloc[:, -1]"
   ]
  },
  {
   "cell_type": "code",
   "execution_count": 6,
   "metadata": {
    "collapsed": false
   },
   "outputs": [
    {
     "data": {
      "text/plain": [
       "count     51418\n",
       "unique       16\n",
       "top         eap\n",
       "freq      18302\n",
       "Name: y, dtype: object"
      ]
     },
     "execution_count": 6,
     "metadata": {},
     "output_type": "execute_result"
    }
   ],
   "source": [
    "doc_labels.describe()"
   ]
  },
  {
   "cell_type": "code",
   "execution_count": 9,
   "metadata": {
    "collapsed": false,
    "scrolled": true
   },
   "outputs": [
    {
     "name": "stderr",
     "output_type": "stream",
     "text": [
      "2017-08-25 14:49:11,620 : INFO : Shuffling indices\n",
      "2017-08-25 14:49:11,645 : INFO : Fitting classifier\n",
      "2017-08-25 15:56:18,798 : INFO : Predicting\n",
      "2017-08-25 16:00:11,701 : INFO : Probs collection\n",
      "2017-08-25 16:04:04,143 : INFO : Split results:\n",
      "2017-08-25 16:04:04,150 : INFO : Run accuracy: 0.897969099213\n",
      "2017-08-25 16:04:04,157 : INFO : Cat accuracies:\n",
      "[0.9127324749642346, 0.890353920888272, 0.38095238095238093, 0.6088888888888889, 0.7142857142857143, 0.0, 0.4666666666666667, 0.6139705882352942, 0.4114583333333333, 0.0, 0.8385185185185186, 0.9946416610850636, 0.955487336914812, 0.33587786259541985, 0.5520833333333334, 0.9554766457252117]\n",
      "2017-08-25 16:04:04,160 : INFO : Shuffling indices\n",
      "2017-08-25 16:04:04,195 : INFO : Fitting classifier\n",
      "2017-08-25 17:14:50,488 : INFO : Predicting\n",
      "2017-08-25 17:19:12,687 : INFO : Probs collection\n",
      "2017-08-25 17:24:35,893 : INFO : Split results:\n",
      "2017-08-25 17:24:35,910 : INFO : Run accuracy: 0.901146967341\n",
      "2017-08-25 17:24:35,921 : INFO : Cat accuracies:\n",
      "[0.8969957081545065, 0.897293546148508, 0.5079365079365079, 0.6177777777777778, 0.75, 0.0, 0.5333333333333333, 0.5955882352941176, 0.387434554973822, 0.0, 0.8533333333333334, 0.9973208305425318, 0.9592933947772657, 0.366412213740458, 0.5104166666666666, 0.9587544386779568]\n",
      "2017-08-25 17:24:35,924 : INFO : Shuffling indices\n",
      "2017-08-25 17:24:35,967 : INFO : Fitting classifier\n",
      "2017-08-26 11:08:37,816 : INFO : Predicting\n",
      "2017-08-26 11:13:04,046 : INFO : Probs collection\n",
      "2017-08-26 11:17:41,406 : INFO : Split results:\n",
      "2017-08-26 11:17:41,413 : INFO : Run accuracy: 0.898473208208\n",
      "2017-08-26 11:17:41,435 : INFO : Cat accuracies:\n",
      "[0.8896848137535817, 0.8896599583622484, 0.5714285714285714, 0.6444444444444445, 0.75, 0.0, 0.2857142857142857, 0.5625, 0.450261780104712, 0.0, 0.845925925925926, 0.9979892761394102, 0.956221198156682, 0.4351145038167939, 0.6041666666666666, 0.95]\n",
      "2017-08-26 11:17:41,438 : INFO : Shuffling indices\n",
      "2017-08-26 11:17:41,482 : INFO : Fitting classifier\n",
      "2017-08-26 12:24:41,729 : INFO : Predicting\n",
      "2017-08-26 12:28:38,507 : INFO : Probs collection\n",
      "2017-08-26 12:32:35,268 : INFO : Split results:\n",
      "2017-08-26 12:32:35,274 : INFO : Run accuracy: 0.903978986283\n",
      "2017-08-26 12:32:35,284 : INFO : Cat accuracies:\n",
      "[0.8825214899713467, 0.9049271339347675, 0.5079365079365079, 0.5669642857142857, 0.6, 0.0, 0.6428571428571429, 0.5904059040590406, 0.3612565445026178, 0.0, 0.8798219584569733, 0.9959785522788204, 0.9738863287250384, 0.4122137404580153, 0.5263157894736842, 0.9595628415300547]\n",
      "2017-08-26 12:32:35,287 : INFO : Shuffling indices\n",
      "2017-08-26 12:32:35,324 : INFO : Fitting classifier\n",
      "2017-08-26 13:37:38,610 : INFO : Predicting\n",
      "2017-08-26 13:41:26,056 : INFO : Probs collection\n",
      "2017-08-26 13:45:13,788 : INFO : Split results:\n",
      "2017-08-26 13:45:13,794 : INFO : Run accuracy: 0.89656514547\n",
      "2017-08-26 13:45:13,802 : INFO : Cat accuracies:\n",
      "[0.9011461318051576, 0.8986814712005552, 0.45161290322580644, 0.6205357142857143, 0.55, 0.0, 0.6428571428571429, 0.6494464944649446, 0.38219895287958117, 0.0, 0.8323442136498517, 0.9959785522788204, 0.9608294930875576, 0.3923076923076923, 0.43157894736842106, 0.946448087431694]\n"
     ]
    }
   ],
   "source": [
    "# classifier training and eval:\n",
    "from sklearn.svm import SVC\n",
    "\n",
    "# results collection\n",
    "accuracies = []\n",
    "cat_accuracies = pd.DataFrame(columns=d2v_wrapper.content_categories)\n",
    "correct_logits = pd.DataFrame(columns=[\"actual_prob\", \"expected_prob\", \"actual_class\", \"expected_class\"])\n",
    "wrong_docs_ids = pd.Series()\n",
    "\n",
    "# evaluation on CV split persisting the categories respective size on each split\n",
    "strat_kfold = StratifiedKFold(n_splits=5, shuffle=True)\n",
    "\n",
    "for train_doc_indices, test_doc_indices in strat_kfold.split(doc_vectors, doc_labels):\n",
    "    logging.info(\"Shuffling indices\")\n",
    "    random.shuffle(train_doc_indices)\n",
    "    random.shuffle(test_doc_indices)\n",
    "\n",
    "    # training\n",
    "    # kernels to try: linear, poly, rbf, sigmoid\n",
    "    svm_classifier = SVC(kernel=\"rbf\", decision_function_shape=\"ovo\", C=8, gamma=0.0025, probability=True)\n",
    "    \n",
    "    logging.info(\"Fitting classifier\")\n",
    "    svm_classifier.fit(doc_vectors.iloc[train_doc_indices], doc_labels.iloc[train_doc_indices])\n",
    "\n",
    "    # testing\n",
    "    logging.info(\"Predicting\")\n",
    "    y_expected = doc_labels.iloc[test_doc_indices].values\n",
    "    y_actual = svm_classifier.predict(doc_vectors.iloc[test_doc_indices])\n",
    "\n",
    "    # evaluation:\n",
    "    # logits\n",
    "    logging.info(\"Probs collection\")\n",
    "    class_probs = svm_classifier.predict_proba(doc_vectors.iloc[test_doc_indices])\n",
    "    class_ordered = list(svm_classifier.classes_)\n",
    "\n",
    "    class_actual_index = pd.Series(y_actual).apply(lambda cat_label: class_ordered.index(cat_label))\n",
    "    actual_prob = class_probs[np.arange(len(class_actual_index)), (class_actual_index)]\n",
    "\n",
    "    class_expected_index = pd.Series(y_expected).apply(lambda cat_label: class_ordered.index(cat_label))\n",
    "    expected_prob = class_probs[np.arange(len(class_actual_index)), (class_expected_index)]\n",
    "\n",
    "    new_logits = pd.DataFrame()\n",
    "    new_logits[\"doc_id\"] = test_doc_indices\n",
    "    new_logits[\"actual_prob\"] = actual_prob\n",
    "    new_logits[\"expected_prob\"] = expected_prob\n",
    "    new_logits[\"actual_class\"] = y_actual\n",
    "    new_logits[\"expected_class\"] = y_expected\n",
    "    correct_logits = correct_logits.append(new_logits)\n",
    "         \n",
    "    new_wrong_ids = test_doc_indices[actual_prob == expected_prob]\n",
    "    wrong_docs_ids = wrong_docs_ids.append(pd.Series(new_wrong_ids))\n",
    "\n",
    "\n",
    "    # accuracy\n",
    "    logging.info(\"Split results:\")\n",
    "    split_accuracy = accuracy_score(y_expected, y_actual)\n",
    "    logging.info(\"Run accuracy: %s\" % split_accuracy)\n",
    "    accuracies.append(split_accuracy)\n",
    "    split_cat_accuracies = map(lambda cat: accuracy_for_category(y_expected, y_actual, cat),\n",
    "                               d2v_wrapper.content_categories)\n",
    "    logging.info(\"Cat accuracies:\\n%s\" % split_cat_accuracies)\n",
    "    cat_accuracies = cat_accuracies.append(\n",
    "        pd.DataFrame(data=[split_cat_accuracies], columns=d2v_wrapper.content_categories))"
   ]
  },
  {
   "cell_type": "code",
   "execution_count": 11,
   "metadata": {
    "collapsed": false
   },
   "outputs": [
    {
     "name": "stderr",
     "output_type": "stream",
     "text": [
      "2017-08-26 14:28:52,670 : INFO : split accuracies: [0.89796909921290446, 0.90114696734059097, 0.89847320820772147, 0.90397898628271234, 0.89656514547046806]\n",
      "2017-08-26 14:28:52,671 : INFO : mean accuracy: 0.899626681303\n",
      "2017-08-26 14:28:52,679 : INFO : categories accuracies: \n",
      "   openshift      fuse  datagrid  bpmsuite  mobileplatform  \\\n",
      "0   0.912732  0.890354  0.380952  0.608889        0.714286   \n",
      "0   0.896996  0.897294  0.507937  0.617778        0.750000   \n",
      "0   0.889685  0.889660  0.571429  0.644444        0.750000   \n",
      "0   0.882521  0.904927  0.507937  0.566964        0.600000   \n",
      "0   0.901146  0.898681  0.451613  0.620536        0.550000   \n",
      "\n",
      "   softwarecollections       cdk      brms  webserver  developertoolset  \\\n",
      "0                  0.0  0.466667  0.613971   0.411458               0.0   \n",
      "0                  0.0  0.533333  0.595588   0.387435               0.0   \n",
      "0                  0.0  0.285714  0.562500   0.450262               0.0   \n",
      "0                  0.0  0.642857  0.590406   0.361257               0.0   \n",
      "0                  0.0  0.642857  0.649446   0.382199               0.0   \n",
      "\n",
      "   devstudio      None      rhel       amq       fsw       eap  \n",
      "0   0.838519  0.994642  0.955487  0.335878  0.552083  0.955477  \n",
      "0   0.853333  0.997321  0.959293  0.366412  0.510417  0.958754  \n",
      "0   0.845926  0.997989  0.956221  0.435115  0.604167  0.950000  \n",
      "0   0.879822  0.995979  0.973886  0.412214  0.526316  0.959563  \n",
      "0   0.832344  0.995979  0.960829  0.392308  0.431579  0.946448  \n",
      "2017-08-26 14:28:52,681 : INFO : categories accuracies mean: \n",
      "openshift              0.896616\n",
      "fuse                   0.896183\n",
      "datagrid               0.483973\n",
      "bpmsuite               0.611722\n",
      "mobileplatform         0.672857\n",
      "softwarecollections    0.000000\n",
      "cdk                    0.514286\n",
      "brms                   0.602382\n",
      "webserver              0.398522\n",
      "developertoolset       0.000000\n",
      "devstudio              0.849989\n",
      "None                   0.996382\n",
      "rhel                   0.961144\n",
      "amq                    0.388385\n",
      "fsw                    0.524912\n",
      "eap                    0.954048\n",
      "dtype: float64\n",
      "2017-08-26 14:28:52,681 : INFO : done\n"
     ]
    }
   ],
   "source": [
    "logging.info(\"split accuracies: %s\" % accuracies)\n",
    "logging.info(\"mean accuracy: %s\" % np.mean(accuracies))\n",
    "logging.info(\"categories accuracies: \\n%s\" % cat_accuracies)\n",
    "logging.info(\"categories accuracies mean: \\n%s\" % cat_accuracies.mean())\n",
    "logging.info(\"done\")"
   ]
  },
  {
   "cell_type": "code",
   "execution_count": 12,
   "metadata": {
    "collapsed": false,
    "scrolled": false
   },
   "outputs": [
    {
     "data": {
      "text/html": [
       "<div>\n",
       "<table border=\"1\" class=\"dataframe\">\n",
       "  <thead>\n",
       "    <tr style=\"text-align: right;\">\n",
       "      <th></th>\n",
       "      <th>label</th>\n",
       "      <th>accuracy</th>\n",
       "      <th>size</th>\n",
       "    </tr>\n",
       "  </thead>\n",
       "  <tbody>\n",
       "    <tr>\n",
       "      <th>5</th>\n",
       "      <td>softwarecollections</td>\n",
       "      <td>0.000000</td>\n",
       "      <td>5</td>\n",
       "    </tr>\n",
       "    <tr>\n",
       "      <th>9</th>\n",
       "      <td>developertoolset</td>\n",
       "      <td>0.000000</td>\n",
       "      <td>12</td>\n",
       "    </tr>\n",
       "    <tr>\n",
       "      <th>6</th>\n",
       "      <td>cdk</td>\n",
       "      <td>0.514286</td>\n",
       "      <td>72</td>\n",
       "    </tr>\n",
       "    <tr>\n",
       "      <th>4</th>\n",
       "      <td>mobileplatform</td>\n",
       "      <td>0.672857</td>\n",
       "      <td>101</td>\n",
       "    </tr>\n",
       "    <tr>\n",
       "      <th>2</th>\n",
       "      <td>datagrid</td>\n",
       "      <td>0.483973</td>\n",
       "      <td>314</td>\n",
       "    </tr>\n",
       "    <tr>\n",
       "      <th>14</th>\n",
       "      <td>fsw</td>\n",
       "      <td>0.524912</td>\n",
       "      <td>478</td>\n",
       "    </tr>\n",
       "    <tr>\n",
       "      <th>13</th>\n",
       "      <td>amq</td>\n",
       "      <td>0.388385</td>\n",
       "      <td>654</td>\n",
       "    </tr>\n",
       "    <tr>\n",
       "      <th>8</th>\n",
       "      <td>webserver</td>\n",
       "      <td>0.398522</td>\n",
       "      <td>956</td>\n",
       "    </tr>\n",
       "    <tr>\n",
       "      <th>3</th>\n",
       "      <td>bpmsuite</td>\n",
       "      <td>0.611722</td>\n",
       "      <td>1123</td>\n",
       "    </tr>\n",
       "    <tr>\n",
       "      <th>7</th>\n",
       "      <td>brms</td>\n",
       "      <td>0.602382</td>\n",
       "      <td>1358</td>\n",
       "    </tr>\n",
       "    <tr>\n",
       "      <th>10</th>\n",
       "      <td>devstudio</td>\n",
       "      <td>0.849989</td>\n",
       "      <td>3373</td>\n",
       "    </tr>\n",
       "    <tr>\n",
       "      <th>0</th>\n",
       "      <td>openshift</td>\n",
       "      <td>0.896616</td>\n",
       "      <td>3492</td>\n",
       "    </tr>\n",
       "    <tr>\n",
       "      <th>12</th>\n",
       "      <td>rhel</td>\n",
       "      <td>0.961144</td>\n",
       "      <td>6511</td>\n",
       "    </tr>\n",
       "    <tr>\n",
       "      <th>1</th>\n",
       "      <td>fuse</td>\n",
       "      <td>0.896183</td>\n",
       "      <td>7205</td>\n",
       "    </tr>\n",
       "    <tr>\n",
       "      <th>11</th>\n",
       "      <td>None</td>\n",
       "      <td>0.996382</td>\n",
       "      <td>7462</td>\n",
       "    </tr>\n",
       "    <tr>\n",
       "      <th>15</th>\n",
       "      <td>eap</td>\n",
       "      <td>0.954048</td>\n",
       "      <td>18302</td>\n",
       "    </tr>\n",
       "  </tbody>\n",
       "</table>\n",
       "</div>"
      ],
      "text/plain": [
       "                  label  accuracy   size\n",
       "5   softwarecollections  0.000000      5\n",
       "9      developertoolset  0.000000     12\n",
       "6                   cdk  0.514286     72\n",
       "4        mobileplatform  0.672857    101\n",
       "2              datagrid  0.483973    314\n",
       "14                  fsw  0.524912    478\n",
       "13                  amq  0.388385    654\n",
       "8             webserver  0.398522    956\n",
       "3              bpmsuite  0.611722   1123\n",
       "7                  brms  0.602382   1358\n",
       "10            devstudio  0.849989   3373\n",
       "0             openshift  0.896616   3492\n",
       "12                 rhel  0.961144   6511\n",
       "1                  fuse  0.896183   7205\n",
       "11                 None  0.996382   7462\n",
       "15                  eap  0.954048  18302"
      ]
     },
     "execution_count": 12,
     "metadata": {},
     "output_type": "execute_result"
    }
   ],
   "source": [
    "# accuracies of categories together with their size\n",
    "\n",
    "labels_size = pd.DataFrame()\n",
    "labels_size[\"label\"] = doc_labels.unique()\n",
    "labels_size[\"accuracy\"] = cat_accuracies.mean().values\n",
    "labels_size[\"size\"] = [len(doc_labels[doc_labels == cat]) for cat in labels_size[\"label\"]]\n",
    "labels_size = labels_size.sort_values(by=[\"size\"])\n",
    "\n",
    "labels_size"
   ]
  },
  {
   "cell_type": "code",
   "execution_count": 13,
   "metadata": {
    "collapsed": false,
    "scrolled": false
   },
   "outputs": [
    {
     "data": {
      "text/plain": [
       "<matplotlib.axes.AxesSubplot at 0x7f209e3b7f50>"
      ]
     },
     "execution_count": 13,
     "metadata": {},
     "output_type": "execute_result"
    },
    {
     "data": {
      "image/png": "[encoded data removed]",
      "text/plain": [
       "<matplotlib.figure.Figure at 0x7f209e3b7910>"
      ]
     },
     "metadata": {},
     "output_type": "display_data"
    }
   ],
   "source": [
    "# boxplot visualization of the scores of documents against its own category (biggest 6 classes)\n",
    "# the higher the better\n",
    "# we see that it goes much better for bigger categories\n",
    "\n",
    "# boxplot: 50% of data in box, q50 +- 1.5*<q25, q75> in whis intervals\n",
    "%matplotlib inline\n",
    "import matplotlib.pyplot as plt\n",
    "\n",
    "correct_logits.boxplot(\"expected_prob\", by=\"expected_class\", figsize=(10,5), rot=60)"
   ]
  },
  {
   "cell_type": "code",
   "execution_count": 14,
   "metadata": {
    "collapsed": false
   },
   "outputs": [
    {
     "data": {
      "text/plain": [
       "count    46257.000000\n",
       "mean       131.295998\n",
       "std        438.380970\n",
       "min         10.000000\n",
       "25%         27.000000\n",
       "50%         47.000000\n",
       "75%        115.000000\n",
       "max      56006.000000\n",
       "dtype: float64"
      ]
     },
     "execution_count": 14,
     "metadata": {},
     "output_type": "execute_result"
    }
   ],
   "source": [
    "# incorrect classification characteristics\n",
    "wrong_docs_wordlist = wrong_docs_ids.apply(lambda doc_id: d2v_wrapper.all_content_tagged_docs.iloc[doc_id].words)\n",
    "wrong_docs_len = wrong_docs_wordlist.apply(lambda doc: len(doc))\n",
    "\n",
    "wrong_docs_len.describe()"
   ]
  },
  {
   "cell_type": "code",
   "execution_count": 15,
   "metadata": {
    "collapsed": false
   },
   "outputs": [
    {
     "data": {
      "text/plain": [
       "count     5161.000000\n",
       "mean       164.337531\n",
       "std       1185.741626\n",
       "min         10.000000\n",
       "25%         19.000000\n",
       "50%         33.000000\n",
       "75%         82.000000\n",
       "max      79212.000000\n",
       "dtype: float64"
      ]
     },
     "execution_count": 15,
     "metadata": {},
     "output_type": "execute_result"
    }
   ],
   "source": [
    "# correct classification characteristics\n",
    "all_indices = pd.Series(np.arange(len(doc_vectors)))\n",
    "correct_docs =  all_indices[~all_indices.isin(wrong_docs_ids)]\n",
    "correct_docs_wordlist = correct_docs.apply(lambda doc_id: d2v_wrapper.all_content_tagged_docs.iloc[doc_id].words)\n",
    "correct_docs_len = correct_docs_wordlist.apply(lambda doc: len(doc))\n",
    "\n",
    "correct_docs_len.describe()"
   ]
  },
  {
   "cell_type": "code",
   "execution_count": null,
   "metadata": {
    "collapsed": true
   },
   "outputs": [],
   "source": []
  }
 ],
 "metadata": {
  "kernelspec": {
   "display_name": "Python 2",
   "language": "python",
   "name": "python2"
  },
  "language_info": {
   "codemirror_mode": {
    "name": "ipython",
    "version": 2
   },
   "file_extension": ".py",
   "mimetype": "text/x-python",
   "name": "python",
   "nbconvert_exporter": "python",
   "pygments_lexer": "ipython2",
   "version": "2.7.8"
  }
 },
 "nbformat": 4,
 "nbformat_minor": 0
}
