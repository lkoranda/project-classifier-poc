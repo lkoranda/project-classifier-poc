{
 "cells": [
  {
   "cell_type": "code",
   "execution_count": 1,
   "metadata": {
    "collapsed": false,
    "scrolled": false
   },
   "outputs": [],
   "source": [
    "# a demonstration of use of the two-layered neural network classifier \n",
    "# for content classification on doc2vec docs vectors\n",
    "# where softmax probabilities of the classified content against the given categories can be used as relevance rating\n",
    "# towards the classified categories\n",
    "\n",
    "# references:\n",
    "# [1] https://deeplearning4j.org/word2vec.html\n",
    "# [2] https://deeplearning4j.org/welldressed-recommendation-engine\n",
    "# [3] https://www.tensorflow.org/get_started/tflearn\n",
    "# [4] http://scikit-learn.org/stable/modules/cross_validation.html\n",
    "\n",
    "# author Michal Stefanik  mistefan  at  redhat dot com\n",
    "\n",
    "import numpy as np\n",
    "import pandas as pd\n",
    "import random\n",
    "\n",
    "from sklearn.metrics import accuracy_score\n",
    "from sklearn.model_selection import StratifiedKFold\n",
    "\n",
    "# D2VWrapper is our implementation providing vectorization of the documents based on doc2vec\n",
    "from doc2vec_wrapper import D2VWrapper\n",
    "\n",
    "import logging\n",
    "logging.basicConfig(format='%(asctime)s : %(levelname)s : %(message)s', level=logging.INFO)"
   ]
  },
  {
   "cell_type": "code",
   "execution_count": 2,
   "metadata": {
    "collapsed": true,
    "scrolled": false
   },
   "outputs": [],
   "source": [
    "# optimization steps are reduced on TEST_MODE\n",
    "TEST_MODE = False\n",
    "\n",
    "# target categories\n",
    "product_list = [\"amq\", \"eap\", \"webserver\", \"datagrid\", \"fuse\", \"brms\", \"bpmsuite\", \"devstudio\", \"cdk\",\n",
    "                \"developertoolset\", \"rhel\", \"softwarecollections\", \"mobileplatform\", \"openshift\"]"
   ]
  },
  {
   "cell_type": "code",
   "execution_count": 3,
   "metadata": {
    "collapsed": false,
    "scrolled": false
   },
   "outputs": [],
   "source": [
    "# extended evaluation metric on selected category\n",
    "def accuracy_for_category(y_expected, y_actual, label):\n",
    "    label_expected = y_expected[y_expected == label]\n",
    "    intersect = y_expected[np.where(y_expected == y_actual)]\n",
    "    label_intersect = intersect[intersect == label]\n",
    "    if len(label_expected) == 0:\n",
    "        logging.warn(\"Accuracy of %s category evaluated on 0 samples\" % label)\n",
    "        return 1 if len(label_intersect) == 0 else 0\n",
    "    else:\n",
    "        return float(len(label_intersect)) / len(label_expected)"
   ]
  },
  {
   "cell_type": "code",
   "execution_count": 4,
   "metadata": {
    "collapsed": false,
    "scrolled": true
   },
   "outputs": [
    {
     "name": "stderr",
     "output_type": "stream",
     "text": [
      "2017-04-11 10:20:40,186 : INFO : Loading serialized wrapper model from: trained_models/wrapper/10epoch_train_stem\n",
      "2017-04-11 10:20:40,187 : INFO : Loading docs objects\n",
      "2017-04-11 10:20:49,065 : INFO : Loading docs vectors\n",
      "2017-04-11 10:21:10,841 : INFO : Loading trained Doc2Vec model\n",
      "2017-04-11 10:21:10,842 : INFO : loading Doc2Vec object from trained_models/wrapper/10epoch_train_stemdoc2vec.mod\n",
      "2017-04-11 10:21:11,147 : INFO : loading docvecs recursively from trained_models/wrapper/10epoch_train_stemdoc2vec.mod.docvecs.* with mmap=None\n",
      "2017-04-11 10:21:11,148 : INFO : loading doctag_syn0 from trained_models/wrapper/10epoch_train_stemdoc2vec.mod.docvecs.doctag_syn0.npy with mmap=None\n",
      "2017-04-11 10:21:11,334 : INFO : loading syn1neg from trained_models/wrapper/10epoch_train_stemdoc2vec.mod.syn1neg.npy with mmap=None\n",
      "2017-04-11 10:21:11,475 : INFO : loading syn0 from trained_models/wrapper/10epoch_train_stemdoc2vec.mod.syn0.npy with mmap=None\n",
      "2017-04-11 10:21:11,620 : INFO : setting ignored attribute syn0norm to None\n",
      "2017-04-11 10:21:11,620 : INFO : setting ignored attribute cum_table to None\n"
     ]
    }
   ],
   "source": [
    "# initialize d2v_wrapper providing as well metadata about the models state\n",
    "d2v_wrapper = D2VWrapper(content_categories=product_list,\n",
    "                         vector_length=500)\n",
    "\n",
    "# EITHER initialize the vocab of documents and minimize the distances of embeddings in training phase\n",
    "# d2v_wrapper.init_model_vocab(content_basepath=\"../../data/content/playground/auto/nostem\",\n",
    "#                              basepath_suffix=\"_content.csv\", drop_short_docs=10)\n",
    "# d2v_wrapper.train_model(shuffle=True, epochs=1 if TEST_MODE else 15)\n",
    "# \n",
    "# d2v_wrapper.persist_trained_wrapper(\"trained_models/wrapper/\")\n",
    "\n",
    "# OR load initialized and trained wrapper if available\n",
    "d2v_wrapper.load_persisted_wrapper(\"trained_models/wrapper/10epoch_train_stem\")"
   ]
  },
  {
   "cell_type": "code",
   "execution_count": 5,
   "metadata": {
    "collapsed": false
   },
   "outputs": [
    {
     "name": "stderr",
     "output_type": "stream",
     "text": [
      "2017-04-11 10:22:51,996 : INFO : Returning already inferred doc vectors\n"
     ]
    }
   ],
   "source": [
    "# transform the doc data set into a vector set of the given vector_length\n",
    "doc_vectors_labeled = d2v_wrapper.infer_content_vectors()\n",
    "doc_vectors = doc_vectors_labeled.iloc[:, :-1]\n",
    "doc_labels = doc_vectors_labeled.iloc[:, -1]"
   ]
  },
  {
   "cell_type": "code",
   "execution_count": 6,
   "metadata": {
    "collapsed": false
   },
   "outputs": [
    {
     "data": {
      "text/plain": [
       "count     43395\n",
       "unique       14\n",
       "top         eap\n",
       "freq      18355\n",
       "Name: y, dtype: object"
      ]
     },
     "execution_count": 6,
     "metadata": {},
     "output_type": "execute_result"
    }
   ],
   "source": [
    "doc_labels.describe()"
   ]
  },
  {
   "cell_type": "code",
   "execution_count": 15,
   "metadata": {
    "collapsed": false,
    "scrolled": true
   },
   "outputs": [
    {
     "name": "stderr",
     "output_type": "stream",
     "text": [
      "2017-04-11 10:28:43,816 : INFO : Shuffling indices\n",
      "2017-04-11 10:28:43,866 : INFO : Fitting classifier\n",
      "2017-04-11 10:29:15,076 : INFO : Predicting\n",
      "2017-04-11 10:29:15,238 : INFO : Probs collection\n",
      "2017-04-11 10:29:15,416 : INFO : Split results:\n",
      "2017-04-11 10:29:15,422 : INFO : Run accuracy: 0.839014279134\n",
      "2017-04-11 10:29:15,430 : INFO : Cat accuracies:\n",
      "[0.304, 0.925905747752656, 0.30386740331491713, 0.45614035087719296, 0.8396293656450463, 0.4358974358974359, 0.517948717948718, 0.7511380880121397, 0.07142857142857142, 0.0, 0.9299314546839299, 0.0, 0.42857142857142855, 0.8190830235439901]\n",
      "2017-04-11 10:29:15,432 : INFO : Shuffling indices\n",
      "2017-04-11 10:29:15,484 : INFO : Fitting classifier\n",
      "2017-04-11 10:29:43,501 : INFO : Predicting\n",
      "2017-04-11 10:29:43,637 : INFO : Probs collection\n",
      "2017-04-11 10:29:43,783 : INFO : Split results:\n",
      "2017-04-11 10:29:43,788 : INFO : Run accuracy: 0.838152286603\n",
      "2017-04-11 10:29:43,794 : INFO : Cat accuracies:\n",
      "[0.272, 0.9351675292835739, 0.24861878453038674, 0.3157894736842105, 0.8745545260156807, 0.40772532188841204, 0.49230769230769234, 0.7477203647416414, 0.14285714285714285, 0.0, 0.9284082254379284, 0.0, 0.35, 0.7534076827757125]\n",
      "2017-04-11 10:29:43,797 : INFO : Shuffling indices\n",
      "2017-04-11 10:29:43,838 : INFO : Fitting classifier\n",
      "2017-04-11 10:30:10,531 : INFO : Predicting\n",
      "2017-04-11 10:30:10,671 : INFO : Probs collection\n",
      "2017-04-11 10:30:10,820 : INFO : Split results:\n",
      "2017-04-11 10:30:10,826 : INFO : Run accuracy: 0.83072136437\n",
      "2017-04-11 10:30:10,832 : INFO : Cat accuracies:\n",
      "[0.24, 0.9231816943612094, 0.20994475138121546, 0.3157894736842105, 0.8545972915181753, 0.40772532188841204, 0.5282051282051282, 0.7416413373860182, 0.07142857142857142, 0.0, 0.9275914634146342, 0.0, 0.55, 0.7692307692307693]\n",
      "2017-04-11 10:30:10,835 : INFO : Shuffling indices\n",
      "2017-04-11 10:30:10,882 : INFO : Fitting classifier\n",
      "2017-04-11 10:30:40,411 : INFO : Predicting\n",
      "2017-04-11 10:30:40,552 : INFO : Probs collection\n",
      "2017-04-11 10:30:40,700 : INFO : Split results:\n",
      "2017-04-11 10:30:40,705 : INFO : Run accuracy: 0.837040451769\n",
      "2017-04-11 10:30:40,711 : INFO : Cat accuracies:\n",
      "[0.24, 0.9321710705529829, 0.2983425414364641, 0.3333333333333333, 0.8503207412687099, 0.4248927038626609, 0.4896907216494845, 0.7537993920972644, 0.14285714285714285, 0.0, 0.9222560975609756, 0.0, 0.45, 0.7866004962779156]\n",
      "2017-04-11 10:30:40,714 : INFO : Shuffling indices\n",
      "2017-04-11 10:30:40,753 : INFO : Fitting classifier\n",
      "2017-04-11 10:31:07,558 : INFO : Predicting\n",
      "2017-04-11 10:31:07,699 : INFO : Probs collection\n",
      "2017-04-11 10:31:07,849 : INFO : Split results:\n",
      "2017-04-11 10:31:07,855 : INFO : Run accuracy: 0.834812680115\n",
      "2017-04-11 10:31:07,861 : INFO : Cat accuracies:\n",
      "[0.168, 0.9283573958049578, 0.22777777777777777, 0.45614035087719296, 0.857448325017819, 0.45064377682403434, 0.4793814432989691, 0.7522796352583586, 0.15384615384615385, 0.0, 0.9314024390243902, 0.0, 0.35, 0.7679900744416873]\n"
     ]
    }
   ],
   "source": [
    "# classifier training and eval:\n",
    "from sklearn.svm import LinearSVC\n",
    "\n",
    "# results collection\n",
    "accuracies = []\n",
    "cat_accuracies = pd.DataFrame(columns=d2v_wrapper.content_categories)\n",
    "correct_logits = pd.DataFrame(columns=[\"actual_prob\", \"expected_prob\", \"actual_class\", \"expected_class\"])\n",
    "wrong_docs_ids = pd.Series()\n",
    "\n",
    "# evaluation on CV split persisting the categories respective size on each split\n",
    "strat_kfold = StratifiedKFold(n_splits=5 if TEST_MODE else 5, shuffle=True)\n",
    "\n",
    "for train_doc_indices, test_doc_indices in strat_kfold.split(doc_vectors, doc_labels):\n",
    "    logging.info(\"Shuffling indices\")\n",
    "    random.shuffle(train_doc_indices)\n",
    "    random.shuffle(test_doc_indices)\n",
    "\n",
    "    # training\n",
    "    svm_classifier = LinearSVC(C=0.1)\n",
    "    \n",
    "    logging.info(\"Fitting classifier\")\n",
    "    svm_classifier.fit(doc_vectors.iloc[train_doc_indices], doc_labels.iloc[train_doc_indices])\n",
    "\n",
    "    # testing\n",
    "    logging.info(\"Predicting\")\n",
    "    y_expected = doc_labels.iloc[test_doc_indices].values\n",
    "    y_actual = svm_classifier.predict(doc_vectors.iloc[test_doc_indices])\n",
    "\n",
    "    # evaluation:\n",
    "    # logits\n",
    "    logging.info(\"Probs collection\")\n",
    "    class_probs = svm_classifier.decision_function(doc_vectors.iloc[test_doc_indices])\n",
    "    class_ordered = list(svm_classifier.classes_)\n",
    "\n",
    "    class_actual_index = pd.Series(y_actual).apply(lambda cat_label: class_ordered.index(cat_label))\n",
    "    actual_prob = class_probs[np.arange(len(class_actual_index)), (class_actual_index)]\n",
    "\n",
    "    class_expected_index = pd.Series(y_expected).apply(lambda cat_label: class_ordered.index(cat_label))\n",
    "    expected_prob = class_probs[np.arange(len(class_actual_index)), (class_expected_index)]\n",
    "\n",
    "    new_logits = pd.DataFrame()\n",
    "    new_logits[\"actual_prob\"] = actual_prob\n",
    "    new_logits[\"expected_prob\"] = expected_prob\n",
    "    new_logits[\"actual_class\"] = y_actual\n",
    "    new_logits[\"expected_class\"] = y_expected\n",
    "    correct_logits = correct_logits.append(new_logits)\n",
    "\n",
    "    # accuracy\n",
    "    logging.info(\"Split results:\")\n",
    "    split_accuracy = accuracy_score(y_expected, y_actual)\n",
    "    logging.info(\"Run accuracy: %s\" % split_accuracy)\n",
    "    accuracies.append(split_accuracy)\n",
    "    split_cat_accuracies = map(lambda cat: accuracy_for_category(y_expected, y_actual, cat),\n",
    "                               d2v_wrapper.content_categories)\n",
    "    logging.info(\"Cat accuracies:\\n%s\" % split_cat_accuracies)\n",
    "    cat_accuracies = cat_accuracies.append(\n",
    "        pd.DataFrame(data=[split_cat_accuracies], columns=d2v_wrapper.content_categories))"
   ]
  },
  {
   "cell_type": "code",
   "execution_count": 16,
   "metadata": {
    "collapsed": false
   },
   "outputs": [
    {
     "name": "stderr",
     "output_type": "stream",
     "text": [
      "2017-04-11 10:32:11,549 : INFO : split accuracies: [0.83901427913403959, 0.83815228660292596, 0.83072136436967048, 0.83704045176904462, 0.83481268011527376]\n",
      "2017-04-11 10:32:11,550 : INFO : mean accuracy: 0.835948212398\n",
      "2017-04-11 10:32:11,560 : INFO : categories accuracies: \n",
      "     amq       eap  webserver  datagrid      fuse      brms  bpmsuite  \\\n",
      "0  0.304  0.925906   0.303867  0.456140  0.839629  0.435897  0.517949   \n",
      "0  0.272  0.935168   0.248619  0.315789  0.874555  0.407725  0.492308   \n",
      "0  0.240  0.923182   0.209945  0.315789  0.854597  0.407725  0.528205   \n",
      "0  0.240  0.932171   0.298343  0.333333  0.850321  0.424893  0.489691   \n",
      "0  0.168  0.928357   0.227778  0.456140  0.857448  0.450644  0.479381   \n",
      "\n",
      "   devstudio       cdk  developertoolset      rhel  softwarecollections  \\\n",
      "0   0.751138  0.071429               0.0  0.929931                  0.0   \n",
      "0   0.747720  0.142857               0.0  0.928408                  0.0   \n",
      "0   0.741641  0.071429               0.0  0.927591                  0.0   \n",
      "0   0.753799  0.142857               0.0  0.922256                  0.0   \n",
      "0   0.752280  0.153846               0.0  0.931402                  0.0   \n",
      "\n",
      "   mobileplatform  openshift  \n",
      "0        0.428571   0.819083  \n",
      "0        0.350000   0.753408  \n",
      "0        0.550000   0.769231  \n",
      "0        0.450000   0.786600  \n",
      "0        0.350000   0.767990  \n",
      "2017-04-11 10:32:11,561 : INFO : categories accuracies mean: \n",
      "amq                    0.244800\n",
      "eap                    0.928957\n",
      "webserver              0.257710\n",
      "datagrid               0.375439\n",
      "fuse                   0.855310\n",
      "brms                   0.425377\n",
      "bpmsuite               0.501507\n",
      "devstudio              0.749316\n",
      "cdk                    0.116484\n",
      "developertoolset       0.000000\n",
      "rhel                   0.927918\n",
      "softwarecollections    0.000000\n",
      "mobileplatform         0.425714\n",
      "openshift              0.779262\n",
      "dtype: float64\n",
      "2017-04-11 10:32:11,562 : INFO : done\n"
     ]
    }
   ],
   "source": [
    "logging.info(\"split accuracies: %s\" % accuracies)\n",
    "logging.info(\"mean accuracy: %s\" % np.mean(accuracies))\n",
    "logging.info(\"categories accuracies: \\n%s\" % cat_accuracies)\n",
    "logging.info(\"categories accuracies mean: \\n%s\" % cat_accuracies.mean())\n",
    "logging.info(\"done\")"
   ]
  },
  {
   "cell_type": "code",
   "execution_count": 11,
   "metadata": {
    "collapsed": false,
    "scrolled": false
   },
   "outputs": [
    {
     "data": {
      "text/html": [
       "<div>\n",
       "<table border=\"1\" class=\"dataframe\">\n",
       "  <thead>\n",
       "    <tr style=\"text-align: right;\">\n",
       "      <th></th>\n",
       "      <th>label</th>\n",
       "      <th>accuracy</th>\n",
       "      <th>size</th>\n",
       "    </tr>\n",
       "  </thead>\n",
       "  <tbody>\n",
       "    <tr>\n",
       "      <th>11</th>\n",
       "      <td>softwarecollections</td>\n",
       "      <td>0.000000</td>\n",
       "      <td>5</td>\n",
       "    </tr>\n",
       "    <tr>\n",
       "      <th>9</th>\n",
       "      <td>developertoolset</td>\n",
       "      <td>0.000000</td>\n",
       "      <td>12</td>\n",
       "    </tr>\n",
       "    <tr>\n",
       "      <th>8</th>\n",
       "      <td>cdk</td>\n",
       "      <td>0.014286</td>\n",
       "      <td>69</td>\n",
       "    </tr>\n",
       "    <tr>\n",
       "      <th>12</th>\n",
       "      <td>mobileplatform</td>\n",
       "      <td>0.119048</td>\n",
       "      <td>101</td>\n",
       "    </tr>\n",
       "    <tr>\n",
       "      <th>3</th>\n",
       "      <td>datagrid</td>\n",
       "      <td>0.210526</td>\n",
       "      <td>285</td>\n",
       "    </tr>\n",
       "    <tr>\n",
       "      <th>0</th>\n",
       "      <td>amq</td>\n",
       "      <td>0.185600</td>\n",
       "      <td>625</td>\n",
       "    </tr>\n",
       "    <tr>\n",
       "      <th>2</th>\n",
       "      <td>webserver</td>\n",
       "      <td>0.212382</td>\n",
       "      <td>904</td>\n",
       "    </tr>\n",
       "    <tr>\n",
       "      <th>6</th>\n",
       "      <td>bpmsuite</td>\n",
       "      <td>0.488195</td>\n",
       "      <td>973</td>\n",
       "    </tr>\n",
       "    <tr>\n",
       "      <th>5</th>\n",
       "      <td>brms</td>\n",
       "      <td>0.431408</td>\n",
       "      <td>1166</td>\n",
       "    </tr>\n",
       "    <tr>\n",
       "      <th>7</th>\n",
       "      <td>devstudio</td>\n",
       "      <td>0.736251</td>\n",
       "      <td>3291</td>\n",
       "    </tr>\n",
       "    <tr>\n",
       "      <th>13</th>\n",
       "      <td>openshift</td>\n",
       "      <td>0.776794</td>\n",
       "      <td>4032</td>\n",
       "    </tr>\n",
       "    <tr>\n",
       "      <th>10</th>\n",
       "      <td>rhel</td>\n",
       "      <td>0.932490</td>\n",
       "      <td>6562</td>\n",
       "    </tr>\n",
       "    <tr>\n",
       "      <th>4</th>\n",
       "      <td>fuse</td>\n",
       "      <td>0.857448</td>\n",
       "      <td>7015</td>\n",
       "    </tr>\n",
       "    <tr>\n",
       "      <th>1</th>\n",
       "      <td>eap</td>\n",
       "      <td>0.933969</td>\n",
       "      <td>18355</td>\n",
       "    </tr>\n",
       "  </tbody>\n",
       "</table>\n",
       "</div>"
      ],
      "text/plain": [
       "                  label  accuracy   size\n",
       "11  softwarecollections  0.000000      5\n",
       "9      developertoolset  0.000000     12\n",
       "8                   cdk  0.014286     69\n",
       "12       mobileplatform  0.119048    101\n",
       "3              datagrid  0.210526    285\n",
       "0                   amq  0.185600    625\n",
       "2             webserver  0.212382    904\n",
       "6              bpmsuite  0.488195    973\n",
       "5                  brms  0.431408   1166\n",
       "7             devstudio  0.736251   3291\n",
       "13            openshift  0.776794   4032\n",
       "10                 rhel  0.932490   6562\n",
       "4                  fuse  0.857448   7015\n",
       "1                   eap  0.933969  18355"
      ]
     },
     "execution_count": 11,
     "metadata": {},
     "output_type": "execute_result"
    }
   ],
   "source": [
    "# accuracies of categories together with their size\n",
    "\n",
    "labels_size = pd.DataFrame()\n",
    "labels_size[\"label\"] = doc_labels.unique()\n",
    "labels_size[\"accuracy\"] = cat_accuracies.mean().values\n",
    "labels_size[\"size\"] = [len(doc_labels[doc_labels == cat]) for cat in labels_size[\"label\"]]\n",
    "labels_size = labels_size.sort_values(by=[\"size\"])\n",
    "\n",
    "labels_size"
   ]
  },
  {
   "cell_type": "code",
   "execution_count": 12,
   "metadata": {
    "collapsed": false,
    "scrolled": false
   },
   "outputs": [
    {
     "data": {
      "text/html": [
       "<div>\n",
       "<table border=\"1\" class=\"dataframe\">\n",
       "  <thead>\n",
       "    <tr style=\"text-align: right;\">\n",
       "      <th></th>\n",
       "      <th>actual_prob</th>\n",
       "      <th>expected_prob</th>\n",
       "      <th>actual_class</th>\n",
       "      <th>expected_class</th>\n",
       "    </tr>\n",
       "  </thead>\n",
       "  <tbody>\n",
       "    <tr>\n",
       "      <th>0</th>\n",
       "      <td>0.209962</td>\n",
       "      <td>0.209962</td>\n",
       "      <td>eap</td>\n",
       "      <td>eap</td>\n",
       "    </tr>\n",
       "    <tr>\n",
       "      <th>1</th>\n",
       "      <td>-0.509608</td>\n",
       "      <td>-0.523146</td>\n",
       "      <td>fuse</td>\n",
       "      <td>eap</td>\n",
       "    </tr>\n",
       "    <tr>\n",
       "      <th>2</th>\n",
       "      <td>0.383700</td>\n",
       "      <td>0.383700</td>\n",
       "      <td>fuse</td>\n",
       "      <td>fuse</td>\n",
       "    </tr>\n",
       "    <tr>\n",
       "      <th>3</th>\n",
       "      <td>0.380885</td>\n",
       "      <td>-1.407061</td>\n",
       "      <td>eap</td>\n",
       "      <td>rhel</td>\n",
       "    </tr>\n",
       "    <tr>\n",
       "      <th>4</th>\n",
       "      <td>0.470171</td>\n",
       "      <td>0.470171</td>\n",
       "      <td>eap</td>\n",
       "      <td>eap</td>\n",
       "    </tr>\n",
       "    <tr>\n",
       "      <th>5</th>\n",
       "      <td>-0.602315</td>\n",
       "      <td>-0.749417</td>\n",
       "      <td>brms</td>\n",
       "      <td>bpmsuite</td>\n",
       "    </tr>\n",
       "    <tr>\n",
       "      <th>6</th>\n",
       "      <td>0.856199</td>\n",
       "      <td>0.856199</td>\n",
       "      <td>rhel</td>\n",
       "      <td>rhel</td>\n",
       "    </tr>\n",
       "    <tr>\n",
       "      <th>7</th>\n",
       "      <td>0.545893</td>\n",
       "      <td>0.545893</td>\n",
       "      <td>eap</td>\n",
       "      <td>eap</td>\n",
       "    </tr>\n",
       "    <tr>\n",
       "      <th>8</th>\n",
       "      <td>-0.048996</td>\n",
       "      <td>-1.036474</td>\n",
       "      <td>eap</td>\n",
       "      <td>openshift</td>\n",
       "    </tr>\n",
       "    <tr>\n",
       "      <th>9</th>\n",
       "      <td>-0.271008</td>\n",
       "      <td>-0.532023</td>\n",
       "      <td>fuse</td>\n",
       "      <td>eap</td>\n",
       "    </tr>\n",
       "    <tr>\n",
       "      <th>10</th>\n",
       "      <td>0.403575</td>\n",
       "      <td>0.403575</td>\n",
       "      <td>fuse</td>\n",
       "      <td>fuse</td>\n",
       "    </tr>\n",
       "    <tr>\n",
       "      <th>11</th>\n",
       "      <td>-0.397295</td>\n",
       "      <td>-0.558777</td>\n",
       "      <td>fuse</td>\n",
       "      <td>openshift</td>\n",
       "    </tr>\n",
       "    <tr>\n",
       "      <th>12</th>\n",
       "      <td>0.800431</td>\n",
       "      <td>0.800431</td>\n",
       "      <td>openshift</td>\n",
       "      <td>openshift</td>\n",
       "    </tr>\n",
       "    <tr>\n",
       "      <th>13</th>\n",
       "      <td>0.395572</td>\n",
       "      <td>0.395572</td>\n",
       "      <td>rhel</td>\n",
       "      <td>rhel</td>\n",
       "    </tr>\n",
       "    <tr>\n",
       "      <th>14</th>\n",
       "      <td>-0.523515</td>\n",
       "      <td>-0.809109</td>\n",
       "      <td>eap</td>\n",
       "      <td>openshift</td>\n",
       "    </tr>\n",
       "    <tr>\n",
       "      <th>15</th>\n",
       "      <td>0.848145</td>\n",
       "      <td>0.848145</td>\n",
       "      <td>eap</td>\n",
       "      <td>eap</td>\n",
       "    </tr>\n",
       "    <tr>\n",
       "      <th>16</th>\n",
       "      <td>0.206508</td>\n",
       "      <td>0.206508</td>\n",
       "      <td>openshift</td>\n",
       "      <td>openshift</td>\n",
       "    </tr>\n",
       "    <tr>\n",
       "      <th>17</th>\n",
       "      <td>-0.264668</td>\n",
       "      <td>-0.672794</td>\n",
       "      <td>eap</td>\n",
       "      <td>fuse</td>\n",
       "    </tr>\n",
       "    <tr>\n",
       "      <th>18</th>\n",
       "      <td>0.226483</td>\n",
       "      <td>0.226483</td>\n",
       "      <td>rhel</td>\n",
       "      <td>rhel</td>\n",
       "    </tr>\n",
       "    <tr>\n",
       "      <th>19</th>\n",
       "      <td>0.490075</td>\n",
       "      <td>-0.122241</td>\n",
       "      <td>eap</td>\n",
       "      <td>datagrid</td>\n",
       "    </tr>\n",
       "    <tr>\n",
       "      <th>20</th>\n",
       "      <td>0.462471</td>\n",
       "      <td>0.462471</td>\n",
       "      <td>eap</td>\n",
       "      <td>eap</td>\n",
       "    </tr>\n",
       "    <tr>\n",
       "      <th>21</th>\n",
       "      <td>1.371900</td>\n",
       "      <td>1.371900</td>\n",
       "      <td>eap</td>\n",
       "      <td>eap</td>\n",
       "    </tr>\n",
       "    <tr>\n",
       "      <th>22</th>\n",
       "      <td>-0.328138</td>\n",
       "      <td>-0.518255</td>\n",
       "      <td>webserver</td>\n",
       "      <td>eap</td>\n",
       "    </tr>\n",
       "    <tr>\n",
       "      <th>23</th>\n",
       "      <td>-0.000055</td>\n",
       "      <td>-0.000055</td>\n",
       "      <td>devstudio</td>\n",
       "      <td>devstudio</td>\n",
       "    </tr>\n",
       "    <tr>\n",
       "      <th>24</th>\n",
       "      <td>-0.238399</td>\n",
       "      <td>-0.238399</td>\n",
       "      <td>fuse</td>\n",
       "      <td>fuse</td>\n",
       "    </tr>\n",
       "  </tbody>\n",
       "</table>\n",
       "</div>"
      ],
      "text/plain": [
       "    actual_prob  expected_prob actual_class expected_class\n",
       "0      0.209962       0.209962          eap            eap\n",
       "1     -0.509608      -0.523146         fuse            eap\n",
       "2      0.383700       0.383700         fuse           fuse\n",
       "3      0.380885      -1.407061          eap           rhel\n",
       "4      0.470171       0.470171          eap            eap\n",
       "5     -0.602315      -0.749417         brms       bpmsuite\n",
       "6      0.856199       0.856199         rhel           rhel\n",
       "7      0.545893       0.545893          eap            eap\n",
       "8     -0.048996      -1.036474          eap      openshift\n",
       "9     -0.271008      -0.532023         fuse            eap\n",
       "10     0.403575       0.403575         fuse           fuse\n",
       "11    -0.397295      -0.558777         fuse      openshift\n",
       "12     0.800431       0.800431    openshift      openshift\n",
       "13     0.395572       0.395572         rhel           rhel\n",
       "14    -0.523515      -0.809109          eap      openshift\n",
       "15     0.848145       0.848145          eap            eap\n",
       "16     0.206508       0.206508    openshift      openshift\n",
       "17    -0.264668      -0.672794          eap           fuse\n",
       "18     0.226483       0.226483         rhel           rhel\n",
       "19     0.490075      -0.122241          eap       datagrid\n",
       "20     0.462471       0.462471          eap            eap\n",
       "21     1.371900       1.371900          eap            eap\n",
       "22    -0.328138      -0.518255    webserver            eap\n",
       "23    -0.000055      -0.000055    devstudio      devstudio\n",
       "24    -0.238399      -0.238399         fuse           fuse"
      ]
     },
     "execution_count": 12,
     "metadata": {},
     "output_type": "execute_result"
    }
   ],
   "source": [
    "# computed actual_prob probabilities might be used as ranking system of the relevance of documents towards categories\n",
    "correct_logits.head(25)"
   ]
  },
  {
   "cell_type": "code",
   "execution_count": 17,
   "metadata": {
    "collapsed": false,
    "scrolled": false
   },
   "outputs": [
    {
     "data": {
      "text/plain": [
       "array(['openshift', 'rhel', 'eap', 'fuse', 'devstudio', 'brms'], dtype=object)"
      ]
     },
     "execution_count": 17,
     "metadata": {},
     "output_type": "execute_result"
    }
   ],
   "source": [
    "biggest_cats = labels_size[\"label\"][-6:]\n",
    "biggest_cats_df = correct_logits[correct_logits[\"expected_class\"].isin(biggest_cats)]\n",
    "biggest_cats_df[\"expected_class\"].unique()"
   ]
  },
  {
   "cell_type": "code",
   "execution_count": 18,
   "metadata": {
    "collapsed": false,
    "scrolled": false
   },
   "outputs": [
    {
     "data": {
      "text/plain": [
       "<matplotlib.axes.AxesSubplot at 0x7efc5c34ec10>"
      ]
     },
     "execution_count": 18,
     "metadata": {},
     "output_type": "execute_result"
    },
    {
     "data": {
      "image/png": "[encoded data removed]",
      "text/plain": [
       "<matplotlib.figure.Figure at 0x7efc5c34e710>"
      ]
     },
     "metadata": {},
     "output_type": "display_data"
    }
   ],
   "source": [
    "# boxplot visualization of the scores of documents against its own category (biggest 6 classes)\n",
    "# the higher the better\n",
    "# we see that it goes much better for bigger categories\n",
    "\n",
    "# boxplot: 50% of data in box, 90% in dashed intervals\n",
    "%matplotlib inline\n",
    "import matplotlib.pyplot as plt\n",
    "\n",
    "join_label_size = labels_size\n",
    "join_label_size[\"expected_class\"] = join_label_size[\"label\"]\n",
    "\n",
    "biggest_cats_df.boxplot(\"expected_prob\", by=\"expected_class\", figsize=(10,5))"
   ]
  },
  {
   "cell_type": "code",
   "execution_count": 19,
   "metadata": {
    "collapsed": false
   },
   "outputs": [
    {
     "data": {
      "text/plain": [
       "count     6821.000000\n",
       "mean       145.372233\n",
       "std       1031.526677\n",
       "min         10.000000\n",
       "25%         19.000000\n",
       "50%         33.000000\n",
       "75%         76.000000\n",
       "max      79212.000000\n",
       "dtype: float64"
      ]
     },
     "execution_count": 19,
     "metadata": {},
     "output_type": "execute_result"
    }
   ],
   "source": [
    "# incorrect classification characteristics\n",
    "wrong_docs_wordlist = wrong_docs_ids.apply(lambda doc_id: d2v_wrapper.all_content_tagged_docs.iloc[doc_id].words)\n",
    "wrong_docs_len = wrong_docs_wordlist.apply(lambda doc: len(doc))\n",
    "\n",
    "wrong_docs_len.describe()"
   ]
  },
  {
   "cell_type": "code",
   "execution_count": 20,
   "metadata": {
    "collapsed": false
   },
   "outputs": [
    {
     "data": {
      "text/plain": [
       "count    36657.000000\n",
       "mean       135.858390\n",
       "std        487.444108\n",
       "min         10.000000\n",
       "25%         26.000000\n",
       "50%         41.000000\n",
       "75%        105.000000\n",
       "max      56006.000000\n",
       "dtype: float64"
      ]
     },
     "execution_count": 20,
     "metadata": {},
     "output_type": "execute_result"
    }
   ],
   "source": [
    "# correct classification characteristics\n",
    "all_indices = pd.Series(np.arange(len(doc_vectors)))\n",
    "correct_docs =  all_indices[~all_indices.isin(wrong_docs_ids)]\n",
    "correct_docs_wordlist = correct_docs.apply(lambda doc_id: d2v_wrapper.all_content_tagged_docs.iloc[doc_id].words)\n",
    "correct_docs_len = correct_docs_wordlist.apply(lambda doc: len(doc))\n",
    "\n",
    "correct_docs_len.describe()"
   ]
  },
  {
   "cell_type": "code",
   "execution_count": null,
   "metadata": {
    "collapsed": true
   },
   "outputs": [],
   "source": [
    ""
   ]
  }
 ],
 "metadata": {
  "kernelspec": {
   "display_name": "Python 2",
   "language": "python",
   "name": "python2"
  },
  "language_info": {
   "codemirror_mode": {
    "name": "ipython",
    "version": 2.0
   },
   "file_extension": ".py",
   "mimetype": "text/x-python",
   "name": "python",
   "nbconvert_exporter": "python",
   "pygments_lexer": "ipython2",
   "version": "2.7.8"
  }
 },
 "nbformat": 4,
 "nbformat_minor": 0
}