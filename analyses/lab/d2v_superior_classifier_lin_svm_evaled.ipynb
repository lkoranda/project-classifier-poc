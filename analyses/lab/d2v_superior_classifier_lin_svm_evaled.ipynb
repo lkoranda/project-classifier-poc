{
 "cells": [
  {
   "cell_type": "code",
   "execution_count": 1,
   "metadata": {
    "collapsed": false,
    "scrolled": false
   },
   "outputs": [],
   "source": [
    "# a demonstration of use of the two-layered neural network classifier \n",
    "# for content classification on doc2vec docs vectors\n",
    "# where softmax probabilities of the classified content against the given categories can be used as relevance rating\n",
    "# towards the classified categories\n",
    "\n",
    "# references:\n",
    "# [1] https://deeplearning4j.org/word2vec.html\n",
    "# [2] https://deeplearning4j.org/welldressed-recommendation-engine\n",
    "# [3] https://www.tensorflow.org/get_started/tflearn\n",
    "# [4] http://scikit-learn.org/stable/modules/cross_validation.html\n",
    "\n",
    "# author Michal Stefanik  mistefan  at  redhat dot com\n",
    "\n",
    "import numpy as np\n",
    "import pandas as pd\n",
    "import random\n",
    "\n",
    "from sklearn.metrics import accuracy_score\n",
    "from sklearn.model_selection import StratifiedKFold\n",
    "\n",
    "# D2VWrapper is our implementation providing vectorization of the documents based on doc2vec\n",
    "from dependencies.doc2vec_wrapper import D2VWrapper\n",
    "\n",
    "import logging\n",
    "logging.basicConfig(format='%(asctime)s : %(levelname)s : %(message)s', level=logging.INFO)"
   ]
  },
  {
   "cell_type": "code",
   "execution_count": 2,
   "metadata": {
    "collapsed": true,
    "scrolled": false
   },
   "outputs": [],
   "source": [
    "# target categories\n",
    "product_list = [\"amq\", \"eap\", \"webserver\", \"datagrid\", \"fuse\", \"brms\", \"bpmsuite\", \"devstudio\", \"cdk\",\n",
    "                \"developertoolset\", \"rhel\", \"softwarecollections\", \"mobileplatform\", \"openshift\"]"
   ]
  },
  {
   "cell_type": "code",
   "execution_count": 3,
   "metadata": {
    "collapsed": false,
    "scrolled": false
   },
   "outputs": [],
   "source": [
    "# extended evaluation metric on selected category\n",
    "def accuracy_for_category(y_expected, y_actual, label):\n",
    "    label_expected = y_expected[y_expected == label]\n",
    "    intersect = y_expected[np.where(y_expected == y_actual)]\n",
    "    label_intersect = intersect[intersect == label]\n",
    "    if len(label_expected) == 0:\n",
    "        logging.warn(\"Accuracy of %s category evaluated on 0 samples\" % label)\n",
    "        return 1 if len(label_intersect) == 0 else 0\n",
    "    else:\n",
    "        return float(len(label_intersect)) / len(label_expected)"
   ]
  },
  {
   "cell_type": "code",
   "execution_count": null,
   "metadata": {
    "collapsed": false,
    "scrolled": true
   },
   "outputs": [],
   "source": [
    "# initialize d2v_wrapper providing as well metadata about the models state\n",
    "d2v_wrapper = D2VWrapper(content_categories=product_list,\n",
    "                         vector_length=800)\n",
    "\n",
    "# EITHER initialize the vocab of documents and minimize the distances of embeddings in training phase\n",
    "d2v_wrapper.init_model_vocab(content_basepath=\"../../data/content/prod\",\n",
    "                             basepath_suffix=\"_content.csv\", drop_short_docs=10)\n",
    "d2v_wrapper.train_model(shuffle=True, epochs=10)\n",
    "\n",
    "# OR load initialized and trained wrapper if available\n",
    "# d2v_wrapper.load_persisted_wrapper(\"trained_models/wrapper/10epoch_train_stem\")"
   ]
  },
  {
   "cell_type": "code",
   "execution_count": 5,
   "metadata": {
    "collapsed": false
   },
   "outputs": [
    {
     "name": "stderr",
     "output_type": "stream",
     "text": [
      "2017-08-24 15:04:07,319 : INFO : Docs vector inference started\n",
      "2017-08-24 15:04:07,399 : INFO : Initialized 51418 headers of 51418 for vectorization\n",
      "2017-08-24 15:04:07,400 : INFO : Inferring vectors of 51418 documents\n",
      "2017-08-24 15:14:45,372 : INFO : Inferring vectors of 51418 headers\n"
     ]
    }
   ],
   "source": [
    "# transform the doc data set into a vector set of the given vector_length\n",
    "doc_vectors_labeled = d2v_wrapper.infer_vocab_content_vectors()\n",
    "doc_vectors = doc_vectors_labeled.iloc[:, :-1]\n",
    "doc_labels = doc_vectors_labeled.iloc[:, -1]"
   ]
  },
  {
   "cell_type": "code",
   "execution_count": 10,
   "metadata": {
    "collapsed": false
   },
   "outputs": [
    {
     "name": "stderr",
     "output_type": "stream",
     "text": [
      "2017-08-25 13:29:47,257 : INFO : Serializing wrapper model to: trained_models/wrapper/newest\n",
      "2017-08-25 13:29:47,257 : INFO : Persisting all_base_vocab_docs objects\n",
      "2017-08-25 13:29:58,819 : INFO : Persisting inferred vectors\n",
      "2017-08-25 13:31:39,623 : INFO : Persisting trained Doc2Vec model\n",
      "2017-08-25 13:31:39,624 : INFO : saving Doc2Vec object under trained_models/wrapper/newest/doc2vec.mod, separately None\n",
      "2017-08-25 13:31:39,624 : INFO : storing numpy array 'doctag_syn0' to trained_models/wrapper/newest/doc2vec.mod.docvecs.doctag_syn0.npy\n",
      "2017-08-25 13:31:40,488 : INFO : storing numpy array 'syn1neg' to trained_models/wrapper/newest/doc2vec.mod.syn1neg.npy\n",
      "2017-08-25 13:32:15,118 : INFO : not storing attribute syn0norm\n",
      "2017-08-25 13:32:15,119 : INFO : storing numpy array 'syn0' to trained_models/wrapper/newest/doc2vec.mod.syn0.npy\n",
      "2017-08-25 13:32:28,798 : INFO : not storing attribute cum_table\n"
     ]
    }
   ],
   "source": [
    "d2v_wrapper.persist_trained_wrapper(\"trained_models/wrapper/newest\")"
   ]
  },
  {
   "cell_type": "code",
   "execution_count": 11,
   "metadata": {
    "collapsed": false
   },
   "outputs": [
    {
     "data": {
      "text/plain": [
       "count     51418\n",
       "unique       16\n",
       "top         eap\n",
       "freq      18302\n",
       "Name: y, dtype: object"
      ]
     },
     "execution_count": 11,
     "metadata": {},
     "output_type": "execute_result"
    }
   ],
   "source": [
    "doc_labels.describe()"
   ]
  },
  {
   "cell_type": "code",
   "execution_count": 20,
   "metadata": {
    "collapsed": false,
    "scrolled": false
   },
   "outputs": [
    {
     "name": "stderr",
     "output_type": "stream",
     "text": [
      "2017-08-25 13:53:25,051 : INFO : Shuffling indices\n",
      "2017-08-25 13:53:25,100 : INFO : Fitting classifier\n",
      "2017-08-25 13:54:32,483 : INFO : Predicting\n",
      "2017-08-25 13:54:36,094 : INFO : Probs collection\n",
      "2017-08-25 13:54:39,714 : INFO : Split results:\n",
      "2017-08-25 13:54:39,721 : INFO : Run accuracy: 0.893887863181\n",
      "2017-08-25 13:54:39,730 : INFO : Cat accuracies:\n",
      "[0.9027181688125894, 0.8834142956280361, 0.49206349206349204, 0.5333333333333333, 0.6190476190476191, 0.0, 0.3333333333333333, 0.5845588235294118, 0.453125, 0.3333333333333333, 0.8740740740740741, 0.9946416610850636, 0.9539524174980814, 0.366412213740458, 0.46875, 0.9472821633433488]\n",
      "2017-08-25 13:54:39,734 : INFO : Shuffling indices\n",
      "2017-08-25 13:54:39,794 : INFO : Fitting classifier\n",
      "2017-08-25 13:55:43,694 : INFO : Predicting\n",
      "2017-08-25 13:55:47,123 : INFO : Probs collection\n",
      "2017-08-25 13:55:50,522 : INFO : Split results:\n",
      "2017-08-25 13:55:50,529 : INFO : Run accuracy: 0.892010108865\n",
      "2017-08-25 13:55:50,537 : INFO : Cat accuracies:\n",
      "[0.8898426323319027, 0.8757807078417765, 0.5396825396825397, 0.5866666666666667, 0.7, 0.0, 0.26666666666666666, 0.5551470588235294, 0.4031413612565445, 0.3333333333333333, 0.8577777777777778, 0.9939718687206965, 0.946236559139785, 0.33587786259541985, 0.5416666666666666, 0.9530183010106529]\n",
      "2017-08-25 13:55:50,540 : INFO : Shuffling indices\n",
      "2017-08-25 13:55:50,596 : INFO : Fitting classifier\n",
      "2017-08-25 13:56:51,301 : INFO : Predicting\n",
      "2017-08-25 13:56:55,033 : INFO : Probs collection\n",
      "2017-08-25 13:56:59,077 : INFO : Split results:\n",
      "2017-08-25 13:56:59,083 : INFO : Run accuracy: 0.892735583001\n",
      "2017-08-25 13:56:59,091 : INFO : Cat accuracies:\n",
      "[0.8868194842406877, 0.8848022206800833, 0.5079365079365079, 0.5333333333333333, 0.7, 0.0, 0.2857142857142857, 0.47058823529411764, 0.47643979057591623, 0.0, 0.845925925925926, 0.9973190348525469, 0.9623655913978495, 0.3969465648854962, 0.4375, 0.9538251366120218]\n",
      "2017-08-25 13:56:59,094 : INFO : Shuffling indices\n",
      "2017-08-25 13:56:59,140 : INFO : Fitting classifier\n",
      "2017-08-25 13:58:03,058 : INFO : Predicting\n",
      "2017-08-25 13:58:06,601 : INFO : Probs collection\n",
      "2017-08-25 13:58:10,162 : INFO : Split results:\n",
      "2017-08-25 13:58:10,169 : INFO : Run accuracy: 0.895223270746\n",
      "2017-08-25 13:58:10,177 : INFO : Cat accuracies:\n",
      "[0.8767908309455588, 0.8743927827897293, 0.5238095238095238, 0.5714285714285714, 0.7, 0.0, 0.5714285714285714, 0.5424354243542435, 0.5078534031413613, 0.0, 0.8545994065281899, 0.9959785522788204, 0.9585253456221198, 0.366412213740458, 0.5368421052631579, 0.9546448087431694]\n",
      "2017-08-25 13:58:10,179 : INFO : Shuffling indices\n",
      "2017-08-25 13:58:10,238 : INFO : Fitting classifier\n",
      "2017-08-25 13:59:21,596 : INFO : Predicting\n",
      "2017-08-25 13:59:25,266 : INFO : Probs collection\n",
      "2017-08-25 13:59:29,156 : INFO : Split results:\n",
      "2017-08-25 13:59:29,166 : INFO : Run accuracy: 0.892089131069\n",
      "2017-08-25 13:59:29,176 : INFO : Cat accuracies:\n",
      "[0.8954154727793696, 0.8882720333102012, 0.46774193548387094, 0.5133928571428571, 0.65, 0.0, 0.5, 0.5719557195571956, 0.47643979057591623, 0.5, 0.8471810089020771, 0.9939678284182306, 0.9554531490015361, 0.35384615384615387, 0.4842105263157895, 0.9459016393442623]\n"
     ]
    }
   ],
   "source": [
    "# classifier training and eval:\n",
    "from sklearn.svm import LinearSVC\n",
    "\n",
    "# results collection\n",
    "accuracies = []\n",
    "cat_accuracies = pd.DataFrame(columns=d2v_wrapper.content_categories)\n",
    "correct_logits = pd.DataFrame(columns=[\"actual_prob\", \"expected_prob\", \"actual_class\", \"expected_class\"])\n",
    "wrong_docs_ids = pd.Series()\n",
    "\n",
    "# evaluation on CV split persisting the categories respective size on each split\n",
    "strat_kfold = StratifiedKFold(n_splits=5, shuffle=True)\n",
    "\n",
    "for train_doc_indices, test_doc_indices in strat_kfold.split(doc_vectors, doc_labels):\n",
    "    logging.info(\"Shuffling indices\")\n",
    "    random.shuffle(train_doc_indices)\n",
    "    random.shuffle(test_doc_indices)\n",
    "\n",
    "    # training\n",
    "    svm_classifier = LinearSVC(C=0.1)\n",
    "    \n",
    "    logging.info(\"Fitting classifier\")\n",
    "    svm_classifier.fit(doc_vectors.iloc[train_doc_indices], doc_labels.iloc[train_doc_indices])\n",
    "\n",
    "    # testing\n",
    "    logging.info(\"Predicting\")\n",
    "    y_expected = doc_labels.iloc[test_doc_indices].values\n",
    "    y_actual = svm_classifier.predict(doc_vectors.iloc[test_doc_indices])\n",
    "\n",
    "    # evaluation:\n",
    "    # logits\n",
    "    logging.info(\"Probs collection\")\n",
    "    class_probs = svm_classifier.decision_function(doc_vectors.iloc[test_doc_indices])\n",
    "    class_ordered = list(svm_classifier.classes_)\n",
    "\n",
    "    class_actual_index = pd.Series(y_actual).apply(lambda cat_label: class_ordered.index(cat_label))\n",
    "    actual_prob = class_probs[np.arange(len(class_actual_index)), (class_actual_index)]\n",
    "\n",
    "    class_expected_index = pd.Series(y_expected).apply(lambda cat_label: class_ordered.index(cat_label))\n",
    "    expected_prob = class_probs[np.arange(len(class_actual_index)), (class_expected_index)]\n",
    "\n",
    "    new_logits = pd.DataFrame()\n",
    "    new_logits[\"actual_prob\"] = actual_prob\n",
    "    new_logits[\"expected_prob\"] = expected_prob\n",
    "    new_logits[\"actual_class\"] = y_actual\n",
    "    new_logits[\"expected_class\"] = y_expected\n",
    "    correct_logits = correct_logits.append(new_logits)\n",
    "    \n",
    "    new_wrong_ids = test_doc_indices[actual_prob == expected_prob]\n",
    "    wrong_docs_ids = wrong_docs_ids.append(pd.Series(new_wrong_ids))\n",
    "\n",
    "    # accuracy\n",
    "    logging.info(\"Split results:\")\n",
    "    split_accuracy = accuracy_score(y_expected, y_actual)\n",
    "    logging.info(\"Run accuracy: %s\" % split_accuracy)\n",
    "    accuracies.append(split_accuracy)\n",
    "    split_cat_accuracies = map(lambda cat: accuracy_for_category(y_expected, y_actual, cat),\n",
    "                               d2v_wrapper.content_categories)\n",
    "    logging.info(\"Cat accuracies:\\n%s\" % split_cat_accuracies)\n",
    "    cat_accuracies = cat_accuracies.append(\n",
    "        pd.DataFrame(data=[split_cat_accuracies], columns=d2v_wrapper.content_categories))"
   ]
  },
  {
   "cell_type": "code",
   "execution_count": 21,
   "metadata": {
    "collapsed": false
   },
   "outputs": [
    {
     "name": "stderr",
     "output_type": "stream",
     "text": [
      "2017-08-25 13:59:29,189 : INFO : split accuracies: [0.89388786318142066, 0.89201010886469678, 0.8927355830010697, 0.89522327074618158, 0.89208913106937826]\n",
      "2017-08-25 13:59:29,191 : INFO : mean accuracy: 0.893189191373\n",
      "2017-08-25 13:59:29,222 : INFO : categories accuracies: \n",
      "   openshift      fuse  datagrid  bpmsuite  mobileplatform  \\\n",
      "0   0.902718  0.883414  0.492063  0.533333        0.619048   \n",
      "0   0.889843  0.875781  0.539683  0.586667        0.700000   \n",
      "0   0.886819  0.884802  0.507937  0.533333        0.700000   \n",
      "0   0.876791  0.874393  0.523810  0.571429        0.700000   \n",
      "0   0.895415  0.888272  0.467742  0.513393        0.650000   \n",
      "\n",
      "   softwarecollections       cdk      brms  webserver  developertoolset  \\\n",
      "0                  0.0  0.333333  0.584559   0.453125          0.333333   \n",
      "0                  0.0  0.266667  0.555147   0.403141          0.333333   \n",
      "0                  0.0  0.285714  0.470588   0.476440          0.000000   \n",
      "0                  0.0  0.571429  0.542435   0.507853          0.000000   \n",
      "0                  0.0  0.500000  0.571956   0.476440          0.500000   \n",
      "\n",
      "   devstudio      None      rhel       amq       fsw       eap  \n",
      "0   0.874074  0.994642  0.953952  0.366412  0.468750  0.947282  \n",
      "0   0.857778  0.993972  0.946237  0.335878  0.541667  0.953018  \n",
      "0   0.845926  0.997319  0.962366  0.396947  0.437500  0.953825  \n",
      "0   0.854599  0.995979  0.958525  0.366412  0.536842  0.954645  \n",
      "0   0.847181  0.993968  0.955453  0.353846  0.484211  0.945902  \n",
      "2017-08-25 13:59:29,227 : INFO : categories accuracies mean: \n",
      "openshift              0.890317\n",
      "fuse                   0.881332\n",
      "datagrid               0.506247\n",
      "bpmsuite               0.547631\n",
      "mobileplatform         0.673810\n",
      "softwarecollections    0.000000\n",
      "cdk                    0.391429\n",
      "brms                   0.544937\n",
      "webserver              0.463400\n",
      "developertoolset       0.233333\n",
      "devstudio              0.855912\n",
      "None                   0.995176\n",
      "rhel                   0.955307\n",
      "amq                    0.363899\n",
      "fsw                    0.493794\n",
      "eap                    0.950934\n",
      "dtype: float64\n"
     ]
    }
   ],
   "source": [
    "logging.info(\"split accuracies: %s\" % accuracies)\n",
    "logging.info(\"mean accuracy: %s\" % np.mean(accuracies))\n",
    "logging.info(\"categories accuracies: \\n%s\" % cat_accuracies)\n",
    "logging.info(\"categories accuracies mean: \\n%s\" % cat_accuracies.mean())"
   ]
  },
  {
   "cell_type": "code",
   "execution_count": 22,
   "metadata": {
    "collapsed": false,
    "scrolled": false
   },
   "outputs": [
    {
     "data": {
      "text/html": [
       "<div>\n",
       "<table border=\"1\" class=\"dataframe\">\n",
       "  <thead>\n",
       "    <tr style=\"text-align: right;\">\n",
       "      <th></th>\n",
       "      <th>label</th>\n",
       "      <th>accuracy</th>\n",
       "      <th>size</th>\n",
       "    </tr>\n",
       "  </thead>\n",
       "  <tbody>\n",
       "    <tr>\n",
       "      <th>5</th>\n",
       "      <td>softwarecollections</td>\n",
       "      <td>0.000000</td>\n",
       "      <td>5</td>\n",
       "    </tr>\n",
       "    <tr>\n",
       "      <th>9</th>\n",
       "      <td>developertoolset</td>\n",
       "      <td>0.233333</td>\n",
       "      <td>12</td>\n",
       "    </tr>\n",
       "    <tr>\n",
       "      <th>6</th>\n",
       "      <td>cdk</td>\n",
       "      <td>0.391429</td>\n",
       "      <td>72</td>\n",
       "    </tr>\n",
       "    <tr>\n",
       "      <th>4</th>\n",
       "      <td>mobileplatform</td>\n",
       "      <td>0.673810</td>\n",
       "      <td>101</td>\n",
       "    </tr>\n",
       "    <tr>\n",
       "      <th>2</th>\n",
       "      <td>datagrid</td>\n",
       "      <td>0.506247</td>\n",
       "      <td>314</td>\n",
       "    </tr>\n",
       "    <tr>\n",
       "      <th>14</th>\n",
       "      <td>fsw</td>\n",
       "      <td>0.493794</td>\n",
       "      <td>478</td>\n",
       "    </tr>\n",
       "    <tr>\n",
       "      <th>13</th>\n",
       "      <td>amq</td>\n",
       "      <td>0.363899</td>\n",
       "      <td>654</td>\n",
       "    </tr>\n",
       "    <tr>\n",
       "      <th>8</th>\n",
       "      <td>webserver</td>\n",
       "      <td>0.463400</td>\n",
       "      <td>956</td>\n",
       "    </tr>\n",
       "    <tr>\n",
       "      <th>3</th>\n",
       "      <td>bpmsuite</td>\n",
       "      <td>0.547631</td>\n",
       "      <td>1123</td>\n",
       "    </tr>\n",
       "    <tr>\n",
       "      <th>7</th>\n",
       "      <td>brms</td>\n",
       "      <td>0.544937</td>\n",
       "      <td>1358</td>\n",
       "    </tr>\n",
       "    <tr>\n",
       "      <th>10</th>\n",
       "      <td>devstudio</td>\n",
       "      <td>0.855912</td>\n",
       "      <td>3373</td>\n",
       "    </tr>\n",
       "    <tr>\n",
       "      <th>0</th>\n",
       "      <td>openshift</td>\n",
       "      <td>0.890317</td>\n",
       "      <td>3492</td>\n",
       "    </tr>\n",
       "    <tr>\n",
       "      <th>12</th>\n",
       "      <td>rhel</td>\n",
       "      <td>0.955307</td>\n",
       "      <td>6511</td>\n",
       "    </tr>\n",
       "    <tr>\n",
       "      <th>1</th>\n",
       "      <td>fuse</td>\n",
       "      <td>0.881332</td>\n",
       "      <td>7205</td>\n",
       "    </tr>\n",
       "    <tr>\n",
       "      <th>11</th>\n",
       "      <td>None</td>\n",
       "      <td>0.995176</td>\n",
       "      <td>7462</td>\n",
       "    </tr>\n",
       "    <tr>\n",
       "      <th>15</th>\n",
       "      <td>eap</td>\n",
       "      <td>0.950934</td>\n",
       "      <td>18302</td>\n",
       "    </tr>\n",
       "  </tbody>\n",
       "</table>\n",
       "</div>"
      ],
      "text/plain": [
       "                  label  accuracy   size\n",
       "5   softwarecollections  0.000000      5\n",
       "9      developertoolset  0.233333     12\n",
       "6                   cdk  0.391429     72\n",
       "4        mobileplatform  0.673810    101\n",
       "2              datagrid  0.506247    314\n",
       "14                  fsw  0.493794    478\n",
       "13                  amq  0.363899    654\n",
       "8             webserver  0.463400    956\n",
       "3              bpmsuite  0.547631   1123\n",
       "7                  brms  0.544937   1358\n",
       "10            devstudio  0.855912   3373\n",
       "0             openshift  0.890317   3492\n",
       "12                 rhel  0.955307   6511\n",
       "1                  fuse  0.881332   7205\n",
       "11                 None  0.995176   7462\n",
       "15                  eap  0.950934  18302"
      ]
     },
     "execution_count": 22,
     "metadata": {},
     "output_type": "execute_result"
    }
   ],
   "source": [
    "# accuracies of categories together with their size\n",
    "\n",
    "labels_size = pd.DataFrame()\n",
    "labels_size[\"label\"] = doc_labels.unique()\n",
    "labels_size[\"accuracy\"] = cat_accuracies.mean().values\n",
    "labels_size[\"size\"] = [len(doc_labels[doc_labels == cat]) for cat in labels_size[\"label\"]]\n",
    "labels_size = labels_size.sort_values(by=[\"size\"])\n",
    "\n",
    "labels_size"
   ]
  },
  {
   "cell_type": "code",
   "execution_count": 23,
   "metadata": {
    "collapsed": false,
    "scrolled": false
   },
   "outputs": [
    {
     "data": {
      "text/plain": [
       "<matplotlib.axes.AxesSubplot at 0x7f9b2f9a89d0>"
      ]
     },
     "execution_count": 23,
     "metadata": {},
     "output_type": "execute_result"
    },
    {
     "data": {
      "image/png": "[encoded data removed]",
      "text/plain": [
       "<matplotlib.figure.Figure at 0x7f9b02ae2710>"
      ]
     },
     "metadata": {},
     "output_type": "display_data"
    }
   ],
   "source": [
    "# boxplot visualization of the scores of documents against its own category (biggest 6 classes)\n",
    "# the higher the better\n",
    "# we see that it goes much better for bigger categories\n",
    "\n",
    "# boxplot: 50% of data in box, q50 +- 1.5*<q25, q75> in whis intervals\n",
    "%matplotlib inline\n",
    "import matplotlib.pyplot as plt\n",
    "\n",
    "correct_logits.boxplot(\"expected_prob\", by=\"expected_class\", figsize=(10,5), rot=60)"
   ]
  },
  {
   "cell_type": "code",
   "execution_count": 24,
   "metadata": {
    "collapsed": false
   },
   "outputs": [
    {
     "data": {
      "text/plain": [
       "count    45926.000000\n",
       "mean       131.745591\n",
       "std        435.023213\n",
       "min         10.000000\n",
       "25%         27.000000\n",
       "50%         47.000000\n",
       "75%        115.000000\n",
       "max      56006.000000\n",
       "dtype: float64"
      ]
     },
     "execution_count": 24,
     "metadata": {},
     "output_type": "execute_result"
    }
   ],
   "source": [
    "# incorrect classification characteristics\n",
    "wrong_docs_wordlist = wrong_docs_ids.apply(lambda doc_id: d2v_wrapper.all_content_tagged_docs.iloc[doc_id].words)\n",
    "wrong_docs_len = wrong_docs_wordlist.apply(lambda doc: len(doc))\n",
    "\n",
    "wrong_docs_len.describe()"
   ]
  },
  {
   "cell_type": "code",
   "execution_count": 25,
   "metadata": {
    "collapsed": false
   },
   "outputs": [
    {
     "data": {
      "text/plain": [
       "count     5492.000000\n",
       "mean       158.586489\n",
       "std       1165.170377\n",
       "min         10.000000\n",
       "25%         18.000000\n",
       "50%         32.500000\n",
       "75%         80.000000\n",
       "max      79212.000000\n",
       "dtype: float64"
      ]
     },
     "execution_count": 25,
     "metadata": {},
     "output_type": "execute_result"
    }
   ],
   "source": [
    "# correct classification characteristics\n",
    "all_indices = pd.Series(np.arange(len(doc_vectors)))\n",
    "correct_docs =  all_indices[~all_indices.isin(wrong_docs_ids)]\n",
    "correct_docs_wordlist = correct_docs.apply(lambda doc_id: d2v_wrapper.all_content_tagged_docs.iloc[doc_id].words)\n",
    "correct_docs_len = correct_docs_wordlist.apply(lambda doc: len(doc))\n",
    "\n",
    "correct_docs_len.describe()"
   ]
  }
 ],
 "metadata": {
  "kernelspec": {
   "display_name": "Python 2",
   "language": "python",
   "name": "python2"
  },
  "language_info": {
   "codemirror_mode": {
    "name": "ipython",
    "version": 2
   },
   "file_extension": ".py",
   "mimetype": "text/x-python",
   "name": "python",
   "nbconvert_exporter": "python",
   "pygments_lexer": "ipython2",
   "version": "2.7.8"
  }
 },
 "nbformat": 4,
 "nbformat_minor": 0
}
