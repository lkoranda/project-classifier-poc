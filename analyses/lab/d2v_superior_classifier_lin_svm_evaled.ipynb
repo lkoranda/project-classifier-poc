{
 "cells": [
  {
   "cell_type": "code",
   "execution_count": 1,
   "metadata": {
    "collapsed": false,
    "scrolled": false
   },
   "outputs": [],
   "source": [
    "# a demonstration of use of the two-layered neural network classifier \n",
    "# for content classification on doc2vec docs vectors\n",
    "# where softmax probabilities of the classified content against the given categories can be used as relevance rating\n",
    "# towards the classified categories\n",
    "\n",
    "# references:\n",
    "# [1] https://deeplearning4j.org/word2vec.html\n",
    "# [2] https://deeplearning4j.org/welldressed-recommendation-engine\n",
    "# [3] https://www.tensorflow.org/get_started/tflearn\n",
    "# [4] http://scikit-learn.org/stable/modules/cross_validation.html\n",
    "\n",
    "# author Michal Stefanik  mistefan  at  redhat dot com\n",
    "\n",
    "import numpy as np\n",
    "import pandas as pd\n",
    "import random\n",
    "\n",
    "from sklearn.metrics import accuracy_score\n",
    "from sklearn.model_selection import StratifiedKFold\n",
    "\n",
    "# D2VWrapper is our implementation providing vectorization of the documents based on doc2vec\n",
    "from dependencies.doc2vec_wrapper import D2VWrapper\n",
    "\n",
    "import logging\n",
    "logging.basicConfig(format='%(asctime)s : %(levelname)s : %(message)s', level=logging.INFO)"
   ]
  },
  {
   "cell_type": "code",
   "execution_count": 2,
   "metadata": {
    "collapsed": true,
    "scrolled": false
   },
   "outputs": [],
   "source": [
    "# target categories\n",
    "product_list = [\"amq\", \"eap\", \"webserver\", \"datagrid\", \"fuse\", \"brms\", \"bpmsuite\", \"devstudio\", \"cdk\",\n",
    "                \"developertoolset\", \"rhel\", \"softwarecollections\", \"mobileplatform\", \"openshift\"]"
   ]
  },
  {
   "cell_type": "code",
   "execution_count": 3,
   "metadata": {
    "collapsed": false,
    "scrolled": false
   },
   "outputs": [],
   "source": [
    "# extended evaluation metric on selected category\n",
    "def accuracy_for_category(y_expected, y_actual, label):\n",
    "    label_expected = y_expected[y_expected == label]\n",
    "    intersect = y_expected[np.where(y_expected == y_actual)]\n",
    "    label_intersect = intersect[intersect == label]\n",
    "    if len(label_expected) == 0:\n",
    "        logging.warn(\"Accuracy of %s category evaluated on 0 samples\" % label)\n",
    "        return 1 if len(label_intersect) == 0 else 0\n",
    "    else:\n",
    "        return float(len(label_intersect)) / len(label_expected)"
   ]
  },
  {
   "cell_type": "code",
   "execution_count": 4,
   "metadata": {
    "collapsed": false,
    "scrolled": true
   },
   "outputs": [
    {
     "name": "stderr",
     "output_type": "stream",
     "text": [
      "2017-08-28 14:11:40,300 : INFO : Loading serialized wrapper model from: trained_models/wrapper/newest\n",
      "2017-08-28 14:11:40,302 : INFO : Loading all_base_vocab_docs objects\n",
      "2017-08-28 14:11:50,224 : INFO : Initialized 51418 headers of 51418 for vectorization\n",
      "2017-08-28 14:11:50,225 : INFO : Loading all_base_vocab_docs vectors\n",
      "2017-08-28 14:13:05,041 : INFO : Loading trained Doc2Vec model\n",
      "2017-08-28 14:13:05,042 : INFO : loading Doc2Vec object from trained_models/wrapper/newest/doc2vec.mod\n",
      "2017-08-28 14:13:05,349 : INFO : loading docvecs recursively from trained_models/wrapper/newest/doc2vec.mod.docvecs.* with mmap=None\n",
      "2017-08-28 14:13:05,350 : INFO : loading doctag_syn0 from trained_models/wrapper/newest/doc2vec.mod.docvecs.doctag_syn0.npy with mmap=None\n",
      "2017-08-28 14:13:05,707 : INFO : loading syn1neg from trained_models/wrapper/newest/doc2vec.mod.syn1neg.npy with mmap=None\n",
      "2017-08-28 14:13:06,020 : INFO : loading syn0 from trained_models/wrapper/newest/doc2vec.mod.syn0.npy with mmap=None\n",
      "2017-08-28 14:13:06,338 : INFO : setting ignored attribute syn0norm to None\n",
      "2017-08-28 14:13:06,339 : INFO : setting ignored attribute cum_table to None\n"
     ]
    }
   ],
   "source": [
    "# initialize d2v_wrapper providing as well metadata about the models state\n",
    "d2v_wrapper = D2VWrapper(content_categories=product_list,\n",
    "                         vector_length=800)\n",
    "\n",
    "# EITHER initialize the vocab of documents and minimize the distances of embeddings in training phase\n",
    "# d2v_wrapper.init_model_vocab(content_basepath=\"../../data/content/prod\",\n",
    "#                              basepath_suffix=\"_content.csv\", drop_short_docs=10)\n",
    "# d2v_wrapper.train_model(shuffle=True, epochs=10)\n",
    "\n",
    "# OR load initialized and trained wrapper if available\n",
    "d2v_wrapper.load_persisted_wrapper(\"trained_models/wrapper/newest\")"
   ]
  },
  {
   "cell_type": "code",
   "execution_count": 5,
   "metadata": {
    "collapsed": false
   },
   "outputs": [
    {
     "name": "stderr",
     "output_type": "stream",
     "text": [
      "2017-08-28 14:13:06,422 : INFO : Returning already inferred doc vectors of 51418 all_base_vocab_docs\n"
     ]
    }
   ],
   "source": [
    "# transform the doc data set into a vector set of the given vector_length\n",
    "doc_vectors_labeled = d2v_wrapper.infer_vocab_content_vectors()\n",
    "doc_vectors = doc_vectors_labeled.iloc[:, :-1]\n",
    "doc_labels = doc_vectors_labeled.iloc[:, -1]"
   ]
  },
  {
   "cell_type": "code",
   "execution_count": 6,
   "metadata": {
    "collapsed": false
   },
   "outputs": [
    {
     "data": {
      "text/plain": [
       "count     51418\n",
       "unique       16\n",
       "top         eap\n",
       "freq      18302\n",
       "Name: y, dtype: object"
      ]
     },
     "execution_count": 6,
     "metadata": {},
     "output_type": "execute_result"
    }
   ],
   "source": [
    "doc_labels.describe()"
   ]
  },
  {
   "cell_type": "code",
   "execution_count": 7,
   "metadata": {
    "collapsed": false,
    "scrolled": false
   },
   "outputs": [
    {
     "name": "stderr",
     "output_type": "stream",
     "text": [
      "2017-08-28 14:13:07,418 : INFO : Shuffling indices\n",
      "2017-08-28 14:13:07,453 : INFO : Fitting classifier\n",
      "2017-08-28 14:14:02,827 : INFO : Predicting\n",
      "2017-08-28 14:14:06,420 : INFO : Probs collection\n",
      "2017-08-28 14:14:10,051 : INFO : Split results:\n",
      "2017-08-28 14:14:10,058 : INFO : Run accuracy: 0.893499174036\n",
      "2017-08-28 14:14:10,067 : INFO : Cat accuracies:\n",
      "[0.8955650929899857, 0.8834142956280361, 0.4603174603174603, 0.5555555555555556, 0.7142857142857143, 0.0, 0.3333333333333333, 0.5477941176470589, 0.4322916666666667, 0.3333333333333333, 0.8533333333333334, 0.9933020763563295, 0.9585571757482733, 0.2824427480916031, 0.5104166666666666, 0.9546571974870254]\n",
      "2017-08-28 14:14:10,069 : INFO : Shuffling indices\n",
      "2017-08-28 14:14:10,158 : INFO : Fitting classifier\n",
      "2017-08-28 14:15:03,250 : INFO : Predicting\n",
      "2017-08-28 14:15:06,730 : INFO : Probs collection\n",
      "2017-08-28 14:15:10,242 : INFO : Split results:\n",
      "2017-08-28 14:15:10,249 : INFO : Run accuracy: 0.89366251944\n",
      "2017-08-28 14:15:10,256 : INFO : Cat accuracies:\n",
      "[0.8912732474964234, 0.8743927827897293, 0.5396825396825397, 0.5511111111111111, 0.65, 0.0, 0.26666666666666666, 0.5477941176470589, 0.5078534031413613, 0.0, 0.8518518518518519, 0.9966510381781648, 0.9500768049155146, 0.3893129770992366, 0.53125, 0.9527451515979241]\n",
      "2017-08-28 14:15:10,259 : INFO : Shuffling indices\n",
      "2017-08-28 14:15:10,340 : INFO : Fitting classifier\n",
      "2017-08-28 14:16:05,155 : INFO : Predicting\n",
      "2017-08-28 14:16:08,932 : INFO : Probs collection\n",
      "2017-08-28 14:16:12,630 : INFO : Split results:\n",
      "2017-08-28 14:16:12,637 : INFO : Run accuracy: 0.889137411261\n",
      "2017-08-28 14:16:12,645 : INFO : Cat accuracies:\n",
      "[0.8911174785100286, 0.8813324080499653, 0.5555555555555556, 0.5377777777777778, 0.65, 0.0, 0.35714285714285715, 0.5330882352941176, 0.4397905759162304, 0.5, 0.8533333333333334, 0.9959785522788204, 0.956989247311828, 0.3893129770992366, 0.4791666666666667, 0.9404371584699454]\n",
      "2017-08-28 14:16:12,647 : INFO : Shuffling indices\n",
      "2017-08-28 14:16:12,719 : INFO : Fitting classifier\n",
      "2017-08-28 14:17:03,155 : INFO : Predicting\n",
      "2017-08-28 14:17:06,750 : INFO : Probs collection\n",
      "2017-08-28 14:17:10,324 : INFO : Split results:\n",
      "2017-08-28 14:17:10,331 : INFO : Run accuracy: 0.892693841813\n",
      "2017-08-28 14:17:10,339 : INFO : Cat accuracies:\n",
      "[0.8911174785100286, 0.8764746703678001, 0.5079365079365079, 0.5892857142857143, 0.7, 0.0, 0.42857142857142855, 0.5387453874538746, 0.42408376963350786, 0.0, 0.8620178041543026, 0.9973190348525469, 0.9546850998463902, 0.3816793893129771, 0.43157894736842106, 0.95]\n",
      "2017-08-28 14:17:10,342 : INFO : Shuffling indices\n",
      "2017-08-28 14:17:10,434 : INFO : Fitting classifier\n",
      "2017-08-28 14:18:11,190 : INFO : Predicting\n",
      "2017-08-28 14:18:14,756 : INFO : Probs collection\n",
      "2017-08-28 14:18:18,431 : INFO : Split results:\n",
      "2017-08-28 14:18:18,437 : INFO : Run accuracy: 0.894910966235\n",
      "2017-08-28 14:18:18,445 : INFO : Cat accuracies:\n",
      "[0.9011461318051576, 0.8868841082581541, 0.46774193548387094, 0.5133928571428571, 0.6, 0.0, 0.35714285714285715, 0.5461254612546126, 0.4607329842931937, 0.0, 0.844213649851632, 0.9946380697050938, 0.9608294930875576, 0.35384615384615387, 0.5157894736842106, 0.9546448087431694]\n"
     ]
    }
   ],
   "source": [
    "# classifier training and eval:\n",
    "from sklearn.svm import LinearSVC\n",
    "\n",
    "# results collection\n",
    "accuracies = []\n",
    "cat_accuracies = pd.DataFrame(columns=d2v_wrapper.content_categories)\n",
    "correct_logits = pd.DataFrame(columns=[\"actual_prob\", \"expected_prob\", \"actual_class\", \"expected_class\"])\n",
    "wrong_docs_ids = pd.Series()\n",
    "\n",
    "# evaluation on CV split persisting the categories respective size on each split\n",
    "strat_kfold = StratifiedKFold(n_splits=5, shuffle=True)\n",
    "\n",
    "for train_doc_indices, test_doc_indices in strat_kfold.split(doc_vectors, doc_labels):\n",
    "    logging.info(\"Shuffling indices\")\n",
    "    random.shuffle(train_doc_indices)\n",
    "    random.shuffle(test_doc_indices)\n",
    "\n",
    "    # training\n",
    "    svm_classifier = LinearSVC(C=0.1)\n",
    "    \n",
    "    logging.info(\"Fitting classifier\")\n",
    "    svm_classifier.fit(doc_vectors.iloc[train_doc_indices], doc_labels.iloc[train_doc_indices])\n",
    "\n",
    "    # testing\n",
    "    logging.info(\"Predicting\")\n",
    "    y_expected = doc_labels.iloc[test_doc_indices].values\n",
    "    y_actual = svm_classifier.predict(doc_vectors.iloc[test_doc_indices])\n",
    "\n",
    "    # evaluation:\n",
    "    # logits\n",
    "    logging.info(\"Probs collection\")\n",
    "    class_probs = svm_classifier.decision_function(doc_vectors.iloc[test_doc_indices])\n",
    "    class_ordered = list(svm_classifier.classes_)\n",
    "\n",
    "    class_actual_index = pd.Series(y_actual).apply(lambda cat_label: class_ordered.index(cat_label))\n",
    "    actual_prob = class_probs[np.arange(len(class_actual_index)), (class_actual_index)]\n",
    "\n",
    "    class_expected_index = pd.Series(y_expected).apply(lambda cat_label: class_ordered.index(cat_label))\n",
    "    expected_prob = class_probs[np.arange(len(class_actual_index)), (class_expected_index)]\n",
    "\n",
    "    new_logits = pd.DataFrame()\n",
    "    new_logits[\"actual_prob\"] = actual_prob\n",
    "    new_logits[\"expected_prob\"] = expected_prob\n",
    "    new_logits[\"actual_class\"] = y_actual\n",
    "    new_logits[\"expected_class\"] = y_expected\n",
    "    correct_logits = correct_logits.append(new_logits)\n",
    "    \n",
    "    new_wrong_ids = test_doc_indices[actual_prob == expected_prob]\n",
    "    wrong_docs_ids = wrong_docs_ids.append(pd.Series(new_wrong_ids))\n",
    "\n",
    "    # accuracy\n",
    "    logging.info(\"Split results:\")\n",
    "    split_accuracy = accuracy_score(y_expected, y_actual)\n",
    "    logging.info(\"Run accuracy: %s\" % split_accuracy)\n",
    "    accuracies.append(split_accuracy)\n",
    "    split_cat_accuracies = map(lambda cat: accuracy_for_category(y_expected, y_actual, cat),\n",
    "                               d2v_wrapper.content_categories)\n",
    "    logging.info(\"Cat accuracies:\\n%s\" % split_cat_accuracies)\n",
    "    cat_accuracies = cat_accuracies.append(\n",
    "        pd.DataFrame(data=[split_cat_accuracies], columns=d2v_wrapper.content_categories))"
   ]
  },
  {
   "cell_type": "code",
   "execution_count": 8,
   "metadata": {
    "collapsed": false
   },
   "outputs": [
    {
     "name": "stderr",
     "output_type": "stream",
     "text": [
      "2017-08-28 14:18:18,455 : INFO : split accuracies: [0.893499174035565, 0.89366251944012443, 0.88913741126130508, 0.89269384181340594, 0.89491096623528266]\n",
      "2017-08-28 14:18:18,458 : INFO : mean accuracy: 0.892780782557\n",
      "2017-08-28 14:18:18,477 : INFO : categories accuracies: \n",
      "   openshift      fuse  datagrid  bpmsuite  mobileplatform  \\\n",
      "0   0.895565  0.883414  0.460317  0.555556        0.714286   \n",
      "0   0.891273  0.874393  0.539683  0.551111        0.650000   \n",
      "0   0.891117  0.881332  0.555556  0.537778        0.650000   \n",
      "0   0.891117  0.876475  0.507937  0.589286        0.700000   \n",
      "0   0.901146  0.886884  0.467742  0.513393        0.600000   \n",
      "\n",
      "   softwarecollections       cdk      brms  webserver  developertoolset  \\\n",
      "0                  0.0  0.333333  0.547794   0.432292          0.333333   \n",
      "0                  0.0  0.266667  0.547794   0.507853          0.000000   \n",
      "0                  0.0  0.357143  0.533088   0.439791          0.500000   \n",
      "0                  0.0  0.428571  0.538745   0.424084          0.000000   \n",
      "0                  0.0  0.357143  0.546125   0.460733          0.000000   \n",
      "\n",
      "   devstudio      None      rhel       amq       fsw       eap  \n",
      "0   0.853333  0.993302  0.958557  0.282443  0.510417  0.954657  \n",
      "0   0.851852  0.996651  0.950077  0.389313  0.531250  0.952745  \n",
      "0   0.853333  0.995979  0.956989  0.389313  0.479167  0.940437  \n",
      "0   0.862018  0.997319  0.954685  0.381679  0.431579  0.950000  \n",
      "0   0.844214  0.994638  0.960829  0.353846  0.515789  0.954645  \n",
      "2017-08-28 14:18:18,529 : INFO : categories accuracies mean: \n",
      "openshift              0.894044\n",
      "fuse                   0.880500\n",
      "datagrid               0.506247\n",
      "bpmsuite               0.549425\n",
      "mobileplatform         0.662857\n",
      "softwarecollections    0.000000\n",
      "cdk                    0.348571\n",
      "brms                   0.542709\n",
      "webserver              0.452950\n",
      "developertoolset       0.166667\n",
      "devstudio              0.852950\n",
      "None                   0.995578\n",
      "rhel                   0.956228\n",
      "amq                    0.359319\n",
      "fsw                    0.493640\n",
      "eap                    0.950497\n",
      "dtype: float64\n"
     ]
    }
   ],
   "source": [
    "logging.info(\"split accuracies: %s\" % accuracies)\n",
    "logging.info(\"mean accuracy: %s\" % np.mean(accuracies))\n",
    "logging.info(\"categories accuracies: \\n%s\" % cat_accuracies)\n",
    "logging.info(\"categories accuracies mean: \\n%s\" % cat_accuracies.mean())"
   ]
  },
  {
   "cell_type": "code",
   "execution_count": 9,
   "metadata": {
    "collapsed": false,
    "scrolled": false
   },
   "outputs": [
    {
     "data": {
      "text/html": [
       "<div>\n",
       "<table border=\"1\" class=\"dataframe\">\n",
       "  <thead>\n",
       "    <tr style=\"text-align: right;\">\n",
       "      <th></th>\n",
       "      <th>label</th>\n",
       "      <th>accuracy</th>\n",
       "      <th>size</th>\n",
       "    </tr>\n",
       "  </thead>\n",
       "  <tbody>\n",
       "    <tr>\n",
       "      <th>5</th>\n",
       "      <td>softwarecollections</td>\n",
       "      <td>0.000000</td>\n",
       "      <td>5</td>\n",
       "    </tr>\n",
       "    <tr>\n",
       "      <th>9</th>\n",
       "      <td>developertoolset</td>\n",
       "      <td>0.166667</td>\n",
       "      <td>12</td>\n",
       "    </tr>\n",
       "    <tr>\n",
       "      <th>6</th>\n",
       "      <td>cdk</td>\n",
       "      <td>0.348571</td>\n",
       "      <td>72</td>\n",
       "    </tr>\n",
       "    <tr>\n",
       "      <th>4</th>\n",
       "      <td>mobileplatform</td>\n",
       "      <td>0.662857</td>\n",
       "      <td>101</td>\n",
       "    </tr>\n",
       "    <tr>\n",
       "      <th>2</th>\n",
       "      <td>datagrid</td>\n",
       "      <td>0.506247</td>\n",
       "      <td>314</td>\n",
       "    </tr>\n",
       "    <tr>\n",
       "      <th>14</th>\n",
       "      <td>fsw</td>\n",
       "      <td>0.493640</td>\n",
       "      <td>478</td>\n",
       "    </tr>\n",
       "    <tr>\n",
       "      <th>13</th>\n",
       "      <td>amq</td>\n",
       "      <td>0.359319</td>\n",
       "      <td>654</td>\n",
       "    </tr>\n",
       "    <tr>\n",
       "      <th>8</th>\n",
       "      <td>webserver</td>\n",
       "      <td>0.452950</td>\n",
       "      <td>956</td>\n",
       "    </tr>\n",
       "    <tr>\n",
       "      <th>3</th>\n",
       "      <td>bpmsuite</td>\n",
       "      <td>0.549425</td>\n",
       "      <td>1123</td>\n",
       "    </tr>\n",
       "    <tr>\n",
       "      <th>7</th>\n",
       "      <td>brms</td>\n",
       "      <td>0.542709</td>\n",
       "      <td>1358</td>\n",
       "    </tr>\n",
       "    <tr>\n",
       "      <th>10</th>\n",
       "      <td>devstudio</td>\n",
       "      <td>0.852950</td>\n",
       "      <td>3373</td>\n",
       "    </tr>\n",
       "    <tr>\n",
       "      <th>0</th>\n",
       "      <td>openshift</td>\n",
       "      <td>0.894044</td>\n",
       "      <td>3492</td>\n",
       "    </tr>\n",
       "    <tr>\n",
       "      <th>12</th>\n",
       "      <td>rhel</td>\n",
       "      <td>0.956228</td>\n",
       "      <td>6511</td>\n",
       "    </tr>\n",
       "    <tr>\n",
       "      <th>1</th>\n",
       "      <td>fuse</td>\n",
       "      <td>0.880500</td>\n",
       "      <td>7205</td>\n",
       "    </tr>\n",
       "    <tr>\n",
       "      <th>11</th>\n",
       "      <td>None</td>\n",
       "      <td>0.995578</td>\n",
       "      <td>7462</td>\n",
       "    </tr>\n",
       "    <tr>\n",
       "      <th>15</th>\n",
       "      <td>eap</td>\n",
       "      <td>0.950497</td>\n",
       "      <td>18302</td>\n",
       "    </tr>\n",
       "  </tbody>\n",
       "</table>\n",
       "</div>"
      ],
      "text/plain": [
       "                  label  accuracy   size\n",
       "5   softwarecollections  0.000000      5\n",
       "9      developertoolset  0.166667     12\n",
       "6                   cdk  0.348571     72\n",
       "4        mobileplatform  0.662857    101\n",
       "2              datagrid  0.506247    314\n",
       "14                  fsw  0.493640    478\n",
       "13                  amq  0.359319    654\n",
       "8             webserver  0.452950    956\n",
       "3              bpmsuite  0.549425   1123\n",
       "7                  brms  0.542709   1358\n",
       "10            devstudio  0.852950   3373\n",
       "0             openshift  0.894044   3492\n",
       "12                 rhel  0.956228   6511\n",
       "1                  fuse  0.880500   7205\n",
       "11                 None  0.995578   7462\n",
       "15                  eap  0.950497  18302"
      ]
     },
     "execution_count": 9,
     "metadata": {},
     "output_type": "execute_result"
    }
   ],
   "source": [
    "# accuracies of categories together with their size\n",
    "\n",
    "labels_size = pd.DataFrame()\n",
    "labels_size[\"label\"] = doc_labels.unique()\n",
    "labels_size[\"accuracy\"] = cat_accuracies.mean().values\n",
    "labels_size[\"size\"] = [len(doc_labels[doc_labels == cat]) for cat in labels_size[\"label\"]]\n",
    "labels_size = labels_size.sort_values(by=[\"size\"])\n",
    "\n",
    "labels_size"
   ]
  },
  {
   "cell_type": "code",
   "execution_count": 10,
   "metadata": {
    "collapsed": false,
    "scrolled": false
   },
   "outputs": [
    {
     "data": {
      "text/plain": [
       "<matplotlib.axes.AxesSubplot at 0x7faa0459dad0>"
      ]
     },
     "execution_count": 10,
     "metadata": {},
     "output_type": "execute_result"
    },
    {
     "data": {
      "image/png": "[encoded data removed]",
      "text/plain": [
       "<matplotlib.figure.Figure at 0x7faa0459d510>"
      ]
     },
     "metadata": {},
     "output_type": "display_data"
    }
   ],
   "source": [
    "# boxplot visualization of the scores of documents against its own category (biggest 6 classes)\n",
    "# the higher the better\n",
    "# we see that it goes much better for bigger categories\n",
    "\n",
    "# boxplot: 50% of data in box, q50 +- 1.5*<q25, q75> in whis intervals\n",
    "%matplotlib inline\n",
    "import matplotlib.pyplot as plt\n",
    "\n",
    "correct_logits.boxplot(\"expected_prob\", by=\"expected_class\", figsize=(10,5), rot=60)"
   ]
  },
  {
   "cell_type": "code",
   "execution_count": 11,
   "metadata": {
    "collapsed": false
   },
   "outputs": [
    {
     "data": {
      "text/plain": [
       "count    45905.000000\n",
       "mean       131.727285\n",
       "std        437.528505\n",
       "min         10.000000\n",
       "25%         27.000000\n",
       "50%         47.000000\n",
       "75%        115.000000\n",
       "max      56006.000000\n",
       "dtype: float64"
      ]
     },
     "execution_count": 11,
     "metadata": {},
     "output_type": "execute_result"
    }
   ],
   "source": [
    "# incorrect classification characteristics\n",
    "wrong_docs_wordlist = wrong_docs_ids.apply(lambda doc_id: d2v_wrapper.all_content_tagged_docs.iloc[doc_id].words)\n",
    "wrong_docs_len = wrong_docs_wordlist.apply(lambda doc: len(doc))\n",
    "\n",
    "wrong_docs_len.describe()"
   ]
  },
  {
   "cell_type": "code",
   "execution_count": 12,
   "metadata": {
    "collapsed": false
   },
   "outputs": [
    {
     "data": {
      "text/plain": [
       "count     5513.000000\n",
       "mean       158.636677\n",
       "std       1155.404772\n",
       "min         10.000000\n",
       "25%         18.000000\n",
       "50%         32.000000\n",
       "75%         79.000000\n",
       "max      79212.000000\n",
       "dtype: float64"
      ]
     },
     "execution_count": 12,
     "metadata": {},
     "output_type": "execute_result"
    }
   ],
   "source": [
    "# correct classification characteristics\n",
    "all_indices = pd.Series(np.arange(len(doc_vectors)))\n",
    "correct_docs =  all_indices[~all_indices.isin(wrong_docs_ids)]\n",
    "correct_docs_wordlist = correct_docs.apply(lambda doc_id: d2v_wrapper.all_content_tagged_docs.iloc[doc_id].words)\n",
    "correct_docs_len = correct_docs_wordlist.apply(lambda doc: len(doc))\n",
    "\n",
    "correct_docs_len.describe()"
   ]
  }
 ],
 "metadata": {
  "kernelspec": {
   "display_name": "Python 2",
   "language": "python",
   "name": "python2"
  },
  "language_info": {
   "codemirror_mode": {
    "name": "ipython",
    "version": 2
   },
   "file_extension": ".py",
   "mimetype": "text/x-python",
   "name": "python",
   "nbconvert_exporter": "python",
   "pygments_lexer": "ipython2",
   "version": "2.7.8"
  }
 },
 "nbformat": 4,
 "nbformat_minor": 0
}
