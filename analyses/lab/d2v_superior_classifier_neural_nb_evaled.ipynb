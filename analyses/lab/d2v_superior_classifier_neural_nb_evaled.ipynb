{
 "cells": [
  {
   "cell_type": "code",
   "execution_count": 1,
   "metadata": {
    "collapsed": false,
    "scrolled": false
   },
   "outputs": [],
   "source": [
    "# a demonstration of use of the two-layered neural network classifier \n",
    "# for content classification on doc2vec docs vectors\n",
    "# where softmax probabilities of the classified content against the given categories can be used as relevance rating\n",
    "# towards the classified categories\n",
    "\n",
    "# references:\n",
    "# [1] https://deeplearning4j.org/word2vec.html\n",
    "# [2] https://deeplearning4j.org/welldressed-recommendation-engine\n",
    "# [3] https://www.tensorflow.org/get_started/tflearn\n",
    "# [4] http://scikit-learn.org/stable/modules/cross_validation.html\n",
    "\n",
    "# author Michal Stefanik  mistefan  at  redhat dot com\n",
    "\n",
    "import numpy as np\n",
    "import pandas as pd\n",
    "import random\n",
    "\n",
    "import tensorflow as tf\n",
    "from tensorflow.contrib.learn.python.learn.estimators.estimator import SKCompat\n",
    "\n",
    "from sklearn.metrics import accuracy_score\n",
    "from sklearn.model_selection import StratifiedKFold\n",
    "\n",
    "# D2VWrapper is our implementation providing vectorization of the documents based on doc2vec\n",
    "from dependencies.doc2vec_wrapper import D2VWrapper\n",
    "\n",
    "import logging\n",
    "logging.basicConfig(format='%(asctime)s : %(levelname)s : %(message)s', level=logging.INFO)"
   ]
  },
  {
   "cell_type": "code",
   "execution_count": 2,
   "metadata": {
    "collapsed": true,
    "scrolled": false
   },
   "outputs": [],
   "source": [
    "# optimization steps are reduced on TEST_MODE\n",
    "TEST_MODE = False\n",
    "\n",
    "# target categories\n",
    "product_list = [\"amq\", \"eap\", \"webserver\", \"datagrid\", \"fuse\", \"brms\", \"bpmsuite\", \"devstudio\", \"cdk\",\n",
    "                \"developertoolset\", \"rhel\", \"softwarecollections\", \"mobileplatform\", \"openshift\"]"
   ]
  },
  {
   "cell_type": "code",
   "execution_count": 3,
   "metadata": {
    "collapsed": false,
    "scrolled": true
   },
   "outputs": [
    {
     "name": "stderr",
     "output_type": "stream",
     "text": [
      "2017-08-29 10:16:49,061 : INFO : Loading serialized wrapper model from: trained_models/wrapper/newest\n",
      "2017-08-29 10:16:49,062 : INFO : Loading all_base_vocab_docs objects\n",
      "2017-08-29 10:16:59,253 : INFO : Initialized 51418 headers of 51418 for vectorization\n",
      "2017-08-29 10:16:59,253 : INFO : Loading all_base_vocab_docs vectors\n",
      "2017-08-29 10:18:14,965 : INFO : Loading trained Doc2Vec model\n",
      "2017-08-29 10:18:14,965 : INFO : loading Doc2Vec object from trained_models/wrapper/newest/doc2vec.mod\n",
      "2017-08-29 10:18:15,104 : INFO : loading docvecs recursively from trained_models/wrapper/newest/doc2vec.mod.docvecs.* with mmap=None\n",
      "2017-08-29 10:18:15,105 : INFO : loading doctag_syn0 from trained_models/wrapper/newest/doc2vec.mod.docvecs.doctag_syn0.npy with mmap=None\n",
      "2017-08-29 10:18:15,493 : INFO : loading syn1neg from trained_models/wrapper/newest/doc2vec.mod.syn1neg.npy with mmap=None\n",
      "2017-08-29 10:18:15,823 : INFO : loading syn0 from trained_models/wrapper/newest/doc2vec.mod.syn0.npy with mmap=None\n",
      "2017-08-29 10:18:16,144 : INFO : setting ignored attribute syn0norm to None\n",
      "2017-08-29 10:18:16,145 : INFO : setting ignored attribute cum_table to None\n"
     ]
    }
   ],
   "source": [
    "# initialize d2v_wrapper providing as well metadata about the models state\n",
    "d2v_wrapper = D2VWrapper(content_categories=product_list,\n",
    "                         vector_length=800, train_algo=\"dm\")\n",
    "\n",
    "# EITHER initialize the vocab of documents and minimize the distances of embeddings in training phase\n",
    "# d2v_wrapper.init_model_vocab(content_basepath=\"../../data/content/playground/auto/nostem\",\n",
    "#                              basepath_suffix=\"_content.csv\", drop_short_docs=10)\n",
    "# d2v_wrapper.train_model(shuffle=True, epochs=1 if TEST_MODE else 5)\n",
    "# d2v_wrapper.infer_vocab_content_vectors()\n",
    "\n",
    "# d2v_wrapper.persist_trained_wrapper(\"trained_models/wrapper/5epoch_train_stem_not_removed_header_v800\")\n",
    "\n",
    "# OR load initialized and trained wrapper if available\n",
    "d2v_wrapper.load_persisted_wrapper(\"trained_models/wrapper/newest\")"
   ]
  },
  {
   "cell_type": "code",
   "execution_count": 4,
   "metadata": {
    "collapsed": false
   },
   "outputs": [
    {
     "name": "stderr",
     "output_type": "stream",
     "text": [
      "2017-08-29 10:18:18,986 : INFO : Returning already inferred doc vectors of 51418 all_base_vocab_docs\n"
     ]
    }
   ],
   "source": [
    "# divide the docs data to vectors and targets\n",
    "doc_vectors_labeled = d2v_wrapper.infer_vocab_content_vectors()\n",
    "doc_vectors = doc_vectors_labeled.iloc[:, :-1]\n",
    "doc_labels = doc_vectors_labeled.iloc[:, -1]"
   ]
  },
  {
   "cell_type": "code",
   "execution_count": 5,
   "metadata": {
    "collapsed": false
   },
   "outputs": [
    {
     "data": {
      "text/html": [
       "<div>\n",
       "<table border=\"1\" class=\"dataframe\">\n",
       "  <thead>\n",
       "    <tr style=\"text-align: right;\">\n",
       "      <th></th>\n",
       "      <th>0</th>\n",
       "      <th>1</th>\n",
       "      <th>2</th>\n",
       "      <th>3</th>\n",
       "      <th>4</th>\n",
       "      <th>5</th>\n",
       "      <th>6</th>\n",
       "      <th>7</th>\n",
       "      <th>8</th>\n",
       "      <th>9</th>\n",
       "      <th>...</th>\n",
       "      <th>1591</th>\n",
       "      <th>1592</th>\n",
       "      <th>1593</th>\n",
       "      <th>1594</th>\n",
       "      <th>1595</th>\n",
       "      <th>1596</th>\n",
       "      <th>1597</th>\n",
       "      <th>1598</th>\n",
       "      <th>1599</th>\n",
       "      <th>y</th>\n",
       "    </tr>\n",
       "  </thead>\n",
       "  <tbody>\n",
       "    <tr>\n",
       "      <th>0</th>\n",
       "      <td>-0.019187</td>\n",
       "      <td>0.045378</td>\n",
       "      <td>-0.133549</td>\n",
       "      <td>-0.283039</td>\n",
       "      <td>-0.090575</td>\n",
       "      <td>0.412471</td>\n",
       "      <td>-0.158815</td>\n",
       "      <td>0.223226</td>\n",
       "      <td>-0.384802</td>\n",
       "      <td>-0.023474</td>\n",
       "      <td>...</td>\n",
       "      <td>0.051901</td>\n",
       "      <td>0.049563</td>\n",
       "      <td>-0.023863</td>\n",
       "      <td>-0.080713</td>\n",
       "      <td>0.021777</td>\n",
       "      <td>0.029462</td>\n",
       "      <td>-0.015670</td>\n",
       "      <td>-0.062137</td>\n",
       "      <td>0.006707</td>\n",
       "      <td>openshift</td>\n",
       "    </tr>\n",
       "    <tr>\n",
       "      <th>1</th>\n",
       "      <td>-0.093129</td>\n",
       "      <td>0.084363</td>\n",
       "      <td>0.148886</td>\n",
       "      <td>0.022479</td>\n",
       "      <td>0.131264</td>\n",
       "      <td>0.056792</td>\n",
       "      <td>-0.177642</td>\n",
       "      <td>-0.008918</td>\n",
       "      <td>-0.184892</td>\n",
       "      <td>-0.086469</td>\n",
       "      <td>...</td>\n",
       "      <td>0.188777</td>\n",
       "      <td>-0.034431</td>\n",
       "      <td>-0.030488</td>\n",
       "      <td>-0.059311</td>\n",
       "      <td>0.031597</td>\n",
       "      <td>0.187752</td>\n",
       "      <td>0.084510</td>\n",
       "      <td>0.073915</td>\n",
       "      <td>0.102487</td>\n",
       "      <td>openshift</td>\n",
       "    </tr>\n",
       "    <tr>\n",
       "      <th>2</th>\n",
       "      <td>0.052773</td>\n",
       "      <td>0.045131</td>\n",
       "      <td>0.019198</td>\n",
       "      <td>-0.190393</td>\n",
       "      <td>-0.016125</td>\n",
       "      <td>0.081879</td>\n",
       "      <td>-0.209291</td>\n",
       "      <td>0.112290</td>\n",
       "      <td>-0.199776</td>\n",
       "      <td>-0.076140</td>\n",
       "      <td>...</td>\n",
       "      <td>0.087586</td>\n",
       "      <td>-0.022120</td>\n",
       "      <td>-0.019167</td>\n",
       "      <td>-0.093132</td>\n",
       "      <td>0.073339</td>\n",
       "      <td>0.153020</td>\n",
       "      <td>0.119168</td>\n",
       "      <td>-0.089563</td>\n",
       "      <td>-0.017751</td>\n",
       "      <td>openshift</td>\n",
       "    </tr>\n",
       "    <tr>\n",
       "      <th>3</th>\n",
       "      <td>0.082211</td>\n",
       "      <td>0.197306</td>\n",
       "      <td>-0.063491</td>\n",
       "      <td>-0.179863</td>\n",
       "      <td>0.179492</td>\n",
       "      <td>0.071738</td>\n",
       "      <td>0.033775</td>\n",
       "      <td>0.098368</td>\n",
       "      <td>-0.111973</td>\n",
       "      <td>0.080823</td>\n",
       "      <td>...</td>\n",
       "      <td>0.072003</td>\n",
       "      <td>0.047937</td>\n",
       "      <td>-0.028224</td>\n",
       "      <td>-0.114181</td>\n",
       "      <td>0.016897</td>\n",
       "      <td>0.109050</td>\n",
       "      <td>0.044091</td>\n",
       "      <td>-0.006708</td>\n",
       "      <td>-0.004317</td>\n",
       "      <td>openshift</td>\n",
       "    </tr>\n",
       "    <tr>\n",
       "      <th>4</th>\n",
       "      <td>0.033929</td>\n",
       "      <td>0.388511</td>\n",
       "      <td>0.395663</td>\n",
       "      <td>0.168339</td>\n",
       "      <td>-0.005262</td>\n",
       "      <td>-0.005037</td>\n",
       "      <td>-0.163347</td>\n",
       "      <td>-0.118813</td>\n",
       "      <td>-0.157630</td>\n",
       "      <td>-0.085310</td>\n",
       "      <td>...</td>\n",
       "      <td>-0.005856</td>\n",
       "      <td>0.092174</td>\n",
       "      <td>0.095107</td>\n",
       "      <td>-0.131023</td>\n",
       "      <td>-0.104514</td>\n",
       "      <td>0.164771</td>\n",
       "      <td>0.013336</td>\n",
       "      <td>0.055606</td>\n",
       "      <td>0.146154</td>\n",
       "      <td>openshift</td>\n",
       "    </tr>\n",
       "    <tr>\n",
       "      <th>5</th>\n",
       "      <td>-0.148830</td>\n",
       "      <td>0.223305</td>\n",
       "      <td>0.126688</td>\n",
       "      <td>0.261127</td>\n",
       "      <td>0.476259</td>\n",
       "      <td>0.223201</td>\n",
       "      <td>-0.130167</td>\n",
       "      <td>-0.200105</td>\n",
       "      <td>-0.350325</td>\n",
       "      <td>0.156830</td>\n",
       "      <td>...</td>\n",
       "      <td>0.192509</td>\n",
       "      <td>-0.101479</td>\n",
       "      <td>-0.053969</td>\n",
       "      <td>-0.093709</td>\n",
       "      <td>-0.038637</td>\n",
       "      <td>0.194809</td>\n",
       "      <td>0.030188</td>\n",
       "      <td>-0.047556</td>\n",
       "      <td>-0.094918</td>\n",
       "      <td>openshift</td>\n",
       "    </tr>\n",
       "    <tr>\n",
       "      <th>6</th>\n",
       "      <td>0.030566</td>\n",
       "      <td>0.312607</td>\n",
       "      <td>0.220093</td>\n",
       "      <td>0.064617</td>\n",
       "      <td>0.158415</td>\n",
       "      <td>0.125048</td>\n",
       "      <td>-0.157084</td>\n",
       "      <td>0.077915</td>\n",
       "      <td>-0.102375</td>\n",
       "      <td>-0.121717</td>\n",
       "      <td>...</td>\n",
       "      <td>0.119100</td>\n",
       "      <td>-0.056619</td>\n",
       "      <td>0.080372</td>\n",
       "      <td>0.017938</td>\n",
       "      <td>-0.136114</td>\n",
       "      <td>0.176202</td>\n",
       "      <td>-0.006069</td>\n",
       "      <td>0.048149</td>\n",
       "      <td>-0.000632</td>\n",
       "      <td>openshift</td>\n",
       "    </tr>\n",
       "    <tr>\n",
       "      <th>7</th>\n",
       "      <td>-0.209098</td>\n",
       "      <td>-0.153392</td>\n",
       "      <td>-0.063050</td>\n",
       "      <td>-0.171696</td>\n",
       "      <td>0.108174</td>\n",
       "      <td>0.187037</td>\n",
       "      <td>-0.135445</td>\n",
       "      <td>0.448843</td>\n",
       "      <td>-0.279537</td>\n",
       "      <td>0.128085</td>\n",
       "      <td>...</td>\n",
       "      <td>0.157293</td>\n",
       "      <td>-0.072245</td>\n",
       "      <td>-0.064830</td>\n",
       "      <td>0.000502</td>\n",
       "      <td>-0.035211</td>\n",
       "      <td>0.143141</td>\n",
       "      <td>-0.054064</td>\n",
       "      <td>0.036677</td>\n",
       "      <td>-0.022999</td>\n",
       "      <td>openshift</td>\n",
       "    </tr>\n",
       "    <tr>\n",
       "      <th>8</th>\n",
       "      <td>-0.055700</td>\n",
       "      <td>0.085758</td>\n",
       "      <td>0.069509</td>\n",
       "      <td>0.109452</td>\n",
       "      <td>0.070771</td>\n",
       "      <td>0.058409</td>\n",
       "      <td>-0.046265</td>\n",
       "      <td>-0.103523</td>\n",
       "      <td>-0.198957</td>\n",
       "      <td>-0.035540</td>\n",
       "      <td>...</td>\n",
       "      <td>0.130597</td>\n",
       "      <td>-0.097876</td>\n",
       "      <td>0.138923</td>\n",
       "      <td>-0.032989</td>\n",
       "      <td>-0.094097</td>\n",
       "      <td>0.217095</td>\n",
       "      <td>-0.006727</td>\n",
       "      <td>0.036396</td>\n",
       "      <td>0.082596</td>\n",
       "      <td>openshift</td>\n",
       "    </tr>\n",
       "    <tr>\n",
       "      <th>9</th>\n",
       "      <td>-0.678403</td>\n",
       "      <td>0.147445</td>\n",
       "      <td>0.113219</td>\n",
       "      <td>-0.152215</td>\n",
       "      <td>0.068970</td>\n",
       "      <td>0.058839</td>\n",
       "      <td>-0.020074</td>\n",
       "      <td>-0.123732</td>\n",
       "      <td>-0.104148</td>\n",
       "      <td>-0.048644</td>\n",
       "      <td>...</td>\n",
       "      <td>0.018639</td>\n",
       "      <td>-0.044643</td>\n",
       "      <td>-0.023903</td>\n",
       "      <td>0.047384</td>\n",
       "      <td>-0.017662</td>\n",
       "      <td>0.168911</td>\n",
       "      <td>0.106634</td>\n",
       "      <td>-0.014248</td>\n",
       "      <td>0.126387</td>\n",
       "      <td>openshift</td>\n",
       "    </tr>\n",
       "  </tbody>\n",
       "</table>\n",
       "<p>10 rows × 1601 columns</p>\n",
       "</div>"
      ],
      "text/plain": [
       "          0         1         2         3         4         5         6  \\\n",
       "0 -0.019187  0.045378 -0.133549 -0.283039 -0.090575  0.412471 -0.158815   \n",
       "1 -0.093129  0.084363  0.148886  0.022479  0.131264  0.056792 -0.177642   \n",
       "2  0.052773  0.045131  0.019198 -0.190393 -0.016125  0.081879 -0.209291   \n",
       "3  0.082211  0.197306 -0.063491 -0.179863  0.179492  0.071738  0.033775   \n",
       "4  0.033929  0.388511  0.395663  0.168339 -0.005262 -0.005037 -0.163347   \n",
       "5 -0.148830  0.223305  0.126688  0.261127  0.476259  0.223201 -0.130167   \n",
       "6  0.030566  0.312607  0.220093  0.064617  0.158415  0.125048 -0.157084   \n",
       "7 -0.209098 -0.153392 -0.063050 -0.171696  0.108174  0.187037 -0.135445   \n",
       "8 -0.055700  0.085758  0.069509  0.109452  0.070771  0.058409 -0.046265   \n",
       "9 -0.678403  0.147445  0.113219 -0.152215  0.068970  0.058839 -0.020074   \n",
       "\n",
       "          7         8         9    ...          1591      1592      1593  \\\n",
       "0  0.223226 -0.384802 -0.023474    ...      0.051901  0.049563 -0.023863   \n",
       "1 -0.008918 -0.184892 -0.086469    ...      0.188777 -0.034431 -0.030488   \n",
       "2  0.112290 -0.199776 -0.076140    ...      0.087586 -0.022120 -0.019167   \n",
       "3  0.098368 -0.111973  0.080823    ...      0.072003  0.047937 -0.028224   \n",
       "4 -0.118813 -0.157630 -0.085310    ...     -0.005856  0.092174  0.095107   \n",
       "5 -0.200105 -0.350325  0.156830    ...      0.192509 -0.101479 -0.053969   \n",
       "6  0.077915 -0.102375 -0.121717    ...      0.119100 -0.056619  0.080372   \n",
       "7  0.448843 -0.279537  0.128085    ...      0.157293 -0.072245 -0.064830   \n",
       "8 -0.103523 -0.198957 -0.035540    ...      0.130597 -0.097876  0.138923   \n",
       "9 -0.123732 -0.104148 -0.048644    ...      0.018639 -0.044643 -0.023903   \n",
       "\n",
       "       1594      1595      1596      1597      1598      1599          y  \n",
       "0 -0.080713  0.021777  0.029462 -0.015670 -0.062137  0.006707  openshift  \n",
       "1 -0.059311  0.031597  0.187752  0.084510  0.073915  0.102487  openshift  \n",
       "2 -0.093132  0.073339  0.153020  0.119168 -0.089563 -0.017751  openshift  \n",
       "3 -0.114181  0.016897  0.109050  0.044091 -0.006708 -0.004317  openshift  \n",
       "4 -0.131023 -0.104514  0.164771  0.013336  0.055606  0.146154  openshift  \n",
       "5 -0.093709 -0.038637  0.194809  0.030188 -0.047556 -0.094918  openshift  \n",
       "6  0.017938 -0.136114  0.176202 -0.006069  0.048149 -0.000632  openshift  \n",
       "7  0.000502 -0.035211  0.143141 -0.054064  0.036677 -0.022999  openshift  \n",
       "8 -0.032989 -0.094097  0.217095 -0.006727  0.036396  0.082596  openshift  \n",
       "9  0.047384 -0.017662  0.168911  0.106634 -0.014248  0.126387  openshift  \n",
       "\n",
       "[10 rows x 1601 columns]"
      ]
     },
     "execution_count": 5,
     "metadata": {},
     "output_type": "execute_result"
    }
   ],
   "source": [
    "doc_vectors_labeled.head(10)"
   ]
  },
  {
   "cell_type": "code",
   "execution_count": 6,
   "metadata": {
    "collapsed": false
   },
   "outputs": [
    {
     "data": {
      "text/plain": [
       "count     51418\n",
       "unique       16\n",
       "top         eap\n",
       "freq      18302\n",
       "Name: y, dtype: object"
      ]
     },
     "execution_count": 6,
     "metadata": {},
     "output_type": "execute_result"
    }
   ],
   "source": [
    "doc_labels.describe()"
   ]
  },
  {
   "cell_type": "code",
   "execution_count": 10,
   "metadata": {
    "collapsed": false,
    "scrolled": false
   },
   "outputs": [],
   "source": [
    "# extended evaluation metric on selected category\n",
    "def accuracy_for_category(y_expected, y_actual, label):\n",
    "    label_expected = y_expected[y_expected == label]\n",
    "    intersect = y_expected[np.where(y_expected == y_actual)]\n",
    "    label_intersect = intersect[intersect == label]\n",
    "    if len(label_expected) == 0:\n",
    "        logging.warn(\"Accuracy of %s category evaluated on 0 samples\" % label)\n",
    "        return 1 if len(label_intersect) == 0 else 0\n",
    "    else:\n",
    "        return float(len(label_intersect)) / len(label_expected)"
   ]
  },
  {
   "cell_type": "code",
   "execution_count": 11,
   "metadata": {
    "collapsed": true,
    "scrolled": false
   },
   "outputs": [],
   "source": [
    "# encoding/decoding target categories\n",
    "mapping = []\n",
    "\n",
    "\n",
    "def encode_categories(target_series):\n",
    "    global mapping\n",
    "    if not len(mapping):\n",
    "        for cat in target_series.unique():\n",
    "            mapping.append(cat)\n",
    "\n",
    "    return target_series.apply(lambda cat_str: mapping.index(cat_str))\n",
    "\n",
    "\n",
    "def decode_categories(target_series):\n",
    "    global mapping\n",
    "    return target_series.apply(lambda cat_idx: mapping[cat_idx])"
   ]
  },
  {
   "cell_type": "code",
   "execution_count": 12,
   "metadata": {
    "collapsed": true
   },
   "outputs": [],
   "source": [
    "# transforms the given content to Tensorflow format\n",
    "def dataset_from_dataframe(data_df, target_series):\n",
    "    dataset = tf.contrib.learn.datasets.base.Dataset(data=data_df.values, target=encode_categories(target_series))\n",
    "    return dataset"
   ]
  },
  {
   "cell_type": "code",
   "execution_count": null,
   "metadata": {
    "collapsed": false,
    "scrolled": true
   },
   "outputs": [],
   "source": [
    "# classifier training and eval:\n",
    "accuracies = []\n",
    "cat_accuracies = pd.DataFrame(columns=d2v_wrapper.content_categories)\n",
    "logits = pd.DataFrame(columns=[\"actual_prob\", \"expected_prob\", \"actual_class\", \"expected_class\"])\n",
    "\n",
    "# evaluation on CV split persisting the categories respective size on each split\n",
    "strat_kfold = StratifiedKFold(n_splits=2 if TEST_MODE else 5, shuffle=True)\n",
    "\n",
    "for train_doc_indices, test_doc_indices in strat_kfold.split(doc_vectors, doc_labels):\n",
    "    \n",
    "    random.shuffle(train_doc_indices)\n",
    "    random.shuffle(test_doc_indices)\n",
    "    \n",
    "    train_vectors = doc_vectors.iloc[train_doc_indices]\n",
    "\n",
    "    y_true = doc_labels.iloc[train_doc_indices]\n",
    "\n",
    "    tf_dataset = dataset_from_dataframe(train_vectors, y_true)\n",
    "    \n",
    "    # columns are initialized as Tensors\n",
    "    feature_columns = [tf.contrib.layers.real_valued_column(\"\", dimension=doc_vectors.shape[1])]\n",
    "    \n",
    "    # init model:\n",
    "    # model consists of two layers as described in [2]\n",
    "    # 1. dense, fully-connected layer with relu act. function\n",
    "    # 2. softmax output layer for classification and further relevance scoring\n",
    "    two_layer_nn_classifier = SKCompat(tf.contrib.learn.DNNClassifier(feature_columns=feature_columns,\n",
    "                                                                  hidden_units=[doc_vectors.shape[1] / 2],\n",
    "                                                                  activation_fn=tf.nn.relu,\n",
    "                                                                  dropout=0.05,\n",
    "                                                                  n_classes=len(d2v_wrapper.content_categories),\n",
    "                                                                  optimizer=\"Adam\"))\n",
    "\n",
    "    two_layer_nn_classifier.fit(x=tf_dataset.data,\n",
    "                                y=tf_dataset.target,\n",
    "                                steps=500 if TEST_MODE else 4000)\n",
    "\n",
    "    # testing\n",
    "    # can be used to infer the relative relevance (or score) of the document for categories    \n",
    "    nn_logits = two_layer_nn_classifier.predict(doc_vectors.iloc[test_doc_indices].values)\n",
    "    \n",
    "    y_actual = decode_categories(pd.Series(nn_logits[\"classes\"])).values\n",
    "    y_expected = doc_labels.iloc[test_doc_indices].values\n",
    "\n",
    "    # evaluation:\n",
    "    # logits\n",
    "    actual_prob = nn_logits[\"probabilities\"][np.arange(len(nn_logits[\"probabilities\"])),(nn_logits[\"classes\"])]\n",
    "    expected_prob = nn_logits[\"probabilities\"][np.arange(len(nn_logits[\"probabilities\"])),(encode_categories(pd.Series(y_expected)))]\n",
    "    new_logits = pd.DataFrame()\n",
    "    new_logits[\"doc_id\"] = test_doc_indices\n",
    "    new_logits[\"actual_prob\"] = actual_prob\n",
    "    new_logits[\"expected_prob\"] = expected_prob\n",
    "    new_logits[\"actual_class\"] = y_actual\n",
    "    new_logits[\"expected_class\"] = y_expected\n",
    "    logits = logits.append(new_logits)\n",
    "    \n",
    "    # accuracy\n",
    "    split_accuracy = accuracy_score(y_expected, y_actual)\n",
    "    logging.warn(\"Run accuracy: %s\" % split_accuracy)\n",
    "    accuracies.append(split_accuracy)\n",
    "    split_cat_accuracies = map(lambda cat: accuracy_for_category(y_expected, y_actual, cat),\n",
    "                               d2v_wrapper.content_categories)\n",
    "    logging.warn(\"Cat accuracies:\\n%s\" % split_cat_accuracies)\n",
    "    cat_accuracies = cat_accuracies.append(\n",
    "        pd.DataFrame(data=[split_cat_accuracies], columns=d2v_wrapper.content_categories))"
   ]
  },
  {
   "cell_type": "code",
   "execution_count": 14,
   "metadata": {
    "collapsed": false
   },
   "outputs": [
    {
     "name": "stderr",
     "output_type": "stream",
     "text": [
      "2017-08-29 10:30:53,381 : INFO : split accuracies: [0.85414439801768538, 0.85730948678071539, 0.86200525138578232, 0.86049226578460936, 0.85199961078135644]\n",
      "2017-08-29 10:30:53,382 : INFO : mean accuracy: 0.85719020255\n",
      "2017-08-29 10:30:53,391 : INFO : categories accuracies: \n",
      "   openshift      fuse  datagrid  bpmsuite  mobileplatform  \\\n",
      "0   0.832618  0.887578  0.000000  0.622222             0.0   \n",
      "0   0.829757  0.870923  0.587302  0.666667             0.0   \n",
      "0   0.849570  0.816100  0.269841  0.200000             0.0   \n",
      "0   0.856734  0.852186  0.000000  0.187500             0.0   \n",
      "0   0.842407  0.889660  0.000000  0.026786             0.0   \n",
      "\n",
      "   softwarecollections       cdk      brms  webserver  developertoolset  \\\n",
      "0                  0.0  0.000000  0.500000   0.421875               0.0   \n",
      "0                  0.0  0.266667  0.143382   0.188482               0.0   \n",
      "0                  0.0  0.000000  0.768382   0.523560               0.0   \n",
      "0                  0.0  0.000000  0.516605   0.005236               0.0   \n",
      "0                  0.0  0.000000  0.623616   0.209424               0.0   \n",
      "\n",
      "   devstudio      None      rhel       amq       fsw       eap  \n",
      "0   0.805926  0.991962  0.933998  0.129771  0.354167  0.895657  \n",
      "0   0.819259  0.987274  0.929339  0.152672  0.479167  0.933078  \n",
      "0   0.819259  0.991957  0.932412  0.221374  0.510417  0.928689  \n",
      "0   0.787834  0.995308  0.925499  0.320611  0.526316  0.962568  \n",
      "0   0.816024  0.993298  0.946237  0.423077  0.347368  0.906831  \n",
      "2017-08-29 10:30:53,425 : INFO : categories accuracies mean: \n",
      "openshift              0.842217\n",
      "fuse                   0.863289\n",
      "datagrid               0.171429\n",
      "bpmsuite               0.340635\n",
      "mobileplatform         0.000000\n",
      "softwarecollections    0.000000\n",
      "cdk                    0.053333\n",
      "brms                   0.510397\n",
      "webserver              0.269715\n",
      "developertoolset       0.000000\n",
      "devstudio              0.809660\n",
      "None                   0.991960\n",
      "rhel                   0.933497\n",
      "amq                    0.249501\n",
      "fsw                    0.443487\n",
      "eap                    0.925365\n",
      "dtype: float64\n",
      "2017-08-29 10:30:53,426 : INFO : done\n"
     ]
    }
   ],
   "source": [
    "logging.info(\"split accuracies: %s\" % accuracies)\n",
    "logging.info(\"mean accuracy: %s\" % np.mean(accuracies))\n",
    "logging.info(\"categories accuracies: \\n%s\" % cat_accuracies)\n",
    "logging.info(\"categories accuracies mean: \\n%s\" % cat_accuracies.mean())\n",
    "logging.info(\"done\")"
   ]
  },
  {
   "cell_type": "code",
   "execution_count": 15,
   "metadata": {
    "collapsed": false,
    "scrolled": false
   },
   "outputs": [
    {
     "data": {
      "text/html": [
       "<div>\n",
       "<table border=\"1\" class=\"dataframe\">\n",
       "  <thead>\n",
       "    <tr style=\"text-align: right;\">\n",
       "      <th></th>\n",
       "      <th>label</th>\n",
       "      <th>accuracy</th>\n",
       "      <th>size</th>\n",
       "    </tr>\n",
       "  </thead>\n",
       "  <tbody>\n",
       "    <tr>\n",
       "      <th>5</th>\n",
       "      <td>softwarecollections</td>\n",
       "      <td>0.000000</td>\n",
       "      <td>5</td>\n",
       "    </tr>\n",
       "    <tr>\n",
       "      <th>9</th>\n",
       "      <td>developertoolset</td>\n",
       "      <td>0.000000</td>\n",
       "      <td>12</td>\n",
       "    </tr>\n",
       "    <tr>\n",
       "      <th>6</th>\n",
       "      <td>cdk</td>\n",
       "      <td>0.053333</td>\n",
       "      <td>72</td>\n",
       "    </tr>\n",
       "    <tr>\n",
       "      <th>4</th>\n",
       "      <td>mobileplatform</td>\n",
       "      <td>0.000000</td>\n",
       "      <td>101</td>\n",
       "    </tr>\n",
       "    <tr>\n",
       "      <th>2</th>\n",
       "      <td>datagrid</td>\n",
       "      <td>0.171429</td>\n",
       "      <td>314</td>\n",
       "    </tr>\n",
       "    <tr>\n",
       "      <th>14</th>\n",
       "      <td>fsw</td>\n",
       "      <td>0.443487</td>\n",
       "      <td>478</td>\n",
       "    </tr>\n",
       "    <tr>\n",
       "      <th>13</th>\n",
       "      <td>amq</td>\n",
       "      <td>0.249501</td>\n",
       "      <td>654</td>\n",
       "    </tr>\n",
       "    <tr>\n",
       "      <th>8</th>\n",
       "      <td>webserver</td>\n",
       "      <td>0.269715</td>\n",
       "      <td>956</td>\n",
       "    </tr>\n",
       "    <tr>\n",
       "      <th>3</th>\n",
       "      <td>bpmsuite</td>\n",
       "      <td>0.340635</td>\n",
       "      <td>1123</td>\n",
       "    </tr>\n",
       "    <tr>\n",
       "      <th>7</th>\n",
       "      <td>brms</td>\n",
       "      <td>0.510397</td>\n",
       "      <td>1358</td>\n",
       "    </tr>\n",
       "    <tr>\n",
       "      <th>10</th>\n",
       "      <td>devstudio</td>\n",
       "      <td>0.809660</td>\n",
       "      <td>3373</td>\n",
       "    </tr>\n",
       "    <tr>\n",
       "      <th>0</th>\n",
       "      <td>openshift</td>\n",
       "      <td>0.842217</td>\n",
       "      <td>3492</td>\n",
       "    </tr>\n",
       "    <tr>\n",
       "      <th>12</th>\n",
       "      <td>rhel</td>\n",
       "      <td>0.933497</td>\n",
       "      <td>6511</td>\n",
       "    </tr>\n",
       "    <tr>\n",
       "      <th>1</th>\n",
       "      <td>fuse</td>\n",
       "      <td>0.863289</td>\n",
       "      <td>7205</td>\n",
       "    </tr>\n",
       "    <tr>\n",
       "      <th>11</th>\n",
       "      <td>None</td>\n",
       "      <td>0.991960</td>\n",
       "      <td>7462</td>\n",
       "    </tr>\n",
       "    <tr>\n",
       "      <th>15</th>\n",
       "      <td>eap</td>\n",
       "      <td>0.925365</td>\n",
       "      <td>18302</td>\n",
       "    </tr>\n",
       "  </tbody>\n",
       "</table>\n",
       "</div>"
      ],
      "text/plain": [
       "                  label  accuracy   size\n",
       "5   softwarecollections  0.000000      5\n",
       "9      developertoolset  0.000000     12\n",
       "6                   cdk  0.053333     72\n",
       "4        mobileplatform  0.000000    101\n",
       "2              datagrid  0.171429    314\n",
       "14                  fsw  0.443487    478\n",
       "13                  amq  0.249501    654\n",
       "8             webserver  0.269715    956\n",
       "3              bpmsuite  0.340635   1123\n",
       "7                  brms  0.510397   1358\n",
       "10            devstudio  0.809660   3373\n",
       "0             openshift  0.842217   3492\n",
       "12                 rhel  0.933497   6511\n",
       "1                  fuse  0.863289   7205\n",
       "11                 None  0.991960   7462\n",
       "15                  eap  0.925365  18302"
      ]
     },
     "execution_count": 15,
     "metadata": {},
     "output_type": "execute_result"
    }
   ],
   "source": [
    "# accuracies of categories together with their size\n",
    "\n",
    "labels_size = pd.DataFrame()\n",
    "labels_size[\"label\"] = doc_labels.unique()\n",
    "labels_size[\"accuracy\"] = cat_accuracies.mean().values\n",
    "labels_size[\"size\"] = [len(doc_labels[doc_labels == cat]) for cat in labels_size[\"label\"]]\n",
    "labels_size = labels_size.sort_values(by=[\"size\"])\n",
    "\n",
    "labels_size"
   ]
  },
  {
   "cell_type": "code",
   "execution_count": 16,
   "metadata": {
    "collapsed": false,
    "scrolled": false
   },
   "outputs": [
    {
     "data": {
      "text/html": [
       "<div>\n",
       "<table border=\"1\" class=\"dataframe\">\n",
       "  <thead>\n",
       "    <tr style=\"text-align: right;\">\n",
       "      <th></th>\n",
       "      <th>actual_class</th>\n",
       "      <th>actual_prob</th>\n",
       "      <th>doc_id</th>\n",
       "      <th>expected_class</th>\n",
       "      <th>expected_prob</th>\n",
       "    </tr>\n",
       "  </thead>\n",
       "  <tbody>\n",
       "    <tr>\n",
       "      <th>0</th>\n",
       "      <td>None</td>\n",
       "      <td>1.000000</td>\n",
       "      <td>22972.0</td>\n",
       "      <td>None</td>\n",
       "      <td>1.000000</td>\n",
       "    </tr>\n",
       "    <tr>\n",
       "      <th>1</th>\n",
       "      <td>rhel</td>\n",
       "      <td>1.000000</td>\n",
       "      <td>25915.0</td>\n",
       "      <td>rhel</td>\n",
       "      <td>1.000000</td>\n",
       "    </tr>\n",
       "    <tr>\n",
       "      <th>2</th>\n",
       "      <td>eap</td>\n",
       "      <td>1.000000</td>\n",
       "      <td>50825.0</td>\n",
       "      <td>eap</td>\n",
       "      <td>1.000000</td>\n",
       "    </tr>\n",
       "    <tr>\n",
       "      <th>3</th>\n",
       "      <td>brms</td>\n",
       "      <td>0.976863</td>\n",
       "      <td>11981.0</td>\n",
       "      <td>bpmsuite</td>\n",
       "      <td>0.023137</td>\n",
       "    </tr>\n",
       "    <tr>\n",
       "      <th>4</th>\n",
       "      <td>rhel</td>\n",
       "      <td>1.000000</td>\n",
       "      <td>28178.0</td>\n",
       "      <td>rhel</td>\n",
       "      <td>1.000000</td>\n",
       "    </tr>\n",
       "    <tr>\n",
       "      <th>5</th>\n",
       "      <td>rhel</td>\n",
       "      <td>0.685632</td>\n",
       "      <td>31910.0</td>\n",
       "      <td>rhel</td>\n",
       "      <td>0.685632</td>\n",
       "    </tr>\n",
       "    <tr>\n",
       "      <th>6</th>\n",
       "      <td>rhel</td>\n",
       "      <td>0.839314</td>\n",
       "      <td>98.0</td>\n",
       "      <td>openshift</td>\n",
       "      <td>0.052282</td>\n",
       "    </tr>\n",
       "    <tr>\n",
       "      <th>7</th>\n",
       "      <td>eap</td>\n",
       "      <td>1.000000</td>\n",
       "      <td>41372.0</td>\n",
       "      <td>eap</td>\n",
       "      <td>1.000000</td>\n",
       "    </tr>\n",
       "    <tr>\n",
       "      <th>8</th>\n",
       "      <td>fuse</td>\n",
       "      <td>0.997479</td>\n",
       "      <td>10282.0</td>\n",
       "      <td>fuse</td>\n",
       "      <td>0.997479</td>\n",
       "    </tr>\n",
       "    <tr>\n",
       "      <th>9</th>\n",
       "      <td>None</td>\n",
       "      <td>1.000000</td>\n",
       "      <td>23276.0</td>\n",
       "      <td>None</td>\n",
       "      <td>1.000000</td>\n",
       "    </tr>\n",
       "  </tbody>\n",
       "</table>\n",
       "</div>"
      ],
      "text/plain": [
       "  actual_class  actual_prob   doc_id expected_class  expected_prob\n",
       "0         None     1.000000  22972.0           None       1.000000\n",
       "1         rhel     1.000000  25915.0           rhel       1.000000\n",
       "2          eap     1.000000  50825.0            eap       1.000000\n",
       "3         brms     0.976863  11981.0       bpmsuite       0.023137\n",
       "4         rhel     1.000000  28178.0           rhel       1.000000\n",
       "5         rhel     0.685632  31910.0           rhel       0.685632\n",
       "6         rhel     0.839314     98.0      openshift       0.052282\n",
       "7          eap     1.000000  41372.0            eap       1.000000\n",
       "8         fuse     0.997479  10282.0           fuse       0.997479\n",
       "9         None     1.000000  23276.0           None       1.000000"
      ]
     },
     "execution_count": 16,
     "metadata": {},
     "output_type": "execute_result"
    }
   ],
   "source": [
    "# computed actual_prob probabilities might be used as ranking system of the relevance of documents towards categories\n",
    "# expected_* marks the real category and its probability estimated by the model, \n",
    "# whereas actual_* marks the selected category (=mostly probable) by the model \n",
    "logits.head(10)"
   ]
  },
  {
   "cell_type": "code",
   "execution_count": 17,
   "metadata": {
    "collapsed": false
   },
   "outputs": [
    {
     "data": {
      "text/html": [
       "<div>\n",
       "<table border=\"1\" class=\"dataframe\">\n",
       "  <thead>\n",
       "    <tr style=\"text-align: right;\">\n",
       "      <th></th>\n",
       "      <th>actual_class</th>\n",
       "      <th>actual_prob</th>\n",
       "      <th>doc_id</th>\n",
       "      <th>expected_class</th>\n",
       "      <th>expected_prob</th>\n",
       "    </tr>\n",
       "  </thead>\n",
       "  <tbody>\n",
       "    <tr>\n",
       "      <th>3</th>\n",
       "      <td>brms</td>\n",
       "      <td>0.976863</td>\n",
       "      <td>11981.0</td>\n",
       "      <td>bpmsuite</td>\n",
       "      <td>0.023137</td>\n",
       "    </tr>\n",
       "    <tr>\n",
       "      <th>6</th>\n",
       "      <td>rhel</td>\n",
       "      <td>0.839314</td>\n",
       "      <td>98.0</td>\n",
       "      <td>openshift</td>\n",
       "      <td>0.052282</td>\n",
       "    </tr>\n",
       "    <tr>\n",
       "      <th>18</th>\n",
       "      <td>brms</td>\n",
       "      <td>0.794725</td>\n",
       "      <td>13848.0</td>\n",
       "      <td>webserver</td>\n",
       "      <td>0.141841</td>\n",
       "    </tr>\n",
       "    <tr>\n",
       "      <th>32</th>\n",
       "      <td>fuse</td>\n",
       "      <td>0.987496</td>\n",
       "      <td>1252.0</td>\n",
       "      <td>openshift</td>\n",
       "      <td>0.012499</td>\n",
       "    </tr>\n",
       "    <tr>\n",
       "      <th>34</th>\n",
       "      <td>eap</td>\n",
       "      <td>0.485506</td>\n",
       "      <td>32441.0</td>\n",
       "      <td>amq</td>\n",
       "      <td>0.089867</td>\n",
       "    </tr>\n",
       "    <tr>\n",
       "      <th>35</th>\n",
       "      <td>brms</td>\n",
       "      <td>0.260641</td>\n",
       "      <td>10666.0</td>\n",
       "      <td>fuse</td>\n",
       "      <td>0.181782</td>\n",
       "    </tr>\n",
       "    <tr>\n",
       "      <th>41</th>\n",
       "      <td>fuse</td>\n",
       "      <td>0.339436</td>\n",
       "      <td>39077.0</td>\n",
       "      <td>eap</td>\n",
       "      <td>0.217198</td>\n",
       "    </tr>\n",
       "    <tr>\n",
       "      <th>45</th>\n",
       "      <td>fuse</td>\n",
       "      <td>0.332399</td>\n",
       "      <td>2202.0</td>\n",
       "      <td>openshift</td>\n",
       "      <td>0.053337</td>\n",
       "    </tr>\n",
       "    <tr>\n",
       "      <th>57</th>\n",
       "      <td>fuse</td>\n",
       "      <td>0.765172</td>\n",
       "      <td>38534.0</td>\n",
       "      <td>eap</td>\n",
       "      <td>0.078009</td>\n",
       "    </tr>\n",
       "    <tr>\n",
       "      <th>60</th>\n",
       "      <td>eap</td>\n",
       "      <td>0.703068</td>\n",
       "      <td>16972.0</td>\n",
       "      <td>devstudio</td>\n",
       "      <td>0.268294</td>\n",
       "    </tr>\n",
       "  </tbody>\n",
       "</table>\n",
       "</div>"
      ],
      "text/plain": [
       "   actual_class  actual_prob   doc_id expected_class  expected_prob\n",
       "3          brms     0.976863  11981.0       bpmsuite       0.023137\n",
       "6          rhel     0.839314     98.0      openshift       0.052282\n",
       "18         brms     0.794725  13848.0      webserver       0.141841\n",
       "32         fuse     0.987496   1252.0      openshift       0.012499\n",
       "34          eap     0.485506  32441.0            amq       0.089867\n",
       "35         brms     0.260641  10666.0           fuse       0.181782\n",
       "41         fuse     0.339436  39077.0            eap       0.217198\n",
       "45         fuse     0.332399   2202.0      openshift       0.053337\n",
       "57         fuse     0.765172  38534.0            eap       0.078009\n",
       "60          eap     0.703068  16972.0      devstudio       0.268294"
      ]
     },
     "execution_count": 17,
     "metadata": {},
     "output_type": "execute_result"
    }
   ],
   "source": [
    "# only missclassifications:\n",
    "logits[logits[\"expected_class\"] != logits[\"actual_class\"]].head(10)"
   ]
  },
  {
   "cell_type": "code",
   "execution_count": 19,
   "metadata": {
    "collapsed": false,
    "scrolled": false
   },
   "outputs": [
    {
     "data": {
      "text/plain": [
       "<matplotlib.axes.AxesSubplot at 0x7f237e1029d0>"
      ]
     },
     "execution_count": 19,
     "metadata": {},
     "output_type": "execute_result"
    },
    {
     "data": {
      "image/png": "[encoded data removed]",
      "text/plain": [
       "<matplotlib.figure.Figure at 0x7f2331b17f90>"
      ]
     },
     "metadata": {},
     "output_type": "display_data"
    }
   ],
   "source": [
    "# boxplot visualization of the scores of documents against its own category (biggest 6 classes)\n",
    "# the higher the better\n",
    "# we see that it goes much better for bigger categories\n",
    "\n",
    "# boxplot: 50% of data in box, q50 +- 1.5*<q25, q75> in whis intervals\n",
    "%matplotlib inline\n",
    "import matplotlib.pyplot as plt\n",
    "\n",
    "logits.boxplot(\"expected_prob\", by=\"expected_class\", figsize=(10,5), rot=60)"
   ]
  },
  {
   "cell_type": "code",
   "execution_count": 20,
   "metadata": {
    "collapsed": false
   },
   "outputs": [
    {
     "data": {
      "text/plain": [
       "count     7343.000000\n",
       "mean       150.603568\n",
       "std       1026.141598\n",
       "min         10.000000\n",
       "25%         19.000000\n",
       "50%         33.000000\n",
       "75%         81.000000\n",
       "max      79212.000000\n",
       "Name: doc_id, dtype: float64"
      ]
     },
     "execution_count": 20,
     "metadata": {},
     "output_type": "execute_result"
    }
   ],
   "source": [
    "# incorrect classification characteristics\n",
    "wrong_docs_ids = logits[logits[\"expected_class\"] != logits[\"actual_class\"]][\"doc_id\"]\n",
    "\n",
    "wrong_docs_wordlist = wrong_docs_ids.apply(lambda doc_id: d2v_wrapper.get_doc_content(int(doc_id), word_split=True))\n",
    "wrong_docs_len = wrong_docs_wordlist.apply(lambda doc: len(doc))\n",
    "wrong_docs_len.describe()"
   ]
  },
  {
   "cell_type": "code",
   "execution_count": 21,
   "metadata": {
    "collapsed": false
   },
   "outputs": [
    {
     "data": {
      "text/plain": [
       "count    44075.000000\n",
       "mean       131.948338\n",
       "std        436.986583\n",
       "min         10.000000\n",
       "25%         28.000000\n",
       "50%         48.000000\n",
       "75%        117.000000\n",
       "max      56006.000000\n",
       "dtype: float64"
      ]
     },
     "execution_count": 21,
     "metadata": {},
     "output_type": "execute_result"
    }
   ],
   "source": [
    "# correct classification characteristics\n",
    "all_indices = pd.Series(np.arange(len(doc_vectors)))\n",
    "correct_docs =  all_indices[~all_indices.isin(wrong_docs_ids)]\n",
    "# data need to be indexed incrementally for later plotting\n",
    "correct_docs.index=np.arange(len(correct_docs))\n",
    "correct_docs_wordlist = correct_docs.apply(lambda doc_id: d2v_wrapper.get_doc_content(doc_id, word_split=True))\n",
    "correct_docs_len = correct_docs_wordlist.apply(lambda doc: len(doc))\n",
    "\n",
    "correct_docs_len.describe()"
   ]
  },
  {
   "cell_type": "code",
   "execution_count": 22,
   "metadata": {
    "collapsed": false
   },
   "outputs": [
    {
     "data": {
      "image/png": "[encoded data removed]",
      "text/plain": [
       "<matplotlib.figure.Figure at 0x7f232fd64fd0>"
      ]
     },
     "metadata": {},
     "output_type": "display_data"
    }
   ],
   "source": [
    "# missclassified docs length distribution\n",
    "bordering_q = 0.8\n",
    "bordering_q_value = int(wrong_docs_len.quantile(q=bordering_q))\n",
    "plt.hist(wrong_docs_len.values, bins=bordering_q_value+1, range=(0, bordering_q_value), color=\"r\")\n",
    "plt.show()"
   ]
  },
  {
   "cell_type": "code",
   "execution_count": 23,
   "metadata": {
    "collapsed": false
   },
   "outputs": [
    {
     "data": {
      "image/png": "[encoded data removed]",
      "text/plain": [
       "<matplotlib.figure.Figure at 0x7f232eed8f50>"
      ]
     },
     "metadata": {},
     "output_type": "display_data"
    }
   ],
   "source": [
    "# correctly classified length distribution\n",
    "plt.hist(correct_docs_len, bins=bordering_q_value+1, range=(0, bordering_q_value), color=\"g\")\n",
    "plt.show()"
   ]
  },
  {
   "cell_type": "code",
   "execution_count": 24,
   "metadata": {
    "collapsed": false
   },
   "outputs": [
    {
     "data": {
      "text/plain": [
       "<Container object of 105 artists>"
      ]
     },
     "execution_count": 24,
     "metadata": {},
     "output_type": "execute_result"
    },
    {
     "data": {
      "image/png": "[encoded data removed]",
      "text/plain": [
       "<matplotlib.figure.Figure at 0x7f232ec3edd0>"
      ]
     },
     "metadata": {},
     "output_type": "display_data"
    }
   ],
   "source": [
    "# distribution of incorrectly/correctly classified ratio by docs length\n",
    "doc_len_error = (wrong_docs_len.value_counts() / correct_docs_len.value_counts())\n",
    "ploted_doc_len_error = doc_len_error[:bordering_q_value]\n",
    "\n",
    "plt.bar(ploted_doc_len_error.index, ploted_doc_len_error, color=\"y\")"
   ]
  },
  {
   "cell_type": "code",
   "execution_count": 25,
   "metadata": {
    "collapsed": false
   },
   "outputs": [
    {
     "data": {
      "text/plain": [
       "[<matplotlib.lines.Line2D at 0x7f232fcf4ad0>]"
      ]
     },
     "execution_count": 25,
     "metadata": {},
     "output_type": "execute_result"
    },
    {
     "data": {
      "image/png": "[encoded data removed]",
      "text/plain": [
       "<matplotlib.figure.Figure at 0x7f232ed79650>"
      ]
     },
     "metadata": {},
     "output_type": "display_data"
    }
   ],
   "source": [
    "error_plot_border = 350\n",
    "error_ploted = doc_len_error[:error_plot_border]\n",
    "plt.plot(error_ploted.index, error_ploted, color=\"y\")\n",
    "\n",
    "mean_range = 30\n",
    "mean_plot_ids = range(mean_range, error_plot_border+mean_range, mean_range)\n",
    "mean_plot_vals = map(lambda mean_id: error_ploted.iloc[mean_id-5-mean_range: mean_id+5-mean_range].mean(), mean_plot_ids)\n",
    "mean_plot = pd.Series(mean_plot_vals)\n",
    "mean_plot.index = np.array(mean_plot_ids)-mean_range/2\n",
    "plt.plot(mean_plot.index , mean_plot, color=\"g\")"
   ]
  },
  {
   "cell_type": "code",
   "execution_count": 26,
   "metadata": {
    "collapsed": false
   },
   "outputs": [],
   "source": [
    "# docs get associated with its content\n",
    "logits[\"content_len\"] = pd.Series(logits.index).apply(lambda doc_id: \n",
    "                                                len(d2v_wrapper.get_doc_content(int(doc_id), word_split=True))).values\n",
    "logits[\"content\"] = pd.Series(logits.index).apply(lambda doc_id: \n",
    "                                                d2v_wrapper.get_doc_content(int(doc_id), word_split=False)).values"
   ]
  },
  {
   "cell_type": "code",
   "execution_count": 27,
   "metadata": {
    "collapsed": false
   },
   "outputs": [],
   "source": [
    "# assign the textual content to classification logits so we can easily analyze that\n",
    "logits[\"content_len\"] = logits[\"doc_id\"].apply(lambda doc_id: \n",
    "                                               len(d2v_wrapper.get_doc_content(int(doc_id), word_split=True)))\n",
    "logits[\"content\"] = logits[\"doc_id\"].apply(lambda doc_id: \n",
    "                                           d2v_wrapper.get_doc_content(int(doc_id), word_split=False)[:100])"
   ]
  },
  {
   "cell_type": "code",
   "execution_count": 28,
   "metadata": {
    "collapsed": false
   },
   "outputs": [
    {
     "data": {
      "text/plain": [
       "['extra slash appended url proxying eap mod cluster mod proxy proxying mod cluster jboss seeing extra appended contexts try navigate example http example com test end http example com test bug.',\n",
       " 'hello disribution application ejb jee slsbs eap jboss application server applivation ist cluster form nodes need map entries key value key ist user value object new framework infinispan thank.',\n",
       " 'able download ews components rhn red hat support tells support products possible.',\n",
       " 'user jboss fuse configured authentication ldap active directory testing logging login failures user discovered prompted password user authenticated providing password user provided bad password login fails user interactive testing converts bind request anonymous password required user haven read rfc reading user indicates fact correct ldap behavior means fuse block login attempts blank passwords.',\n",
       " 'hello jbds switchyard projects following error message problems tab referenced java interface service orderrepositoryreference specifies operation binding order jpa binding specify use operation selector significative switchyard xml file orderrepository interface follows public interface orderrepository public void persistorder purchaseorderentity purchaseorder specify operation build works outside jbds problem thanks advance nicolas.']"
      ]
     },
     "execution_count": 28,
     "metadata": {},
     "output_type": "execute_result"
    }
   ],
   "source": [
    "# a random sample of missclassified document\n",
    "wrong_docs_ids.apply(lambda doc_id: d2v_wrapper.get_doc_content(int(doc_id), word_split=False))[120:125].tolist()"
   ]
  }
 ],
 "metadata": {
  "kernelspec": {
   "display_name": "Python 2",
   "language": "python",
   "name": "python2"
  },
  "language_info": {
   "codemirror_mode": {
    "name": "ipython",
    "version": 2
   },
   "file_extension": ".py",
   "mimetype": "text/x-python",
   "name": "python",
   "nbconvert_exporter": "python",
   "pygments_lexer": "ipython2",
   "version": "2.7.8"
  }
 },
 "nbformat": 4,
 "nbformat_minor": 0
}
